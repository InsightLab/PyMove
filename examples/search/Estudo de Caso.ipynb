{
 "cells": [
  {
   "cell_type": "markdown",
   "metadata": {},
   "source": [
    "# Pesquisa de Opinião - Estudo de Caso\n",
    "\n",
    "\n",
    "### O que é o PyMove?\n",
    "O **PyMove** é uma biblioteca Python, open-source, que dispõe de operações para lidar com dados de trajetória, indo desde a representação do dado, operações de pré-processamento, modelos e técnicas de visualização.\n",
    "\n",
    "\n",
    "O PyMove **oferece**:\n",
    "- Uma sintaxe familiar e similar ao Pandas;\n",
    "- Documentação clara;\n",
    "- Extensibilidade, visto que pode-se implementar sua estrutura de dados principal manipulando outras estruturas de dados como DataFrame do Dask, arrays numpy e etc, além da adição de novos módulos;\n",
    "- Flexibilidade, visto que o usuário pode alternar entre diferentes estruturas de dados;\n",
    "- Operações para pré-processamento dos dados, mineração de padrões e visualização dos dados.\n",
    "\n",
    "### Antes de tudo, é importante você entender alguns conceitos... \n",
    "- <b>Scikit Mobility</b>: é uma outra biblioteca Python para análise de trajetórias, voltada a análise de mobilidade humana.\n",
    "- <b>Trajetória</b>: é um traço gerado por um objeto em movimento em espaços geográficos,  geralmente representado por uma série de pontos cronologicamente ordenados. Cada ponto consiste em coordenadas geoespaciais (latitude e longitude) e uma marcação de tempo. \n",
    "- <b>Filtragem de ruído</b>: consiste na remoção de dados que sofreram distorção devido aos ruídos, geralmente causada por falha na leitura do sensor de GPS.\n",
    "- <b>Pontos de parada</b>: são pontos em que o usuário permaneceu em um parada, ou ao redor. por um determinado tempo,como uma casa, um mercado\n",
    "- <b>Compressão de trajetória</b>: Consiste em reduzir o tamanho das trajetórias.\n",
    "\n",
    "### Qual o objetivo desse notebook?\n",
    "Esse notebook tem o objetivo de validar a usabilidade do PyMove, através da sua sintaxe e documentação, fazendo uma comparação com o Scikit Mobility, que \n",
    "\n",
    "Para isso, é disposto 6 problemas a seguir, para que você, usuário, possa experimentar o PyMove! No Final, é necessário que você responda esse <b>[formulário](https://forms.gle/n7atgxNsSXJZqkm78)</b>, para nos contar como foi a sua experiência!\n",
    "\n",
    "### Como funciona?\n",
    "Como dito, são dispostos x problemas, variando em:\n",
    "- Uso da estrutura de dados do PyMove, o MoveDataFrame;\n",
    "- Uso de técnicas para realizar o pré-processamento dos dados;\n",
    "- Uso de técnicas para realizar a visualização dos dados.\n",
    "\n",
    "Para cada problema deverá haver 2 soluções: utilizando o PyMove e o Scikit-Mobility. A solução deve ser feita em no <b>MÁXIMO</b> 20 minutos.\n",
    "\n",
    "---\n",
    "\n",
    "\n",
    "### Instalações...\n",
    "\n",
    "1. Crie um ambiente utilizando o conda\n",
    "\n",
    "`conda create -n validacao-pymove`\n",
    "\n",
    "2. Ative o ambiente\n",
    "\n",
    "`conda activate validacao-pymove`\n",
    "\n",
    "#### Usando o PyMove\n",
    "1. Clone o repositório \n",
    "\n",
    "`git clone https://github.com/InsightLab/PyMove`\n",
    "\n",
    "2. Crie a branch developer\n",
    "\n",
    "`git branch developer`\n",
    "\n",
    "3. Mova-se para a branch criada \n",
    "\n",
    "`git checkout developer`\n",
    "\n",
    "4. Puxe todas as alterações dessa branch\n",
    "\n",
    "`git pull origin developer`\n",
    "\n",
    "5. Mude-se para a pasta PyMove\n",
    "\n",
    "`cd PyMove`\n",
    "\n",
    "6. Para usar basta acessar normalmente através de importações! \n",
    "\n",
    "`import pymove`\n",
    "\n",
    "#### Usando o Scikit Mobility\n",
    "1. Clone o repositório \n",
    "\n",
    "`git clone https://github.com/scikit-mobility/scikit-mobility`\n",
    "\n",
    "2. Mude-se para a pasta scikit_mobility \n",
    "\n",
    "`cd scikit_mobility`\n",
    "\n",
    "3. Instale as dependências\n",
    "\n",
    "`python setup.py install`\n",
    "\n",
    "4.  Para usar basta acessar normalmente através de importações!\n",
    "\n",
    "`import skmob`\n",
    "\n",
    "---\n",
    "\n",
    "### Material de consulta\n",
    "* [Notebooks Pymove](https://github.com/InsightLab/PyMove/tree/developer/examples)\n",
    "* [Notebooks scikit-mob](https://github.com/scikit-mobility/scikit-mobility/tree/master/tutorial)\n",
    "\n",
    "---\n",
    "\n",
    "# PROBLEMAS\n",
    "\n",
    "### 00. Importe a biblioteca\n",
    "Neste problema você deve realizar a importação da biblioteca! :)"
   ]
  },
  {
   "cell_type": "code",
   "execution_count": 2,
   "metadata": {},
   "outputs": [],
   "source": [
    "# code PyMove here\n",
    "import pymove"
   ]
  },
  {
   "cell_type": "code",
   "execution_count": null,
   "metadata": {},
   "outputs": [],
   "source": [
    "# code Scikit-Mobility here\n",
    "import skmob"
   ]
  },
  {
   "cell_type": "markdown",
   "metadata": {},
   "source": [
    "### 01. Realize a importação dos dados para a estrutura de dados adequada da biblioteca.\n",
    "Neste problema você deve importar os dados `geolife.csv`. Atente-se aos exemplos demonstrados nos notebooks das duas bibliotecas! :)"
   ]
  },
  {
   "cell_type": "code",
   "execution_count": 5,
   "metadata": {},
   "outputs": [
    {
     "data": {
      "text/html": [
       "<div>\n",
       "<style scoped>\n",
       "    .dataframe tbody tr th:only-of-type {\n",
       "        vertical-align: middle;\n",
       "    }\n",
       "\n",
       "    .dataframe tbody tr th {\n",
       "        vertical-align: top;\n",
       "    }\n",
       "\n",
       "    .dataframe thead th {\n",
       "        text-align: right;\n",
       "    }\n",
       "</style>\n",
       "<table border=\"1\" class=\"dataframe\">\n",
       "  <thead>\n",
       "    <tr style=\"text-align: right;\">\n",
       "      <th></th>\n",
       "      <th>lat</th>\n",
       "      <th>lon</th>\n",
       "      <th>datetime</th>\n",
       "      <th>id</th>\n",
       "    </tr>\n",
       "  </thead>\n",
       "  <tbody>\n",
       "    <tr>\n",
       "      <th>0</th>\n",
       "      <td>39.984094</td>\n",
       "      <td>116.319236</td>\n",
       "      <td>2008-10-23 05:53:05</td>\n",
       "      <td>1</td>\n",
       "    </tr>\n",
       "    <tr>\n",
       "      <th>1</th>\n",
       "      <td>39.984198</td>\n",
       "      <td>116.319322</td>\n",
       "      <td>2008-10-23 05:53:06</td>\n",
       "      <td>1</td>\n",
       "    </tr>\n",
       "    <tr>\n",
       "      <th>2</th>\n",
       "      <td>39.984224</td>\n",
       "      <td>116.319402</td>\n",
       "      <td>2008-10-23 05:53:11</td>\n",
       "      <td>1</td>\n",
       "    </tr>\n",
       "    <tr>\n",
       "      <th>3</th>\n",
       "      <td>39.984211</td>\n",
       "      <td>116.319389</td>\n",
       "      <td>2008-10-23 05:53:16</td>\n",
       "      <td>1</td>\n",
       "    </tr>\n",
       "    <tr>\n",
       "      <th>4</th>\n",
       "      <td>39.984217</td>\n",
       "      <td>116.319422</td>\n",
       "      <td>2008-10-23 05:53:21</td>\n",
       "      <td>1</td>\n",
       "    </tr>\n",
       "  </tbody>\n",
       "</table>\n",
       "</div>"
      ],
      "text/plain": [
       "         lat         lon            datetime  id\n",
       "0  39.984094  116.319236 2008-10-23 05:53:05   1\n",
       "1  39.984198  116.319322 2008-10-23 05:53:06   1\n",
       "2  39.984224  116.319402 2008-10-23 05:53:11   1\n",
       "3  39.984211  116.319389 2008-10-23 05:53:16   1\n",
       "4  39.984217  116.319422 2008-10-23 05:53:21   1"
      ]
     },
     "execution_count": 5,
     "metadata": {},
     "output_type": "execute_result"
    }
   ],
   "source": [
    "# code PyMove here\n",
    "move_df = pymove.read_csv('examples/geolife_sample.csv')\n",
    "move_df.head()"
   ]
  },
  {
   "cell_type": "code",
   "execution_count": null,
   "metadata": {},
   "outputs": [],
   "source": [
    "# code Scikit-Mobility here\n",
    "tdf = skmob.TrajDataFrame.from_file('examples/geolife_sample.txt.gz')"
   ]
  },
  {
   "cell_type": "markdown",
   "metadata": {},
   "source": [
    "### 02. Realize a filtragem de ruído dos dados.\n",
    "Neste problema você deve realizar a técnica de filtrangem de ruído, que é um técnica de pré-processamento. Essa técnica pode possuir diferentes implementações. Como dito, essa técnica consiste na remoção de pontos com distorções e errôneos. Novamente, atente-se aos exemplos demonstrados nos notebooks das duas bibliotecas! :)"
   ]
  },
  {
   "cell_type": "code",
   "execution_count": 6,
   "metadata": {},
   "outputs": [
    {
     "name": "stdout",
     "output_type": "stream",
     "text": [
      "\n",
      "Creating or updating distance features in meters...\n",
      "\n",
      "...Sorting by id and datetime to increase performance\n",
      "\n",
      "...Set id as index to increase attribution performance\n",
      "\n",
      "(217653/217653) 100% in 00:00:00.274 - estimated end in 00:00:00.000\n",
      "...Reset index\n",
      "\n",
      "..Total Time: 0.28879714012145996\n",
      "...Filtring jumps \n",
      "\n"
     ]
    },
    {
     "data": {
      "text/html": [
       "<div>\n",
       "<style scoped>\n",
       "    .dataframe tbody tr th:only-of-type {\n",
       "        vertical-align: middle;\n",
       "    }\n",
       "\n",
       "    .dataframe tbody tr th {\n",
       "        vertical-align: top;\n",
       "    }\n",
       "\n",
       "    .dataframe thead th {\n",
       "        text-align: right;\n",
       "    }\n",
       "</style>\n",
       "<table border=\"1\" class=\"dataframe\">\n",
       "  <thead>\n",
       "    <tr style=\"text-align: right;\">\n",
       "      <th></th>\n",
       "      <th>id</th>\n",
       "      <th>lat</th>\n",
       "      <th>lon</th>\n",
       "      <th>datetime</th>\n",
       "      <th>dist_to_prev</th>\n",
       "      <th>dist_to_next</th>\n",
       "      <th>dist_prev_to_next</th>\n",
       "    </tr>\n",
       "  </thead>\n",
       "  <tbody>\n",
       "    <tr>\n",
       "      <th>148</th>\n",
       "      <td>1</td>\n",
       "      <td>39.970511</td>\n",
       "      <td>116.341455</td>\n",
       "      <td>2008-10-23 10:32:53</td>\n",
       "      <td>1452.319115</td>\n",
       "      <td>1470.641291</td>\n",
       "      <td>71.088460</td>\n",
       "    </tr>\n",
       "    <tr>\n",
       "      <th>338</th>\n",
       "      <td>1</td>\n",
       "      <td>39.995042</td>\n",
       "      <td>116.326465</td>\n",
       "      <td>2008-10-23 10:44:24</td>\n",
       "      <td>10.801860</td>\n",
       "      <td>10.274331</td>\n",
       "      <td>1.465144</td>\n",
       "    </tr>\n",
       "    <tr>\n",
       "      <th>8133</th>\n",
       "      <td>1</td>\n",
       "      <td>39.991075</td>\n",
       "      <td>116.188395</td>\n",
       "      <td>2008-10-25 08:20:19</td>\n",
       "      <td>5.090766</td>\n",
       "      <td>6.247860</td>\n",
       "      <td>1.295191</td>\n",
       "    </tr>\n",
       "    <tr>\n",
       "      <th>10175</th>\n",
       "      <td>1</td>\n",
       "      <td>40.015169</td>\n",
       "      <td>116.311045</td>\n",
       "      <td>2008-10-25 23:40:12</td>\n",
       "      <td>23.454754</td>\n",
       "      <td>24.899678</td>\n",
       "      <td>3.766959</td>\n",
       "    </tr>\n",
       "    <tr>\n",
       "      <th>13849</th>\n",
       "      <td>1</td>\n",
       "      <td>39.977157</td>\n",
       "      <td>116.327151</td>\n",
       "      <td>2008-10-26 08:13:53</td>\n",
       "      <td>11.212682</td>\n",
       "      <td>10.221164</td>\n",
       "      <td>1.004375</td>\n",
       "    </tr>\n",
       "    <tr>\n",
       "      <th>...</th>\n",
       "      <td>...</td>\n",
       "      <td>...</td>\n",
       "      <td>...</td>\n",
       "      <td>...</td>\n",
       "      <td>...</td>\n",
       "      <td>...</td>\n",
       "      <td>...</td>\n",
       "    </tr>\n",
       "    <tr>\n",
       "      <th>216877</th>\n",
       "      <td>5</td>\n",
       "      <td>39.992096</td>\n",
       "      <td>116.329136</td>\n",
       "      <td>2009-03-12 15:57:42</td>\n",
       "      <td>7.035981</td>\n",
       "      <td>6.182086</td>\n",
       "      <td>1.909349</td>\n",
       "    </tr>\n",
       "    <tr>\n",
       "      <th>216927</th>\n",
       "      <td>5</td>\n",
       "      <td>39.998061</td>\n",
       "      <td>116.326402</td>\n",
       "      <td>2009-03-12 16:02:17</td>\n",
       "      <td>16.758753</td>\n",
       "      <td>19.151449</td>\n",
       "      <td>4.051863</td>\n",
       "    </tr>\n",
       "    <tr>\n",
       "      <th>217456</th>\n",
       "      <td>5</td>\n",
       "      <td>40.001983</td>\n",
       "      <td>116.328414</td>\n",
       "      <td>2009-03-19 04:35:52</td>\n",
       "      <td>179.564668</td>\n",
       "      <td>191.030434</td>\n",
       "      <td>15.276237</td>\n",
       "    </tr>\n",
       "    <tr>\n",
       "      <th>217465</th>\n",
       "      <td>5</td>\n",
       "      <td>40.001433</td>\n",
       "      <td>116.321387</td>\n",
       "      <td>2009-03-19 04:41:02</td>\n",
       "      <td>77.928727</td>\n",
       "      <td>75.686512</td>\n",
       "      <td>16.676141</td>\n",
       "    </tr>\n",
       "    <tr>\n",
       "      <th>217479</th>\n",
       "      <td>5</td>\n",
       "      <td>40.003626</td>\n",
       "      <td>116.317695</td>\n",
       "      <td>2009-03-19 05:02:52</td>\n",
       "      <td>9.725231</td>\n",
       "      <td>7.573682</td>\n",
       "      <td>2.463175</td>\n",
       "    </tr>\n",
       "  </tbody>\n",
       "</table>\n",
       "<p>383 rows × 7 columns</p>\n",
       "</div>"
      ],
      "text/plain": [
       "        id        lat         lon            datetime  dist_to_prev  \\\n",
       "148      1  39.970511  116.341455 2008-10-23 10:32:53   1452.319115   \n",
       "338      1  39.995042  116.326465 2008-10-23 10:44:24     10.801860   \n",
       "8133     1  39.991075  116.188395 2008-10-25 08:20:19      5.090766   \n",
       "10175    1  40.015169  116.311045 2008-10-25 23:40:12     23.454754   \n",
       "13849    1  39.977157  116.327151 2008-10-26 08:13:53     11.212682   \n",
       "...     ..        ...         ...                 ...           ...   \n",
       "216877   5  39.992096  116.329136 2009-03-12 15:57:42      7.035981   \n",
       "216927   5  39.998061  116.326402 2009-03-12 16:02:17     16.758753   \n",
       "217456   5  40.001983  116.328414 2009-03-19 04:35:52    179.564668   \n",
       "217465   5  40.001433  116.321387 2009-03-19 04:41:02     77.928727   \n",
       "217479   5  40.003626  116.317695 2009-03-19 05:02:52      9.725231   \n",
       "\n",
       "        dist_to_next  dist_prev_to_next  \n",
       "148      1470.641291          71.088460  \n",
       "338        10.274331           1.465144  \n",
       "8133        6.247860           1.295191  \n",
       "10175      24.899678           3.766959  \n",
       "13849      10.221164           1.004375  \n",
       "...              ...                ...  \n",
       "216877      6.182086           1.909349  \n",
       "216927     19.151449           4.051863  \n",
       "217456    191.030434          15.276237  \n",
       "217465     75.686512          16.676141  \n",
       "217479      7.573682           2.463175  \n",
       "\n",
       "[383 rows x 7 columns]"
      ]
     },
     "execution_count": 6,
     "metadata": {},
     "output_type": "execute_result"
    }
   ],
   "source": [
    "# code PyMove here\n",
    "pymove.filters.outliers(move_df)"
   ]
  },
  {
   "cell_type": "code",
   "execution_count": null,
   "metadata": {},
   "outputs": [],
   "source": [
    "# code Scikit-Mobility here\n",
    "tdf = skmob.TrajDataFrame.from_file('examples/geolife_sample.txt.gz')"
   ]
  },
  {
   "cell_type": "markdown",
   "metadata": {},
   "source": [
    "### 03. Realize a detecção de pontos de parada\n",
    "Neste problema você deve realizar a detecção de pontos de parada. Essa técnica, como dito acima, consiste em detectar pontos em que o usuário permaneceu em um local (não necessariamente com a mesma latitude e longitude) por um determinado tempo,como uma casa, um mercado. Novamente, essa técnica pode possuir diferentes implementações. Atente-se aos exemplos demonstrados nos notebooks das duas bibliotecas! :)"
   ]
  },
  {
   "cell_type": "code",
   "execution_count": 3,
   "metadata": {},
   "outputs": [],
   "source": [
    "# code PyMove here\n",
    "pymove.filters.outliers(move_df)"
   ]
  },
  {
   "cell_type": "code",
   "execution_count": null,
   "metadata": {},
   "outputs": [],
   "source": [
    "# code Scikit-Mobility here\n",
    "from skmob.preprocessing import filtering\n",
    "ftdf = filtering.filter(tdf, max_speed_kmh=500)"
   ]
  },
  {
   "cell_type": "markdown",
   "metadata": {},
   "source": [
    "### 04. Realize a compressão da tajetória\n",
    "Neste problema você deve realizar a compressão da trajetória. Atente-se aos exemplos demonstrados nos notebooks das duas bibliotecas! :)"
   ]
  },
  {
   "cell_type": "code",
   "execution_count": null,
   "metadata": {},
   "outputs": [],
   "source": [
    "# code PyMove here\n",
    "pymove.compression.compress_segment_stop_to_point(move_df)"
   ]
  },
  {
   "cell_type": "code",
   "execution_count": null,
   "metadata": {},
   "outputs": [],
   "source": [
    "# code Scikit-Mobility here \n",
    "from skmob.preprocessing import compression\n",
    "ctdf = compression.compress(ftdf, spatial_radius_km=0.2)"
   ]
  },
  {
   "cell_type": "markdown",
   "metadata": {},
   "source": [
    "### 05. Realize a visualização de todas as trajetórias\n",
    "Neste problema você deve realizar plotar todos os dados de trajetória, ligados por um linha. Atente-se aos exemplos demonstrados nos notebooks das duas bibliotecas! :)"
   ]
  },
  {
   "cell_type": "code",
   "execution_count": null,
   "metadata": {},
   "outputs": [],
   "source": [
    "# code PyMove here"
   ]
  },
  {
   "cell_type": "code",
   "execution_count": null,
   "metadata": {},
   "outputs": [],
   "source": [
    "# code Scikit-Mobility here\n",
    "map_f = tdf.plot_trajectory(max_users=1, hex_color=’#000000’)\n",
    "map_f"
   ]
  },
  {
   "cell_type": "markdown",
   "metadata": {},
   "source": [
    "### 0.6 Realize a visualização das rotas com maior fluxo.\n",
    "Neste problema você deve realizar uma visualização que permita identificar quais os caminhos que possuem um maior fluxo. Atente-se aos exemplos demonstrados nos notebooks das duas bibliotecas! "
   ]
  },
  {
   "cell_type": "code",
   "execution_count": 5,
   "metadata": {},
   "outputs": [],
   "source": [
    "# code PyMove here"
   ]
  },
  {
   "cell_type": "code",
   "execution_count": null,
   "metadata": {},
   "outputs": [],
   "source": [
    "# code Scikit-Mobility here"
   ]
  },
  {
   "cell_type": "markdown",
   "metadata": {},
   "source": [
    "### 07. Realize a visualização das informações das trajetórias pelo tempo\n",
    "Neste problema você deve realizar uma visualização que permita visualizar os dados de trajetória e movimento de um objeto pelo tempo (seja pelos dias, períodos do dia ou etc). Atente-se aos exemplos demonstrados nos notebooks das duas bibliotecas! "
   ]
  },
  {
   "cell_type": "code",
   "execution_count": 6,
   "metadata": {},
   "outputs": [],
   "source": [
    "# code PyMove here"
   ]
  },
  {
   "cell_type": "code",
   "execution_count": null,
   "metadata": {},
   "outputs": [],
   "source": [
    "# code Scikit-Mobility here"
   ]
  }
 ],
 "metadata": {
  "kernelspec": {
   "display_name": "Python 3",
   "language": "python",
   "name": "python3"
  },
  "language_info": {
   "codemirror_mode": {
    "name": "ipython",
    "version": 3
   },
   "file_extension": ".py",
   "mimetype": "text/x-python",
   "name": "python",
   "nbconvert_exporter": "python",
   "pygments_lexer": "ipython3",
   "version": "3.7.4"
  }
 },
 "nbformat": 4,
 "nbformat_minor": 2
}
