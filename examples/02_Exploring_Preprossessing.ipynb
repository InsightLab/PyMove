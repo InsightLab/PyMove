{
 "cells": [
  {
   "cell_type": "markdown",
   "metadata": {},
   "source": [
    "# 02 - Exploring Preprocessing"
   ]
  },
  {
   "cell_type": "markdown",
   "metadata": {},
   "source": [
    "Data preprocessing is a set of activities performed to prepare data for future analysis and data mining activities."
   ]
  },
  {
   "cell_type": "markdown",
   "metadata": {},
   "source": [
    "## Load data from file"
   ]
  },
  {
   "cell_type": "markdown",
   "metadata": {},
   "source": [
    "The dataset used in this tutorial is GeoLife GPS Trajectories. Available in https://www.microsoft.com/en-us/download/details.aspx?id=52367"
   ]
  },
  {
   "cell_type": "code",
   "execution_count": 1,
   "metadata": {},
   "outputs": [],
   "source": [
    "import pandas as pd\n",
    "import numpy as np\n",
    "from pymove import MoveDataFrame\n",
    "from pymove import read_csv"
   ]
  },
  {
   "cell_type": "code",
   "execution_count": 2,
   "metadata": {},
   "outputs": [
    {
     "data": {
      "text/html": "<div>\n<style scoped>\n    .dataframe tbody tr th:only-of-type {\n        vertical-align: middle;\n    }\n\n    .dataframe tbody tr th {\n        vertical-align: top;\n    }\n\n    .dataframe thead th {\n        text-align: right;\n    }\n</style>\n<table border=\"1\" class=\"dataframe\">\n  <thead>\n    <tr style=\"text-align: right;\">\n      <th></th>\n      <th>lat</th>\n      <th>lon</th>\n      <th>datetime</th>\n      <th>id</th>\n    </tr>\n  </thead>\n  <tbody>\n    <tr>\n      <th>0</th>\n      <td>39.984094</td>\n      <td>116.319236</td>\n      <td>2008-10-23 05:53:05</td>\n      <td>1</td>\n    </tr>\n    <tr>\n      <th>1</th>\n      <td>39.984198</td>\n      <td>116.319322</td>\n      <td>2008-10-23 05:53:06</td>\n      <td>1</td>\n    </tr>\n    <tr>\n      <th>2</th>\n      <td>39.984224</td>\n      <td>116.319402</td>\n      <td>2008-10-23 05:53:11</td>\n      <td>1</td>\n    </tr>\n    <tr>\n      <th>3</th>\n      <td>39.984211</td>\n      <td>116.319389</td>\n      <td>2008-10-23 05:53:16</td>\n      <td>1</td>\n    </tr>\n    <tr>\n      <th>4</th>\n      <td>39.984217</td>\n      <td>116.319422</td>\n      <td>2008-10-23 05:53:21</td>\n      <td>1</td>\n    </tr>\n  </tbody>\n</table>\n</div>",
      "text/plain": "         lat         lon            datetime  id\n0  39.984094  116.319236 2008-10-23 05:53:05   1\n1  39.984198  116.319322 2008-10-23 05:53:06   1\n2  39.984224  116.319402 2008-10-23 05:53:11   1\n3  39.984211  116.319389 2008-10-23 05:53:16   1\n4  39.984217  116.319422 2008-10-23 05:53:21   1"
     },
     "execution_count": 2,
     "metadata": {},
     "output_type": "execute_result"
    }
   ],
   "source": [
    "df = pd.read_csv('geolife_sample.csv', parse_dates=['datetime'])\n",
    "df.head()"
   ]
  },
  {
   "cell_type": "code",
   "execution_count": 3,
   "metadata": {},
   "outputs": [],
   "source": [
    "df_move = MoveDataFrame(df, latitude=\"lat\", longitude=\"lon\", datetime=\"datetime\")"
   ]
  },
  {
   "cell_type": "code",
   "execution_count": 4,
   "metadata": {},
   "outputs": [
    {
     "name": "stdout",
     "output_type": "stream",
     "text": [
      "\n",
      "====================== INFORMATION ABOUT DATASET ======================\n",
      "\n",
      "Number of Points: 217653\n",
      "\n",
      "Number of IDs objects: 2\n",
      "\n",
      "Start Date:2008-10-23 05:53:05     End Date:2009-03-19 05:46:37\n",
      "\n",
      "Bounding Box:(22.147577, 113.548843, 41.132062, 121.156224)\n",
      "\n",
      "\n",
      "=======================================================================\n",
      "\n"
     ]
    }
   ],
   "source": [
    "df_move.show_trajectories_info()"
   ]
  },
  {
   "cell_type": "markdown",
   "metadata": {},
   "source": [
    "## Filtering"
   ]
  },
  {
   "cell_type": "markdown",
   "metadata": {},
   "source": [
    "The filters module provides functions to perform different types of data filtering."
   ]
  },
  {
   "cell_type": "markdown",
   "metadata": {},
   "source": [
    "Importing the module:"
   ]
  },
  {
   "cell_type": "code",
   "execution_count": 5,
   "metadata": {},
   "outputs": [],
   "source": [
    "from pymove import filters\n",
    "df_move = read_csv('geolife_sample.csv')"
   ]
  },
  {
   "cell_type": "markdown",
   "metadata": {},
   "source": [
    "A bounding box (usually shortened to bbox) is an area defined by two longitudes and two latitudes. The function by_bbox, filters points of the trajectories according to a especified bounding box."
   ]
  },
  {
   "cell_type": "code",
   "execution_count": 6,
   "metadata": {},
   "outputs": [
    {
     "data": {
      "text/html": "<div>\n<style scoped>\n    .dataframe tbody tr th:only-of-type {\n        vertical-align: middle;\n    }\n\n    .dataframe tbody tr th {\n        vertical-align: top;\n    }\n\n    .dataframe thead th {\n        text-align: right;\n    }\n</style>\n<table border=\"1\" class=\"dataframe\">\n  <thead>\n    <tr style=\"text-align: right;\">\n      <th></th>\n      <th>lat</th>\n      <th>lon</th>\n      <th>datetime</th>\n      <th>id</th>\n    </tr>\n  </thead>\n  <tbody>\n    <tr>\n      <th>0</th>\n      <td>39.984094</td>\n      <td>116.319236</td>\n      <td>2008-10-23 05:53:05</td>\n      <td>1</td>\n    </tr>\n    <tr>\n      <th>1</th>\n      <td>39.984198</td>\n      <td>116.319322</td>\n      <td>2008-10-23 05:53:06</td>\n      <td>1</td>\n    </tr>\n    <tr>\n      <th>2</th>\n      <td>39.984224</td>\n      <td>116.319402</td>\n      <td>2008-10-23 05:53:11</td>\n      <td>1</td>\n    </tr>\n    <tr>\n      <th>3</th>\n      <td>39.984211</td>\n      <td>116.319389</td>\n      <td>2008-10-23 05:53:16</td>\n      <td>1</td>\n    </tr>\n    <tr>\n      <th>4</th>\n      <td>39.984217</td>\n      <td>116.319422</td>\n      <td>2008-10-23 05:53:21</td>\n      <td>1</td>\n    </tr>\n  </tbody>\n</table>\n</div>",
      "text/plain": "         lat         lon            datetime  id\n0  39.984094  116.319236 2008-10-23 05:53:05   1\n1  39.984198  116.319322 2008-10-23 05:53:06   1\n2  39.984224  116.319402 2008-10-23 05:53:11   1\n3  39.984211  116.319389 2008-10-23 05:53:16   1\n4  39.984217  116.319422 2008-10-23 05:53:21   1"
     },
     "execution_count": 6,
     "metadata": {},
     "output_type": "execute_result"
    }
   ],
   "source": [
    "bbox = (22.147577, 113.54884299999999, 41.132062, 121.156224)\n",
    "filt_df = filters.by_bbox(df_move, bbox)\n",
    "filt_df.head()"
   ]
  },
  {
   "cell_type": "markdown",
   "metadata": {},
   "source": [
    "by_datetime function filters point trajectories according to the time specified by the parameters: start_datetime and end_datetime."
   ]
  },
  {
   "cell_type": "code",
   "execution_count": 7,
   "metadata": {},
   "outputs": [
    {
     "data": {
      "text/html": "<div>\n<style scoped>\n    .dataframe tbody tr th:only-of-type {\n        vertical-align: middle;\n    }\n\n    .dataframe tbody tr th {\n        vertical-align: top;\n    }\n\n    .dataframe thead th {\n        text-align: right;\n    }\n</style>\n<table border=\"1\" class=\"dataframe\">\n  <thead>\n    <tr style=\"text-align: right;\">\n      <th></th>\n      <th>lat</th>\n      <th>lon</th>\n      <th>datetime</th>\n      <th>id</th>\n    </tr>\n  </thead>\n  <tbody>\n    <tr>\n      <th>217643</th>\n      <td>40.000205</td>\n      <td>116.327173</td>\n      <td>2009-03-19 05:45:37</td>\n      <td>5</td>\n    </tr>\n    <tr>\n      <th>217644</th>\n      <td>40.000128</td>\n      <td>116.327171</td>\n      <td>2009-03-19 05:45:42</td>\n      <td>5</td>\n    </tr>\n    <tr>\n      <th>217645</th>\n      <td>40.000069</td>\n      <td>116.327179</td>\n      <td>2009-03-19 05:45:47</td>\n      <td>5</td>\n    </tr>\n    <tr>\n      <th>217646</th>\n      <td>40.000001</td>\n      <td>116.327219</td>\n      <td>2009-03-19 05:45:52</td>\n      <td>5</td>\n    </tr>\n    <tr>\n      <th>217647</th>\n      <td>39.999919</td>\n      <td>116.327211</td>\n      <td>2009-03-19 05:45:57</td>\n      <td>5</td>\n    </tr>\n    <tr>\n      <th>217648</th>\n      <td>39.999896</td>\n      <td>116.327290</td>\n      <td>2009-03-19 05:46:02</td>\n      <td>5</td>\n    </tr>\n    <tr>\n      <th>217649</th>\n      <td>39.999899</td>\n      <td>116.327352</td>\n      <td>2009-03-19 05:46:07</td>\n      <td>5</td>\n    </tr>\n    <tr>\n      <th>217650</th>\n      <td>39.999945</td>\n      <td>116.327394</td>\n      <td>2009-03-19 05:46:12</td>\n      <td>5</td>\n    </tr>\n    <tr>\n      <th>217651</th>\n      <td>40.000015</td>\n      <td>116.327433</td>\n      <td>2009-03-19 05:46:17</td>\n      <td>5</td>\n    </tr>\n  </tbody>\n</table>\n</div>",
      "text/plain": "              lat         lon            datetime  id\n217643  40.000205  116.327173 2009-03-19 05:45:37   5\n217644  40.000128  116.327171 2009-03-19 05:45:42   5\n217645  40.000069  116.327179 2009-03-19 05:45:47   5\n217646  40.000001  116.327219 2009-03-19 05:45:52   5\n217647  39.999919  116.327211 2009-03-19 05:45:57   5\n217648  39.999896  116.327290 2009-03-19 05:46:02   5\n217649  39.999899  116.327352 2009-03-19 05:46:07   5\n217650  39.999945  116.327394 2009-03-19 05:46:12   5\n217651  40.000015  116.327433 2009-03-19 05:46:17   5"
     },
     "execution_count": 7,
     "metadata": {},
     "output_type": "execute_result"
    }
   ],
   "source": [
    "filters.by_datetime(df_move, start_datetime = \"2009-03-19 05:45:37\", end_datetime = \"2009-03-19 05:46:17\")"
   ]
  },
  {
   "cell_type": "markdown",
   "metadata": {},
   "source": [
    "by label function filters trajectories points according to specified value and column label, set by value and label_name respectively."
   ]
  },
  {
   "cell_type": "code",
   "execution_count": 8,
   "metadata": {},
   "outputs": [
    {
     "data": {
      "text/html": "<div>\n<style scoped>\n    .dataframe tbody tr th:only-of-type {\n        vertical-align: middle;\n    }\n\n    .dataframe tbody tr th {\n        vertical-align: top;\n    }\n\n    .dataframe thead th {\n        text-align: right;\n    }\n</style>\n<table border=\"1\" class=\"dataframe\">\n  <thead>\n    <tr style=\"text-align: right;\">\n      <th></th>\n      <th>lat</th>\n      <th>lon</th>\n      <th>datetime</th>\n      <th>id</th>\n    </tr>\n  </thead>\n  <tbody>\n    <tr>\n      <th>3066</th>\n      <td>39.979160</td>\n      <td>116.327219</td>\n      <td>2008-10-24 06:34:27</td>\n      <td>1</td>\n    </tr>\n    <tr>\n      <th>13911</th>\n      <td>39.975424</td>\n      <td>116.327219</td>\n      <td>2008-10-26 08:18:06</td>\n      <td>1</td>\n    </tr>\n    <tr>\n      <th>16396</th>\n      <td>39.980411</td>\n      <td>116.327219</td>\n      <td>2008-10-27 00:30:47</td>\n      <td>1</td>\n    </tr>\n    <tr>\n      <th>33935</th>\n      <td>39.975832</td>\n      <td>116.327219</td>\n      <td>2008-11-05 11:04:04</td>\n      <td>1</td>\n    </tr>\n    <tr>\n      <th>41636</th>\n      <td>39.976990</td>\n      <td>116.327219</td>\n      <td>2008-11-07 10:34:41</td>\n      <td>1</td>\n    </tr>\n  </tbody>\n</table>\n</div>",
      "text/plain": "             lat         lon            datetime  id\n3066   39.979160  116.327219 2008-10-24 06:34:27   1\n13911  39.975424  116.327219 2008-10-26 08:18:06   1\n16396  39.980411  116.327219 2008-10-27 00:30:47   1\n33935  39.975832  116.327219 2008-11-05 11:04:04   1\n41636  39.976990  116.327219 2008-11-07 10:34:41   1"
     },
     "execution_count": 8,
     "metadata": {},
     "output_type": "execute_result"
    }
   ],
   "source": [
    "filters.by_label(df_move, value = 116.327219, label_name = \"lon\").head()"
   ]
  },
  {
   "cell_type": "markdown",
   "metadata": {},
   "source": [
    "by_id function filters trajectories points according to especified trajectory id."
   ]
  },
  {
   "cell_type": "code",
   "execution_count": 9,
   "metadata": {},
   "outputs": [
    {
     "data": {
      "text/html": "<div>\n<style scoped>\n    .dataframe tbody tr th:only-of-type {\n        vertical-align: middle;\n    }\n\n    .dataframe tbody tr th {\n        vertical-align: top;\n    }\n\n    .dataframe thead th {\n        text-align: right;\n    }\n</style>\n<table border=\"1\" class=\"dataframe\">\n  <thead>\n    <tr style=\"text-align: right;\">\n      <th></th>\n      <th>lat</th>\n      <th>lon</th>\n      <th>datetime</th>\n      <th>id</th>\n    </tr>\n  </thead>\n  <tbody>\n    <tr>\n      <th>108607</th>\n      <td>40.004155</td>\n      <td>116.321337</td>\n      <td>2008-10-24 04:12:30</td>\n      <td>5</td>\n    </tr>\n    <tr>\n      <th>108608</th>\n      <td>40.003834</td>\n      <td>116.321462</td>\n      <td>2008-10-24 04:12:35</td>\n      <td>5</td>\n    </tr>\n    <tr>\n      <th>108609</th>\n      <td>40.003783</td>\n      <td>116.321431</td>\n      <td>2008-10-24 04:12:40</td>\n      <td>5</td>\n    </tr>\n    <tr>\n      <th>108610</th>\n      <td>40.003690</td>\n      <td>116.321429</td>\n      <td>2008-10-24 04:12:45</td>\n      <td>5</td>\n    </tr>\n    <tr>\n      <th>108611</th>\n      <td>40.003589</td>\n      <td>116.321427</td>\n      <td>2008-10-24 04:12:50</td>\n      <td>5</td>\n    </tr>\n  </tbody>\n</table>\n</div>",
      "text/plain": "              lat         lon            datetime  id\n108607  40.004155  116.321337 2008-10-24 04:12:30   5\n108608  40.003834  116.321462 2008-10-24 04:12:35   5\n108609  40.003783  116.321431 2008-10-24 04:12:40   5\n108610  40.003690  116.321429 2008-10-24 04:12:45   5\n108611  40.003589  116.321427 2008-10-24 04:12:50   5"
     },
     "execution_count": 9,
     "metadata": {},
     "output_type": "execute_result"
    }
   ],
   "source": [
    "filters.by_id(df_move, id_=5).head()"
   ]
  },
  {
   "cell_type": "markdown",
   "metadata": {},
   "source": [
    "A tid is the result of concatenation between the id and date of a trajectory.\n",
    "The by_tid function filters trajectory points according to the tid specified by the tid_ parameter."
   ]
  },
  {
   "cell_type": "code",
   "execution_count": 10,
   "metadata": {},
   "outputs": [
    {
     "name": "stdout",
     "output_type": "stream",
     "text": [
      "\n",
      "Creating or updating tid feature...\n",
      "\n",
      "...Sorting by id and datetime to increase performance\n",
      "\n",
      "\n",
      "...tid feature was created...\n",
      "\n"
     ]
    },
    {
     "data": {
      "text/html": "<div>\n<style scoped>\n    .dataframe tbody tr th:only-of-type {\n        vertical-align: middle;\n    }\n\n    .dataframe tbody tr th {\n        vertical-align: top;\n    }\n\n    .dataframe thead th {\n        text-align: right;\n    }\n</style>\n<table border=\"1\" class=\"dataframe\">\n  <thead>\n    <tr style=\"text-align: right;\">\n      <th></th>\n      <th>lat</th>\n      <th>lon</th>\n      <th>datetime</th>\n      <th>id</th>\n      <th>tid</th>\n    </tr>\n  </thead>\n  <tbody>\n    <tr>\n      <th>0</th>\n      <td>39.984094</td>\n      <td>116.319236</td>\n      <td>2008-10-23 05:53:05</td>\n      <td>1</td>\n      <td>12008102305</td>\n    </tr>\n    <tr>\n      <th>1</th>\n      <td>39.984198</td>\n      <td>116.319322</td>\n      <td>2008-10-23 05:53:06</td>\n      <td>1</td>\n      <td>12008102305</td>\n    </tr>\n    <tr>\n      <th>2</th>\n      <td>39.984224</td>\n      <td>116.319402</td>\n      <td>2008-10-23 05:53:11</td>\n      <td>1</td>\n      <td>12008102305</td>\n    </tr>\n    <tr>\n      <th>3</th>\n      <td>39.984211</td>\n      <td>116.319389</td>\n      <td>2008-10-23 05:53:16</td>\n      <td>1</td>\n      <td>12008102305</td>\n    </tr>\n    <tr>\n      <th>4</th>\n      <td>39.984217</td>\n      <td>116.319422</td>\n      <td>2008-10-23 05:53:21</td>\n      <td>1</td>\n      <td>12008102305</td>\n    </tr>\n  </tbody>\n</table>\n</div>",
      "text/plain": "         lat         lon            datetime  id          tid\n0  39.984094  116.319236 2008-10-23 05:53:05   1  12008102305\n1  39.984198  116.319322 2008-10-23 05:53:06   1  12008102305\n2  39.984224  116.319402 2008-10-23 05:53:11   1  12008102305\n3  39.984211  116.319389 2008-10-23 05:53:16   1  12008102305\n4  39.984217  116.319422 2008-10-23 05:53:21   1  12008102305"
     },
     "execution_count": 10,
     "metadata": {},
     "output_type": "execute_result"
    }
   ],
   "source": [
    "df_move.generate_tid_based_on_id_datetime()\n",
    "filters.by_tid(df_move, \"12008102305\").head()"
   ]
  },
  {
   "cell_type": "markdown",
   "metadata": {},
   "source": [
    "outliers function filters trajectories points that are outliers."
   ]
  },
  {
   "cell_type": "code",
   "execution_count": 11,
   "metadata": {},
   "outputs": [
    {
     "name": "stdout",
     "output_type": "stream",
     "text": [
      "...Sorting by id and datetime to increase performance\n",
      "\n",
      "...Set id as index to a higher performance\n",
      "\n",
      "\n",
      "Creating or updating distance features in meters...\n",
      "\n"
     ]
    },
    {
     "data": {
      "application/vnd.jupyter.widget-view+json": {
       "model_id": "bcbc5e2b32b84d8b8962e77c91ec3ef4",
       "version_major": 2,
       "version_minor": 0
      },
      "text/plain": "VBox(children=(HTML(value=''), IntProgress(value=0, max=2)))"
     },
     "metadata": {},
     "output_type": "display_data"
    },
    {
     "name": "stdout",
     "output_type": "stream",
     "text": [
      "...Reset index...\n",
      "\n",
      "...Filtering jumps \n",
      "\n"
     ]
    },
    {
     "data": {
      "text/html": "<div>\n<style scoped>\n    .dataframe tbody tr th:only-of-type {\n        vertical-align: middle;\n    }\n\n    .dataframe tbody tr th {\n        vertical-align: top;\n    }\n\n    .dataframe thead th {\n        text-align: right;\n    }\n</style>\n<table border=\"1\" class=\"dataframe\">\n  <thead>\n    <tr style=\"text-align: right;\">\n      <th></th>\n      <th>id</th>\n      <th>lat</th>\n      <th>lon</th>\n      <th>datetime</th>\n      <th>tid</th>\n      <th>dist_to_prev</th>\n      <th>dist_to_next</th>\n      <th>dist_prev_to_next</th>\n    </tr>\n  </thead>\n  <tbody>\n    <tr>\n      <th>148</th>\n      <td>1</td>\n      <td>39.970511</td>\n      <td>116.341455</td>\n      <td>2008-10-23 10:32:53</td>\n      <td>12008102310</td>\n      <td>1452.319115</td>\n      <td>1470.641291</td>\n      <td>71.088460</td>\n    </tr>\n    <tr>\n      <th>338</th>\n      <td>1</td>\n      <td>39.995042</td>\n      <td>116.326465</td>\n      <td>2008-10-23 10:44:24</td>\n      <td>12008102310</td>\n      <td>10.801860</td>\n      <td>10.274331</td>\n      <td>1.465144</td>\n    </tr>\n    <tr>\n      <th>8133</th>\n      <td>1</td>\n      <td>39.991075</td>\n      <td>116.188395</td>\n      <td>2008-10-25 08:20:19</td>\n      <td>12008102508</td>\n      <td>5.090766</td>\n      <td>6.247860</td>\n      <td>1.295191</td>\n    </tr>\n    <tr>\n      <th>10175</th>\n      <td>1</td>\n      <td>40.015169</td>\n      <td>116.311045</td>\n      <td>2008-10-25 23:40:12</td>\n      <td>12008102523</td>\n      <td>23.454754</td>\n      <td>24.899678</td>\n      <td>3.766959</td>\n    </tr>\n    <tr>\n      <th>13849</th>\n      <td>1</td>\n      <td>39.977157</td>\n      <td>116.327151</td>\n      <td>2008-10-26 08:13:53</td>\n      <td>12008102608</td>\n      <td>11.212682</td>\n      <td>10.221164</td>\n      <td>1.004375</td>\n    </tr>\n  </tbody>\n</table>\n</div>",
      "text/plain": "       id        lat         lon            datetime          tid  \\\n148     1  39.970511  116.341455 2008-10-23 10:32:53  12008102310   \n338     1  39.995042  116.326465 2008-10-23 10:44:24  12008102310   \n8133    1  39.991075  116.188395 2008-10-25 08:20:19  12008102508   \n10175   1  40.015169  116.311045 2008-10-25 23:40:12  12008102523   \n13849   1  39.977157  116.327151 2008-10-26 08:13:53  12008102608   \n\n       dist_to_prev  dist_to_next  dist_prev_to_next  \n148     1452.319115   1470.641291          71.088460  \n338       10.801860     10.274331           1.465144  \n8133       5.090766      6.247860           1.295191  \n10175     23.454754     24.899678           3.766959  \n13849     11.212682     10.221164           1.004375  "
     },
     "execution_count": 11,
     "metadata": {},
     "output_type": "execute_result"
    }
   ],
   "source": [
    "outliers_points = filters.outliers(df_move)\n",
    "outliers_points.head()"
   ]
  },
  {
   "cell_type": "markdown",
   "metadata": {},
   "source": [
    "clean_consecutive_duplicates function removes consecutives duplicate rows of the Dataframe. Optionally only certaind columns can be consider, this is defined by the parameter subset, in this example only the lat column is considered."
   ]
  },
  {
   "cell_type": "code",
   "execution_count": 12,
   "metadata": {},
   "outputs": [
    {
     "data": {
      "text/plain": "196142"
     },
     "execution_count": 12,
     "metadata": {},
     "output_type": "execute_result"
    }
   ],
   "source": [
    "filtered_df = filters.clean_consecutive_duplicates(df_move, subset = [\"lat\"])\n",
    "len(filtered_df)"
   ]
  },
  {
   "cell_type": "markdown",
   "metadata": {},
   "source": [
    "clean_nan_values function removes missing values from the dataframe."
   ]
  },
  {
   "cell_type": "markdown",
   "metadata": {},
   "source": [
    "clean_gps_jumps_by_distance function removes from the dataframe the trajectories points that are outliers."
   ]
  },
  {
   "cell_type": "code",
   "execution_count": 13,
   "metadata": {},
   "outputs": [
    {
     "name": "stdout",
     "output_type": "stream",
     "text": [
      "\n",
      "Cleaning gps jumps by distance to jump_coefficient 3.0...\n",
      "\n",
      "...Filtering jumps \n",
      "\n",
      "...Dropping 383 rows of gps points\n",
      "\n",
      "...Rows before: 217653, Rows after:217270, Sum drop:383\n",
      "\n",
      "...Filtering jumps \n",
      "\n",
      "383 GPS points were dropped\n"
     ]
    },
    {
     "data": {
      "text/html": "<div>\n<style scoped>\n    .dataframe tbody tr th:only-of-type {\n        vertical-align: middle;\n    }\n\n    .dataframe tbody tr th {\n        vertical-align: top;\n    }\n\n    .dataframe thead th {\n        text-align: right;\n    }\n</style>\n<table border=\"1\" class=\"dataframe\">\n  <thead>\n    <tr style=\"text-align: right;\">\n      <th></th>\n      <th>id</th>\n      <th>lat</th>\n      <th>lon</th>\n      <th>datetime</th>\n      <th>tid</th>\n      <th>dist_to_prev</th>\n      <th>dist_to_next</th>\n      <th>dist_prev_to_next</th>\n    </tr>\n  </thead>\n  <tbody>\n    <tr>\n      <th>0</th>\n      <td>1</td>\n      <td>39.984094</td>\n      <td>116.319236</td>\n      <td>2008-10-23 05:53:05</td>\n      <td>12008102305</td>\n      <td>NaN</td>\n      <td>13.690153</td>\n      <td>NaN</td>\n    </tr>\n    <tr>\n      <th>1</th>\n      <td>1</td>\n      <td>39.984198</td>\n      <td>116.319322</td>\n      <td>2008-10-23 05:53:06</td>\n      <td>12008102305</td>\n      <td>13.690153</td>\n      <td>7.403788</td>\n      <td>20.223428</td>\n    </tr>\n    <tr>\n      <th>2</th>\n      <td>1</td>\n      <td>39.984224</td>\n      <td>116.319402</td>\n      <td>2008-10-23 05:53:11</td>\n      <td>12008102305</td>\n      <td>7.403788</td>\n      <td>1.821083</td>\n      <td>5.888579</td>\n    </tr>\n    <tr>\n      <th>3</th>\n      <td>1</td>\n      <td>39.984211</td>\n      <td>116.319389</td>\n      <td>2008-10-23 05:53:16</td>\n      <td>12008102305</td>\n      <td>1.821083</td>\n      <td>2.889671</td>\n      <td>1.873356</td>\n    </tr>\n    <tr>\n      <th>4</th>\n      <td>1</td>\n      <td>39.984217</td>\n      <td>116.319422</td>\n      <td>2008-10-23 05:53:21</td>\n      <td>12008102305</td>\n      <td>2.889671</td>\n      <td>66.555997</td>\n      <td>68.727260</td>\n    </tr>\n    <tr>\n      <th>...</th>\n      <td>...</td>\n      <td>...</td>\n      <td>...</td>\n      <td>...</td>\n      <td>...</td>\n      <td>...</td>\n      <td>...</td>\n      <td>...</td>\n    </tr>\n    <tr>\n      <th>217648</th>\n      <td>5</td>\n      <td>39.999896</td>\n      <td>116.327290</td>\n      <td>2009-03-19 05:46:02</td>\n      <td>52009031905</td>\n      <td>7.198855</td>\n      <td>5.291709</td>\n      <td>12.214590</td>\n    </tr>\n    <tr>\n      <th>217649</th>\n      <td>5</td>\n      <td>39.999899</td>\n      <td>116.327352</td>\n      <td>2009-03-19 05:46:07</td>\n      <td>52009031905</td>\n      <td>5.291709</td>\n      <td>6.241949</td>\n      <td>10.400206</td>\n    </tr>\n    <tr>\n      <th>217650</th>\n      <td>5</td>\n      <td>39.999945</td>\n      <td>116.327394</td>\n      <td>2009-03-19 05:46:12</td>\n      <td>52009031905</td>\n      <td>6.241949</td>\n      <td>8.462920</td>\n      <td>14.628012</td>\n    </tr>\n    <tr>\n      <th>217651</th>\n      <td>5</td>\n      <td>40.000015</td>\n      <td>116.327433</td>\n      <td>2009-03-19 05:46:17</td>\n      <td>52009031905</td>\n      <td>8.462920</td>\n      <td>4.713399</td>\n      <td>6.713456</td>\n    </tr>\n    <tr>\n      <th>217652</th>\n      <td>5</td>\n      <td>39.999978</td>\n      <td>116.327460</td>\n      <td>2009-03-19 05:46:37</td>\n      <td>52009031905</td>\n      <td>4.713399</td>\n      <td>NaN</td>\n      <td>NaN</td>\n    </tr>\n  </tbody>\n</table>\n<p>217270 rows × 8 columns</p>\n</div>",
      "text/plain": "        id        lat         lon            datetime          tid  \\\n0        1  39.984094  116.319236 2008-10-23 05:53:05  12008102305   \n1        1  39.984198  116.319322 2008-10-23 05:53:06  12008102305   \n2        1  39.984224  116.319402 2008-10-23 05:53:11  12008102305   \n3        1  39.984211  116.319389 2008-10-23 05:53:16  12008102305   \n4        1  39.984217  116.319422 2008-10-23 05:53:21  12008102305   \n...     ..        ...         ...                 ...          ...   \n217648   5  39.999896  116.327290 2009-03-19 05:46:02  52009031905   \n217649   5  39.999899  116.327352 2009-03-19 05:46:07  52009031905   \n217650   5  39.999945  116.327394 2009-03-19 05:46:12  52009031905   \n217651   5  40.000015  116.327433 2009-03-19 05:46:17  52009031905   \n217652   5  39.999978  116.327460 2009-03-19 05:46:37  52009031905   \n\n        dist_to_prev  dist_to_next  dist_prev_to_next  \n0                NaN     13.690153                NaN  \n1          13.690153      7.403788          20.223428  \n2           7.403788      1.821083           5.888579  \n3           1.821083      2.889671           1.873356  \n4           2.889671     66.555997          68.727260  \n...              ...           ...                ...  \n217648      7.198855      5.291709          12.214590  \n217649      5.291709      6.241949          10.400206  \n217650      6.241949      8.462920          14.628012  \n217651      8.462920      4.713399           6.713456  \n217652      4.713399           NaN                NaN  \n\n[217270 rows x 8 columns]"
     },
     "execution_count": 13,
     "metadata": {},
     "output_type": "execute_result"
    }
   ],
   "source": [
    "filters.clean_gps_jumps_by_distance(df_move)"
   ]
  },
  {
   "cell_type": "markdown",
   "metadata": {},
   "source": [
    "clean_gps_nearby_points_by_distances function removes points from the trajectories when the distance between them and the point before is smaller than the parameter radius_area."
   ]
  },
  {
   "cell_type": "code",
   "execution_count": 14,
   "metadata": {},
   "outputs": [
    {
     "name": "stdout",
     "output_type": "stream",
     "text": [
      "\n",
      "Cleaning gps points from radius of 10 meters\n",
      "\n",
      "...Dropping 137684 rows of gps points\n",
      "\n",
      "...Rows before: 217653, Rows after:79969, Sum drop:137684\n",
      "\n",
      "137684 GPS points were dropped\n"
     ]
    },
    {
     "data": {
      "text/html": "<div>\n<style scoped>\n    .dataframe tbody tr th:only-of-type {\n        vertical-align: middle;\n    }\n\n    .dataframe tbody tr th {\n        vertical-align: top;\n    }\n\n    .dataframe thead th {\n        text-align: right;\n    }\n</style>\n<table border=\"1\" class=\"dataframe\">\n  <thead>\n    <tr style=\"text-align: right;\">\n      <th></th>\n      <th>id</th>\n      <th>lat</th>\n      <th>lon</th>\n      <th>datetime</th>\n      <th>tid</th>\n      <th>dist_to_prev</th>\n      <th>dist_to_next</th>\n      <th>dist_prev_to_next</th>\n    </tr>\n  </thead>\n  <tbody>\n    <tr>\n      <th>0</th>\n      <td>1</td>\n      <td>39.984094</td>\n      <td>116.319236</td>\n      <td>2008-10-23 05:53:05</td>\n      <td>12008102305</td>\n      <td>NaN</td>\n      <td>13.690153</td>\n      <td>NaN</td>\n    </tr>\n    <tr>\n      <th>1</th>\n      <td>1</td>\n      <td>39.984198</td>\n      <td>116.319322</td>\n      <td>2008-10-23 05:53:06</td>\n      <td>12008102305</td>\n      <td>13.690153</td>\n      <td>7.403788</td>\n      <td>20.223428</td>\n    </tr>\n    <tr>\n      <th>5</th>\n      <td>1</td>\n      <td>39.984710</td>\n      <td>116.319865</td>\n      <td>2008-10-23 05:53:23</td>\n      <td>12008102305</td>\n      <td>66.555997</td>\n      <td>6.162987</td>\n      <td>60.622358</td>\n    </tr>\n    <tr>\n      <th>14</th>\n      <td>1</td>\n      <td>39.984959</td>\n      <td>116.319969</td>\n      <td>2008-10-23 05:54:03</td>\n      <td>12008102305</td>\n      <td>40.672170</td>\n      <td>11.324767</td>\n      <td>51.291054</td>\n    </tr>\n    <tr>\n      <th>15</th>\n      <td>1</td>\n      <td>39.985036</td>\n      <td>116.320056</td>\n      <td>2008-10-23 05:54:04</td>\n      <td>12008102305</td>\n      <td>11.324767</td>\n      <td>32.842422</td>\n      <td>24.923216</td>\n    </tr>\n    <tr>\n      <th>...</th>\n      <td>...</td>\n      <td>...</td>\n      <td>...</td>\n      <td>...</td>\n      <td>...</td>\n      <td>...</td>\n      <td>...</td>\n      <td>...</td>\n    </tr>\n    <tr>\n      <th>217563</th>\n      <td>5</td>\n      <td>40.001185</td>\n      <td>116.321791</td>\n      <td>2009-03-19 05:39:02</td>\n      <td>52009031905</td>\n      <td>11.604029</td>\n      <td>6.915583</td>\n      <td>17.245027</td>\n    </tr>\n    <tr>\n      <th>217637</th>\n      <td>5</td>\n      <td>40.000759</td>\n      <td>116.327088</td>\n      <td>2009-03-19 05:45:07</td>\n      <td>52009031905</td>\n      <td>28.946922</td>\n      <td>18.331999</td>\n      <td>47.148573</td>\n    </tr>\n    <tr>\n      <th>217638</th>\n      <td>5</td>\n      <td>40.000595</td>\n      <td>116.327066</td>\n      <td>2009-03-19 05:45:12</td>\n      <td>52009031905</td>\n      <td>18.331999</td>\n      <td>9.926875</td>\n      <td>27.905967</td>\n    </tr>\n    <tr>\n      <th>217641</th>\n      <td>5</td>\n      <td>40.000368</td>\n      <td>116.327072</td>\n      <td>2009-03-19 05:45:27</td>\n      <td>52009031905</td>\n      <td>10.877438</td>\n      <td>8.887992</td>\n      <td>19.705708</td>\n    </tr>\n    <tr>\n      <th>217643</th>\n      <td>5</td>\n      <td>40.000205</td>\n      <td>116.327173</td>\n      <td>2009-03-19 05:45:37</td>\n      <td>52009031905</td>\n      <td>11.406650</td>\n      <td>8.563704</td>\n      <td>19.107146</td>\n    </tr>\n  </tbody>\n</table>\n<p>79969 rows × 8 columns</p>\n</div>",
      "text/plain": "        id        lat         lon            datetime          tid  \\\n0        1  39.984094  116.319236 2008-10-23 05:53:05  12008102305   \n1        1  39.984198  116.319322 2008-10-23 05:53:06  12008102305   \n5        1  39.984710  116.319865 2008-10-23 05:53:23  12008102305   \n14       1  39.984959  116.319969 2008-10-23 05:54:03  12008102305   \n15       1  39.985036  116.320056 2008-10-23 05:54:04  12008102305   \n...     ..        ...         ...                 ...          ...   \n217563   5  40.001185  116.321791 2009-03-19 05:39:02  52009031905   \n217637   5  40.000759  116.327088 2009-03-19 05:45:07  52009031905   \n217638   5  40.000595  116.327066 2009-03-19 05:45:12  52009031905   \n217641   5  40.000368  116.327072 2009-03-19 05:45:27  52009031905   \n217643   5  40.000205  116.327173 2009-03-19 05:45:37  52009031905   \n\n        dist_to_prev  dist_to_next  dist_prev_to_next  \n0                NaN     13.690153                NaN  \n1          13.690153      7.403788          20.223428  \n5          66.555997      6.162987          60.622358  \n14         40.672170     11.324767          51.291054  \n15         11.324767     32.842422          24.923216  \n...              ...           ...                ...  \n217563     11.604029      6.915583          17.245027  \n217637     28.946922     18.331999          47.148573  \n217638     18.331999      9.926875          27.905967  \n217641     10.877438      8.887992          19.705708  \n217643     11.406650      8.563704          19.107146  \n\n[79969 rows x 8 columns]"
     },
     "execution_count": 14,
     "metadata": {},
     "output_type": "execute_result"
    }
   ],
   "source": [
    "filters.clean_gps_nearby_points_by_distances(df_move, radius_area = 10)"
   ]
  },
  {
   "cell_type": "markdown",
   "metadata": {},
   "source": [
    "clean_gps_nearby_points_by_speed function removes points from the trajectories when the speed of travel between them\n",
    "and the point before is smaller than the value set by the parameter speed_radius."
   ]
  },
  {
   "cell_type": "code",
   "execution_count": 15,
   "metadata": {},
   "outputs": [
    {
     "name": "stdout",
     "output_type": "stream",
     "text": [
      "...Sorting by id and datetime to increase performance\n",
      "\n",
      "...Set id as index to a higher performance\n",
      "\n",
      "\n",
      "Creating or updating distance, time and speed features in meters by seconds\n",
      "\n"
     ]
    },
    {
     "data": {
      "application/vnd.jupyter.widget-view+json": {
       "model_id": "98985ec22dce4800bbaa1b0bc6e19572",
       "version_major": 2,
       "version_minor": 0
      },
      "text/plain": "VBox(children=(HTML(value=''), IntProgress(value=0, max=2)))"
     },
     "metadata": {},
     "output_type": "display_data"
    },
    {
     "name": "stdout",
     "output_type": "stream",
     "text": [
      "...Reset index...\n",
      "\n",
      "\n",
      "Cleaning gps points using 40.0 speed radius\n",
      "\n",
      "...Dropping 217372 rows of gps points\n",
      "\n",
      "...Rows before: 217653, Rows after:281, Sum drop:217372\n",
      "\n",
      "217372 GPS points were dropped\n"
     ]
    },
    {
     "data": {
      "text/html": "<div>\n<style scoped>\n    .dataframe tbody tr th:only-of-type {\n        vertical-align: middle;\n    }\n\n    .dataframe tbody tr th {\n        vertical-align: top;\n    }\n\n    .dataframe thead th {\n        text-align: right;\n    }\n</style>\n<table border=\"1\" class=\"dataframe\">\n  <thead>\n    <tr style=\"text-align: right;\">\n      <th></th>\n      <th>id</th>\n      <th>lat</th>\n      <th>lon</th>\n      <th>datetime</th>\n      <th>tid</th>\n      <th>dist_to_prev</th>\n      <th>dist_to_next</th>\n      <th>dist_prev_to_next</th>\n      <th>time_to_prev</th>\n      <th>speed_to_prev</th>\n    </tr>\n  </thead>\n  <tbody>\n    <tr>\n      <th>0</th>\n      <td>1</td>\n      <td>39.984094</td>\n      <td>116.319236</td>\n      <td>2008-10-23 05:53:05</td>\n      <td>12008102305</td>\n      <td>NaN</td>\n      <td>13.690153</td>\n      <td>NaN</td>\n      <td>NaN</td>\n      <td>NaN</td>\n    </tr>\n    <tr>\n      <th>149</th>\n      <td>1</td>\n      <td>39.977648</td>\n      <td>116.326925</td>\n      <td>2008-10-23 10:33:00</td>\n      <td>12008102310</td>\n      <td>1470.641291</td>\n      <td>6.919839</td>\n      <td>1467.436502</td>\n      <td>7.0</td>\n      <td>210.091613</td>\n    </tr>\n    <tr>\n      <th>560</th>\n      <td>1</td>\n      <td>40.009802</td>\n      <td>116.313247</td>\n      <td>2008-10-23 10:56:54</td>\n      <td>12008102310</td>\n      <td>47.020950</td>\n      <td>65.222058</td>\n      <td>112.001912</td>\n      <td>1.0</td>\n      <td>47.020950</td>\n    </tr>\n    <tr>\n      <th>561</th>\n      <td>1</td>\n      <td>40.009262</td>\n      <td>116.312948</td>\n      <td>2008-10-23 10:56:55</td>\n      <td>12008102310</td>\n      <td>65.222058</td>\n      <td>35.598360</td>\n      <td>100.606304</td>\n      <td>1.0</td>\n      <td>65.222058</td>\n    </tr>\n    <tr>\n      <th>1369</th>\n      <td>1</td>\n      <td>39.990659</td>\n      <td>116.326345</td>\n      <td>2008-10-24 00:04:29</td>\n      <td>12008102400</td>\n      <td>40.942759</td>\n      <td>42.052617</td>\n      <td>82.726749</td>\n      <td>1.0</td>\n      <td>40.942759</td>\n    </tr>\n    <tr>\n      <th>...</th>\n      <td>...</td>\n      <td>...</td>\n      <td>...</td>\n      <td>...</td>\n      <td>...</td>\n      <td>...</td>\n      <td>...</td>\n      <td>...</td>\n      <td>...</td>\n      <td>...</td>\n    </tr>\n    <tr>\n      <th>216382</th>\n      <td>5</td>\n      <td>40.000185</td>\n      <td>116.327286</td>\n      <td>2009-02-28 03:52:45</td>\n      <td>52009022803</td>\n      <td>333.656648</td>\n      <td>28.500246</td>\n      <td>361.959915</td>\n      <td>5.0</td>\n      <td>66.731330</td>\n    </tr>\n    <tr>\n      <th>217458</th>\n      <td>5</td>\n      <td>39.999918</td>\n      <td>116.320057</td>\n      <td>2009-03-19 04:36:02</td>\n      <td>52009031904</td>\n      <td>556.947064</td>\n      <td>264.212540</td>\n      <td>820.900139</td>\n      <td>5.0</td>\n      <td>111.389413</td>\n    </tr>\n    <tr>\n      <th>217459</th>\n      <td>5</td>\n      <td>39.999077</td>\n      <td>116.317156</td>\n      <td>2009-03-19 04:36:07</td>\n      <td>52009031904</td>\n      <td>264.212540</td>\n      <td>85.254214</td>\n      <td>218.221539</td>\n      <td>5.0</td>\n      <td>52.842508</td>\n    </tr>\n    <tr>\n      <th>217463</th>\n      <td>5</td>\n      <td>40.001122</td>\n      <td>116.320879</td>\n      <td>2009-03-19 04:40:52</td>\n      <td>52009031904</td>\n      <td>267.350055</td>\n      <td>127.347571</td>\n      <td>394.695354</td>\n      <td>5.0</td>\n      <td>53.470011</td>\n    </tr>\n    <tr>\n      <th>217476</th>\n      <td>5</td>\n      <td>40.005903</td>\n      <td>116.318669</td>\n      <td>2009-03-19 04:49:47</td>\n      <td>52009031904</td>\n      <td>436.405009</td>\n      <td>119.920027</td>\n      <td>555.775352</td>\n      <td>5.0</td>\n      <td>87.281002</td>\n    </tr>\n  </tbody>\n</table>\n<p>281 rows × 10 columns</p>\n</div>",
      "text/plain": "        id        lat         lon            datetime          tid  \\\n0        1  39.984094  116.319236 2008-10-23 05:53:05  12008102305   \n149      1  39.977648  116.326925 2008-10-23 10:33:00  12008102310   \n560      1  40.009802  116.313247 2008-10-23 10:56:54  12008102310   \n561      1  40.009262  116.312948 2008-10-23 10:56:55  12008102310   \n1369     1  39.990659  116.326345 2008-10-24 00:04:29  12008102400   \n...     ..        ...         ...                 ...          ...   \n216382   5  40.000185  116.327286 2009-02-28 03:52:45  52009022803   \n217458   5  39.999918  116.320057 2009-03-19 04:36:02  52009031904   \n217459   5  39.999077  116.317156 2009-03-19 04:36:07  52009031904   \n217463   5  40.001122  116.320879 2009-03-19 04:40:52  52009031904   \n217476   5  40.005903  116.318669 2009-03-19 04:49:47  52009031904   \n\n        dist_to_prev  dist_to_next  dist_prev_to_next  time_to_prev  \\\n0                NaN     13.690153                NaN           NaN   \n149      1470.641291      6.919839        1467.436502           7.0   \n560        47.020950     65.222058         112.001912           1.0   \n561        65.222058     35.598360         100.606304           1.0   \n1369       40.942759     42.052617          82.726749           1.0   \n...              ...           ...                ...           ...   \n216382    333.656648     28.500246         361.959915           5.0   \n217458    556.947064    264.212540         820.900139           5.0   \n217459    264.212540     85.254214         218.221539           5.0   \n217463    267.350055    127.347571         394.695354           5.0   \n217476    436.405009    119.920027         555.775352           5.0   \n\n        speed_to_prev  \n0                 NaN  \n149        210.091613  \n560         47.020950  \n561         65.222058  \n1369        40.942759  \n...               ...  \n216382      66.731330  \n217458     111.389413  \n217459      52.842508  \n217463      53.470011  \n217476      87.281002  \n\n[281 rows x 10 columns]"
     },
     "execution_count": 15,
     "metadata": {},
     "output_type": "execute_result"
    }
   ],
   "source": [
    "filters.clean_gps_nearby_points_by_speed(df_move, speed_radius=40.0)"
   ]
  },
  {
   "cell_type": "markdown",
   "metadata": {},
   "source": [
    "clean_gps_speed_max_radius function recursively removes trajectories points with speed higher than the value especifeid by the user.\n",
    "    Given any point p of the trajectory, the point will be removed if one of the following happens:\n",
    "    if the travel speed from the point before p to p is greater than the  max value of speed between adjacent\n",
    "    points set by the user. Or the travel speed between point p and the next point is greater than the value set by\n",
    "    the user. When the clening is done, the function will update the time and distance features in the dataframe and\n",
    "    will call itself again.\n",
    "    The function will finish processing when it can no longer find points disrespecting the limit of speed."
   ]
  },
  {
   "cell_type": "code",
   "execution_count": 16,
   "metadata": {},
   "outputs": [
    {
     "name": "stdout",
     "output_type": "stream",
     "text": [
      "...Sorting by id and datetime to increase performance\n",
      "\n",
      "...Set id as index to a higher performance\n",
      "\n",
      "\n",
      "Creating or updating distance, time and speed features in meters by seconds\n",
      "\n"
     ]
    },
    {
     "data": {
      "application/vnd.jupyter.widget-view+json": {
       "model_id": "02907ad00a8c4b87ad4b558728ef1bdd",
       "version_major": 2,
       "version_minor": 0
      },
      "text/plain": "VBox(children=(HTML(value=''), IntProgress(value=0, max=2)))"
     },
     "metadata": {},
     "output_type": "display_data"
    },
    {
     "name": "stdout",
     "output_type": "stream",
     "text": [
      "...Reset index...\n",
      "\n",
      "\n",
      "Clean gps points with speed max > 50.0 meters by seconds\n",
      "...Dropping 349 rows of gps points\n",
      "\n",
      "...Rows before: 217653, Rows after:217304, Sum drop:349\n",
      "\n",
      "349 GPS points were dropped\n"
     ]
    },
    {
     "data": {
      "text/html": "<div>\n<style scoped>\n    .dataframe tbody tr th:only-of-type {\n        vertical-align: middle;\n    }\n\n    .dataframe tbody tr th {\n        vertical-align: top;\n    }\n\n    .dataframe thead th {\n        text-align: right;\n    }\n</style>\n<table border=\"1\" class=\"dataframe\">\n  <thead>\n    <tr style=\"text-align: right;\">\n      <th></th>\n      <th>id</th>\n      <th>lat</th>\n      <th>lon</th>\n      <th>datetime</th>\n      <th>tid</th>\n      <th>dist_to_prev</th>\n      <th>dist_to_next</th>\n      <th>dist_prev_to_next</th>\n      <th>time_to_prev</th>\n      <th>speed_to_prev</th>\n    </tr>\n  </thead>\n  <tbody>\n    <tr>\n      <th>0</th>\n      <td>1</td>\n      <td>39.984094</td>\n      <td>116.319236</td>\n      <td>2008-10-23 05:53:05</td>\n      <td>12008102305</td>\n      <td>NaN</td>\n      <td>13.690153</td>\n      <td>NaN</td>\n      <td>NaN</td>\n      <td>NaN</td>\n    </tr>\n    <tr>\n      <th>1</th>\n      <td>1</td>\n      <td>39.984198</td>\n      <td>116.319322</td>\n      <td>2008-10-23 05:53:06</td>\n      <td>12008102305</td>\n      <td>13.690153</td>\n      <td>7.403788</td>\n      <td>20.223428</td>\n      <td>1.0</td>\n      <td>13.690153</td>\n    </tr>\n    <tr>\n      <th>2</th>\n      <td>1</td>\n      <td>39.984224</td>\n      <td>116.319402</td>\n      <td>2008-10-23 05:53:11</td>\n      <td>12008102305</td>\n      <td>7.403788</td>\n      <td>1.821083</td>\n      <td>5.888579</td>\n      <td>5.0</td>\n      <td>1.480758</td>\n    </tr>\n    <tr>\n      <th>3</th>\n      <td>1</td>\n      <td>39.984211</td>\n      <td>116.319389</td>\n      <td>2008-10-23 05:53:16</td>\n      <td>12008102305</td>\n      <td>1.821083</td>\n      <td>2.889671</td>\n      <td>1.873356</td>\n      <td>5.0</td>\n      <td>0.364217</td>\n    </tr>\n    <tr>\n      <th>4</th>\n      <td>1</td>\n      <td>39.984217</td>\n      <td>116.319422</td>\n      <td>2008-10-23 05:53:21</td>\n      <td>12008102305</td>\n      <td>2.889671</td>\n      <td>66.555997</td>\n      <td>68.727260</td>\n      <td>5.0</td>\n      <td>0.577934</td>\n    </tr>\n    <tr>\n      <th>...</th>\n      <td>...</td>\n      <td>...</td>\n      <td>...</td>\n      <td>...</td>\n      <td>...</td>\n      <td>...</td>\n      <td>...</td>\n      <td>...</td>\n      <td>...</td>\n      <td>...</td>\n    </tr>\n    <tr>\n      <th>217648</th>\n      <td>5</td>\n      <td>39.999896</td>\n      <td>116.327290</td>\n      <td>2009-03-19 05:46:02</td>\n      <td>52009031905</td>\n      <td>7.198855</td>\n      <td>5.291709</td>\n      <td>12.214590</td>\n      <td>5.0</td>\n      <td>1.439771</td>\n    </tr>\n    <tr>\n      <th>217649</th>\n      <td>5</td>\n      <td>39.999899</td>\n      <td>116.327352</td>\n      <td>2009-03-19 05:46:07</td>\n      <td>52009031905</td>\n      <td>5.291709</td>\n      <td>6.241949</td>\n      <td>10.400206</td>\n      <td>5.0</td>\n      <td>1.058342</td>\n    </tr>\n    <tr>\n      <th>217650</th>\n      <td>5</td>\n      <td>39.999945</td>\n      <td>116.327394</td>\n      <td>2009-03-19 05:46:12</td>\n      <td>52009031905</td>\n      <td>6.241949</td>\n      <td>8.462920</td>\n      <td>14.628012</td>\n      <td>5.0</td>\n      <td>1.248390</td>\n    </tr>\n    <tr>\n      <th>217651</th>\n      <td>5</td>\n      <td>40.000015</td>\n      <td>116.327433</td>\n      <td>2009-03-19 05:46:17</td>\n      <td>52009031905</td>\n      <td>8.462920</td>\n      <td>4.713399</td>\n      <td>6.713456</td>\n      <td>5.0</td>\n      <td>1.692584</td>\n    </tr>\n    <tr>\n      <th>217652</th>\n      <td>5</td>\n      <td>39.999978</td>\n      <td>116.327460</td>\n      <td>2009-03-19 05:46:37</td>\n      <td>52009031905</td>\n      <td>4.713399</td>\n      <td>NaN</td>\n      <td>NaN</td>\n      <td>20.0</td>\n      <td>0.235670</td>\n    </tr>\n  </tbody>\n</table>\n<p>217304 rows × 10 columns</p>\n</div>",
      "text/plain": "        id        lat         lon            datetime          tid  \\\n0        1  39.984094  116.319236 2008-10-23 05:53:05  12008102305   \n1        1  39.984198  116.319322 2008-10-23 05:53:06  12008102305   \n2        1  39.984224  116.319402 2008-10-23 05:53:11  12008102305   \n3        1  39.984211  116.319389 2008-10-23 05:53:16  12008102305   \n4        1  39.984217  116.319422 2008-10-23 05:53:21  12008102305   \n...     ..        ...         ...                 ...          ...   \n217648   5  39.999896  116.327290 2009-03-19 05:46:02  52009031905   \n217649   5  39.999899  116.327352 2009-03-19 05:46:07  52009031905   \n217650   5  39.999945  116.327394 2009-03-19 05:46:12  52009031905   \n217651   5  40.000015  116.327433 2009-03-19 05:46:17  52009031905   \n217652   5  39.999978  116.327460 2009-03-19 05:46:37  52009031905   \n\n        dist_to_prev  dist_to_next  dist_prev_to_next  time_to_prev  \\\n0                NaN     13.690153                NaN           NaN   \n1          13.690153      7.403788          20.223428           1.0   \n2           7.403788      1.821083           5.888579           5.0   \n3           1.821083      2.889671           1.873356           5.0   \n4           2.889671     66.555997          68.727260           5.0   \n...              ...           ...                ...           ...   \n217648      7.198855      5.291709          12.214590           5.0   \n217649      5.291709      6.241949          10.400206           5.0   \n217650      6.241949      8.462920          14.628012           5.0   \n217651      8.462920      4.713399           6.713456           5.0   \n217652      4.713399           NaN                NaN          20.0   \n\n        speed_to_prev  \n0                 NaN  \n1           13.690153  \n2            1.480758  \n3            0.364217  \n4            0.577934  \n...               ...  \n217648       1.439771  \n217649       1.058342  \n217650       1.248390  \n217651       1.692584  \n217652       0.235670  \n\n[217304 rows x 10 columns]"
     },
     "execution_count": 16,
     "metadata": {},
     "output_type": "execute_result"
    }
   ],
   "source": [
    "filters.clean_gps_speed_max_radius(df_move)"
   ]
  },
  {
   "cell_type": "markdown",
   "metadata": {},
   "source": [
    "clean_trajectories_with_few_points function removes from the given dataframe, trajectories with fewer points than was specified by the parameter min_points_per_trajectory."
   ]
  },
  {
   "cell_type": "code",
   "execution_count": 17,
   "metadata": {},
   "outputs": [
    {
     "name": "stdout",
     "output_type": "stream",
     "text": [
      "\n",
      "Cleaning gps points from trajectories of fewer than 2 points\n",
      "\n",
      "\n",
      "...There are 4 ids with few points\n",
      "\n",
      "...Tids before drop: 625\n",
      "\n",
      "...Tids after drop: 621\n",
      "\n",
      "...Shape - before drop: (217653, 8) - after drop: (217649, 8)\n"
     ]
    },
    {
     "data": {
      "text/html": "<div>\n<style scoped>\n    .dataframe tbody tr th:only-of-type {\n        vertical-align: middle;\n    }\n\n    .dataframe tbody tr th {\n        vertical-align: top;\n    }\n\n    .dataframe thead th {\n        text-align: right;\n    }\n</style>\n<table border=\"1\" class=\"dataframe\">\n  <thead>\n    <tr style=\"text-align: right;\">\n      <th></th>\n      <th>id</th>\n      <th>lat</th>\n      <th>lon</th>\n      <th>datetime</th>\n      <th>tid</th>\n      <th>dist_to_prev</th>\n      <th>dist_to_next</th>\n      <th>dist_prev_to_next</th>\n    </tr>\n  </thead>\n  <tbody>\n    <tr>\n      <th>0</th>\n      <td>1</td>\n      <td>39.984094</td>\n      <td>116.319236</td>\n      <td>2008-10-23 05:53:05</td>\n      <td>12008102305</td>\n      <td>NaN</td>\n      <td>13.690153</td>\n      <td>NaN</td>\n    </tr>\n    <tr>\n      <th>1</th>\n      <td>1</td>\n      <td>39.984198</td>\n      <td>116.319322</td>\n      <td>2008-10-23 05:53:06</td>\n      <td>12008102305</td>\n      <td>13.690153</td>\n      <td>7.403788</td>\n      <td>20.223428</td>\n    </tr>\n    <tr>\n      <th>2</th>\n      <td>1</td>\n      <td>39.984224</td>\n      <td>116.319402</td>\n      <td>2008-10-23 05:53:11</td>\n      <td>12008102305</td>\n      <td>7.403788</td>\n      <td>1.821083</td>\n      <td>5.888579</td>\n    </tr>\n    <tr>\n      <th>3</th>\n      <td>1</td>\n      <td>39.984211</td>\n      <td>116.319389</td>\n      <td>2008-10-23 05:53:16</td>\n      <td>12008102305</td>\n      <td>1.821083</td>\n      <td>2.889671</td>\n      <td>1.873356</td>\n    </tr>\n    <tr>\n      <th>4</th>\n      <td>1</td>\n      <td>39.984217</td>\n      <td>116.319422</td>\n      <td>2008-10-23 05:53:21</td>\n      <td>12008102305</td>\n      <td>2.889671</td>\n      <td>66.555997</td>\n      <td>68.727260</td>\n    </tr>\n    <tr>\n      <th>...</th>\n      <td>...</td>\n      <td>...</td>\n      <td>...</td>\n      <td>...</td>\n      <td>...</td>\n      <td>...</td>\n      <td>...</td>\n      <td>...</td>\n    </tr>\n    <tr>\n      <th>217648</th>\n      <td>5</td>\n      <td>39.999896</td>\n      <td>116.327290</td>\n      <td>2009-03-19 05:46:02</td>\n      <td>52009031905</td>\n      <td>7.198855</td>\n      <td>5.291709</td>\n      <td>12.214590</td>\n    </tr>\n    <tr>\n      <th>217649</th>\n      <td>5</td>\n      <td>39.999899</td>\n      <td>116.327352</td>\n      <td>2009-03-19 05:46:07</td>\n      <td>52009031905</td>\n      <td>5.291709</td>\n      <td>6.241949</td>\n      <td>10.400206</td>\n    </tr>\n    <tr>\n      <th>217650</th>\n      <td>5</td>\n      <td>39.999945</td>\n      <td>116.327394</td>\n      <td>2009-03-19 05:46:12</td>\n      <td>52009031905</td>\n      <td>6.241949</td>\n      <td>8.462920</td>\n      <td>14.628012</td>\n    </tr>\n    <tr>\n      <th>217651</th>\n      <td>5</td>\n      <td>40.000015</td>\n      <td>116.327433</td>\n      <td>2009-03-19 05:46:17</td>\n      <td>52009031905</td>\n      <td>8.462920</td>\n      <td>4.713399</td>\n      <td>6.713456</td>\n    </tr>\n    <tr>\n      <th>217652</th>\n      <td>5</td>\n      <td>39.999978</td>\n      <td>116.327460</td>\n      <td>2009-03-19 05:46:37</td>\n      <td>52009031905</td>\n      <td>4.713399</td>\n      <td>NaN</td>\n      <td>NaN</td>\n    </tr>\n  </tbody>\n</table>\n<p>217649 rows × 8 columns</p>\n</div>",
      "text/plain": "        id        lat         lon            datetime          tid  \\\n0        1  39.984094  116.319236 2008-10-23 05:53:05  12008102305   \n1        1  39.984198  116.319322 2008-10-23 05:53:06  12008102305   \n2        1  39.984224  116.319402 2008-10-23 05:53:11  12008102305   \n3        1  39.984211  116.319389 2008-10-23 05:53:16  12008102305   \n4        1  39.984217  116.319422 2008-10-23 05:53:21  12008102305   \n...     ..        ...         ...                 ...          ...   \n217648   5  39.999896  116.327290 2009-03-19 05:46:02  52009031905   \n217649   5  39.999899  116.327352 2009-03-19 05:46:07  52009031905   \n217650   5  39.999945  116.327394 2009-03-19 05:46:12  52009031905   \n217651   5  40.000015  116.327433 2009-03-19 05:46:17  52009031905   \n217652   5  39.999978  116.327460 2009-03-19 05:46:37  52009031905   \n\n        dist_to_prev  dist_to_next  dist_prev_to_next  \n0                NaN     13.690153                NaN  \n1          13.690153      7.403788          20.223428  \n2           7.403788      1.821083           5.888579  \n3           1.821083      2.889671           1.873356  \n4           2.889671     66.555997          68.727260  \n...              ...           ...                ...  \n217648      7.198855      5.291709          12.214590  \n217649      5.291709      6.241949          10.400206  \n217650      6.241949      8.462920          14.628012  \n217651      8.462920      4.713399           6.713456  \n217652      4.713399           NaN                NaN  \n\n[217649 rows x 8 columns]"
     },
     "execution_count": 17,
     "metadata": {},
     "output_type": "execute_result"
    }
   ],
   "source": [
    "filters.clean_trajectories_with_few_points(df_move)"
   ]
  },
  {
   "cell_type": "markdown",
   "metadata": {},
   "source": [
    "## Segmentation"
   ]
  },
  {
   "cell_type": "markdown",
   "metadata": {},
   "source": [
    "The segmentation module are used to segment trajectories based on different parameters."
   ]
  },
  {
   "cell_type": "markdown",
   "metadata": {},
   "source": [
    "Importing the module:"
   ]
  },
  {
   "cell_type": "code",
   "execution_count": 18,
   "metadata": {},
   "outputs": [],
   "source": [
    "from pymove import segmentation\n",
    "df_move = read_csv('geolife_sample.csv')"
   ]
  },
  {
   "cell_type": "markdown",
   "metadata": {},
   "source": [
    "bbox_split function splits the bounding box in grids of the same size. The number of grids is defined by the parameter number_grids."
   ]
  },
  {
   "cell_type": "code",
   "execution_count": 19,
   "metadata": {},
   "outputs": [
    {
     "name": "stdout",
     "output_type": "stream",
     "text": [
      "const_lat: 4.74612125\n",
      "const_lon: 1.901845250000001\n",
      "**********************\n",
      "bbox_split took 00.01s\n",
      "**********************\n"
     ]
    },
    {
     "data": {
      "text/html": "<div>\n<style scoped>\n    .dataframe tbody tr th:only-of-type {\n        vertical-align: middle;\n    }\n\n    .dataframe tbody tr th {\n        vertical-align: top;\n    }\n\n    .dataframe thead th {\n        text-align: right;\n    }\n</style>\n<table border=\"1\" class=\"dataframe\">\n  <thead>\n    <tr style=\"text-align: right;\">\n      <th></th>\n      <th>lat_min</th>\n      <th>lon_min</th>\n      <th>lat_max</th>\n      <th>lon_max</th>\n    </tr>\n  </thead>\n  <tbody>\n    <tr>\n      <th>0</th>\n      <td>22.147577</td>\n      <td>113.548843</td>\n      <td>41.132062</td>\n      <td>115.450688</td>\n    </tr>\n    <tr>\n      <th>1</th>\n      <td>22.147577</td>\n      <td>115.450688</td>\n      <td>41.132062</td>\n      <td>117.352533</td>\n    </tr>\n    <tr>\n      <th>2</th>\n      <td>22.147577</td>\n      <td>117.352533</td>\n      <td>41.132062</td>\n      <td>119.254379</td>\n    </tr>\n    <tr>\n      <th>3</th>\n      <td>22.147577</td>\n      <td>119.254379</td>\n      <td>41.132062</td>\n      <td>121.156224</td>\n    </tr>\n  </tbody>\n</table>\n</div>",
      "text/plain": "     lat_min     lon_min    lat_max     lon_max\n0  22.147577  113.548843  41.132062  115.450688\n1  22.147577  115.450688  41.132062  117.352533\n2  22.147577  117.352533  41.132062  119.254379\n3  22.147577  119.254379  41.132062  121.156224"
     },
     "execution_count": 19,
     "metadata": {},
     "output_type": "execute_result"
    }
   ],
   "source": [
    "bbox = (22.147577, 113.54884299999999, 41.132062, 121.156224)\n",
    "segmentation.bbox_split(bbox, number_grids=4)"
   ]
  },
  {
   "cell_type": "markdown",
   "metadata": {},
   "source": [
    "by_dist_time_speed functions segments the trajectories into clusters based on distance, time and speed. The distance, time and speed limits by the parameters by max_dist_between_adj_points, max_time_between_adj_points, max_speed_between_adj_points respectively. The column tid_part is added, it indicates the segment to which the point belongs to."
   ]
  },
  {
   "cell_type": "code",
   "execution_count": 20,
   "metadata": {},
   "outputs": [
    {
     "name": "stdout",
     "output_type": "stream",
     "text": [
      "\n",
      "Split trajectories\n",
      "...max_dist_between_adj_points: 5000\n",
      "...max_time_between_adj_points: 800\n",
      "...max_speed_between_adj_points: 60.0\n",
      "...Sorting by id and datetime to increase performance\n",
      "\n",
      "...Set id as index to a higher performance\n",
      "\n",
      "\n",
      "Creating or updating distance, time and speed features in meters by seconds\n",
      "\n"
     ]
    },
    {
     "data": {
      "application/vnd.jupyter.widget-view+json": {
       "model_id": "608cf2f8799e45cfb0952346ec0753ba",
       "version_major": 2,
       "version_minor": 0
      },
      "text/plain": "VBox(children=(HTML(value=''), IntProgress(value=0, max=2)))"
     },
     "metadata": {},
     "output_type": "display_data"
    },
    {
     "name": "stdout",
     "output_type": "stream",
     "text": [
      "...Reset index...\n",
      "\n",
      "...setting id as index\n"
     ]
    },
    {
     "data": {
      "application/vnd.jupyter.widget-view+json": {
       "model_id": "eb2251b12c1148f89a6ba78337d8c02e",
       "version_major": 2,
       "version_minor": 0
      },
      "text/plain": "VBox(children=(HTML(value=''), IntProgress(value=0, max=2)))"
     },
     "metadata": {},
     "output_type": "display_data"
    },
    {
     "name": "stdout",
     "output_type": "stream",
     "text": [
      "... Reseting index\n",
      "\n",
      "...No trajs with only one point. (217653, 8)\n",
      "...Sorting by id and datetime to increase performance\n",
      "\n",
      "...Set id as index to a higher performance\n",
      "\n",
      "\n",
      "Creating or updating distance, time and speed features in meters by seconds\n",
      "\n"
     ]
    },
    {
     "data": {
      "application/vnd.jupyter.widget-view+json": {
       "model_id": "34c53d11da8a41c086919f0faa26b815",
       "version_major": 2,
       "version_minor": 0
      },
      "text/plain": "VBox(children=(HTML(value=''), IntProgress(value=0, max=2)))"
     },
     "metadata": {},
     "output_type": "display_data"
    },
    {
     "name": "stdout",
     "output_type": "stream",
     "text": [
      "...Reset index...\n",
      "\n",
      "******************************\n",
      "by_dist_time_speed took 00.49s\n",
      "******************************\n"
     ]
    },
    {
     "data": {
      "text/html": "<div>\n<style scoped>\n    .dataframe tbody tr th:only-of-type {\n        vertical-align: middle;\n    }\n\n    .dataframe tbody tr th {\n        vertical-align: top;\n    }\n\n    .dataframe thead th {\n        text-align: right;\n    }\n</style>\n<table border=\"1\" class=\"dataframe\">\n  <thead>\n    <tr style=\"text-align: right;\">\n      <th></th>\n      <th>id</th>\n      <th>lat</th>\n      <th>lon</th>\n      <th>datetime</th>\n      <th>dist_to_prev</th>\n      <th>time_to_prev</th>\n      <th>speed_to_prev</th>\n      <th>tid_part</th>\n    </tr>\n  </thead>\n  <tbody>\n    <tr>\n      <th>0</th>\n      <td>1</td>\n      <td>39.984094</td>\n      <td>116.319236</td>\n      <td>2008-10-23 05:53:05</td>\n      <td>NaN</td>\n      <td>NaN</td>\n      <td>NaN</td>\n      <td>1</td>\n    </tr>\n    <tr>\n      <th>1</th>\n      <td>1</td>\n      <td>39.984198</td>\n      <td>116.319322</td>\n      <td>2008-10-23 05:53:06</td>\n      <td>13.690153</td>\n      <td>1.0</td>\n      <td>13.690153</td>\n      <td>1</td>\n    </tr>\n    <tr>\n      <th>2</th>\n      <td>1</td>\n      <td>39.984224</td>\n      <td>116.319402</td>\n      <td>2008-10-23 05:53:11</td>\n      <td>7.403788</td>\n      <td>5.0</td>\n      <td>1.480758</td>\n      <td>1</td>\n    </tr>\n    <tr>\n      <th>3</th>\n      <td>1</td>\n      <td>39.984211</td>\n      <td>116.319389</td>\n      <td>2008-10-23 05:53:16</td>\n      <td>1.821083</td>\n      <td>5.0</td>\n      <td>0.364217</td>\n      <td>1</td>\n    </tr>\n    <tr>\n      <th>4</th>\n      <td>1</td>\n      <td>39.984217</td>\n      <td>116.319422</td>\n      <td>2008-10-23 05:53:21</td>\n      <td>2.889671</td>\n      <td>5.0</td>\n      <td>0.577934</td>\n      <td>1</td>\n    </tr>\n  </tbody>\n</table>\n</div>",
      "text/plain": "   id        lat         lon            datetime  dist_to_prev  time_to_prev  \\\n0   1  39.984094  116.319236 2008-10-23 05:53:05           NaN           NaN   \n1   1  39.984198  116.319322 2008-10-23 05:53:06     13.690153           1.0   \n2   1  39.984224  116.319402 2008-10-23 05:53:11      7.403788           5.0   \n3   1  39.984211  116.319389 2008-10-23 05:53:16      1.821083           5.0   \n4   1  39.984217  116.319422 2008-10-23 05:53:21      2.889671           5.0   \n\n   speed_to_prev  tid_part  \n0            NaN         1  \n1      13.690153         1  \n2       1.480758         1  \n3       0.364217         1  \n4       0.577934         1  "
     },
     "execution_count": 20,
     "metadata": {},
     "output_type": "execute_result"
    }
   ],
   "source": [
    "segmentation.by_dist_time_speed(\n",
    "    df_move,\n",
    "    max_dist_between_adj_points=5000, \n",
    "    max_time_between_adj_points=800,\n",
    "    max_speed_between_adj_points=60.0\n",
    ")\n",
    "df_move.head()"
   ]
  },
  {
   "cell_type": "markdown",
   "metadata": {},
   "source": [
    "by_speed function segments the trajectories into clusters based on speed. The speed limit is defined by the parameter max_speed_between_adj_points. The column tid_speed is added, it indicates the segment to  which the point belongs to."
   ]
  },
  {
   "cell_type": "code",
   "execution_count": 21,
   "metadata": {},
   "outputs": [
    {
     "name": "stdout",
     "output_type": "stream",
     "text": [
      "Split trajectories by max distance between adjacent points: 4000\n",
      "...setting id as index\n"
     ]
    },
    {
     "data": {
      "application/vnd.jupyter.widget-view+json": {
       "model_id": "fa10b8af48b74b1c85662d2df78c8065",
       "version_major": 2,
       "version_minor": 0
      },
      "text/plain": "VBox(children=(HTML(value=''), IntProgress(value=0, max=2)))"
     },
     "metadata": {},
     "output_type": "display_data"
    },
    {
     "name": "stdout",
     "output_type": "stream",
     "text": [
      "... Reseting index\n",
      "\n",
      "...No trajs with only one point. (217653, 9)\n",
      "...Sorting by id and datetime to increase performance\n",
      "\n",
      "...Set id as index to a higher performance\n",
      "\n",
      "\n",
      "Creating or updating distance, time and speed features in meters by seconds\n",
      "\n"
     ]
    },
    {
     "data": {
      "application/vnd.jupyter.widget-view+json": {
       "model_id": "7007960b098a47c6aa5d7fa0ccaf82b8",
       "version_major": 2,
       "version_minor": 0
      },
      "text/plain": "VBox(children=(HTML(value=''), IntProgress(value=0, max=2)))"
     },
     "metadata": {},
     "output_type": "display_data"
    },
    {
     "name": "stdout",
     "output_type": "stream",
     "text": [
      "...Reset index...\n",
      "\n",
      "***********************\n",
      "by_max_dist took 00.28s\n",
      "***********************\n"
     ]
    },
    {
     "data": {
      "text/html": "<div>\n<style scoped>\n    .dataframe tbody tr th:only-of-type {\n        vertical-align: middle;\n    }\n\n    .dataframe tbody tr th {\n        vertical-align: top;\n    }\n\n    .dataframe thead th {\n        text-align: right;\n    }\n</style>\n<table border=\"1\" class=\"dataframe\">\n  <thead>\n    <tr style=\"text-align: right;\">\n      <th></th>\n      <th>id</th>\n      <th>lat</th>\n      <th>lon</th>\n      <th>datetime</th>\n      <th>dist_to_prev</th>\n      <th>time_to_prev</th>\n      <th>speed_to_prev</th>\n      <th>tid_part</th>\n      <th>tid_dist</th>\n    </tr>\n  </thead>\n  <tbody>\n    <tr>\n      <th>0</th>\n      <td>1</td>\n      <td>39.984094</td>\n      <td>116.319236</td>\n      <td>2008-10-23 05:53:05</td>\n      <td>NaN</td>\n      <td>NaN</td>\n      <td>NaN</td>\n      <td>1</td>\n      <td>1</td>\n    </tr>\n    <tr>\n      <th>1</th>\n      <td>1</td>\n      <td>39.984198</td>\n      <td>116.319322</td>\n      <td>2008-10-23 05:53:06</td>\n      <td>13.690153</td>\n      <td>1.0</td>\n      <td>13.690153</td>\n      <td>1</td>\n      <td>1</td>\n    </tr>\n    <tr>\n      <th>2</th>\n      <td>1</td>\n      <td>39.984224</td>\n      <td>116.319402</td>\n      <td>2008-10-23 05:53:11</td>\n      <td>7.403788</td>\n      <td>5.0</td>\n      <td>1.480758</td>\n      <td>1</td>\n      <td>1</td>\n    </tr>\n    <tr>\n      <th>3</th>\n      <td>1</td>\n      <td>39.984211</td>\n      <td>116.319389</td>\n      <td>2008-10-23 05:53:16</td>\n      <td>1.821083</td>\n      <td>5.0</td>\n      <td>0.364217</td>\n      <td>1</td>\n      <td>1</td>\n    </tr>\n    <tr>\n      <th>4</th>\n      <td>1</td>\n      <td>39.984217</td>\n      <td>116.319422</td>\n      <td>2008-10-23 05:53:21</td>\n      <td>2.889671</td>\n      <td>5.0</td>\n      <td>0.577934</td>\n      <td>1</td>\n      <td>1</td>\n    </tr>\n  </tbody>\n</table>\n</div>",
      "text/plain": "   id        lat         lon            datetime  dist_to_prev  time_to_prev  \\\n0   1  39.984094  116.319236 2008-10-23 05:53:05           NaN           NaN   \n1   1  39.984198  116.319322 2008-10-23 05:53:06     13.690153           1.0   \n2   1  39.984224  116.319402 2008-10-23 05:53:11      7.403788           5.0   \n3   1  39.984211  116.319389 2008-10-23 05:53:16      1.821083           5.0   \n4   1  39.984217  116.319422 2008-10-23 05:53:21      2.889671           5.0   \n\n   speed_to_prev  tid_part  tid_dist  \n0            NaN         1         1  \n1      13.690153         1         1  \n2       1.480758         1         1  \n3       0.364217         1         1  \n4       0.577934         1         1  "
     },
     "execution_count": 21,
     "metadata": {},
     "output_type": "execute_result"
    }
   ],
   "source": [
    "segmentation.by_max_dist(df_move, max_dist_between_adj_points=4000)\n",
    "df_move.head()"
   ]
  },
  {
   "cell_type": "markdown",
   "metadata": {},
   "source": [
    "by_time function segments the trajectories into clusters based on time. The time limit is defined by the parameter max_time_between_adj_points. The column tid_time is added, it indicates the segment to  which the point belongs to."
   ]
  },
  {
   "cell_type": "code",
   "execution_count": 22,
   "metadata": {},
   "outputs": [
    {
     "name": "stdout",
     "output_type": "stream",
     "text": [
      "Split trajectories by max_time_between_adj_points: 1000\n",
      "...setting id as index\n"
     ]
    },
    {
     "data": {
      "application/vnd.jupyter.widget-view+json": {
       "model_id": "0aafe239fe3c4905b1d3ac759fbadf5a",
       "version_major": 2,
       "version_minor": 0
      },
      "text/plain": "VBox(children=(HTML(value=''), IntProgress(value=0, max=2)))"
     },
     "metadata": {},
     "output_type": "display_data"
    },
    {
     "name": "stdout",
     "output_type": "stream",
     "text": [
      "... Reseting index\n",
      "\n",
      "...No trajs with only one point. (217653, 10)\n",
      "...Sorting by id and datetime to increase performance\n",
      "\n",
      "...Set id as index to a higher performance\n",
      "\n",
      "\n",
      "Creating or updating distance, time and speed features in meters by seconds\n",
      "\n"
     ]
    },
    {
     "data": {
      "application/vnd.jupyter.widget-view+json": {
       "model_id": "1c67276f01134cf29fcb6ec4bbab1d1a",
       "version_major": 2,
       "version_minor": 0
      },
      "text/plain": "VBox(children=(HTML(value=''), IntProgress(value=0, max=2)))"
     },
     "metadata": {},
     "output_type": "display_data"
    },
    {
     "name": "stdout",
     "output_type": "stream",
     "text": [
      "...Reset index...\n",
      "\n",
      "***********************\n",
      "by_max_time took 00.29s\n",
      "***********************\n"
     ]
    },
    {
     "data": {
      "text/html": "<div>\n<style scoped>\n    .dataframe tbody tr th:only-of-type {\n        vertical-align: middle;\n    }\n\n    .dataframe tbody tr th {\n        vertical-align: top;\n    }\n\n    .dataframe thead th {\n        text-align: right;\n    }\n</style>\n<table border=\"1\" class=\"dataframe\">\n  <thead>\n    <tr style=\"text-align: right;\">\n      <th></th>\n      <th>id</th>\n      <th>lat</th>\n      <th>lon</th>\n      <th>datetime</th>\n      <th>dist_to_prev</th>\n      <th>time_to_prev</th>\n      <th>speed_to_prev</th>\n      <th>tid_part</th>\n      <th>tid_dist</th>\n      <th>tid_time</th>\n    </tr>\n  </thead>\n  <tbody>\n    <tr>\n      <th>0</th>\n      <td>1</td>\n      <td>39.984094</td>\n      <td>116.319236</td>\n      <td>2008-10-23 05:53:05</td>\n      <td>NaN</td>\n      <td>NaN</td>\n      <td>NaN</td>\n      <td>1</td>\n      <td>1</td>\n      <td>1</td>\n    </tr>\n    <tr>\n      <th>1</th>\n      <td>1</td>\n      <td>39.984198</td>\n      <td>116.319322</td>\n      <td>2008-10-23 05:53:06</td>\n      <td>13.690153</td>\n      <td>1.0</td>\n      <td>13.690153</td>\n      <td>1</td>\n      <td>1</td>\n      <td>1</td>\n    </tr>\n    <tr>\n      <th>2</th>\n      <td>1</td>\n      <td>39.984224</td>\n      <td>116.319402</td>\n      <td>2008-10-23 05:53:11</td>\n      <td>7.403788</td>\n      <td>5.0</td>\n      <td>1.480758</td>\n      <td>1</td>\n      <td>1</td>\n      <td>1</td>\n    </tr>\n    <tr>\n      <th>3</th>\n      <td>1</td>\n      <td>39.984211</td>\n      <td>116.319389</td>\n      <td>2008-10-23 05:53:16</td>\n      <td>1.821083</td>\n      <td>5.0</td>\n      <td>0.364217</td>\n      <td>1</td>\n      <td>1</td>\n      <td>1</td>\n    </tr>\n    <tr>\n      <th>4</th>\n      <td>1</td>\n      <td>39.984217</td>\n      <td>116.319422</td>\n      <td>2008-10-23 05:53:21</td>\n      <td>2.889671</td>\n      <td>5.0</td>\n      <td>0.577934</td>\n      <td>1</td>\n      <td>1</td>\n      <td>1</td>\n    </tr>\n  </tbody>\n</table>\n</div>",
      "text/plain": "   id        lat         lon            datetime  dist_to_prev  time_to_prev  \\\n0   1  39.984094  116.319236 2008-10-23 05:53:05           NaN           NaN   \n1   1  39.984198  116.319322 2008-10-23 05:53:06     13.690153           1.0   \n2   1  39.984224  116.319402 2008-10-23 05:53:11      7.403788           5.0   \n3   1  39.984211  116.319389 2008-10-23 05:53:16      1.821083           5.0   \n4   1  39.984217  116.319422 2008-10-23 05:53:21      2.889671           5.0   \n\n   speed_to_prev  tid_part  tid_dist  tid_time  \n0            NaN         1         1         1  \n1      13.690153         1         1         1  \n2       1.480758         1         1         1  \n3       0.364217         1         1         1  \n4       0.577934         1         1         1  "
     },
     "execution_count": 22,
     "metadata": {},
     "output_type": "execute_result"
    }
   ],
   "source": [
    "segmentation.by_max_time(df_move, max_time_between_adj_points=1000)\n",
    "df_move.head()"
   ]
  },
  {
   "cell_type": "code",
   "execution_count": 23,
   "metadata": {},
   "outputs": [
    {
     "name": "stdout",
     "output_type": "stream",
     "text": [
      "Split trajectories by max_speed_between_adj_points: 70.0\n",
      "...setting id as index\n"
     ]
    },
    {
     "data": {
      "application/vnd.jupyter.widget-view+json": {
       "model_id": "57473d10eeb448e38dd096f13f12bfa2",
       "version_major": 2,
       "version_minor": 0
      },
      "text/plain": "VBox(children=(HTML(value=''), IntProgress(value=0, max=2)))"
     },
     "metadata": {},
     "output_type": "display_data"
    },
    {
     "name": "stdout",
     "output_type": "stream",
     "text": [
      "... Reseting index\n",
      "\n",
      "...No trajs with only one point. (217653, 11)\n",
      "...Sorting by id and datetime to increase performance\n",
      "\n",
      "...Set id as index to a higher performance\n",
      "\n",
      "\n",
      "Creating or updating distance, time and speed features in meters by seconds\n",
      "\n"
     ]
    },
    {
     "data": {
      "application/vnd.jupyter.widget-view+json": {
       "model_id": "8c55552e12c944f38c04c0f84577ebed",
       "version_major": 2,
       "version_minor": 0
      },
      "text/plain": "VBox(children=(HTML(value=''), IntProgress(value=0, max=2)))"
     },
     "metadata": {},
     "output_type": "display_data"
    },
    {
     "name": "stdout",
     "output_type": "stream",
     "text": [
      "...Reset index...\n",
      "\n",
      "************************\n",
      "by_max_speed took 00.36s\n",
      "************************\n"
     ]
    },
    {
     "data": {
      "text/html": "<div>\n<style scoped>\n    .dataframe tbody tr th:only-of-type {\n        vertical-align: middle;\n    }\n\n    .dataframe tbody tr th {\n        vertical-align: top;\n    }\n\n    .dataframe thead th {\n        text-align: right;\n    }\n</style>\n<table border=\"1\" class=\"dataframe\">\n  <thead>\n    <tr style=\"text-align: right;\">\n      <th></th>\n      <th>id</th>\n      <th>lat</th>\n      <th>lon</th>\n      <th>datetime</th>\n      <th>dist_to_prev</th>\n      <th>time_to_prev</th>\n      <th>speed_to_prev</th>\n      <th>tid_part</th>\n      <th>tid_dist</th>\n      <th>tid_time</th>\n      <th>tid_speed</th>\n    </tr>\n  </thead>\n  <tbody>\n    <tr>\n      <th>0</th>\n      <td>1</td>\n      <td>39.984094</td>\n      <td>116.319236</td>\n      <td>2008-10-23 05:53:05</td>\n      <td>NaN</td>\n      <td>NaN</td>\n      <td>NaN</td>\n      <td>1</td>\n      <td>1</td>\n      <td>1</td>\n      <td>1</td>\n    </tr>\n    <tr>\n      <th>1</th>\n      <td>1</td>\n      <td>39.984198</td>\n      <td>116.319322</td>\n      <td>2008-10-23 05:53:06</td>\n      <td>13.690153</td>\n      <td>1.0</td>\n      <td>13.690153</td>\n      <td>1</td>\n      <td>1</td>\n      <td>1</td>\n      <td>1</td>\n    </tr>\n    <tr>\n      <th>2</th>\n      <td>1</td>\n      <td>39.984224</td>\n      <td>116.319402</td>\n      <td>2008-10-23 05:53:11</td>\n      <td>7.403788</td>\n      <td>5.0</td>\n      <td>1.480758</td>\n      <td>1</td>\n      <td>1</td>\n      <td>1</td>\n      <td>1</td>\n    </tr>\n    <tr>\n      <th>3</th>\n      <td>1</td>\n      <td>39.984211</td>\n      <td>116.319389</td>\n      <td>2008-10-23 05:53:16</td>\n      <td>1.821083</td>\n      <td>5.0</td>\n      <td>0.364217</td>\n      <td>1</td>\n      <td>1</td>\n      <td>1</td>\n      <td>1</td>\n    </tr>\n    <tr>\n      <th>4</th>\n      <td>1</td>\n      <td>39.984217</td>\n      <td>116.319422</td>\n      <td>2008-10-23 05:53:21</td>\n      <td>2.889671</td>\n      <td>5.0</td>\n      <td>0.577934</td>\n      <td>1</td>\n      <td>1</td>\n      <td>1</td>\n      <td>1</td>\n    </tr>\n  </tbody>\n</table>\n</div>",
      "text/plain": "   id        lat         lon            datetime  dist_to_prev  time_to_prev  \\\n0   1  39.984094  116.319236 2008-10-23 05:53:05           NaN           NaN   \n1   1  39.984198  116.319322 2008-10-23 05:53:06     13.690153           1.0   \n2   1  39.984224  116.319402 2008-10-23 05:53:11      7.403788           5.0   \n3   1  39.984211  116.319389 2008-10-23 05:53:16      1.821083           5.0   \n4   1  39.984217  116.319422 2008-10-23 05:53:21      2.889671           5.0   \n\n   speed_to_prev  tid_part  tid_dist  tid_time  tid_speed  \n0            NaN         1         1         1          1  \n1      13.690153         1         1         1          1  \n2       1.480758         1         1         1          1  \n3       0.364217         1         1         1          1  \n4       0.577934         1         1         1          1  "
     },
     "execution_count": 23,
     "metadata": {},
     "output_type": "execute_result"
    }
   ],
   "source": [
    "segmentation.by_max_speed(df_move, max_speed_between_adj_points=70.0)\n",
    "df_move.head()"
   ]
  },
  {
   "cell_type": "markdown",
   "metadata": {},
   "source": [
    "segment_traj_by_max_dist function segments the trajectories into clusters based on distance. The distance limit is defined by the parameter max_dist_between_adj_points. The column tid_dist is added, it indicates the segment to which the point belongs to."
   ]
  },
  {
   "cell_type": "markdown",
   "metadata": {},
   "source": [
    "## Stay point detection "
   ]
  },
  {
   "cell_type": "markdown",
   "metadata": {},
   "source": [
    "A stay point is location where a moving object has stayed for a while within a certain distance threshold. A stay point could stand different places such: a restaurant, a school, a work place."
   ]
  },
  {
   "cell_type": "markdown",
   "metadata": {},
   "source": [
    "Importing the module:"
   ]
  },
  {
   "cell_type": "code",
   "execution_count": 24,
   "metadata": {},
   "outputs": [],
   "source": [
    "from pymove import stay_point_detection\n",
    "df_move = read_csv('geolife_sample.csv')"
   ]
  },
  {
   "cell_type": "markdown",
   "metadata": {},
   "source": [
    "stay_point_detection function converts the time data into a cyclical format. The columns hour_sin and hour_cos are added to the dataframe."
   ]
  },
  {
   "cell_type": "code",
   "execution_count": 25,
   "metadata": {},
   "outputs": [
    {
     "name": "stdout",
     "output_type": "stream",
     "text": [
      "Encoding cyclical continuous features - 24-hour time\n",
      "...hour_sin and  hour_cos features were created...\n",
      "\n"
     ]
    },
    {
     "data": {
      "text/html": "<div>\n<style scoped>\n    .dataframe tbody tr th:only-of-type {\n        vertical-align: middle;\n    }\n\n    .dataframe tbody tr th {\n        vertical-align: top;\n    }\n\n    .dataframe thead th {\n        text-align: right;\n    }\n</style>\n<table border=\"1\" class=\"dataframe\">\n  <thead>\n    <tr style=\"text-align: right;\">\n      <th></th>\n      <th>lat</th>\n      <th>lon</th>\n      <th>datetime</th>\n      <th>id</th>\n      <th>hour_sin</th>\n      <th>hour_cos</th>\n    </tr>\n  </thead>\n  <tbody>\n    <tr>\n      <th>0</th>\n      <td>39.984094</td>\n      <td>116.319236</td>\n      <td>2008-10-23 05:53:05</td>\n      <td>1</td>\n      <td>0.979084</td>\n      <td>0.203456</td>\n    </tr>\n    <tr>\n      <th>1</th>\n      <td>39.984198</td>\n      <td>116.319322</td>\n      <td>2008-10-23 05:53:06</td>\n      <td>1</td>\n      <td>0.979084</td>\n      <td>0.203456</td>\n    </tr>\n    <tr>\n      <th>2</th>\n      <td>39.984224</td>\n      <td>116.319402</td>\n      <td>2008-10-23 05:53:11</td>\n      <td>1</td>\n      <td>0.979084</td>\n      <td>0.203456</td>\n    </tr>\n    <tr>\n      <th>3</th>\n      <td>39.984211</td>\n      <td>116.319389</td>\n      <td>2008-10-23 05:53:16</td>\n      <td>1</td>\n      <td>0.979084</td>\n      <td>0.203456</td>\n    </tr>\n    <tr>\n      <th>4</th>\n      <td>39.984217</td>\n      <td>116.319422</td>\n      <td>2008-10-23 05:53:21</td>\n      <td>1</td>\n      <td>0.979084</td>\n      <td>0.203456</td>\n    </tr>\n  </tbody>\n</table>\n</div>",
      "text/plain": "         lat         lon            datetime  id  hour_sin  hour_cos\n0  39.984094  116.319236 2008-10-23 05:53:05   1  0.979084  0.203456\n1  39.984198  116.319322 2008-10-23 05:53:06   1  0.979084  0.203456\n2  39.984224  116.319402 2008-10-23 05:53:11   1  0.979084  0.203456\n3  39.984211  116.319389 2008-10-23 05:53:16   1  0.979084  0.203456\n4  39.984217  116.319422 2008-10-23 05:53:21   1  0.979084  0.203456"
     },
     "execution_count": 25,
     "metadata": {},
     "output_type": "execute_result"
    }
   ],
   "source": [
    "stay_point_detection.create_or_update_datetime_in_format_cyclical(df_move)\n",
    "df_move.head()"
   ]
  },
  {
   "cell_type": "markdown",
   "metadata": {},
   "source": [
    "create_or_update_move_stop_by_dist_time function creates or updates the stay points of the trajectories, based on distance and time metrics. The column segment_stop is added to the dataframe, it indicates the trajectory segment to  which the point belongs to. The column stop is also added, it indicates is the point represents a stop, a place where the object was stationary."
   ]
  },
  {
   "cell_type": "code",
   "execution_count": 26,
   "metadata": {},
   "outputs": [
    {
     "name": "stdout",
     "output_type": "stream",
     "text": [
      "Split trajectories by max distance between adjacent points: 40\n",
      "...Sorting by id and datetime to increase performance\n",
      "\n",
      "...Set id as index to a higher performance\n",
      "\n",
      "\n",
      "Creating or updating distance, time and speed features in meters by seconds\n",
      "\n"
     ]
    },
    {
     "data": {
      "application/vnd.jupyter.widget-view+json": {
       "model_id": "799bf57e271144558b6fde0241807e5c",
       "version_major": 2,
       "version_minor": 0
      },
      "text/plain": "VBox(children=(HTML(value=''), IntProgress(value=0, max=2)))"
     },
     "metadata": {},
     "output_type": "display_data"
    },
    {
     "name": "stdout",
     "output_type": "stream",
     "text": [
      "...Reset index...\n",
      "\n",
      "...setting id as index\n"
     ]
    },
    {
     "data": {
      "application/vnd.jupyter.widget-view+json": {
       "model_id": "0b88b48ba36042788949e89410df5ae2",
       "version_major": 2,
       "version_minor": 0
      },
      "text/plain": "VBox(children=(HTML(value=''), IntProgress(value=0, max=2)))"
     },
     "metadata": {},
     "output_type": "display_data"
    },
    {
     "name": "stdout",
     "output_type": "stream",
     "text": [
      "... Reseting index\n",
      "\n",
      "...No trajs with only one point. (217653, 10)\n",
      "...Sorting by id and datetime to increase performance\n",
      "\n",
      "...Set id as index to a higher performance\n",
      "\n",
      "\n",
      "Creating or updating distance, time and speed features in meters by seconds\n",
      "\n"
     ]
    },
    {
     "data": {
      "application/vnd.jupyter.widget-view+json": {
       "model_id": "2d14841eb7a6468580326c5110c60740",
       "version_major": 2,
       "version_minor": 0
      },
      "text/plain": "VBox(children=(HTML(value=''), IntProgress(value=0, max=2)))"
     },
     "metadata": {},
     "output_type": "display_data"
    },
    {
     "name": "stdout",
     "output_type": "stream",
     "text": [
      "...Reset index...\n",
      "\n",
      "***********************\n",
      "by_max_dist took 00.52s\n",
      "***********************\n",
      "...Sorting by segment_stop and datetime to increase performance\n",
      "\n",
      "...Set segment_stop as index to a higher performance\n",
      "\n",
      "\n",
      "Creating or updating distance, time and speed features in meters by seconds\n",
      "\n"
     ]
    },
    {
     "data": {
      "application/vnd.jupyter.widget-view+json": {
       "model_id": "cbb57c265890411bbfe6d395e1955288",
       "version_major": 2,
       "version_minor": 0
      },
      "text/plain": "VBox(children=(HTML(value=''), IntProgress(value=0, max=3512)))"
     },
     "metadata": {},
     "output_type": "display_data"
    },
    {
     "name": "stdout",
     "output_type": "stream",
     "text": [
      "...Reset index...\n",
      "\n",
      "Create or update stop as True or False\n",
      "...Creating stop features as True or False using 1000 to time in seconds\n",
      "True     157738\n",
      "False     59915\n",
      "Name: stop, dtype: int64\n",
      "***************************************************\n",
      "create_or_update_move_stop_by_dist_time took 36.68s\n",
      "***************************************************\n"
     ]
    },
    {
     "data": {
      "text/html": "<div>\n<style scoped>\n    .dataframe tbody tr th:only-of-type {\n        vertical-align: middle;\n    }\n\n    .dataframe tbody tr th {\n        vertical-align: top;\n    }\n\n    .dataframe thead th {\n        text-align: right;\n    }\n</style>\n<table border=\"1\" class=\"dataframe\">\n  <thead>\n    <tr style=\"text-align: right;\">\n      <th></th>\n      <th>segment_stop</th>\n      <th>id</th>\n      <th>lat</th>\n      <th>lon</th>\n      <th>datetime</th>\n      <th>hour_sin</th>\n      <th>hour_cos</th>\n      <th>dist_to_prev</th>\n      <th>time_to_prev</th>\n      <th>speed_to_prev</th>\n      <th>stop</th>\n    </tr>\n  </thead>\n  <tbody>\n    <tr>\n      <th>0</th>\n      <td>1</td>\n      <td>1</td>\n      <td>39.984094</td>\n      <td>116.319236</td>\n      <td>2008-10-23 05:53:05</td>\n      <td>0.979084</td>\n      <td>0.203456</td>\n      <td>NaN</td>\n      <td>NaN</td>\n      <td>NaN</td>\n      <td>False</td>\n    </tr>\n    <tr>\n      <th>1</th>\n      <td>1</td>\n      <td>1</td>\n      <td>39.984198</td>\n      <td>116.319322</td>\n      <td>2008-10-23 05:53:06</td>\n      <td>0.979084</td>\n      <td>0.203456</td>\n      <td>13.690153</td>\n      <td>1.0</td>\n      <td>13.690153</td>\n      <td>False</td>\n    </tr>\n    <tr>\n      <th>2</th>\n      <td>1</td>\n      <td>1</td>\n      <td>39.984224</td>\n      <td>116.319402</td>\n      <td>2008-10-23 05:53:11</td>\n      <td>0.979084</td>\n      <td>0.203456</td>\n      <td>7.403788</td>\n      <td>5.0</td>\n      <td>1.480758</td>\n      <td>False</td>\n    </tr>\n    <tr>\n      <th>3</th>\n      <td>1</td>\n      <td>1</td>\n      <td>39.984211</td>\n      <td>116.319389</td>\n      <td>2008-10-23 05:53:16</td>\n      <td>0.979084</td>\n      <td>0.203456</td>\n      <td>1.821083</td>\n      <td>5.0</td>\n      <td>0.364217</td>\n      <td>False</td>\n    </tr>\n    <tr>\n      <th>4</th>\n      <td>1</td>\n      <td>1</td>\n      <td>39.984217</td>\n      <td>116.319422</td>\n      <td>2008-10-23 05:53:21</td>\n      <td>0.979084</td>\n      <td>0.203456</td>\n      <td>2.889671</td>\n      <td>5.0</td>\n      <td>0.577934</td>\n      <td>False</td>\n    </tr>\n  </tbody>\n</table>\n</div>",
      "text/plain": "   segment_stop  id        lat         lon            datetime  hour_sin  \\\n0             1   1  39.984094  116.319236 2008-10-23 05:53:05  0.979084   \n1             1   1  39.984198  116.319322 2008-10-23 05:53:06  0.979084   \n2             1   1  39.984224  116.319402 2008-10-23 05:53:11  0.979084   \n3             1   1  39.984211  116.319389 2008-10-23 05:53:16  0.979084   \n4             1   1  39.984217  116.319422 2008-10-23 05:53:21  0.979084   \n\n   hour_cos  dist_to_prev  time_to_prev  speed_to_prev   stop  \n0  0.203456           NaN           NaN            NaN  False  \n1  0.203456     13.690153           1.0      13.690153  False  \n2  0.203456      7.403788           5.0       1.480758  False  \n3  0.203456      1.821083           5.0       0.364217  False  \n4  0.203456      2.889671           5.0       0.577934  False  "
     },
     "execution_count": 26,
     "metadata": {},
     "output_type": "execute_result"
    }
   ],
   "source": [
    "stay_point_detection.create_or_update_move_stop_by_dist_time(df_move, dist_radius=40, time_radius=1000)\n",
    "df_move.head()"
   ]
  },
  {
   "cell_type": "markdown",
   "metadata": {},
   "source": [
    "create_or_update_move_and_stop_by_radius function creates or updates the stay points of the trajectories, based on distance. The column situation is also added, it indicates if the point represents a stop point or a moving point."
   ]
  },
  {
   "cell_type": "code",
   "execution_count": 27,
   "metadata": {},
   "outputs": [
    {
     "name": "stdout",
     "output_type": "stream",
     "text": [
      "\n",
      "Creating or updating features MOVE and STOPS...\n",
      "\n",
      "\n",
      "....There are 58981 stops to this parameters\n",
      "\n",
      "****************************************************\n",
      "create_or_update_move_and_stop_by_radius took 00.14s\n",
      "****************************************************\n"
     ]
    },
    {
     "data": {
      "text/html": "<div>\n<style scoped>\n    .dataframe tbody tr th:only-of-type {\n        vertical-align: middle;\n    }\n\n    .dataframe tbody tr th {\n        vertical-align: top;\n    }\n\n    .dataframe thead th {\n        text-align: right;\n    }\n</style>\n<table border=\"1\" class=\"dataframe\">\n  <thead>\n    <tr style=\"text-align: right;\">\n      <th></th>\n      <th>segment_stop</th>\n      <th>id</th>\n      <th>lat</th>\n      <th>lon</th>\n      <th>datetime</th>\n      <th>hour_sin</th>\n      <th>hour_cos</th>\n      <th>dist_to_prev</th>\n      <th>time_to_prev</th>\n      <th>speed_to_prev</th>\n      <th>stop</th>\n      <th>situation</th>\n    </tr>\n  </thead>\n  <tbody>\n    <tr>\n      <th>0</th>\n      <td>1</td>\n      <td>1</td>\n      <td>39.984094</td>\n      <td>116.319236</td>\n      <td>2008-10-23 05:53:05</td>\n      <td>0.979084</td>\n      <td>0.203456</td>\n      <td>NaN</td>\n      <td>NaN</td>\n      <td>NaN</td>\n      <td>False</td>\n      <td>nan</td>\n    </tr>\n    <tr>\n      <th>1</th>\n      <td>1</td>\n      <td>1</td>\n      <td>39.984198</td>\n      <td>116.319322</td>\n      <td>2008-10-23 05:53:06</td>\n      <td>0.979084</td>\n      <td>0.203456</td>\n      <td>13.690153</td>\n      <td>1.0</td>\n      <td>13.690153</td>\n      <td>False</td>\n      <td>move</td>\n    </tr>\n    <tr>\n      <th>2</th>\n      <td>1</td>\n      <td>1</td>\n      <td>39.984224</td>\n      <td>116.319402</td>\n      <td>2008-10-23 05:53:11</td>\n      <td>0.979084</td>\n      <td>0.203456</td>\n      <td>7.403788</td>\n      <td>5.0</td>\n      <td>1.480758</td>\n      <td>False</td>\n      <td>move</td>\n    </tr>\n    <tr>\n      <th>3</th>\n      <td>1</td>\n      <td>1</td>\n      <td>39.984211</td>\n      <td>116.319389</td>\n      <td>2008-10-23 05:53:16</td>\n      <td>0.979084</td>\n      <td>0.203456</td>\n      <td>1.821083</td>\n      <td>5.0</td>\n      <td>0.364217</td>\n      <td>False</td>\n      <td>stop</td>\n    </tr>\n    <tr>\n      <th>4</th>\n      <td>1</td>\n      <td>1</td>\n      <td>39.984217</td>\n      <td>116.319422</td>\n      <td>2008-10-23 05:53:21</td>\n      <td>0.979084</td>\n      <td>0.203456</td>\n      <td>2.889671</td>\n      <td>5.0</td>\n      <td>0.577934</td>\n      <td>False</td>\n      <td>move</td>\n    </tr>\n  </tbody>\n</table>\n</div>",
      "text/plain": "   segment_stop  id        lat         lon            datetime  hour_sin  \\\n0             1   1  39.984094  116.319236 2008-10-23 05:53:05  0.979084   \n1             1   1  39.984198  116.319322 2008-10-23 05:53:06  0.979084   \n2             1   1  39.984224  116.319402 2008-10-23 05:53:11  0.979084   \n3             1   1  39.984211  116.319389 2008-10-23 05:53:16  0.979084   \n4             1   1  39.984217  116.319422 2008-10-23 05:53:21  0.979084   \n\n   hour_cos  dist_to_prev  time_to_prev  speed_to_prev   stop situation  \n0  0.203456           NaN           NaN            NaN  False       nan  \n1  0.203456     13.690153           1.0      13.690153  False      move  \n2  0.203456      7.403788           5.0       1.480758  False      move  \n3  0.203456      1.821083           5.0       0.364217  False      stop  \n4  0.203456      2.889671           5.0       0.577934  False      move  "
     },
     "execution_count": 27,
     "metadata": {},
     "output_type": "execute_result"
    }
   ],
   "source": [
    "stay_point_detection.create_or_update_move_and_stop_by_radius(df_move, radius=2)\n",
    "df_move.head()"
   ]
  },
  {
   "cell_type": "markdown",
   "metadata": {},
   "source": [
    "## Compression"
   ]
  },
  {
   "cell_type": "markdown",
   "metadata": {},
   "source": [
    "Importing the module:"
   ]
  },
  {
   "cell_type": "code",
   "execution_count": 28,
   "metadata": {},
   "outputs": [],
   "source": [
    "from pymove import compression\n",
    "df_move = read_csv('geolife_sample.csv')"
   ]
  },
  {
   "cell_type": "markdown",
   "metadata": {},
   "source": [
    "The function below is used to reduce the size of the trajectory, the stop points are used to make the compression. "
   ]
  },
  {
   "cell_type": "code",
   "execution_count": 29,
   "metadata": {},
   "outputs": [
    {
     "name": "stdout",
     "output_type": "stream",
     "text": [
      "Split trajectories by max distance between adjacent points: 30\n",
      "...Sorting by id and datetime to increase performance\n",
      "\n",
      "...Set id as index to a higher performance\n",
      "\n",
      "\n",
      "Creating or updating distance, time and speed features in meters by seconds\n",
      "\n"
     ]
    },
    {
     "data": {
      "application/vnd.jupyter.widget-view+json": {
       "model_id": "0aed2000ea8040cf9addffdc7721a930",
       "version_major": 2,
       "version_minor": 0
      },
      "text/plain": "VBox(children=(HTML(value=''), IntProgress(value=0, max=2)))"
     },
     "metadata": {},
     "output_type": "display_data"
    },
    {
     "name": "stdout",
     "output_type": "stream",
     "text": [
      "...Reset index...\n",
      "\n",
      "...setting id as index\n"
     ]
    },
    {
     "data": {
      "application/vnd.jupyter.widget-view+json": {
       "model_id": "32b22fdd25254cb592a4393f1fdc66c1",
       "version_major": 2,
       "version_minor": 0
      },
      "text/plain": "VBox(children=(HTML(value=''), IntProgress(value=0, max=2)))"
     },
     "metadata": {},
     "output_type": "display_data"
    },
    {
     "name": "stdout",
     "output_type": "stream",
     "text": [
      "... Reseting index\n",
      "\n",
      "...No trajs with only one point. (217653, 8)\n",
      "...Sorting by id and datetime to increase performance\n",
      "\n",
      "...Set id as index to a higher performance\n",
      "\n",
      "\n",
      "Creating or updating distance, time and speed features in meters by seconds\n",
      "\n"
     ]
    },
    {
     "data": {
      "application/vnd.jupyter.widget-view+json": {
       "model_id": "29834426ff1a4d31b82795a3bb8015b6",
       "version_major": 2,
       "version_minor": 0
      },
      "text/plain": "VBox(children=(HTML(value=''), IntProgress(value=0, max=2)))"
     },
     "metadata": {},
     "output_type": "display_data"
    },
    {
     "name": "stdout",
     "output_type": "stream",
     "text": [
      "...Reset index...\n",
      "\n",
      "***********************\n",
      "by_max_dist took 01.20s\n",
      "***********************\n",
      "...Sorting by segment_stop and datetime to increase performance\n",
      "\n",
      "...Set segment_stop as index to a higher performance\n",
      "\n",
      "\n",
      "Creating or updating distance, time and speed features in meters by seconds\n",
      "\n"
     ]
    },
    {
     "data": {
      "application/vnd.jupyter.widget-view+json": {
       "model_id": "76f731f2936244fcb355bf0749c223e7",
       "version_major": 2,
       "version_minor": 0
      },
      "text/plain": "VBox(children=(HTML(value=''), IntProgress(value=0, max=4809)))"
     },
     "metadata": {},
     "output_type": "display_data"
    },
    {
     "name": "stdout",
     "output_type": "stream",
     "text": [
      "...Reset index...\n",
      "\n",
      "Create or update stop as True or False\n",
      "...Creating stop features as True or False using 900 to time in seconds\n",
      "True     152603\n",
      "False     65050\n",
      "Name: stop, dtype: int64\n",
      "***************************************************\n",
      "create_or_update_move_stop_by_dist_time took 53.09s\n",
      "***************************************************\n",
      "...setting mean to lat and lon...\n",
      "...get only segments stop...\n"
     ]
    },
    {
     "data": {
      "application/vnd.jupyter.widget-view+json": {
       "model_id": "e9b00c09ef1f419ab9ee7eb1b8a8fdd0",
       "version_major": 2,
       "version_minor": 0
      },
      "text/plain": "VBox(children=(HTML(value=''), IntProgress(value=0, max=285)))"
     },
     "metadata": {},
     "output_type": "display_data"
    },
    {
     "name": "stdout",
     "output_type": "stream",
     "text": [
      "...Dropping 152033 points...\n",
      "...Shape_before: 217653\n",
      "...Current shape: 65620\n",
      "**********************************************\n",
      "compress_segment_stop_to_point took 01m:08.30s\n",
      "**********************************************\n"
     ]
    },
    {
     "data": {
      "text/plain": "(217653, 65620)"
     },
     "execution_count": 29,
     "metadata": {},
     "output_type": "execute_result"
    }
   ],
   "source": [
    "df_compressed = compression.compress_segment_stop_to_point(df_move)\n",
    "len(df_move), len(df_compressed)"
   ]
  },
  {
   "cell_type": "code",
   "execution_count": null,
   "metadata": {},
   "outputs": [],
   "source": []
  }
 ],
 "metadata": {
  "kernelspec": {
   "display_name": "Python 3.8.5 64-bit ('pmv': conda)",
   "name": "python385jvsc74a57bd06598034eb05a53fb57097e96134c3b18c60aedc5a8a571bcc34a25489d15faeb"
  },
  "language_info": {
   "name": "python",
   "version": ""
  }
 },
 "nbformat": 4,
 "nbformat_minor": 4
}
