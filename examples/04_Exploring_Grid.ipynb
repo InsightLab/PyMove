{
 "cells": [
  {
   "cell_type": "markdown",
   "metadata": {},
   "source": [
    "# 04 - Exploring Grid\n",
    "\n",
    "In trajectories data mining process, there is a need frequent acess differents segments and  samples of trajectories. With big volume data, those acesses can need time and processing. With this, it's necessary to adopt effective techniques to management and handling of this data, allowed fast recovery of data.\n",
    "\n",
    "\n",
    "One approach to this technique takes geographic space into account, dividing it into grids, the so-called **grids**, and **creating a time index for the trajectories that fall into each cell of this grid**. **Each segment** that falls into a grid **is represented by a point with coordinates equal to the start time point and the end time point of the segment**.\n",
    "\n",
    "\n",
    "In PyMove, grids are delimited by coordinates in a \n",
    "cartesian plan based tracing in bound box of data. Grids are represented by objects that have those attributes:\n",
    "\n",
    "- **lon_min_x:** minimum longitude.\n",
    "- **lat_min_y:** minimum latitude. \n",
    "- **grid_size_lat_y:** grid latitude size. \n",
    "- **grid_size_lon_x:** grid longitude size.\n",
    "- **cell_size_by_degree:** cell size of Grid.\n",
    "\n",
    "## Imports\n"
   ]
  },
  {
   "cell_type": "code",
   "execution_count": 1,
   "metadata": {},
   "outputs": [],
   "source": [
    "import pandas as pd\n",
    "from pymove import MoveDataFrame\n",
    "from pymove.core.grid import Grid"
   ]
  },
  {
   "cell_type": "markdown",
   "metadata": {},
   "source": [
    "## Load data"
   ]
  },
  {
   "cell_type": "code",
   "execution_count": 2,
   "metadata": {},
   "outputs": [
    {
     "data": {
      "text/html": "<div>\n<style scoped>\n    .dataframe tbody tr th:only-of-type {\n        vertical-align: middle;\n    }\n\n    .dataframe tbody tr th {\n        vertical-align: top;\n    }\n\n    .dataframe thead th {\n        text-align: right;\n    }\n</style>\n<table border=\"1\" class=\"dataframe\">\n  <thead>\n    <tr style=\"text-align: right;\">\n      <th></th>\n      <th>lat</th>\n      <th>lon</th>\n      <th>datetime</th>\n      <th>id</th>\n    </tr>\n  </thead>\n  <tbody>\n    <tr>\n      <th>0</th>\n      <td>39.984094</td>\n      <td>116.319236</td>\n      <td>2008-10-23 05:53:05</td>\n      <td>1</td>\n    </tr>\n    <tr>\n      <th>1</th>\n      <td>39.984198</td>\n      <td>116.319322</td>\n      <td>2008-10-23 05:53:06</td>\n      <td>1</td>\n    </tr>\n    <tr>\n      <th>2</th>\n      <td>39.984224</td>\n      <td>116.319402</td>\n      <td>2008-10-23 05:53:11</td>\n      <td>1</td>\n    </tr>\n    <tr>\n      <th>3</th>\n      <td>39.984211</td>\n      <td>116.319389</td>\n      <td>2008-10-23 05:53:16</td>\n      <td>1</td>\n    </tr>\n    <tr>\n      <th>4</th>\n      <td>39.984217</td>\n      <td>116.319422</td>\n      <td>2008-10-23 05:53:21</td>\n      <td>1</td>\n    </tr>\n    <tr>\n      <th>...</th>\n      <td>...</td>\n      <td>...</td>\n      <td>...</td>\n      <td>...</td>\n    </tr>\n    <tr>\n      <th>995</th>\n      <td>40.013765</td>\n      <td>116.306468</td>\n      <td>2008-10-23 23:43:31</td>\n      <td>1</td>\n    </tr>\n    <tr>\n      <th>996</th>\n      <td>40.013828</td>\n      <td>116.306413</td>\n      <td>2008-10-23 23:43:36</td>\n      <td>1</td>\n    </tr>\n    <tr>\n      <th>997</th>\n      <td>40.013905</td>\n      <td>116.306365</td>\n      <td>2008-10-23 23:43:41</td>\n      <td>1</td>\n    </tr>\n    <tr>\n      <th>998</th>\n      <td>40.013992</td>\n      <td>116.306323</td>\n      <td>2008-10-23 23:43:46</td>\n      <td>1</td>\n    </tr>\n    <tr>\n      <th>999</th>\n      <td>40.014089</td>\n      <td>116.306264</td>\n      <td>2008-10-23 23:43:51</td>\n      <td>1</td>\n    </tr>\n  </tbody>\n</table>\n<p>1000 rows × 4 columns</p>\n</div>",
      "text/plain": "           lat         lon            datetime  id\n0    39.984094  116.319236 2008-10-23 05:53:05   1\n1    39.984198  116.319322 2008-10-23 05:53:06   1\n2    39.984224  116.319402 2008-10-23 05:53:11   1\n3    39.984211  116.319389 2008-10-23 05:53:16   1\n4    39.984217  116.319422 2008-10-23 05:53:21   1\n..         ...         ...                 ...  ..\n995  40.013765  116.306468 2008-10-23 23:43:31   1\n996  40.013828  116.306413 2008-10-23 23:43:36   1\n997  40.013905  116.306365 2008-10-23 23:43:41   1\n998  40.013992  116.306323 2008-10-23 23:43:46   1\n999  40.014089  116.306264 2008-10-23 23:43:51   1\n\n[1000 rows x 4 columns]"
     },
     "execution_count": 2,
     "metadata": {},
     "output_type": "execute_result"
    }
   ],
   "source": [
    "df = pd.read_csv('geolife_sample.csv', parse_dates=['datetime'])\n",
    "data = MoveDataFrame(df, latitude=\"lat\", longitude=\"lon\", datetime=\"datetime\")\n",
    "data = data[:1000]\n",
    "data"
   ]
  },
  {
   "cell_type": "markdown",
   "metadata": {},
   "source": [
    "## Create virtual Grid"
   ]
  },
  {
   "cell_type": "code",
   "execution_count": 3,
   "metadata": {},
   "outputs": [
    {
     "name": "stdout",
     "output_type": "stream",
     "text": [
      "\n",
      "Creating a virtual grid without polygons\n",
      "...cell size by degree: 0.0001353464801860623\n",
      "...grid_size_lat_y:341\n",
      "grid_size_lon_x:266\n",
      "\n",
      "..A virtual grid was created\n"
     ]
    }
   ],
   "source": [
    "grid = Grid(data, 15)"
   ]
  },
  {
   "cell_type": "code",
   "execution_count": 4,
   "metadata": {},
   "outputs": [
    {
     "data": {
      "text/plain": "{'lon_min_x': 116.305468,\n 'lat_min_y': 39.970511,\n 'grid_size_lat_y': 341,\n 'grid_size_lon_x': 266,\n 'cell_size_by_degree': 0.0001353464801860623}"
     },
     "execution_count": 4,
     "metadata": {},
     "output_type": "execute_result"
    }
   ],
   "source": [
    "grid.get_grid()"
   ]
  },
  {
   "cell_type": "markdown",
   "metadata": {},
   "source": [
    "## Create one polygon to point on grid"
   ]
  },
  {
   "cell_type": "code",
   "execution_count": 5,
   "metadata": {},
   "outputs": [
    {
     "name": "stdout",
     "output_type": "stream",
     "text": [
      "POLYGON ((116.3056033464802 39.97078169296037, 116.3056033464802 39.97091703944056, 116.3057386929604 39.97091703944056, 116.3057386929604 39.97078169296037, 116.3056033464802 39.97078169296037))\n"
     ]
    }
   ],
   "source": [
    "print(grid.create_one_polygon_to_point_on_grid(2, 1))"
   ]
  },
  {
   "cell_type": "markdown",
   "metadata": {},
   "source": [
    "## Create or update index grid feature"
   ]
  },
  {
   "cell_type": "code",
   "execution_count": 6,
   "metadata": {},
   "outputs": [
    {
     "name": "stdout",
     "output_type": "stream",
     "text": [
      "\n",
      "Creating or updating index of the grid feature..\n",
      "\n",
      "...[1000,1000] indexes were created to lat and lon\n"
     ]
    }
   ],
   "source": [
    "grid.create_update_index_grid_feature(data)"
   ]
  },
  {
   "cell_type": "code",
   "execution_count": 7,
   "metadata": {},
   "outputs": [
    {
     "data": {
      "text/html": "<div>\n<style scoped>\n    .dataframe tbody tr th:only-of-type {\n        vertical-align: middle;\n    }\n\n    .dataframe tbody tr th {\n        vertical-align: top;\n    }\n\n    .dataframe thead th {\n        text-align: right;\n    }\n</style>\n<table border=\"1\" class=\"dataframe\">\n  <thead>\n    <tr style=\"text-align: right;\">\n      <th></th>\n      <th>lat</th>\n      <th>lon</th>\n      <th>datetime</th>\n      <th>id</th>\n      <th>index_grid</th>\n    </tr>\n  </thead>\n  <tbody>\n    <tr>\n      <th>0</th>\n      <td>39.984094</td>\n      <td>116.319236</td>\n      <td>2008-10-23 05:53:05</td>\n      <td>1</td>\n      <td>34541</td>\n    </tr>\n    <tr>\n      <th>1</th>\n      <td>39.984198</td>\n      <td>116.319322</td>\n      <td>2008-10-23 05:53:06</td>\n      <td>1</td>\n      <td>34883</td>\n    </tr>\n    <tr>\n      <th>2</th>\n      <td>39.984224</td>\n      <td>116.319402</td>\n      <td>2008-10-23 05:53:11</td>\n      <td>1</td>\n      <td>34883</td>\n    </tr>\n    <tr>\n      <th>3</th>\n      <td>39.984211</td>\n      <td>116.319389</td>\n      <td>2008-10-23 05:53:16</td>\n      <td>1</td>\n      <td>34883</td>\n    </tr>\n    <tr>\n      <th>4</th>\n      <td>39.984217</td>\n      <td>116.319422</td>\n      <td>2008-10-23 05:53:21</td>\n      <td>1</td>\n      <td>35224</td>\n    </tr>\n  </tbody>\n</table>\n</div>",
      "text/plain": "         lat         lon            datetime  id  index_grid\n0  39.984094  116.319236 2008-10-23 05:53:05   1       34541\n1  39.984198  116.319322 2008-10-23 05:53:06   1       34883\n2  39.984224  116.319402 2008-10-23 05:53:11   1       34883\n3  39.984211  116.319389 2008-10-23 05:53:16   1       34883\n4  39.984217  116.319422 2008-10-23 05:53:21   1       35224"
     },
     "execution_count": 7,
     "metadata": {},
     "output_type": "execute_result"
    }
   ],
   "source": [
    "data.head()"
   ]
  },
  {
   "cell_type": "markdown",
   "metadata": {},
   "source": [
    "## Create all polygons to all point on grid"
   ]
  },
  {
   "cell_type": "code",
   "execution_count": 8,
   "metadata": {},
   "outputs": [
    {
     "name": "stdout",
     "output_type": "stream",
     "text": [
      "\n",
      "Creating or updating index of the grid feature..\n",
      "\n",
      "...[1000,1000] indexes were created to lat and lon\n",
      "...polygons were created\n"
     ]
    }
   ],
   "source": [
    "grid_data = grid.create_all_polygons_to_all_point_on_grid(data)"
   ]
  },
  {
   "cell_type": "code",
   "execution_count": 9,
   "metadata": {},
   "outputs": [
    {
     "data": {
      "text/html": "<div>\n<style scoped>\n    .dataframe tbody tr th:only-of-type {\n        vertical-align: middle;\n    }\n\n    .dataframe tbody tr th {\n        vertical-align: top;\n    }\n\n    .dataframe thead th {\n        text-align: right;\n    }\n</style>\n<table border=\"1\" class=\"dataframe\">\n  <thead>\n    <tr style=\"text-align: right;\">\n      <th></th>\n      <th>id</th>\n      <th>index_grid_lat</th>\n      <th>index_grid_lon</th>\n      <th>polygon</th>\n    </tr>\n  </thead>\n  <tbody>\n    <tr>\n      <th>0</th>\n      <td>1</td>\n      <td>100</td>\n      <td>101</td>\n      <td>POLYGON ((116.3191379944988 39.98404564801861,...</td>\n    </tr>\n    <tr>\n      <th>1</th>\n      <td>1</td>\n      <td>101</td>\n      <td>102</td>\n      <td>POLYGON ((116.319273340979 39.98418099449879, ...</td>\n    </tr>\n    <tr>\n      <th>4</th>\n      <td>1</td>\n      <td>101</td>\n      <td>103</td>\n      <td>POLYGON ((116.3194086874592 39.98418099449879,...</td>\n    </tr>\n    <tr>\n      <th>5</th>\n      <td>1</td>\n      <td>104</td>\n      <td>106</td>\n      <td>POLYGON ((116.3198147268997 39.98458703393936,...</td>\n    </tr>\n    <tr>\n      <th>6</th>\n      <td>1</td>\n      <td>104</td>\n      <td>105</td>\n      <td>POLYGON ((116.3196793804195 39.98458703393936,...</td>\n    </tr>\n  </tbody>\n</table>\n</div>",
      "text/plain": "   id  index_grid_lat  index_grid_lon  \\\n0   1             100             101   \n1   1             101             102   \n4   1             101             103   \n5   1             104             106   \n6   1             104             105   \n\n                                             polygon  \n0  POLYGON ((116.3191379944988 39.98404564801861,...  \n1  POLYGON ((116.319273340979 39.98418099449879, ...  \n4  POLYGON ((116.3194086874592 39.98418099449879,...  \n5  POLYGON ((116.3198147268997 39.98458703393936,...  \n6  POLYGON ((116.3196793804195 39.98458703393936,...  "
     },
     "execution_count": 9,
     "metadata": {},
     "output_type": "execute_result"
    }
   ],
   "source": [
    "grid_data.head()"
   ]
  },
  {
   "cell_type": "markdown",
   "metadata": {},
   "source": [
    "## Create all polygons on grid"
   ]
  },
  {
   "cell_type": "code",
   "execution_count": 10,
   "metadata": {},
   "outputs": [
    {
     "name": "stdout",
     "output_type": "stream",
     "text": [
      "\n",
      "Creating all polygons on virtual grid\n"
     ]
    },
    {
     "data": {
      "application/vnd.jupyter.widget-view+json": {
       "model_id": "9f87665b970a4151955609c4c1258f6f",
       "version_major": 2,
       "version_minor": 0
      },
      "text/plain": "VBox(children=(HTML(value=''), IntProgress(value=0, max=341)))"
     },
     "metadata": {},
     "output_type": "display_data"
    },
    {
     "name": "stdout",
     "output_type": "stream",
     "text": [
      "...geometries saved on Grid grid_polygon property\n"
     ]
    }
   ],
   "source": [
    "grid.create_all_polygons_on_grid()"
   ]
  },
  {
   "cell_type": "code",
   "execution_count": 11,
   "metadata": {},
   "outputs": [
    {
     "data": {
      "text/plain": "(341, 266)"
     },
     "execution_count": 11,
     "metadata": {},
     "output_type": "execute_result"
    }
   ],
   "source": [
    "(grid.grid_polygon).shape"
   ]
  },
  {
   "cell_type": "markdown",
   "metadata": {},
   "source": [
    "## Get point to index grid"
   ]
  },
  {
   "cell_type": "code",
   "execution_count": 12,
   "metadata": {},
   "outputs": [
    {
     "name": "stdout",
     "output_type": "stream",
     "text": [
      "...[1,1] indexes were created to lat and lon\n"
     ]
    },
    {
     "data": {
      "text/plain": "(100.0, 101.0)"
     },
     "execution_count": 12,
     "metadata": {},
     "output_type": "execute_result"
    }
   ],
   "source": [
    "grid.point_to_index_grid(39.984094, 116.319236)"
   ]
  },
  {
   "cell_type": "markdown",
   "metadata": {},
   "source": [
    "## Save grid to .pkl"
   ]
  },
  {
   "cell_type": "code",
   "execution_count": 13,
   "metadata": {},
   "outputs": [],
   "source": [
    "grid.save_grid_pkl('teste.pkl')"
   ]
  },
  {
   "cell_type": "markdown",
   "metadata": {},
   "source": [
    "## Read .pkl to grid"
   ]
  },
  {
   "cell_type": "code",
   "execution_count": 14,
   "metadata": {},
   "outputs": [
    {
     "data": {
      "text/plain": "{'lon_min_x': 116.305468,\n 'lat_min_y': 39.970511,\n 'grid_size_lat_y': 341,\n 'grid_size_lon_x': 266,\n 'cell_size_by_degree': 0.0001353464801860623}"
     },
     "execution_count": 14,
     "metadata": {},
     "output_type": "execute_result"
    }
   ],
   "source": [
    "grid.read_grid_pkl('teste.pkl').get_grid()"
   ]
  },
  {
   "cell_type": "markdown",
   "metadata": {},
   "source": [
    "## Show a grid polygons"
   ]
  },
  {
   "cell_type": "code",
   "execution_count": 15,
   "metadata": {},
   "outputs": [
    {
     "data": {
      "image/png": "[encoded data removed]",
      "text/plain": "<Figure size 720x720 with 1 Axes>"
     },
     "metadata": {
      "needs_background": "light"
     },
     "output_type": "display_data"
    }
   ],
   "source": [
    "grid.show_grid_polygons(grid_data, return_fig=False)"
   ]
  },
  {
   "cell_type": "code",
   "execution_count": null,
   "metadata": {},
   "outputs": [],
   "source": []
  }
 ],
 "metadata": {
  "kernelspec": {
   "display_name": "Python 3.8.5 64-bit ('pmv': conda)",
   "name": "python385jvsc74a57bd06598034eb05a53fb57097e96134c3b18c60aedc5a8a571bcc34a25489d15faeb"
  },
  "language_info": {
   "name": "python",
   "version": ""
  }
 },
 "nbformat": 4,
 "nbformat_minor": 4
}
