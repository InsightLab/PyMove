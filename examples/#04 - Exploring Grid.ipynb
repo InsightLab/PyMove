{
 "cells": [
  {
   "cell_type": "markdown",
   "metadata": {},
   "source": [
    "# #04 - Exploring Grid\n",
    "\n",
    "<!-- - Falar sobre a problemática: muitos dados e etc, custo de processamento -->\n",
    "In trajectories data mining process, there is a need frequent acess differents segments and  samples of trajectories. With big volume data, those acesses can need time and processing. With this, it's necessary to adopt effective techniques to management and handling of this data, allowed fast recovery of data.\n",
    "\n",
    "\n",
    "<!-- - Introduzir o conceito de grid e seus benefícios -->\n",
    "One approach to this technique takes geographic space into account, dividing it into grids, the so-called **grids**, and **creating a time index for the trajectories that fall into each cell of this grid**. **Each segment** that falls into a grid **is represented by a point with coordinates equal to the start time point and the end time point of the segment**.\n",
    "\n",
    "\n",
    "<!-- - Falar sobre como é considerado o conceito de grid no Pymove -->\n",
    "\n",
    "In PyMove, grids are delimited by coordinates in a \n",
    "cartesian plan based tracing in bound box of data. Grids are represented by objects that have those attributes:\n",
    "\n",
    "- **lon_min_x:** minimum longitude.\n",
    "- **lat_min_y:** minimum latitude. \n",
    "- **grid_size_lat_y:** grid latitude size. \n",
    "- **grid_size_lon_x:** grid longitude size.\n",
    "- **cell_size_by_degree:** cell size of Grid.\n",
    "\n",
    "### Let's go!\n",
    "\n",
    "---\n",
    "\n",
    "### Imports\n",
    "\n"
   ]
  },
  {
   "cell_type": "code",
   "execution_count": 2,
   "metadata": {},
   "outputs": [],
   "source": [
    "import pandas as pd\n",
    "from pymove import MoveDataFrame\n",
    "from pymove.core.grid import Grid"
   ]
  },
  {
   "cell_type": "markdown",
   "metadata": {},
   "source": [
    "---\n",
    "\n",
    "### Load data"
   ]
  },
  {
   "cell_type": "code",
   "execution_count": 2,
   "metadata": {},
   "outputs": [
    {
     "data": {
      "text/html": [
       "<div>\n",
       "<style scoped>\n",
       "    .dataframe tbody tr th:only-of-type {\n",
       "        vertical-align: middle;\n",
       "    }\n",
       "\n",
       "    .dataframe tbody tr th {\n",
       "        vertical-align: top;\n",
       "    }\n",
       "\n",
       "    .dataframe thead th {\n",
       "        text-align: right;\n",
       "    }\n",
       "</style>\n",
       "<table border=\"1\" class=\"dataframe\">\n",
       "  <thead>\n",
       "    <tr style=\"text-align: right;\">\n",
       "      <th></th>\n",
       "      <th>lat</th>\n",
       "      <th>lon</th>\n",
       "      <th>datetime</th>\n",
       "      <th>id</th>\n",
       "    </tr>\n",
       "  </thead>\n",
       "  <tbody>\n",
       "    <tr>\n",
       "      <th>0</th>\n",
       "      <td>39.984094</td>\n",
       "      <td>116.319236</td>\n",
       "      <td>2008-10-23 05:53:05</td>\n",
       "      <td>1</td>\n",
       "    </tr>\n",
       "    <tr>\n",
       "      <th>1</th>\n",
       "      <td>39.984198</td>\n",
       "      <td>116.319322</td>\n",
       "      <td>2008-10-23 05:53:06</td>\n",
       "      <td>1</td>\n",
       "    </tr>\n",
       "    <tr>\n",
       "      <th>2</th>\n",
       "      <td>39.984224</td>\n",
       "      <td>116.319402</td>\n",
       "      <td>2008-10-23 05:53:11</td>\n",
       "      <td>1</td>\n",
       "    </tr>\n",
       "    <tr>\n",
       "      <th>3</th>\n",
       "      <td>39.984211</td>\n",
       "      <td>116.319389</td>\n",
       "      <td>2008-10-23 05:53:16</td>\n",
       "      <td>1</td>\n",
       "    </tr>\n",
       "    <tr>\n",
       "      <th>4</th>\n",
       "      <td>39.984217</td>\n",
       "      <td>116.319422</td>\n",
       "      <td>2008-10-23 05:53:21</td>\n",
       "      <td>1</td>\n",
       "    </tr>\n",
       "    <tr>\n",
       "      <th>...</th>\n",
       "      <td>...</td>\n",
       "      <td>...</td>\n",
       "      <td>...</td>\n",
       "      <td>...</td>\n",
       "    </tr>\n",
       "    <tr>\n",
       "      <th>95</th>\n",
       "      <td>39.979622</td>\n",
       "      <td>116.322669</td>\n",
       "      <td>2008-10-23 05:59:05</td>\n",
       "      <td>1</td>\n",
       "    </tr>\n",
       "    <tr>\n",
       "      <th>96</th>\n",
       "      <td>39.979570</td>\n",
       "      <td>116.322801</td>\n",
       "      <td>2008-10-23 05:59:08</td>\n",
       "      <td>1</td>\n",
       "    </tr>\n",
       "    <tr>\n",
       "      <th>97</th>\n",
       "      <td>39.979546</td>\n",
       "      <td>116.322926</td>\n",
       "      <td>2008-10-23 05:59:11</td>\n",
       "      <td>1</td>\n",
       "    </tr>\n",
       "    <tr>\n",
       "      <th>98</th>\n",
       "      <td>39.979550</td>\n",
       "      <td>116.323046</td>\n",
       "      <td>2008-10-23 05:59:14</td>\n",
       "      <td>1</td>\n",
       "    </tr>\n",
       "    <tr>\n",
       "      <th>99</th>\n",
       "      <td>39.979565</td>\n",
       "      <td>116.323193</td>\n",
       "      <td>2008-10-23 05:59:16</td>\n",
       "      <td>1</td>\n",
       "    </tr>\n",
       "  </tbody>\n",
       "</table>\n",
       "<p>100 rows × 4 columns</p>\n",
       "</div>"
      ],
      "text/plain": [
       "          lat         lon            datetime  id\n",
       "0   39.984094  116.319236 2008-10-23 05:53:05   1\n",
       "1   39.984198  116.319322 2008-10-23 05:53:06   1\n",
       "2   39.984224  116.319402 2008-10-23 05:53:11   1\n",
       "3   39.984211  116.319389 2008-10-23 05:53:16   1\n",
       "4   39.984217  116.319422 2008-10-23 05:53:21   1\n",
       "..        ...         ...                 ...  ..\n",
       "95  39.979622  116.322669 2008-10-23 05:59:05   1\n",
       "96  39.979570  116.322801 2008-10-23 05:59:08   1\n",
       "97  39.979546  116.322926 2008-10-23 05:59:11   1\n",
       "98  39.979550  116.323046 2008-10-23 05:59:14   1\n",
       "99  39.979565  116.323193 2008-10-23 05:59:16   1\n",
       "\n",
       "[100 rows x 4 columns]"
      ]
     },
     "execution_count": 2,
     "metadata": {},
     "output_type": "execute_result"
    }
   ],
   "source": [
    "df = pd.read_csv('examples/geolife_sample.csv', parse_dates=['datetime'])\n",
    "data = MoveDataFrame(df, latitude=\"lat\", longitude=\"lon\", datetime=\"datetime\")\n",
    "data = MoveDataFrame(data[:100])\n",
    "data"
   ]
  },
  {
   "cell_type": "markdown",
   "metadata": {},
   "source": [
    "--- \n",
    "## Create virtual Grid"
   ]
  },
  {
   "cell_type": "code",
   "execution_count": 4,
   "metadata": {},
   "outputs": [
    {
     "name": "stdout",
     "output_type": "stream",
     "text": [
      "\n",
      "Creating a virtual grid without polygons\n",
      "...cell size by degree: 0.0001353464801860623\n",
      "...grid_size_lat_y:41\n",
      "grid_size_lon_x:30\n",
      "\n",
      "..A virtual grid was created\n"
     ]
    }
   ],
   "source": [
    "grid = Grid(data, 15)"
   ]
  },
  {
   "cell_type": "code",
   "execution_count": 5,
   "metadata": {},
   "outputs": [
    {
     "data": {
      "text/plain": [
       "{'lon_min_x': 116.319236,\n",
       " 'lat_min_y': 39.979546,\n",
       " 'grid_size_lat_y': 41,\n",
       " 'grid_size_lon_x': 30,\n",
       " 'cell_size_by_degree': 0.0001353464801860623}"
      ]
     },
     "execution_count": 5,
     "metadata": {},
     "output_type": "execute_result"
    }
   ],
   "source": [
    "grid.get_grid()"
   ]
  },
  {
   "cell_type": "markdown",
   "metadata": {},
   "source": [
    "---\n",
    "\n",
    "## Create one polygon to point on grid"
   ]
  },
  {
   "cell_type": "code",
   "execution_count": 6,
   "metadata": {},
   "outputs": [
    {
     "data": {
      "image/svg+xml": [
       "<svg xmlns=\"http://www.w3.org/2000/svg\" xmlns:xlink=\"http://www.w3.org/1999/xlink\" width=\"100.0\" height=\"100.0\" viewBox=\"39.97981127910116 116.31936593262098 0.00014617419859774827 0.00014617419861906455\" preserveAspectRatio=\"xMinYMin meet\"><g transform=\"matrix(1,0,0,-1,0,232.63887803944058)\"><path fill-rule=\"evenodd\" fill=\"#66cc99\" stroke=\"#555555\" stroke-width=\"2.923483972381291e-06\" opacity=\"0.6\" d=\"M 39.97981669296037,116.3193713464802 L 39.979952039440555,116.3193713464802 L 39.979952039440555,116.31950669296039 L 39.97981669296037,116.31950669296039 L 39.97981669296037,116.3193713464802 z\" /></g></svg>"
      ],
      "text/plain": [
       "<shapely.geometry.polygon.Polygon at 0x12dcaa650>"
      ]
     },
     "execution_count": 6,
     "metadata": {},
     "output_type": "execute_result"
    }
   ],
   "source": [
    "grid.create_one_polygon_to_point_on_grid(2, 1)"
   ]
  },
  {
   "cell_type": "markdown",
   "metadata": {},
   "source": [
    "---\n",
    "\n",
    "## Create or update index grid feature"
   ]
  },
  {
   "cell_type": "code",
   "execution_count": 7,
   "metadata": {},
   "outputs": [
    {
     "name": "stdout",
     "output_type": "stream",
     "text": [
      "\n",
      "Creating or updating index of the grid feature..\n",
      "\n",
      "...[100,100] indexes were created to lat and lon\n"
     ]
    }
   ],
   "source": [
    "grid.create_update_index_grid_feature(data)"
   ]
  },
  {
   "cell_type": "markdown",
   "metadata": {},
   "source": [
    "---\n",
    "\n",
    "## Create all polygons to all point on grid"
   ]
  },
  {
   "cell_type": "code",
   "execution_count": 8,
   "metadata": {},
   "outputs": [
    {
     "name": "stdout",
     "output_type": "stream",
     "text": [
      "\n",
      "Creating or updating index of the grid feature..\n",
      "\n",
      "...[100,100] indexes were created to lat and lon\n"
     ]
    },
    {
     "data": {
      "application/vnd.jupyter.widget-view+json": {
       "model_id": "e5f422cbab9141ab958c7c1e95fca346",
       "version_major": 2,
       "version_minor": 0
      },
      "text/plain": [
       "HBox(children=(IntProgress(value=0, max=66), HTML(value='')))"
      ]
     },
     "metadata": {},
     "output_type": "display_data"
    },
    {
     "name": "stdout",
     "output_type": "stream",
     "text": [
      "\n",
      "...polygons were created\n"
     ]
    }
   ],
   "source": [
    "data = grid.create_all_polygons_to_all_point_on_grid(data)"
   ]
  },
  {
   "cell_type": "code",
   "execution_count": 9,
   "metadata": {},
   "outputs": [
    {
     "data": {
      "text/html": [
       "<div>\n",
       "<style scoped>\n",
       "    .dataframe tbody tr th:only-of-type {\n",
       "        vertical-align: middle;\n",
       "    }\n",
       "\n",
       "    .dataframe tbody tr th {\n",
       "        vertical-align: top;\n",
       "    }\n",
       "\n",
       "    .dataframe thead th {\n",
       "        text-align: right;\n",
       "    }\n",
       "</style>\n",
       "<table border=\"1\" class=\"dataframe\">\n",
       "  <thead>\n",
       "    <tr style=\"text-align: right;\">\n",
       "      <th></th>\n",
       "      <th>id</th>\n",
       "      <th>index_grid_lat</th>\n",
       "      <th>index_grid_lon</th>\n",
       "      <th>polygon</th>\n",
       "    </tr>\n",
       "  </thead>\n",
       "  <tbody>\n",
       "    <tr>\n",
       "      <th>0</th>\n",
       "      <td>1</td>\n",
       "      <td>33</td>\n",
       "      <td>0</td>\n",
       "      <td>POLYGON ((39.98401243384614 116.319236, 39.984...</td>\n",
       "    </tr>\n",
       "    <tr>\n",
       "      <th>1</th>\n",
       "      <td>1</td>\n",
       "      <td>34</td>\n",
       "      <td>0</td>\n",
       "      <td>POLYGON ((39.98414778032632 116.319236, 39.984...</td>\n",
       "    </tr>\n",
       "    <tr>\n",
       "      <th>2</th>\n",
       "      <td>1</td>\n",
       "      <td>34</td>\n",
       "      <td>1</td>\n",
       "      <td>POLYGON ((39.98414778032632 116.3193713464802,...</td>\n",
       "    </tr>\n",
       "    <tr>\n",
       "      <th>5</th>\n",
       "      <td>1</td>\n",
       "      <td>38</td>\n",
       "      <td>4</td>\n",
       "      <td>POLYGON ((39.98414778032632 116.3193713464802,...</td>\n",
       "    </tr>\n",
       "    <tr>\n",
       "      <th>6</th>\n",
       "      <td>1</td>\n",
       "      <td>37</td>\n",
       "      <td>4</td>\n",
       "      <td>POLYGON ((39.98414778032632 116.3193713464802,...</td>\n",
       "    </tr>\n",
       "    <tr>\n",
       "      <th>...</th>\n",
       "      <td>...</td>\n",
       "      <td>...</td>\n",
       "      <td>...</td>\n",
       "      <td>...</td>\n",
       "    </tr>\n",
       "    <tr>\n",
       "      <th>95</th>\n",
       "      <td>1</td>\n",
       "      <td>0</td>\n",
       "      <td>25</td>\n",
       "      <td>POLYGON ((39.98144085072261 116.3212661972028,...</td>\n",
       "    </tr>\n",
       "    <tr>\n",
       "      <th>96</th>\n",
       "      <td>1</td>\n",
       "      <td>0</td>\n",
       "      <td>26</td>\n",
       "      <td>POLYGON ((39.98130550424242 116.3212661972028,...</td>\n",
       "    </tr>\n",
       "    <tr>\n",
       "      <th>97</th>\n",
       "      <td>1</td>\n",
       "      <td>0</td>\n",
       "      <td>27</td>\n",
       "      <td>POLYGON ((39.98117015776223 116.3212661972028,...</td>\n",
       "    </tr>\n",
       "    <tr>\n",
       "      <th>98</th>\n",
       "      <td>1</td>\n",
       "      <td>0</td>\n",
       "      <td>28</td>\n",
       "      <td>POLYGON ((39.98103481128204 116.3212661972028,...</td>\n",
       "    </tr>\n",
       "    <tr>\n",
       "      <th>99</th>\n",
       "      <td>1</td>\n",
       "      <td>0</td>\n",
       "      <td>29</td>\n",
       "      <td>POLYGON ((39.98103481128204 116.3212661972028,...</td>\n",
       "    </tr>\n",
       "  </tbody>\n",
       "</table>\n",
       "<p>66 rows × 4 columns</p>\n",
       "</div>"
      ],
      "text/plain": [
       "    id  index_grid_lat  index_grid_lon  \\\n",
       "0    1              33               0   \n",
       "1    1              34               0   \n",
       "2    1              34               1   \n",
       "5    1              38               4   \n",
       "6    1              37               4   \n",
       "..  ..             ...             ...   \n",
       "95   1               0              25   \n",
       "96   1               0              26   \n",
       "97   1               0              27   \n",
       "98   1               0              28   \n",
       "99   1               0              29   \n",
       "\n",
       "                                              polygon  \n",
       "0   POLYGON ((39.98401243384614 116.319236, 39.984...  \n",
       "1   POLYGON ((39.98414778032632 116.319236, 39.984...  \n",
       "2   POLYGON ((39.98414778032632 116.3193713464802,...  \n",
       "5   POLYGON ((39.98414778032632 116.3193713464802,...  \n",
       "6   POLYGON ((39.98414778032632 116.3193713464802,...  \n",
       "..                                                ...  \n",
       "95  POLYGON ((39.98144085072261 116.3212661972028,...  \n",
       "96  POLYGON ((39.98130550424242 116.3212661972028,...  \n",
       "97  POLYGON ((39.98117015776223 116.3212661972028,...  \n",
       "98  POLYGON ((39.98103481128204 116.3212661972028,...  \n",
       "99  POLYGON ((39.98103481128204 116.3212661972028,...  \n",
       "\n",
       "[66 rows x 4 columns]"
      ]
     },
     "execution_count": 9,
     "metadata": {},
     "output_type": "execute_result"
    }
   ],
   "source": [
    "data"
   ]
  },
  {
   "cell_type": "markdown",
   "metadata": {},
   "source": [
    "---\n",
    "\n",
    "## Create all polygons on grid"
   ]
  },
  {
   "cell_type": "code",
   "execution_count": 10,
   "metadata": {},
   "outputs": [
    {
     "name": "stdout",
     "output_type": "stream",
     "text": [
      "\n",
      "Creating all polygons on virtual grid\n"
     ]
    },
    {
     "data": {
      "application/vnd.jupyter.widget-view+json": {
       "model_id": "c7e683daecab42b0b8c010632e4bc1ba",
       "version_major": 2,
       "version_minor": 0
      },
      "text/plain": [
       "HBox(children=(IntProgress(value=0, max=41), HTML(value='')))"
      ]
     },
     "metadata": {},
     "output_type": "display_data"
    },
    {
     "name": "stdout",
     "output_type": "stream",
     "text": [
      "\n",
      "...geometry was created in a object Grid\n"
     ]
    }
   ],
   "source": [
    "grid.create_all_polygons_on_grid()"
   ]
  },
  {
   "cell_type": "code",
   "execution_count": 11,
   "metadata": {},
   "outputs": [
    {
     "data": {
      "text/html": [
       "<div>\n",
       "<style scoped>\n",
       "    .dataframe tbody tr th:only-of-type {\n",
       "        vertical-align: middle;\n",
       "    }\n",
       "\n",
       "    .dataframe tbody tr th {\n",
       "        vertical-align: top;\n",
       "    }\n",
       "\n",
       "    .dataframe thead th {\n",
       "        text-align: right;\n",
       "    }\n",
       "</style>\n",
       "<table border=\"1\" class=\"dataframe\">\n",
       "  <thead>\n",
       "    <tr style=\"text-align: right;\">\n",
       "      <th></th>\n",
       "      <th>id</th>\n",
       "      <th>index_grid_lat</th>\n",
       "      <th>index_grid_lon</th>\n",
       "      <th>polygon</th>\n",
       "    </tr>\n",
       "  </thead>\n",
       "  <tbody>\n",
       "    <tr>\n",
       "      <th>0</th>\n",
       "      <td>1</td>\n",
       "      <td>33</td>\n",
       "      <td>0</td>\n",
       "      <td>POLYGON ((39.98401243384614 116.319236, 39.984...</td>\n",
       "    </tr>\n",
       "    <tr>\n",
       "      <th>1</th>\n",
       "      <td>1</td>\n",
       "      <td>34</td>\n",
       "      <td>0</td>\n",
       "      <td>POLYGON ((39.98414778032632 116.319236, 39.984...</td>\n",
       "    </tr>\n",
       "    <tr>\n",
       "      <th>2</th>\n",
       "      <td>1</td>\n",
       "      <td>34</td>\n",
       "      <td>1</td>\n",
       "      <td>POLYGON ((39.98414778032632 116.3193713464802,...</td>\n",
       "    </tr>\n",
       "    <tr>\n",
       "      <th>5</th>\n",
       "      <td>1</td>\n",
       "      <td>38</td>\n",
       "      <td>4</td>\n",
       "      <td>POLYGON ((39.98414778032632 116.3193713464802,...</td>\n",
       "    </tr>\n",
       "    <tr>\n",
       "      <th>6</th>\n",
       "      <td>1</td>\n",
       "      <td>37</td>\n",
       "      <td>4</td>\n",
       "      <td>POLYGON ((39.98414778032632 116.3193713464802,...</td>\n",
       "    </tr>\n",
       "    <tr>\n",
       "      <th>...</th>\n",
       "      <td>...</td>\n",
       "      <td>...</td>\n",
       "      <td>...</td>\n",
       "      <td>...</td>\n",
       "    </tr>\n",
       "    <tr>\n",
       "      <th>95</th>\n",
       "      <td>1</td>\n",
       "      <td>0</td>\n",
       "      <td>25</td>\n",
       "      <td>POLYGON ((39.98144085072261 116.3212661972028,...</td>\n",
       "    </tr>\n",
       "    <tr>\n",
       "      <th>96</th>\n",
       "      <td>1</td>\n",
       "      <td>0</td>\n",
       "      <td>26</td>\n",
       "      <td>POLYGON ((39.98130550424242 116.3212661972028,...</td>\n",
       "    </tr>\n",
       "    <tr>\n",
       "      <th>97</th>\n",
       "      <td>1</td>\n",
       "      <td>0</td>\n",
       "      <td>27</td>\n",
       "      <td>POLYGON ((39.98117015776223 116.3212661972028,...</td>\n",
       "    </tr>\n",
       "    <tr>\n",
       "      <th>98</th>\n",
       "      <td>1</td>\n",
       "      <td>0</td>\n",
       "      <td>28</td>\n",
       "      <td>POLYGON ((39.98103481128204 116.3212661972028,...</td>\n",
       "    </tr>\n",
       "    <tr>\n",
       "      <th>99</th>\n",
       "      <td>1</td>\n",
       "      <td>0</td>\n",
       "      <td>29</td>\n",
       "      <td>POLYGON ((39.98103481128204 116.3212661972028,...</td>\n",
       "    </tr>\n",
       "  </tbody>\n",
       "</table>\n",
       "<p>66 rows × 4 columns</p>\n",
       "</div>"
      ],
      "text/plain": [
       "    id  index_grid_lat  index_grid_lon  \\\n",
       "0    1              33               0   \n",
       "1    1              34               0   \n",
       "2    1              34               1   \n",
       "5    1              38               4   \n",
       "6    1              37               4   \n",
       "..  ..             ...             ...   \n",
       "95   1               0              25   \n",
       "96   1               0              26   \n",
       "97   1               0              27   \n",
       "98   1               0              28   \n",
       "99   1               0              29   \n",
       "\n",
       "                                              polygon  \n",
       "0   POLYGON ((39.98401243384614 116.319236, 39.984...  \n",
       "1   POLYGON ((39.98414778032632 116.319236, 39.984...  \n",
       "2   POLYGON ((39.98414778032632 116.3193713464802,...  \n",
       "5   POLYGON ((39.98414778032632 116.3193713464802,...  \n",
       "6   POLYGON ((39.98414778032632 116.3193713464802,...  \n",
       "..                                                ...  \n",
       "95  POLYGON ((39.98144085072261 116.3212661972028,...  \n",
       "96  POLYGON ((39.98130550424242 116.3212661972028,...  \n",
       "97  POLYGON ((39.98117015776223 116.3212661972028,...  \n",
       "98  POLYGON ((39.98103481128204 116.3212661972028,...  \n",
       "99  POLYGON ((39.98103481128204 116.3212661972028,...  \n",
       "\n",
       "[66 rows x 4 columns]"
      ]
     },
     "execution_count": 11,
     "metadata": {},
     "output_type": "execute_result"
    }
   ],
   "source": [
    "data"
   ]
  },
  {
   "cell_type": "markdown",
   "metadata": {},
   "source": [
    "---\n",
    "\n",
    "## Get point to index grid "
   ]
  },
  {
   "cell_type": "code",
   "execution_count": 12,
   "metadata": {},
   "outputs": [
    {
     "name": "stdout",
     "output_type": "stream",
     "text": [
      "...[1,1] indexes were created to lat and lon\n"
     ]
    },
    {
     "data": {
      "text/plain": [
       "(33.0, 0.0)"
      ]
     },
     "execution_count": 12,
     "metadata": {},
     "output_type": "execute_result"
    }
   ],
   "source": [
    "grid.point_to_index_grid(39.984094, 116.319236)"
   ]
  },
  {
   "cell_type": "markdown",
   "metadata": {},
   "source": [
    "---\n",
    "\n",
    "## Save grid to .pkl"
   ]
  },
  {
   "cell_type": "code",
   "execution_count": 13,
   "metadata": {},
   "outputs": [
    {
     "name": "stdout",
     "output_type": "stream",
     "text": [
      "\n",
      "A file was saved\n"
     ]
    }
   ],
   "source": [
    "grid.save_grid_pkl('teste.pkl')"
   ]
  },
  {
   "cell_type": "markdown",
   "metadata": {},
   "source": [
    "# Read .pkl to grid"
   ]
  },
  {
   "cell_type": "code",
   "execution_count": 14,
   "metadata": {},
   "outputs": [
    {
     "data": {
      "text/plain": [
       "{'lon_min_x': 116.319236,\n",
       " 'lat_min_y': 39.979546,\n",
       " 'grid_size_lat_y': 41,\n",
       " 'grid_size_lon_x': 30,\n",
       " 'cell_size_by_degree': 0.0001353464801860623}"
      ]
     },
     "execution_count": 14,
     "metadata": {},
     "output_type": "execute_result"
    }
   ],
   "source": [
    "grid.read_grid_pkl('teste.pkl')"
   ]
  },
  {
   "cell_type": "markdown",
   "metadata": {},
   "source": [
    "# Show a grid polygons"
   ]
  },
  {
   "cell_type": "code",
   "execution_count": 15,
   "metadata": {},
   "outputs": [
    {
     "data": {
      "text/html": [
       "<div>\n",
       "<style scoped>\n",
       "    .dataframe tbody tr th:only-of-type {\n",
       "        vertical-align: middle;\n",
       "    }\n",
       "\n",
       "    .dataframe tbody tr th {\n",
       "        vertical-align: top;\n",
       "    }\n",
       "\n",
       "    .dataframe thead th {\n",
       "        text-align: right;\n",
       "    }\n",
       "</style>\n",
       "<table border=\"1\" class=\"dataframe\">\n",
       "  <thead>\n",
       "    <tr style=\"text-align: right;\">\n",
       "      <th></th>\n",
       "      <th>id</th>\n",
       "      <th>index_grid_lat</th>\n",
       "      <th>index_grid_lon</th>\n",
       "      <th>polygon</th>\n",
       "    </tr>\n",
       "  </thead>\n",
       "  <tbody>\n",
       "    <tr>\n",
       "      <th>0</th>\n",
       "      <td>1</td>\n",
       "      <td>33</td>\n",
       "      <td>0</td>\n",
       "      <td>POLYGON ((39.98401243384614 116.319236, 39.984...</td>\n",
       "    </tr>\n",
       "    <tr>\n",
       "      <th>1</th>\n",
       "      <td>1</td>\n",
       "      <td>34</td>\n",
       "      <td>0</td>\n",
       "      <td>POLYGON ((39.98414778032632 116.319236, 39.984...</td>\n",
       "    </tr>\n",
       "    <tr>\n",
       "      <th>2</th>\n",
       "      <td>1</td>\n",
       "      <td>34</td>\n",
       "      <td>1</td>\n",
       "      <td>POLYGON ((39.98414778032632 116.3193713464802,...</td>\n",
       "    </tr>\n",
       "    <tr>\n",
       "      <th>5</th>\n",
       "      <td>1</td>\n",
       "      <td>38</td>\n",
       "      <td>4</td>\n",
       "      <td>POLYGON ((39.98414778032632 116.3193713464802,...</td>\n",
       "    </tr>\n",
       "    <tr>\n",
       "      <th>6</th>\n",
       "      <td>1</td>\n",
       "      <td>37</td>\n",
       "      <td>4</td>\n",
       "      <td>POLYGON ((39.98414778032632 116.3193713464802,...</td>\n",
       "    </tr>\n",
       "    <tr>\n",
       "      <th>...</th>\n",
       "      <td>...</td>\n",
       "      <td>...</td>\n",
       "      <td>...</td>\n",
       "      <td>...</td>\n",
       "    </tr>\n",
       "    <tr>\n",
       "      <th>95</th>\n",
       "      <td>1</td>\n",
       "      <td>0</td>\n",
       "      <td>25</td>\n",
       "      <td>POLYGON ((39.98144085072261 116.3212661972028,...</td>\n",
       "    </tr>\n",
       "    <tr>\n",
       "      <th>96</th>\n",
       "      <td>1</td>\n",
       "      <td>0</td>\n",
       "      <td>26</td>\n",
       "      <td>POLYGON ((39.98130550424242 116.3212661972028,...</td>\n",
       "    </tr>\n",
       "    <tr>\n",
       "      <th>97</th>\n",
       "      <td>1</td>\n",
       "      <td>0</td>\n",
       "      <td>27</td>\n",
       "      <td>POLYGON ((39.98117015776223 116.3212661972028,...</td>\n",
       "    </tr>\n",
       "    <tr>\n",
       "      <th>98</th>\n",
       "      <td>1</td>\n",
       "      <td>0</td>\n",
       "      <td>28</td>\n",
       "      <td>POLYGON ((39.98103481128204 116.3212661972028,...</td>\n",
       "    </tr>\n",
       "    <tr>\n",
       "      <th>99</th>\n",
       "      <td>1</td>\n",
       "      <td>0</td>\n",
       "      <td>29</td>\n",
       "      <td>POLYGON ((39.98103481128204 116.3212661972028,...</td>\n",
       "    </tr>\n",
       "  </tbody>\n",
       "</table>\n",
       "<p>66 rows × 4 columns</p>\n",
       "</div>"
      ],
      "text/plain": [
       "    id  index_grid_lat  index_grid_lon  \\\n",
       "0    1              33               0   \n",
       "1    1              34               0   \n",
       "2    1              34               1   \n",
       "5    1              38               4   \n",
       "6    1              37               4   \n",
       "..  ..             ...             ...   \n",
       "95   1               0              25   \n",
       "96   1               0              26   \n",
       "97   1               0              27   \n",
       "98   1               0              28   \n",
       "99   1               0              29   \n",
       "\n",
       "                                              polygon  \n",
       "0   POLYGON ((39.98401243384614 116.319236, 39.984...  \n",
       "1   POLYGON ((39.98414778032632 116.319236, 39.984...  \n",
       "2   POLYGON ((39.98414778032632 116.3193713464802,...  \n",
       "5   POLYGON ((39.98414778032632 116.3193713464802,...  \n",
       "6   POLYGON ((39.98414778032632 116.3193713464802,...  \n",
       "..                                                ...  \n",
       "95  POLYGON ((39.98144085072261 116.3212661972028,...  \n",
       "96  POLYGON ((39.98130550424242 116.3212661972028,...  \n",
       "97  POLYGON ((39.98117015776223 116.3212661972028,...  \n",
       "98  POLYGON ((39.98103481128204 116.3212661972028,...  \n",
       "99  POLYGON ((39.98103481128204 116.3212661972028,...  \n",
       "\n",
       "[66 rows x 4 columns]"
      ]
     },
     "execution_count": 15,
     "metadata": {},
     "output_type": "execute_result"
    }
   ],
   "source": [
    "data = data[data['id'] == 1]\n",
    "data"
   ]
  },
  {
   "cell_type": "code",
   "execution_count": 16,
   "metadata": {},
   "outputs": [
    {
     "name": "stdout",
     "output_type": "stream",
     "text": [
      "id                                                                1\n",
      "index_grid_lat                                                   33\n",
      "index_grid_lon                                                    0\n",
      "polygon           POLYGON ((39.98401243384614 116.319236, 39.984...\n",
      "Name: 0, dtype: object\n",
      "POLYGON ((39.98401243384614 116.319236, 39.98414778032632 116.319236, 39.98414778032632 116.3193713464802, 39.98401243384614 116.3193713464802, 39.98401243384614 116.319236))\n",
      "LINEARRING (39.98401243384614 116.319236, 39.98414778032632 116.319236, 39.98414778032632 116.3193713464802, 39.98401243384614 116.3193713464802, 39.98401243384614 116.319236)\n"
     ]
    },
    {
     "data": {
      "text/plain": [
       "(    id  index_grid_lat  index_grid_lon  \\\n",
       " 0    1              33               0   \n",
       " 1    1              34               0   \n",
       " 2    1              34               1   \n",
       " 5    1              38               4   \n",
       " 6    1              37               4   \n",
       " ..  ..             ...             ...   \n",
       " 95   1               0              25   \n",
       " 96   1               0              26   \n",
       " 97   1               0              27   \n",
       " 98   1               0              28   \n",
       " 99   1               0              29   \n",
       " \n",
       "                                               polygon  \n",
       " 0   POLYGON ((39.98401243384614 116.319236, 39.984...  \n",
       " 1   POLYGON ((39.98414778032632 116.319236, 39.984...  \n",
       " 2   POLYGON ((39.98414778032632 116.3193713464802,...  \n",
       " 5   POLYGON ((39.98414778032632 116.3193713464802,...  \n",
       " 6   POLYGON ((39.98414778032632 116.3193713464802,...  \n",
       " ..                                                ...  \n",
       " 95  POLYGON ((39.98144085072261 116.3212661972028,...  \n",
       " 96  POLYGON ((39.98130550424242 116.3212661972028,...  \n",
       " 97  POLYGON ((39.98117015776223 116.3212661972028,...  \n",
       " 98  POLYGON ((39.98103481128204 116.3212661972028,...  \n",
       " 99  POLYGON ((39.98103481128204 116.3212661972028,...  \n",
       " \n",
       " [66 rows x 4 columns], <Figure size 720x720 with 1 Axes>)"
      ]
     },
     "execution_count": 16,
     "metadata": {},
     "output_type": "execute_result"
    },
    {
     "data": {
      "image/png": "[encoded data removed]",
      "text/plain": [
       "<Figure size 720x720 with 1 Axes>"
      ]
     },
     "metadata": {
      "needs_background": "light"
     },
     "output_type": "display_data"
    }
   ],
   "source": [
    "grid.show_grid_polygons(data, 1)"
   ]
  }
 ],
 "metadata": {
  "kernelspec": {
   "display_name": "Python 3",
   "language": "python",
   "name": "python3"
  },
  "language_info": {
   "codemirror_mode": {
    "name": "ipython",
    "version": 3
   },
   "file_extension": ".py",
   "mimetype": "text/x-python",
   "name": "python",
   "nbconvert_exporter": "python",
   "pygments_lexer": "ipython3",
   "version": "3.7.4"
  }
 },
 "nbformat": 4,
 "nbformat_minor": 2
}
