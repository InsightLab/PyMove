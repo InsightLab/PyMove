{
 "cells": [
  {
   "cell_type": "markdown",
   "metadata": {},
   "source": [
    "# #04 - Exploring Grid\n",
    "\n",
    "<!-- - Falar sobre a problemática: muitos dados e etc, custo de processamento -->\n",
    "In trajectories data mining process, there is a need frequent acess differents segments and  samples of trajectories. With big volume data, those acesses can need time and processing. With this, it's necessary to adopt effective techniques to management and handling of this data, allowed fast recovery of data.\n",
    "\n",
    "\n",
    "<!-- - Introduzir o conceito de grid e seus benefícios -->\n",
    "One approach to this technique takes geographic space into account, dividing it into grids, the so-called **grids**, and **creating a time index for the trajectories that fall into each cell of this grid**. **Each segment** that falls into a grid **is represented by a point with coordinates equal to the start time point and the end time point of the segment**.\n",
    "\n",
    "\n",
    "<!-- - Falar sobre como é considerado o conceito de grid no Pymove -->\n",
    "\n",
    "In PyMove, grids are delimited by coordinates in a \n",
    "cartesian plan based tracing in bound box of data. Grids are represented by objects that have those attributes:\n",
    "\n",
    "- **lon_min_x:** minimum longitude.\n",
    "- **lat_min_y:** minimum latitude. \n",
    "- **grid_size_lat_y:** grid latitude size. \n",
    "- **grid_size_lon_x:** grid longitude size.\n",
    "- **cell_size_by_degree:** cell size of Grid.\n",
    "\n",
    "### Let's go!\n",
    "\n",
    "\n",
    "### Imports\n",
    "\n"
   ]
  },
  {
   "cell_type": "code",
   "execution_count": 1,
   "metadata": {},
   "outputs": [],
   "source": [
    "import pandas as pd\n",
    "from pymove import MoveDataFrame\n",
    "from pymove.core.grid import Grid"
   ]
  },
  {
   "cell_type": "markdown",
   "metadata": {},
   "source": [
    "### Load data"
   ]
  },
  {
   "cell_type": "code",
   "execution_count": 2,
   "metadata": {},
   "outputs": [
    {
     "data": {
      "text/html": [
       "<div>\n",
       "<style scoped>\n",
       "    .dataframe tbody tr th:only-of-type {\n",
       "        vertical-align: middle;\n",
       "    }\n",
       "\n",
       "    .dataframe tbody tr th {\n",
       "        vertical-align: top;\n",
       "    }\n",
       "\n",
       "    .dataframe thead th {\n",
       "        text-align: right;\n",
       "    }\n",
       "</style>\n",
       "<table border=\"1\" class=\"dataframe\">\n",
       "  <thead>\n",
       "    <tr style=\"text-align: right;\">\n",
       "      <th></th>\n",
       "      <th>lat</th>\n",
       "      <th>lon</th>\n",
       "      <th>datetime</th>\n",
       "      <th>id</th>\n",
       "    </tr>\n",
       "  </thead>\n",
       "  <tbody>\n",
       "    <tr>\n",
       "      <th>0</th>\n",
       "      <td>39.984093</td>\n",
       "      <td>116.319237</td>\n",
       "      <td>2008-10-23 05:53:05</td>\n",
       "      <td>1</td>\n",
       "    </tr>\n",
       "    <tr>\n",
       "      <th>1</th>\n",
       "      <td>39.984200</td>\n",
       "      <td>116.319321</td>\n",
       "      <td>2008-10-23 05:53:06</td>\n",
       "      <td>1</td>\n",
       "    </tr>\n",
       "    <tr>\n",
       "      <th>2</th>\n",
       "      <td>39.984222</td>\n",
       "      <td>116.319405</td>\n",
       "      <td>2008-10-23 05:53:11</td>\n",
       "      <td>1</td>\n",
       "    </tr>\n",
       "    <tr>\n",
       "      <th>3</th>\n",
       "      <td>39.984211</td>\n",
       "      <td>116.319389</td>\n",
       "      <td>2008-10-23 05:53:16</td>\n",
       "      <td>1</td>\n",
       "    </tr>\n",
       "    <tr>\n",
       "      <th>4</th>\n",
       "      <td>39.984219</td>\n",
       "      <td>116.319420</td>\n",
       "      <td>2008-10-23 05:53:21</td>\n",
       "      <td>1</td>\n",
       "    </tr>\n",
       "    <tr>\n",
       "      <th>...</th>\n",
       "      <td>...</td>\n",
       "      <td>...</td>\n",
       "      <td>...</td>\n",
       "      <td>...</td>\n",
       "    </tr>\n",
       "    <tr>\n",
       "      <th>995</th>\n",
       "      <td>40.013763</td>\n",
       "      <td>116.306465</td>\n",
       "      <td>2008-10-23 23:43:31</td>\n",
       "      <td>1</td>\n",
       "    </tr>\n",
       "    <tr>\n",
       "      <th>996</th>\n",
       "      <td>40.013828</td>\n",
       "      <td>116.306412</td>\n",
       "      <td>2008-10-23 23:43:36</td>\n",
       "      <td>1</td>\n",
       "    </tr>\n",
       "    <tr>\n",
       "      <th>997</th>\n",
       "      <td>40.013905</td>\n",
       "      <td>116.306366</td>\n",
       "      <td>2008-10-23 23:43:41</td>\n",
       "      <td>1</td>\n",
       "    </tr>\n",
       "    <tr>\n",
       "      <th>998</th>\n",
       "      <td>40.013992</td>\n",
       "      <td>116.306320</td>\n",
       "      <td>2008-10-23 23:43:46</td>\n",
       "      <td>1</td>\n",
       "    </tr>\n",
       "    <tr>\n",
       "      <th>999</th>\n",
       "      <td>40.014088</td>\n",
       "      <td>116.306267</td>\n",
       "      <td>2008-10-23 23:43:51</td>\n",
       "      <td>1</td>\n",
       "    </tr>\n",
       "  </tbody>\n",
       "</table>\n",
       "<p>1000 rows × 4 columns</p>\n",
       "</div>"
      ],
      "text/plain": [
       "           lat         lon            datetime  id\n",
       "0    39.984093  116.319237 2008-10-23 05:53:05   1\n",
       "1    39.984200  116.319321 2008-10-23 05:53:06   1\n",
       "2    39.984222  116.319405 2008-10-23 05:53:11   1\n",
       "3    39.984211  116.319389 2008-10-23 05:53:16   1\n",
       "4    39.984219  116.319420 2008-10-23 05:53:21   1\n",
       "..         ...         ...                 ...  ..\n",
       "995  40.013763  116.306465 2008-10-23 23:43:31   1\n",
       "996  40.013828  116.306412 2008-10-23 23:43:36   1\n",
       "997  40.013905  116.306366 2008-10-23 23:43:41   1\n",
       "998  40.013992  116.306320 2008-10-23 23:43:46   1\n",
       "999  40.014088  116.306267 2008-10-23 23:43:51   1\n",
       "\n",
       "[1000 rows x 4 columns]"
      ]
     },
     "execution_count": 2,
     "metadata": {},
     "output_type": "execute_result"
    }
   ],
   "source": [
    "df = pd.read_csv('geolife_sample.csv', parse_dates=['datetime'])\n",
    "data = MoveDataFrame(df, latitude=\"lat\", longitude=\"lon\", datetime=\"datetime\")\n",
    "data = data[:1000]\n",
    "data"
   ]
  },
  {
   "cell_type": "markdown",
   "metadata": {},
   "source": [
    "--- \n",
    "## Create virtual Grid"
   ]
  },
  {
   "cell_type": "code",
   "execution_count": 3,
   "metadata": {},
   "outputs": [
    {
     "name": "stdout",
     "output_type": "stream",
     "text": [
      "\n",
      "Creating a virtual grid without polygons\n",
      "...cell size by degree: 0.0001353464801860623\n",
      "...grid_size_lat_y:341\n",
      "grid_size_lon_x:266\n",
      "\n",
      "..A virtual grid was created\n"
     ]
    }
   ],
   "source": [
    "grid = Grid(data, 15)"
   ]
  },
  {
   "cell_type": "code",
   "execution_count": 4,
   "metadata": {},
   "outputs": [
    {
     "data": {
      "text/plain": [
       "{'lon_min_x': 116.305466,\n",
       " 'lat_min_y': 39.970512,\n",
       " 'grid_size_lat_y': 341,\n",
       " 'grid_size_lon_x': 266,\n",
       " 'cell_size_by_degree': 0.0001353464801860623}"
      ]
     },
     "execution_count": 4,
     "metadata": {},
     "output_type": "execute_result"
    }
   ],
   "source": [
    "grid.get_grid()"
   ]
  },
  {
   "cell_type": "markdown",
   "metadata": {},
   "source": [
    "---\n",
    "\n",
    "## Create one polygon to point on grid"
   ]
  },
  {
   "cell_type": "code",
   "execution_count": 5,
   "metadata": {},
   "outputs": [
    {
     "data": {
      "image/svg+xml": [
       "<svg xmlns=\"http://www.w3.org/2000/svg\" xmlns:xlink=\"http://www.w3.org/1999/xlink\" width=\"100.0\" height=\"100.0\" viewBox=\"39.97077766923788 116.30559563086317 0.00014617419859774827 0.00014617419861906455\" preserveAspectRatio=\"xMinYMin meet\"><g transform=\"matrix(1,0,0,-1,0,232.61133743592495)\"><path fill-rule=\"evenodd\" fill=\"#66cc99\" stroke=\"#555555\" stroke-width=\"2.923483972381291e-06\" opacity=\"0.6\" d=\"M 39.97078308309709,116.30560104472238 L 39.970918429577274,116.30560104472238 L 39.970918429577274,116.30573639120257 L 39.97078308309709,116.30573639120257 L 39.97078308309709,116.30560104472238 z\" /></g></svg>"
      ],
      "text/plain": [
       "<shapely.geometry.polygon.Polygon at 0x7fecdb022310>"
      ]
     },
     "execution_count": 5,
     "metadata": {},
     "output_type": "execute_result"
    }
   ],
   "source": [
    "grid.create_one_polygon_to_point_on_grid(2, 1)"
   ]
  },
  {
   "cell_type": "markdown",
   "metadata": {},
   "source": [
    "---\n",
    "\n",
    "## Create or update index grid feature"
   ]
  },
  {
   "cell_type": "code",
   "execution_count": 6,
   "metadata": {},
   "outputs": [
    {
     "name": "stdout",
     "output_type": "stream",
     "text": [
      "\n",
      "Creating or updating index of the grid feature..\n",
      "\n",
      "...[1000,1000] indexes were created to lat and lon\n"
     ]
    }
   ],
   "source": [
    "grid.create_update_index_grid_feature(data)"
   ]
  },
  {
   "cell_type": "markdown",
   "metadata": {},
   "source": [
    "---\n",
    "\n",
    "## Create all polygons to all point on grid"
   ]
  },
  {
   "cell_type": "code",
   "execution_count": 7,
   "metadata": {},
   "outputs": [
    {
     "name": "stdout",
     "output_type": "stream",
     "text": [
      "\n",
      "Creating or updating index of the grid feature..\n",
      "\n",
      "...[1000,1000] indexes were created to lat and lon\n"
     ]
    },
    {
     "data": {
      "application/vnd.jupyter.widget-view+json": {
       "model_id": "eba4d6b34afa425186a58e2fb0699cec",
       "version_major": 2,
       "version_minor": 0
      },
      "text/plain": [
       "VBox(children=(HTML(value=''), IntProgress(value=0, max=556)))"
      ]
     },
     "metadata": {},
     "output_type": "display_data"
    },
    {
     "name": "stdout",
     "output_type": "stream",
     "text": [
      "...polygons were created\n"
     ]
    }
   ],
   "source": [
    "data = grid.create_all_polygons_to_all_point_on_grid(data)"
   ]
  },
  {
   "cell_type": "code",
   "execution_count": 8,
   "metadata": {},
   "outputs": [
    {
     "data": {
      "text/html": [
       "<div>\n",
       "<style scoped>\n",
       "    .dataframe tbody tr th:only-of-type {\n",
       "        vertical-align: middle;\n",
       "    }\n",
       "\n",
       "    .dataframe tbody tr th {\n",
       "        vertical-align: top;\n",
       "    }\n",
       "\n",
       "    .dataframe thead th {\n",
       "        text-align: right;\n",
       "    }\n",
       "</style>\n",
       "<table border=\"1\" class=\"dataframe\">\n",
       "  <thead>\n",
       "    <tr style=\"text-align: right;\">\n",
       "      <th></th>\n",
       "      <th>id</th>\n",
       "      <th>index_grid_lat</th>\n",
       "      <th>index_grid_lon</th>\n",
       "      <th>polygon</th>\n",
       "    </tr>\n",
       "  </thead>\n",
       "  <tbody>\n",
       "    <tr>\n",
       "      <th>0</th>\n",
       "      <td>1</td>\n",
       "      <td>100</td>\n",
       "      <td>101</td>\n",
       "      <td>POLYGON ((39.98404703815532 116.319135692741, ...</td>\n",
       "    </tr>\n",
       "    <tr>\n",
       "      <th>1</th>\n",
       "      <td>1</td>\n",
       "      <td>101</td>\n",
       "      <td>102</td>\n",
       "      <td>POLYGON ((39.98418238463551 116.3192710392212,...</td>\n",
       "    </tr>\n",
       "    <tr>\n",
       "      <th>4</th>\n",
       "      <td>1</td>\n",
       "      <td>101</td>\n",
       "      <td>103</td>\n",
       "      <td>POLYGON ((39.98418238463551 116.3192710392212,...</td>\n",
       "    </tr>\n",
       "    <tr>\n",
       "      <th>5</th>\n",
       "      <td>1</td>\n",
       "      <td>104</td>\n",
       "      <td>106</td>\n",
       "      <td>POLYGON ((39.98418238463551 116.3192710392212,...</td>\n",
       "    </tr>\n",
       "    <tr>\n",
       "      <th>6</th>\n",
       "      <td>1</td>\n",
       "      <td>104</td>\n",
       "      <td>105</td>\n",
       "      <td>POLYGON ((39.98418238463551 116.3194063857014,...</td>\n",
       "    </tr>\n",
       "    <tr>\n",
       "      <th>...</th>\n",
       "      <td>...</td>\n",
       "      <td>...</td>\n",
       "      <td>...</td>\n",
       "      <td>...</td>\n",
       "    </tr>\n",
       "    <tr>\n",
       "      <th>772</th>\n",
       "      <td>1</td>\n",
       "      <td>318</td>\n",
       "      <td>7</td>\n",
       "      <td>POLYGON ((40.01003356235105 116.3146692588948,...</td>\n",
       "    </tr>\n",
       "    <tr>\n",
       "      <th>782</th>\n",
       "      <td>1</td>\n",
       "      <td>320</td>\n",
       "      <td>7</td>\n",
       "      <td>POLYGON ((40.01003356235105 116.3146692588948,...</td>\n",
       "    </tr>\n",
       "    <tr>\n",
       "      <th>785</th>\n",
       "      <td>1</td>\n",
       "      <td>320</td>\n",
       "      <td>8</td>\n",
       "      <td>POLYGON ((40.01016890883123 116.3145339124147,...</td>\n",
       "    </tr>\n",
       "    <tr>\n",
       "      <th>988</th>\n",
       "      <td>1</td>\n",
       "      <td>319</td>\n",
       "      <td>8</td>\n",
       "      <td>POLYGON ((40.01016890883123 116.3145339124147,...</td>\n",
       "    </tr>\n",
       "    <tr>\n",
       "      <th>999</th>\n",
       "      <td>1</td>\n",
       "      <td>321</td>\n",
       "      <td>5</td>\n",
       "      <td>POLYGON ((40.01030425531142 116.3143985659345,...</td>\n",
       "    </tr>\n",
       "  </tbody>\n",
       "</table>\n",
       "<p>556 rows × 4 columns</p>\n",
       "</div>"
      ],
      "text/plain": [
       "     id  index_grid_lat  index_grid_lon  \\\n",
       "0     1             100             101   \n",
       "1     1             101             102   \n",
       "4     1             101             103   \n",
       "5     1             104             106   \n",
       "6     1             104             105   \n",
       "..   ..             ...             ...   \n",
       "772   1             318               7   \n",
       "782   1             320               7   \n",
       "785   1             320               8   \n",
       "988   1             319               8   \n",
       "999   1             321               5   \n",
       "\n",
       "                                               polygon  \n",
       "0    POLYGON ((39.98404703815532 116.319135692741, ...  \n",
       "1    POLYGON ((39.98418238463551 116.3192710392212,...  \n",
       "4    POLYGON ((39.98418238463551 116.3192710392212,...  \n",
       "5    POLYGON ((39.98418238463551 116.3192710392212,...  \n",
       "6    POLYGON ((39.98418238463551 116.3194063857014,...  \n",
       "..                                                 ...  \n",
       "772  POLYGON ((40.01003356235105 116.3146692588948,...  \n",
       "782  POLYGON ((40.01003356235105 116.3146692588948,...  \n",
       "785  POLYGON ((40.01016890883123 116.3145339124147,...  \n",
       "988  POLYGON ((40.01016890883123 116.3145339124147,...  \n",
       "999  POLYGON ((40.01030425531142 116.3143985659345,...  \n",
       "\n",
       "[556 rows x 4 columns]"
      ]
     },
     "execution_count": 8,
     "metadata": {},
     "output_type": "execute_result"
    }
   ],
   "source": [
    "data"
   ]
  },
  {
   "cell_type": "markdown",
   "metadata": {},
   "source": [
    "## Create all polygons on grid"
   ]
  },
  {
   "cell_type": "code",
   "execution_count": 9,
   "metadata": {},
   "outputs": [
    {
     "name": "stdout",
     "output_type": "stream",
     "text": [
      "\n",
      "Creating all polygons on virtual grid\n"
     ]
    },
    {
     "data": {
      "application/vnd.jupyter.widget-view+json": {
       "model_id": "40a94038edab41528cdfc7a155cca473",
       "version_major": 2,
       "version_minor": 0
      },
      "text/plain": [
       "VBox(children=(HTML(value=''), IntProgress(value=0, max=341)))"
      ]
     },
     "metadata": {},
     "output_type": "display_data"
    },
    {
     "name": "stdout",
     "output_type": "stream",
     "text": [
      "...geometries saved on Grid grid_polygon property\n"
     ]
    }
   ],
   "source": [
    "grid.create_all_polygons_on_grid()"
   ]
  },
  {
   "cell_type": "code",
   "execution_count": 10,
   "metadata": {},
   "outputs": [
    {
     "data": {
      "text/plain": [
       "(341, 266)"
      ]
     },
     "execution_count": 10,
     "metadata": {},
     "output_type": "execute_result"
    }
   ],
   "source": [
    "(grid.grid_polygon).shape"
   ]
  },
  {
   "cell_type": "markdown",
   "metadata": {},
   "source": [
    "## Get point to index grid "
   ]
  },
  {
   "cell_type": "code",
   "execution_count": 11,
   "metadata": {},
   "outputs": [
    {
     "name": "stdout",
     "output_type": "stream",
     "text": [
      "...[1,1] indexes were created to lat and lon\n"
     ]
    },
    {
     "data": {
      "text/plain": [
       "(100.0, 101.0)"
      ]
     },
     "execution_count": 11,
     "metadata": {},
     "output_type": "execute_result"
    }
   ],
   "source": [
    "grid.point_to_index_grid(39.984094, 116.319236)"
   ]
  },
  {
   "cell_type": "markdown",
   "metadata": {},
   "source": [
    "## Save grid to .pkl"
   ]
  },
  {
   "cell_type": "code",
   "execution_count": 12,
   "metadata": {},
   "outputs": [
    {
     "name": "stdout",
     "output_type": "stream",
     "text": [
      "\n",
      "A file was saved\n"
     ]
    }
   ],
   "source": [
    "grid.save_grid_pkl('teste.pkl')"
   ]
  },
  {
   "cell_type": "markdown",
   "metadata": {},
   "source": [
    "# Read .pkl to grid"
   ]
  },
  {
   "cell_type": "code",
   "execution_count": 13,
   "metadata": {},
   "outputs": [
    {
     "data": {
      "text/plain": [
       "{'lon_min_x': 116.305466,\n",
       " 'lat_min_y': 39.970512,\n",
       " 'grid_size_lat_y': 341,\n",
       " 'grid_size_lon_x': 266,\n",
       " 'cell_size_by_degree': 0.0001353464801860623}"
      ]
     },
     "execution_count": 13,
     "metadata": {},
     "output_type": "execute_result"
    }
   ],
   "source": [
    "grid.read_grid_pkl('teste.pkl')"
   ]
  },
  {
   "cell_type": "markdown",
   "metadata": {},
   "source": [
    "# Show a grid polygons"
   ]
  },
  {
   "cell_type": "code",
   "execution_count": 14,
   "metadata": {},
   "outputs": [
    {
     "data": {
      "text/html": [
       "<div>\n",
       "<style scoped>\n",
       "    .dataframe tbody tr th:only-of-type {\n",
       "        vertical-align: middle;\n",
       "    }\n",
       "\n",
       "    .dataframe tbody tr th {\n",
       "        vertical-align: top;\n",
       "    }\n",
       "\n",
       "    .dataframe thead th {\n",
       "        text-align: right;\n",
       "    }\n",
       "</style>\n",
       "<table border=\"1\" class=\"dataframe\">\n",
       "  <thead>\n",
       "    <tr style=\"text-align: right;\">\n",
       "      <th></th>\n",
       "      <th>id</th>\n",
       "      <th>index_grid_lat</th>\n",
       "      <th>index_grid_lon</th>\n",
       "      <th>polygon</th>\n",
       "    </tr>\n",
       "  </thead>\n",
       "  <tbody>\n",
       "    <tr>\n",
       "      <th>0</th>\n",
       "      <td>1</td>\n",
       "      <td>100</td>\n",
       "      <td>101</td>\n",
       "      <td>POLYGON ((39.98404703815532 116.319135692741, ...</td>\n",
       "    </tr>\n",
       "    <tr>\n",
       "      <th>1</th>\n",
       "      <td>1</td>\n",
       "      <td>101</td>\n",
       "      <td>102</td>\n",
       "      <td>POLYGON ((39.98418238463551 116.3192710392212,...</td>\n",
       "    </tr>\n",
       "    <tr>\n",
       "      <th>4</th>\n",
       "      <td>1</td>\n",
       "      <td>101</td>\n",
       "      <td>103</td>\n",
       "      <td>POLYGON ((39.98418238463551 116.3192710392212,...</td>\n",
       "    </tr>\n",
       "    <tr>\n",
       "      <th>5</th>\n",
       "      <td>1</td>\n",
       "      <td>104</td>\n",
       "      <td>106</td>\n",
       "      <td>POLYGON ((39.98418238463551 116.3192710392212,...</td>\n",
       "    </tr>\n",
       "    <tr>\n",
       "      <th>6</th>\n",
       "      <td>1</td>\n",
       "      <td>104</td>\n",
       "      <td>105</td>\n",
       "      <td>POLYGON ((39.98418238463551 116.3194063857014,...</td>\n",
       "    </tr>\n",
       "    <tr>\n",
       "      <th>...</th>\n",
       "      <td>...</td>\n",
       "      <td>...</td>\n",
       "      <td>...</td>\n",
       "      <td>...</td>\n",
       "    </tr>\n",
       "    <tr>\n",
       "      <th>772</th>\n",
       "      <td>1</td>\n",
       "      <td>318</td>\n",
       "      <td>7</td>\n",
       "      <td>POLYGON ((40.01003356235105 116.3146692588948,...</td>\n",
       "    </tr>\n",
       "    <tr>\n",
       "      <th>782</th>\n",
       "      <td>1</td>\n",
       "      <td>320</td>\n",
       "      <td>7</td>\n",
       "      <td>POLYGON ((40.01003356235105 116.3146692588948,...</td>\n",
       "    </tr>\n",
       "    <tr>\n",
       "      <th>785</th>\n",
       "      <td>1</td>\n",
       "      <td>320</td>\n",
       "      <td>8</td>\n",
       "      <td>POLYGON ((40.01016890883123 116.3145339124147,...</td>\n",
       "    </tr>\n",
       "    <tr>\n",
       "      <th>988</th>\n",
       "      <td>1</td>\n",
       "      <td>319</td>\n",
       "      <td>8</td>\n",
       "      <td>POLYGON ((40.01016890883123 116.3145339124147,...</td>\n",
       "    </tr>\n",
       "    <tr>\n",
       "      <th>999</th>\n",
       "      <td>1</td>\n",
       "      <td>321</td>\n",
       "      <td>5</td>\n",
       "      <td>POLYGON ((40.01030425531142 116.3143985659345,...</td>\n",
       "    </tr>\n",
       "  </tbody>\n",
       "</table>\n",
       "<p>556 rows × 4 columns</p>\n",
       "</div>"
      ],
      "text/plain": [
       "     id  index_grid_lat  index_grid_lon  \\\n",
       "0     1             100             101   \n",
       "1     1             101             102   \n",
       "4     1             101             103   \n",
       "5     1             104             106   \n",
       "6     1             104             105   \n",
       "..   ..             ...             ...   \n",
       "772   1             318               7   \n",
       "782   1             320               7   \n",
       "785   1             320               8   \n",
       "988   1             319               8   \n",
       "999   1             321               5   \n",
       "\n",
       "                                               polygon  \n",
       "0    POLYGON ((39.98404703815532 116.319135692741, ...  \n",
       "1    POLYGON ((39.98418238463551 116.3192710392212,...  \n",
       "4    POLYGON ((39.98418238463551 116.3192710392212,...  \n",
       "5    POLYGON ((39.98418238463551 116.3192710392212,...  \n",
       "6    POLYGON ((39.98418238463551 116.3194063857014,...  \n",
       "..                                                 ...  \n",
       "772  POLYGON ((40.01003356235105 116.3146692588948,...  \n",
       "782  POLYGON ((40.01003356235105 116.3146692588948,...  \n",
       "785  POLYGON ((40.01016890883123 116.3145339124147,...  \n",
       "988  POLYGON ((40.01016890883123 116.3145339124147,...  \n",
       "999  POLYGON ((40.01030425531142 116.3143985659345,...  \n",
       "\n",
       "[556 rows x 4 columns]"
      ]
     },
     "execution_count": 14,
     "metadata": {},
     "output_type": "execute_result"
    }
   ],
   "source": [
    "data = data[data['id'] == 1]\n",
    "data"
   ]
  },
  {
   "cell_type": "code",
   "execution_count": 15,
   "metadata": {},
   "outputs": [
    {
     "name": "stdout",
     "output_type": "stream",
     "text": [
      "id tid\n"
     ]
    },
    {
     "data": {
      "image/png": "[encoded data removed]",
      "text/plain": [
       "<Figure size 720x720 with 1 Axes>"
      ]
     },
     "metadata": {
      "needs_background": "light"
     },
     "output_type": "display_data"
    }
   ],
   "source": [
    "grid.show_grid_polygons(data, 1, return_fig=False)"
   ]
  },
  {
   "cell_type": "code",
   "execution_count": null,
   "metadata": {},
   "outputs": [],
   "source": []
  }
 ],
 "metadata": {
  "kernelspec": {
   "display_name": "Python 3",
   "language": "python",
   "name": "python3"
  },
  "language_info": {
   "codemirror_mode": {
    "name": "ipython",
    "version": 3
   },
   "file_extension": ".py",
   "mimetype": "text/x-python",
   "name": "python",
   "nbconvert_exporter": "python",
   "pygments_lexer": "ipython3",
   "version": "3.7.6"
  }
 },
 "nbformat": 4,
 "nbformat_minor": 4
}
