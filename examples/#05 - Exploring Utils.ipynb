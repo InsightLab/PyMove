{
 "cells": [
  {
   "cell_type": "markdown",
   "metadata": {},
   "source": [
    "# #05 - Exploring Utils\n",
    "\n",
    "\n",
    "Falar sobre para se trabalhar com trajetórias pode ser necessária algumas c onversões envolvendo tempo e data, distância e etc, fora outros utilitários.\n",
    "\n",
    "Falar dos módulos presentes no pacote utils\n",
    "- constants\n",
    "- conversions\n",
    "- datetime\n",
    "- distances\n",
    "- math\n",
    "- mem\n",
    "- trajectories\n",
    "- transformations\n",
    "\n",
    "\n",
    "---\n",
    "\n",
    "### Imports"
   ]
  },
  {
   "cell_type": "code",
   "execution_count": 1,
   "metadata": {},
   "outputs": [],
   "source": [
    "import pymove.utils as utils\n",
    "import pymove\n",
    "from pymove import MoveDataFrame"
   ]
  },
  {
   "cell_type": "markdown",
   "metadata": {},
   "source": [
    "---\n",
    "### Load data"
   ]
  },
  {
   "cell_type": "code",
   "execution_count": 2,
   "metadata": {},
   "outputs": [],
   "source": [
    "move_data = pymove.read_csv(\"geolife_sample.csv\")"
   ]
  },
  {
   "cell_type": "markdown",
   "metadata": {},
   "source": [
    "---\n",
    "### Conversions\n",
    "\n",
    "To transform latitude degree to meters, you can use function **lat_meters**. For example, you can convert Fortaleza's latitude -3.8162973555:"
   ]
  },
  {
   "cell_type": "code",
   "execution_count": 3,
   "metadata": {},
   "outputs": [
    {
     "output_type": "execute_result",
     "data": {
      "text/plain": [
       "110826.6722516857"
      ]
     },
     "metadata": {},
     "execution_count": 3
    }
   ],
   "source": [
    "utils.conversions.lat_meters(-3.8162973555)"
   ]
  },
  {
   "cell_type": "markdown",
   "metadata": {},
   "source": [
    "To concatenates list elements, joining them by the separator specified by the parameter \"delimiter\", you can use **list_to_str**"
   ]
  },
  {
   "cell_type": "code",
   "execution_count": 4,
   "metadata": {},
   "outputs": [
    {
     "output_type": "execute_result",
     "data": {
      "text/plain": [
       "'a-b-c-d'"
      ]
     },
     "metadata": {},
     "execution_count": 4
    }
   ],
   "source": [
    "utils.conversions.list_to_str([\"a\", \"b\", \"c\", \"d\"], \"-\")"
   ]
  },
  {
   "cell_type": "markdown",
   "metadata": {},
   "source": [
    "To concatenates the elements of the list, joining them by \",\", , you can use **list_to_csv_str**"
   ]
  },
  {
   "cell_type": "code",
   "execution_count": 5,
   "metadata": {},
   "outputs": [
    {
     "output_type": "execute_result",
     "data": {
      "text/plain": [
       "'a,b,c,d'"
      ]
     },
     "metadata": {},
     "execution_count": 5
    }
   ],
   "source": [
    "utils.conversions.list_to_csv_str([\"a\", \"b\", \"c\", \"d\"])"
   ]
  },
  {
   "cell_type": "markdown",
   "metadata": {},
   "source": [
    "To concatenates list elements in consecutive element pairs, you can use **list_to_svm_line**"
   ]
  },
  {
   "cell_type": "code",
   "execution_count": 6,
   "metadata": {},
   "outputs": [
    {
     "output_type": "execute_result",
     "data": {
      "text/plain": [
       "'a 1:b 2:c 3:d'"
      ]
     },
     "metadata": {},
     "execution_count": 6
    }
   ],
   "source": [
    "utils.conversions.list_to_svm_line([\"a\", \"b\", \"c\", \"d\"])"
   ]
  },
  {
   "cell_type": "markdown",
   "metadata": {},
   "source": [
    "To convert longitude to X EPSG:3857 WGS 84/Pseudo-Mercator, you can use **lon_to_x_spherical**"
   ]
  },
  {
   "cell_type": "code",
   "execution_count": 7,
   "metadata": {},
   "outputs": [
    {
     "output_type": "execute_result",
     "data": {
      "text/plain": [
       "-4285978.172767829"
      ]
     },
     "metadata": {},
     "execution_count": 7
    }
   ],
   "source": [
    "utils.conversions.lon_to_x_spherical(-38.501597)"
   ]
  },
  {
   "cell_type": "markdown",
   "metadata": {},
   "source": [
    "To convert latitude to Y EPSG:3857 WGS 84/Pseudo-Mercator, you can use **lat_to_y_spherical**"
   ]
  },
  {
   "cell_type": "code",
   "execution_count": 8,
   "metadata": {},
   "outputs": [
    {
     "output_type": "execute_result",
     "data": {
      "text/plain": [
       "-423086.2213610324"
      ]
     },
     "metadata": {},
     "execution_count": 8
    }
   ],
   "source": [
    "utils.conversions.lat_to_y_spherical(-3.797864)"
   ]
  },
  {
   "cell_type": "markdown",
   "metadata": {},
   "source": [
    "To convert X EPSG:3857 WGS 84/Pseudo-Mercator to longitude, you can use **x_to_lon_spherical**"
   ]
  },
  {
   "cell_type": "code",
   "execution_count": 9,
   "metadata": {},
   "outputs": [
    {
     "output_type": "execute_result",
     "data": {
      "text/plain": [
       "-38.501597000000004"
      ]
     },
     "metadata": {},
     "execution_count": 9
    }
   ],
   "source": [
    "utils.conversions.x_to_lon_spherical(-4285978.172767829)"
   ]
  },
  {
   "cell_type": "markdown",
   "metadata": {},
   "source": [
    "To convert Y EPSG:3857 WGS 84/Pseudo-Mercator to latitude, you can use **y_to_lat_spherical**"
   ]
  },
  {
   "cell_type": "code",
   "execution_count": 10,
   "metadata": {},
   "outputs": [
    {
     "output_type": "execute_result",
     "data": {
      "text/plain": [
       "-3.7978639999999944"
      ]
     },
     "metadata": {},
     "execution_count": 10
    }
   ],
   "source": [
    "utils.conversions.y_to_lat_spherical(-423086.2213610324)"
   ]
  },
  {
   "cell_type": "markdown",
   "metadata": {},
   "source": [
    "To convert values, in ms, in label_speed column to kmh, you can use **ms_to_kmh**"
   ]
  },
  {
   "cell_type": "code",
   "execution_count": 11,
   "metadata": {},
   "outputs": [
    {
     "output_type": "stream",
     "name": "stdout",
     "text": [
      "...Sorting by id and datetime to increase performance\n",
      "\n",
      "...Set id as index to a higher performance\n",
      "\n",
      "\n",
      "Creating or updating distance, time and speed features in meters by seconds\n",
      "\n"
     ]
    },
    {
     "output_type": "display_data",
     "data": {
      "text/plain": "VBox(children=(HTML(value=''), IntProgress(value=0, max=2)))",
      "application/vnd.jupyter.widget-view+json": {
       "version_major": 2,
       "version_minor": 0,
       "model_id": "ad6df9696ca34fdb815b14e4e3788ee1"
      }
     },
     "metadata": {}
    },
    {
     "output_type": "stream",
     "name": "stdout",
     "text": [
      "...Reset index...\n\n"
     ]
    }
   ],
   "source": [
    "utils.conversions.ms_to_kmh(move_data)"
   ]
  },
  {
   "cell_type": "code",
   "execution_count": 12,
   "metadata": {},
   "outputs": [
    {
     "output_type": "execute_result",
     "data": {
      "text/plain": [
       "   id        lat         lon            datetime  dist_to_prev  time_to_prev  \\\n",
       "0   1  39.984094  116.319236 2008-10-23 05:53:05           NaN           NaN   \n",
       "1   1  39.984198  116.319322 2008-10-23 05:53:06     13.690153           1.0   \n",
       "2   1  39.984224  116.319402 2008-10-23 05:53:11      7.403788           5.0   \n",
       "3   1  39.984211  116.319389 2008-10-23 05:53:16      1.821083           5.0   \n",
       "4   1  39.984217  116.319422 2008-10-23 05:53:21      2.889671           5.0   \n",
       "\n",
       "   speed_to_prev  \n",
       "0            NaN  \n",
       "1      49.284551  \n",
       "2       5.330727  \n",
       "3       1.311180  \n",
       "4       2.080563  "
      ],
      "text/html": "<div>\n<style scoped>\n    .dataframe tbody tr th:only-of-type {\n        vertical-align: middle;\n    }\n\n    .dataframe tbody tr th {\n        vertical-align: top;\n    }\n\n    .dataframe thead th {\n        text-align: right;\n    }\n</style>\n<table border=\"1\" class=\"dataframe\">\n  <thead>\n    <tr style=\"text-align: right;\">\n      <th></th>\n      <th>id</th>\n      <th>lat</th>\n      <th>lon</th>\n      <th>datetime</th>\n      <th>dist_to_prev</th>\n      <th>time_to_prev</th>\n      <th>speed_to_prev</th>\n    </tr>\n  </thead>\n  <tbody>\n    <tr>\n      <th>0</th>\n      <td>1</td>\n      <td>39.984094</td>\n      <td>116.319236</td>\n      <td>2008-10-23 05:53:05</td>\n      <td>NaN</td>\n      <td>NaN</td>\n      <td>NaN</td>\n    </tr>\n    <tr>\n      <th>1</th>\n      <td>1</td>\n      <td>39.984198</td>\n      <td>116.319322</td>\n      <td>2008-10-23 05:53:06</td>\n      <td>13.690153</td>\n      <td>1.0</td>\n      <td>49.284551</td>\n    </tr>\n    <tr>\n      <th>2</th>\n      <td>1</td>\n      <td>39.984224</td>\n      <td>116.319402</td>\n      <td>2008-10-23 05:53:11</td>\n      <td>7.403788</td>\n      <td>5.0</td>\n      <td>5.330727</td>\n    </tr>\n    <tr>\n      <th>3</th>\n      <td>1</td>\n      <td>39.984211</td>\n      <td>116.319389</td>\n      <td>2008-10-23 05:53:16</td>\n      <td>1.821083</td>\n      <td>5.0</td>\n      <td>1.311180</td>\n    </tr>\n    <tr>\n      <th>4</th>\n      <td>1</td>\n      <td>39.984217</td>\n      <td>116.319422</td>\n      <td>2008-10-23 05:53:21</td>\n      <td>2.889671</td>\n      <td>5.0</td>\n      <td>2.080563</td>\n    </tr>\n  </tbody>\n</table>\n</div>"
     },
     "metadata": {},
     "execution_count": 12
    }
   ],
   "source": [
    "move_data.head()"
   ]
  },
  {
   "cell_type": "markdown",
   "metadata": {},
   "source": [
    "To convert values, in kmh, in label_speed column to ms, you can use **kmh_to_ms**"
   ]
  },
  {
   "cell_type": "code",
   "execution_count": 13,
   "metadata": {},
   "outputs": [],
   "source": [
    "utils.conversions.kmh_to_ms(move_data)"
   ]
  },
  {
   "cell_type": "code",
   "execution_count": 14,
   "metadata": {},
   "outputs": [
    {
     "output_type": "execute_result",
     "data": {
      "text/plain": [
       "   id        lat         lon            datetime  dist_to_prev  time_to_prev  \\\n",
       "0   1  39.984094  116.319236 2008-10-23 05:53:05           NaN           NaN   \n",
       "1   1  39.984198  116.319322 2008-10-23 05:53:06     13.690153           1.0   \n",
       "2   1  39.984224  116.319402 2008-10-23 05:53:11      7.403788           5.0   \n",
       "3   1  39.984211  116.319389 2008-10-23 05:53:16      1.821083           5.0   \n",
       "4   1  39.984217  116.319422 2008-10-23 05:53:21      2.889671           5.0   \n",
       "\n",
       "   speed_to_prev  \n",
       "0            NaN  \n",
       "1      13.690153  \n",
       "2       1.480758  \n",
       "3       0.364217  \n",
       "4       0.577934  "
      ],
      "text/html": "<div>\n<style scoped>\n    .dataframe tbody tr th:only-of-type {\n        vertical-align: middle;\n    }\n\n    .dataframe tbody tr th {\n        vertical-align: top;\n    }\n\n    .dataframe thead th {\n        text-align: right;\n    }\n</style>\n<table border=\"1\" class=\"dataframe\">\n  <thead>\n    <tr style=\"text-align: right;\">\n      <th></th>\n      <th>id</th>\n      <th>lat</th>\n      <th>lon</th>\n      <th>datetime</th>\n      <th>dist_to_prev</th>\n      <th>time_to_prev</th>\n      <th>speed_to_prev</th>\n    </tr>\n  </thead>\n  <tbody>\n    <tr>\n      <th>0</th>\n      <td>1</td>\n      <td>39.984094</td>\n      <td>116.319236</td>\n      <td>2008-10-23 05:53:05</td>\n      <td>NaN</td>\n      <td>NaN</td>\n      <td>NaN</td>\n    </tr>\n    <tr>\n      <th>1</th>\n      <td>1</td>\n      <td>39.984198</td>\n      <td>116.319322</td>\n      <td>2008-10-23 05:53:06</td>\n      <td>13.690153</td>\n      <td>1.0</td>\n      <td>13.690153</td>\n    </tr>\n    <tr>\n      <th>2</th>\n      <td>1</td>\n      <td>39.984224</td>\n      <td>116.319402</td>\n      <td>2008-10-23 05:53:11</td>\n      <td>7.403788</td>\n      <td>5.0</td>\n      <td>1.480758</td>\n    </tr>\n    <tr>\n      <th>3</th>\n      <td>1</td>\n      <td>39.984211</td>\n      <td>116.319389</td>\n      <td>2008-10-23 05:53:16</td>\n      <td>1.821083</td>\n      <td>5.0</td>\n      <td>0.364217</td>\n    </tr>\n    <tr>\n      <th>4</th>\n      <td>1</td>\n      <td>39.984217</td>\n      <td>116.319422</td>\n      <td>2008-10-23 05:53:21</td>\n      <td>2.889671</td>\n      <td>5.0</td>\n      <td>0.577934</td>\n    </tr>\n  </tbody>\n</table>\n</div>"
     },
     "metadata": {},
     "execution_count": 14
    }
   ],
   "source": [
    "move_data.head()"
   ]
  },
  {
   "cell_type": "markdown",
   "metadata": {},
   "source": [
    "To convert values, in meters, in label_distance column to kilometer, you can use **meters_to_kilometers**"
   ]
  },
  {
   "cell_type": "code",
   "execution_count": 15,
   "metadata": {},
   "outputs": [],
   "source": [
    "utils.conversions.meters_to_kilometers(move_data)"
   ]
  },
  {
   "cell_type": "code",
   "execution_count": 16,
   "metadata": {},
   "outputs": [
    {
     "output_type": "execute_result",
     "data": {
      "text/plain": [
       "   id        lat         lon            datetime  dist_to_prev  time_to_prev  \\\n",
       "0   1  39.984094  116.319236 2008-10-23 05:53:05           NaN           NaN   \n",
       "1   1  39.984198  116.319322 2008-10-23 05:53:06      0.013690           1.0   \n",
       "2   1  39.984224  116.319402 2008-10-23 05:53:11      0.007404           5.0   \n",
       "3   1  39.984211  116.319389 2008-10-23 05:53:16      0.001821           5.0   \n",
       "4   1  39.984217  116.319422 2008-10-23 05:53:21      0.002890           5.0   \n",
       "\n",
       "   speed_to_prev  \n",
       "0            NaN  \n",
       "1      13.690153  \n",
       "2       1.480758  \n",
       "3       0.364217  \n",
       "4       0.577934  "
      ],
      "text/html": "<div>\n<style scoped>\n    .dataframe tbody tr th:only-of-type {\n        vertical-align: middle;\n    }\n\n    .dataframe tbody tr th {\n        vertical-align: top;\n    }\n\n    .dataframe thead th {\n        text-align: right;\n    }\n</style>\n<table border=\"1\" class=\"dataframe\">\n  <thead>\n    <tr style=\"text-align: right;\">\n      <th></th>\n      <th>id</th>\n      <th>lat</th>\n      <th>lon</th>\n      <th>datetime</th>\n      <th>dist_to_prev</th>\n      <th>time_to_prev</th>\n      <th>speed_to_prev</th>\n    </tr>\n  </thead>\n  <tbody>\n    <tr>\n      <th>0</th>\n      <td>1</td>\n      <td>39.984094</td>\n      <td>116.319236</td>\n      <td>2008-10-23 05:53:05</td>\n      <td>NaN</td>\n      <td>NaN</td>\n      <td>NaN</td>\n    </tr>\n    <tr>\n      <th>1</th>\n      <td>1</td>\n      <td>39.984198</td>\n      <td>116.319322</td>\n      <td>2008-10-23 05:53:06</td>\n      <td>0.013690</td>\n      <td>1.0</td>\n      <td>13.690153</td>\n    </tr>\n    <tr>\n      <th>2</th>\n      <td>1</td>\n      <td>39.984224</td>\n      <td>116.319402</td>\n      <td>2008-10-23 05:53:11</td>\n      <td>0.007404</td>\n      <td>5.0</td>\n      <td>1.480758</td>\n    </tr>\n    <tr>\n      <th>3</th>\n      <td>1</td>\n      <td>39.984211</td>\n      <td>116.319389</td>\n      <td>2008-10-23 05:53:16</td>\n      <td>0.001821</td>\n      <td>5.0</td>\n      <td>0.364217</td>\n    </tr>\n    <tr>\n      <th>4</th>\n      <td>1</td>\n      <td>39.984217</td>\n      <td>116.319422</td>\n      <td>2008-10-23 05:53:21</td>\n      <td>0.002890</td>\n      <td>5.0</td>\n      <td>0.577934</td>\n    </tr>\n  </tbody>\n</table>\n</div>"
     },
     "metadata": {},
     "execution_count": 16
    }
   ],
   "source": [
    "move_data.head()"
   ]
  },
  {
   "cell_type": "markdown",
   "metadata": {},
   "source": [
    "To convert values, in kilometers, in label_distance column to meters, you can use **kilometers_to_meters**"
   ]
  },
  {
   "cell_type": "code",
   "execution_count": 17,
   "metadata": {},
   "outputs": [],
   "source": [
    "utils.conversions.kilometers_to_meters(move_data)"
   ]
  },
  {
   "cell_type": "code",
   "execution_count": 18,
   "metadata": {},
   "outputs": [
    {
     "output_type": "execute_result",
     "data": {
      "text/plain": [
       "   id        lat         lon            datetime  dist_to_prev  time_to_prev  \\\n",
       "0   1  39.984094  116.319236 2008-10-23 05:53:05           NaN           NaN   \n",
       "1   1  39.984198  116.319322 2008-10-23 05:53:06     13.690153           1.0   \n",
       "2   1  39.984224  116.319402 2008-10-23 05:53:11      7.403788           5.0   \n",
       "3   1  39.984211  116.319389 2008-10-23 05:53:16      1.821083           5.0   \n",
       "4   1  39.984217  116.319422 2008-10-23 05:53:21      2.889671           5.0   \n",
       "\n",
       "   speed_to_prev  \n",
       "0            NaN  \n",
       "1      13.690153  \n",
       "2       1.480758  \n",
       "3       0.364217  \n",
       "4       0.577934  "
      ],
      "text/html": "<div>\n<style scoped>\n    .dataframe tbody tr th:only-of-type {\n        vertical-align: middle;\n    }\n\n    .dataframe tbody tr th {\n        vertical-align: top;\n    }\n\n    .dataframe thead th {\n        text-align: right;\n    }\n</style>\n<table border=\"1\" class=\"dataframe\">\n  <thead>\n    <tr style=\"text-align: right;\">\n      <th></th>\n      <th>id</th>\n      <th>lat</th>\n      <th>lon</th>\n      <th>datetime</th>\n      <th>dist_to_prev</th>\n      <th>time_to_prev</th>\n      <th>speed_to_prev</th>\n    </tr>\n  </thead>\n  <tbody>\n    <tr>\n      <th>0</th>\n      <td>1</td>\n      <td>39.984094</td>\n      <td>116.319236</td>\n      <td>2008-10-23 05:53:05</td>\n      <td>NaN</td>\n      <td>NaN</td>\n      <td>NaN</td>\n    </tr>\n    <tr>\n      <th>1</th>\n      <td>1</td>\n      <td>39.984198</td>\n      <td>116.319322</td>\n      <td>2008-10-23 05:53:06</td>\n      <td>13.690153</td>\n      <td>1.0</td>\n      <td>13.690153</td>\n    </tr>\n    <tr>\n      <th>2</th>\n      <td>1</td>\n      <td>39.984224</td>\n      <td>116.319402</td>\n      <td>2008-10-23 05:53:11</td>\n      <td>7.403788</td>\n      <td>5.0</td>\n      <td>1.480758</td>\n    </tr>\n    <tr>\n      <th>3</th>\n      <td>1</td>\n      <td>39.984211</td>\n      <td>116.319389</td>\n      <td>2008-10-23 05:53:16</td>\n      <td>1.821083</td>\n      <td>5.0</td>\n      <td>0.364217</td>\n    </tr>\n    <tr>\n      <th>4</th>\n      <td>1</td>\n      <td>39.984217</td>\n      <td>116.319422</td>\n      <td>2008-10-23 05:53:21</td>\n      <td>2.889671</td>\n      <td>5.0</td>\n      <td>0.577934</td>\n    </tr>\n  </tbody>\n</table>\n</div>"
     },
     "metadata": {},
     "execution_count": 18
    }
   ],
   "source": [
    "move_data.head()"
   ]
  },
  {
   "cell_type": "markdown",
   "metadata": {},
   "source": [
    "To convert values, in seconds, in label_distance column to minutes, you can use **seconds_to_minutes**"
   ]
  },
  {
   "cell_type": "code",
   "execution_count": 19,
   "metadata": {},
   "outputs": [],
   "source": [
    "utils.conversions.seconds_to_minutes(move_data)"
   ]
  },
  {
   "cell_type": "code",
   "execution_count": 20,
   "metadata": {},
   "outputs": [
    {
     "output_type": "execute_result",
     "data": {
      "text/plain": [
       "   id        lat         lon            datetime  dist_to_prev  time_to_prev  \\\n",
       "0   1  39.984094  116.319236 2008-10-23 05:53:05           NaN           NaN   \n",
       "1   1  39.984198  116.319322 2008-10-23 05:53:06     13.690153      0.016667   \n",
       "2   1  39.984224  116.319402 2008-10-23 05:53:11      7.403788      0.083333   \n",
       "3   1  39.984211  116.319389 2008-10-23 05:53:16      1.821083      0.083333   \n",
       "4   1  39.984217  116.319422 2008-10-23 05:53:21      2.889671      0.083333   \n",
       "\n",
       "   speed_to_prev  \n",
       "0            NaN  \n",
       "1      13.690153  \n",
       "2       1.480758  \n",
       "3       0.364217  \n",
       "4       0.577934  "
      ],
      "text/html": "<div>\n<style scoped>\n    .dataframe tbody tr th:only-of-type {\n        vertical-align: middle;\n    }\n\n    .dataframe tbody tr th {\n        vertical-align: top;\n    }\n\n    .dataframe thead th {\n        text-align: right;\n    }\n</style>\n<table border=\"1\" class=\"dataframe\">\n  <thead>\n    <tr style=\"text-align: right;\">\n      <th></th>\n      <th>id</th>\n      <th>lat</th>\n      <th>lon</th>\n      <th>datetime</th>\n      <th>dist_to_prev</th>\n      <th>time_to_prev</th>\n      <th>speed_to_prev</th>\n    </tr>\n  </thead>\n  <tbody>\n    <tr>\n      <th>0</th>\n      <td>1</td>\n      <td>39.984094</td>\n      <td>116.319236</td>\n      <td>2008-10-23 05:53:05</td>\n      <td>NaN</td>\n      <td>NaN</td>\n      <td>NaN</td>\n    </tr>\n    <tr>\n      <th>1</th>\n      <td>1</td>\n      <td>39.984198</td>\n      <td>116.319322</td>\n      <td>2008-10-23 05:53:06</td>\n      <td>13.690153</td>\n      <td>0.016667</td>\n      <td>13.690153</td>\n    </tr>\n    <tr>\n      <th>2</th>\n      <td>1</td>\n      <td>39.984224</td>\n      <td>116.319402</td>\n      <td>2008-10-23 05:53:11</td>\n      <td>7.403788</td>\n      <td>0.083333</td>\n      <td>1.480758</td>\n    </tr>\n    <tr>\n      <th>3</th>\n      <td>1</td>\n      <td>39.984211</td>\n      <td>116.319389</td>\n      <td>2008-10-23 05:53:16</td>\n      <td>1.821083</td>\n      <td>0.083333</td>\n      <td>0.364217</td>\n    </tr>\n    <tr>\n      <th>4</th>\n      <td>1</td>\n      <td>39.984217</td>\n      <td>116.319422</td>\n      <td>2008-10-23 05:53:21</td>\n      <td>2.889671</td>\n      <td>0.083333</td>\n      <td>0.577934</td>\n    </tr>\n  </tbody>\n</table>\n</div>"
     },
     "metadata": {},
     "execution_count": 20
    }
   ],
   "source": [
    "move_data.head()"
   ]
  },
  {
   "cell_type": "markdown",
   "metadata": {},
   "source": [
    "To convert values, in minutes, in label_distance column to seconds, you can use **minute_to_seconds**"
   ]
  },
  {
   "cell_type": "code",
   "execution_count": 21,
   "metadata": {},
   "outputs": [],
   "source": [
    "utils.conversions.minute_to_seconds(move_data)"
   ]
  },
  {
   "cell_type": "code",
   "execution_count": 22,
   "metadata": {},
   "outputs": [
    {
     "output_type": "execute_result",
     "data": {
      "text/plain": [
       "   id        lat         lon            datetime  dist_to_prev  time_to_prev  \\\n",
       "0   1  39.984094  116.319236 2008-10-23 05:53:05           NaN           NaN   \n",
       "1   1  39.984198  116.319322 2008-10-23 05:53:06     13.690153           1.0   \n",
       "2   1  39.984224  116.319402 2008-10-23 05:53:11      7.403788           5.0   \n",
       "3   1  39.984211  116.319389 2008-10-23 05:53:16      1.821083           5.0   \n",
       "4   1  39.984217  116.319422 2008-10-23 05:53:21      2.889671           5.0   \n",
       "\n",
       "   speed_to_prev  \n",
       "0            NaN  \n",
       "1      13.690153  \n",
       "2       1.480758  \n",
       "3       0.364217  \n",
       "4       0.577934  "
      ],
      "text/html": "<div>\n<style scoped>\n    .dataframe tbody tr th:only-of-type {\n        vertical-align: middle;\n    }\n\n    .dataframe tbody tr th {\n        vertical-align: top;\n    }\n\n    .dataframe thead th {\n        text-align: right;\n    }\n</style>\n<table border=\"1\" class=\"dataframe\">\n  <thead>\n    <tr style=\"text-align: right;\">\n      <th></th>\n      <th>id</th>\n      <th>lat</th>\n      <th>lon</th>\n      <th>datetime</th>\n      <th>dist_to_prev</th>\n      <th>time_to_prev</th>\n      <th>speed_to_prev</th>\n    </tr>\n  </thead>\n  <tbody>\n    <tr>\n      <th>0</th>\n      <td>1</td>\n      <td>39.984094</td>\n      <td>116.319236</td>\n      <td>2008-10-23 05:53:05</td>\n      <td>NaN</td>\n      <td>NaN</td>\n      <td>NaN</td>\n    </tr>\n    <tr>\n      <th>1</th>\n      <td>1</td>\n      <td>39.984198</td>\n      <td>116.319322</td>\n      <td>2008-10-23 05:53:06</td>\n      <td>13.690153</td>\n      <td>1.0</td>\n      <td>13.690153</td>\n    </tr>\n    <tr>\n      <th>2</th>\n      <td>1</td>\n      <td>39.984224</td>\n      <td>116.319402</td>\n      <td>2008-10-23 05:53:11</td>\n      <td>7.403788</td>\n      <td>5.0</td>\n      <td>1.480758</td>\n    </tr>\n    <tr>\n      <th>3</th>\n      <td>1</td>\n      <td>39.984211</td>\n      <td>116.319389</td>\n      <td>2008-10-23 05:53:16</td>\n      <td>1.821083</td>\n      <td>5.0</td>\n      <td>0.364217</td>\n    </tr>\n    <tr>\n      <th>4</th>\n      <td>1</td>\n      <td>39.984217</td>\n      <td>116.319422</td>\n      <td>2008-10-23 05:53:21</td>\n      <td>2.889671</td>\n      <td>5.0</td>\n      <td>0.577934</td>\n    </tr>\n  </tbody>\n</table>\n</div>"
     },
     "metadata": {},
     "execution_count": 22
    }
   ],
   "source": [
    "move_data.head()"
   ]
  },
  {
   "cell_type": "markdown",
   "metadata": {},
   "source": [
    "To convert in minutes, in label_distance column to hours, you can use **minute_to_hours**"
   ]
  },
  {
   "cell_type": "code",
   "execution_count": 23,
   "metadata": {},
   "outputs": [],
   "source": [
    "utils.conversions.seconds_to_minutes(move_data)"
   ]
  },
  {
   "cell_type": "code",
   "execution_count": 24,
   "metadata": {},
   "outputs": [],
   "source": [
    "utils.conversions.minute_to_hours(move_data)"
   ]
  },
  {
   "cell_type": "code",
   "execution_count": 25,
   "metadata": {},
   "outputs": [
    {
     "output_type": "execute_result",
     "data": {
      "text/plain": [
       "   id        lat         lon            datetime  dist_to_prev  time_to_prev  \\\n",
       "0   1  39.984094  116.319236 2008-10-23 05:53:05           NaN           NaN   \n",
       "1   1  39.984198  116.319322 2008-10-23 05:53:06     13.690153      0.000278   \n",
       "2   1  39.984224  116.319402 2008-10-23 05:53:11      7.403788      0.001389   \n",
       "3   1  39.984211  116.319389 2008-10-23 05:53:16      1.821083      0.001389   \n",
       "4   1  39.984217  116.319422 2008-10-23 05:53:21      2.889671      0.001389   \n",
       "\n",
       "   speed_to_prev  \n",
       "0            NaN  \n",
       "1      13.690153  \n",
       "2       1.480758  \n",
       "3       0.364217  \n",
       "4       0.577934  "
      ],
      "text/html": "<div>\n<style scoped>\n    .dataframe tbody tr th:only-of-type {\n        vertical-align: middle;\n    }\n\n    .dataframe tbody tr th {\n        vertical-align: top;\n    }\n\n    .dataframe thead th {\n        text-align: right;\n    }\n</style>\n<table border=\"1\" class=\"dataframe\">\n  <thead>\n    <tr style=\"text-align: right;\">\n      <th></th>\n      <th>id</th>\n      <th>lat</th>\n      <th>lon</th>\n      <th>datetime</th>\n      <th>dist_to_prev</th>\n      <th>time_to_prev</th>\n      <th>speed_to_prev</th>\n    </tr>\n  </thead>\n  <tbody>\n    <tr>\n      <th>0</th>\n      <td>1</td>\n      <td>39.984094</td>\n      <td>116.319236</td>\n      <td>2008-10-23 05:53:05</td>\n      <td>NaN</td>\n      <td>NaN</td>\n      <td>NaN</td>\n    </tr>\n    <tr>\n      <th>1</th>\n      <td>1</td>\n      <td>39.984198</td>\n      <td>116.319322</td>\n      <td>2008-10-23 05:53:06</td>\n      <td>13.690153</td>\n      <td>0.000278</td>\n      <td>13.690153</td>\n    </tr>\n    <tr>\n      <th>2</th>\n      <td>1</td>\n      <td>39.984224</td>\n      <td>116.319402</td>\n      <td>2008-10-23 05:53:11</td>\n      <td>7.403788</td>\n      <td>0.001389</td>\n      <td>1.480758</td>\n    </tr>\n    <tr>\n      <th>3</th>\n      <td>1</td>\n      <td>39.984211</td>\n      <td>116.319389</td>\n      <td>2008-10-23 05:53:16</td>\n      <td>1.821083</td>\n      <td>0.001389</td>\n      <td>0.364217</td>\n    </tr>\n    <tr>\n      <th>4</th>\n      <td>1</td>\n      <td>39.984217</td>\n      <td>116.319422</td>\n      <td>2008-10-23 05:53:21</td>\n      <td>2.889671</td>\n      <td>0.001389</td>\n      <td>0.577934</td>\n    </tr>\n  </tbody>\n</table>\n</div>"
     },
     "metadata": {},
     "execution_count": 25
    }
   ],
   "source": [
    "move_data.head()"
   ]
  },
  {
   "cell_type": "markdown",
   "metadata": {},
   "source": [
    "To convert in hours, in label_distance column to minute, you can use **hours_to_minute**"
   ]
  },
  {
   "cell_type": "code",
   "execution_count": 26,
   "metadata": {},
   "outputs": [],
   "source": [
    "utils.conversions.hours_to_minute(move_data)"
   ]
  },
  {
   "cell_type": "code",
   "execution_count": 27,
   "metadata": {},
   "outputs": [
    {
     "output_type": "execute_result",
     "data": {
      "text/plain": [
       "   id        lat         lon            datetime  dist_to_prev  time_to_prev  \\\n",
       "0   1  39.984094  116.319236 2008-10-23 05:53:05           NaN           NaN   \n",
       "1   1  39.984198  116.319322 2008-10-23 05:53:06     13.690153      0.016667   \n",
       "2   1  39.984224  116.319402 2008-10-23 05:53:11      7.403788      0.083333   \n",
       "3   1  39.984211  116.319389 2008-10-23 05:53:16      1.821083      0.083333   \n",
       "4   1  39.984217  116.319422 2008-10-23 05:53:21      2.889671      0.083333   \n",
       "\n",
       "   speed_to_prev  \n",
       "0            NaN  \n",
       "1      13.690153  \n",
       "2       1.480758  \n",
       "3       0.364217  \n",
       "4       0.577934  "
      ],
      "text/html": "<div>\n<style scoped>\n    .dataframe tbody tr th:only-of-type {\n        vertical-align: middle;\n    }\n\n    .dataframe tbody tr th {\n        vertical-align: top;\n    }\n\n    .dataframe thead th {\n        text-align: right;\n    }\n</style>\n<table border=\"1\" class=\"dataframe\">\n  <thead>\n    <tr style=\"text-align: right;\">\n      <th></th>\n      <th>id</th>\n      <th>lat</th>\n      <th>lon</th>\n      <th>datetime</th>\n      <th>dist_to_prev</th>\n      <th>time_to_prev</th>\n      <th>speed_to_prev</th>\n    </tr>\n  </thead>\n  <tbody>\n    <tr>\n      <th>0</th>\n      <td>1</td>\n      <td>39.984094</td>\n      <td>116.319236</td>\n      <td>2008-10-23 05:53:05</td>\n      <td>NaN</td>\n      <td>NaN</td>\n      <td>NaN</td>\n    </tr>\n    <tr>\n      <th>1</th>\n      <td>1</td>\n      <td>39.984198</td>\n      <td>116.319322</td>\n      <td>2008-10-23 05:53:06</td>\n      <td>13.690153</td>\n      <td>0.016667</td>\n      <td>13.690153</td>\n    </tr>\n    <tr>\n      <th>2</th>\n      <td>1</td>\n      <td>39.984224</td>\n      <td>116.319402</td>\n      <td>2008-10-23 05:53:11</td>\n      <td>7.403788</td>\n      <td>0.083333</td>\n      <td>1.480758</td>\n    </tr>\n    <tr>\n      <th>3</th>\n      <td>1</td>\n      <td>39.984211</td>\n      <td>116.319389</td>\n      <td>2008-10-23 05:53:16</td>\n      <td>1.821083</td>\n      <td>0.083333</td>\n      <td>0.364217</td>\n    </tr>\n    <tr>\n      <th>4</th>\n      <td>1</td>\n      <td>39.984217</td>\n      <td>116.319422</td>\n      <td>2008-10-23 05:53:21</td>\n      <td>2.889671</td>\n      <td>0.083333</td>\n      <td>0.577934</td>\n    </tr>\n  </tbody>\n</table>\n</div>"
     },
     "metadata": {},
     "execution_count": 27
    }
   ],
   "source": [
    "move_data.head()"
   ]
  },
  {
   "cell_type": "markdown",
   "metadata": {},
   "source": [
    "To convert in seconds, in label_distance column to hours, you can use **seconds_to_hours**"
   ]
  },
  {
   "cell_type": "code",
   "execution_count": 28,
   "metadata": {},
   "outputs": [],
   "source": [
    "utils.conversions.minute_to_seconds(move_data)"
   ]
  },
  {
   "cell_type": "code",
   "execution_count": 29,
   "metadata": {},
   "outputs": [],
   "source": [
    "utils.conversions.seconds_to_hours(move_data)"
   ]
  },
  {
   "cell_type": "code",
   "execution_count": 30,
   "metadata": {},
   "outputs": [
    {
     "output_type": "execute_result",
     "data": {
      "text/plain": [
       "   id        lat         lon            datetime  dist_to_prev  time_to_prev  \\\n",
       "0   1  39.984094  116.319236 2008-10-23 05:53:05           NaN           NaN   \n",
       "1   1  39.984198  116.319322 2008-10-23 05:53:06     13.690153      0.000278   \n",
       "2   1  39.984224  116.319402 2008-10-23 05:53:11      7.403788      0.001389   \n",
       "3   1  39.984211  116.319389 2008-10-23 05:53:16      1.821083      0.001389   \n",
       "4   1  39.984217  116.319422 2008-10-23 05:53:21      2.889671      0.001389   \n",
       "\n",
       "   speed_to_prev  \n",
       "0            NaN  \n",
       "1      13.690153  \n",
       "2       1.480758  \n",
       "3       0.364217  \n",
       "4       0.577934  "
      ],
      "text/html": "<div>\n<style scoped>\n    .dataframe tbody tr th:only-of-type {\n        vertical-align: middle;\n    }\n\n    .dataframe tbody tr th {\n        vertical-align: top;\n    }\n\n    .dataframe thead th {\n        text-align: right;\n    }\n</style>\n<table border=\"1\" class=\"dataframe\">\n  <thead>\n    <tr style=\"text-align: right;\">\n      <th></th>\n      <th>id</th>\n      <th>lat</th>\n      <th>lon</th>\n      <th>datetime</th>\n      <th>dist_to_prev</th>\n      <th>time_to_prev</th>\n      <th>speed_to_prev</th>\n    </tr>\n  </thead>\n  <tbody>\n    <tr>\n      <th>0</th>\n      <td>1</td>\n      <td>39.984094</td>\n      <td>116.319236</td>\n      <td>2008-10-23 05:53:05</td>\n      <td>NaN</td>\n      <td>NaN</td>\n      <td>NaN</td>\n    </tr>\n    <tr>\n      <th>1</th>\n      <td>1</td>\n      <td>39.984198</td>\n      <td>116.319322</td>\n      <td>2008-10-23 05:53:06</td>\n      <td>13.690153</td>\n      <td>0.000278</td>\n      <td>13.690153</td>\n    </tr>\n    <tr>\n      <th>2</th>\n      <td>1</td>\n      <td>39.984224</td>\n      <td>116.319402</td>\n      <td>2008-10-23 05:53:11</td>\n      <td>7.403788</td>\n      <td>0.001389</td>\n      <td>1.480758</td>\n    </tr>\n    <tr>\n      <th>3</th>\n      <td>1</td>\n      <td>39.984211</td>\n      <td>116.319389</td>\n      <td>2008-10-23 05:53:16</td>\n      <td>1.821083</td>\n      <td>0.001389</td>\n      <td>0.364217</td>\n    </tr>\n    <tr>\n      <th>4</th>\n      <td>1</td>\n      <td>39.984217</td>\n      <td>116.319422</td>\n      <td>2008-10-23 05:53:21</td>\n      <td>2.889671</td>\n      <td>0.001389</td>\n      <td>0.577934</td>\n    </tr>\n  </tbody>\n</table>\n</div>"
     },
     "metadata": {},
     "execution_count": 30
    }
   ],
   "source": [
    "move_data.head()"
   ]
  },
  {
   "cell_type": "markdown",
   "metadata": {},
   "source": [
    "To convert in seconds, in label_distance column to hours, you can use **hours_to_seconds**"
   ]
  },
  {
   "cell_type": "code",
   "execution_count": 31,
   "metadata": {},
   "outputs": [],
   "source": [
    "utils.conversions.hours_to_seconds(move_data)"
   ]
  },
  {
   "cell_type": "code",
   "execution_count": 32,
   "metadata": {},
   "outputs": [
    {
     "output_type": "execute_result",
     "data": {
      "text/plain": [
       "   id        lat         lon            datetime  dist_to_prev  time_to_prev  \\\n",
       "0   1  39.984094  116.319236 2008-10-23 05:53:05           NaN           NaN   \n",
       "1   1  39.984198  116.319322 2008-10-23 05:53:06     13.690153           1.0   \n",
       "2   1  39.984224  116.319402 2008-10-23 05:53:11      7.403788           5.0   \n",
       "3   1  39.984211  116.319389 2008-10-23 05:53:16      1.821083           5.0   \n",
       "4   1  39.984217  116.319422 2008-10-23 05:53:21      2.889671           5.0   \n",
       "\n",
       "   speed_to_prev  \n",
       "0            NaN  \n",
       "1      13.690153  \n",
       "2       1.480758  \n",
       "3       0.364217  \n",
       "4       0.577934  "
      ],
      "text/html": "<div>\n<style scoped>\n    .dataframe tbody tr th:only-of-type {\n        vertical-align: middle;\n    }\n\n    .dataframe tbody tr th {\n        vertical-align: top;\n    }\n\n    .dataframe thead th {\n        text-align: right;\n    }\n</style>\n<table border=\"1\" class=\"dataframe\">\n  <thead>\n    <tr style=\"text-align: right;\">\n      <th></th>\n      <th>id</th>\n      <th>lat</th>\n      <th>lon</th>\n      <th>datetime</th>\n      <th>dist_to_prev</th>\n      <th>time_to_prev</th>\n      <th>speed_to_prev</th>\n    </tr>\n  </thead>\n  <tbody>\n    <tr>\n      <th>0</th>\n      <td>1</td>\n      <td>39.984094</td>\n      <td>116.319236</td>\n      <td>2008-10-23 05:53:05</td>\n      <td>NaN</td>\n      <td>NaN</td>\n      <td>NaN</td>\n    </tr>\n    <tr>\n      <th>1</th>\n      <td>1</td>\n      <td>39.984198</td>\n      <td>116.319322</td>\n      <td>2008-10-23 05:53:06</td>\n      <td>13.690153</td>\n      <td>1.0</td>\n      <td>13.690153</td>\n    </tr>\n    <tr>\n      <th>2</th>\n      <td>1</td>\n      <td>39.984224</td>\n      <td>116.319402</td>\n      <td>2008-10-23 05:53:11</td>\n      <td>7.403788</td>\n      <td>5.0</td>\n      <td>1.480758</td>\n    </tr>\n    <tr>\n      <th>3</th>\n      <td>1</td>\n      <td>39.984211</td>\n      <td>116.319389</td>\n      <td>2008-10-23 05:53:16</td>\n      <td>1.821083</td>\n      <td>5.0</td>\n      <td>0.364217</td>\n    </tr>\n    <tr>\n      <th>4</th>\n      <td>1</td>\n      <td>39.984217</td>\n      <td>116.319422</td>\n      <td>2008-10-23 05:53:21</td>\n      <td>2.889671</td>\n      <td>5.0</td>\n      <td>0.577934</td>\n    </tr>\n  </tbody>\n</table>\n</div>"
     },
     "metadata": {},
     "execution_count": 32
    }
   ],
   "source": [
    "move_data.head()"
   ]
  },
  {
   "cell_type": "markdown",
   "metadata": {},
   "source": [
    "## Datetime"
   ]
  },
  {
   "cell_type": "markdown",
   "metadata": {},
   "source": [
    "To converts a datetime in string\"s format \"%Y-%m-%d\" or \"%Y-%m-%d %H:%M:%S\" to datetime\"s format, you can use **str_to_datetime**."
   ]
  },
  {
   "cell_type": "code",
   "execution_count": 33,
   "metadata": {},
   "outputs": [
    {
     "output_type": "execute_result",
     "data": {
      "text/plain": [
       "datetime.datetime(2018, 6, 29, 8, 15, 27)"
      ]
     },
     "metadata": {},
     "execution_count": 33
    }
   ],
   "source": [
    "utils.datetime.str_to_datetime('2018-06-29 08:15:27')"
   ]
  },
  {
   "cell_type": "markdown",
   "metadata": {},
   "source": [
    "To get date, in string's format, from timestamp, you can use **date_to_str**."
   ]
  },
  {
   "cell_type": "code",
   "execution_count": 34,
   "metadata": {},
   "outputs": [
    {
     "output_type": "execute_result",
     "data": {
      "text/plain": [
       "'2018-06-29'"
      ]
     },
     "metadata": {},
     "execution_count": 34
    }
   ],
   "source": [
    "utils.datetime.date_to_str(utils.datetime.str_to_datetime('2018-06-29 08:15:27'))"
   ]
  },
  {
   "cell_type": "markdown",
   "metadata": {},
   "source": [
    "To converts a date in datetime's format to string's format, you can use **to_str**."
   ]
  },
  {
   "cell_type": "code",
   "execution_count": 35,
   "metadata": {},
   "outputs": [
    {
     "output_type": "execute_result",
     "data": {
      "text/plain": [
       "'2018-06-29 08:15:27'"
      ]
     },
     "metadata": {},
     "execution_count": 35
    }
   ],
   "source": [
    "import datetime\n",
    "utils.datetime.to_str(datetime.datetime(2018, 6, 29, 8, 15, 27))"
   ]
  },
  {
   "cell_type": "markdown",
   "metadata": {},
   "source": [
    "To converts a datetime to an int representation in minutes, you can use **to_min**."
   ]
  },
  {
   "cell_type": "code",
   "execution_count": 36,
   "metadata": {},
   "outputs": [
    {
     "output_type": "execute_result",
     "data": {
      "text/plain": [
       "25504335"
      ]
     },
     "metadata": {},
     "execution_count": 36
    }
   ],
   "source": [
    "utils.datetime.to_min(datetime.datetime(2018, 6, 29, 8, 15, 27))"
   ]
  },
  {
   "cell_type": "markdown",
   "metadata": {},
   "source": [
    "To do the reverse use: **min_to_datetime**"
   ]
  },
  {
   "cell_type": "code",
   "execution_count": 37,
   "metadata": {},
   "outputs": [
    {
     "output_type": "execute_result",
     "data": {
      "text/plain": [
       "datetime.datetime(2018, 6, 29, 8, 15)"
      ]
     },
     "metadata": {},
     "execution_count": 37
    }
   ],
   "source": [
    "utils.datetime.min_to_datetime(25504335)"
   ]
  },
  {
   "cell_type": "markdown",
   "metadata": {},
   "source": [
    "To get day of week of a date, you can use **to_day_of_week_int**, where 0 represents Monday and 6 is Sunday."
   ]
  },
  {
   "cell_type": "code",
   "execution_count": 38,
   "metadata": {},
   "outputs": [
    {
     "output_type": "execute_result",
     "data": {
      "text/plain": [
       "4"
      ]
     },
     "metadata": {},
     "execution_count": 38
    }
   ],
   "source": [
    "utils.datetime.to_day_of_week_int(datetime.datetime(2018, 6, 29, 8, 15, 27))"
   ]
  },
  {
   "cell_type": "markdown",
   "metadata": {},
   "source": [
    "To indices if a day specified by the user is a working day, you can use **working_day**."
   ]
  },
  {
   "cell_type": "code",
   "execution_count": 39,
   "metadata": {},
   "outputs": [
    {
     "output_type": "execute_result",
     "data": {
      "text/plain": [
       "True"
      ]
     },
     "metadata": {},
     "execution_count": 39
    }
   ],
   "source": [
    "utils.datetime.working_day(datetime.datetime(2018, 6, 29, 8, 15, 27), country='BR')"
   ]
  },
  {
   "cell_type": "code",
   "execution_count": 40,
   "metadata": {},
   "outputs": [
    {
     "output_type": "execute_result",
     "data": {
      "text/plain": [
       "False"
      ]
     },
     "metadata": {},
     "execution_count": 40
    }
   ],
   "source": [
    "utils.datetime.working_day(datetime.datetime(2018, 4, 21, 8, 15, 27), country='BR')"
   ]
  },
  {
   "cell_type": "markdown",
   "metadata": {},
   "source": [
    "To get datetime of now, you can use **now_str**."
   ]
  },
  {
   "cell_type": "code",
   "execution_count": 41,
   "metadata": {},
   "outputs": [
    {
     "output_type": "execute_result",
     "data": {
      "text/plain": [
       "'2021-02-01 21:56:26'"
      ]
     },
     "metadata": {},
     "execution_count": 41
    }
   ],
   "source": [
    "utils.datetime.now_str()"
   ]
  },
  {
   "cell_type": "markdown",
   "metadata": {},
   "source": [
    "To convert time in a format appropriate of time, you can use **deltatime_str**."
   ]
  },
  {
   "cell_type": "code",
   "execution_count": 42,
   "metadata": {},
   "outputs": [
    {
     "output_type": "execute_result",
     "data": {
      "text/plain": [
       "'18m:02.72s'"
      ]
     },
     "metadata": {},
     "execution_count": 42
    }
   ],
   "source": [
    "utils.datetime.deltatime_str(1082.7180936336517)"
   ]
  },
  {
   "cell_type": "markdown",
   "metadata": {},
   "source": [
    "To converts a local datetime to a POSIX timestamp in milliseconds, you can use **timestamp_to_millis**."
   ]
  },
  {
   "cell_type": "code",
   "execution_count": 43,
   "metadata": {},
   "outputs": [
    {
     "output_type": "execute_result",
     "data": {
      "text/plain": [
       "1449907200123"
      ]
     },
     "metadata": {},
     "execution_count": 43
    }
   ],
   "source": [
    "utils.datetime.timestamp_to_millis(\"2015-12-12 08:00:00.123000\")"
   ]
  },
  {
   "cell_type": "markdown",
   "metadata": {},
   "source": [
    "To converts milliseconds to timestamp, you can use **millis_to_timestamp**."
   ]
  },
  {
   "cell_type": "code",
   "execution_count": 44,
   "metadata": {},
   "outputs": [
    {
     "output_type": "execute_result",
     "data": {
      "text/plain": [
       "Timestamp('2015-12-12 08:00:00.123000')"
      ]
     },
     "metadata": {},
     "execution_count": 44
    }
   ],
   "source": [
    "utils.datetime.millis_to_timestamp(1449907200123)"
   ]
  },
  {
   "cell_type": "markdown",
   "metadata": {},
   "source": [
    "To get time, in string's format, from timestamp, you can use **time_to_str**."
   ]
  },
  {
   "cell_type": "code",
   "execution_count": 45,
   "metadata": {},
   "outputs": [
    {
     "output_type": "execute_result",
     "data": {
      "text/plain": [
       "'08:15:27'"
      ]
     },
     "metadata": {},
     "execution_count": 45
    }
   ],
   "source": [
    "utils.datetime.time_to_str(datetime.datetime(2018, 6, 29, 8, 15, 27))"
   ]
  },
  {
   "cell_type": "markdown",
   "metadata": {},
   "source": [
    "To converts a time in string's format \"%H:%M:%S\" to datetime's format, you can use **str_to_time**."
   ]
  },
  {
   "cell_type": "code",
   "execution_count": 46,
   "metadata": {},
   "outputs": [
    {
     "output_type": "execute_result",
     "data": {
      "text/plain": [
       "datetime.datetime(1900, 1, 1, 8, 0)"
      ]
     },
     "metadata": {},
     "execution_count": 46
    }
   ],
   "source": [
    "utils.datetime.str_to_time(\"08:00:00\")"
   ]
  },
  {
   "cell_type": "markdown",
   "metadata": {},
   "source": [
    "To computes the elapsed time from a specific start time to the moment the function is called, you can use **elapsed_time_dt**."
   ]
  },
  {
   "cell_type": "code",
   "execution_count": 47,
   "metadata": {},
   "outputs": [
    {
     "output_type": "execute_result",
     "data": {
      "text/plain": [
       "3821176587586"
      ]
     },
     "metadata": {},
     "execution_count": 47
    }
   ],
   "source": [
    "utils.datetime.elapsed_time_dt(utils.datetime.str_to_time(\"08:00:00\"))"
   ]
  },
  {
   "cell_type": "markdown",
   "metadata": {},
   "source": [
    "To computes the elapsed time from the start time to the end time specifed by the user, you can use **diff_time**."
   ]
  },
  {
   "cell_type": "code",
   "execution_count": 48,
   "metadata": {},
   "outputs": [
    {
     "output_type": "execute_result",
     "data": {
      "text/plain": [
       "14400000"
      ]
     },
     "metadata": {},
     "execution_count": 48
    }
   ],
   "source": [
    "utils.datetime.diff_time(utils.datetime.str_to_time(\"08:00:00\"), utils.datetime.str_to_time(\"12:00:00\"))"
   ]
  },
  {
   "cell_type": "markdown",
   "metadata": {},
   "source": [
    "## Distances"
   ]
  },
  {
   "cell_type": "markdown",
   "metadata": {},
   "source": [
    "To calculate the great circle distance between two points on the earth, you can use **haversine**."
   ]
  },
  {
   "cell_type": "code",
   "execution_count": 49,
   "metadata": {},
   "outputs": [
    {
     "output_type": "execute_result",
     "data": {
      "text/plain": [
       "9.757976024363016"
      ]
     },
     "metadata": {},
     "execution_count": 49
    }
   ],
   "source": [
    "utils.distances.haversine(-3.797864,-38.501597,-3.797890, -38.501681)"
   ]
  },
  {
   "cell_type": "markdown",
   "metadata": {},
   "source": [
    "---\n",
    "<!-- Ver com a arina se é válido fazer a doc dessas 2 -->\n",
    "<!-- ## Trajectories --> \n",
    "<!-- ## Transformations -->\n",
    "\n",
    "## Math"
   ]
  },
  {
   "cell_type": "markdown",
   "metadata": {},
   "source": [
    "To compute standard deviation, you can use **std**."
   ]
  },
  {
   "cell_type": "code",
   "execution_count": 50,
   "metadata": {},
   "outputs": [
    {
     "output_type": "execute_result",
     "data": {
      "text/plain": [
       "277.0178494048513"
      ]
     },
     "metadata": {},
     "execution_count": 50
    }
   ],
   "source": [
    "utils.math.std([600, 20, 5])"
   ]
  },
  {
   "cell_type": "markdown",
   "metadata": {},
   "source": [
    "To compute the average of standard deviation, you can use **avg_std**."
   ]
  },
  {
   "cell_type": "code",
   "execution_count": 51,
   "metadata": {},
   "outputs": [
    {
     "output_type": "execute_result",
     "data": {
      "text/plain": [
       "(208.33333333333334, 277.0178494048513)"
      ]
     },
     "metadata": {},
     "execution_count": 51
    }
   ],
   "source": [
    "utils.math.avg_std([600, 20, 5])"
   ]
  },
  {
   "cell_type": "markdown",
   "metadata": {},
   "source": [
    "To compute the standard deviation of sample, you can use **std_sample**."
   ]
  },
  {
   "cell_type": "code",
   "execution_count": 52,
   "metadata": {},
   "outputs": [
    {
     "output_type": "execute_result",
     "data": {
      "text/plain": [
       "339.27619034251916"
      ]
     },
     "metadata": {},
     "execution_count": 52
    }
   ],
   "source": [
    "utils.math.std_sample([600, 20, 5])"
   ]
  },
  {
   "cell_type": "markdown",
   "metadata": {},
   "source": [
    "To compute the average of standard deviation of sample, you can use **avg_std_sample**."
   ]
  },
  {
   "cell_type": "code",
   "execution_count": 53,
   "metadata": {},
   "outputs": [
    {
     "output_type": "execute_result",
     "data": {
      "text/plain": [
       "(208.33333333333334, 339.27619034251916)"
      ]
     },
     "metadata": {},
     "execution_count": 53
    }
   ],
   "source": [
    "utils.math.avg_std_sample([600, 20, 5])"
   ]
  },
  {
   "cell_type": "markdown",
   "metadata": {},
   "source": [
    "To computes the sum of the elements of the array, you can use **array_sum**."
   ]
  },
  {
   "cell_type": "markdown",
   "metadata": {},
   "source": [
    "To computes the sum of all the elements in the array, the sum of the square of each element and the number of elements of the array, you can use **array_stats**."
   ]
  },
  {
   "cell_type": "code",
   "execution_count": 54,
   "metadata": {},
   "outputs": [
    {
     "output_type": "execute_result",
     "data": {
      "text/plain": [
       "(625, 360425, 3)"
      ]
     },
     "metadata": {},
     "execution_count": 54
    }
   ],
   "source": [
    "utils.math.array_stats([600, 20, 5])"
   ]
  },
  {
   "cell_type": "markdown",
   "metadata": {},
   "source": [
    "To perfomers interpolation and extrapolation, you can use **interpolation**."
   ]
  },
  {
   "cell_type": "code",
   "execution_count": 55,
   "metadata": {},
   "outputs": [
    {
     "output_type": "execute_result",
     "data": {
      "text/plain": [
       "6.799999999999999"
      ]
     },
     "metadata": {},
     "execution_count": 55
    }
   ],
   "source": [
    "utils.math.interpolation(15, 20, 65, 86, 5)"
   ]
  },
  {
   "cell_type": "code",
   "execution_count": null,
   "metadata": {},
   "outputs": [],
   "source": []
  }
 ],
 "metadata": {
  "file_extension": ".py",
  "kernelspec": {
   "display_name": "Python 3",
   "language": "python",
   "name": "python3"
  },
  "language_info": {
   "codemirror_mode": {
    "name": "ipython",
    "version": 3
   },
   "file_extension": ".py",
   "mimetype": "text/x-python",
   "name": "python",
   "nbconvert_exporter": "python",
   "pygments_lexer": "ipython3",
   "version": "3.7.7-final"
  },
  "mimetype": "text/x-python",
  "name": "python",
  "npconvert_exporter": "python",
  "pygments_lexer": "ipython3",
  "version": 3
 },
 "nbformat": 4,
 "nbformat_minor": 4
}