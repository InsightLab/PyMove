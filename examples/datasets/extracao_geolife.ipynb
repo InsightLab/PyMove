{
 "cells": [
  {
   "cell_type": "code",
   "execution_count": 14,
   "metadata": {},
   "outputs": [],
   "source": [
    "import numpy as np\n",
    "import pandas as pd\n",
    "import glob\n",
    "import os.path\n",
    "import datetime\n",
    "import os\n",
    "\n",
    "def read_plt(plt_file):\n",
    "    points = pd.read_csv(plt_file, skiprows=6, header=None,\n",
    "                         parse_dates=[[5, 6]], infer_datetime_format=True)\n",
    "\n",
    "    # for clarity rename columns\n",
    "    points.rename(inplace=True, columns={0: 'lat', 1: 'lon', 3: 'alt', '5_6': 'time'})\n",
    "\n",
    "    # remove unused columns\n",
    "    points.drop(inplace=True, columns=[2, 4])\n",
    "\n",
    "    return points\n",
    "\n",
    "mode_names = ['walk', 'bike', 'bus', 'car', 'subway','train', 'airplane', 'boat', 'run', 'motorcycle', 'taxi']\n",
    "mode_ids = {s : i + 1 for i, s in enumerate(mode_names)}\n",
    "\n",
    "def read_labels(labels_file):\n",
    "    labels = pd.read_csv(labels_file, skiprows=1, header=None,\n",
    "                         parse_dates=[[0, 1], [2, 3]],\n",
    "                         infer_datetime_format=True, delim_whitespace=True)\n",
    "\n",
    "    # for clarity rename columns\n",
    "    labels.columns = ['start_time', 'end_time', 'label']\n",
    "\n",
    "    # replace 'label' column with integer encoding\n",
    "    labels['label'] = [mode_ids[i] for i in labels['label']]\n",
    "\n",
    "    return labels\n",
    "\n",
    "def apply_labels(points, labels):\n",
    "    indices = labels['start_time'].searchsorted(points['time'], side='right') - 1\n",
    "    no_label = (indices < 0) | (points['time'].values >= labels['end_time'].iloc[indices].values)\n",
    "    points['label'] = labels['label'].iloc[indices].values\n",
    "    points['label'][no_label] = 0\n",
    "\n",
    "def read_user(user_folder):\n",
    "    labels = None\n",
    "\n",
    "    plt_files = glob.glob(os.path.join(user_folder, 'Trajectory', '*.plt'))\n",
    "    df = pd.concat([read_plt(f) for f in plt_files])\n",
    "\n",
    "    labels_file = os.path.join(user_folder, 'labels.txt')\n",
    "    if os.path.exists(labels_file):\n",
    "        labels = read_labels(labels_file)\n",
    "        apply_labels(df, labels)\n",
    "    else:\n",
    "        df['label'] = 0\n",
    "\n",
    "    return df\n",
    "\n",
    "def read_all_users(folder):\n",
    "    subfolders = os.listdir(folder)\n",
    "    dfs = []\n",
    "    for i, sf in enumerate(subfolders):\n",
    "        print('[%d/%d] processing user %s' % (i + 1, len(subfolders), sf))\n",
    "        df = read_user(os.path.join(folder,sf))\n",
    "        df['user'] = int(sf)\n",
    "        dfs.append(df)\n",
    "    return pd.concat(dfs)"
   ]
  },
  {
   "cell_type": "code",
   "execution_count": 18,
   "metadata": {},
   "outputs": [
    {
     "name": "stdout",
     "output_type": "stream",
     "text": [
      "[1/4] processing user 000\n",
      "[2/4] processing user 010\n"
     ]
    },
    {
     "name": "stderr",
     "output_type": "stream",
     "text": [
      "C:\\Users\\andre\\AppData\\Local\\Continuum\\miniconda3\\lib\\site-packages\\ipykernel_launcher.py:40: SettingWithCopyWarning: \n",
      "A value is trying to be set on a copy of a slice from a DataFrame\n",
      "\n",
      "See the caveats in the documentation: http://pandas.pydata.org/pandas-docs/stable/user_guide/indexing.html#returning-a-view-versus-a-copy\n"
     ]
    },
    {
     "name": "stdout",
     "output_type": "stream",
     "text": [
      "[3/4] processing user 011\n",
      "[4/4] processing user 100\n"
     ]
    }
   ],
   "source": [
    "df = read_all_users('Geolife Trajectories 1.3\\Geolife Trajectories 1.3\\Data')"
   ]
  },
  {
   "cell_type": "code",
   "execution_count": 20,
   "metadata": {},
   "outputs": [
    {
     "data": {
      "text/html": [
       "<div>\n",
       "<style scoped>\n",
       "    .dataframe tbody tr th:only-of-type {\n",
       "        vertical-align: middle;\n",
       "    }\n",
       "\n",
       "    .dataframe tbody tr th {\n",
       "        vertical-align: top;\n",
       "    }\n",
       "\n",
       "    .dataframe thead th {\n",
       "        text-align: right;\n",
       "    }\n",
       "</style>\n",
       "<table border=\"1\" class=\"dataframe\">\n",
       "  <thead>\n",
       "    <tr style=\"text-align: right;\">\n",
       "      <th></th>\n",
       "      <th>time</th>\n",
       "      <th>lat</th>\n",
       "      <th>lon</th>\n",
       "      <th>alt</th>\n",
       "      <th>label</th>\n",
       "      <th>user</th>\n",
       "    </tr>\n",
       "  </thead>\n",
       "  <tbody>\n",
       "    <tr>\n",
       "      <th>0</th>\n",
       "      <td>2008-10-23 02:53:04</td>\n",
       "      <td>39.984702</td>\n",
       "      <td>116.318417</td>\n",
       "      <td>492.0</td>\n",
       "      <td>0</td>\n",
       "      <td>0</td>\n",
       "    </tr>\n",
       "    <tr>\n",
       "      <th>1</th>\n",
       "      <td>2008-10-23 02:53:10</td>\n",
       "      <td>39.984683</td>\n",
       "      <td>116.318450</td>\n",
       "      <td>492.0</td>\n",
       "      <td>0</td>\n",
       "      <td>0</td>\n",
       "    </tr>\n",
       "    <tr>\n",
       "      <th>2</th>\n",
       "      <td>2008-10-23 02:53:15</td>\n",
       "      <td>39.984686</td>\n",
       "      <td>116.318417</td>\n",
       "      <td>492.0</td>\n",
       "      <td>0</td>\n",
       "      <td>0</td>\n",
       "    </tr>\n",
       "    <tr>\n",
       "      <th>3</th>\n",
       "      <td>2008-10-23 02:53:20</td>\n",
       "      <td>39.984688</td>\n",
       "      <td>116.318385</td>\n",
       "      <td>492.0</td>\n",
       "      <td>0</td>\n",
       "      <td>0</td>\n",
       "    </tr>\n",
       "    <tr>\n",
       "      <th>4</th>\n",
       "      <td>2008-10-23 02:53:25</td>\n",
       "      <td>39.984655</td>\n",
       "      <td>116.318263</td>\n",
       "      <td>492.0</td>\n",
       "      <td>0</td>\n",
       "      <td>0</td>\n",
       "    </tr>\n",
       "  </tbody>\n",
       "</table>\n",
       "</div>"
      ],
      "text/plain": [
       "                 time        lat         lon    alt  label  user\n",
       "0 2008-10-23 02:53:04  39.984702  116.318417  492.0      0     0\n",
       "1 2008-10-23 02:53:10  39.984683  116.318450  492.0      0     0\n",
       "2 2008-10-23 02:53:15  39.984686  116.318417  492.0      0     0\n",
       "3 2008-10-23 02:53:20  39.984688  116.318385  492.0      0     0\n",
       "4 2008-10-23 02:53:25  39.984655  116.318263  492.0      0     0"
      ]
     },
     "execution_count": 20,
     "metadata": {},
     "output_type": "execute_result"
    }
   ],
   "source": [
    "df.head()"
   ]
  },
  {
   "cell_type": "code",
   "execution_count": 21,
   "metadata": {},
   "outputs": [],
   "source": [
    "df.to_csv('geolife.csv')"
   ]
  },
  {
   "cell_type": "code",
   "execution_count": null,
   "metadata": {},
   "outputs": [],
   "source": []
  }
 ],
 "metadata": {
  "kernelspec": {
   "display_name": "Python 3",
   "language": "python",
   "name": "python3"
  },
  "language_info": {
   "codemirror_mode": {
    "name": "ipython",
    "version": 3
   },
   "file_extension": ".py",
   "mimetype": "text/x-python",
   "name": "python",
   "nbconvert_exporter": "python",
   "pygments_lexer": "ipython3",
   "version": "3.7.3"
  }
 },
 "nbformat": 4,
 "nbformat_minor": 2
}
