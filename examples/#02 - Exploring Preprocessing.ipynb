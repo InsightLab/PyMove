{
 "cells": [
  {
   "cell_type": "markdown",
   "metadata": {},
   "source": [
    "# #02 - Exploring Preprocessing "
   ]
  },
  {
   "cell_type": "markdown",
   "metadata": {},
   "source": [
    "Data preprocessing is a set of activities performed to prepare data for future analysis and data mining activities."
   ]
  },
  {
   "cell_type": "markdown",
   "metadata": {},
   "source": [
    "## Load data from file"
   ]
  },
  {
   "cell_type": "markdown",
   "metadata": {},
   "source": [
    "The dataset used in this tutorial is GeoLife GPS Trajectories. Available in https://www.microsoft.com/en-us/download/details.aspx?id=52367"
   ]
  },
  {
   "cell_type": "code",
   "execution_count": 1,
   "metadata": {},
   "outputs": [],
   "source": [
    "import pandas as pd\n",
    "import numpy as np\n",
    "from pymove import MoveDataFrame\n",
    "from pymove import read_csv"
   ]
  },
  {
   "cell_type": "code",
   "execution_count": 2,
   "metadata": {},
   "outputs": [
    {
     "data": {
      "text/html": [
       "<div>\n",
       "<style scoped>\n",
       "    .dataframe tbody tr th:only-of-type {\n",
       "        vertical-align: middle;\n",
       "    }\n",
       "\n",
       "    .dataframe tbody tr th {\n",
       "        vertical-align: top;\n",
       "    }\n",
       "\n",
       "    .dataframe thead th {\n",
       "        text-align: right;\n",
       "    }\n",
       "</style>\n",
       "<table border=\"1\" class=\"dataframe\">\n",
       "  <thead>\n",
       "    <tr style=\"text-align: right;\">\n",
       "      <th></th>\n",
       "      <th>lat</th>\n",
       "      <th>lon</th>\n",
       "      <th>datetime</th>\n",
       "      <th>id</th>\n",
       "    </tr>\n",
       "  </thead>\n",
       "  <tbody>\n",
       "    <tr>\n",
       "      <th>0</th>\n",
       "      <td>39.984094</td>\n",
       "      <td>116.319236</td>\n",
       "      <td>2008-10-23 05:53:05</td>\n",
       "      <td>1</td>\n",
       "    </tr>\n",
       "    <tr>\n",
       "      <th>1</th>\n",
       "      <td>39.984198</td>\n",
       "      <td>116.319322</td>\n",
       "      <td>2008-10-23 05:53:06</td>\n",
       "      <td>1</td>\n",
       "    </tr>\n",
       "    <tr>\n",
       "      <th>2</th>\n",
       "      <td>39.984224</td>\n",
       "      <td>116.319402</td>\n",
       "      <td>2008-10-23 05:53:11</td>\n",
       "      <td>1</td>\n",
       "    </tr>\n",
       "    <tr>\n",
       "      <th>3</th>\n",
       "      <td>39.984211</td>\n",
       "      <td>116.319389</td>\n",
       "      <td>2008-10-23 05:53:16</td>\n",
       "      <td>1</td>\n",
       "    </tr>\n",
       "    <tr>\n",
       "      <th>4</th>\n",
       "      <td>39.984217</td>\n",
       "      <td>116.319422</td>\n",
       "      <td>2008-10-23 05:53:21</td>\n",
       "      <td>1</td>\n",
       "    </tr>\n",
       "  </tbody>\n",
       "</table>\n",
       "</div>"
      ],
      "text/plain": [
       "         lat         lon            datetime  id\n",
       "0  39.984094  116.319236 2008-10-23 05:53:05   1\n",
       "1  39.984198  116.319322 2008-10-23 05:53:06   1\n",
       "2  39.984224  116.319402 2008-10-23 05:53:11   1\n",
       "3  39.984211  116.319389 2008-10-23 05:53:16   1\n",
       "4  39.984217  116.319422 2008-10-23 05:53:21   1"
      ]
     },
     "execution_count": 2,
     "metadata": {},
     "output_type": "execute_result"
    }
   ],
   "source": [
    "df = pd.read_csv('geolife_sample.csv', parse_dates=['datetime'])\n",
    "df.head()"
   ]
  },
  {
   "cell_type": "code",
   "execution_count": 3,
   "metadata": {},
   "outputs": [],
   "source": [
    "df_move = MoveDataFrame(df, latitude=\"lat\", longitude=\"lon\", datetime=\"datetime\")"
   ]
  },
  {
   "cell_type": "code",
   "execution_count": 4,
   "metadata": {},
   "outputs": [
    {
     "name": "stdout",
     "output_type": "stream",
     "text": [
      "\n",
      "======================= INFORMATION ABOUT DATASET =======================\n",
      "\n",
      "Number of Points: 217653\n",
      "\n",
      "Number of IDs objects: 2\n",
      "\n",
      "Start Date:2008-10-23 05:53:05     End Date:2009-03-19 05:46:37\n",
      "\n",
      "Bounding Box:(22.147577, 113.54884, 41.13206, 121.15623)\n",
      "\n",
      "\n",
      "=========================================================================\n",
      "\n"
     ]
    }
   ],
   "source": [
    "df_move.show_trajectories_info()"
   ]
  },
  {
   "cell_type": "markdown",
   "metadata": {},
   "source": [
    "## Filtering"
   ]
  },
  {
   "cell_type": "markdown",
   "metadata": {},
   "source": [
    "The filters module provides functions to perform different types of data filtering."
   ]
  },
  {
   "cell_type": "markdown",
   "metadata": {},
   "source": [
    "Importing the module:"
   ]
  },
  {
   "cell_type": "code",
   "execution_count": 5,
   "metadata": {},
   "outputs": [],
   "source": [
    "from pymove import filters\n",
    "df_move = read_csv('geolife_sample.csv')"
   ]
  },
  {
   "cell_type": "markdown",
   "metadata": {},
   "source": [
    "A bounding box (usually shortened to bbox) is an area defined by two longitudes and two latitudes. The function by_bbox, filters points of the trajectories according to a especified bounding box."
   ]
  },
  {
   "cell_type": "code",
   "execution_count": 6,
   "metadata": {},
   "outputs": [
    {
     "data": {
      "text/html": [
       "<div>\n",
       "<style scoped>\n",
       "    .dataframe tbody tr th:only-of-type {\n",
       "        vertical-align: middle;\n",
       "    }\n",
       "\n",
       "    .dataframe tbody tr th {\n",
       "        vertical-align: top;\n",
       "    }\n",
       "\n",
       "    .dataframe thead th {\n",
       "        text-align: right;\n",
       "    }\n",
       "</style>\n",
       "<table border=\"1\" class=\"dataframe\">\n",
       "  <thead>\n",
       "    <tr style=\"text-align: right;\">\n",
       "      <th></th>\n",
       "      <th>lat</th>\n",
       "      <th>lon</th>\n",
       "      <th>datetime</th>\n",
       "      <th>id</th>\n",
       "    </tr>\n",
       "  </thead>\n",
       "  <tbody>\n",
       "    <tr>\n",
       "      <th>0</th>\n",
       "      <td>39.984093</td>\n",
       "      <td>116.319237</td>\n",
       "      <td>2008-10-23 05:53:05</td>\n",
       "      <td>1</td>\n",
       "    </tr>\n",
       "    <tr>\n",
       "      <th>1</th>\n",
       "      <td>39.984200</td>\n",
       "      <td>116.319321</td>\n",
       "      <td>2008-10-23 05:53:06</td>\n",
       "      <td>1</td>\n",
       "    </tr>\n",
       "    <tr>\n",
       "      <th>2</th>\n",
       "      <td>39.984222</td>\n",
       "      <td>116.319405</td>\n",
       "      <td>2008-10-23 05:53:11</td>\n",
       "      <td>1</td>\n",
       "    </tr>\n",
       "    <tr>\n",
       "      <th>3</th>\n",
       "      <td>39.984211</td>\n",
       "      <td>116.319389</td>\n",
       "      <td>2008-10-23 05:53:16</td>\n",
       "      <td>1</td>\n",
       "    </tr>\n",
       "    <tr>\n",
       "      <th>4</th>\n",
       "      <td>39.984219</td>\n",
       "      <td>116.319420</td>\n",
       "      <td>2008-10-23 05:53:21</td>\n",
       "      <td>1</td>\n",
       "    </tr>\n",
       "  </tbody>\n",
       "</table>\n",
       "</div>"
      ],
      "text/plain": [
       "         lat         lon            datetime  id\n",
       "0  39.984093  116.319237 2008-10-23 05:53:05   1\n",
       "1  39.984200  116.319321 2008-10-23 05:53:06   1\n",
       "2  39.984222  116.319405 2008-10-23 05:53:11   1\n",
       "3  39.984211  116.319389 2008-10-23 05:53:16   1\n",
       "4  39.984219  116.319420 2008-10-23 05:53:21   1"
      ]
     },
     "execution_count": 6,
     "metadata": {},
     "output_type": "execute_result"
    }
   ],
   "source": [
    "bbox = (22.147577, 113.54884299999999, 41.132062, 121.156224)\n",
    "filt_df = filters.by_bbox(df_move, bbox)\n",
    "filt_df.head()"
   ]
  },
  {
   "cell_type": "markdown",
   "metadata": {},
   "source": [
    "by_datetime function filters point trajectories according to the time specified by the parameters: start_datetime and end_datetime."
   ]
  },
  {
   "cell_type": "code",
   "execution_count": 7,
   "metadata": {},
   "outputs": [
    {
     "data": {
      "text/html": [
       "<div>\n",
       "<style scoped>\n",
       "    .dataframe tbody tr th:only-of-type {\n",
       "        vertical-align: middle;\n",
       "    }\n",
       "\n",
       "    .dataframe tbody tr th {\n",
       "        vertical-align: top;\n",
       "    }\n",
       "\n",
       "    .dataframe thead th {\n",
       "        text-align: right;\n",
       "    }\n",
       "</style>\n",
       "<table border=\"1\" class=\"dataframe\">\n",
       "  <thead>\n",
       "    <tr style=\"text-align: right;\">\n",
       "      <th></th>\n",
       "      <th>lat</th>\n",
       "      <th>lon</th>\n",
       "      <th>datetime</th>\n",
       "      <th>id</th>\n",
       "    </tr>\n",
       "  </thead>\n",
       "  <tbody>\n",
       "    <tr>\n",
       "      <th>217643</th>\n",
       "      <td>40.000206</td>\n",
       "      <td>116.327171</td>\n",
       "      <td>2009-03-19 05:45:37</td>\n",
       "      <td>5</td>\n",
       "    </tr>\n",
       "    <tr>\n",
       "      <th>217644</th>\n",
       "      <td>40.000130</td>\n",
       "      <td>116.327171</td>\n",
       "      <td>2009-03-19 05:45:42</td>\n",
       "      <td>5</td>\n",
       "    </tr>\n",
       "    <tr>\n",
       "      <th>217645</th>\n",
       "      <td>40.000069</td>\n",
       "      <td>116.327179</td>\n",
       "      <td>2009-03-19 05:45:47</td>\n",
       "      <td>5</td>\n",
       "    </tr>\n",
       "    <tr>\n",
       "      <th>217646</th>\n",
       "      <td>40.000000</td>\n",
       "      <td>116.327217</td>\n",
       "      <td>2009-03-19 05:45:52</td>\n",
       "      <td>5</td>\n",
       "    </tr>\n",
       "    <tr>\n",
       "      <th>217647</th>\n",
       "      <td>39.999920</td>\n",
       "      <td>116.327209</td>\n",
       "      <td>2009-03-19 05:45:57</td>\n",
       "      <td>5</td>\n",
       "    </tr>\n",
       "    <tr>\n",
       "      <th>217648</th>\n",
       "      <td>39.999897</td>\n",
       "      <td>116.327293</td>\n",
       "      <td>2009-03-19 05:46:02</td>\n",
       "      <td>5</td>\n",
       "    </tr>\n",
       "    <tr>\n",
       "      <th>217649</th>\n",
       "      <td>39.999901</td>\n",
       "      <td>116.327354</td>\n",
       "      <td>2009-03-19 05:46:07</td>\n",
       "      <td>5</td>\n",
       "    </tr>\n",
       "    <tr>\n",
       "      <th>217650</th>\n",
       "      <td>39.999947</td>\n",
       "      <td>116.327393</td>\n",
       "      <td>2009-03-19 05:46:12</td>\n",
       "      <td>5</td>\n",
       "    </tr>\n",
       "    <tr>\n",
       "      <th>217651</th>\n",
       "      <td>40.000015</td>\n",
       "      <td>116.327431</td>\n",
       "      <td>2009-03-19 05:46:17</td>\n",
       "      <td>5</td>\n",
       "    </tr>\n",
       "  </tbody>\n",
       "</table>\n",
       "</div>"
      ],
      "text/plain": [
       "              lat         lon            datetime  id\n",
       "217643  40.000206  116.327171 2009-03-19 05:45:37   5\n",
       "217644  40.000130  116.327171 2009-03-19 05:45:42   5\n",
       "217645  40.000069  116.327179 2009-03-19 05:45:47   5\n",
       "217646  40.000000  116.327217 2009-03-19 05:45:52   5\n",
       "217647  39.999920  116.327209 2009-03-19 05:45:57   5\n",
       "217648  39.999897  116.327293 2009-03-19 05:46:02   5\n",
       "217649  39.999901  116.327354 2009-03-19 05:46:07   5\n",
       "217650  39.999947  116.327393 2009-03-19 05:46:12   5\n",
       "217651  40.000015  116.327431 2009-03-19 05:46:17   5"
      ]
     },
     "execution_count": 7,
     "metadata": {},
     "output_type": "execute_result"
    }
   ],
   "source": [
    "filters.by_datetime(df_move, start_datetime = \"2009-03-19 05:45:37\", end_datetime = \"2009-03-19 05:46:17\")"
   ]
  },
  {
   "cell_type": "markdown",
   "metadata": {},
   "source": [
    "by label function filters trajectories points according to specified value and column label, set by value and label_name respectively."
   ]
  },
  {
   "cell_type": "code",
   "execution_count": 8,
   "metadata": {},
   "outputs": [
    {
     "data": {
      "text/html": [
       "<div>\n",
       "<style scoped>\n",
       "    .dataframe tbody tr th:only-of-type {\n",
       "        vertical-align: middle;\n",
       "    }\n",
       "\n",
       "    .dataframe tbody tr th {\n",
       "        vertical-align: top;\n",
       "    }\n",
       "\n",
       "    .dataframe thead th {\n",
       "        text-align: right;\n",
       "    }\n",
       "</style>\n",
       "<table border=\"1\" class=\"dataframe\">\n",
       "  <thead>\n",
       "    <tr style=\"text-align: right;\">\n",
       "      <th></th>\n",
       "      <th>lat</th>\n",
       "      <th>lon</th>\n",
       "      <th>datetime</th>\n",
       "      <th>id</th>\n",
       "    </tr>\n",
       "  </thead>\n",
       "  <tbody>\n",
       "    <tr>\n",
       "      <th>133</th>\n",
       "      <td>39.979034</td>\n",
       "      <td>116.327217</td>\n",
       "      <td>2008-10-23 06:01:02</td>\n",
       "      <td>1</td>\n",
       "    </tr>\n",
       "    <tr>\n",
       "      <th>159</th>\n",
       "      <td>39.977978</td>\n",
       "      <td>116.327217</td>\n",
       "      <td>2008-10-23 10:33:47</td>\n",
       "      <td>1</td>\n",
       "    </tr>\n",
       "    <tr>\n",
       "      <th>160</th>\n",
       "      <td>39.978092</td>\n",
       "      <td>116.327217</td>\n",
       "      <td>2008-10-23 10:33:50</td>\n",
       "      <td>1</td>\n",
       "    </tr>\n",
       "    <tr>\n",
       "      <th>3066</th>\n",
       "      <td>39.979160</td>\n",
       "      <td>116.327217</td>\n",
       "      <td>2008-10-24 06:34:27</td>\n",
       "      <td>1</td>\n",
       "    </tr>\n",
       "    <tr>\n",
       "      <th>13792</th>\n",
       "      <td>39.976044</td>\n",
       "      <td>116.327217</td>\n",
       "      <td>2008-10-26 07:03:51</td>\n",
       "      <td>1</td>\n",
       "    </tr>\n",
       "  </tbody>\n",
       "</table>\n",
       "</div>"
      ],
      "text/plain": [
       "             lat         lon            datetime  id\n",
       "133    39.979034  116.327217 2008-10-23 06:01:02   1\n",
       "159    39.977978  116.327217 2008-10-23 10:33:47   1\n",
       "160    39.978092  116.327217 2008-10-23 10:33:50   1\n",
       "3066   39.979160  116.327217 2008-10-24 06:34:27   1\n",
       "13792  39.976044  116.327217 2008-10-26 07:03:51   1"
      ]
     },
     "execution_count": 8,
     "metadata": {},
     "output_type": "execute_result"
    }
   ],
   "source": [
    "filters.by_label(df_move, value = 116.327219, label_name = \"lon\").head()"
   ]
  },
  {
   "cell_type": "markdown",
   "metadata": {},
   "source": [
    "by_id function filters trajectories points according to especified trajectory id."
   ]
  },
  {
   "cell_type": "code",
   "execution_count": 9,
   "metadata": {},
   "outputs": [
    {
     "data": {
      "text/html": [
       "<div>\n",
       "<style scoped>\n",
       "    .dataframe tbody tr th:only-of-type {\n",
       "        vertical-align: middle;\n",
       "    }\n",
       "\n",
       "    .dataframe tbody tr th {\n",
       "        vertical-align: top;\n",
       "    }\n",
       "\n",
       "    .dataframe thead th {\n",
       "        text-align: right;\n",
       "    }\n",
       "</style>\n",
       "<table border=\"1\" class=\"dataframe\">\n",
       "  <thead>\n",
       "    <tr style=\"text-align: right;\">\n",
       "      <th></th>\n",
       "      <th>lat</th>\n",
       "      <th>lon</th>\n",
       "      <th>datetime</th>\n",
       "      <th>id</th>\n",
       "    </tr>\n",
       "  </thead>\n",
       "  <tbody>\n",
       "    <tr>\n",
       "      <th>108607</th>\n",
       "      <td>40.004154</td>\n",
       "      <td>116.321335</td>\n",
       "      <td>2008-10-24 04:12:30</td>\n",
       "      <td>5</td>\n",
       "    </tr>\n",
       "    <tr>\n",
       "      <th>108608</th>\n",
       "      <td>40.003834</td>\n",
       "      <td>116.321465</td>\n",
       "      <td>2008-10-24 04:12:35</td>\n",
       "      <td>5</td>\n",
       "    </tr>\n",
       "    <tr>\n",
       "      <th>108609</th>\n",
       "      <td>40.003784</td>\n",
       "      <td>116.321434</td>\n",
       "      <td>2008-10-24 04:12:40</td>\n",
       "      <td>5</td>\n",
       "    </tr>\n",
       "    <tr>\n",
       "      <th>108610</th>\n",
       "      <td>40.003689</td>\n",
       "      <td>116.321426</td>\n",
       "      <td>2008-10-24 04:12:45</td>\n",
       "      <td>5</td>\n",
       "    </tr>\n",
       "    <tr>\n",
       "      <th>108611</th>\n",
       "      <td>40.003590</td>\n",
       "      <td>116.321426</td>\n",
       "      <td>2008-10-24 04:12:50</td>\n",
       "      <td>5</td>\n",
       "    </tr>\n",
       "  </tbody>\n",
       "</table>\n",
       "</div>"
      ],
      "text/plain": [
       "              lat         lon            datetime  id\n",
       "108607  40.004154  116.321335 2008-10-24 04:12:30   5\n",
       "108608  40.003834  116.321465 2008-10-24 04:12:35   5\n",
       "108609  40.003784  116.321434 2008-10-24 04:12:40   5\n",
       "108610  40.003689  116.321426 2008-10-24 04:12:45   5\n",
       "108611  40.003590  116.321426 2008-10-24 04:12:50   5"
      ]
     },
     "execution_count": 9,
     "metadata": {},
     "output_type": "execute_result"
    }
   ],
   "source": [
    "filters.by_id(df_move, id_=5).head()"
   ]
  },
  {
   "cell_type": "markdown",
   "metadata": {},
   "source": [
    "A tid is the result of concatenation between the id and date of a trajectory.\n",
    "The by_tid function filters trajectory points according to the tid specified by the tid_ parameter."
   ]
  },
  {
   "cell_type": "code",
   "execution_count": 10,
   "metadata": {},
   "outputs": [
    {
     "name": "stdout",
     "output_type": "stream",
     "text": [
      "\n",
      "Creating or updating tid feature...\n",
      "\n",
      "...Sorting by id and datetime to increase performance\n",
      "\n",
      "\n",
      "...tid feature was created...\n",
      "\n"
     ]
    },
    {
     "data": {
      "text/html": [
       "<div>\n",
       "<style scoped>\n",
       "    .dataframe tbody tr th:only-of-type {\n",
       "        vertical-align: middle;\n",
       "    }\n",
       "\n",
       "    .dataframe tbody tr th {\n",
       "        vertical-align: top;\n",
       "    }\n",
       "\n",
       "    .dataframe thead th {\n",
       "        text-align: right;\n",
       "    }\n",
       "</style>\n",
       "<table border=\"1\" class=\"dataframe\">\n",
       "  <thead>\n",
       "    <tr style=\"text-align: right;\">\n",
       "      <th></th>\n",
       "      <th>lat</th>\n",
       "      <th>lon</th>\n",
       "      <th>datetime</th>\n",
       "      <th>id</th>\n",
       "      <th>tid</th>\n",
       "    </tr>\n",
       "  </thead>\n",
       "  <tbody>\n",
       "    <tr>\n",
       "      <th>0</th>\n",
       "      <td>39.984093</td>\n",
       "      <td>116.319237</td>\n",
       "      <td>2008-10-23 05:53:05</td>\n",
       "      <td>1</td>\n",
       "      <td>12008102305</td>\n",
       "    </tr>\n",
       "    <tr>\n",
       "      <th>1</th>\n",
       "      <td>39.984200</td>\n",
       "      <td>116.319321</td>\n",
       "      <td>2008-10-23 05:53:06</td>\n",
       "      <td>1</td>\n",
       "      <td>12008102305</td>\n",
       "    </tr>\n",
       "    <tr>\n",
       "      <th>2</th>\n",
       "      <td>39.984222</td>\n",
       "      <td>116.319405</td>\n",
       "      <td>2008-10-23 05:53:11</td>\n",
       "      <td>1</td>\n",
       "      <td>12008102305</td>\n",
       "    </tr>\n",
       "    <tr>\n",
       "      <th>3</th>\n",
       "      <td>39.984211</td>\n",
       "      <td>116.319389</td>\n",
       "      <td>2008-10-23 05:53:16</td>\n",
       "      <td>1</td>\n",
       "      <td>12008102305</td>\n",
       "    </tr>\n",
       "    <tr>\n",
       "      <th>4</th>\n",
       "      <td>39.984219</td>\n",
       "      <td>116.319420</td>\n",
       "      <td>2008-10-23 05:53:21</td>\n",
       "      <td>1</td>\n",
       "      <td>12008102305</td>\n",
       "    </tr>\n",
       "  </tbody>\n",
       "</table>\n",
       "</div>"
      ],
      "text/plain": [
       "         lat         lon            datetime  id          tid\n",
       "0  39.984093  116.319237 2008-10-23 05:53:05   1  12008102305\n",
       "1  39.984200  116.319321 2008-10-23 05:53:06   1  12008102305\n",
       "2  39.984222  116.319405 2008-10-23 05:53:11   1  12008102305\n",
       "3  39.984211  116.319389 2008-10-23 05:53:16   1  12008102305\n",
       "4  39.984219  116.319420 2008-10-23 05:53:21   1  12008102305"
      ]
     },
     "execution_count": 10,
     "metadata": {},
     "output_type": "execute_result"
    }
   ],
   "source": [
    "df_move.generate_tid_based_on_id_datatime()\n",
    "filters.by_tid(df_move, \"12008102305\").head()"
   ]
  },
  {
   "cell_type": "markdown",
   "metadata": {},
   "source": [
    "outliers function filters trajectories points that are outliers."
   ]
  },
  {
   "cell_type": "code",
   "execution_count": 11,
   "metadata": {},
   "outputs": [
    {
     "name": "stdout",
     "output_type": "stream",
     "text": [
      "\n",
      "Creating or updating distance features in meters...\n",
      "\n",
      "...Sorting by id and datetime to increase performance\n",
      "\n",
      "...Set id as index to increase attribution performance\n",
      "\n"
     ]
    },
    {
     "data": {
      "application/vnd.jupyter.widget-view+json": {
       "model_id": "66a9c073cd05441f97be2ed59c3c8320",
       "version_major": 2,
       "version_minor": 0
      },
      "text/plain": [
       "VBox(children=(HTML(value=''), IntProgress(value=0, max=2)))"
      ]
     },
     "metadata": {},
     "output_type": "display_data"
    },
    {
     "name": "stdout",
     "output_type": "stream",
     "text": [
      "...Reset index\n",
      "\n",
      "..Total Time: 0.39299511909484863\n",
      "...Filtering jumps \n",
      "\n"
     ]
    },
    {
     "data": {
      "text/html": [
       "<div>\n",
       "<style scoped>\n",
       "    .dataframe tbody tr th:only-of-type {\n",
       "        vertical-align: middle;\n",
       "    }\n",
       "\n",
       "    .dataframe tbody tr th {\n",
       "        vertical-align: top;\n",
       "    }\n",
       "\n",
       "    .dataframe thead th {\n",
       "        text-align: right;\n",
       "    }\n",
       "</style>\n",
       "<table border=\"1\" class=\"dataframe\">\n",
       "  <thead>\n",
       "    <tr style=\"text-align: right;\">\n",
       "      <th></th>\n",
       "      <th>id</th>\n",
       "      <th>lat</th>\n",
       "      <th>lon</th>\n",
       "      <th>datetime</th>\n",
       "      <th>tid</th>\n",
       "      <th>dist_to_prev</th>\n",
       "      <th>dist_to_next</th>\n",
       "      <th>dist_prev_to_next</th>\n",
       "    </tr>\n",
       "  </thead>\n",
       "  <tbody>\n",
       "    <tr>\n",
       "      <th>148</th>\n",
       "      <td>1</td>\n",
       "      <td>39.970512</td>\n",
       "      <td>116.341454</td>\n",
       "      <td>2008-10-23 10:32:53</td>\n",
       "      <td>12008102310</td>\n",
       "      <td>1452.723849</td>\n",
       "      <td>1470.027290</td>\n",
       "      <td>70.179656</td>\n",
       "    </tr>\n",
       "    <tr>\n",
       "      <th>338</th>\n",
       "      <td>1</td>\n",
       "      <td>39.995041</td>\n",
       "      <td>116.326462</td>\n",
       "      <td>2008-10-23 10:44:24</td>\n",
       "      <td>12008102310</td>\n",
       "      <td>11.784583</td>\n",
       "      <td>10.573243</td>\n",
       "      <td>2.327355</td>\n",
       "    </tr>\n",
       "    <tr>\n",
       "      <th>8133</th>\n",
       "      <td>1</td>\n",
       "      <td>39.991074</td>\n",
       "      <td>116.188393</td>\n",
       "      <td>2008-10-25 08:20:19</td>\n",
       "      <td>12008102508</td>\n",
       "      <td>5.442257</td>\n",
       "      <td>6.559655</td>\n",
       "      <td>1.139224</td>\n",
       "    </tr>\n",
       "    <tr>\n",
       "      <th>8380</th>\n",
       "      <td>1</td>\n",
       "      <td>39.988392</td>\n",
       "      <td>116.188454</td>\n",
       "      <td>2008-10-25 09:07:13</td>\n",
       "      <td>12008102509</td>\n",
       "      <td>10.914588</td>\n",
       "      <td>8.551564</td>\n",
       "      <td>2.448361</td>\n",
       "    </tr>\n",
       "    <tr>\n",
       "      <th>10175</th>\n",
       "      <td>1</td>\n",
       "      <td>40.015167</td>\n",
       "      <td>116.311043</td>\n",
       "      <td>2008-10-25 23:40:12</td>\n",
       "      <td>12008102523</td>\n",
       "      <td>23.015178</td>\n",
       "      <td>24.266527</td>\n",
       "      <td>3.971611</td>\n",
       "    </tr>\n",
       "  </tbody>\n",
       "</table>\n",
       "</div>"
      ],
      "text/plain": [
       "       id        lat         lon            datetime          tid  \\\n",
       "148     1  39.970512  116.341454 2008-10-23 10:32:53  12008102310   \n",
       "338     1  39.995041  116.326462 2008-10-23 10:44:24  12008102310   \n",
       "8133    1  39.991074  116.188393 2008-10-25 08:20:19  12008102508   \n",
       "8380    1  39.988392  116.188454 2008-10-25 09:07:13  12008102509   \n",
       "10175   1  40.015167  116.311043 2008-10-25 23:40:12  12008102523   \n",
       "\n",
       "       dist_to_prev  dist_to_next  dist_prev_to_next  \n",
       "148     1452.723849   1470.027290          70.179656  \n",
       "338       11.784583     10.573243           2.327355  \n",
       "8133       5.442257      6.559655           1.139224  \n",
       "8380      10.914588      8.551564           2.448361  \n",
       "10175     23.015178     24.266527           3.971611  "
      ]
     },
     "execution_count": 11,
     "metadata": {},
     "output_type": "execute_result"
    }
   ],
   "source": [
    "outliers_points = filters.outliers(df_move)\n",
    "outliers_points.head()"
   ]
  },
  {
   "cell_type": "markdown",
   "metadata": {},
   "source": [
    "clen_duplicates function removes the duplicate rows of the Dataframe, optionally only certaind columns can be consider."
   ]
  },
  {
   "cell_type": "code",
   "execution_count": 12,
   "metadata": {},
   "outputs": [
    {
     "name": "stdout",
     "output_type": "stream",
     "text": [
      "\n",
      "Remove rows duplicates by subset\n",
      "...Sorting by id and datetime to increase performance\n",
      "\n",
      "...There are no GPS points duplicated\n"
     ]
    }
   ],
   "source": [
    "filters.clean_duplicates(df_move)"
   ]
  },
  {
   "cell_type": "markdown",
   "metadata": {},
   "source": [
    "clean_consecutive_duplicates function removes consecutives duplicate rows of the Dataframe. Optionally only certaind columns can be consider, this is defined by the parameter subset, in this example only the lat column is considered."
   ]
  },
  {
   "cell_type": "code",
   "execution_count": 13,
   "metadata": {},
   "outputs": [
    {
     "data": {
      "text/plain": [
       "183291"
      ]
     },
     "execution_count": 13,
     "metadata": {},
     "output_type": "execute_result"
    }
   ],
   "source": [
    "filtered_df = filters.clean_consecutive_duplicates(df_move, subset = [\"lat\"])\n",
    "len(filtered_df)"
   ]
  },
  {
   "cell_type": "markdown",
   "metadata": {},
   "source": [
    "clean_nan_values function removes missing values from the dataframe."
   ]
  },
  {
   "cell_type": "code",
   "execution_count": 14,
   "metadata": {},
   "outputs": [
    {
     "data": {
      "text/plain": [
       "217653"
      ]
     },
     "execution_count": 14,
     "metadata": {},
     "output_type": "execute_result"
    }
   ],
   "source": [
    "filters.clean_nan_values(df_move)\n",
    "len(df_move)"
   ]
  },
  {
   "cell_type": "markdown",
   "metadata": {},
   "source": [
    "clean_gps_jumps_by_distance function removes from the dataframe the trajectories points that are outliers."
   ]
  },
  {
   "cell_type": "code",
   "execution_count": 15,
   "metadata": {},
   "outputs": [
    {
     "name": "stdout",
     "output_type": "stream",
     "text": [
      "\n",
      "Cleaning gps jumps by distance to jump_coefficient 3.0...\n",
      "\n",
      "...Filtering jumps \n",
      "\n",
      "...Dropping 417 rows of gps points\n",
      "\n",
      "...Rows before: 217653, Rows after:217236, Sum drop:417\n",
      "\n",
      "...Filtering jumps \n",
      "\n",
      "417 GPS points were dropped\n"
     ]
    },
    {
     "data": {
      "text/html": [
       "<div>\n",
       "<style scoped>\n",
       "    .dataframe tbody tr th:only-of-type {\n",
       "        vertical-align: middle;\n",
       "    }\n",
       "\n",
       "    .dataframe tbody tr th {\n",
       "        vertical-align: top;\n",
       "    }\n",
       "\n",
       "    .dataframe thead th {\n",
       "        text-align: right;\n",
       "    }\n",
       "</style>\n",
       "<table border=\"1\" class=\"dataframe\">\n",
       "  <thead>\n",
       "    <tr style=\"text-align: right;\">\n",
       "      <th></th>\n",
       "      <th>id</th>\n",
       "      <th>lat</th>\n",
       "      <th>lon</th>\n",
       "      <th>datetime</th>\n",
       "      <th>tid</th>\n",
       "      <th>dist_to_prev</th>\n",
       "      <th>dist_to_next</th>\n",
       "      <th>dist_prev_to_next</th>\n",
       "    </tr>\n",
       "  </thead>\n",
       "  <tbody>\n",
       "    <tr>\n",
       "      <th>0</th>\n",
       "      <td>1</td>\n",
       "      <td>39.984093</td>\n",
       "      <td>116.319237</td>\n",
       "      <td>2008-10-23 05:53:05</td>\n",
       "      <td>12008102305</td>\n",
       "      <td>NaN</td>\n",
       "      <td>14.015319</td>\n",
       "      <td>NaN</td>\n",
       "    </tr>\n",
       "    <tr>\n",
       "      <th>1</th>\n",
       "      <td>1</td>\n",
       "      <td>39.984200</td>\n",
       "      <td>116.319321</td>\n",
       "      <td>2008-10-23 05:53:06</td>\n",
       "      <td>12008102305</td>\n",
       "      <td>14.015319</td>\n",
       "      <td>7.345484</td>\n",
       "      <td>20.082062</td>\n",
       "    </tr>\n",
       "    <tr>\n",
       "      <th>2</th>\n",
       "      <td>1</td>\n",
       "      <td>39.984222</td>\n",
       "      <td>116.319405</td>\n",
       "      <td>2008-10-23 05:53:11</td>\n",
       "      <td>12008102305</td>\n",
       "      <td>7.345484</td>\n",
       "      <td>1.628622</td>\n",
       "      <td>5.929780</td>\n",
       "    </tr>\n",
       "    <tr>\n",
       "      <th>3</th>\n",
       "      <td>1</td>\n",
       "      <td>39.984211</td>\n",
       "      <td>116.319389</td>\n",
       "      <td>2008-10-23 05:53:16</td>\n",
       "      <td>12008102305</td>\n",
       "      <td>1.628622</td>\n",
       "      <td>2.448495</td>\n",
       "      <td>1.224247</td>\n",
       "    </tr>\n",
       "    <tr>\n",
       "      <th>4</th>\n",
       "      <td>1</td>\n",
       "      <td>39.984219</td>\n",
       "      <td>116.319420</td>\n",
       "      <td>2008-10-23 05:53:21</td>\n",
       "      <td>12008102305</td>\n",
       "      <td>2.448495</td>\n",
       "      <td>66.161008</td>\n",
       "      <td>68.115491</td>\n",
       "    </tr>\n",
       "    <tr>\n",
       "      <th>...</th>\n",
       "      <td>...</td>\n",
       "      <td>...</td>\n",
       "      <td>...</td>\n",
       "      <td>...</td>\n",
       "      <td>...</td>\n",
       "      <td>...</td>\n",
       "      <td>...</td>\n",
       "      <td>...</td>\n",
       "    </tr>\n",
       "    <tr>\n",
       "      <th>217648</th>\n",
       "      <td>5</td>\n",
       "      <td>39.999897</td>\n",
       "      <td>116.327293</td>\n",
       "      <td>2009-03-19 05:46:02</td>\n",
       "      <td>52009031905</td>\n",
       "      <td>7.470501</td>\n",
       "      <td>5.830361</td>\n",
       "      <td>13.000767</td>\n",
       "    </tr>\n",
       "    <tr>\n",
       "      <th>217649</th>\n",
       "      <td>5</td>\n",
       "      <td>39.999901</td>\n",
       "      <td>116.327354</td>\n",
       "      <td>2009-03-19 05:46:07</td>\n",
       "      <td>52009031905</td>\n",
       "      <td>5.830361</td>\n",
       "      <td>6.359989</td>\n",
       "      <td>10.913244</td>\n",
       "    </tr>\n",
       "    <tr>\n",
       "      <th>217650</th>\n",
       "      <td>5</td>\n",
       "      <td>39.999947</td>\n",
       "      <td>116.327393</td>\n",
       "      <td>2009-03-19 05:46:12</td>\n",
       "      <td>52009031905</td>\n",
       "      <td>6.359989</td>\n",
       "      <td>7.943372</td>\n",
       "      <td>14.161495</td>\n",
       "    </tr>\n",
       "    <tr>\n",
       "      <th>217651</th>\n",
       "      <td>5</td>\n",
       "      <td>40.000015</td>\n",
       "      <td>116.327431</td>\n",
       "      <td>2009-03-19 05:46:17</td>\n",
       "      <td>52009031905</td>\n",
       "      <td>7.943372</td>\n",
       "      <td>5.443728</td>\n",
       "      <td>6.747541</td>\n",
       "    </tr>\n",
       "    <tr>\n",
       "      <th>217652</th>\n",
       "      <td>5</td>\n",
       "      <td>39.999977</td>\n",
       "      <td>116.327461</td>\n",
       "      <td>2009-03-19 05:46:37</td>\n",
       "      <td>52009031905</td>\n",
       "      <td>5.443728</td>\n",
       "      <td>NaN</td>\n",
       "      <td>NaN</td>\n",
       "    </tr>\n",
       "  </tbody>\n",
       "</table>\n",
       "<p>217236 rows × 8 columns</p>\n",
       "</div>"
      ],
      "text/plain": [
       "        id        lat         lon            datetime          tid  \\\n",
       "0        1  39.984093  116.319237 2008-10-23 05:53:05  12008102305   \n",
       "1        1  39.984200  116.319321 2008-10-23 05:53:06  12008102305   \n",
       "2        1  39.984222  116.319405 2008-10-23 05:53:11  12008102305   \n",
       "3        1  39.984211  116.319389 2008-10-23 05:53:16  12008102305   \n",
       "4        1  39.984219  116.319420 2008-10-23 05:53:21  12008102305   \n",
       "...     ..        ...         ...                 ...          ...   \n",
       "217648   5  39.999897  116.327293 2009-03-19 05:46:02  52009031905   \n",
       "217649   5  39.999901  116.327354 2009-03-19 05:46:07  52009031905   \n",
       "217650   5  39.999947  116.327393 2009-03-19 05:46:12  52009031905   \n",
       "217651   5  40.000015  116.327431 2009-03-19 05:46:17  52009031905   \n",
       "217652   5  39.999977  116.327461 2009-03-19 05:46:37  52009031905   \n",
       "\n",
       "        dist_to_prev  dist_to_next  dist_prev_to_next  \n",
       "0                NaN     14.015319                NaN  \n",
       "1          14.015319      7.345484          20.082062  \n",
       "2           7.345484      1.628622           5.929780  \n",
       "3           1.628622      2.448495           1.224247  \n",
       "4           2.448495     66.161008          68.115491  \n",
       "...              ...           ...                ...  \n",
       "217648      7.470501      5.830361          13.000767  \n",
       "217649      5.830361      6.359989          10.913244  \n",
       "217650      6.359989      7.943372          14.161495  \n",
       "217651      7.943372      5.443728           6.747541  \n",
       "217652      5.443728           NaN                NaN  \n",
       "\n",
       "[217236 rows x 8 columns]"
      ]
     },
     "execution_count": 15,
     "metadata": {},
     "output_type": "execute_result"
    }
   ],
   "source": [
    "filters.clean_gps_jumps_by_distance(df_move)"
   ]
  },
  {
   "cell_type": "markdown",
   "metadata": {},
   "source": [
    "clean_gps_nearby_points_by_distances function removes points from the trajectories when the distance between them and the point before is smaller than the parameter radius_area."
   ]
  },
  {
   "cell_type": "code",
   "execution_count": 16,
   "metadata": {},
   "outputs": [
    {
     "name": "stdout",
     "output_type": "stream",
     "text": [
      "\n",
      "Cleaning gps points from radius of 10 meters\n",
      "\n",
      "...Dropping 138524 gps points\n",
      "\n",
      "...Rows before: 217653, Rows after:79129\n",
      "\n",
      "138524 GPS points were dropped\n"
     ]
    },
    {
     "data": {
      "text/html": [
       "<div>\n",
       "<style scoped>\n",
       "    .dataframe tbody tr th:only-of-type {\n",
       "        vertical-align: middle;\n",
       "    }\n",
       "\n",
       "    .dataframe tbody tr th {\n",
       "        vertical-align: top;\n",
       "    }\n",
       "\n",
       "    .dataframe thead th {\n",
       "        text-align: right;\n",
       "    }\n",
       "</style>\n",
       "<table border=\"1\" class=\"dataframe\">\n",
       "  <thead>\n",
       "    <tr style=\"text-align: right;\">\n",
       "      <th></th>\n",
       "      <th>id</th>\n",
       "      <th>lat</th>\n",
       "      <th>lon</th>\n",
       "      <th>datetime</th>\n",
       "      <th>tid</th>\n",
       "      <th>dist_to_prev</th>\n",
       "      <th>dist_to_next</th>\n",
       "      <th>dist_prev_to_next</th>\n",
       "    </tr>\n",
       "  </thead>\n",
       "  <tbody>\n",
       "    <tr>\n",
       "      <th>0</th>\n",
       "      <td>1</td>\n",
       "      <td>39.984093</td>\n",
       "      <td>116.319237</td>\n",
       "      <td>2008-10-23 05:53:05</td>\n",
       "      <td>12008102305</td>\n",
       "      <td>NaN</td>\n",
       "      <td>14.015319</td>\n",
       "      <td>NaN</td>\n",
       "    </tr>\n",
       "    <tr>\n",
       "      <th>1</th>\n",
       "      <td>1</td>\n",
       "      <td>39.984200</td>\n",
       "      <td>116.319321</td>\n",
       "      <td>2008-10-23 05:53:06</td>\n",
       "      <td>12008102305</td>\n",
       "      <td>14.015319</td>\n",
       "      <td>7.345484</td>\n",
       "      <td>20.082062</td>\n",
       "    </tr>\n",
       "    <tr>\n",
       "      <th>5</th>\n",
       "      <td>1</td>\n",
       "      <td>39.984711</td>\n",
       "      <td>116.319862</td>\n",
       "      <td>2008-10-23 05:53:23</td>\n",
       "      <td>12008102305</td>\n",
       "      <td>66.161008</td>\n",
       "      <td>6.254723</td>\n",
       "      <td>60.106536</td>\n",
       "    </tr>\n",
       "    <tr>\n",
       "      <th>14</th>\n",
       "      <td>1</td>\n",
       "      <td>39.984959</td>\n",
       "      <td>116.319969</td>\n",
       "      <td>2008-10-23 05:54:03</td>\n",
       "      <td>12008102305</td>\n",
       "      <td>40.444375</td>\n",
       "      <td>10.888440</td>\n",
       "      <td>50.636317</td>\n",
       "    </tr>\n",
       "    <tr>\n",
       "      <th>15</th>\n",
       "      <td>1</td>\n",
       "      <td>39.985035</td>\n",
       "      <td>116.320053</td>\n",
       "      <td>2008-10-23 05:54:04</td>\n",
       "      <td>12008102305</td>\n",
       "      <td>10.888440</td>\n",
       "      <td>32.678475</td>\n",
       "      <td>24.990416</td>\n",
       "    </tr>\n",
       "    <tr>\n",
       "      <th>...</th>\n",
       "      <td>...</td>\n",
       "      <td>...</td>\n",
       "      <td>...</td>\n",
       "      <td>...</td>\n",
       "      <td>...</td>\n",
       "      <td>...</td>\n",
       "      <td>...</td>\n",
       "      <td>...</td>\n",
       "    </tr>\n",
       "    <tr>\n",
       "      <th>217637</th>\n",
       "      <td>5</td>\n",
       "      <td>40.000759</td>\n",
       "      <td>116.327087</td>\n",
       "      <td>2009-03-19 05:45:07</td>\n",
       "      <td>52009031905</td>\n",
       "      <td>28.504349</td>\n",
       "      <td>18.264679</td>\n",
       "      <td>46.708167</td>\n",
       "    </tr>\n",
       "    <tr>\n",
       "      <th>217638</th>\n",
       "      <td>5</td>\n",
       "      <td>40.000595</td>\n",
       "      <td>116.327065</td>\n",
       "      <td>2009-03-19 05:45:12</td>\n",
       "      <td>52009031905</td>\n",
       "      <td>18.264679</td>\n",
       "      <td>10.233476</td>\n",
       "      <td>27.953506</td>\n",
       "    </tr>\n",
       "    <tr>\n",
       "      <th>217639</th>\n",
       "      <td>5</td>\n",
       "      <td>40.000515</td>\n",
       "      <td>116.327019</td>\n",
       "      <td>2009-03-19 05:45:17</td>\n",
       "      <td>52009031905</td>\n",
       "      <td>10.233476</td>\n",
       "      <td>6.455600</td>\n",
       "      <td>16.250192</td>\n",
       "    </tr>\n",
       "    <tr>\n",
       "      <th>217641</th>\n",
       "      <td>5</td>\n",
       "      <td>40.000366</td>\n",
       "      <td>116.327072</td>\n",
       "      <td>2009-03-19 05:45:27</td>\n",
       "      <td>52009031905</td>\n",
       "      <td>11.259984</td>\n",
       "      <td>8.672381</td>\n",
       "      <td>19.873955</td>\n",
       "    </tr>\n",
       "    <tr>\n",
       "      <th>217643</th>\n",
       "      <td>5</td>\n",
       "      <td>40.000206</td>\n",
       "      <td>116.327171</td>\n",
       "      <td>2009-03-19 05:45:37</td>\n",
       "      <td>52009031905</td>\n",
       "      <td>10.812479</td>\n",
       "      <td>8.734047</td>\n",
       "      <td>18.772156</td>\n",
       "    </tr>\n",
       "  </tbody>\n",
       "</table>\n",
       "<p>79129 rows × 8 columns</p>\n",
       "</div>"
      ],
      "text/plain": [
       "        id        lat         lon            datetime          tid  \\\n",
       "0        1  39.984093  116.319237 2008-10-23 05:53:05  12008102305   \n",
       "1        1  39.984200  116.319321 2008-10-23 05:53:06  12008102305   \n",
       "5        1  39.984711  116.319862 2008-10-23 05:53:23  12008102305   \n",
       "14       1  39.984959  116.319969 2008-10-23 05:54:03  12008102305   \n",
       "15       1  39.985035  116.320053 2008-10-23 05:54:04  12008102305   \n",
       "...     ..        ...         ...                 ...          ...   \n",
       "217637   5  40.000759  116.327087 2009-03-19 05:45:07  52009031905   \n",
       "217638   5  40.000595  116.327065 2009-03-19 05:45:12  52009031905   \n",
       "217639   5  40.000515  116.327019 2009-03-19 05:45:17  52009031905   \n",
       "217641   5  40.000366  116.327072 2009-03-19 05:45:27  52009031905   \n",
       "217643   5  40.000206  116.327171 2009-03-19 05:45:37  52009031905   \n",
       "\n",
       "        dist_to_prev  dist_to_next  dist_prev_to_next  \n",
       "0                NaN     14.015319                NaN  \n",
       "1          14.015319      7.345484          20.082062  \n",
       "5          66.161008      6.254723          60.106536  \n",
       "14         40.444375     10.888440          50.636317  \n",
       "15         10.888440     32.678475          24.990416  \n",
       "...              ...           ...                ...  \n",
       "217637     28.504349     18.264679          46.708167  \n",
       "217638     18.264679     10.233476          27.953506  \n",
       "217639     10.233476      6.455600          16.250192  \n",
       "217641     11.259984      8.672381          19.873955  \n",
       "217643     10.812479      8.734047          18.772156  \n",
       "\n",
       "[79129 rows x 8 columns]"
      ]
     },
     "execution_count": 16,
     "metadata": {},
     "output_type": "execute_result"
    }
   ],
   "source": [
    "filters.clean_gps_nearby_points_by_distances(df_move, radius_area = 10)"
   ]
  },
  {
   "cell_type": "markdown",
   "metadata": {},
   "source": [
    "clean_gps_nearby_points_by_speed function removes points from the trajectories when the speed of travel between them\n",
    "and the point before is smaller than the value set by the parameter speed_radius."
   ]
  },
  {
   "cell_type": "code",
   "execution_count": 17,
   "metadata": {},
   "outputs": [
    {
     "name": "stdout",
     "output_type": "stream",
     "text": [
      "\n",
      "Creating or updating distance, time and speed features in meters by seconds\n",
      "\n",
      "...Sorting by id and datetime to increase performance\n",
      "\n",
      "...Set id as index to a higher peformance\n",
      "\n"
     ]
    },
    {
     "data": {
      "application/vnd.jupyter.widget-view+json": {
       "model_id": "2d4af87a535143809bb11ae55643b907",
       "version_major": 2,
       "version_minor": 0
      },
      "text/plain": [
       "VBox(children=(HTML(value=''), IntProgress(value=0, max=2)))"
      ]
     },
     "metadata": {},
     "output_type": "display_data"
    },
    {
     "name": "stdout",
     "output_type": "stream",
     "text": [
      "...Reset index...\n",
      "\n",
      "..Total Time: 0.259\n",
      "\n",
      "Cleaning gps points using 40.0 speed radius\n",
      "\n",
      "...Dropping 217372 gps points\n",
      "\n",
      "...Rows before: 217653, Rows after:281\n",
      "\n",
      "217372 GPS points were dropped\n"
     ]
    },
    {
     "data": {
      "text/html": [
       "<div>\n",
       "<style scoped>\n",
       "    .dataframe tbody tr th:only-of-type {\n",
       "        vertical-align: middle;\n",
       "    }\n",
       "\n",
       "    .dataframe tbody tr th {\n",
       "        vertical-align: top;\n",
       "    }\n",
       "\n",
       "    .dataframe thead th {\n",
       "        text-align: right;\n",
       "    }\n",
       "</style>\n",
       "<table border=\"1\" class=\"dataframe\">\n",
       "  <thead>\n",
       "    <tr style=\"text-align: right;\">\n",
       "      <th></th>\n",
       "      <th>id</th>\n",
       "      <th>lat</th>\n",
       "      <th>lon</th>\n",
       "      <th>datetime</th>\n",
       "      <th>tid</th>\n",
       "      <th>dist_to_prev</th>\n",
       "      <th>dist_to_next</th>\n",
       "      <th>dist_prev_to_next</th>\n",
       "      <th>time_to_prev</th>\n",
       "      <th>speed_to_prev</th>\n",
       "    </tr>\n",
       "  </thead>\n",
       "  <tbody>\n",
       "    <tr>\n",
       "      <th>0</th>\n",
       "      <td>1</td>\n",
       "      <td>39.984093</td>\n",
       "      <td>116.319237</td>\n",
       "      <td>2008-10-23 05:53:05</td>\n",
       "      <td>12008102305</td>\n",
       "      <td>NaN</td>\n",
       "      <td>14.015319</td>\n",
       "      <td>NaN</td>\n",
       "      <td>NaN</td>\n",
       "      <td>NaN</td>\n",
       "    </tr>\n",
       "    <tr>\n",
       "      <th>149</th>\n",
       "      <td>1</td>\n",
       "      <td>39.977650</td>\n",
       "      <td>116.326927</td>\n",
       "      <td>2008-10-23 10:33:00</td>\n",
       "      <td>12008102310</td>\n",
       "      <td>1470.027290</td>\n",
       "      <td>7.308369</td>\n",
       "      <td>1467.127499</td>\n",
       "      <td>7.0</td>\n",
       "      <td>210.003899</td>\n",
       "    </tr>\n",
       "    <tr>\n",
       "      <th>560</th>\n",
       "      <td>1</td>\n",
       "      <td>40.009804</td>\n",
       "      <td>116.313248</td>\n",
       "      <td>2008-10-23 10:56:54</td>\n",
       "      <td>12008102310</td>\n",
       "      <td>47.087018</td>\n",
       "      <td>65.579993</td>\n",
       "      <td>112.380725</td>\n",
       "      <td>1.0</td>\n",
       "      <td>47.087018</td>\n",
       "    </tr>\n",
       "    <tr>\n",
       "      <th>561</th>\n",
       "      <td>1</td>\n",
       "      <td>40.009262</td>\n",
       "      <td>116.312950</td>\n",
       "      <td>2008-10-23 10:56:55</td>\n",
       "      <td>12008102310</td>\n",
       "      <td>65.579993</td>\n",
       "      <td>35.035117</td>\n",
       "      <td>100.449449</td>\n",
       "      <td>1.0</td>\n",
       "      <td>65.579993</td>\n",
       "    </tr>\n",
       "    <tr>\n",
       "      <th>1369</th>\n",
       "      <td>1</td>\n",
       "      <td>39.990658</td>\n",
       "      <td>116.326347</td>\n",
       "      <td>2008-10-24 00:04:29</td>\n",
       "      <td>12008102400</td>\n",
       "      <td>40.734946</td>\n",
       "      <td>42.020713</td>\n",
       "      <td>82.547348</td>\n",
       "      <td>1.0</td>\n",
       "      <td>40.734946</td>\n",
       "    </tr>\n",
       "    <tr>\n",
       "      <th>...</th>\n",
       "      <td>...</td>\n",
       "      <td>...</td>\n",
       "      <td>...</td>\n",
       "      <td>...</td>\n",
       "      <td>...</td>\n",
       "      <td>...</td>\n",
       "      <td>...</td>\n",
       "      <td>...</td>\n",
       "      <td>...</td>\n",
       "      <td>...</td>\n",
       "    </tr>\n",
       "    <tr>\n",
       "      <th>216382</th>\n",
       "      <td>5</td>\n",
       "      <td>40.000183</td>\n",
       "      <td>116.327286</td>\n",
       "      <td>2009-02-28 03:52:45</td>\n",
       "      <td>52009022803</td>\n",
       "      <td>333.702810</td>\n",
       "      <td>28.429016</td>\n",
       "      <td>361.914007</td>\n",
       "      <td>5.0</td>\n",
       "      <td>66.740562</td>\n",
       "    </tr>\n",
       "    <tr>\n",
       "      <th>217458</th>\n",
       "      <td>5</td>\n",
       "      <td>39.999920</td>\n",
       "      <td>116.320061</td>\n",
       "      <td>2009-03-19 04:36:02</td>\n",
       "      <td>52009031904</td>\n",
       "      <td>556.623406</td>\n",
       "      <td>265.002011</td>\n",
       "      <td>821.356742</td>\n",
       "      <td>5.0</td>\n",
       "      <td>111.324681</td>\n",
       "    </tr>\n",
       "    <tr>\n",
       "      <th>217459</th>\n",
       "      <td>5</td>\n",
       "      <td>39.999077</td>\n",
       "      <td>116.317154</td>\n",
       "      <td>2009-03-19 04:36:07</td>\n",
       "      <td>52009031904</td>\n",
       "      <td>265.002011</td>\n",
       "      <td>85.242667</td>\n",
       "      <td>219.182959</td>\n",
       "      <td>5.0</td>\n",
       "      <td>53.000402</td>\n",
       "    </tr>\n",
       "    <tr>\n",
       "      <th>217463</th>\n",
       "      <td>5</td>\n",
       "      <td>40.001122</td>\n",
       "      <td>116.320877</td>\n",
       "      <td>2009-03-19 04:40:52</td>\n",
       "      <td>52009031904</td>\n",
       "      <td>267.543222</td>\n",
       "      <td>127.292949</td>\n",
       "      <td>394.833355</td>\n",
       "      <td>5.0</td>\n",
       "      <td>53.508644</td>\n",
       "    </tr>\n",
       "    <tr>\n",
       "      <th>217476</th>\n",
       "      <td>5</td>\n",
       "      <td>40.005901</td>\n",
       "      <td>116.318672</td>\n",
       "      <td>2009-03-19 04:49:47</td>\n",
       "      <td>52009031904</td>\n",
       "      <td>436.382103</td>\n",
       "      <td>119.846705</td>\n",
       "      <td>555.725044</td>\n",
       "      <td>5.0</td>\n",
       "      <td>87.276421</td>\n",
       "    </tr>\n",
       "  </tbody>\n",
       "</table>\n",
       "<p>281 rows × 10 columns</p>\n",
       "</div>"
      ],
      "text/plain": [
       "        id        lat         lon            datetime          tid  \\\n",
       "0        1  39.984093  116.319237 2008-10-23 05:53:05  12008102305   \n",
       "149      1  39.977650  116.326927 2008-10-23 10:33:00  12008102310   \n",
       "560      1  40.009804  116.313248 2008-10-23 10:56:54  12008102310   \n",
       "561      1  40.009262  116.312950 2008-10-23 10:56:55  12008102310   \n",
       "1369     1  39.990658  116.326347 2008-10-24 00:04:29  12008102400   \n",
       "...     ..        ...         ...                 ...          ...   \n",
       "216382   5  40.000183  116.327286 2009-02-28 03:52:45  52009022803   \n",
       "217458   5  39.999920  116.320061 2009-03-19 04:36:02  52009031904   \n",
       "217459   5  39.999077  116.317154 2009-03-19 04:36:07  52009031904   \n",
       "217463   5  40.001122  116.320877 2009-03-19 04:40:52  52009031904   \n",
       "217476   5  40.005901  116.318672 2009-03-19 04:49:47  52009031904   \n",
       "\n",
       "        dist_to_prev  dist_to_next  dist_prev_to_next  time_to_prev  \\\n",
       "0                NaN     14.015319                NaN           NaN   \n",
       "149      1470.027290      7.308369        1467.127499           7.0   \n",
       "560        47.087018     65.579993         112.380725           1.0   \n",
       "561        65.579993     35.035117         100.449449           1.0   \n",
       "1369       40.734946     42.020713          82.547348           1.0   \n",
       "...              ...           ...                ...           ...   \n",
       "216382    333.702810     28.429016         361.914007           5.0   \n",
       "217458    556.623406    265.002011         821.356742           5.0   \n",
       "217459    265.002011     85.242667         219.182959           5.0   \n",
       "217463    267.543222    127.292949         394.833355           5.0   \n",
       "217476    436.382103    119.846705         555.725044           5.0   \n",
       "\n",
       "        speed_to_prev  \n",
       "0                 NaN  \n",
       "149        210.003899  \n",
       "560         47.087018  \n",
       "561         65.579993  \n",
       "1369        40.734946  \n",
       "...               ...  \n",
       "216382      66.740562  \n",
       "217458     111.324681  \n",
       "217459      53.000402  \n",
       "217463      53.508644  \n",
       "217476      87.276421  \n",
       "\n",
       "[281 rows x 10 columns]"
      ]
     },
     "execution_count": 17,
     "metadata": {},
     "output_type": "execute_result"
    }
   ],
   "source": [
    "filters.clean_gps_nearby_points_by_speed(df_move, speed_radius=40.0)"
   ]
  },
  {
   "cell_type": "markdown",
   "metadata": {},
   "source": [
    "clean_gps_speed_max_radius function recursively removes trajectories points with speed higher than the value especifeid by the user.\n",
    "    Given any point p of the trajectory, the point will be removed if one of the following happens:\n",
    "    if the travel speed from the point before p to p is greater than the  max value of speed between adjacent\n",
    "    points set by the user. Or the travel speed between point p and the next point is greater than the value set by\n",
    "    the user. When the clening is done, the function will update the time and distance features in the dataframe and\n",
    "    will call itself again.\n",
    "    The function will finish processing when it can no longer find points disrespecting the limit of speed."
   ]
  },
  {
   "cell_type": "code",
   "execution_count": 18,
   "metadata": {},
   "outputs": [
    {
     "name": "stdout",
     "output_type": "stream",
     "text": [
      "\n",
      "Creating or updating distance, time and speed features in meters by seconds\n",
      "\n",
      "...Sorting by id and datetime to increase performance\n",
      "\n",
      "...Set id as index to a higher peformance\n",
      "\n"
     ]
    },
    {
     "data": {
      "application/vnd.jupyter.widget-view+json": {
       "model_id": "f84e58f08af14842938defe08c5adc84",
       "version_major": 2,
       "version_minor": 0
      },
      "text/plain": [
       "VBox(children=(HTML(value=''), IntProgress(value=0, max=2)))"
      ]
     },
     "metadata": {},
     "output_type": "display_data"
    },
    {
     "name": "stdout",
     "output_type": "stream",
     "text": [
      "...Reset index...\n",
      "\n",
      "..Total Time: 0.219\n",
      "\n",
      "Clean gps points with speed max > 50.0 meters by seconds\n",
      "...Dropping 183 rows of jumps by speed max\n",
      "\n",
      "...Rows before: 217653, Rows after:217470\n",
      "\n",
      "183 GPS points were dropped\n"
     ]
    },
    {
     "data": {
      "text/html": [
       "<div>\n",
       "<style scoped>\n",
       "    .dataframe tbody tr th:only-of-type {\n",
       "        vertical-align: middle;\n",
       "    }\n",
       "\n",
       "    .dataframe tbody tr th {\n",
       "        vertical-align: top;\n",
       "    }\n",
       "\n",
       "    .dataframe thead th {\n",
       "        text-align: right;\n",
       "    }\n",
       "</style>\n",
       "<table border=\"1\" class=\"dataframe\">\n",
       "  <thead>\n",
       "    <tr style=\"text-align: right;\">\n",
       "      <th></th>\n",
       "      <th>id</th>\n",
       "      <th>lat</th>\n",
       "      <th>lon</th>\n",
       "      <th>datetime</th>\n",
       "      <th>tid</th>\n",
       "      <th>dist_to_prev</th>\n",
       "      <th>dist_to_next</th>\n",
       "      <th>dist_prev_to_next</th>\n",
       "      <th>time_to_prev</th>\n",
       "      <th>speed_to_prev</th>\n",
       "    </tr>\n",
       "  </thead>\n",
       "  <tbody>\n",
       "    <tr>\n",
       "      <th>0</th>\n",
       "      <td>1</td>\n",
       "      <td>39.984093</td>\n",
       "      <td>116.319237</td>\n",
       "      <td>2008-10-23 05:53:05</td>\n",
       "      <td>12008102305</td>\n",
       "      <td>NaN</td>\n",
       "      <td>14.015319</td>\n",
       "      <td>NaN</td>\n",
       "      <td>NaN</td>\n",
       "      <td>NaN</td>\n",
       "    </tr>\n",
       "    <tr>\n",
       "      <th>1</th>\n",
       "      <td>1</td>\n",
       "      <td>39.984200</td>\n",
       "      <td>116.319321</td>\n",
       "      <td>2008-10-23 05:53:06</td>\n",
       "      <td>12008102305</td>\n",
       "      <td>14.015319</td>\n",
       "      <td>7.345484</td>\n",
       "      <td>20.082062</td>\n",
       "      <td>1.0</td>\n",
       "      <td>14.015319</td>\n",
       "    </tr>\n",
       "    <tr>\n",
       "      <th>2</th>\n",
       "      <td>1</td>\n",
       "      <td>39.984222</td>\n",
       "      <td>116.319405</td>\n",
       "      <td>2008-10-23 05:53:11</td>\n",
       "      <td>12008102305</td>\n",
       "      <td>7.345484</td>\n",
       "      <td>1.628622</td>\n",
       "      <td>5.929780</td>\n",
       "      <td>5.0</td>\n",
       "      <td>1.469097</td>\n",
       "    </tr>\n",
       "    <tr>\n",
       "      <th>3</th>\n",
       "      <td>1</td>\n",
       "      <td>39.984211</td>\n",
       "      <td>116.319389</td>\n",
       "      <td>2008-10-23 05:53:16</td>\n",
       "      <td>12008102305</td>\n",
       "      <td>1.628622</td>\n",
       "      <td>2.448495</td>\n",
       "      <td>1.224247</td>\n",
       "      <td>5.0</td>\n",
       "      <td>0.325724</td>\n",
       "    </tr>\n",
       "    <tr>\n",
       "      <th>4</th>\n",
       "      <td>1</td>\n",
       "      <td>39.984219</td>\n",
       "      <td>116.319420</td>\n",
       "      <td>2008-10-23 05:53:21</td>\n",
       "      <td>12008102305</td>\n",
       "      <td>2.448495</td>\n",
       "      <td>66.161008</td>\n",
       "      <td>68.115491</td>\n",
       "      <td>5.0</td>\n",
       "      <td>0.489699</td>\n",
       "    </tr>\n",
       "    <tr>\n",
       "      <th>...</th>\n",
       "      <td>...</td>\n",
       "      <td>...</td>\n",
       "      <td>...</td>\n",
       "      <td>...</td>\n",
       "      <td>...</td>\n",
       "      <td>...</td>\n",
       "      <td>...</td>\n",
       "      <td>...</td>\n",
       "      <td>...</td>\n",
       "      <td>...</td>\n",
       "    </tr>\n",
       "    <tr>\n",
       "      <th>217648</th>\n",
       "      <td>5</td>\n",
       "      <td>39.999897</td>\n",
       "      <td>116.327293</td>\n",
       "      <td>2009-03-19 05:46:02</td>\n",
       "      <td>52009031905</td>\n",
       "      <td>7.470501</td>\n",
       "      <td>5.830361</td>\n",
       "      <td>13.000767</td>\n",
       "      <td>5.0</td>\n",
       "      <td>1.494100</td>\n",
       "    </tr>\n",
       "    <tr>\n",
       "      <th>217649</th>\n",
       "      <td>5</td>\n",
       "      <td>39.999901</td>\n",
       "      <td>116.327354</td>\n",
       "      <td>2009-03-19 05:46:07</td>\n",
       "      <td>52009031905</td>\n",
       "      <td>5.830361</td>\n",
       "      <td>6.359989</td>\n",
       "      <td>10.913244</td>\n",
       "      <td>5.0</td>\n",
       "      <td>1.166072</td>\n",
       "    </tr>\n",
       "    <tr>\n",
       "      <th>217650</th>\n",
       "      <td>5</td>\n",
       "      <td>39.999947</td>\n",
       "      <td>116.327393</td>\n",
       "      <td>2009-03-19 05:46:12</td>\n",
       "      <td>52009031905</td>\n",
       "      <td>6.359989</td>\n",
       "      <td>7.943372</td>\n",
       "      <td>14.161495</td>\n",
       "      <td>5.0</td>\n",
       "      <td>1.271998</td>\n",
       "    </tr>\n",
       "    <tr>\n",
       "      <th>217651</th>\n",
       "      <td>5</td>\n",
       "      <td>40.000015</td>\n",
       "      <td>116.327431</td>\n",
       "      <td>2009-03-19 05:46:17</td>\n",
       "      <td>52009031905</td>\n",
       "      <td>7.943372</td>\n",
       "      <td>5.443728</td>\n",
       "      <td>6.747541</td>\n",
       "      <td>5.0</td>\n",
       "      <td>1.588674</td>\n",
       "    </tr>\n",
       "    <tr>\n",
       "      <th>217652</th>\n",
       "      <td>5</td>\n",
       "      <td>39.999977</td>\n",
       "      <td>116.327461</td>\n",
       "      <td>2009-03-19 05:46:37</td>\n",
       "      <td>52009031905</td>\n",
       "      <td>5.443728</td>\n",
       "      <td>NaN</td>\n",
       "      <td>NaN</td>\n",
       "      <td>20.0</td>\n",
       "      <td>0.272186</td>\n",
       "    </tr>\n",
       "  </tbody>\n",
       "</table>\n",
       "<p>217470 rows × 10 columns</p>\n",
       "</div>"
      ],
      "text/plain": [
       "        id        lat         lon            datetime          tid  \\\n",
       "0        1  39.984093  116.319237 2008-10-23 05:53:05  12008102305   \n",
       "1        1  39.984200  116.319321 2008-10-23 05:53:06  12008102305   \n",
       "2        1  39.984222  116.319405 2008-10-23 05:53:11  12008102305   \n",
       "3        1  39.984211  116.319389 2008-10-23 05:53:16  12008102305   \n",
       "4        1  39.984219  116.319420 2008-10-23 05:53:21  12008102305   \n",
       "...     ..        ...         ...                 ...          ...   \n",
       "217648   5  39.999897  116.327293 2009-03-19 05:46:02  52009031905   \n",
       "217649   5  39.999901  116.327354 2009-03-19 05:46:07  52009031905   \n",
       "217650   5  39.999947  116.327393 2009-03-19 05:46:12  52009031905   \n",
       "217651   5  40.000015  116.327431 2009-03-19 05:46:17  52009031905   \n",
       "217652   5  39.999977  116.327461 2009-03-19 05:46:37  52009031905   \n",
       "\n",
       "        dist_to_prev  dist_to_next  dist_prev_to_next  time_to_prev  \\\n",
       "0                NaN     14.015319                NaN           NaN   \n",
       "1          14.015319      7.345484          20.082062           1.0   \n",
       "2           7.345484      1.628622           5.929780           5.0   \n",
       "3           1.628622      2.448495           1.224247           5.0   \n",
       "4           2.448495     66.161008          68.115491           5.0   \n",
       "...              ...           ...                ...           ...   \n",
       "217648      7.470501      5.830361          13.000767           5.0   \n",
       "217649      5.830361      6.359989          10.913244           5.0   \n",
       "217650      6.359989      7.943372          14.161495           5.0   \n",
       "217651      7.943372      5.443728           6.747541           5.0   \n",
       "217652      5.443728           NaN                NaN          20.0   \n",
       "\n",
       "        speed_to_prev  \n",
       "0                 NaN  \n",
       "1           14.015319  \n",
       "2            1.469097  \n",
       "3            0.325724  \n",
       "4            0.489699  \n",
       "...               ...  \n",
       "217648       1.494100  \n",
       "217649       1.166072  \n",
       "217650       1.271998  \n",
       "217651       1.588674  \n",
       "217652       0.272186  \n",
       "\n",
       "[217470 rows x 10 columns]"
      ]
     },
     "execution_count": 18,
     "metadata": {},
     "output_type": "execute_result"
    }
   ],
   "source": [
    "filters.clean_gps_speed_max_radius(df_move)"
   ]
  },
  {
   "cell_type": "markdown",
   "metadata": {},
   "source": [
    "clean_trajectories_with_few_points function removes from the given dataframe, trajectories with fewer points than was specified by the parameter min_points_per_trajectory."
   ]
  },
  {
   "cell_type": "code",
   "execution_count": 19,
   "metadata": {},
   "outputs": [
    {
     "name": "stdout",
     "output_type": "stream",
     "text": [
      "\n",
      "Cleaning gps points from trajectories of fewer than 2 points\n",
      "\n",
      "\n",
      "...There are 4 ids with few points\n",
      "\n",
      "...Tids before drop: 625\n",
      "\n",
      "...Tids after drop: 621\n",
      "\n",
      "...Shape - before drop: (217653, 8) - after drop: (217649, 8)\n"
     ]
    },
    {
     "data": {
      "text/html": [
       "<div>\n",
       "<style scoped>\n",
       "    .dataframe tbody tr th:only-of-type {\n",
       "        vertical-align: middle;\n",
       "    }\n",
       "\n",
       "    .dataframe tbody tr th {\n",
       "        vertical-align: top;\n",
       "    }\n",
       "\n",
       "    .dataframe thead th {\n",
       "        text-align: right;\n",
       "    }\n",
       "</style>\n",
       "<table border=\"1\" class=\"dataframe\">\n",
       "  <thead>\n",
       "    <tr style=\"text-align: right;\">\n",
       "      <th></th>\n",
       "      <th>id</th>\n",
       "      <th>lat</th>\n",
       "      <th>lon</th>\n",
       "      <th>datetime</th>\n",
       "      <th>tid</th>\n",
       "      <th>dist_to_prev</th>\n",
       "      <th>dist_to_next</th>\n",
       "      <th>dist_prev_to_next</th>\n",
       "    </tr>\n",
       "  </thead>\n",
       "  <tbody>\n",
       "    <tr>\n",
       "      <th>0</th>\n",
       "      <td>1</td>\n",
       "      <td>39.984093</td>\n",
       "      <td>116.319237</td>\n",
       "      <td>2008-10-23 05:53:05</td>\n",
       "      <td>12008102305</td>\n",
       "      <td>NaN</td>\n",
       "      <td>14.015319</td>\n",
       "      <td>NaN</td>\n",
       "    </tr>\n",
       "    <tr>\n",
       "      <th>1</th>\n",
       "      <td>1</td>\n",
       "      <td>39.984200</td>\n",
       "      <td>116.319321</td>\n",
       "      <td>2008-10-23 05:53:06</td>\n",
       "      <td>12008102305</td>\n",
       "      <td>14.015319</td>\n",
       "      <td>7.345484</td>\n",
       "      <td>20.082062</td>\n",
       "    </tr>\n",
       "    <tr>\n",
       "      <th>2</th>\n",
       "      <td>1</td>\n",
       "      <td>39.984222</td>\n",
       "      <td>116.319405</td>\n",
       "      <td>2008-10-23 05:53:11</td>\n",
       "      <td>12008102305</td>\n",
       "      <td>7.345484</td>\n",
       "      <td>1.628622</td>\n",
       "      <td>5.929780</td>\n",
       "    </tr>\n",
       "    <tr>\n",
       "      <th>3</th>\n",
       "      <td>1</td>\n",
       "      <td>39.984211</td>\n",
       "      <td>116.319389</td>\n",
       "      <td>2008-10-23 05:53:16</td>\n",
       "      <td>12008102305</td>\n",
       "      <td>1.628622</td>\n",
       "      <td>2.448495</td>\n",
       "      <td>1.224247</td>\n",
       "    </tr>\n",
       "    <tr>\n",
       "      <th>4</th>\n",
       "      <td>1</td>\n",
       "      <td>39.984219</td>\n",
       "      <td>116.319420</td>\n",
       "      <td>2008-10-23 05:53:21</td>\n",
       "      <td>12008102305</td>\n",
       "      <td>2.448495</td>\n",
       "      <td>66.161008</td>\n",
       "      <td>68.115491</td>\n",
       "    </tr>\n",
       "    <tr>\n",
       "      <th>...</th>\n",
       "      <td>...</td>\n",
       "      <td>...</td>\n",
       "      <td>...</td>\n",
       "      <td>...</td>\n",
       "      <td>...</td>\n",
       "      <td>...</td>\n",
       "      <td>...</td>\n",
       "      <td>...</td>\n",
       "    </tr>\n",
       "    <tr>\n",
       "      <th>217648</th>\n",
       "      <td>5</td>\n",
       "      <td>39.999897</td>\n",
       "      <td>116.327293</td>\n",
       "      <td>2009-03-19 05:46:02</td>\n",
       "      <td>52009031905</td>\n",
       "      <td>7.470501</td>\n",
       "      <td>5.830361</td>\n",
       "      <td>13.000767</td>\n",
       "    </tr>\n",
       "    <tr>\n",
       "      <th>217649</th>\n",
       "      <td>5</td>\n",
       "      <td>39.999901</td>\n",
       "      <td>116.327354</td>\n",
       "      <td>2009-03-19 05:46:07</td>\n",
       "      <td>52009031905</td>\n",
       "      <td>5.830361</td>\n",
       "      <td>6.359989</td>\n",
       "      <td>10.913244</td>\n",
       "    </tr>\n",
       "    <tr>\n",
       "      <th>217650</th>\n",
       "      <td>5</td>\n",
       "      <td>39.999947</td>\n",
       "      <td>116.327393</td>\n",
       "      <td>2009-03-19 05:46:12</td>\n",
       "      <td>52009031905</td>\n",
       "      <td>6.359989</td>\n",
       "      <td>7.943372</td>\n",
       "      <td>14.161495</td>\n",
       "    </tr>\n",
       "    <tr>\n",
       "      <th>217651</th>\n",
       "      <td>5</td>\n",
       "      <td>40.000015</td>\n",
       "      <td>116.327431</td>\n",
       "      <td>2009-03-19 05:46:17</td>\n",
       "      <td>52009031905</td>\n",
       "      <td>7.943372</td>\n",
       "      <td>5.443728</td>\n",
       "      <td>6.747541</td>\n",
       "    </tr>\n",
       "    <tr>\n",
       "      <th>217652</th>\n",
       "      <td>5</td>\n",
       "      <td>39.999977</td>\n",
       "      <td>116.327461</td>\n",
       "      <td>2009-03-19 05:46:37</td>\n",
       "      <td>52009031905</td>\n",
       "      <td>5.443728</td>\n",
       "      <td>NaN</td>\n",
       "      <td>NaN</td>\n",
       "    </tr>\n",
       "  </tbody>\n",
       "</table>\n",
       "<p>217649 rows × 8 columns</p>\n",
       "</div>"
      ],
      "text/plain": [
       "        id        lat         lon            datetime          tid  \\\n",
       "0        1  39.984093  116.319237 2008-10-23 05:53:05  12008102305   \n",
       "1        1  39.984200  116.319321 2008-10-23 05:53:06  12008102305   \n",
       "2        1  39.984222  116.319405 2008-10-23 05:53:11  12008102305   \n",
       "3        1  39.984211  116.319389 2008-10-23 05:53:16  12008102305   \n",
       "4        1  39.984219  116.319420 2008-10-23 05:53:21  12008102305   \n",
       "...     ..        ...         ...                 ...          ...   \n",
       "217648   5  39.999897  116.327293 2009-03-19 05:46:02  52009031905   \n",
       "217649   5  39.999901  116.327354 2009-03-19 05:46:07  52009031905   \n",
       "217650   5  39.999947  116.327393 2009-03-19 05:46:12  52009031905   \n",
       "217651   5  40.000015  116.327431 2009-03-19 05:46:17  52009031905   \n",
       "217652   5  39.999977  116.327461 2009-03-19 05:46:37  52009031905   \n",
       "\n",
       "        dist_to_prev  dist_to_next  dist_prev_to_next  \n",
       "0                NaN     14.015319                NaN  \n",
       "1          14.015319      7.345484          20.082062  \n",
       "2           7.345484      1.628622           5.929780  \n",
       "3           1.628622      2.448495           1.224247  \n",
       "4           2.448495     66.161008          68.115491  \n",
       "...              ...           ...                ...  \n",
       "217648      7.470501      5.830361          13.000767  \n",
       "217649      5.830361      6.359989          10.913244  \n",
       "217650      6.359989      7.943372          14.161495  \n",
       "217651      7.943372      5.443728           6.747541  \n",
       "217652      5.443728           NaN                NaN  \n",
       "\n",
       "[217649 rows x 8 columns]"
      ]
     },
     "execution_count": 19,
     "metadata": {},
     "output_type": "execute_result"
    }
   ],
   "source": [
    "filters.clean_trajectories_with_few_points(df_move)"
   ]
  },
  {
   "cell_type": "markdown",
   "metadata": {},
   "source": [
    "## Segmentation"
   ]
  },
  {
   "cell_type": "markdown",
   "metadata": {},
   "source": [
    "The segmentation module are used to segment trajectories based on different parameters."
   ]
  },
  {
   "cell_type": "markdown",
   "metadata": {},
   "source": [
    "Importing the module:"
   ]
  },
  {
   "cell_type": "code",
   "execution_count": 20,
   "metadata": {},
   "outputs": [],
   "source": [
    "from pymove import segmentation\n",
    "df_move = read_csv('geolife_sample.csv')"
   ]
  },
  {
   "cell_type": "markdown",
   "metadata": {},
   "source": [
    "bbox_split function splits the bounding box in grids of the same size. The number of grids is defined by the parameter number_grids."
   ]
  },
  {
   "cell_type": "code",
   "execution_count": 21,
   "metadata": {},
   "outputs": [
    {
     "name": "stdout",
     "output_type": "stream",
     "text": [
      "const_lat: 4.74612125\n",
      "const_lon: 1.901845250000001\n"
     ]
    },
    {
     "data": {
      "text/html": [
       "<div>\n",
       "<style scoped>\n",
       "    .dataframe tbody tr th:only-of-type {\n",
       "        vertical-align: middle;\n",
       "    }\n",
       "\n",
       "    .dataframe tbody tr th {\n",
       "        vertical-align: top;\n",
       "    }\n",
       "\n",
       "    .dataframe thead th {\n",
       "        text-align: right;\n",
       "    }\n",
       "</style>\n",
       "<table border=\"1\" class=\"dataframe\">\n",
       "  <thead>\n",
       "    <tr style=\"text-align: right;\">\n",
       "      <th></th>\n",
       "      <th>lat_min</th>\n",
       "      <th>lon_min</th>\n",
       "      <th>lat_max</th>\n",
       "      <th>lon_max</th>\n",
       "    </tr>\n",
       "  </thead>\n",
       "  <tbody>\n",
       "    <tr>\n",
       "      <th>0</th>\n",
       "      <td>22.147577</td>\n",
       "      <td>113.548843</td>\n",
       "      <td>41.132062</td>\n",
       "      <td>115.450688</td>\n",
       "    </tr>\n",
       "    <tr>\n",
       "      <th>1</th>\n",
       "      <td>22.147577</td>\n",
       "      <td>115.450688</td>\n",
       "      <td>41.132062</td>\n",
       "      <td>117.352533</td>\n",
       "    </tr>\n",
       "    <tr>\n",
       "      <th>2</th>\n",
       "      <td>22.147577</td>\n",
       "      <td>117.352533</td>\n",
       "      <td>41.132062</td>\n",
       "      <td>119.254379</td>\n",
       "    </tr>\n",
       "    <tr>\n",
       "      <th>3</th>\n",
       "      <td>22.147577</td>\n",
       "      <td>119.254379</td>\n",
       "      <td>41.132062</td>\n",
       "      <td>121.156224</td>\n",
       "    </tr>\n",
       "  </tbody>\n",
       "</table>\n",
       "</div>"
      ],
      "text/plain": [
       "     lat_min     lon_min    lat_max     lon_max\n",
       "0  22.147577  113.548843  41.132062  115.450688\n",
       "1  22.147577  115.450688  41.132062  117.352533\n",
       "2  22.147577  117.352533  41.132062  119.254379\n",
       "3  22.147577  119.254379  41.132062  121.156224"
      ]
     },
     "execution_count": 21,
     "metadata": {},
     "output_type": "execute_result"
    }
   ],
   "source": [
    "bbox = (22.147577, 113.54884299999999, 41.132062, 121.156224)\n",
    "segmentation.bbox_split(bbox, number_grids=4)"
   ]
  },
  {
   "cell_type": "markdown",
   "metadata": {},
   "source": [
    "by_dist_time_speed functions segments the trajectories into clusters based on distance, time and speed. The distance, time and speed limits by the parameters by max_dist_between_adj_points, max_time_between_adj_points, max_speed_between_adj_points respectively. The column tid_part is added, it indicates the segment to which the point belongs to."
   ]
  },
  {
   "cell_type": "code",
   "execution_count": 22,
   "metadata": {},
   "outputs": [
    {
     "name": "stdout",
     "output_type": "stream",
     "text": [
      "\n",
      "Split trajectories\n",
      "...max_time_between_adj_points: 800\n",
      "...max_dist_between_adj_points: 5000\n",
      "...max_speed: 60.0\n",
      "\n",
      "Creating or updating distance, time and speed features in meters by seconds\n",
      "\n",
      "...Sorting by id and datetime to increase performance\n",
      "\n",
      "...Set id as index to a higher peformance\n",
      "\n"
     ]
    },
    {
     "data": {
      "application/vnd.jupyter.widget-view+json": {
       "model_id": "3788f05eb8ac415589e3793204627622",
       "version_major": 2,
       "version_minor": 0
      },
      "text/plain": [
       "VBox(children=(HTML(value=''), IntProgress(value=0, max=2)))"
      ]
     },
     "metadata": {},
     "output_type": "display_data"
    },
    {
     "name": "stdout",
     "output_type": "stream",
     "text": [
      "...Reset index...\n",
      "\n",
      "..Total Time: 0.192\n",
      "...setting id as index\n"
     ]
    },
    {
     "data": {
      "application/vnd.jupyter.widget-view+json": {
       "model_id": "f571fb01b3684696811fdab2cc1b7eea",
       "version_major": 2,
       "version_minor": 0
      },
      "text/plain": [
       "VBox(children=(HTML(value=''), IntProgress(value=0, max=2)))"
      ]
     },
     "metadata": {},
     "output_type": "display_data"
    },
    {
     "name": "stdout",
     "output_type": "stream",
     "text": [
      "... Reseting index\n",
      "\n",
      "...No trajs with only one point. (217653, 8)\n",
      "\n",
      "Creating or updating distance, time and speed features in meters by seconds\n",
      "\n",
      "...Sorting by id and datetime to increase performance\n",
      "\n",
      "...Set id as index to a higher peformance\n",
      "\n"
     ]
    },
    {
     "data": {
      "application/vnd.jupyter.widget-view+json": {
       "model_id": "75b6a68c789942d3b97b4b5dbfa45ea5",
       "version_major": 2,
       "version_minor": 0
      },
      "text/plain": [
       "VBox(children=(HTML(value=''), IntProgress(value=0, max=2)))"
      ]
     },
     "metadata": {},
     "output_type": "display_data"
    },
    {
     "name": "stdout",
     "output_type": "stream",
     "text": [
      "...Reset index...\n",
      "\n",
      "..Total Time: 0.200\n",
      "------------------------------------------\n",
      "\n"
     ]
    },
    {
     "data": {
      "text/html": [
       "<div>\n",
       "<style scoped>\n",
       "    .dataframe tbody tr th:only-of-type {\n",
       "        vertical-align: middle;\n",
       "    }\n",
       "\n",
       "    .dataframe tbody tr th {\n",
       "        vertical-align: top;\n",
       "    }\n",
       "\n",
       "    .dataframe thead th {\n",
       "        text-align: right;\n",
       "    }\n",
       "</style>\n",
       "<table border=\"1\" class=\"dataframe\">\n",
       "  <thead>\n",
       "    <tr style=\"text-align: right;\">\n",
       "      <th></th>\n",
       "      <th>id</th>\n",
       "      <th>lat</th>\n",
       "      <th>lon</th>\n",
       "      <th>datetime</th>\n",
       "      <th>dist_to_prev</th>\n",
       "      <th>time_to_prev</th>\n",
       "      <th>speed_to_prev</th>\n",
       "      <th>tid_part</th>\n",
       "    </tr>\n",
       "  </thead>\n",
       "  <tbody>\n",
       "    <tr>\n",
       "      <th>0</th>\n",
       "      <td>1</td>\n",
       "      <td>39.984093</td>\n",
       "      <td>116.319237</td>\n",
       "      <td>2008-10-23 05:53:05</td>\n",
       "      <td>NaN</td>\n",
       "      <td>NaN</td>\n",
       "      <td>NaN</td>\n",
       "      <td>1</td>\n",
       "    </tr>\n",
       "    <tr>\n",
       "      <th>1</th>\n",
       "      <td>1</td>\n",
       "      <td>39.984200</td>\n",
       "      <td>116.319321</td>\n",
       "      <td>2008-10-23 05:53:06</td>\n",
       "      <td>14.015319</td>\n",
       "      <td>1.0</td>\n",
       "      <td>14.015319</td>\n",
       "      <td>1</td>\n",
       "    </tr>\n",
       "    <tr>\n",
       "      <th>2</th>\n",
       "      <td>1</td>\n",
       "      <td>39.984222</td>\n",
       "      <td>116.319405</td>\n",
       "      <td>2008-10-23 05:53:11</td>\n",
       "      <td>7.345484</td>\n",
       "      <td>5.0</td>\n",
       "      <td>1.469097</td>\n",
       "      <td>1</td>\n",
       "    </tr>\n",
       "    <tr>\n",
       "      <th>3</th>\n",
       "      <td>1</td>\n",
       "      <td>39.984211</td>\n",
       "      <td>116.319389</td>\n",
       "      <td>2008-10-23 05:53:16</td>\n",
       "      <td>1.628622</td>\n",
       "      <td>5.0</td>\n",
       "      <td>0.325724</td>\n",
       "      <td>1</td>\n",
       "    </tr>\n",
       "    <tr>\n",
       "      <th>4</th>\n",
       "      <td>1</td>\n",
       "      <td>39.984219</td>\n",
       "      <td>116.319420</td>\n",
       "      <td>2008-10-23 05:53:21</td>\n",
       "      <td>2.448495</td>\n",
       "      <td>5.0</td>\n",
       "      <td>0.489699</td>\n",
       "      <td>1</td>\n",
       "    </tr>\n",
       "  </tbody>\n",
       "</table>\n",
       "</div>"
      ],
      "text/plain": [
       "   id        lat         lon            datetime  dist_to_prev  time_to_prev  \\\n",
       "0   1  39.984093  116.319237 2008-10-23 05:53:05           NaN           NaN   \n",
       "1   1  39.984200  116.319321 2008-10-23 05:53:06     14.015319           1.0   \n",
       "2   1  39.984222  116.319405 2008-10-23 05:53:11      7.345484           5.0   \n",
       "3   1  39.984211  116.319389 2008-10-23 05:53:16      1.628622           5.0   \n",
       "4   1  39.984219  116.319420 2008-10-23 05:53:21      2.448495           5.0   \n",
       "\n",
       "   speed_to_prev  tid_part  \n",
       "0            NaN         1  \n",
       "1      14.015319         1  \n",
       "2       1.469097         1  \n",
       "3       0.325724         1  \n",
       "4       0.489699         1  "
      ]
     },
     "execution_count": 22,
     "metadata": {},
     "output_type": "execute_result"
    }
   ],
   "source": [
    "segmentation.by_dist_time_speed(df_move, max_dist_between_adj_points=5000, \n",
    "                                max_time_between_adj_points=800,max_speed_between_adj_points=60.0)\n",
    "df_move.head()"
   ]
  },
  {
   "cell_type": "markdown",
   "metadata": {},
   "source": [
    "by_speed function segments the trajectories into clusters based on speed. The speed limit is defined by the parameter max_speed_between_adj_points. The column tid_speed is added, it indicates the segment to  which the point belongs to."
   ]
  },
  {
   "cell_type": "code",
   "execution_count": 23,
   "metadata": {},
   "outputs": [
    {
     "name": "stdout",
     "output_type": "stream",
     "text": [
      "Split trajectories by max_speed_between_adj_points: 70.0\n",
      "...setting id as index\n"
     ]
    },
    {
     "data": {
      "application/vnd.jupyter.widget-view+json": {
       "model_id": "677dc75358374cfaa2b9fb13722c47a5",
       "version_major": 2,
       "version_minor": 0
      },
      "text/plain": [
       "VBox(children=(HTML(value=''), IntProgress(value=0, max=2)))"
      ]
     },
     "metadata": {},
     "output_type": "display_data"
    },
    {
     "name": "stdout",
     "output_type": "stream",
     "text": [
      "... Reseting index\n",
      "...No trajs with only one point. (217653, 9)\n",
      "\n",
      "Creating or updating distance, time and speed features in meters by seconds\n",
      "\n",
      "...Sorting by id and datetime to increase performance\n",
      "\n",
      "...Set id as index to a higher peformance\n",
      "\n"
     ]
    },
    {
     "data": {
      "application/vnd.jupyter.widget-view+json": {
       "model_id": "c1a91ddf342446d2850ee55f71c6deba",
       "version_major": 2,
       "version_minor": 0
      },
      "text/plain": [
       "VBox(children=(HTML(value=''), IntProgress(value=0, max=2)))"
      ]
     },
     "metadata": {},
     "output_type": "display_data"
    },
    {
     "name": "stdout",
     "output_type": "stream",
     "text": [
      "...Reset index...\n",
      "\n",
      "..Total Time: 0.251\n",
      "------------------------------------------\n",
      "\n"
     ]
    },
    {
     "data": {
      "text/html": [
       "<div>\n",
       "<style scoped>\n",
       "    .dataframe tbody tr th:only-of-type {\n",
       "        vertical-align: middle;\n",
       "    }\n",
       "\n",
       "    .dataframe tbody tr th {\n",
       "        vertical-align: top;\n",
       "    }\n",
       "\n",
       "    .dataframe thead th {\n",
       "        text-align: right;\n",
       "    }\n",
       "</style>\n",
       "<table border=\"1\" class=\"dataframe\">\n",
       "  <thead>\n",
       "    <tr style=\"text-align: right;\">\n",
       "      <th></th>\n",
       "      <th>id</th>\n",
       "      <th>lat</th>\n",
       "      <th>lon</th>\n",
       "      <th>datetime</th>\n",
       "      <th>dist_to_prev</th>\n",
       "      <th>time_to_prev</th>\n",
       "      <th>speed_to_prev</th>\n",
       "      <th>tid_part</th>\n",
       "      <th>tid_speed</th>\n",
       "    </tr>\n",
       "  </thead>\n",
       "  <tbody>\n",
       "    <tr>\n",
       "      <th>0</th>\n",
       "      <td>1</td>\n",
       "      <td>39.984093</td>\n",
       "      <td>116.319237</td>\n",
       "      <td>2008-10-23 05:53:05</td>\n",
       "      <td>NaN</td>\n",
       "      <td>NaN</td>\n",
       "      <td>NaN</td>\n",
       "      <td>1</td>\n",
       "      <td>1</td>\n",
       "    </tr>\n",
       "    <tr>\n",
       "      <th>1</th>\n",
       "      <td>1</td>\n",
       "      <td>39.984200</td>\n",
       "      <td>116.319321</td>\n",
       "      <td>2008-10-23 05:53:06</td>\n",
       "      <td>14.015319</td>\n",
       "      <td>1.0</td>\n",
       "      <td>14.015319</td>\n",
       "      <td>1</td>\n",
       "      <td>1</td>\n",
       "    </tr>\n",
       "    <tr>\n",
       "      <th>2</th>\n",
       "      <td>1</td>\n",
       "      <td>39.984222</td>\n",
       "      <td>116.319405</td>\n",
       "      <td>2008-10-23 05:53:11</td>\n",
       "      <td>7.345484</td>\n",
       "      <td>5.0</td>\n",
       "      <td>1.469097</td>\n",
       "      <td>1</td>\n",
       "      <td>1</td>\n",
       "    </tr>\n",
       "    <tr>\n",
       "      <th>3</th>\n",
       "      <td>1</td>\n",
       "      <td>39.984211</td>\n",
       "      <td>116.319389</td>\n",
       "      <td>2008-10-23 05:53:16</td>\n",
       "      <td>1.628622</td>\n",
       "      <td>5.0</td>\n",
       "      <td>0.325724</td>\n",
       "      <td>1</td>\n",
       "      <td>1</td>\n",
       "    </tr>\n",
       "    <tr>\n",
       "      <th>4</th>\n",
       "      <td>1</td>\n",
       "      <td>39.984219</td>\n",
       "      <td>116.319420</td>\n",
       "      <td>2008-10-23 05:53:21</td>\n",
       "      <td>2.448495</td>\n",
       "      <td>5.0</td>\n",
       "      <td>0.489699</td>\n",
       "      <td>1</td>\n",
       "      <td>1</td>\n",
       "    </tr>\n",
       "  </tbody>\n",
       "</table>\n",
       "</div>"
      ],
      "text/plain": [
       "   id        lat         lon            datetime  dist_to_prev  time_to_prev  \\\n",
       "0   1  39.984093  116.319237 2008-10-23 05:53:05           NaN           NaN   \n",
       "1   1  39.984200  116.319321 2008-10-23 05:53:06     14.015319           1.0   \n",
       "2   1  39.984222  116.319405 2008-10-23 05:53:11      7.345484           5.0   \n",
       "3   1  39.984211  116.319389 2008-10-23 05:53:16      1.628622           5.0   \n",
       "4   1  39.984219  116.319420 2008-10-23 05:53:21      2.448495           5.0   \n",
       "\n",
       "   speed_to_prev  tid_part  tid_speed  \n",
       "0            NaN         1          1  \n",
       "1      14.015319         1          1  \n",
       "2       1.469097         1          1  \n",
       "3       0.325724         1          1  \n",
       "4       0.489699         1          1  "
      ]
     },
     "execution_count": 23,
     "metadata": {},
     "output_type": "execute_result"
    }
   ],
   "source": [
    "segmentation.by_max_speed(df_move, max_speed_between_adj_points=70.0)\n",
    "df_move.head()"
   ]
  },
  {
   "cell_type": "markdown",
   "metadata": {},
   "source": [
    "by_time function segments the trajectories into clusters based on time. The time limit is defined by the parameter max_time_between_adj_points. The column tid_time is added, it indicates the segment to  which the point belongs to."
   ]
  },
  {
   "cell_type": "code",
   "execution_count": 24,
   "metadata": {},
   "outputs": [
    {
     "name": "stdout",
     "output_type": "stream",
     "text": [
      "Split trajectories by max_time_between_adj_points: 1000\n",
      "...setting id as index\n"
     ]
    },
    {
     "data": {
      "application/vnd.jupyter.widget-view+json": {
       "model_id": "99da30d094824fb782876474bd098d3f",
       "version_major": 2,
       "version_minor": 0
      },
      "text/plain": [
       "VBox(children=(HTML(value=''), IntProgress(value=0, max=2)))"
      ]
     },
     "metadata": {},
     "output_type": "display_data"
    },
    {
     "name": "stdout",
     "output_type": "stream",
     "text": [
      "... Reseting index\n",
      "...No trajs with only one point. (217653, 10)\n",
      "\n",
      "Creating or updating distance, time and speed features in meters by seconds\n",
      "\n",
      "...Sorting by id and datetime to increase performance\n",
      "\n",
      "...Set id as index to a higher peformance\n",
      "\n"
     ]
    },
    {
     "data": {
      "application/vnd.jupyter.widget-view+json": {
       "model_id": "0068e78108e44a8695d89d8b6a38fbf6",
       "version_major": 2,
       "version_minor": 0
      },
      "text/plain": [
       "VBox(children=(HTML(value=''), IntProgress(value=0, max=2)))"
      ]
     },
     "metadata": {},
     "output_type": "display_data"
    },
    {
     "name": "stdout",
     "output_type": "stream",
     "text": [
      "...Reset index...\n",
      "\n",
      "..Total Time: 0.248\n",
      "------------------------------------------\n",
      "\n"
     ]
    },
    {
     "data": {
      "text/html": [
       "<div>\n",
       "<style scoped>\n",
       "    .dataframe tbody tr th:only-of-type {\n",
       "        vertical-align: middle;\n",
       "    }\n",
       "\n",
       "    .dataframe tbody tr th {\n",
       "        vertical-align: top;\n",
       "    }\n",
       "\n",
       "    .dataframe thead th {\n",
       "        text-align: right;\n",
       "    }\n",
       "</style>\n",
       "<table border=\"1\" class=\"dataframe\">\n",
       "  <thead>\n",
       "    <tr style=\"text-align: right;\">\n",
       "      <th></th>\n",
       "      <th>id</th>\n",
       "      <th>lat</th>\n",
       "      <th>lon</th>\n",
       "      <th>datetime</th>\n",
       "      <th>dist_to_prev</th>\n",
       "      <th>time_to_prev</th>\n",
       "      <th>speed_to_prev</th>\n",
       "      <th>tid_part</th>\n",
       "      <th>tid_speed</th>\n",
       "      <th>tid_time</th>\n",
       "    </tr>\n",
       "  </thead>\n",
       "  <tbody>\n",
       "    <tr>\n",
       "      <th>0</th>\n",
       "      <td>1</td>\n",
       "      <td>39.984093</td>\n",
       "      <td>116.319237</td>\n",
       "      <td>2008-10-23 05:53:05</td>\n",
       "      <td>NaN</td>\n",
       "      <td>NaN</td>\n",
       "      <td>NaN</td>\n",
       "      <td>1</td>\n",
       "      <td>1</td>\n",
       "      <td>1</td>\n",
       "    </tr>\n",
       "    <tr>\n",
       "      <th>1</th>\n",
       "      <td>1</td>\n",
       "      <td>39.984200</td>\n",
       "      <td>116.319321</td>\n",
       "      <td>2008-10-23 05:53:06</td>\n",
       "      <td>14.015319</td>\n",
       "      <td>1.0</td>\n",
       "      <td>14.015319</td>\n",
       "      <td>1</td>\n",
       "      <td>1</td>\n",
       "      <td>1</td>\n",
       "    </tr>\n",
       "    <tr>\n",
       "      <th>2</th>\n",
       "      <td>1</td>\n",
       "      <td>39.984222</td>\n",
       "      <td>116.319405</td>\n",
       "      <td>2008-10-23 05:53:11</td>\n",
       "      <td>7.345484</td>\n",
       "      <td>5.0</td>\n",
       "      <td>1.469097</td>\n",
       "      <td>1</td>\n",
       "      <td>1</td>\n",
       "      <td>1</td>\n",
       "    </tr>\n",
       "    <tr>\n",
       "      <th>3</th>\n",
       "      <td>1</td>\n",
       "      <td>39.984211</td>\n",
       "      <td>116.319389</td>\n",
       "      <td>2008-10-23 05:53:16</td>\n",
       "      <td>1.628622</td>\n",
       "      <td>5.0</td>\n",
       "      <td>0.325724</td>\n",
       "      <td>1</td>\n",
       "      <td>1</td>\n",
       "      <td>1</td>\n",
       "    </tr>\n",
       "    <tr>\n",
       "      <th>4</th>\n",
       "      <td>1</td>\n",
       "      <td>39.984219</td>\n",
       "      <td>116.319420</td>\n",
       "      <td>2008-10-23 05:53:21</td>\n",
       "      <td>2.448495</td>\n",
       "      <td>5.0</td>\n",
       "      <td>0.489699</td>\n",
       "      <td>1</td>\n",
       "      <td>1</td>\n",
       "      <td>1</td>\n",
       "    </tr>\n",
       "  </tbody>\n",
       "</table>\n",
       "</div>"
      ],
      "text/plain": [
       "   id        lat         lon            datetime  dist_to_prev  time_to_prev  \\\n",
       "0   1  39.984093  116.319237 2008-10-23 05:53:05           NaN           NaN   \n",
       "1   1  39.984200  116.319321 2008-10-23 05:53:06     14.015319           1.0   \n",
       "2   1  39.984222  116.319405 2008-10-23 05:53:11      7.345484           5.0   \n",
       "3   1  39.984211  116.319389 2008-10-23 05:53:16      1.628622           5.0   \n",
       "4   1  39.984219  116.319420 2008-10-23 05:53:21      2.448495           5.0   \n",
       "\n",
       "   speed_to_prev  tid_part  tid_speed  tid_time  \n",
       "0            NaN         1          1         1  \n",
       "1      14.015319         1          1         1  \n",
       "2       1.469097         1          1         1  \n",
       "3       0.325724         1          1         1  \n",
       "4       0.489699         1          1         1  "
      ]
     },
     "execution_count": 24,
     "metadata": {},
     "output_type": "execute_result"
    }
   ],
   "source": [
    "segmentation.by_max_time(df_move, max_time_between_adj_points=1000)\n",
    "df_move.head()"
   ]
  },
  {
   "cell_type": "markdown",
   "metadata": {},
   "source": [
    "segment_traj_by_max_dist function segments the trajectories into clusters based on distance. The distance limit is defined by the parameter max_dist_between_adj_points. The column tid_dist is added, it indicates the segment to which the point belongs to."
   ]
  },
  {
   "cell_type": "code",
   "execution_count": 25,
   "metadata": {},
   "outputs": [
    {
     "name": "stdout",
     "output_type": "stream",
     "text": [
      "Split trajectories by max distance between adjacent points: 4000\n",
      "...setting id as index\n"
     ]
    },
    {
     "data": {
      "application/vnd.jupyter.widget-view+json": {
       "model_id": "caaa09b5e53048ee98be4bf0ac6b5ed1",
       "version_major": 2,
       "version_minor": 0
      },
      "text/plain": [
       "VBox(children=(HTML(value=''), IntProgress(value=0, max=2)))"
      ]
     },
     "metadata": {},
     "output_type": "display_data"
    },
    {
     "name": "stdout",
     "output_type": "stream",
     "text": [
      "... Reseting index\n",
      "...No trajs with only one point. (217653, 11)\n",
      "\n",
      "Creating or updating distance features in meters...\n",
      "\n",
      "...Sorting by id and datetime to increase performance\n",
      "\n",
      "...Set id as index to increase attribution performance\n",
      "\n"
     ]
    },
    {
     "data": {
      "application/vnd.jupyter.widget-view+json": {
       "model_id": "6de4f70dc46a427b9e8c100561be5c9f",
       "version_major": 2,
       "version_minor": 0
      },
      "text/plain": [
       "VBox(children=(HTML(value=''), IntProgress(value=0, max=2)))"
      ]
     },
     "metadata": {},
     "output_type": "display_data"
    },
    {
     "name": "stdout",
     "output_type": "stream",
     "text": [
      "...Reset index\n",
      "\n",
      "..Total Time: 0.3769388198852539\n",
      "------------------------------------------\n",
      "\n"
     ]
    },
    {
     "data": {
      "text/html": [
       "<div>\n",
       "<style scoped>\n",
       "    .dataframe tbody tr th:only-of-type {\n",
       "        vertical-align: middle;\n",
       "    }\n",
       "\n",
       "    .dataframe tbody tr th {\n",
       "        vertical-align: top;\n",
       "    }\n",
       "\n",
       "    .dataframe thead th {\n",
       "        text-align: right;\n",
       "    }\n",
       "</style>\n",
       "<table border=\"1\" class=\"dataframe\">\n",
       "  <thead>\n",
       "    <tr style=\"text-align: right;\">\n",
       "      <th></th>\n",
       "      <th>id</th>\n",
       "      <th>lat</th>\n",
       "      <th>lon</th>\n",
       "      <th>datetime</th>\n",
       "      <th>dist_to_prev</th>\n",
       "      <th>time_to_prev</th>\n",
       "      <th>speed_to_prev</th>\n",
       "      <th>tid_part</th>\n",
       "      <th>tid_speed</th>\n",
       "      <th>tid_time</th>\n",
       "      <th>tid_dist</th>\n",
       "      <th>dist_to_next</th>\n",
       "      <th>dist_prev_to_next</th>\n",
       "    </tr>\n",
       "  </thead>\n",
       "  <tbody>\n",
       "    <tr>\n",
       "      <th>0</th>\n",
       "      <td>1</td>\n",
       "      <td>39.984093</td>\n",
       "      <td>116.319237</td>\n",
       "      <td>2008-10-23 05:53:05</td>\n",
       "      <td>NaN</td>\n",
       "      <td>NaN</td>\n",
       "      <td>NaN</td>\n",
       "      <td>1</td>\n",
       "      <td>1</td>\n",
       "      <td>1</td>\n",
       "      <td>1</td>\n",
       "      <td>14.015319</td>\n",
       "      <td>NaN</td>\n",
       "    </tr>\n",
       "    <tr>\n",
       "      <th>1</th>\n",
       "      <td>1</td>\n",
       "      <td>39.984200</td>\n",
       "      <td>116.319321</td>\n",
       "      <td>2008-10-23 05:53:06</td>\n",
       "      <td>14.015319</td>\n",
       "      <td>1.0</td>\n",
       "      <td>14.015319</td>\n",
       "      <td>1</td>\n",
       "      <td>1</td>\n",
       "      <td>1</td>\n",
       "      <td>1</td>\n",
       "      <td>7.345484</td>\n",
       "      <td>20.082062</td>\n",
       "    </tr>\n",
       "    <tr>\n",
       "      <th>2</th>\n",
       "      <td>1</td>\n",
       "      <td>39.984222</td>\n",
       "      <td>116.319405</td>\n",
       "      <td>2008-10-23 05:53:11</td>\n",
       "      <td>7.345484</td>\n",
       "      <td>5.0</td>\n",
       "      <td>1.469097</td>\n",
       "      <td>1</td>\n",
       "      <td>1</td>\n",
       "      <td>1</td>\n",
       "      <td>1</td>\n",
       "      <td>1.628622</td>\n",
       "      <td>5.929780</td>\n",
       "    </tr>\n",
       "    <tr>\n",
       "      <th>3</th>\n",
       "      <td>1</td>\n",
       "      <td>39.984211</td>\n",
       "      <td>116.319389</td>\n",
       "      <td>2008-10-23 05:53:16</td>\n",
       "      <td>1.628622</td>\n",
       "      <td>5.0</td>\n",
       "      <td>0.325724</td>\n",
       "      <td>1</td>\n",
       "      <td>1</td>\n",
       "      <td>1</td>\n",
       "      <td>1</td>\n",
       "      <td>2.448495</td>\n",
       "      <td>1.224247</td>\n",
       "    </tr>\n",
       "    <tr>\n",
       "      <th>4</th>\n",
       "      <td>1</td>\n",
       "      <td>39.984219</td>\n",
       "      <td>116.319420</td>\n",
       "      <td>2008-10-23 05:53:21</td>\n",
       "      <td>2.448495</td>\n",
       "      <td>5.0</td>\n",
       "      <td>0.489699</td>\n",
       "      <td>1</td>\n",
       "      <td>1</td>\n",
       "      <td>1</td>\n",
       "      <td>1</td>\n",
       "      <td>66.161008</td>\n",
       "      <td>68.115491</td>\n",
       "    </tr>\n",
       "  </tbody>\n",
       "</table>\n",
       "</div>"
      ],
      "text/plain": [
       "   id        lat         lon            datetime  dist_to_prev  time_to_prev  \\\n",
       "0   1  39.984093  116.319237 2008-10-23 05:53:05           NaN           NaN   \n",
       "1   1  39.984200  116.319321 2008-10-23 05:53:06     14.015319           1.0   \n",
       "2   1  39.984222  116.319405 2008-10-23 05:53:11      7.345484           5.0   \n",
       "3   1  39.984211  116.319389 2008-10-23 05:53:16      1.628622           5.0   \n",
       "4   1  39.984219  116.319420 2008-10-23 05:53:21      2.448495           5.0   \n",
       "\n",
       "   speed_to_prev  tid_part  tid_speed  tid_time  tid_dist  dist_to_next  \\\n",
       "0            NaN         1          1         1         1     14.015319   \n",
       "1      14.015319         1          1         1         1      7.345484   \n",
       "2       1.469097         1          1         1         1      1.628622   \n",
       "3       0.325724         1          1         1         1      2.448495   \n",
       "4       0.489699         1          1         1         1     66.161008   \n",
       "\n",
       "   dist_prev_to_next  \n",
       "0                NaN  \n",
       "1          20.082062  \n",
       "2           5.929780  \n",
       "3           1.224247  \n",
       "4          68.115491  "
      ]
     },
     "execution_count": 25,
     "metadata": {},
     "output_type": "execute_result"
    }
   ],
   "source": [
    "segmentation.by_max_dist(df_move, max_dist_between_adj_points = 4000)\n",
    "df_move.head()"
   ]
  },
  {
   "cell_type": "markdown",
   "metadata": {},
   "source": [
    "## Stay point detection "
   ]
  },
  {
   "cell_type": "markdown",
   "metadata": {},
   "source": [
    "A stay point is location where a moving object has stayed for a while within a certain distance threshold. A stay point could stand different places such: a restaurant, a school, a work place."
   ]
  },
  {
   "cell_type": "markdown",
   "metadata": {},
   "source": [
    "Importing the module:"
   ]
  },
  {
   "cell_type": "code",
   "execution_count": 26,
   "metadata": {},
   "outputs": [],
   "source": [
    "from pymove import stay_point_detection\n",
    "df_move = read_csv('geolife_sample.csv')"
   ]
  },
  {
   "cell_type": "markdown",
   "metadata": {},
   "source": [
    "stay_point_detection function converts the time data into a cyclical format. The columns hour_sin and hour_cos are added to the dataframe."
   ]
  },
  {
   "cell_type": "code",
   "execution_count": 27,
   "metadata": {},
   "outputs": [
    {
     "name": "stdout",
     "output_type": "stream",
     "text": [
      "Encoding cyclical continuous features - 24-hour time\n",
      "...hour_sin and  hour_cos features were created...\n",
      "\n"
     ]
    },
    {
     "data": {
      "text/html": [
       "<div>\n",
       "<style scoped>\n",
       "    .dataframe tbody tr th:only-of-type {\n",
       "        vertical-align: middle;\n",
       "    }\n",
       "\n",
       "    .dataframe tbody tr th {\n",
       "        vertical-align: top;\n",
       "    }\n",
       "\n",
       "    .dataframe thead th {\n",
       "        text-align: right;\n",
       "    }\n",
       "</style>\n",
       "<table border=\"1\" class=\"dataframe\">\n",
       "  <thead>\n",
       "    <tr style=\"text-align: right;\">\n",
       "      <th></th>\n",
       "      <th>lat</th>\n",
       "      <th>lon</th>\n",
       "      <th>datetime</th>\n",
       "      <th>id</th>\n",
       "      <th>hour_sin</th>\n",
       "      <th>hour_cos</th>\n",
       "    </tr>\n",
       "  </thead>\n",
       "  <tbody>\n",
       "    <tr>\n",
       "      <th>0</th>\n",
       "      <td>39.984093</td>\n",
       "      <td>116.319237</td>\n",
       "      <td>2008-10-23 05:53:05</td>\n",
       "      <td>1</td>\n",
       "      <td>0.979084</td>\n",
       "      <td>0.203456</td>\n",
       "    </tr>\n",
       "    <tr>\n",
       "      <th>1</th>\n",
       "      <td>39.984200</td>\n",
       "      <td>116.319321</td>\n",
       "      <td>2008-10-23 05:53:06</td>\n",
       "      <td>1</td>\n",
       "      <td>0.979084</td>\n",
       "      <td>0.203456</td>\n",
       "    </tr>\n",
       "    <tr>\n",
       "      <th>2</th>\n",
       "      <td>39.984222</td>\n",
       "      <td>116.319405</td>\n",
       "      <td>2008-10-23 05:53:11</td>\n",
       "      <td>1</td>\n",
       "      <td>0.979084</td>\n",
       "      <td>0.203456</td>\n",
       "    </tr>\n",
       "    <tr>\n",
       "      <th>3</th>\n",
       "      <td>39.984211</td>\n",
       "      <td>116.319389</td>\n",
       "      <td>2008-10-23 05:53:16</td>\n",
       "      <td>1</td>\n",
       "      <td>0.979084</td>\n",
       "      <td>0.203456</td>\n",
       "    </tr>\n",
       "    <tr>\n",
       "      <th>4</th>\n",
       "      <td>39.984219</td>\n",
       "      <td>116.319420</td>\n",
       "      <td>2008-10-23 05:53:21</td>\n",
       "      <td>1</td>\n",
       "      <td>0.979084</td>\n",
       "      <td>0.203456</td>\n",
       "    </tr>\n",
       "  </tbody>\n",
       "</table>\n",
       "</div>"
      ],
      "text/plain": [
       "         lat         lon            datetime  id  hour_sin  hour_cos\n",
       "0  39.984093  116.319237 2008-10-23 05:53:05   1  0.979084  0.203456\n",
       "1  39.984200  116.319321 2008-10-23 05:53:06   1  0.979084  0.203456\n",
       "2  39.984222  116.319405 2008-10-23 05:53:11   1  0.979084  0.203456\n",
       "3  39.984211  116.319389 2008-10-23 05:53:16   1  0.979084  0.203456\n",
       "4  39.984219  116.319420 2008-10-23 05:53:21   1  0.979084  0.203456"
      ]
     },
     "execution_count": 27,
     "metadata": {},
     "output_type": "execute_result"
    }
   ],
   "source": [
    "stay_point_detection.create_update_datetime_in_format_cyclical(df_move)\n",
    "df_move.head()"
   ]
  },
  {
   "cell_type": "markdown",
   "metadata": {},
   "source": [
    "create_or_update_move_stop_by_dist_time function creates or updates the stay points of the trajectories, based on distance and time metrics. The column segment_stop is added to the dataframe, it indicates the trajectory segment to  which the point belongs to. The column stop is also added, it indicates is the point represents a stop, a place where the object was stationary."
   ]
  },
  {
   "cell_type": "code",
   "execution_count": 28,
   "metadata": {},
   "outputs": [
    {
     "name": "stdout",
     "output_type": "stream",
     "text": [
      "Split trajectories by max distance between adjacent points: 40\n",
      "\n",
      "Creating or updating distance features in meters...\n",
      "\n",
      "...Sorting by id and datetime to increase performance\n",
      "\n",
      "...Set id as index to increase attribution performance\n",
      "\n"
     ]
    },
    {
     "data": {
      "application/vnd.jupyter.widget-view+json": {
       "model_id": "4392411826844892af6254492451ec97",
       "version_major": 2,
       "version_minor": 0
      },
      "text/plain": [
       "VBox(children=(HTML(value=''), IntProgress(value=0, max=2)))"
      ]
     },
     "metadata": {},
     "output_type": "display_data"
    },
    {
     "name": "stdout",
     "output_type": "stream",
     "text": [
      "...Reset index\n",
      "\n",
      "..Total Time: 0.3743858337402344\n",
      "...setting id as index\n"
     ]
    },
    {
     "data": {
      "application/vnd.jupyter.widget-view+json": {
       "model_id": "cdfab9b18696496692121f0cc863fc1b",
       "version_major": 2,
       "version_minor": 0
      },
      "text/plain": [
       "VBox(children=(HTML(value=''), IntProgress(value=0, max=2)))"
      ]
     },
     "metadata": {},
     "output_type": "display_data"
    },
    {
     "name": "stdout",
     "output_type": "stream",
     "text": [
      "... Reseting index\n",
      "...No trajs with only one point. (217653, 10)\n",
      "\n",
      "Creating or updating distance features in meters...\n",
      "\n",
      "...Sorting by id and datetime to increase performance\n",
      "\n",
      "...Set id as index to increase attribution performance\n",
      "\n"
     ]
    },
    {
     "data": {
      "application/vnd.jupyter.widget-view+json": {
       "model_id": "72aec8fd5df748daa1a2994e9324ef92",
       "version_major": 2,
       "version_minor": 0
      },
      "text/plain": [
       "VBox(children=(HTML(value=''), IntProgress(value=0, max=2)))"
      ]
     },
     "metadata": {},
     "output_type": "display_data"
    },
    {
     "name": "stdout",
     "output_type": "stream",
     "text": [
      "...Reset index\n",
      "\n",
      "..Total Time: 0.38266563415527344\n",
      "------------------------------------------\n",
      "\n",
      "\n",
      "Creating or updating distance, time and speed features in meters by seconds\n",
      "\n",
      "...Sorting by segment_stop and datetime to increase performance\n",
      "\n",
      "...Set segment_stop as index to a higher peformance\n",
      "\n"
     ]
    },
    {
     "data": {
      "application/vnd.jupyter.widget-view+json": {
       "model_id": "b07e096d70374141814b899879745c9c",
       "version_major": 2,
       "version_minor": 0
      },
      "text/plain": [
       "VBox(children=(HTML(value=''), IntProgress(value=0, max=3509)))"
      ]
     },
     "metadata": {},
     "output_type": "display_data"
    },
    {
     "name": "stdout",
     "output_type": "stream",
     "text": [
      "...Reset index...\n",
      "\n",
      "..Total Time: 1.891\n",
      "Create or update stop as True or False\n",
      "...Creating stop features as True or False using 1000 to time in seconds\n",
      "True     157842\n",
      "False     59811\n",
      "Name: stop, dtype: int64\n",
      "\n",
      "Total Time: 2.98 seconds\n",
      "-----------------------------------------------------\n",
      "\n"
     ]
    },
    {
     "data": {
      "text/html": [
       "<div>\n",
       "<style scoped>\n",
       "    .dataframe tbody tr th:only-of-type {\n",
       "        vertical-align: middle;\n",
       "    }\n",
       "\n",
       "    .dataframe tbody tr th {\n",
       "        vertical-align: top;\n",
       "    }\n",
       "\n",
       "    .dataframe thead th {\n",
       "        text-align: right;\n",
       "    }\n",
       "</style>\n",
       "<table border=\"1\" class=\"dataframe\">\n",
       "  <thead>\n",
       "    <tr style=\"text-align: right;\">\n",
       "      <th></th>\n",
       "      <th>segment_stop</th>\n",
       "      <th>id</th>\n",
       "      <th>lat</th>\n",
       "      <th>lon</th>\n",
       "      <th>datetime</th>\n",
       "      <th>hour_sin</th>\n",
       "      <th>hour_cos</th>\n",
       "      <th>dist_to_prev</th>\n",
       "      <th>dist_to_next</th>\n",
       "      <th>dist_prev_to_next</th>\n",
       "      <th>time_to_prev</th>\n",
       "      <th>speed_to_prev</th>\n",
       "      <th>stop</th>\n",
       "    </tr>\n",
       "  </thead>\n",
       "  <tbody>\n",
       "    <tr>\n",
       "      <th>0</th>\n",
       "      <td>1</td>\n",
       "      <td>1</td>\n",
       "      <td>39.984093</td>\n",
       "      <td>116.319237</td>\n",
       "      <td>2008-10-23 05:53:05</td>\n",
       "      <td>0.979084</td>\n",
       "      <td>0.203456</td>\n",
       "      <td>NaN</td>\n",
       "      <td>14.015319</td>\n",
       "      <td>NaN</td>\n",
       "      <td>NaN</td>\n",
       "      <td>NaN</td>\n",
       "      <td>False</td>\n",
       "    </tr>\n",
       "    <tr>\n",
       "      <th>1</th>\n",
       "      <td>1</td>\n",
       "      <td>1</td>\n",
       "      <td>39.984200</td>\n",
       "      <td>116.319321</td>\n",
       "      <td>2008-10-23 05:53:06</td>\n",
       "      <td>0.979084</td>\n",
       "      <td>0.203456</td>\n",
       "      <td>14.015319</td>\n",
       "      <td>7.345484</td>\n",
       "      <td>20.082062</td>\n",
       "      <td>1.0</td>\n",
       "      <td>14.015319</td>\n",
       "      <td>False</td>\n",
       "    </tr>\n",
       "    <tr>\n",
       "      <th>2</th>\n",
       "      <td>1</td>\n",
       "      <td>1</td>\n",
       "      <td>39.984222</td>\n",
       "      <td>116.319405</td>\n",
       "      <td>2008-10-23 05:53:11</td>\n",
       "      <td>0.979084</td>\n",
       "      <td>0.203456</td>\n",
       "      <td>7.345484</td>\n",
       "      <td>1.628622</td>\n",
       "      <td>5.929780</td>\n",
       "      <td>5.0</td>\n",
       "      <td>1.469097</td>\n",
       "      <td>False</td>\n",
       "    </tr>\n",
       "    <tr>\n",
       "      <th>3</th>\n",
       "      <td>1</td>\n",
       "      <td>1</td>\n",
       "      <td>39.984211</td>\n",
       "      <td>116.319389</td>\n",
       "      <td>2008-10-23 05:53:16</td>\n",
       "      <td>0.979084</td>\n",
       "      <td>0.203456</td>\n",
       "      <td>1.628622</td>\n",
       "      <td>2.448495</td>\n",
       "      <td>1.224247</td>\n",
       "      <td>5.0</td>\n",
       "      <td>0.325724</td>\n",
       "      <td>False</td>\n",
       "    </tr>\n",
       "    <tr>\n",
       "      <th>4</th>\n",
       "      <td>1</td>\n",
       "      <td>1</td>\n",
       "      <td>39.984219</td>\n",
       "      <td>116.319420</td>\n",
       "      <td>2008-10-23 05:53:21</td>\n",
       "      <td>0.979084</td>\n",
       "      <td>0.203456</td>\n",
       "      <td>2.448495</td>\n",
       "      <td>66.161008</td>\n",
       "      <td>68.115491</td>\n",
       "      <td>5.0</td>\n",
       "      <td>0.489699</td>\n",
       "      <td>False</td>\n",
       "    </tr>\n",
       "  </tbody>\n",
       "</table>\n",
       "</div>"
      ],
      "text/plain": [
       "   segment_stop  id        lat         lon            datetime  hour_sin  \\\n",
       "0             1   1  39.984093  116.319237 2008-10-23 05:53:05  0.979084   \n",
       "1             1   1  39.984200  116.319321 2008-10-23 05:53:06  0.979084   \n",
       "2             1   1  39.984222  116.319405 2008-10-23 05:53:11  0.979084   \n",
       "3             1   1  39.984211  116.319389 2008-10-23 05:53:16  0.979084   \n",
       "4             1   1  39.984219  116.319420 2008-10-23 05:53:21  0.979084   \n",
       "\n",
       "   hour_cos  dist_to_prev  dist_to_next  dist_prev_to_next  time_to_prev  \\\n",
       "0  0.203456           NaN     14.015319                NaN           NaN   \n",
       "1  0.203456     14.015319      7.345484          20.082062           1.0   \n",
       "2  0.203456      7.345484      1.628622           5.929780           5.0   \n",
       "3  0.203456      1.628622      2.448495           1.224247           5.0   \n",
       "4  0.203456      2.448495     66.161008          68.115491           5.0   \n",
       "\n",
       "   speed_to_prev   stop  \n",
       "0            NaN  False  \n",
       "1      14.015319  False  \n",
       "2       1.469097  False  \n",
       "3       0.325724  False  \n",
       "4       0.489699  False  "
      ]
     },
     "execution_count": 28,
     "metadata": {},
     "output_type": "execute_result"
    }
   ],
   "source": [
    "stay_point_detection.create_or_update_move_stop_by_dist_time(df_move, dist_radius=40, time_radius=1000)\n",
    "df_move.head()"
   ]
  },
  {
   "cell_type": "markdown",
   "metadata": {},
   "source": [
    "create_update_move_and_stop_by_radius function creates or updates the stay points of the trajectories, based on distance. The column situation is also added, it indicates if the point represents a stop point or a moving point."
   ]
  },
  {
   "cell_type": "code",
   "execution_count": 29,
   "metadata": {},
   "outputs": [
    {
     "name": "stdout",
     "output_type": "stream",
     "text": [
      "\n",
      "Creating or updating features MOVE and STOPS...\n",
      "\n",
      "\n",
      "....There are 58738 stops to this parameters\n",
      "\n"
     ]
    },
    {
     "data": {
      "text/html": [
       "<div>\n",
       "<style scoped>\n",
       "    .dataframe tbody tr th:only-of-type {\n",
       "        vertical-align: middle;\n",
       "    }\n",
       "\n",
       "    .dataframe tbody tr th {\n",
       "        vertical-align: top;\n",
       "    }\n",
       "\n",
       "    .dataframe thead th {\n",
       "        text-align: right;\n",
       "    }\n",
       "</style>\n",
       "<table border=\"1\" class=\"dataframe\">\n",
       "  <thead>\n",
       "    <tr style=\"text-align: right;\">\n",
       "      <th></th>\n",
       "      <th>segment_stop</th>\n",
       "      <th>id</th>\n",
       "      <th>lat</th>\n",
       "      <th>lon</th>\n",
       "      <th>datetime</th>\n",
       "      <th>hour_sin</th>\n",
       "      <th>hour_cos</th>\n",
       "      <th>dist_to_prev</th>\n",
       "      <th>dist_to_next</th>\n",
       "      <th>dist_prev_to_next</th>\n",
       "      <th>time_to_prev</th>\n",
       "      <th>speed_to_prev</th>\n",
       "      <th>stop</th>\n",
       "      <th>situation</th>\n",
       "    </tr>\n",
       "  </thead>\n",
       "  <tbody>\n",
       "    <tr>\n",
       "      <th>0</th>\n",
       "      <td>1</td>\n",
       "      <td>1</td>\n",
       "      <td>39.984093</td>\n",
       "      <td>116.319237</td>\n",
       "      <td>2008-10-23 05:53:05</td>\n",
       "      <td>0.979084</td>\n",
       "      <td>0.203456</td>\n",
       "      <td>NaN</td>\n",
       "      <td>14.015319</td>\n",
       "      <td>NaN</td>\n",
       "      <td>NaN</td>\n",
       "      <td>NaN</td>\n",
       "      <td>False</td>\n",
       "      <td>nan</td>\n",
       "    </tr>\n",
       "    <tr>\n",
       "      <th>1</th>\n",
       "      <td>1</td>\n",
       "      <td>1</td>\n",
       "      <td>39.984200</td>\n",
       "      <td>116.319321</td>\n",
       "      <td>2008-10-23 05:53:06</td>\n",
       "      <td>0.979084</td>\n",
       "      <td>0.203456</td>\n",
       "      <td>14.015319</td>\n",
       "      <td>7.345484</td>\n",
       "      <td>20.082062</td>\n",
       "      <td>1.0</td>\n",
       "      <td>14.015319</td>\n",
       "      <td>False</td>\n",
       "      <td>move</td>\n",
       "    </tr>\n",
       "    <tr>\n",
       "      <th>2</th>\n",
       "      <td>1</td>\n",
       "      <td>1</td>\n",
       "      <td>39.984222</td>\n",
       "      <td>116.319405</td>\n",
       "      <td>2008-10-23 05:53:11</td>\n",
       "      <td>0.979084</td>\n",
       "      <td>0.203456</td>\n",
       "      <td>7.345484</td>\n",
       "      <td>1.628622</td>\n",
       "      <td>5.929780</td>\n",
       "      <td>5.0</td>\n",
       "      <td>1.469097</td>\n",
       "      <td>False</td>\n",
       "      <td>move</td>\n",
       "    </tr>\n",
       "    <tr>\n",
       "      <th>3</th>\n",
       "      <td>1</td>\n",
       "      <td>1</td>\n",
       "      <td>39.984211</td>\n",
       "      <td>116.319389</td>\n",
       "      <td>2008-10-23 05:53:16</td>\n",
       "      <td>0.979084</td>\n",
       "      <td>0.203456</td>\n",
       "      <td>1.628622</td>\n",
       "      <td>2.448495</td>\n",
       "      <td>1.224247</td>\n",
       "      <td>5.0</td>\n",
       "      <td>0.325724</td>\n",
       "      <td>False</td>\n",
       "      <td>stop</td>\n",
       "    </tr>\n",
       "    <tr>\n",
       "      <th>4</th>\n",
       "      <td>1</td>\n",
       "      <td>1</td>\n",
       "      <td>39.984219</td>\n",
       "      <td>116.319420</td>\n",
       "      <td>2008-10-23 05:53:21</td>\n",
       "      <td>0.979084</td>\n",
       "      <td>0.203456</td>\n",
       "      <td>2.448495</td>\n",
       "      <td>66.161008</td>\n",
       "      <td>68.115491</td>\n",
       "      <td>5.0</td>\n",
       "      <td>0.489699</td>\n",
       "      <td>False</td>\n",
       "      <td>move</td>\n",
       "    </tr>\n",
       "  </tbody>\n",
       "</table>\n",
       "</div>"
      ],
      "text/plain": [
       "   segment_stop  id        lat         lon            datetime  hour_sin  \\\n",
       "0             1   1  39.984093  116.319237 2008-10-23 05:53:05  0.979084   \n",
       "1             1   1  39.984200  116.319321 2008-10-23 05:53:06  0.979084   \n",
       "2             1   1  39.984222  116.319405 2008-10-23 05:53:11  0.979084   \n",
       "3             1   1  39.984211  116.319389 2008-10-23 05:53:16  0.979084   \n",
       "4             1   1  39.984219  116.319420 2008-10-23 05:53:21  0.979084   \n",
       "\n",
       "   hour_cos  dist_to_prev  dist_to_next  dist_prev_to_next  time_to_prev  \\\n",
       "0  0.203456           NaN     14.015319                NaN           NaN   \n",
       "1  0.203456     14.015319      7.345484          20.082062           1.0   \n",
       "2  0.203456      7.345484      1.628622           5.929780           5.0   \n",
       "3  0.203456      1.628622      2.448495           1.224247           5.0   \n",
       "4  0.203456      2.448495     66.161008          68.115491           5.0   \n",
       "\n",
       "   speed_to_prev   stop situation  \n",
       "0            NaN  False       nan  \n",
       "1      14.015319  False      move  \n",
       "2       1.469097  False      move  \n",
       "3       0.325724  False      stop  \n",
       "4       0.489699  False      move  "
      ]
     },
     "execution_count": 29,
     "metadata": {},
     "output_type": "execute_result"
    }
   ],
   "source": [
    "stay_point_detection.create_update_move_and_stop_by_radius(df_move, radius=2)\n",
    "df_move.head()"
   ]
  },
  {
   "cell_type": "markdown",
   "metadata": {},
   "source": [
    "## Compression"
   ]
  },
  {
   "cell_type": "markdown",
   "metadata": {},
   "source": [
    "Importing the module:"
   ]
  },
  {
   "cell_type": "code",
   "execution_count": 30,
   "metadata": {},
   "outputs": [],
   "source": [
    "from pymove import compression\n",
    "df_move = read_csv('geolife_sample.csv')"
   ]
  },
  {
   "cell_type": "markdown",
   "metadata": {},
   "source": [
    "The function below is used to reduce the size of the trajectory, the stop points are used to make the compression. "
   ]
  },
  {
   "cell_type": "code",
   "execution_count": 31,
   "metadata": {},
   "outputs": [
    {
     "name": "stdout",
     "output_type": "stream",
     "text": [
      "Split trajectories by max distance between adjacent points: 30\n",
      "\n",
      "Creating or updating distance features in meters...\n",
      "\n",
      "...Sorting by id and datetime to increase performance\n",
      "\n",
      "...Set id as index to increase attribution performance\n",
      "\n"
     ]
    },
    {
     "data": {
      "application/vnd.jupyter.widget-view+json": {
       "model_id": "97bf3be642fd4f888144e128b682b5ee",
       "version_major": 2,
       "version_minor": 0
      },
      "text/plain": [
       "VBox(children=(HTML(value=''), IntProgress(value=0, max=2)))"
      ]
     },
     "metadata": {},
     "output_type": "display_data"
    },
    {
     "name": "stdout",
     "output_type": "stream",
     "text": [
      "...Reset index\n",
      "\n",
      "..Total Time: 0.3160533905029297\n",
      "...setting id as index\n"
     ]
    },
    {
     "data": {
      "application/vnd.jupyter.widget-view+json": {
       "model_id": "7eef4be0a1a64c9fba0526ef3eb2ea65",
       "version_major": 2,
       "version_minor": 0
      },
      "text/plain": [
       "VBox(children=(HTML(value=''), IntProgress(value=0, max=2)))"
      ]
     },
     "metadata": {},
     "output_type": "display_data"
    },
    {
     "name": "stdout",
     "output_type": "stream",
     "text": [
      "... Reseting index\n",
      "...No trajs with only one point. (217653, 8)\n",
      "\n",
      "Creating or updating distance features in meters...\n",
      "\n",
      "...Sorting by id and datetime to increase performance\n",
      "\n",
      "...Set id as index to increase attribution performance\n",
      "\n"
     ]
    },
    {
     "data": {
      "application/vnd.jupyter.widget-view+json": {
       "model_id": "de37c1e78887440297af1cb1b4f5835f",
       "version_major": 2,
       "version_minor": 0
      },
      "text/plain": [
       "VBox(children=(HTML(value=''), IntProgress(value=0, max=2)))"
      ]
     },
     "metadata": {},
     "output_type": "display_data"
    },
    {
     "name": "stdout",
     "output_type": "stream",
     "text": [
      "...Reset index\n",
      "\n",
      "..Total Time: 0.18229031562805176\n",
      "------------------------------------------\n",
      "\n",
      "\n",
      "Creating or updating distance, time and speed features in meters by seconds\n",
      "\n",
      "...Sorting by segment_stop and datetime to increase performance\n",
      "\n",
      "...Set segment_stop as index to a higher peformance\n",
      "\n"
     ]
    },
    {
     "data": {
      "application/vnd.jupyter.widget-view+json": {
       "model_id": "b2f10319aa5f4801aca6a61d33578075",
       "version_major": 2,
       "version_minor": 0
      },
      "text/plain": [
       "VBox(children=(HTML(value=''), IntProgress(value=0, max=4834)))"
      ]
     },
     "metadata": {},
     "output_type": "display_data"
    },
    {
     "name": "stdout",
     "output_type": "stream",
     "text": [
      "...Reset index...\n",
      "\n",
      "..Total Time: 2.212\n",
      "Create or update stop as True or False\n",
      "...Creating stop features as True or False using 900 to time in seconds\n",
      "True     151227\n",
      "False     66426\n",
      "Name: stop, dtype: int64\n",
      "\n",
      "Total Time: 3.06 seconds\n",
      "-----------------------------------------------------\n",
      "\n",
      "...setting mean to lat and lon...\n",
      "...get only segments stop...\n"
     ]
    },
    {
     "data": {
      "application/vnd.jupyter.widget-view+json": {
       "model_id": "81e21632345542298a75c1b128f54ba4",
       "version_major": 2,
       "version_minor": 0
      },
      "text/plain": [
       "VBox(children=(HTML(value=''), IntProgress(value=0, max=286)))"
      ]
     },
     "metadata": {},
     "output_type": "display_data"
    },
    {
     "name": "stdout",
     "output_type": "stream",
     "text": [
      "...Dropping 150655 points...\n",
      "...Shape_before: 217653\n",
      "...Current shape: 66998\n",
      "-----------------------------------------------------\n",
      "\n"
     ]
    },
    {
     "data": {
      "text/plain": [
       "(217653, 66998)"
      ]
     },
     "execution_count": 31,
     "metadata": {},
     "output_type": "execute_result"
    }
   ],
   "source": [
    "df_compressed = compression.compress_segment_stop_to_point_optimizer(df_move)\n",
    "len(df_move), len(df_compressed)"
   ]
  },
  {
   "cell_type": "markdown",
   "metadata": {},
   "source": [
    "## Map matching\n",
    "\n",
    "Import module:"
   ]
  },
  {
   "cell_type": "code",
   "execution_count": 32,
   "metadata": {},
   "outputs": [],
   "source": [
    "from pymove import map_matching"
   ]
  },
  {
   "cell_type": "code",
   "execution_count": 33,
   "metadata": {},
   "outputs": [],
   "source": [
    "# map_matching.check_time_dist(df_move)"
   ]
  },
  {
   "cell_type": "code",
   "execution_count": null,
   "metadata": {},
   "outputs": [],
   "source": []
  }
 ],
 "metadata": {
  "kernelspec": {
   "display_name": "Python 3",
   "language": "python",
   "name": "python3"
  },
  "language_info": {
   "codemirror_mode": {
    "name": "ipython",
    "version": 3
   },
   "file_extension": ".py",
   "mimetype": "text/x-python",
   "name": "python",
   "nbconvert_exporter": "python",
   "pygments_lexer": "ipython3",
   "version": "3.7.6"
  }
 },
 "nbformat": 4,
 "nbformat_minor": 4
}
