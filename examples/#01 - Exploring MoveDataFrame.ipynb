{
 "cells": [
  {
   "cell_type": "markdown",
   "metadata": {},
   "source": [
    "# #01 - Exploring MoveDataFrame\n",
    "\n",
    "\n",
    "To work with Pymove you need to import the data into our data structure: **MoveDataFrame**!\n",
    "\n",
    "**MoveDataFrame** is an abstraction that instantiates a new data structure that manipulates the structure the user wants. This is done using the Factory Method design pattern. This structure allows the interface to be implemented using different representations and libraries that manipulate the data.\n",
    "\n",
    "We have an interface that delimits the scope that new implementing classes should have. We currently have two concrete classes that implement this interface: **PandasMoveDataFrame** and **DaskMoveDataFrame** (under construction), which use Pandas and Dask respectively for data manipulation.\n",
    "\n",
    "\n",
    "It works like this: The user instantiating a MoveDataFrame provides a flag telling which library they want to use for manipulating this data.\n",
    "\n",
    "Now that we understand the concept and data structure of PyMove, **hands on!**\n",
    "\n",
    "---\n",
    "\n",
    "### MoveDataFrame\n",
    "\n",
    "A MoveDataFrame must contain the columns:\n",
    "- `lat`: represents the latitude of the point.\n",
    "- `lon`: represents the longitude of the point.\n",
    "- `datetime`: represents the date and time of the point.\n",
    "\n",
    "In addition, the user can enter several other columns as trajectory id. **If the id is not entered, the points are supposed to belong to the same path**.\n",
    "\n",
    "---\n",
    "\n",
    "### Creating a MoveDataFrame\n",
    "\n",
    "A MoveDataFrame can be created by passing a Pandas DataFrame, a list, dict or even reading a file. Look:"
   ]
  },
  {
   "cell_type": "code",
   "execution_count": 1,
   "metadata": {},
   "outputs": [],
   "source": [
    "import pymove\n",
    "from pymove import MoveDataFrame"
   ]
  },
  {
   "cell_type": "markdown",
   "metadata": {},
   "source": [
    "#### From a list"
   ]
  },
  {
   "cell_type": "code",
   "execution_count": 2,
   "metadata": {},
   "outputs": [
    {
     "data": {
      "text/html": [
       "<div>\n",
       "<style scoped>\n",
       "    .dataframe tbody tr th:only-of-type {\n",
       "        vertical-align: middle;\n",
       "    }\n",
       "\n",
       "    .dataframe tbody tr th {\n",
       "        vertical-align: top;\n",
       "    }\n",
       "\n",
       "    .dataframe thead th {\n",
       "        text-align: right;\n",
       "    }\n",
       "</style>\n",
       "<table border=\"1\" class=\"dataframe\">\n",
       "  <thead>\n",
       "    <tr style=\"text-align: right;\">\n",
       "      <th></th>\n",
       "      <th>lat</th>\n",
       "      <th>lon</th>\n",
       "      <th>datetime</th>\n",
       "      <th>id</th>\n",
       "    </tr>\n",
       "  </thead>\n",
       "  <tbody>\n",
       "    <tr>\n",
       "      <th>0</th>\n",
       "      <td>39.984094</td>\n",
       "      <td>116.319236</td>\n",
       "      <td>2008-10-23 05:53:05</td>\n",
       "      <td>1</td>\n",
       "    </tr>\n",
       "    <tr>\n",
       "      <th>1</th>\n",
       "      <td>39.984198</td>\n",
       "      <td>116.319322</td>\n",
       "      <td>2008-10-23 05:53:06</td>\n",
       "      <td>1</td>\n",
       "    </tr>\n",
       "    <tr>\n",
       "      <th>2</th>\n",
       "      <td>39.984224</td>\n",
       "      <td>116.319402</td>\n",
       "      <td>2008-10-23 05:53:11</td>\n",
       "      <td>1</td>\n",
       "    </tr>\n",
       "    <tr>\n",
       "      <th>3</th>\n",
       "      <td>39.984224</td>\n",
       "      <td>116.319402</td>\n",
       "      <td>2008-10-23 05:53:11</td>\n",
       "      <td>1</td>\n",
       "    </tr>\n",
       "    <tr>\n",
       "      <th>4</th>\n",
       "      <td>39.984224</td>\n",
       "      <td>116.319402</td>\n",
       "      <td>2008-10-23 05:53:11</td>\n",
       "      <td>1</td>\n",
       "    </tr>\n",
       "  </tbody>\n",
       "</table>\n",
       "</div>"
      ],
      "text/plain": [
       "         lat         lon            datetime  id\n",
       "0  39.984094  116.319236 2008-10-23 05:53:05   1\n",
       "1  39.984198  116.319322 2008-10-23 05:53:06   1\n",
       "2  39.984224  116.319402 2008-10-23 05:53:11   1\n",
       "3  39.984224  116.319402 2008-10-23 05:53:11   1\n",
       "4  39.984224  116.319402 2008-10-23 05:53:11   1"
      ]
     },
     "execution_count": 2,
     "metadata": {},
     "output_type": "execute_result"
    }
   ],
   "source": [
    "list_data = [[39.984094, 116.319236, '2008-10-23 05:53:05', 1],\n",
    "             [39.984198, 116.319322, '2008-10-23 05:53:06', 1],\n",
    "             [39.984224, 116.319402, '2008-10-23 05:53:11', 1], \n",
    "             [39.984224, 116.319402, '2008-10-23 05:53:11', 1], \n",
    "             [39.984224, 116.319402, '2008-10-23 05:53:11', 1],\n",
    "             [39.984224, 116.319402, '2008-10-23 05:53:11', 1]]\n",
    "move_df = MoveDataFrame(data=list_data, latitude=\"lat\", longitude=\"lon\", datetime=\"datetime\", traj_id=\"id\")\n",
    "move_df.head()"
   ]
  },
  {
   "cell_type": "markdown",
   "metadata": {},
   "source": [
    "#### From a dict"
   ]
  },
  {
   "cell_type": "code",
   "execution_count": 3,
   "metadata": {},
   "outputs": [
    {
     "data": {
      "text/html": [
       "<div>\n",
       "<style scoped>\n",
       "    .dataframe tbody tr th:only-of-type {\n",
       "        vertical-align: middle;\n",
       "    }\n",
       "\n",
       "    .dataframe tbody tr th {\n",
       "        vertical-align: top;\n",
       "    }\n",
       "\n",
       "    .dataframe thead th {\n",
       "        text-align: right;\n",
       "    }\n",
       "</style>\n",
       "<table border=\"1\" class=\"dataframe\">\n",
       "  <thead>\n",
       "    <tr style=\"text-align: right;\">\n",
       "      <th></th>\n",
       "      <th>lat</th>\n",
       "      <th>lon</th>\n",
       "      <th>datetime</th>\n",
       "    </tr>\n",
       "  </thead>\n",
       "  <tbody>\n",
       "    <tr>\n",
       "      <th>0</th>\n",
       "      <td>39.984198</td>\n",
       "      <td>116.319402</td>\n",
       "      <td>2008-10-23 05:53:11</td>\n",
       "    </tr>\n",
       "    <tr>\n",
       "      <th>1</th>\n",
       "      <td>39.984224</td>\n",
       "      <td>116.319322</td>\n",
       "      <td>2008-10-23 05:53:06</td>\n",
       "    </tr>\n",
       "    <tr>\n",
       "      <th>2</th>\n",
       "      <td>39.984094</td>\n",
       "      <td>116.319402</td>\n",
       "      <td>2008-10-23 05:53:06</td>\n",
       "    </tr>\n",
       "  </tbody>\n",
       "</table>\n",
       "</div>"
      ],
      "text/plain": [
       "         lat         lon            datetime\n",
       "0  39.984198  116.319402 2008-10-23 05:53:11\n",
       "1  39.984224  116.319322 2008-10-23 05:53:06\n",
       "2  39.984094  116.319402 2008-10-23 05:53:06"
      ]
     },
     "execution_count": 3,
     "metadata": {},
     "output_type": "execute_result"
    }
   ],
   "source": [
    "dict_data = {\n",
    "    'lat': [39.984198, 39.984224, 39.984094],\n",
    "    'lon': [116.319402, 116.319322, 116.319402],\n",
    "    'datetime': ['2008-10-23 05:53:11', '2008-10-23 05:53:06', '2008-10-23 05:53:06']\n",
    "}\n",
    "\n",
    "move_df = MoveDataFrame(data=dict_data, latitude=\"lat\", longitude=\"lon\", datetime=\"datetime\", traj_id=\"id\")\n",
    "move_df.head()"
   ]
  },
  {
   "cell_type": "markdown",
   "metadata": {},
   "source": [
    "#### From a DataFrame Pandas"
   ]
  },
  {
   "cell_type": "code",
   "execution_count": 4,
   "metadata": {},
   "outputs": [
    {
     "data": {
      "text/html": [
       "<div>\n",
       "<style scoped>\n",
       "    .dataframe tbody tr th:only-of-type {\n",
       "        vertical-align: middle;\n",
       "    }\n",
       "\n",
       "    .dataframe tbody tr th {\n",
       "        vertical-align: top;\n",
       "    }\n",
       "\n",
       "    .dataframe thead th {\n",
       "        text-align: right;\n",
       "    }\n",
       "</style>\n",
       "<table border=\"1\" class=\"dataframe\">\n",
       "  <thead>\n",
       "    <tr style=\"text-align: right;\">\n",
       "      <th></th>\n",
       "      <th>lat</th>\n",
       "      <th>lon</th>\n",
       "      <th>datetime</th>\n",
       "      <th>id</th>\n",
       "    </tr>\n",
       "  </thead>\n",
       "  <tbody>\n",
       "    <tr>\n",
       "      <th>0</th>\n",
       "      <td>39.984094</td>\n",
       "      <td>116.319236</td>\n",
       "      <td>2008-10-23 05:53:05</td>\n",
       "      <td>1</td>\n",
       "    </tr>\n",
       "    <tr>\n",
       "      <th>1</th>\n",
       "      <td>39.984198</td>\n",
       "      <td>116.319322</td>\n",
       "      <td>2008-10-23 05:53:06</td>\n",
       "      <td>1</td>\n",
       "    </tr>\n",
       "    <tr>\n",
       "      <th>2</th>\n",
       "      <td>39.984224</td>\n",
       "      <td>116.319402</td>\n",
       "      <td>2008-10-23 05:53:11</td>\n",
       "      <td>1</td>\n",
       "    </tr>\n",
       "    <tr>\n",
       "      <th>3</th>\n",
       "      <td>39.984211</td>\n",
       "      <td>116.319389</td>\n",
       "      <td>2008-10-23 05:53:16</td>\n",
       "      <td>1</td>\n",
       "    </tr>\n",
       "    <tr>\n",
       "      <th>4</th>\n",
       "      <td>39.984217</td>\n",
       "      <td>116.319422</td>\n",
       "      <td>2008-10-23 05:53:21</td>\n",
       "      <td>1</td>\n",
       "    </tr>\n",
       "  </tbody>\n",
       "</table>\n",
       "</div>"
      ],
      "text/plain": [
       "         lat         lon            datetime  id\n",
       "0  39.984094  116.319236 2008-10-23 05:53:05   1\n",
       "1  39.984198  116.319322 2008-10-23 05:53:06   1\n",
       "2  39.984224  116.319402 2008-10-23 05:53:11   1\n",
       "3  39.984211  116.319389 2008-10-23 05:53:16   1\n",
       "4  39.984217  116.319422 2008-10-23 05:53:21   1"
      ]
     },
     "execution_count": 4,
     "metadata": {},
     "output_type": "execute_result"
    }
   ],
   "source": [
    "import pandas as pd\n",
    "\n",
    "df = pd.read_csv('geolife_sample.csv', parse_dates=['datetime'])\n",
    "move_df = MoveDataFrame(data=df, latitude=\"lat\", longitude=\"lon\", datetime=\"datetime\")\n",
    "\n",
    "move_df.head()"
   ]
  },
  {
   "cell_type": "markdown",
   "metadata": {},
   "source": [
    "#### From a file "
   ]
  },
  {
   "cell_type": "code",
   "execution_count": 5,
   "metadata": {},
   "outputs": [
    {
     "data": {
      "text/html": [
       "<div>\n",
       "<style scoped>\n",
       "    .dataframe tbody tr th:only-of-type {\n",
       "        vertical-align: middle;\n",
       "    }\n",
       "\n",
       "    .dataframe tbody tr th {\n",
       "        vertical-align: top;\n",
       "    }\n",
       "\n",
       "    .dataframe thead th {\n",
       "        text-align: right;\n",
       "    }\n",
       "</style>\n",
       "<table border=\"1\" class=\"dataframe\">\n",
       "  <thead>\n",
       "    <tr style=\"text-align: right;\">\n",
       "      <th></th>\n",
       "      <th>lat</th>\n",
       "      <th>lon</th>\n",
       "      <th>datetime</th>\n",
       "      <th>id</th>\n",
       "    </tr>\n",
       "  </thead>\n",
       "  <tbody>\n",
       "    <tr>\n",
       "      <th>0</th>\n",
       "      <td>39.984094</td>\n",
       "      <td>116.319236</td>\n",
       "      <td>2008-10-23 05:53:05</td>\n",
       "      <td>1</td>\n",
       "    </tr>\n",
       "    <tr>\n",
       "      <th>1</th>\n",
       "      <td>39.984198</td>\n",
       "      <td>116.319322</td>\n",
       "      <td>2008-10-23 05:53:06</td>\n",
       "      <td>1</td>\n",
       "    </tr>\n",
       "    <tr>\n",
       "      <th>2</th>\n",
       "      <td>39.984224</td>\n",
       "      <td>116.319402</td>\n",
       "      <td>2008-10-23 05:53:11</td>\n",
       "      <td>1</td>\n",
       "    </tr>\n",
       "    <tr>\n",
       "      <th>3</th>\n",
       "      <td>39.984211</td>\n",
       "      <td>116.319389</td>\n",
       "      <td>2008-10-23 05:53:16</td>\n",
       "      <td>1</td>\n",
       "    </tr>\n",
       "    <tr>\n",
       "      <th>4</th>\n",
       "      <td>39.984217</td>\n",
       "      <td>116.319422</td>\n",
       "      <td>2008-10-23 05:53:21</td>\n",
       "      <td>1</td>\n",
       "    </tr>\n",
       "  </tbody>\n",
       "</table>\n",
       "</div>"
      ],
      "text/plain": [
       "         lat         lon            datetime  id\n",
       "0  39.984094  116.319236 2008-10-23 05:53:05   1\n",
       "1  39.984198  116.319322 2008-10-23 05:53:06   1\n",
       "2  39.984224  116.319402 2008-10-23 05:53:11   1\n",
       "3  39.984211  116.319389 2008-10-23 05:53:16   1\n",
       "4  39.984217  116.319422 2008-10-23 05:53:21   1"
      ]
     },
     "execution_count": 5,
     "metadata": {},
     "output_type": "execute_result"
    }
   ],
   "source": [
    "move_df = pymove.read_csv('geolife_sample.csv')\n",
    "move_df.head()"
   ]
  },
  {
   "cell_type": "markdown",
   "metadata": {},
   "source": [
    "Cool, huh? The default flag is Pandas. Look that:"
   ]
  },
  {
   "cell_type": "code",
   "execution_count": 6,
   "metadata": {},
   "outputs": [
    {
     "data": {
      "text/plain": [
       "pymove.core.pandas.PandasMoveDataFrame"
      ]
     },
     "execution_count": 6,
     "metadata": {},
     "output_type": "execute_result"
    }
   ],
   "source": [
    "type(move_df)"
   ]
  },
  {
   "cell_type": "markdown",
   "metadata": {},
   "source": [
    "Let's try creating one with Dask!"
   ]
  },
  {
   "cell_type": "code",
   "execution_count": 7,
   "metadata": {},
   "outputs": [
    {
     "data": {
      "text/html": [
       "<div>\n",
       "<style scoped>\n",
       "    .dataframe tbody tr th:only-of-type {\n",
       "        vertical-align: middle;\n",
       "    }\n",
       "\n",
       "    .dataframe tbody tr th {\n",
       "        vertical-align: top;\n",
       "    }\n",
       "\n",
       "    .dataframe thead th {\n",
       "        text-align: right;\n",
       "    }\n",
       "</style>\n",
       "<table border=\"1\" class=\"dataframe\">\n",
       "  <thead>\n",
       "    <tr style=\"text-align: right;\">\n",
       "      <th></th>\n",
       "      <th>lat</th>\n",
       "      <th>lon</th>\n",
       "      <th>datetime</th>\n",
       "      <th>id</th>\n",
       "    </tr>\n",
       "  </thead>\n",
       "  <tbody>\n",
       "    <tr>\n",
       "      <th>0</th>\n",
       "      <td>39.984094</td>\n",
       "      <td>116.319236</td>\n",
       "      <td>2008-10-23 05:53:05</td>\n",
       "      <td>1</td>\n",
       "    </tr>\n",
       "    <tr>\n",
       "      <th>1</th>\n",
       "      <td>39.984198</td>\n",
       "      <td>116.319322</td>\n",
       "      <td>2008-10-23 05:53:06</td>\n",
       "      <td>1</td>\n",
       "    </tr>\n",
       "    <tr>\n",
       "      <th>2</th>\n",
       "      <td>39.984224</td>\n",
       "      <td>116.319402</td>\n",
       "      <td>2008-10-23 05:53:11</td>\n",
       "      <td>1</td>\n",
       "    </tr>\n",
       "    <tr>\n",
       "      <th>3</th>\n",
       "      <td>39.984211</td>\n",
       "      <td>116.319389</td>\n",
       "      <td>2008-10-23 05:53:16</td>\n",
       "      <td>1</td>\n",
       "    </tr>\n",
       "    <tr>\n",
       "      <th>4</th>\n",
       "      <td>39.984217</td>\n",
       "      <td>116.319422</td>\n",
       "      <td>2008-10-23 05:53:21</td>\n",
       "      <td>1</td>\n",
       "    </tr>\n",
       "  </tbody>\n",
       "</table>\n",
       "</div>"
      ],
      "text/plain": [
       "         lat         lon            datetime  id\n",
       "0  39.984094  116.319236 2008-10-23 05:53:05   1\n",
       "1  39.984198  116.319322 2008-10-23 05:53:06   1\n",
       "2  39.984224  116.319402 2008-10-23 05:53:11   1\n",
       "3  39.984211  116.319389 2008-10-23 05:53:16   1\n",
       "4  39.984217  116.319422 2008-10-23 05:53:21   1"
      ]
     },
     "execution_count": 7,
     "metadata": {},
     "output_type": "execute_result"
    }
   ],
   "source": [
    "move_df = pymove.read_csv('geolife_sample.csv', type_='dask')\n",
    "move_df.head()"
   ]
  },
  {
   "cell_type": "code",
   "execution_count": 8,
   "metadata": {},
   "outputs": [
    {
     "data": {
      "text/plain": [
       "pymove.core.dask.DaskMoveDataFrame"
      ]
     },
     "execution_count": 8,
     "metadata": {},
     "output_type": "execute_result"
    }
   ],
   "source": [
    "type(move_df)"
   ]
  },
  {
   "cell_type": "markdown",
   "metadata": {},
   "source": [
    "---\n",
    "\n",
    "### What's in MoveDataFrame?\n",
    "\n",
    "The MoveDataFrame stores the following information:"
   ]
  },
  {
   "cell_type": "code",
   "execution_count": 9,
   "metadata": {},
   "outputs": [],
   "source": [
    "orig_df = pymove.read_csv('geolife_sample.csv')\n",
    "move_df = orig_df[:]"
   ]
  },
  {
   "cell_type": "markdown",
   "metadata": {},
   "source": [
    "#### 1. The kind of data he was instantiated"
   ]
  },
  {
   "cell_type": "code",
   "execution_count": 10,
   "metadata": {},
   "outputs": [
    {
     "data": {
      "text/plain": [
       "'pandas'"
      ]
     },
     "execution_count": 10,
     "metadata": {},
     "output_type": "execute_result"
    }
   ],
   "source": [
    "move_df.get_type()"
   ]
  },
  {
   "cell_type": "code",
   "execution_count": 11,
   "metadata": {},
   "outputs": [
    {
     "data": {
      "text/plain": [
       "Index(['lat', 'lon', 'datetime', 'id'], dtype='object')"
      ]
     },
     "execution_count": 11,
     "metadata": {},
     "output_type": "execute_result"
    }
   ],
   "source": [
    "move_df.columns"
   ]
  },
  {
   "cell_type": "code",
   "execution_count": 12,
   "metadata": {},
   "outputs": [
    {
     "data": {
      "text/plain": [
       "lat                float64\n",
       "lon                float64\n",
       "datetime    datetime64[ns]\n",
       "id                   int64\n",
       "dtype: object"
      ]
     },
     "execution_count": 12,
     "metadata": {},
     "output_type": "execute_result"
    }
   ],
   "source": [
    "move_df.dtypes"
   ]
  },
  {
   "cell_type": "markdown",
   "metadata": {},
   "source": [
    "#### 2. Informações das ultimas operações realizadas: o nome, a memória utilizada e o tempo de duração do processamento"
   ]
  },
  {
   "cell_type": "code",
   "execution_count": 13,
   "metadata": {},
   "outputs": [
    {
     "data": {
      "text/plain": [
       "{'name': 'dtypes', 'time in seconds': 0.0003237724304199219, 'memory': '0.0 B'}"
      ]
     },
     "execution_count": 13,
     "metadata": {},
     "output_type": "execute_result"
    }
   ],
   "source": [
    "move_df.last_operation"
   ]
  },
  {
   "cell_type": "markdown",
   "metadata": {},
   "source": [
    "In addition to these attributes, we have some functions that allow us to:\n",
    "\n",
    "#### 1. View trajectory information"
   ]
  },
  {
   "cell_type": "code",
   "execution_count": 14,
   "metadata": {},
   "outputs": [
    {
     "data": {
      "text/plain": [
       "'(22.147577, 113.54884299999999, 41.132062, 121.156224)'"
      ]
     },
     "execution_count": 14,
     "metadata": {},
     "output_type": "execute_result"
    }
   ],
   "source": [
    "\"%s\" % (move_df.get_bbox(),)"
   ]
  },
  {
   "cell_type": "code",
   "execution_count": 15,
   "metadata": {},
   "outputs": [
    {
     "name": "stdout",
     "output_type": "stream",
     "text": [
      "\n",
      "====================== INFORMATION ABOUT DATASET ======================\n",
      "\n",
      "Number of Points: 217653\n",
      "\n",
      "Number of IDs objects: 2\n",
      "\n",
      "Start Date:2008-10-23 05:53:05     End Date:2009-03-19 05:46:37\n",
      "\n",
      "Bounding Box:(22.147577, 113.54884299999999, 41.132062, 121.156224)\n",
      "\n",
      "\n",
      "=======================================================================\n",
      "\n"
     ]
    }
   ],
   "source": [
    "move_df.show_trajectories_info()"
   ]
  },
  {
   "cell_type": "markdown",
   "metadata": {},
   "source": [
    "#### 2. View the number of users"
   ]
  },
  {
   "cell_type": "code",
   "execution_count": 16,
   "metadata": {},
   "outputs": [
    {
     "data": {
      "text/plain": [
       "1"
      ]
     },
     "execution_count": 16,
     "metadata": {},
     "output_type": "execute_result"
    }
   ],
   "source": [
    "move_df.get_users_number()"
   ]
  },
  {
   "cell_type": "markdown",
   "metadata": {},
   "source": [
    "#### 3. Transform our data to\n",
    "\n",
    "#### a. Numpy"
   ]
  },
  {
   "cell_type": "code",
   "execution_count": 17,
   "metadata": {},
   "outputs": [
    {
     "data": {
      "text/plain": [
       "array([[39.984094, 116.319236, Timestamp('2008-10-23 05:53:05'), 1],\n",
       "       [39.984198, 116.319322, Timestamp('2008-10-23 05:53:06'), 1],\n",
       "       [39.984224, 116.319402, Timestamp('2008-10-23 05:53:11'), 1],\n",
       "       ...,\n",
       "       [39.999945000000004, 116.327394, Timestamp('2009-03-19 05:46:12'),\n",
       "        5],\n",
       "       [40.000015000000005, 116.32743300000001,\n",
       "        Timestamp('2009-03-19 05:46:17'), 5],\n",
       "       [39.999978000000006, 116.32746000000002,\n",
       "        Timestamp('2009-03-19 05:46:37'), 5]], dtype=object)"
      ]
     },
     "execution_count": 17,
     "metadata": {},
     "output_type": "execute_result"
    }
   ],
   "source": [
    "move_df.to_numpy()"
   ]
  },
  {
   "cell_type": "markdown",
   "metadata": {},
   "source": [
    "#### b. Dicts"
   ]
  },
  {
   "cell_type": "code",
   "execution_count": 18,
   "metadata": {},
   "outputs": [
    {
     "data": {
      "text/plain": [
       "{'name': 'to_dict',\n",
       " 'time in seconds': 0.6879103183746338,\n",
       " 'memory': '116.1 MiB'}"
      ]
     },
     "execution_count": 18,
     "metadata": {},
     "output_type": "execute_result"
    }
   ],
   "source": [
    "move_df.to_dict();\n",
    "move_df.last_operation"
   ]
  },
  {
   "cell_type": "markdown",
   "metadata": {},
   "source": [
    "#### c. DataFrames"
   ]
  },
  {
   "cell_type": "code",
   "execution_count": 19,
   "metadata": {},
   "outputs": [
    {
     "data": {
      "text/html": [
       "<div>\n",
       "<style scoped>\n",
       "    .dataframe tbody tr th:only-of-type {\n",
       "        vertical-align: middle;\n",
       "    }\n",
       "\n",
       "    .dataframe tbody tr th {\n",
       "        vertical-align: top;\n",
       "    }\n",
       "\n",
       "    .dataframe thead th {\n",
       "        text-align: right;\n",
       "    }\n",
       "</style>\n",
       "<table border=\"1\" class=\"dataframe\">\n",
       "  <thead>\n",
       "    <tr style=\"text-align: right;\">\n",
       "      <th></th>\n",
       "      <th>lat</th>\n",
       "      <th>lon</th>\n",
       "      <th>datetime</th>\n",
       "      <th>id</th>\n",
       "    </tr>\n",
       "  </thead>\n",
       "  <tbody>\n",
       "    <tr>\n",
       "      <th>0</th>\n",
       "      <td>39.984094</td>\n",
       "      <td>116.319236</td>\n",
       "      <td>2008-10-23 05:53:05</td>\n",
       "      <td>1</td>\n",
       "    </tr>\n",
       "    <tr>\n",
       "      <th>1</th>\n",
       "      <td>39.984198</td>\n",
       "      <td>116.319322</td>\n",
       "      <td>2008-10-23 05:53:06</td>\n",
       "      <td>1</td>\n",
       "    </tr>\n",
       "    <tr>\n",
       "      <th>2</th>\n",
       "      <td>39.984224</td>\n",
       "      <td>116.319402</td>\n",
       "      <td>2008-10-23 05:53:11</td>\n",
       "      <td>1</td>\n",
       "    </tr>\n",
       "    <tr>\n",
       "      <th>3</th>\n",
       "      <td>39.984211</td>\n",
       "      <td>116.319389</td>\n",
       "      <td>2008-10-23 05:53:16</td>\n",
       "      <td>1</td>\n",
       "    </tr>\n",
       "    <tr>\n",
       "      <th>4</th>\n",
       "      <td>39.984217</td>\n",
       "      <td>116.319422</td>\n",
       "      <td>2008-10-23 05:53:21</td>\n",
       "      <td>1</td>\n",
       "    </tr>\n",
       "    <tr>\n",
       "      <th>...</th>\n",
       "      <td>...</td>\n",
       "      <td>...</td>\n",
       "      <td>...</td>\n",
       "      <td>...</td>\n",
       "    </tr>\n",
       "    <tr>\n",
       "      <th>217648</th>\n",
       "      <td>39.999896</td>\n",
       "      <td>116.327290</td>\n",
       "      <td>2009-03-19 05:46:02</td>\n",
       "      <td>5</td>\n",
       "    </tr>\n",
       "    <tr>\n",
       "      <th>217649</th>\n",
       "      <td>39.999899</td>\n",
       "      <td>116.327352</td>\n",
       "      <td>2009-03-19 05:46:07</td>\n",
       "      <td>5</td>\n",
       "    </tr>\n",
       "    <tr>\n",
       "      <th>217650</th>\n",
       "      <td>39.999945</td>\n",
       "      <td>116.327394</td>\n",
       "      <td>2009-03-19 05:46:12</td>\n",
       "      <td>5</td>\n",
       "    </tr>\n",
       "    <tr>\n",
       "      <th>217651</th>\n",
       "      <td>40.000015</td>\n",
       "      <td>116.327433</td>\n",
       "      <td>2009-03-19 05:46:17</td>\n",
       "      <td>5</td>\n",
       "    </tr>\n",
       "    <tr>\n",
       "      <th>217652</th>\n",
       "      <td>39.999978</td>\n",
       "      <td>116.327460</td>\n",
       "      <td>2009-03-19 05:46:37</td>\n",
       "      <td>5</td>\n",
       "    </tr>\n",
       "  </tbody>\n",
       "</table>\n",
       "<p>217653 rows × 4 columns</p>\n",
       "</div>"
      ],
      "text/plain": [
       "              lat         lon            datetime  id\n",
       "0       39.984094  116.319236 2008-10-23 05:53:05   1\n",
       "1       39.984198  116.319322 2008-10-23 05:53:06   1\n",
       "2       39.984224  116.319402 2008-10-23 05:53:11   1\n",
       "3       39.984211  116.319389 2008-10-23 05:53:16   1\n",
       "4       39.984217  116.319422 2008-10-23 05:53:21   1\n",
       "...           ...         ...                 ...  ..\n",
       "217648  39.999896  116.327290 2009-03-19 05:46:02   5\n",
       "217649  39.999899  116.327352 2009-03-19 05:46:07   5\n",
       "217650  39.999945  116.327394 2009-03-19 05:46:12   5\n",
       "217651  40.000015  116.327433 2009-03-19 05:46:17   5\n",
       "217652  39.999978  116.327460 2009-03-19 05:46:37   5\n",
       "\n",
       "[217653 rows x 4 columns]"
      ]
     },
     "execution_count": 19,
     "metadata": {},
     "output_type": "execute_result"
    }
   ],
   "source": [
    "move_df.to_data_frame()"
   ]
  },
  {
   "cell_type": "markdown",
   "metadata": {},
   "source": [
    "#### 4. And even switch from a Pandas to Dask and back again!"
   ]
  },
  {
   "cell_type": "code",
   "execution_count": 20,
   "metadata": {},
   "outputs": [
    {
     "name": "stdout",
     "output_type": "stream",
     "text": [
      "<class 'pymove.core.dask.DaskMoveDataFrame'>\n",
      "<class 'pymove.core.pandas.PandasMoveDataFrame'>\n"
     ]
    }
   ],
   "source": [
    "new_move = move_df.convert_to('dask')\n",
    "print(type(new_move))\n",
    "move_df = new_move.convert_to('pandas')\n",
    "print(type(move_df))"
   ]
  },
  {
   "cell_type": "markdown",
   "metadata": {},
   "source": [
    "#### 5. You can also write files with"
   ]
  },
  {
   "cell_type": "code",
   "execution_count": 21,
   "metadata": {},
   "outputs": [],
   "source": [
    "move_df.write_file('move_df_write_file.txt')"
   ]
  },
  {
   "cell_type": "markdown",
   "metadata": {},
   "source": [
    "#### or"
   ]
  },
  {
   "cell_type": "code",
   "execution_count": 22,
   "metadata": {},
   "outputs": [],
   "source": [
    "move_df.to_csv('move_data.csv')"
   ]
  },
  {
   "cell_type": "markdown",
   "metadata": {},
   "source": [
    "#### 6. Create a virtual grid "
   ]
  },
  {
   "cell_type": "code",
   "execution_count": 23,
   "metadata": {},
   "outputs": [
    {
     "name": "stdout",
     "output_type": "stream",
     "text": [
      "\n",
      "Creating a virtual grid without polygons\n",
      "...cell size by degree: 7.218478943256657e-05\n",
      "...grid_size_lat_y:262999\n",
      "grid_size_lon_x:105388\n",
      "\n",
      "..A virtual grid was created\n"
     ]
    },
    {
     "data": {
      "text/plain": [
       "<pymove.core.grid.Grid at 0x7fa27eb25650>"
      ]
     },
     "execution_count": 23,
     "metadata": {},
     "output_type": "execute_result"
    }
   ],
   "source": [
    "move_df.to_grid(8)"
   ]
  },
  {
   "cell_type": "markdown",
   "metadata": {},
   "source": [
    "#### 7. Get data bound box"
   ]
  },
  {
   "cell_type": "code",
   "execution_count": 24,
   "metadata": {},
   "outputs": [
    {
     "data": {
      "text/plain": [
       "(22.147577, 113.54884299999999, 41.132062, 121.156224)"
      ]
     },
     "execution_count": 24,
     "metadata": {},
     "output_type": "execute_result"
    }
   ],
   "source": [
    "move_df.get_bbox()"
   ]
  },
  {
   "cell_type": "markdown",
   "metadata": {},
   "source": [
    "#### 8. Create new columns:\n",
    "\n",
    "#### a. `tid`: trajectory id based on Id and datetime"
   ]
  },
  {
   "cell_type": "code",
   "execution_count": 25,
   "metadata": {},
   "outputs": [
    {
     "name": "stdout",
     "output_type": "stream",
     "text": [
      "\n",
      "Creating or updating tid feature...\n",
      "\n",
      "...Sorting by id and datetime to increase performance\n",
      "\n",
      "\n",
      "...tid feature was created...\n",
      "\n"
     ]
    },
    {
     "data": {
      "text/html": [
       "<div>\n",
       "<style scoped>\n",
       "    .dataframe tbody tr th:only-of-type {\n",
       "        vertical-align: middle;\n",
       "    }\n",
       "\n",
       "    .dataframe tbody tr th {\n",
       "        vertical-align: top;\n",
       "    }\n",
       "\n",
       "    .dataframe thead th {\n",
       "        text-align: right;\n",
       "    }\n",
       "</style>\n",
       "<table border=\"1\" class=\"dataframe\">\n",
       "  <thead>\n",
       "    <tr style=\"text-align: right;\">\n",
       "      <th></th>\n",
       "      <th>lat</th>\n",
       "      <th>lon</th>\n",
       "      <th>datetime</th>\n",
       "      <th>id</th>\n",
       "      <th>tid</th>\n",
       "    </tr>\n",
       "  </thead>\n",
       "  <tbody>\n",
       "    <tr>\n",
       "      <th>0</th>\n",
       "      <td>39.984094</td>\n",
       "      <td>116.319236</td>\n",
       "      <td>2008-10-23 05:53:05</td>\n",
       "      <td>1</td>\n",
       "      <td>12008102305</td>\n",
       "    </tr>\n",
       "    <tr>\n",
       "      <th>1</th>\n",
       "      <td>39.984198</td>\n",
       "      <td>116.319322</td>\n",
       "      <td>2008-10-23 05:53:06</td>\n",
       "      <td>1</td>\n",
       "      <td>12008102305</td>\n",
       "    </tr>\n",
       "    <tr>\n",
       "      <th>2</th>\n",
       "      <td>39.984224</td>\n",
       "      <td>116.319402</td>\n",
       "      <td>2008-10-23 05:53:11</td>\n",
       "      <td>1</td>\n",
       "      <td>12008102305</td>\n",
       "    </tr>\n",
       "    <tr>\n",
       "      <th>3</th>\n",
       "      <td>39.984211</td>\n",
       "      <td>116.319389</td>\n",
       "      <td>2008-10-23 05:53:16</td>\n",
       "      <td>1</td>\n",
       "      <td>12008102305</td>\n",
       "    </tr>\n",
       "    <tr>\n",
       "      <th>4</th>\n",
       "      <td>39.984217</td>\n",
       "      <td>116.319422</td>\n",
       "      <td>2008-10-23 05:53:21</td>\n",
       "      <td>1</td>\n",
       "      <td>12008102305</td>\n",
       "    </tr>\n",
       "  </tbody>\n",
       "</table>\n",
       "</div>"
      ],
      "text/plain": [
       "         lat         lon            datetime  id          tid\n",
       "0  39.984094  116.319236 2008-10-23 05:53:05   1  12008102305\n",
       "1  39.984198  116.319322 2008-10-23 05:53:06   1  12008102305\n",
       "2  39.984224  116.319402 2008-10-23 05:53:11   1  12008102305\n",
       "3  39.984211  116.319389 2008-10-23 05:53:16   1  12008102305\n",
       "4  39.984217  116.319422 2008-10-23 05:53:21   1  12008102305"
      ]
     },
     "execution_count": 25,
     "metadata": {},
     "output_type": "execute_result"
    }
   ],
   "source": [
    "move_df.generate_tid_based_on_id_datetime()\n",
    "move_df.head()"
   ]
  },
  {
   "cell_type": "markdown",
   "metadata": {},
   "source": [
    "#### b. `date`: extract date on datetime"
   ]
  },
  {
   "cell_type": "code",
   "execution_count": 26,
   "metadata": {},
   "outputs": [
    {
     "name": "stdout",
     "output_type": "stream",
     "text": [
      "Creating date features...\n",
      "..Date features was created...\n",
      "\n"
     ]
    },
    {
     "data": {
      "text/html": [
       "<div>\n",
       "<style scoped>\n",
       "    .dataframe tbody tr th:only-of-type {\n",
       "        vertical-align: middle;\n",
       "    }\n",
       "\n",
       "    .dataframe tbody tr th {\n",
       "        vertical-align: top;\n",
       "    }\n",
       "\n",
       "    .dataframe thead th {\n",
       "        text-align: right;\n",
       "    }\n",
       "</style>\n",
       "<table border=\"1\" class=\"dataframe\">\n",
       "  <thead>\n",
       "    <tr style=\"text-align: right;\">\n",
       "      <th></th>\n",
       "      <th>lat</th>\n",
       "      <th>lon</th>\n",
       "      <th>datetime</th>\n",
       "      <th>id</th>\n",
       "      <th>tid</th>\n",
       "      <th>date</th>\n",
       "    </tr>\n",
       "  </thead>\n",
       "  <tbody>\n",
       "    <tr>\n",
       "      <th>0</th>\n",
       "      <td>39.984094</td>\n",
       "      <td>116.319236</td>\n",
       "      <td>2008-10-23 05:53:05</td>\n",
       "      <td>1</td>\n",
       "      <td>12008102305</td>\n",
       "      <td>2008-10-23</td>\n",
       "    </tr>\n",
       "    <tr>\n",
       "      <th>1</th>\n",
       "      <td>39.984198</td>\n",
       "      <td>116.319322</td>\n",
       "      <td>2008-10-23 05:53:06</td>\n",
       "      <td>1</td>\n",
       "      <td>12008102305</td>\n",
       "      <td>2008-10-23</td>\n",
       "    </tr>\n",
       "    <tr>\n",
       "      <th>2</th>\n",
       "      <td>39.984224</td>\n",
       "      <td>116.319402</td>\n",
       "      <td>2008-10-23 05:53:11</td>\n",
       "      <td>1</td>\n",
       "      <td>12008102305</td>\n",
       "      <td>2008-10-23</td>\n",
       "    </tr>\n",
       "    <tr>\n",
       "      <th>3</th>\n",
       "      <td>39.984211</td>\n",
       "      <td>116.319389</td>\n",
       "      <td>2008-10-23 05:53:16</td>\n",
       "      <td>1</td>\n",
       "      <td>12008102305</td>\n",
       "      <td>2008-10-23</td>\n",
       "    </tr>\n",
       "    <tr>\n",
       "      <th>4</th>\n",
       "      <td>39.984217</td>\n",
       "      <td>116.319422</td>\n",
       "      <td>2008-10-23 05:53:21</td>\n",
       "      <td>1</td>\n",
       "      <td>12008102305</td>\n",
       "      <td>2008-10-23</td>\n",
       "    </tr>\n",
       "  </tbody>\n",
       "</table>\n",
       "</div>"
      ],
      "text/plain": [
       "         lat         lon            datetime  id          tid        date\n",
       "0  39.984094  116.319236 2008-10-23 05:53:05   1  12008102305  2008-10-23\n",
       "1  39.984198  116.319322 2008-10-23 05:53:06   1  12008102305  2008-10-23\n",
       "2  39.984224  116.319402 2008-10-23 05:53:11   1  12008102305  2008-10-23\n",
       "3  39.984211  116.319389 2008-10-23 05:53:16   1  12008102305  2008-10-23\n",
       "4  39.984217  116.319422 2008-10-23 05:53:21   1  12008102305  2008-10-23"
      ]
     },
     "execution_count": 26,
     "metadata": {},
     "output_type": "execute_result"
    }
   ],
   "source": [
    "move_df.generate_date_features()\n",
    "move_df.head()"
   ]
  },
  {
   "cell_type": "markdown",
   "metadata": {},
   "source": [
    "#### c. `hour`: extract hour on datetime"
   ]
  },
  {
   "cell_type": "code",
   "execution_count": 27,
   "metadata": {},
   "outputs": [
    {
     "name": "stdout",
     "output_type": "stream",
     "text": [
      "\n",
      "Creating or updating a feature for hour...\n",
      "\n",
      "...Hour feature was created...\n",
      "\n"
     ]
    },
    {
     "data": {
      "text/html": [
       "<div>\n",
       "<style scoped>\n",
       "    .dataframe tbody tr th:only-of-type {\n",
       "        vertical-align: middle;\n",
       "    }\n",
       "\n",
       "    .dataframe tbody tr th {\n",
       "        vertical-align: top;\n",
       "    }\n",
       "\n",
       "    .dataframe thead th {\n",
       "        text-align: right;\n",
       "    }\n",
       "</style>\n",
       "<table border=\"1\" class=\"dataframe\">\n",
       "  <thead>\n",
       "    <tr style=\"text-align: right;\">\n",
       "      <th></th>\n",
       "      <th>lat</th>\n",
       "      <th>lon</th>\n",
       "      <th>datetime</th>\n",
       "      <th>id</th>\n",
       "      <th>tid</th>\n",
       "      <th>date</th>\n",
       "      <th>hour</th>\n",
       "    </tr>\n",
       "  </thead>\n",
       "  <tbody>\n",
       "    <tr>\n",
       "      <th>0</th>\n",
       "      <td>39.984094</td>\n",
       "      <td>116.319236</td>\n",
       "      <td>2008-10-23 05:53:05</td>\n",
       "      <td>1</td>\n",
       "      <td>12008102305</td>\n",
       "      <td>2008-10-23</td>\n",
       "      <td>5</td>\n",
       "    </tr>\n",
       "    <tr>\n",
       "      <th>1</th>\n",
       "      <td>39.984198</td>\n",
       "      <td>116.319322</td>\n",
       "      <td>2008-10-23 05:53:06</td>\n",
       "      <td>1</td>\n",
       "      <td>12008102305</td>\n",
       "      <td>2008-10-23</td>\n",
       "      <td>5</td>\n",
       "    </tr>\n",
       "    <tr>\n",
       "      <th>2</th>\n",
       "      <td>39.984224</td>\n",
       "      <td>116.319402</td>\n",
       "      <td>2008-10-23 05:53:11</td>\n",
       "      <td>1</td>\n",
       "      <td>12008102305</td>\n",
       "      <td>2008-10-23</td>\n",
       "      <td>5</td>\n",
       "    </tr>\n",
       "    <tr>\n",
       "      <th>3</th>\n",
       "      <td>39.984211</td>\n",
       "      <td>116.319389</td>\n",
       "      <td>2008-10-23 05:53:16</td>\n",
       "      <td>1</td>\n",
       "      <td>12008102305</td>\n",
       "      <td>2008-10-23</td>\n",
       "      <td>5</td>\n",
       "    </tr>\n",
       "    <tr>\n",
       "      <th>4</th>\n",
       "      <td>39.984217</td>\n",
       "      <td>116.319422</td>\n",
       "      <td>2008-10-23 05:53:21</td>\n",
       "      <td>1</td>\n",
       "      <td>12008102305</td>\n",
       "      <td>2008-10-23</td>\n",
       "      <td>5</td>\n",
       "    </tr>\n",
       "  </tbody>\n",
       "</table>\n",
       "</div>"
      ],
      "text/plain": [
       "         lat         lon            datetime  id          tid        date  \\\n",
       "0  39.984094  116.319236 2008-10-23 05:53:05   1  12008102305  2008-10-23   \n",
       "1  39.984198  116.319322 2008-10-23 05:53:06   1  12008102305  2008-10-23   \n",
       "2  39.984224  116.319402 2008-10-23 05:53:11   1  12008102305  2008-10-23   \n",
       "3  39.984211  116.319389 2008-10-23 05:53:16   1  12008102305  2008-10-23   \n",
       "4  39.984217  116.319422 2008-10-23 05:53:21   1  12008102305  2008-10-23   \n",
       "\n",
       "   hour  \n",
       "0     5  \n",
       "1     5  \n",
       "2     5  \n",
       "3     5  \n",
       "4     5  "
      ]
     },
     "execution_count": 27,
     "metadata": {},
     "output_type": "execute_result"
    }
   ],
   "source": [
    "move_df.generate_hour_features()\n",
    "move_df.head()"
   ]
  },
  {
   "cell_type": "markdown",
   "metadata": {},
   "source": [
    "#### d. `day`: day of the week from datatime."
   ]
  },
  {
   "cell_type": "code",
   "execution_count": 28,
   "metadata": {},
   "outputs": [
    {
     "name": "stdout",
     "output_type": "stream",
     "text": [
      "\n",
      "Creating or updating day of the week feature...\n",
      "\n",
      "...the day of the week feature was created...\n",
      "\n"
     ]
    },
    {
     "data": {
      "text/html": [
       "<div>\n",
       "<style scoped>\n",
       "    .dataframe tbody tr th:only-of-type {\n",
       "        vertical-align: middle;\n",
       "    }\n",
       "\n",
       "    .dataframe tbody tr th {\n",
       "        vertical-align: top;\n",
       "    }\n",
       "\n",
       "    .dataframe thead th {\n",
       "        text-align: right;\n",
       "    }\n",
       "</style>\n",
       "<table border=\"1\" class=\"dataframe\">\n",
       "  <thead>\n",
       "    <tr style=\"text-align: right;\">\n",
       "      <th></th>\n",
       "      <th>lat</th>\n",
       "      <th>lon</th>\n",
       "      <th>datetime</th>\n",
       "      <th>id</th>\n",
       "      <th>tid</th>\n",
       "      <th>date</th>\n",
       "      <th>hour</th>\n",
       "      <th>day</th>\n",
       "    </tr>\n",
       "  </thead>\n",
       "  <tbody>\n",
       "    <tr>\n",
       "      <th>0</th>\n",
       "      <td>39.984094</td>\n",
       "      <td>116.319236</td>\n",
       "      <td>2008-10-23 05:53:05</td>\n",
       "      <td>1</td>\n",
       "      <td>12008102305</td>\n",
       "      <td>2008-10-23</td>\n",
       "      <td>5</td>\n",
       "      <td>Thursday</td>\n",
       "    </tr>\n",
       "    <tr>\n",
       "      <th>1</th>\n",
       "      <td>39.984198</td>\n",
       "      <td>116.319322</td>\n",
       "      <td>2008-10-23 05:53:06</td>\n",
       "      <td>1</td>\n",
       "      <td>12008102305</td>\n",
       "      <td>2008-10-23</td>\n",
       "      <td>5</td>\n",
       "      <td>Thursday</td>\n",
       "    </tr>\n",
       "    <tr>\n",
       "      <th>2</th>\n",
       "      <td>39.984224</td>\n",
       "      <td>116.319402</td>\n",
       "      <td>2008-10-23 05:53:11</td>\n",
       "      <td>1</td>\n",
       "      <td>12008102305</td>\n",
       "      <td>2008-10-23</td>\n",
       "      <td>5</td>\n",
       "      <td>Thursday</td>\n",
       "    </tr>\n",
       "    <tr>\n",
       "      <th>3</th>\n",
       "      <td>39.984211</td>\n",
       "      <td>116.319389</td>\n",
       "      <td>2008-10-23 05:53:16</td>\n",
       "      <td>1</td>\n",
       "      <td>12008102305</td>\n",
       "      <td>2008-10-23</td>\n",
       "      <td>5</td>\n",
       "      <td>Thursday</td>\n",
       "    </tr>\n",
       "    <tr>\n",
       "      <th>4</th>\n",
       "      <td>39.984217</td>\n",
       "      <td>116.319422</td>\n",
       "      <td>2008-10-23 05:53:21</td>\n",
       "      <td>1</td>\n",
       "      <td>12008102305</td>\n",
       "      <td>2008-10-23</td>\n",
       "      <td>5</td>\n",
       "      <td>Thursday</td>\n",
       "    </tr>\n",
       "  </tbody>\n",
       "</table>\n",
       "</div>"
      ],
      "text/plain": [
       "         lat         lon            datetime  id          tid        date  \\\n",
       "0  39.984094  116.319236 2008-10-23 05:53:05   1  12008102305  2008-10-23   \n",
       "1  39.984198  116.319322 2008-10-23 05:53:06   1  12008102305  2008-10-23   \n",
       "2  39.984224  116.319402 2008-10-23 05:53:11   1  12008102305  2008-10-23   \n",
       "3  39.984211  116.319389 2008-10-23 05:53:16   1  12008102305  2008-10-23   \n",
       "4  39.984217  116.319422 2008-10-23 05:53:21   1  12008102305  2008-10-23   \n",
       "\n",
       "   hour       day  \n",
       "0     5  Thursday  \n",
       "1     5  Thursday  \n",
       "2     5  Thursday  \n",
       "3     5  Thursday  \n",
       "4     5  Thursday  "
      ]
     },
     "execution_count": 28,
     "metadata": {},
     "output_type": "execute_result"
    }
   ],
   "source": [
    "move_df.generate_day_of_the_week_features()\n",
    "move_df.head()"
   ]
  },
  {
   "cell_type": "markdown",
   "metadata": {},
   "source": [
    "#### e. `period`: time of day or period from datatime."
   ]
  },
  {
   "cell_type": "code",
   "execution_count": 29,
   "metadata": {},
   "outputs": [
    {
     "name": "stdout",
     "output_type": "stream",
     "text": [
      "\n",
      "Creating or updating period feature\n",
      "...Early morning from 0H to 6H\n",
      "...Morning from 6H to 12H\n",
      "...Afternoon from 12H to 18H\n",
      "...Evening from 18H to 24H\n",
      "\n",
      "...the period of day feature was created\n"
     ]
    },
    {
     "data": {
      "text/html": [
       "<div>\n",
       "<style scoped>\n",
       "    .dataframe tbody tr th:only-of-type {\n",
       "        vertical-align: middle;\n",
       "    }\n",
       "\n",
       "    .dataframe tbody tr th {\n",
       "        vertical-align: top;\n",
       "    }\n",
       "\n",
       "    .dataframe thead th {\n",
       "        text-align: right;\n",
       "    }\n",
       "</style>\n",
       "<table border=\"1\" class=\"dataframe\">\n",
       "  <thead>\n",
       "    <tr style=\"text-align: right;\">\n",
       "      <th></th>\n",
       "      <th>lat</th>\n",
       "      <th>lon</th>\n",
       "      <th>datetime</th>\n",
       "      <th>id</th>\n",
       "      <th>tid</th>\n",
       "      <th>date</th>\n",
       "      <th>hour</th>\n",
       "      <th>day</th>\n",
       "      <th>period</th>\n",
       "    </tr>\n",
       "  </thead>\n",
       "  <tbody>\n",
       "    <tr>\n",
       "      <th>0</th>\n",
       "      <td>39.984094</td>\n",
       "      <td>116.319236</td>\n",
       "      <td>2008-10-23 05:53:05</td>\n",
       "      <td>1</td>\n",
       "      <td>12008102305</td>\n",
       "      <td>2008-10-23</td>\n",
       "      <td>5</td>\n",
       "      <td>Thursday</td>\n",
       "      <td>Early morning</td>\n",
       "    </tr>\n",
       "    <tr>\n",
       "      <th>1</th>\n",
       "      <td>39.984198</td>\n",
       "      <td>116.319322</td>\n",
       "      <td>2008-10-23 05:53:06</td>\n",
       "      <td>1</td>\n",
       "      <td>12008102305</td>\n",
       "      <td>2008-10-23</td>\n",
       "      <td>5</td>\n",
       "      <td>Thursday</td>\n",
       "      <td>Early morning</td>\n",
       "    </tr>\n",
       "    <tr>\n",
       "      <th>2</th>\n",
       "      <td>39.984224</td>\n",
       "      <td>116.319402</td>\n",
       "      <td>2008-10-23 05:53:11</td>\n",
       "      <td>1</td>\n",
       "      <td>12008102305</td>\n",
       "      <td>2008-10-23</td>\n",
       "      <td>5</td>\n",
       "      <td>Thursday</td>\n",
       "      <td>Early morning</td>\n",
       "    </tr>\n",
       "    <tr>\n",
       "      <th>3</th>\n",
       "      <td>39.984211</td>\n",
       "      <td>116.319389</td>\n",
       "      <td>2008-10-23 05:53:16</td>\n",
       "      <td>1</td>\n",
       "      <td>12008102305</td>\n",
       "      <td>2008-10-23</td>\n",
       "      <td>5</td>\n",
       "      <td>Thursday</td>\n",
       "      <td>Early morning</td>\n",
       "    </tr>\n",
       "    <tr>\n",
       "      <th>4</th>\n",
       "      <td>39.984217</td>\n",
       "      <td>116.319422</td>\n",
       "      <td>2008-10-23 05:53:21</td>\n",
       "      <td>1</td>\n",
       "      <td>12008102305</td>\n",
       "      <td>2008-10-23</td>\n",
       "      <td>5</td>\n",
       "      <td>Thursday</td>\n",
       "      <td>Early morning</td>\n",
       "    </tr>\n",
       "  </tbody>\n",
       "</table>\n",
       "</div>"
      ],
      "text/plain": [
       "         lat         lon            datetime  id          tid        date  \\\n",
       "0  39.984094  116.319236 2008-10-23 05:53:05   1  12008102305  2008-10-23   \n",
       "1  39.984198  116.319322 2008-10-23 05:53:06   1  12008102305  2008-10-23   \n",
       "2  39.984224  116.319402 2008-10-23 05:53:11   1  12008102305  2008-10-23   \n",
       "3  39.984211  116.319389 2008-10-23 05:53:16   1  12008102305  2008-10-23   \n",
       "4  39.984217  116.319422 2008-10-23 05:53:21   1  12008102305  2008-10-23   \n",
       "\n",
       "   hour       day         period  \n",
       "0     5  Thursday  Early morning  \n",
       "1     5  Thursday  Early morning  \n",
       "2     5  Thursday  Early morning  \n",
       "3     5  Thursday  Early morning  \n",
       "4     5  Thursday  Early morning  "
      ]
     },
     "execution_count": 29,
     "metadata": {},
     "output_type": "execute_result"
    }
   ],
   "source": [
    "move_df.generate_time_of_day_features()\n",
    "move_df.head()"
   ]
  },
  {
   "cell_type": "markdown",
   "metadata": {},
   "source": [
    "#### f. `dist_to_prev`, `time_to_prev`, `speed_to_prev`:  create features of distance, time and speed to an GPS point P (lat, lon). "
   ]
  },
  {
   "cell_type": "code",
   "execution_count": 30,
   "metadata": {},
   "outputs": [
    {
     "name": "stdout",
     "output_type": "stream",
     "text": [
      "\n",
      "Creating or updating distance, time and speed features in meters by seconds\n",
      "\n",
      "...Sorting by id and datetime to increase performance\n",
      "\n",
      "...Set id as index to a higher performance\n",
      "\n"
     ]
    },
    {
     "data": {
      "application/vnd.jupyter.widget-view+json": {
       "model_id": "b7b4c97291244e46bc1922a2a4e1cd22",
       "version_major": 2,
       "version_minor": 0
      },
      "text/plain": [
       "VBox(children=(HTML(value=''), IntProgress(value=0, max=2)))"
      ]
     },
     "metadata": {},
     "output_type": "display_data"
    },
    {
     "name": "stdout",
     "output_type": "stream",
     "text": [
      "...Reset index...\n",
      "\n"
     ]
    },
    {
     "data": {
      "text/html": [
       "<div>\n",
       "<style scoped>\n",
       "    .dataframe tbody tr th:only-of-type {\n",
       "        vertical-align: middle;\n",
       "    }\n",
       "\n",
       "    .dataframe tbody tr th {\n",
       "        vertical-align: top;\n",
       "    }\n",
       "\n",
       "    .dataframe thead th {\n",
       "        text-align: right;\n",
       "    }\n",
       "</style>\n",
       "<table border=\"1\" class=\"dataframe\">\n",
       "  <thead>\n",
       "    <tr style=\"text-align: right;\">\n",
       "      <th></th>\n",
       "      <th>id</th>\n",
       "      <th>lat</th>\n",
       "      <th>lon</th>\n",
       "      <th>datetime</th>\n",
       "      <th>dist_to_prev</th>\n",
       "      <th>time_to_prev</th>\n",
       "      <th>speed_to_prev</th>\n",
       "    </tr>\n",
       "  </thead>\n",
       "  <tbody>\n",
       "    <tr>\n",
       "      <th>0</th>\n",
       "      <td>1</td>\n",
       "      <td>39.984094</td>\n",
       "      <td>116.319236</td>\n",
       "      <td>2008-10-23 05:53:05</td>\n",
       "      <td>NaN</td>\n",
       "      <td>NaN</td>\n",
       "      <td>NaN</td>\n",
       "    </tr>\n",
       "    <tr>\n",
       "      <th>1</th>\n",
       "      <td>1</td>\n",
       "      <td>39.984198</td>\n",
       "      <td>116.319322</td>\n",
       "      <td>2008-10-23 05:53:06</td>\n",
       "      <td>13.690153</td>\n",
       "      <td>1.0</td>\n",
       "      <td>13.690153</td>\n",
       "    </tr>\n",
       "    <tr>\n",
       "      <th>2</th>\n",
       "      <td>1</td>\n",
       "      <td>39.984224</td>\n",
       "      <td>116.319402</td>\n",
       "      <td>2008-10-23 05:53:11</td>\n",
       "      <td>7.403788</td>\n",
       "      <td>5.0</td>\n",
       "      <td>1.480758</td>\n",
       "    </tr>\n",
       "    <tr>\n",
       "      <th>3</th>\n",
       "      <td>1</td>\n",
       "      <td>39.984211</td>\n",
       "      <td>116.319389</td>\n",
       "      <td>2008-10-23 05:53:16</td>\n",
       "      <td>1.821083</td>\n",
       "      <td>5.0</td>\n",
       "      <td>0.364217</td>\n",
       "    </tr>\n",
       "    <tr>\n",
       "      <th>4</th>\n",
       "      <td>1</td>\n",
       "      <td>39.984217</td>\n",
       "      <td>116.319422</td>\n",
       "      <td>2008-10-23 05:53:21</td>\n",
       "      <td>2.889671</td>\n",
       "      <td>5.0</td>\n",
       "      <td>0.577934</td>\n",
       "    </tr>\n",
       "  </tbody>\n",
       "</table>\n",
       "</div>"
      ],
      "text/plain": [
       "   id        lat         lon            datetime  dist_to_prev  time_to_prev  \\\n",
       "0   1  39.984094  116.319236 2008-10-23 05:53:05           NaN           NaN   \n",
       "1   1  39.984198  116.319322 2008-10-23 05:53:06     13.690153           1.0   \n",
       "2   1  39.984224  116.319402 2008-10-23 05:53:11      7.403788           5.0   \n",
       "3   1  39.984211  116.319389 2008-10-23 05:53:16      1.821083           5.0   \n",
       "4   1  39.984217  116.319422 2008-10-23 05:53:21      2.889671           5.0   \n",
       "\n",
       "   speed_to_prev  \n",
       "0            NaN  \n",
       "1      13.690153  \n",
       "2       1.480758  \n",
       "3       0.364217  \n",
       "4       0.577934  "
      ]
     },
     "execution_count": 30,
     "metadata": {},
     "output_type": "execute_result"
    }
   ],
   "source": [
    "move_df = orig_df[:]\n",
    "move_df.generate_dist_time_speed_features()\n",
    "move_df.head()"
   ]
  },
  {
   "cell_type": "markdown",
   "metadata": {},
   "source": [
    "#### g. `dist_to_prev`, `dist_to_next`, `dist_prev_to_next` : three distance in meters to an GPS point P (lat, lon)."
   ]
  },
  {
   "cell_type": "code",
   "execution_count": 31,
   "metadata": {},
   "outputs": [
    {
     "name": "stdout",
     "output_type": "stream",
     "text": [
      "\n",
      "Creating or updating distance features in meters...\n",
      "\n",
      "...Sorting by id and datetime to increase performance\n",
      "\n",
      "...Set id as index to a higher performance\n",
      "\n"
     ]
    },
    {
     "data": {
      "application/vnd.jupyter.widget-view+json": {
       "model_id": "2e597891cb3d417293ed3a15ce2f5672",
       "version_major": 2,
       "version_minor": 0
      },
      "text/plain": [
       "VBox(children=(HTML(value=''), IntProgress(value=0, max=2)))"
      ]
     },
     "metadata": {},
     "output_type": "display_data"
    },
    {
     "name": "stdout",
     "output_type": "stream",
     "text": [
      "...Reset index...\n",
      "\n"
     ]
    },
    {
     "data": {
      "text/html": [
       "<div>\n",
       "<style scoped>\n",
       "    .dataframe tbody tr th:only-of-type {\n",
       "        vertical-align: middle;\n",
       "    }\n",
       "\n",
       "    .dataframe tbody tr th {\n",
       "        vertical-align: top;\n",
       "    }\n",
       "\n",
       "    .dataframe thead th {\n",
       "        text-align: right;\n",
       "    }\n",
       "</style>\n",
       "<table border=\"1\" class=\"dataframe\">\n",
       "  <thead>\n",
       "    <tr style=\"text-align: right;\">\n",
       "      <th></th>\n",
       "      <th>id</th>\n",
       "      <th>lat</th>\n",
       "      <th>lon</th>\n",
       "      <th>datetime</th>\n",
       "      <th>dist_to_prev</th>\n",
       "      <th>dist_to_next</th>\n",
       "      <th>dist_prev_to_next</th>\n",
       "    </tr>\n",
       "  </thead>\n",
       "  <tbody>\n",
       "    <tr>\n",
       "      <th>0</th>\n",
       "      <td>1</td>\n",
       "      <td>39.984094</td>\n",
       "      <td>116.319236</td>\n",
       "      <td>2008-10-23 05:53:05</td>\n",
       "      <td>NaN</td>\n",
       "      <td>13.690153</td>\n",
       "      <td>NaN</td>\n",
       "    </tr>\n",
       "    <tr>\n",
       "      <th>1</th>\n",
       "      <td>1</td>\n",
       "      <td>39.984198</td>\n",
       "      <td>116.319322</td>\n",
       "      <td>2008-10-23 05:53:06</td>\n",
       "      <td>13.690153</td>\n",
       "      <td>7.403788</td>\n",
       "      <td>20.223428</td>\n",
       "    </tr>\n",
       "    <tr>\n",
       "      <th>2</th>\n",
       "      <td>1</td>\n",
       "      <td>39.984224</td>\n",
       "      <td>116.319402</td>\n",
       "      <td>2008-10-23 05:53:11</td>\n",
       "      <td>7.403788</td>\n",
       "      <td>1.821083</td>\n",
       "      <td>5.888579</td>\n",
       "    </tr>\n",
       "    <tr>\n",
       "      <th>3</th>\n",
       "      <td>1</td>\n",
       "      <td>39.984211</td>\n",
       "      <td>116.319389</td>\n",
       "      <td>2008-10-23 05:53:16</td>\n",
       "      <td>1.821083</td>\n",
       "      <td>2.889671</td>\n",
       "      <td>1.873356</td>\n",
       "    </tr>\n",
       "    <tr>\n",
       "      <th>4</th>\n",
       "      <td>1</td>\n",
       "      <td>39.984217</td>\n",
       "      <td>116.319422</td>\n",
       "      <td>2008-10-23 05:53:21</td>\n",
       "      <td>2.889671</td>\n",
       "      <td>66.555997</td>\n",
       "      <td>68.727260</td>\n",
       "    </tr>\n",
       "  </tbody>\n",
       "</table>\n",
       "</div>"
      ],
      "text/plain": [
       "   id        lat         lon            datetime  dist_to_prev  dist_to_next  \\\n",
       "0   1  39.984094  116.319236 2008-10-23 05:53:05           NaN     13.690153   \n",
       "1   1  39.984198  116.319322 2008-10-23 05:53:06     13.690153      7.403788   \n",
       "2   1  39.984224  116.319402 2008-10-23 05:53:11      7.403788      1.821083   \n",
       "3   1  39.984211  116.319389 2008-10-23 05:53:16      1.821083      2.889671   \n",
       "4   1  39.984217  116.319422 2008-10-23 05:53:21      2.889671     66.555997   \n",
       "\n",
       "   dist_prev_to_next  \n",
       "0                NaN  \n",
       "1          20.223428  \n",
       "2           5.888579  \n",
       "3           1.873356  \n",
       "4          68.727260  "
      ]
     },
     "execution_count": 31,
     "metadata": {},
     "output_type": "execute_result"
    }
   ],
   "source": [
    "move_df = orig_df[:]\n",
    "move_df.generate_dist_features()\n",
    "move_df.head()"
   ]
  },
  {
   "cell_type": "markdown",
   "metadata": {},
   "source": [
    "#### h. `time_to_prev`, `time_to_next`, `time_prev_to_next` : three time in seconds to an GPS point P (lat, lon)."
   ]
  },
  {
   "cell_type": "code",
   "execution_count": 32,
   "metadata": {},
   "outputs": [
    {
     "name": "stdout",
     "output_type": "stream",
     "text": [
      "\n",
      "Creating or updating time features seconds\n",
      "\n",
      "...Sorting by id and datetime to increase performance\n",
      "\n",
      "...Set id as index to a higher performance\n",
      "\n"
     ]
    },
    {
     "data": {
      "application/vnd.jupyter.widget-view+json": {
       "model_id": "ae010d202a0d463cb8da32218cb5afd4",
       "version_major": 2,
       "version_minor": 0
      },
      "text/plain": [
       "VBox(children=(HTML(value=''), IntProgress(value=0, max=2)))"
      ]
     },
     "metadata": {},
     "output_type": "display_data"
    },
    {
     "name": "stdout",
     "output_type": "stream",
     "text": [
      "...Reset index...\n",
      "\n"
     ]
    },
    {
     "data": {
      "text/html": [
       "<div>\n",
       "<style scoped>\n",
       "    .dataframe tbody tr th:only-of-type {\n",
       "        vertical-align: middle;\n",
       "    }\n",
       "\n",
       "    .dataframe tbody tr th {\n",
       "        vertical-align: top;\n",
       "    }\n",
       "\n",
       "    .dataframe thead th {\n",
       "        text-align: right;\n",
       "    }\n",
       "</style>\n",
       "<table border=\"1\" class=\"dataframe\">\n",
       "  <thead>\n",
       "    <tr style=\"text-align: right;\">\n",
       "      <th></th>\n",
       "      <th>id</th>\n",
       "      <th>lat</th>\n",
       "      <th>lon</th>\n",
       "      <th>datetime</th>\n",
       "      <th>time_to_prev</th>\n",
       "      <th>time_to_next</th>\n",
       "      <th>time_prev_to_next</th>\n",
       "    </tr>\n",
       "  </thead>\n",
       "  <tbody>\n",
       "    <tr>\n",
       "      <th>0</th>\n",
       "      <td>1</td>\n",
       "      <td>39.984094</td>\n",
       "      <td>116.319236</td>\n",
       "      <td>2008-10-23 05:53:05</td>\n",
       "      <td>NaN</td>\n",
       "      <td>1.0</td>\n",
       "      <td>NaN</td>\n",
       "    </tr>\n",
       "    <tr>\n",
       "      <th>1</th>\n",
       "      <td>1</td>\n",
       "      <td>39.984198</td>\n",
       "      <td>116.319322</td>\n",
       "      <td>2008-10-23 05:53:06</td>\n",
       "      <td>1.0</td>\n",
       "      <td>5.0</td>\n",
       "      <td>6.0</td>\n",
       "    </tr>\n",
       "    <tr>\n",
       "      <th>2</th>\n",
       "      <td>1</td>\n",
       "      <td>39.984224</td>\n",
       "      <td>116.319402</td>\n",
       "      <td>2008-10-23 05:53:11</td>\n",
       "      <td>5.0</td>\n",
       "      <td>5.0</td>\n",
       "      <td>10.0</td>\n",
       "    </tr>\n",
       "    <tr>\n",
       "      <th>3</th>\n",
       "      <td>1</td>\n",
       "      <td>39.984211</td>\n",
       "      <td>116.319389</td>\n",
       "      <td>2008-10-23 05:53:16</td>\n",
       "      <td>5.0</td>\n",
       "      <td>5.0</td>\n",
       "      <td>10.0</td>\n",
       "    </tr>\n",
       "    <tr>\n",
       "      <th>4</th>\n",
       "      <td>1</td>\n",
       "      <td>39.984217</td>\n",
       "      <td>116.319422</td>\n",
       "      <td>2008-10-23 05:53:21</td>\n",
       "      <td>5.0</td>\n",
       "      <td>2.0</td>\n",
       "      <td>7.0</td>\n",
       "    </tr>\n",
       "  </tbody>\n",
       "</table>\n",
       "</div>"
      ],
      "text/plain": [
       "   id        lat         lon            datetime  time_to_prev  time_to_next  \\\n",
       "0   1  39.984094  116.319236 2008-10-23 05:53:05           NaN           1.0   \n",
       "1   1  39.984198  116.319322 2008-10-23 05:53:06           1.0           5.0   \n",
       "2   1  39.984224  116.319402 2008-10-23 05:53:11           5.0           5.0   \n",
       "3   1  39.984211  116.319389 2008-10-23 05:53:16           5.0           5.0   \n",
       "4   1  39.984217  116.319422 2008-10-23 05:53:21           5.0           2.0   \n",
       "\n",
       "   time_prev_to_next  \n",
       "0                NaN  \n",
       "1                6.0  \n",
       "2               10.0  \n",
       "3               10.0  \n",
       "4                7.0  "
      ]
     },
     "execution_count": 32,
     "metadata": {},
     "output_type": "execute_result"
    }
   ],
   "source": [
    "move_df = orig_df[:]\n",
    "move_df.generate_time_features()\n",
    "move_df.head()"
   ]
  },
  {
   "cell_type": "markdown",
   "metadata": {},
   "source": [
    "#### i. `speed_to_prev`, `speed_to_next`, `speed_prev_to_next` : three speed in meters by seconds to an GPS point P (lat, lon)."
   ]
  },
  {
   "cell_type": "code",
   "execution_count": 33,
   "metadata": {},
   "outputs": [
    {
     "name": "stdout",
     "output_type": "stream",
     "text": [
      "\n",
      "Creating or updating speed features meters by seconds\n",
      "\n",
      "\n",
      "Creating or updating distance features in meters...\n",
      "\n",
      "...Sorting by id and datetime to increase performance\n",
      "\n",
      "...Set id as index to a higher performance\n",
      "\n"
     ]
    },
    {
     "data": {
      "application/vnd.jupyter.widget-view+json": {
       "model_id": "b22cc07a5f9a467683cc5c62110b3834",
       "version_major": 2,
       "version_minor": 0
      },
      "text/plain": [
       "VBox(children=(HTML(value=''), IntProgress(value=0, max=2)))"
      ]
     },
     "metadata": {},
     "output_type": "display_data"
    },
    {
     "name": "stdout",
     "output_type": "stream",
     "text": [
      "...Reset index...\n",
      "\n",
      "\n",
      "Creating or updating time features seconds\n",
      "\n",
      "...Sorting by id and datetime to increase performance\n",
      "\n",
      "...Set id as index to a higher performance\n",
      "\n"
     ]
    },
    {
     "data": {
      "application/vnd.jupyter.widget-view+json": {
       "model_id": "a019f494ba1e4d839066b4ba53c95759",
       "version_major": 2,
       "version_minor": 0
      },
      "text/plain": [
       "VBox(children=(HTML(value=''), IntProgress(value=0, max=2)))"
      ]
     },
     "metadata": {},
     "output_type": "display_data"
    },
    {
     "name": "stdout",
     "output_type": "stream",
     "text": [
      "...Reset index...\n",
      "\n",
      "...Reset index...\n",
      "\n"
     ]
    },
    {
     "data": {
      "text/html": [
       "<div>\n",
       "<style scoped>\n",
       "    .dataframe tbody tr th:only-of-type {\n",
       "        vertical-align: middle;\n",
       "    }\n",
       "\n",
       "    .dataframe tbody tr th {\n",
       "        vertical-align: top;\n",
       "    }\n",
       "\n",
       "    .dataframe thead th {\n",
       "        text-align: right;\n",
       "    }\n",
       "</style>\n",
       "<table border=\"1\" class=\"dataframe\">\n",
       "  <thead>\n",
       "    <tr style=\"text-align: right;\">\n",
       "      <th></th>\n",
       "      <th>index</th>\n",
       "      <th>lat</th>\n",
       "      <th>lon</th>\n",
       "      <th>datetime</th>\n",
       "      <th>id</th>\n",
       "      <th>speed_to_prev</th>\n",
       "      <th>speed_to_next</th>\n",
       "      <th>speed_prev_to_next</th>\n",
       "    </tr>\n",
       "  </thead>\n",
       "  <tbody>\n",
       "    <tr>\n",
       "      <th>0</th>\n",
       "      <td>0</td>\n",
       "      <td>39.984094</td>\n",
       "      <td>116.319236</td>\n",
       "      <td>2008-10-23 05:53:05</td>\n",
       "      <td>1</td>\n",
       "      <td>NaN</td>\n",
       "      <td>13.690153</td>\n",
       "      <td>NaN</td>\n",
       "    </tr>\n",
       "    <tr>\n",
       "      <th>1</th>\n",
       "      <td>1</td>\n",
       "      <td>39.984198</td>\n",
       "      <td>116.319322</td>\n",
       "      <td>2008-10-23 05:53:06</td>\n",
       "      <td>1</td>\n",
       "      <td>13.690153</td>\n",
       "      <td>1.480758</td>\n",
       "      <td>3.515657</td>\n",
       "    </tr>\n",
       "    <tr>\n",
       "      <th>2</th>\n",
       "      <td>2</td>\n",
       "      <td>39.984224</td>\n",
       "      <td>116.319402</td>\n",
       "      <td>2008-10-23 05:53:11</td>\n",
       "      <td>1</td>\n",
       "      <td>1.480758</td>\n",
       "      <td>0.364217</td>\n",
       "      <td>0.922487</td>\n",
       "    </tr>\n",
       "    <tr>\n",
       "      <th>3</th>\n",
       "      <td>3</td>\n",
       "      <td>39.984211</td>\n",
       "      <td>116.319389</td>\n",
       "      <td>2008-10-23 05:53:16</td>\n",
       "      <td>1</td>\n",
       "      <td>0.364217</td>\n",
       "      <td>0.577934</td>\n",
       "      <td>0.471075</td>\n",
       "    </tr>\n",
       "    <tr>\n",
       "      <th>4</th>\n",
       "      <td>4</td>\n",
       "      <td>39.984217</td>\n",
       "      <td>116.319422</td>\n",
       "      <td>2008-10-23 05:53:21</td>\n",
       "      <td>1</td>\n",
       "      <td>0.577934</td>\n",
       "      <td>33.277998</td>\n",
       "      <td>9.920810</td>\n",
       "    </tr>\n",
       "  </tbody>\n",
       "</table>\n",
       "</div>"
      ],
      "text/plain": [
       "   index        lat         lon            datetime  id  speed_to_prev  \\\n",
       "0      0  39.984094  116.319236 2008-10-23 05:53:05   1            NaN   \n",
       "1      1  39.984198  116.319322 2008-10-23 05:53:06   1      13.690153   \n",
       "2      2  39.984224  116.319402 2008-10-23 05:53:11   1       1.480758   \n",
       "3      3  39.984211  116.319389 2008-10-23 05:53:16   1       0.364217   \n",
       "4      4  39.984217  116.319422 2008-10-23 05:53:21   1       0.577934   \n",
       "\n",
       "   speed_to_next  speed_prev_to_next  \n",
       "0      13.690153                 NaN  \n",
       "1       1.480758            3.515657  \n",
       "2       0.364217            0.922487  \n",
       "3       0.577934            0.471075  \n",
       "4      33.277998            9.920810  "
      ]
     },
     "execution_count": 33,
     "metadata": {},
     "output_type": "execute_result"
    }
   ],
   "source": [
    "move_df = orig_df[:]\n",
    "move_df.generate_speed_features()\n",
    "move_df.head()"
   ]
  },
  {
   "cell_type": "markdown",
   "metadata": {},
   "source": [
    "#### j. `situation`:   column with move and stop points by radius."
   ]
  },
  {
   "cell_type": "code",
   "execution_count": 34,
   "metadata": {},
   "outputs": [
    {
     "name": "stdout",
     "output_type": "stream",
     "text": [
      "\n",
      "Creating or updating distance features in meters...\n",
      "\n",
      "...Sorting by id and datetime to increase performance\n",
      "\n",
      "...Set id as index to a higher performance\n",
      "\n"
     ]
    },
    {
     "data": {
      "application/vnd.jupyter.widget-view+json": {
       "model_id": "ea3549647f444345af0bbd2d90f00316",
       "version_major": 2,
       "version_minor": 0
      },
      "text/plain": [
       "VBox(children=(HTML(value=''), IntProgress(value=0, max=2)))"
      ]
     },
     "metadata": {},
     "output_type": "display_data"
    },
    {
     "name": "stdout",
     "output_type": "stream",
     "text": [
      "...Reset index...\n",
      "\n",
      "\n",
      "Creating or updating features MOVE and STOPS...\n",
      "\n",
      "\n",
      "....There are 14691 stops to this parameters\n",
      "\n"
     ]
    },
    {
     "data": {
      "text/html": [
       "<div>\n",
       "<style scoped>\n",
       "    .dataframe tbody tr th:only-of-type {\n",
       "        vertical-align: middle;\n",
       "    }\n",
       "\n",
       "    .dataframe tbody tr th {\n",
       "        vertical-align: top;\n",
       "    }\n",
       "\n",
       "    .dataframe thead th {\n",
       "        text-align: right;\n",
       "    }\n",
       "</style>\n",
       "<table border=\"1\" class=\"dataframe\">\n",
       "  <thead>\n",
       "    <tr style=\"text-align: right;\">\n",
       "      <th></th>\n",
       "      <th>id</th>\n",
       "      <th>lat</th>\n",
       "      <th>lon</th>\n",
       "      <th>datetime</th>\n",
       "      <th>dist_to_prev</th>\n",
       "      <th>dist_to_next</th>\n",
       "      <th>dist_prev_to_next</th>\n",
       "      <th>situation</th>\n",
       "    </tr>\n",
       "  </thead>\n",
       "  <tbody>\n",
       "    <tr>\n",
       "      <th>0</th>\n",
       "      <td>1</td>\n",
       "      <td>39.984094</td>\n",
       "      <td>116.319236</td>\n",
       "      <td>2008-10-23 05:53:05</td>\n",
       "      <td>NaN</td>\n",
       "      <td>13.690153</td>\n",
       "      <td>NaN</td>\n",
       "      <td>nan</td>\n",
       "    </tr>\n",
       "    <tr>\n",
       "      <th>1</th>\n",
       "      <td>1</td>\n",
       "      <td>39.984198</td>\n",
       "      <td>116.319322</td>\n",
       "      <td>2008-10-23 05:53:06</td>\n",
       "      <td>13.690153</td>\n",
       "      <td>7.403788</td>\n",
       "      <td>20.223428</td>\n",
       "      <td>move</td>\n",
       "    </tr>\n",
       "    <tr>\n",
       "      <th>2</th>\n",
       "      <td>1</td>\n",
       "      <td>39.984224</td>\n",
       "      <td>116.319402</td>\n",
       "      <td>2008-10-23 05:53:11</td>\n",
       "      <td>7.403788</td>\n",
       "      <td>1.821083</td>\n",
       "      <td>5.888579</td>\n",
       "      <td>move</td>\n",
       "    </tr>\n",
       "    <tr>\n",
       "      <th>3</th>\n",
       "      <td>1</td>\n",
       "      <td>39.984211</td>\n",
       "      <td>116.319389</td>\n",
       "      <td>2008-10-23 05:53:16</td>\n",
       "      <td>1.821083</td>\n",
       "      <td>2.889671</td>\n",
       "      <td>1.873356</td>\n",
       "      <td>move</td>\n",
       "    </tr>\n",
       "    <tr>\n",
       "      <th>4</th>\n",
       "      <td>1</td>\n",
       "      <td>39.984217</td>\n",
       "      <td>116.319422</td>\n",
       "      <td>2008-10-23 05:53:21</td>\n",
       "      <td>2.889671</td>\n",
       "      <td>66.555997</td>\n",
       "      <td>68.727260</td>\n",
       "      <td>move</td>\n",
       "    </tr>\n",
       "  </tbody>\n",
       "</table>\n",
       "</div>"
      ],
      "text/plain": [
       "   id        lat         lon            datetime  dist_to_prev  dist_to_next  \\\n",
       "0   1  39.984094  116.319236 2008-10-23 05:53:05           NaN     13.690153   \n",
       "1   1  39.984198  116.319322 2008-10-23 05:53:06     13.690153      7.403788   \n",
       "2   1  39.984224  116.319402 2008-10-23 05:53:11      7.403788      1.821083   \n",
       "3   1  39.984211  116.319389 2008-10-23 05:53:16      1.821083      2.889671   \n",
       "4   1  39.984217  116.319422 2008-10-23 05:53:21      2.889671     66.555997   \n",
       "\n",
       "   dist_prev_to_next situation  \n",
       "0                NaN       nan  \n",
       "1          20.223428      move  \n",
       "2           5.888579      move  \n",
       "3           1.873356      move  \n",
       "4          68.727260      move  "
      ]
     },
     "execution_count": 34,
     "metadata": {},
     "output_type": "execute_result"
    }
   ],
   "source": [
    "move_df = orig_df[:]\n",
    "move_df.generate_move_and_stop_by_radius()\n",
    "move_df.head()"
   ]
  },
  {
   "cell_type": "markdown",
   "metadata": {},
   "source": [
    "#### 9. Get time difference between max and min datetime in trajectory data."
   ]
  },
  {
   "cell_type": "code",
   "execution_count": 35,
   "metadata": {},
   "outputs": [
    {
     "data": {
      "text/plain": [
       "Timedelta('146 days 23:53:32')"
      ]
     },
     "execution_count": 35,
     "metadata": {},
     "output_type": "execute_result"
    }
   ],
   "source": [
    "move_df.time_interval()"
   ]
  },
  {
   "cell_type": "markdown",
   "metadata": {},
   "source": [
    "#### 10. Create views\n",
    "\n",
    "#### a. Plot all features data"
   ]
  },
  {
   "cell_type": "code",
   "execution_count": 36,
   "metadata": {},
   "outputs": [
    {
     "data": {
      "image/png": "[encoded data removed]",
      "text/plain": [
       "<Figure size 1512x1080 with 5 Axes>"
      ]
     },
     "metadata": {
      "needs_background": "light"
     },
     "output_type": "display_data"
    }
   ],
   "source": [
    "move_df.plot_all_features(return_fig=False)"
   ]
  },
  {
   "cell_type": "markdown",
   "metadata": {},
   "source": [
    "#### b. Plot all trajs with scatter plot"
   ]
  },
  {
   "cell_type": "code",
   "execution_count": 37,
   "metadata": {},
   "outputs": [
    {
     "data": {
      "image/png": "[encoded data removed]",
      "text/plain": [
       "<Figure size 720x720 with 1 Axes>"
      ]
     },
     "metadata": {
      "needs_background": "light"
     },
     "output_type": "display_data"
    }
   ],
   "source": [
    "move_df.plot_trajs(return_fig=False)"
   ]
  },
  {
   "cell_type": "markdown",
   "metadata": {},
   "source": [
    "#### c. And plot traj by TID feature"
   ]
  },
  {
   "cell_type": "code",
   "execution_count": 38,
   "metadata": {},
   "outputs": [
    {
     "name": "stdout",
     "output_type": "stream",
     "text": [
      "\n",
      "Creating or updating tid feature...\n",
      "\n",
      "...Sorting by id and datetime to increase performance\n",
      "\n",
      "\n",
      "...tid feature was created...\n",
      "\n",
      "\n",
      "Creating or updating features MOVE and STOPS...\n",
      "\n",
      "\n",
      "....There are 14691 stops to this parameters\n",
      "\n"
     ]
    }
   ],
   "source": [
    "move_df.generate_tid_based_on_id_datetime()\n",
    "move_df.generate_move_and_stop_by_radius()"
   ]
  },
  {
   "cell_type": "code",
   "execution_count": 39,
   "metadata": {
    "scrolled": false
   },
   "outputs": [
    {
     "data": {
      "text/plain": [
       "(     id        lat         lon            datetime  dist_to_prev  \\\n",
       " 0     1  39.984094  116.319236 2008-10-23 05:53:05           NaN   \n",
       " 1     1  39.984198  116.319322 2008-10-23 05:53:06     13.690153   \n",
       " 2     1  39.984224  116.319402 2008-10-23 05:53:11      7.403788   \n",
       " 3     1  39.984211  116.319389 2008-10-23 05:53:16      1.821083   \n",
       " 4     1  39.984217  116.319422 2008-10-23 05:53:21      2.889671   \n",
       " ..   ..        ...         ...                 ...           ...   \n",
       " 109   1  39.979758  116.324513 2008-10-23 05:59:47     10.076360   \n",
       " 110   1  39.979743  116.324668 2008-10-23 05:59:50     13.311761   \n",
       " 111   1  39.979725  116.324794 2008-10-23 05:59:52     10.920875   \n",
       " 112   1  39.979691  116.324938 2008-10-23 05:59:54     12.838857   \n",
       " 113   1  39.979672  116.325033 2008-10-23 05:59:59      8.365701   \n",
       " \n",
       "      dist_to_next  dist_prev_to_next situation          tid  \n",
       " 0       13.690153                NaN       nan  12008102305  \n",
       " 1        7.403788          20.223428      move  12008102305  \n",
       " 2        1.821083           5.888579      move  12008102305  \n",
       " 3        2.889671           1.873356      move  12008102305  \n",
       " 4       66.555997          68.727260      move  12008102305  \n",
       " ..            ...                ...       ...          ...  \n",
       " 109     13.311761          23.378015      move  12008102305  \n",
       " 110     10.920875          24.222306      move  12008102305  \n",
       " 111     12.838857          23.721005      move  12008102305  \n",
       " 112      8.365701          21.199746      move  12008102305  \n",
       " 113     10.656868          18.867725      move  12008102305  \n",
       " \n",
       " [114 rows x 9 columns],\n",
       " <Figure size 720x720 with 1 Axes>)"
      ]
     },
     "execution_count": 39,
     "metadata": {},
     "output_type": "execute_result"
    },
    {
     "data": {
      "image/png": "[encoded data removed]",
      "text/plain": [
       "<Figure size 720x720 with 1 Axes>"
      ]
     },
     "metadata": {
      "needs_background": "light"
     },
     "output_type": "display_data"
    }
   ],
   "source": [
    "move_df.plot_traj_id(\"12008102305\", feature=\"situation\", value=\"stop\")"
   ]
  },
  {
   "cell_type": "markdown",
   "metadata": {},
   "source": [
    "### And that's it! See upcoming notebooks to learn more about what PyMove can do!"
   ]
  }
 ],
 "metadata": {
  "kernelspec": {
   "display_name": "Python 3",
   "language": "python",
   "name": "python3"
  },
  "language_info": {
   "codemirror_mode": {
    "name": "ipython",
    "version": 3
   },
   "file_extension": ".py",
   "mimetype": "text/x-python",
   "name": "python",
   "nbconvert_exporter": "python",
   "pygments_lexer": "ipython3",
   "version": "3.7.7"
  }
 },
 "nbformat": 4,
 "nbformat_minor": 4
}
