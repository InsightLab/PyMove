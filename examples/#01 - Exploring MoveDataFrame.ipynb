{
 "cells": [
  {
   "cell_type": "markdown",
   "metadata": {},
   "source": [
    "# #01 - Exploring MoveDataFrame\n",
    "\n",
    "\n",
    "To work with Pymove you need to import the data into our data structure: **MoveDataFrame**!\n",
    "\n",
    "**MoveDataFrame** is an abstraction that instantiates a new data structure that manipulates the structure the user wants. This is done using the Factory Method design pattern. This structure allows the interface to be implemented using different representations and libraries that manipulate the data.\n",
    "\n",
    "We have an interface that delimits the scope that new implementing classes should have. We currently have two concrete classes that implement this interface: **PandasMoveDataFrame** and **DaskMoveDataFrame** (under construction), which use Pandas and Dask respectively for data manipulation.\n",
    "\n",
    "\n",
    "It works like this: The user instantiating a MoveDataFrame provides a flag telling which library they want to use for manipulating this data.\n",
    "\n",
    "Now that we understand the concept and data structure of PyMove, **hands on!**\n",
    "\n",
    "---\n",
    "\n",
    "### MoveDataFrame\n",
    "\n",
    "A MoveDataFrame must contain the columns:\n",
    "- `lat`: represents the latitude of the point.\n",
    "- `lon`: represents the longitude of the point.\n",
    "- `datetime`: represents the date and time of the point.\n",
    "\n",
    "In addition, the user can enter several other columns as trajectory id. **If the id is not entered, the points are supposed to belong to the same path**.\n",
    "\n",
    "---\n",
    "\n",
    "### Creating a MoveDataFrame\n",
    "\n",
    "A MoveDataFrame can be created by passing a Pandas DataFrame, a list, dict or even reading a file. Look:"
   ]
  },
  {
   "cell_type": "code",
   "execution_count": 1,
   "metadata": {},
   "outputs": [],
   "source": [
    "import pymove\n",
    "from pymove import MoveDataFrame"
   ]
  },
  {
   "cell_type": "markdown",
   "metadata": {},
   "source": [
    "#### From a list"
   ]
  },
  {
   "cell_type": "code",
   "execution_count": 2,
   "metadata": {},
   "outputs": [
    {
     "data": {
      "text/html": [
       "<div>\n",
       "<style scoped>\n",
       "    .dataframe tbody tr th:only-of-type {\n",
       "        vertical-align: middle;\n",
       "    }\n",
       "\n",
       "    .dataframe tbody tr th {\n",
       "        vertical-align: top;\n",
       "    }\n",
       "\n",
       "    .dataframe thead th {\n",
       "        text-align: right;\n",
       "    }\n",
       "</style>\n",
       "<table border=\"1\" class=\"dataframe\">\n",
       "  <thead>\n",
       "    <tr style=\"text-align: right;\">\n",
       "      <th></th>\n",
       "      <th>lat</th>\n",
       "      <th>lon</th>\n",
       "      <th>datetime</th>\n",
       "      <th>id</th>\n",
       "    </tr>\n",
       "  </thead>\n",
       "  <tbody>\n",
       "    <tr>\n",
       "      <th>0</th>\n",
       "      <td>39.984093</td>\n",
       "      <td>116.319237</td>\n",
       "      <td>2008-10-23 05:53:05</td>\n",
       "      <td>1</td>\n",
       "    </tr>\n",
       "    <tr>\n",
       "      <th>1</th>\n",
       "      <td>39.984200</td>\n",
       "      <td>116.319321</td>\n",
       "      <td>2008-10-23 05:53:06</td>\n",
       "      <td>1</td>\n",
       "    </tr>\n",
       "    <tr>\n",
       "      <th>2</th>\n",
       "      <td>39.984222</td>\n",
       "      <td>116.319405</td>\n",
       "      <td>2008-10-23 05:53:11</td>\n",
       "      <td>1</td>\n",
       "    </tr>\n",
       "    <tr>\n",
       "      <th>3</th>\n",
       "      <td>39.984222</td>\n",
       "      <td>116.319405</td>\n",
       "      <td>2008-10-23 05:53:11</td>\n",
       "      <td>1</td>\n",
       "    </tr>\n",
       "    <tr>\n",
       "      <th>4</th>\n",
       "      <td>39.984222</td>\n",
       "      <td>116.319405</td>\n",
       "      <td>2008-10-23 05:53:11</td>\n",
       "      <td>1</td>\n",
       "    </tr>\n",
       "  </tbody>\n",
       "</table>\n",
       "</div>"
      ],
      "text/plain": [
       "         lat         lon            datetime  id\n",
       "0  39.984093  116.319237 2008-10-23 05:53:05   1\n",
       "1  39.984200  116.319321 2008-10-23 05:53:06   1\n",
       "2  39.984222  116.319405 2008-10-23 05:53:11   1\n",
       "3  39.984222  116.319405 2008-10-23 05:53:11   1\n",
       "4  39.984222  116.319405 2008-10-23 05:53:11   1"
      ]
     },
     "execution_count": 2,
     "metadata": {},
     "output_type": "execute_result"
    }
   ],
   "source": [
    "list_data = [[39.984094, 116.319236, '2008-10-23 05:53:05', 1],\n",
    "             [39.984198, 116.319322, '2008-10-23 05:53:06', 1],\n",
    "             [39.984224, 116.319402, '2008-10-23 05:53:11', 1], \n",
    "             [39.984224, 116.319402, '2008-10-23 05:53:11', 1], \n",
    "             [39.984224, 116.319402, '2008-10-23 05:53:11', 1],\n",
    "             [39.984224, 116.319402, '2008-10-23 05:53:11', 1]]\n",
    "move_df = MoveDataFrame(data=list_data, latitude=\"lat\", longitude=\"lon\", datetime=\"datetime\", traj_id=\"id\")\n",
    "move_df.head()"
   ]
  },
  {
   "cell_type": "markdown",
   "metadata": {},
   "source": [
    "#### From a dict"
   ]
  },
  {
   "cell_type": "code",
   "execution_count": 3,
   "metadata": {},
   "outputs": [
    {
     "data": {
      "text/html": [
       "<div>\n",
       "<style scoped>\n",
       "    .dataframe tbody tr th:only-of-type {\n",
       "        vertical-align: middle;\n",
       "    }\n",
       "\n",
       "    .dataframe tbody tr th {\n",
       "        vertical-align: top;\n",
       "    }\n",
       "\n",
       "    .dataframe thead th {\n",
       "        text-align: right;\n",
       "    }\n",
       "</style>\n",
       "<table border=\"1\" class=\"dataframe\">\n",
       "  <thead>\n",
       "    <tr style=\"text-align: right;\">\n",
       "      <th></th>\n",
       "      <th>lat</th>\n",
       "      <th>lon</th>\n",
       "      <th>datetime</th>\n",
       "    </tr>\n",
       "  </thead>\n",
       "  <tbody>\n",
       "    <tr>\n",
       "      <th>0</th>\n",
       "      <td>39.984200</td>\n",
       "      <td>116.319405</td>\n",
       "      <td>2008-10-23 05:53:11</td>\n",
       "    </tr>\n",
       "    <tr>\n",
       "      <th>1</th>\n",
       "      <td>39.984222</td>\n",
       "      <td>116.319321</td>\n",
       "      <td>2008-10-23 05:53:06</td>\n",
       "    </tr>\n",
       "    <tr>\n",
       "      <th>2</th>\n",
       "      <td>39.984093</td>\n",
       "      <td>116.319405</td>\n",
       "      <td>2008-10-23 05:53:06</td>\n",
       "    </tr>\n",
       "  </tbody>\n",
       "</table>\n",
       "</div>"
      ],
      "text/plain": [
       "         lat         lon            datetime\n",
       "0  39.984200  116.319405 2008-10-23 05:53:11\n",
       "1  39.984222  116.319321 2008-10-23 05:53:06\n",
       "2  39.984093  116.319405 2008-10-23 05:53:06"
      ]
     },
     "execution_count": 3,
     "metadata": {},
     "output_type": "execute_result"
    }
   ],
   "source": [
    "dict_data = {\n",
    "    'lat': [39.984198, 39.984224, 39.984094],\n",
    "    'lon': [116.319402, 116.319322, 116.319402],\n",
    "    'datetime': ['2008-10-23 05:53:11', '2008-10-23 05:53:06', '2008-10-23 05:53:06']\n",
    "}\n",
    "\n",
    "move_df = MoveDataFrame(data=dict_data, latitude=\"lat\", longitude=\"lon\", datetime=\"datetime\", traj_id=\"id\")\n",
    "move_df.head()"
   ]
  },
  {
   "cell_type": "markdown",
   "metadata": {},
   "source": [
    "#### From a DataFrame Pandas"
   ]
  },
  {
   "cell_type": "code",
   "execution_count": 4,
   "metadata": {},
   "outputs": [
    {
     "data": {
      "text/html": [
       "<div>\n",
       "<style scoped>\n",
       "    .dataframe tbody tr th:only-of-type {\n",
       "        vertical-align: middle;\n",
       "    }\n",
       "\n",
       "    .dataframe tbody tr th {\n",
       "        vertical-align: top;\n",
       "    }\n",
       "\n",
       "    .dataframe thead th {\n",
       "        text-align: right;\n",
       "    }\n",
       "</style>\n",
       "<table border=\"1\" class=\"dataframe\">\n",
       "  <thead>\n",
       "    <tr style=\"text-align: right;\">\n",
       "      <th></th>\n",
       "      <th>lat</th>\n",
       "      <th>lon</th>\n",
       "      <th>datetime</th>\n",
       "      <th>id</th>\n",
       "    </tr>\n",
       "  </thead>\n",
       "  <tbody>\n",
       "    <tr>\n",
       "      <th>0</th>\n",
       "      <td>39.984093</td>\n",
       "      <td>116.319237</td>\n",
       "      <td>2008-10-23 05:53:05</td>\n",
       "      <td>1</td>\n",
       "    </tr>\n",
       "    <tr>\n",
       "      <th>1</th>\n",
       "      <td>39.984200</td>\n",
       "      <td>116.319321</td>\n",
       "      <td>2008-10-23 05:53:06</td>\n",
       "      <td>1</td>\n",
       "    </tr>\n",
       "    <tr>\n",
       "      <th>2</th>\n",
       "      <td>39.984222</td>\n",
       "      <td>116.319405</td>\n",
       "      <td>2008-10-23 05:53:11</td>\n",
       "      <td>1</td>\n",
       "    </tr>\n",
       "    <tr>\n",
       "      <th>3</th>\n",
       "      <td>39.984211</td>\n",
       "      <td>116.319389</td>\n",
       "      <td>2008-10-23 05:53:16</td>\n",
       "      <td>1</td>\n",
       "    </tr>\n",
       "    <tr>\n",
       "      <th>4</th>\n",
       "      <td>39.984219</td>\n",
       "      <td>116.319420</td>\n",
       "      <td>2008-10-23 05:53:21</td>\n",
       "      <td>1</td>\n",
       "    </tr>\n",
       "  </tbody>\n",
       "</table>\n",
       "</div>"
      ],
      "text/plain": [
       "         lat         lon            datetime  id\n",
       "0  39.984093  116.319237 2008-10-23 05:53:05   1\n",
       "1  39.984200  116.319321 2008-10-23 05:53:06   1\n",
       "2  39.984222  116.319405 2008-10-23 05:53:11   1\n",
       "3  39.984211  116.319389 2008-10-23 05:53:16   1\n",
       "4  39.984219  116.319420 2008-10-23 05:53:21   1"
      ]
     },
     "execution_count": 4,
     "metadata": {},
     "output_type": "execute_result"
    }
   ],
   "source": [
    "import pandas as pd\n",
    "\n",
    "df = pd.read_csv('geolife_sample.csv', parse_dates=['datetime'])\n",
    "move_df = MoveDataFrame(data=df, latitude=\"lat\", longitude=\"lon\", datetime=\"datetime\")\n",
    "\n",
    "move_df.head()"
   ]
  },
  {
   "cell_type": "markdown",
   "metadata": {},
   "source": [
    "#### From a file "
   ]
  },
  {
   "cell_type": "code",
   "execution_count": 5,
   "metadata": {},
   "outputs": [
    {
     "data": {
      "text/html": [
       "<div>\n",
       "<style scoped>\n",
       "    .dataframe tbody tr th:only-of-type {\n",
       "        vertical-align: middle;\n",
       "    }\n",
       "\n",
       "    .dataframe tbody tr th {\n",
       "        vertical-align: top;\n",
       "    }\n",
       "\n",
       "    .dataframe thead th {\n",
       "        text-align: right;\n",
       "    }\n",
       "</style>\n",
       "<table border=\"1\" class=\"dataframe\">\n",
       "  <thead>\n",
       "    <tr style=\"text-align: right;\">\n",
       "      <th></th>\n",
       "      <th>lat</th>\n",
       "      <th>lon</th>\n",
       "      <th>datetime</th>\n",
       "      <th>id</th>\n",
       "    </tr>\n",
       "  </thead>\n",
       "  <tbody>\n",
       "    <tr>\n",
       "      <th>0</th>\n",
       "      <td>39.984093</td>\n",
       "      <td>116.319237</td>\n",
       "      <td>2008-10-23 05:53:05</td>\n",
       "      <td>1</td>\n",
       "    </tr>\n",
       "    <tr>\n",
       "      <th>1</th>\n",
       "      <td>39.984200</td>\n",
       "      <td>116.319321</td>\n",
       "      <td>2008-10-23 05:53:06</td>\n",
       "      <td>1</td>\n",
       "    </tr>\n",
       "    <tr>\n",
       "      <th>2</th>\n",
       "      <td>39.984222</td>\n",
       "      <td>116.319405</td>\n",
       "      <td>2008-10-23 05:53:11</td>\n",
       "      <td>1</td>\n",
       "    </tr>\n",
       "    <tr>\n",
       "      <th>3</th>\n",
       "      <td>39.984211</td>\n",
       "      <td>116.319389</td>\n",
       "      <td>2008-10-23 05:53:16</td>\n",
       "      <td>1</td>\n",
       "    </tr>\n",
       "    <tr>\n",
       "      <th>4</th>\n",
       "      <td>39.984219</td>\n",
       "      <td>116.319420</td>\n",
       "      <td>2008-10-23 05:53:21</td>\n",
       "      <td>1</td>\n",
       "    </tr>\n",
       "  </tbody>\n",
       "</table>\n",
       "</div>"
      ],
      "text/plain": [
       "         lat         lon            datetime  id\n",
       "0  39.984093  116.319237 2008-10-23 05:53:05   1\n",
       "1  39.984200  116.319321 2008-10-23 05:53:06   1\n",
       "2  39.984222  116.319405 2008-10-23 05:53:11   1\n",
       "3  39.984211  116.319389 2008-10-23 05:53:16   1\n",
       "4  39.984219  116.319420 2008-10-23 05:53:21   1"
      ]
     },
     "execution_count": 5,
     "metadata": {},
     "output_type": "execute_result"
    }
   ],
   "source": [
    "move_df = pymove.read_csv('geolife_sample.csv')\n",
    "move_df.head()"
   ]
  },
  {
   "cell_type": "markdown",
   "metadata": {},
   "source": [
    "Cool, huh? The default flag is Pandas. Look that:"
   ]
  },
  {
   "cell_type": "code",
   "execution_count": 6,
   "metadata": {},
   "outputs": [
    {
     "data": {
      "text/plain": [
       "pymove.core.dataframe.PandasMoveDataFrame"
      ]
     },
     "execution_count": 6,
     "metadata": {},
     "output_type": "execute_result"
    }
   ],
   "source": [
    "type(move_df)"
   ]
  },
  {
   "cell_type": "markdown",
   "metadata": {},
   "source": [
    "Let's try creating one with Dask!"
   ]
  },
  {
   "cell_type": "code",
   "execution_count": 7,
   "metadata": {},
   "outputs": [
    {
     "data": {
      "text/html": [
       "<div>\n",
       "<style scoped>\n",
       "    .dataframe tbody tr th:only-of-type {\n",
       "        vertical-align: middle;\n",
       "    }\n",
       "\n",
       "    .dataframe tbody tr th {\n",
       "        vertical-align: top;\n",
       "    }\n",
       "\n",
       "    .dataframe thead th {\n",
       "        text-align: right;\n",
       "    }\n",
       "</style>\n",
       "<table border=\"1\" class=\"dataframe\">\n",
       "  <thead>\n",
       "    <tr style=\"text-align: right;\">\n",
       "      <th></th>\n",
       "      <th>lat</th>\n",
       "      <th>lon</th>\n",
       "      <th>datetime</th>\n",
       "      <th>id</th>\n",
       "    </tr>\n",
       "  </thead>\n",
       "  <tbody>\n",
       "    <tr>\n",
       "      <th>0</th>\n",
       "      <td>39.984093</td>\n",
       "      <td>116.319237</td>\n",
       "      <td>2008-10-23 05:53:05</td>\n",
       "      <td>1</td>\n",
       "    </tr>\n",
       "    <tr>\n",
       "      <th>1</th>\n",
       "      <td>39.984200</td>\n",
       "      <td>116.319321</td>\n",
       "      <td>2008-10-23 05:53:06</td>\n",
       "      <td>1</td>\n",
       "    </tr>\n",
       "    <tr>\n",
       "      <th>2</th>\n",
       "      <td>39.984222</td>\n",
       "      <td>116.319405</td>\n",
       "      <td>2008-10-23 05:53:11</td>\n",
       "      <td>1</td>\n",
       "    </tr>\n",
       "    <tr>\n",
       "      <th>3</th>\n",
       "      <td>39.984211</td>\n",
       "      <td>116.319389</td>\n",
       "      <td>2008-10-23 05:53:16</td>\n",
       "      <td>1</td>\n",
       "    </tr>\n",
       "    <tr>\n",
       "      <th>4</th>\n",
       "      <td>39.984219</td>\n",
       "      <td>116.319420</td>\n",
       "      <td>2008-10-23 05:53:21</td>\n",
       "      <td>1</td>\n",
       "    </tr>\n",
       "  </tbody>\n",
       "</table>\n",
       "</div>"
      ],
      "text/plain": [
       "         lat         lon            datetime  id\n",
       "0  39.984093  116.319237 2008-10-23 05:53:05   1\n",
       "1  39.984200  116.319321 2008-10-23 05:53:06   1\n",
       "2  39.984222  116.319405 2008-10-23 05:53:11   1\n",
       "3  39.984211  116.319389 2008-10-23 05:53:16   1\n",
       "4  39.984219  116.319420 2008-10-23 05:53:21   1"
      ]
     },
     "execution_count": 7,
     "metadata": {},
     "output_type": "execute_result"
    }
   ],
   "source": [
    "move_df = pymove.read_csv('geolife_sample.csv', type_='dask')\n",
    "move_df.head()"
   ]
  },
  {
   "cell_type": "code",
   "execution_count": 8,
   "metadata": {},
   "outputs": [
    {
     "data": {
      "text/plain": [
       "pymove.core.dataframe.DaskMoveDataFrame"
      ]
     },
     "execution_count": 8,
     "metadata": {},
     "output_type": "execute_result"
    }
   ],
   "source": [
    "type(move_df)"
   ]
  },
  {
   "cell_type": "markdown",
   "metadata": {},
   "source": [
    "---\n",
    "\n",
    "### What's in MoveDataFrame?\n",
    "\n",
    "The MoveDataFrame stores the following information:"
   ]
  },
  {
   "cell_type": "code",
   "execution_count": 9,
   "metadata": {},
   "outputs": [],
   "source": [
    "orig_df = pymove.read_csv('geolife_sample.csv')\n",
    "move_df = orig_df[:]"
   ]
  },
  {
   "cell_type": "markdown",
   "metadata": {},
   "source": [
    "#### 1. The kind of data he was instantiated"
   ]
  },
  {
   "cell_type": "code",
   "execution_count": 10,
   "metadata": {},
   "outputs": [
    {
     "data": {
      "text/plain": [
       "'pandas'"
      ]
     },
     "execution_count": 10,
     "metadata": {},
     "output_type": "execute_result"
    }
   ],
   "source": [
    "move_df.get_type()"
   ]
  },
  {
   "cell_type": "code",
   "execution_count": 11,
   "metadata": {},
   "outputs": [
    {
     "data": {
      "text/plain": [
       "Index(['lat', 'lon', 'datetime', 'id'], dtype='object')"
      ]
     },
     "execution_count": 11,
     "metadata": {},
     "output_type": "execute_result"
    }
   ],
   "source": [
    "move_df.columns"
   ]
  },
  {
   "cell_type": "code",
   "execution_count": 12,
   "metadata": {},
   "outputs": [
    {
     "data": {
      "text/plain": [
       "lat                float32\n",
       "lon                float32\n",
       "datetime    datetime64[ns]\n",
       "id                   int64\n",
       "dtype: object"
      ]
     },
     "execution_count": 12,
     "metadata": {},
     "output_type": "execute_result"
    }
   ],
   "source": [
    "move_df.dtypes"
   ]
  },
  {
   "cell_type": "markdown",
   "metadata": {},
   "source": [
    "#### 2. Informações das ultimas operações realizadas: o nome, a memória utilizada e o tempo de duração do processamento"
   ]
  },
  {
   "cell_type": "code",
   "execution_count": 13,
   "metadata": {},
   "outputs": [
    {
     "data": {
      "text/plain": [
       "{'name': 'dtypes', 'time in seconds': 0.0005340576171875, 'memory': '0.0 B'}"
      ]
     },
     "execution_count": 13,
     "metadata": {},
     "output_type": "execute_result"
    }
   ],
   "source": [
    "move_df.last_operation"
   ]
  },
  {
   "cell_type": "markdown",
   "metadata": {},
   "source": [
    "In addition to these attributes, we have some functions that allow us to:\n",
    "\n",
    "#### 1. View trajectory information"
   ]
  },
  {
   "cell_type": "code",
   "execution_count": 14,
   "metadata": {},
   "outputs": [
    {
     "data": {
      "text/plain": [
       "'(22.147577, 113.54884, 41.13206, 121.15623)'"
      ]
     },
     "execution_count": 14,
     "metadata": {},
     "output_type": "execute_result"
    }
   ],
   "source": [
    "\"%s\" % (move_df.get_bbox(),)"
   ]
  },
  {
   "cell_type": "code",
   "execution_count": 15,
   "metadata": {},
   "outputs": [
    {
     "name": "stdout",
     "output_type": "stream",
     "text": [
      "\n",
      "====================== INFORMATION ABOUT DATASET ======================\n",
      "\n",
      "Number of Points: 217653\n",
      "\n",
      "Number of IDs objects: 2\n",
      "\n",
      "Start Date:2009-03-19 05:46:37     End Date:2008-10-23 05:53:05\n",
      "\n",
      "Bounding Box:(22.147577, 113.54884, 41.13206, 121.15623)\n",
      "\n",
      "\n",
      "=======================================================================\n",
      "\n"
     ]
    }
   ],
   "source": [
    "move_df.show_trajectories_info()"
   ]
  },
  {
   "cell_type": "markdown",
   "metadata": {},
   "source": [
    "#### 2. View the number of users"
   ]
  },
  {
   "cell_type": "code",
   "execution_count": 16,
   "metadata": {},
   "outputs": [
    {
     "data": {
      "text/plain": [
       "1"
      ]
     },
     "execution_count": 16,
     "metadata": {},
     "output_type": "execute_result"
    }
   ],
   "source": [
    "move_df.get_users_number()"
   ]
  },
  {
   "cell_type": "markdown",
   "metadata": {},
   "source": [
    "#### 3. Transform our data to\n",
    "\n",
    "#### a. Numpy"
   ]
  },
  {
   "cell_type": "code",
   "execution_count": 17,
   "metadata": {},
   "outputs": [
    {
     "data": {
      "text/plain": [
       "array([[39.984092712402344, 116.3192367553711,\n",
       "        Timestamp('2008-10-23 05:53:05'), 1],\n",
       "       [39.98419952392578, 116.31932067871094,\n",
       "        Timestamp('2008-10-23 05:53:06'), 1],\n",
       "       [39.984222412109375, 116.31940460205078,\n",
       "        Timestamp('2008-10-23 05:53:11'), 1],\n",
       "       ...,\n",
       "       [39.99994659423828, 116.327392578125,\n",
       "        Timestamp('2009-03-19 05:46:12'), 5],\n",
       "       [40.00001525878906, 116.32743072509766,\n",
       "        Timestamp('2009-03-19 05:46:17'), 5],\n",
       "       [39.999977111816406, 116.32746124267578,\n",
       "        Timestamp('2009-03-19 05:46:37'), 5]], dtype=object)"
      ]
     },
     "execution_count": 17,
     "metadata": {},
     "output_type": "execute_result"
    }
   ],
   "source": [
    "move_df.to_numpy()"
   ]
  },
  {
   "cell_type": "markdown",
   "metadata": {},
   "source": [
    "#### b. Dicts"
   ]
  },
  {
   "cell_type": "code",
   "execution_count": 18,
   "metadata": {},
   "outputs": [
    {
     "data": {
      "text/plain": [
       "{'name': 'to_dict',\n",
       " 'time in seconds': 0.8860104084014893,\n",
       " 'memory': '110.9 MiB'}"
      ]
     },
     "execution_count": 18,
     "metadata": {},
     "output_type": "execute_result"
    }
   ],
   "source": [
    "move_df.to_dict();\n",
    "move_df.last_operation"
   ]
  },
  {
   "cell_type": "markdown",
   "metadata": {},
   "source": [
    "#### c. DataFrames"
   ]
  },
  {
   "cell_type": "code",
   "execution_count": 19,
   "metadata": {},
   "outputs": [
    {
     "data": {
      "text/html": [
       "<div>\n",
       "<style scoped>\n",
       "    .dataframe tbody tr th:only-of-type {\n",
       "        vertical-align: middle;\n",
       "    }\n",
       "\n",
       "    .dataframe tbody tr th {\n",
       "        vertical-align: top;\n",
       "    }\n",
       "\n",
       "    .dataframe thead th {\n",
       "        text-align: right;\n",
       "    }\n",
       "</style>\n",
       "<table border=\"1\" class=\"dataframe\">\n",
       "  <thead>\n",
       "    <tr style=\"text-align: right;\">\n",
       "      <th></th>\n",
       "      <th>lat</th>\n",
       "      <th>lon</th>\n",
       "      <th>datetime</th>\n",
       "      <th>id</th>\n",
       "    </tr>\n",
       "  </thead>\n",
       "  <tbody>\n",
       "    <tr>\n",
       "      <th>0</th>\n",
       "      <td>39.984093</td>\n",
       "      <td>116.319237</td>\n",
       "      <td>2008-10-23 05:53:05</td>\n",
       "      <td>1</td>\n",
       "    </tr>\n",
       "    <tr>\n",
       "      <th>1</th>\n",
       "      <td>39.984200</td>\n",
       "      <td>116.319321</td>\n",
       "      <td>2008-10-23 05:53:06</td>\n",
       "      <td>1</td>\n",
       "    </tr>\n",
       "    <tr>\n",
       "      <th>2</th>\n",
       "      <td>39.984222</td>\n",
       "      <td>116.319405</td>\n",
       "      <td>2008-10-23 05:53:11</td>\n",
       "      <td>1</td>\n",
       "    </tr>\n",
       "    <tr>\n",
       "      <th>3</th>\n",
       "      <td>39.984211</td>\n",
       "      <td>116.319389</td>\n",
       "      <td>2008-10-23 05:53:16</td>\n",
       "      <td>1</td>\n",
       "    </tr>\n",
       "    <tr>\n",
       "      <th>4</th>\n",
       "      <td>39.984219</td>\n",
       "      <td>116.319420</td>\n",
       "      <td>2008-10-23 05:53:21</td>\n",
       "      <td>1</td>\n",
       "    </tr>\n",
       "    <tr>\n",
       "      <th>...</th>\n",
       "      <td>...</td>\n",
       "      <td>...</td>\n",
       "      <td>...</td>\n",
       "      <td>...</td>\n",
       "    </tr>\n",
       "    <tr>\n",
       "      <th>217648</th>\n",
       "      <td>39.999897</td>\n",
       "      <td>116.327293</td>\n",
       "      <td>2009-03-19 05:46:02</td>\n",
       "      <td>5</td>\n",
       "    </tr>\n",
       "    <tr>\n",
       "      <th>217649</th>\n",
       "      <td>39.999901</td>\n",
       "      <td>116.327354</td>\n",
       "      <td>2009-03-19 05:46:07</td>\n",
       "      <td>5</td>\n",
       "    </tr>\n",
       "    <tr>\n",
       "      <th>217650</th>\n",
       "      <td>39.999947</td>\n",
       "      <td>116.327393</td>\n",
       "      <td>2009-03-19 05:46:12</td>\n",
       "      <td>5</td>\n",
       "    </tr>\n",
       "    <tr>\n",
       "      <th>217651</th>\n",
       "      <td>40.000015</td>\n",
       "      <td>116.327431</td>\n",
       "      <td>2009-03-19 05:46:17</td>\n",
       "      <td>5</td>\n",
       "    </tr>\n",
       "    <tr>\n",
       "      <th>217652</th>\n",
       "      <td>39.999977</td>\n",
       "      <td>116.327461</td>\n",
       "      <td>2009-03-19 05:46:37</td>\n",
       "      <td>5</td>\n",
       "    </tr>\n",
       "  </tbody>\n",
       "</table>\n",
       "<p>217653 rows × 4 columns</p>\n",
       "</div>"
      ],
      "text/plain": [
       "              lat         lon            datetime  id\n",
       "0       39.984093  116.319237 2008-10-23 05:53:05   1\n",
       "1       39.984200  116.319321 2008-10-23 05:53:06   1\n",
       "2       39.984222  116.319405 2008-10-23 05:53:11   1\n",
       "3       39.984211  116.319389 2008-10-23 05:53:16   1\n",
       "4       39.984219  116.319420 2008-10-23 05:53:21   1\n",
       "...           ...         ...                 ...  ..\n",
       "217648  39.999897  116.327293 2009-03-19 05:46:02   5\n",
       "217649  39.999901  116.327354 2009-03-19 05:46:07   5\n",
       "217650  39.999947  116.327393 2009-03-19 05:46:12   5\n",
       "217651  40.000015  116.327431 2009-03-19 05:46:17   5\n",
       "217652  39.999977  116.327461 2009-03-19 05:46:37   5\n",
       "\n",
       "[217653 rows x 4 columns]"
      ]
     },
     "execution_count": 19,
     "metadata": {},
     "output_type": "execute_result"
    }
   ],
   "source": [
    "move_df.to_data_frame()"
   ]
  },
  {
   "cell_type": "markdown",
   "metadata": {},
   "source": [
    "#### 4. And even switch from a Pandas to Dask and back again!"
   ]
  },
  {
   "cell_type": "code",
   "execution_count": 20,
   "metadata": {},
   "outputs": [
    {
     "name": "stdout",
     "output_type": "stream",
     "text": [
      "<class 'pymove.core.dataframe.DaskMoveDataFrame'>\n",
      "<class 'pymove.core.dataframe.PandasMoveDataFrame'>\n"
     ]
    }
   ],
   "source": [
    "new_move = move_df.convert_to('dask')\n",
    "print(type(new_move))\n",
    "move_df = new_move.convert_to('pandas')\n",
    "print(type(move_df))"
   ]
  },
  {
   "cell_type": "markdown",
   "metadata": {},
   "source": [
    "#### 5. You can also write files with"
   ]
  },
  {
   "cell_type": "code",
   "execution_count": 21,
   "metadata": {},
   "outputs": [],
   "source": [
    "move_df.write_file('move_df_write_file.txt')"
   ]
  },
  {
   "cell_type": "markdown",
   "metadata": {},
   "source": [
    "#### or"
   ]
  },
  {
   "cell_type": "code",
   "execution_count": 22,
   "metadata": {},
   "outputs": [],
   "source": [
    "move_df.to_csv('move_data.csv')"
   ]
  },
  {
   "cell_type": "markdown",
   "metadata": {},
   "source": [
    "#### 6. Create a virtual grid "
   ]
  },
  {
   "cell_type": "code",
   "execution_count": 23,
   "metadata": {},
   "outputs": [
    {
     "name": "stdout",
     "output_type": "stream",
     "text": [
      "\n",
      "Creating a virtual grid without polygons\n",
      "...cell size by degree: 7.218478943256657e-05\n",
      "...grid_size_lat_y:262999\n",
      "grid_size_lon_x:105388\n",
      "\n",
      "..A virtual grid was created\n"
     ]
    },
    {
     "data": {
      "text/plain": [
       "<pymove.core.grid.Grid at 0x7f398c9a4690>"
      ]
     },
     "execution_count": 23,
     "metadata": {},
     "output_type": "execute_result"
    }
   ],
   "source": [
    "move_df.to_grid(8)"
   ]
  },
  {
   "cell_type": "markdown",
   "metadata": {},
   "source": [
    "#### 7. Get data bound box"
   ]
  },
  {
   "cell_type": "code",
   "execution_count": 24,
   "metadata": {},
   "outputs": [
    {
     "data": {
      "text/plain": [
       "(22.147577, 113.54884, 41.13206, 121.15623)"
      ]
     },
     "execution_count": 24,
     "metadata": {},
     "output_type": "execute_result"
    }
   ],
   "source": [
    "move_df.get_bbox()"
   ]
  },
  {
   "cell_type": "markdown",
   "metadata": {},
   "source": [
    "#### 8. Create new columns:\n",
    "\n",
    "#### a. `tid`: trajectory id based on Id and datetime"
   ]
  },
  {
   "cell_type": "code",
   "execution_count": 25,
   "metadata": {},
   "outputs": [
    {
     "name": "stdout",
     "output_type": "stream",
     "text": [
      "\n",
      "Creating or updating tid feature...\n",
      "\n",
      "...Sorting by id and datetime to increase performance\n",
      "\n",
      "\n",
      "...tid feature was created...\n",
      "\n"
     ]
    },
    {
     "data": {
      "text/html": [
       "<div>\n",
       "<style scoped>\n",
       "    .dataframe tbody tr th:only-of-type {\n",
       "        vertical-align: middle;\n",
       "    }\n",
       "\n",
       "    .dataframe tbody tr th {\n",
       "        vertical-align: top;\n",
       "    }\n",
       "\n",
       "    .dataframe thead th {\n",
       "        text-align: right;\n",
       "    }\n",
       "</style>\n",
       "<table border=\"1\" class=\"dataframe\">\n",
       "  <thead>\n",
       "    <tr style=\"text-align: right;\">\n",
       "      <th></th>\n",
       "      <th>lat</th>\n",
       "      <th>lon</th>\n",
       "      <th>datetime</th>\n",
       "      <th>id</th>\n",
       "      <th>tid</th>\n",
       "    </tr>\n",
       "  </thead>\n",
       "  <tbody>\n",
       "    <tr>\n",
       "      <th>0</th>\n",
       "      <td>39.984093</td>\n",
       "      <td>116.319237</td>\n",
       "      <td>2008-10-23 05:53:05</td>\n",
       "      <td>1</td>\n",
       "      <td>12008102305</td>\n",
       "    </tr>\n",
       "    <tr>\n",
       "      <th>1</th>\n",
       "      <td>39.984200</td>\n",
       "      <td>116.319321</td>\n",
       "      <td>2008-10-23 05:53:06</td>\n",
       "      <td>1</td>\n",
       "      <td>12008102305</td>\n",
       "    </tr>\n",
       "    <tr>\n",
       "      <th>2</th>\n",
       "      <td>39.984222</td>\n",
       "      <td>116.319405</td>\n",
       "      <td>2008-10-23 05:53:11</td>\n",
       "      <td>1</td>\n",
       "      <td>12008102305</td>\n",
       "    </tr>\n",
       "    <tr>\n",
       "      <th>3</th>\n",
       "      <td>39.984211</td>\n",
       "      <td>116.319389</td>\n",
       "      <td>2008-10-23 05:53:16</td>\n",
       "      <td>1</td>\n",
       "      <td>12008102305</td>\n",
       "    </tr>\n",
       "    <tr>\n",
       "      <th>4</th>\n",
       "      <td>39.984219</td>\n",
       "      <td>116.319420</td>\n",
       "      <td>2008-10-23 05:53:21</td>\n",
       "      <td>1</td>\n",
       "      <td>12008102305</td>\n",
       "    </tr>\n",
       "  </tbody>\n",
       "</table>\n",
       "</div>"
      ],
      "text/plain": [
       "         lat         lon            datetime  id          tid\n",
       "0  39.984093  116.319237 2008-10-23 05:53:05   1  12008102305\n",
       "1  39.984200  116.319321 2008-10-23 05:53:06   1  12008102305\n",
       "2  39.984222  116.319405 2008-10-23 05:53:11   1  12008102305\n",
       "3  39.984211  116.319389 2008-10-23 05:53:16   1  12008102305\n",
       "4  39.984219  116.319420 2008-10-23 05:53:21   1  12008102305"
      ]
     },
     "execution_count": 25,
     "metadata": {},
     "output_type": "execute_result"
    }
   ],
   "source": [
    "move_df.generate_tid_based_on_id_datetime()\n",
    "move_df.head()"
   ]
  },
  {
   "cell_type": "markdown",
   "metadata": {},
   "source": [
    "#### b. `date`: extract date on datetime"
   ]
  },
  {
   "cell_type": "code",
   "execution_count": 26,
   "metadata": {},
   "outputs": [
    {
     "name": "stdout",
     "output_type": "stream",
     "text": [
      "Creating date features...\n",
      "..Date features was created...\n",
      "\n"
     ]
    },
    {
     "data": {
      "text/html": [
       "<div>\n",
       "<style scoped>\n",
       "    .dataframe tbody tr th:only-of-type {\n",
       "        vertical-align: middle;\n",
       "    }\n",
       "\n",
       "    .dataframe tbody tr th {\n",
       "        vertical-align: top;\n",
       "    }\n",
       "\n",
       "    .dataframe thead th {\n",
       "        text-align: right;\n",
       "    }\n",
       "</style>\n",
       "<table border=\"1\" class=\"dataframe\">\n",
       "  <thead>\n",
       "    <tr style=\"text-align: right;\">\n",
       "      <th></th>\n",
       "      <th>lat</th>\n",
       "      <th>lon</th>\n",
       "      <th>datetime</th>\n",
       "      <th>id</th>\n",
       "      <th>tid</th>\n",
       "      <th>date</th>\n",
       "    </tr>\n",
       "  </thead>\n",
       "  <tbody>\n",
       "    <tr>\n",
       "      <th>0</th>\n",
       "      <td>39.984093</td>\n",
       "      <td>116.319237</td>\n",
       "      <td>2008-10-23 05:53:05</td>\n",
       "      <td>1</td>\n",
       "      <td>12008102305</td>\n",
       "      <td>2008-10-23</td>\n",
       "    </tr>\n",
       "    <tr>\n",
       "      <th>1</th>\n",
       "      <td>39.984200</td>\n",
       "      <td>116.319321</td>\n",
       "      <td>2008-10-23 05:53:06</td>\n",
       "      <td>1</td>\n",
       "      <td>12008102305</td>\n",
       "      <td>2008-10-23</td>\n",
       "    </tr>\n",
       "    <tr>\n",
       "      <th>2</th>\n",
       "      <td>39.984222</td>\n",
       "      <td>116.319405</td>\n",
       "      <td>2008-10-23 05:53:11</td>\n",
       "      <td>1</td>\n",
       "      <td>12008102305</td>\n",
       "      <td>2008-10-23</td>\n",
       "    </tr>\n",
       "    <tr>\n",
       "      <th>3</th>\n",
       "      <td>39.984211</td>\n",
       "      <td>116.319389</td>\n",
       "      <td>2008-10-23 05:53:16</td>\n",
       "      <td>1</td>\n",
       "      <td>12008102305</td>\n",
       "      <td>2008-10-23</td>\n",
       "    </tr>\n",
       "    <tr>\n",
       "      <th>4</th>\n",
       "      <td>39.984219</td>\n",
       "      <td>116.319420</td>\n",
       "      <td>2008-10-23 05:53:21</td>\n",
       "      <td>1</td>\n",
       "      <td>12008102305</td>\n",
       "      <td>2008-10-23</td>\n",
       "    </tr>\n",
       "  </tbody>\n",
       "</table>\n",
       "</div>"
      ],
      "text/plain": [
       "         lat         lon            datetime  id          tid        date\n",
       "0  39.984093  116.319237 2008-10-23 05:53:05   1  12008102305  2008-10-23\n",
       "1  39.984200  116.319321 2008-10-23 05:53:06   1  12008102305  2008-10-23\n",
       "2  39.984222  116.319405 2008-10-23 05:53:11   1  12008102305  2008-10-23\n",
       "3  39.984211  116.319389 2008-10-23 05:53:16   1  12008102305  2008-10-23\n",
       "4  39.984219  116.319420 2008-10-23 05:53:21   1  12008102305  2008-10-23"
      ]
     },
     "execution_count": 26,
     "metadata": {},
     "output_type": "execute_result"
    }
   ],
   "source": [
    "move_df.generate_date_features()\n",
    "move_df.head()"
   ]
  },
  {
   "cell_type": "markdown",
   "metadata": {},
   "source": [
    "#### c. `hour`: extract hour on datetime"
   ]
  },
  {
   "cell_type": "code",
   "execution_count": 27,
   "metadata": {},
   "outputs": [
    {
     "name": "stdout",
     "output_type": "stream",
     "text": [
      "\n",
      "Creating or updating a feature for hour...\n",
      "\n",
      "...Hour feature was created...\n",
      "\n"
     ]
    },
    {
     "data": {
      "text/html": [
       "<div>\n",
       "<style scoped>\n",
       "    .dataframe tbody tr th:only-of-type {\n",
       "        vertical-align: middle;\n",
       "    }\n",
       "\n",
       "    .dataframe tbody tr th {\n",
       "        vertical-align: top;\n",
       "    }\n",
       "\n",
       "    .dataframe thead th {\n",
       "        text-align: right;\n",
       "    }\n",
       "</style>\n",
       "<table border=\"1\" class=\"dataframe\">\n",
       "  <thead>\n",
       "    <tr style=\"text-align: right;\">\n",
       "      <th></th>\n",
       "      <th>lat</th>\n",
       "      <th>lon</th>\n",
       "      <th>datetime</th>\n",
       "      <th>id</th>\n",
       "      <th>tid</th>\n",
       "      <th>date</th>\n",
       "      <th>hour</th>\n",
       "    </tr>\n",
       "  </thead>\n",
       "  <tbody>\n",
       "    <tr>\n",
       "      <th>0</th>\n",
       "      <td>39.984093</td>\n",
       "      <td>116.319237</td>\n",
       "      <td>2008-10-23 05:53:05</td>\n",
       "      <td>1</td>\n",
       "      <td>12008102305</td>\n",
       "      <td>2008-10-23</td>\n",
       "      <td>5</td>\n",
       "    </tr>\n",
       "    <tr>\n",
       "      <th>1</th>\n",
       "      <td>39.984200</td>\n",
       "      <td>116.319321</td>\n",
       "      <td>2008-10-23 05:53:06</td>\n",
       "      <td>1</td>\n",
       "      <td>12008102305</td>\n",
       "      <td>2008-10-23</td>\n",
       "      <td>5</td>\n",
       "    </tr>\n",
       "    <tr>\n",
       "      <th>2</th>\n",
       "      <td>39.984222</td>\n",
       "      <td>116.319405</td>\n",
       "      <td>2008-10-23 05:53:11</td>\n",
       "      <td>1</td>\n",
       "      <td>12008102305</td>\n",
       "      <td>2008-10-23</td>\n",
       "      <td>5</td>\n",
       "    </tr>\n",
       "    <tr>\n",
       "      <th>3</th>\n",
       "      <td>39.984211</td>\n",
       "      <td>116.319389</td>\n",
       "      <td>2008-10-23 05:53:16</td>\n",
       "      <td>1</td>\n",
       "      <td>12008102305</td>\n",
       "      <td>2008-10-23</td>\n",
       "      <td>5</td>\n",
       "    </tr>\n",
       "    <tr>\n",
       "      <th>4</th>\n",
       "      <td>39.984219</td>\n",
       "      <td>116.319420</td>\n",
       "      <td>2008-10-23 05:53:21</td>\n",
       "      <td>1</td>\n",
       "      <td>12008102305</td>\n",
       "      <td>2008-10-23</td>\n",
       "      <td>5</td>\n",
       "    </tr>\n",
       "  </tbody>\n",
       "</table>\n",
       "</div>"
      ],
      "text/plain": [
       "         lat         lon            datetime  id          tid        date  \\\n",
       "0  39.984093  116.319237 2008-10-23 05:53:05   1  12008102305  2008-10-23   \n",
       "1  39.984200  116.319321 2008-10-23 05:53:06   1  12008102305  2008-10-23   \n",
       "2  39.984222  116.319405 2008-10-23 05:53:11   1  12008102305  2008-10-23   \n",
       "3  39.984211  116.319389 2008-10-23 05:53:16   1  12008102305  2008-10-23   \n",
       "4  39.984219  116.319420 2008-10-23 05:53:21   1  12008102305  2008-10-23   \n",
       "\n",
       "   hour  \n",
       "0     5  \n",
       "1     5  \n",
       "2     5  \n",
       "3     5  \n",
       "4     5  "
      ]
     },
     "execution_count": 27,
     "metadata": {},
     "output_type": "execute_result"
    }
   ],
   "source": [
    "move_df.generate_hour_features()\n",
    "move_df.head()"
   ]
  },
  {
   "cell_type": "markdown",
   "metadata": {},
   "source": [
    "#### d. `day`: day of the week from datatime."
   ]
  },
  {
   "cell_type": "code",
   "execution_count": 28,
   "metadata": {},
   "outputs": [
    {
     "name": "stdout",
     "output_type": "stream",
     "text": [
      "\n",
      "Creating or updating day of the week feature...\n",
      "\n",
      "...the day of the week feature was created...\n",
      "\n"
     ]
    },
    {
     "data": {
      "text/html": [
       "<div>\n",
       "<style scoped>\n",
       "    .dataframe tbody tr th:only-of-type {\n",
       "        vertical-align: middle;\n",
       "    }\n",
       "\n",
       "    .dataframe tbody tr th {\n",
       "        vertical-align: top;\n",
       "    }\n",
       "\n",
       "    .dataframe thead th {\n",
       "        text-align: right;\n",
       "    }\n",
       "</style>\n",
       "<table border=\"1\" class=\"dataframe\">\n",
       "  <thead>\n",
       "    <tr style=\"text-align: right;\">\n",
       "      <th></th>\n",
       "      <th>lat</th>\n",
       "      <th>lon</th>\n",
       "      <th>datetime</th>\n",
       "      <th>id</th>\n",
       "      <th>tid</th>\n",
       "      <th>date</th>\n",
       "      <th>hour</th>\n",
       "      <th>day</th>\n",
       "    </tr>\n",
       "  </thead>\n",
       "  <tbody>\n",
       "    <tr>\n",
       "      <th>0</th>\n",
       "      <td>39.984093</td>\n",
       "      <td>116.319237</td>\n",
       "      <td>2008-10-23 05:53:05</td>\n",
       "      <td>1</td>\n",
       "      <td>12008102305</td>\n",
       "      <td>2008-10-23</td>\n",
       "      <td>5</td>\n",
       "      <td>Thursday</td>\n",
       "    </tr>\n",
       "    <tr>\n",
       "      <th>1</th>\n",
       "      <td>39.984200</td>\n",
       "      <td>116.319321</td>\n",
       "      <td>2008-10-23 05:53:06</td>\n",
       "      <td>1</td>\n",
       "      <td>12008102305</td>\n",
       "      <td>2008-10-23</td>\n",
       "      <td>5</td>\n",
       "      <td>Thursday</td>\n",
       "    </tr>\n",
       "    <tr>\n",
       "      <th>2</th>\n",
       "      <td>39.984222</td>\n",
       "      <td>116.319405</td>\n",
       "      <td>2008-10-23 05:53:11</td>\n",
       "      <td>1</td>\n",
       "      <td>12008102305</td>\n",
       "      <td>2008-10-23</td>\n",
       "      <td>5</td>\n",
       "      <td>Thursday</td>\n",
       "    </tr>\n",
       "    <tr>\n",
       "      <th>3</th>\n",
       "      <td>39.984211</td>\n",
       "      <td>116.319389</td>\n",
       "      <td>2008-10-23 05:53:16</td>\n",
       "      <td>1</td>\n",
       "      <td>12008102305</td>\n",
       "      <td>2008-10-23</td>\n",
       "      <td>5</td>\n",
       "      <td>Thursday</td>\n",
       "    </tr>\n",
       "    <tr>\n",
       "      <th>4</th>\n",
       "      <td>39.984219</td>\n",
       "      <td>116.319420</td>\n",
       "      <td>2008-10-23 05:53:21</td>\n",
       "      <td>1</td>\n",
       "      <td>12008102305</td>\n",
       "      <td>2008-10-23</td>\n",
       "      <td>5</td>\n",
       "      <td>Thursday</td>\n",
       "    </tr>\n",
       "  </tbody>\n",
       "</table>\n",
       "</div>"
      ],
      "text/plain": [
       "         lat         lon            datetime  id          tid        date  \\\n",
       "0  39.984093  116.319237 2008-10-23 05:53:05   1  12008102305  2008-10-23   \n",
       "1  39.984200  116.319321 2008-10-23 05:53:06   1  12008102305  2008-10-23   \n",
       "2  39.984222  116.319405 2008-10-23 05:53:11   1  12008102305  2008-10-23   \n",
       "3  39.984211  116.319389 2008-10-23 05:53:16   1  12008102305  2008-10-23   \n",
       "4  39.984219  116.319420 2008-10-23 05:53:21   1  12008102305  2008-10-23   \n",
       "\n",
       "   hour       day  \n",
       "0     5  Thursday  \n",
       "1     5  Thursday  \n",
       "2     5  Thursday  \n",
       "3     5  Thursday  \n",
       "4     5  Thursday  "
      ]
     },
     "execution_count": 28,
     "metadata": {},
     "output_type": "execute_result"
    }
   ],
   "source": [
    "move_df.generate_day_of_the_week_features()\n",
    "move_df.head()"
   ]
  },
  {
   "cell_type": "markdown",
   "metadata": {},
   "source": [
    "#### e. `period`: time of day or period from datatime."
   ]
  },
  {
   "cell_type": "code",
   "execution_count": 29,
   "metadata": {},
   "outputs": [
    {
     "name": "stdout",
     "output_type": "stream",
     "text": [
      "\n",
      "Creating or updating period feature\n",
      "...Early morning from 0H to 6H\n",
      "...Morning from 6H to 12H\n",
      "...Afternoon from 12H to 18H\n",
      "...Evening from 18H to 24H\n",
      "\n",
      "...the period of day feature was created\n"
     ]
    },
    {
     "data": {
      "text/html": [
       "<div>\n",
       "<style scoped>\n",
       "    .dataframe tbody tr th:only-of-type {\n",
       "        vertical-align: middle;\n",
       "    }\n",
       "\n",
       "    .dataframe tbody tr th {\n",
       "        vertical-align: top;\n",
       "    }\n",
       "\n",
       "    .dataframe thead th {\n",
       "        text-align: right;\n",
       "    }\n",
       "</style>\n",
       "<table border=\"1\" class=\"dataframe\">\n",
       "  <thead>\n",
       "    <tr style=\"text-align: right;\">\n",
       "      <th></th>\n",
       "      <th>lat</th>\n",
       "      <th>lon</th>\n",
       "      <th>datetime</th>\n",
       "      <th>id</th>\n",
       "      <th>tid</th>\n",
       "      <th>date</th>\n",
       "      <th>hour</th>\n",
       "      <th>day</th>\n",
       "      <th>period</th>\n",
       "    </tr>\n",
       "  </thead>\n",
       "  <tbody>\n",
       "    <tr>\n",
       "      <th>0</th>\n",
       "      <td>39.984093</td>\n",
       "      <td>116.319237</td>\n",
       "      <td>2008-10-23 05:53:05</td>\n",
       "      <td>1</td>\n",
       "      <td>12008102305</td>\n",
       "      <td>2008-10-23</td>\n",
       "      <td>5</td>\n",
       "      <td>Thursday</td>\n",
       "      <td>Early morning</td>\n",
       "    </tr>\n",
       "    <tr>\n",
       "      <th>1</th>\n",
       "      <td>39.984200</td>\n",
       "      <td>116.319321</td>\n",
       "      <td>2008-10-23 05:53:06</td>\n",
       "      <td>1</td>\n",
       "      <td>12008102305</td>\n",
       "      <td>2008-10-23</td>\n",
       "      <td>5</td>\n",
       "      <td>Thursday</td>\n",
       "      <td>Early morning</td>\n",
       "    </tr>\n",
       "    <tr>\n",
       "      <th>2</th>\n",
       "      <td>39.984222</td>\n",
       "      <td>116.319405</td>\n",
       "      <td>2008-10-23 05:53:11</td>\n",
       "      <td>1</td>\n",
       "      <td>12008102305</td>\n",
       "      <td>2008-10-23</td>\n",
       "      <td>5</td>\n",
       "      <td>Thursday</td>\n",
       "      <td>Early morning</td>\n",
       "    </tr>\n",
       "    <tr>\n",
       "      <th>3</th>\n",
       "      <td>39.984211</td>\n",
       "      <td>116.319389</td>\n",
       "      <td>2008-10-23 05:53:16</td>\n",
       "      <td>1</td>\n",
       "      <td>12008102305</td>\n",
       "      <td>2008-10-23</td>\n",
       "      <td>5</td>\n",
       "      <td>Thursday</td>\n",
       "      <td>Early morning</td>\n",
       "    </tr>\n",
       "    <tr>\n",
       "      <th>4</th>\n",
       "      <td>39.984219</td>\n",
       "      <td>116.319420</td>\n",
       "      <td>2008-10-23 05:53:21</td>\n",
       "      <td>1</td>\n",
       "      <td>12008102305</td>\n",
       "      <td>2008-10-23</td>\n",
       "      <td>5</td>\n",
       "      <td>Thursday</td>\n",
       "      <td>Early morning</td>\n",
       "    </tr>\n",
       "  </tbody>\n",
       "</table>\n",
       "</div>"
      ],
      "text/plain": [
       "         lat         lon            datetime  id          tid        date  \\\n",
       "0  39.984093  116.319237 2008-10-23 05:53:05   1  12008102305  2008-10-23   \n",
       "1  39.984200  116.319321 2008-10-23 05:53:06   1  12008102305  2008-10-23   \n",
       "2  39.984222  116.319405 2008-10-23 05:53:11   1  12008102305  2008-10-23   \n",
       "3  39.984211  116.319389 2008-10-23 05:53:16   1  12008102305  2008-10-23   \n",
       "4  39.984219  116.319420 2008-10-23 05:53:21   1  12008102305  2008-10-23   \n",
       "\n",
       "   hour       day         period  \n",
       "0     5  Thursday  Early morning  \n",
       "1     5  Thursday  Early morning  \n",
       "2     5  Thursday  Early morning  \n",
       "3     5  Thursday  Early morning  \n",
       "4     5  Thursday  Early morning  "
      ]
     },
     "execution_count": 29,
     "metadata": {},
     "output_type": "execute_result"
    }
   ],
   "source": [
    "move_df.generate_time_of_day_features()\n",
    "move_df.head()"
   ]
  },
  {
   "cell_type": "markdown",
   "metadata": {},
   "source": [
    "#### f. `dist_to_prev`, `time_to_prev`, `speed_to_prev`:  create features of distance, time and speed to an GPS point P (lat, lon). "
   ]
  },
  {
   "cell_type": "code",
   "execution_count": 30,
   "metadata": {},
   "outputs": [
    {
     "name": "stdout",
     "output_type": "stream",
     "text": [
      "\n",
      "Creating or updating distance, time and speed features in meters by seconds\n",
      "\n",
      "...Sorting by id and datetime to increase performance\n",
      "\n",
      "...Set id as index to a higher peformance\n",
      "\n"
     ]
    },
    {
     "data": {
      "application/vnd.jupyter.widget-view+json": {
       "model_id": "044bb094a69644e4be1d5fb09abd139c",
       "version_major": 2,
       "version_minor": 0
      },
      "text/plain": [
       "VBox(children=(HTML(value=''), IntProgress(value=0, max=2)))"
      ]
     },
     "metadata": {},
     "output_type": "display_data"
    },
    {
     "name": "stdout",
     "output_type": "stream",
     "text": [
      "...Reset index...\n",
      "\n",
      "..Total Time: 0.227\n"
     ]
    },
    {
     "data": {
      "text/html": [
       "<div>\n",
       "<style scoped>\n",
       "    .dataframe tbody tr th:only-of-type {\n",
       "        vertical-align: middle;\n",
       "    }\n",
       "\n",
       "    .dataframe tbody tr th {\n",
       "        vertical-align: top;\n",
       "    }\n",
       "\n",
       "    .dataframe thead th {\n",
       "        text-align: right;\n",
       "    }\n",
       "</style>\n",
       "<table border=\"1\" class=\"dataframe\">\n",
       "  <thead>\n",
       "    <tr style=\"text-align: right;\">\n",
       "      <th></th>\n",
       "      <th>id</th>\n",
       "      <th>lat</th>\n",
       "      <th>lon</th>\n",
       "      <th>datetime</th>\n",
       "      <th>dist_to_prev</th>\n",
       "      <th>time_to_prev</th>\n",
       "      <th>speed_to_prev</th>\n",
       "    </tr>\n",
       "  </thead>\n",
       "  <tbody>\n",
       "    <tr>\n",
       "      <th>0</th>\n",
       "      <td>1</td>\n",
       "      <td>39.984093</td>\n",
       "      <td>116.319237</td>\n",
       "      <td>2008-10-23 05:53:05</td>\n",
       "      <td>NaN</td>\n",
       "      <td>NaN</td>\n",
       "      <td>NaN</td>\n",
       "    </tr>\n",
       "    <tr>\n",
       "      <th>1</th>\n",
       "      <td>1</td>\n",
       "      <td>39.984200</td>\n",
       "      <td>116.319321</td>\n",
       "      <td>2008-10-23 05:53:06</td>\n",
       "      <td>14.015319</td>\n",
       "      <td>1.0</td>\n",
       "      <td>14.015319</td>\n",
       "    </tr>\n",
       "    <tr>\n",
       "      <th>2</th>\n",
       "      <td>1</td>\n",
       "      <td>39.984222</td>\n",
       "      <td>116.319405</td>\n",
       "      <td>2008-10-23 05:53:11</td>\n",
       "      <td>7.345484</td>\n",
       "      <td>5.0</td>\n",
       "      <td>1.469097</td>\n",
       "    </tr>\n",
       "    <tr>\n",
       "      <th>3</th>\n",
       "      <td>1</td>\n",
       "      <td>39.984211</td>\n",
       "      <td>116.319389</td>\n",
       "      <td>2008-10-23 05:53:16</td>\n",
       "      <td>1.628622</td>\n",
       "      <td>5.0</td>\n",
       "      <td>0.325724</td>\n",
       "    </tr>\n",
       "    <tr>\n",
       "      <th>4</th>\n",
       "      <td>1</td>\n",
       "      <td>39.984219</td>\n",
       "      <td>116.319420</td>\n",
       "      <td>2008-10-23 05:53:21</td>\n",
       "      <td>2.448494</td>\n",
       "      <td>5.0</td>\n",
       "      <td>0.489699</td>\n",
       "    </tr>\n",
       "  </tbody>\n",
       "</table>\n",
       "</div>"
      ],
      "text/plain": [
       "   id        lat         lon            datetime  dist_to_prev  time_to_prev  \\\n",
       "0   1  39.984093  116.319237 2008-10-23 05:53:05           NaN           NaN   \n",
       "1   1  39.984200  116.319321 2008-10-23 05:53:06     14.015319           1.0   \n",
       "2   1  39.984222  116.319405 2008-10-23 05:53:11      7.345484           5.0   \n",
       "3   1  39.984211  116.319389 2008-10-23 05:53:16      1.628622           5.0   \n",
       "4   1  39.984219  116.319420 2008-10-23 05:53:21      2.448494           5.0   \n",
       "\n",
       "   speed_to_prev  \n",
       "0            NaN  \n",
       "1      14.015319  \n",
       "2       1.469097  \n",
       "3       0.325724  \n",
       "4       0.489699  "
      ]
     },
     "execution_count": 30,
     "metadata": {},
     "output_type": "execute_result"
    }
   ],
   "source": [
    "move_df = orig_df[:]\n",
    "move_df.generate_dist_time_speed_features()\n",
    "move_df.head()"
   ]
  },
  {
   "cell_type": "markdown",
   "metadata": {},
   "source": [
    "#### g. `dist_to_prev`, `dist_to_next`, `dist_prev_to_next` : three distance in meters to an GPS point P (lat, lon)."
   ]
  },
  {
   "cell_type": "code",
   "execution_count": 31,
   "metadata": {},
   "outputs": [
    {
     "name": "stdout",
     "output_type": "stream",
     "text": [
      "\n",
      "Creating or updating distance features in meters...\n",
      "\n",
      "...Sorting by id and datetime to increase performance\n",
      "\n",
      "...Set id as index to a higher peformance\n",
      "\n"
     ]
    },
    {
     "data": {
      "application/vnd.jupyter.widget-view+json": {
       "model_id": "8e452d1d2b274d8484c31fc3c809f5fe",
       "version_major": 2,
       "version_minor": 0
      },
      "text/plain": [
       "VBox(children=(HTML(value=''), IntProgress(value=0, max=2)))"
      ]
     },
     "metadata": {},
     "output_type": "display_data"
    },
    {
     "name": "stdout",
     "output_type": "stream",
     "text": [
      "...Reset index...\n",
      "\n",
      "..Total Time: 0.240\n"
     ]
    },
    {
     "data": {
      "text/html": [
       "<div>\n",
       "<style scoped>\n",
       "    .dataframe tbody tr th:only-of-type {\n",
       "        vertical-align: middle;\n",
       "    }\n",
       "\n",
       "    .dataframe tbody tr th {\n",
       "        vertical-align: top;\n",
       "    }\n",
       "\n",
       "    .dataframe thead th {\n",
       "        text-align: right;\n",
       "    }\n",
       "</style>\n",
       "<table border=\"1\" class=\"dataframe\">\n",
       "  <thead>\n",
       "    <tr style=\"text-align: right;\">\n",
       "      <th></th>\n",
       "      <th>id</th>\n",
       "      <th>lat</th>\n",
       "      <th>lon</th>\n",
       "      <th>datetime</th>\n",
       "      <th>dist_to_prev</th>\n",
       "      <th>dist_to_next</th>\n",
       "      <th>dist_prev_to_next</th>\n",
       "    </tr>\n",
       "  </thead>\n",
       "  <tbody>\n",
       "    <tr>\n",
       "      <th>0</th>\n",
       "      <td>1</td>\n",
       "      <td>39.984093</td>\n",
       "      <td>116.319237</td>\n",
       "      <td>2008-10-23 05:53:05</td>\n",
       "      <td>NaN</td>\n",
       "      <td>14.015319</td>\n",
       "      <td>NaN</td>\n",
       "    </tr>\n",
       "    <tr>\n",
       "      <th>1</th>\n",
       "      <td>1</td>\n",
       "      <td>39.984200</td>\n",
       "      <td>116.319321</td>\n",
       "      <td>2008-10-23 05:53:06</td>\n",
       "      <td>14.015319</td>\n",
       "      <td>7.345484</td>\n",
       "      <td>20.082062</td>\n",
       "    </tr>\n",
       "    <tr>\n",
       "      <th>2</th>\n",
       "      <td>1</td>\n",
       "      <td>39.984222</td>\n",
       "      <td>116.319405</td>\n",
       "      <td>2008-10-23 05:53:11</td>\n",
       "      <td>7.345484</td>\n",
       "      <td>1.628622</td>\n",
       "      <td>5.929780</td>\n",
       "    </tr>\n",
       "    <tr>\n",
       "      <th>3</th>\n",
       "      <td>1</td>\n",
       "      <td>39.984211</td>\n",
       "      <td>116.319389</td>\n",
       "      <td>2008-10-23 05:53:16</td>\n",
       "      <td>1.628622</td>\n",
       "      <td>2.448494</td>\n",
       "      <td>1.224247</td>\n",
       "    </tr>\n",
       "    <tr>\n",
       "      <th>4</th>\n",
       "      <td>1</td>\n",
       "      <td>39.984219</td>\n",
       "      <td>116.319420</td>\n",
       "      <td>2008-10-23 05:53:21</td>\n",
       "      <td>2.448494</td>\n",
       "      <td>66.161003</td>\n",
       "      <td>68.115486</td>\n",
       "    </tr>\n",
       "  </tbody>\n",
       "</table>\n",
       "</div>"
      ],
      "text/plain": [
       "   id        lat         lon            datetime  dist_to_prev  dist_to_next  \\\n",
       "0   1  39.984093  116.319237 2008-10-23 05:53:05           NaN     14.015319   \n",
       "1   1  39.984200  116.319321 2008-10-23 05:53:06     14.015319      7.345484   \n",
       "2   1  39.984222  116.319405 2008-10-23 05:53:11      7.345484      1.628622   \n",
       "3   1  39.984211  116.319389 2008-10-23 05:53:16      1.628622      2.448494   \n",
       "4   1  39.984219  116.319420 2008-10-23 05:53:21      2.448494     66.161003   \n",
       "\n",
       "   dist_prev_to_next  \n",
       "0                NaN  \n",
       "1          20.082062  \n",
       "2           5.929780  \n",
       "3           1.224247  \n",
       "4          68.115486  "
      ]
     },
     "execution_count": 31,
     "metadata": {},
     "output_type": "execute_result"
    }
   ],
   "source": [
    "move_df = orig_df[:]\n",
    "move_df.generate_dist_features()\n",
    "move_df.head()"
   ]
  },
  {
   "cell_type": "markdown",
   "metadata": {},
   "source": [
    "#### h. `time_to_prev`, `time_to_next`, `time_prev_to_next` : three time in seconds to an GPS point P (lat, lon)."
   ]
  },
  {
   "cell_type": "code",
   "execution_count": 32,
   "metadata": {},
   "outputs": [
    {
     "name": "stdout",
     "output_type": "stream",
     "text": [
      "\n",
      "Creating or updating time features seconds\n",
      "\n",
      "...Sorting by id and datetime to increase performance\n",
      "\n",
      "...Set id as index to a higher peformance\n",
      "\n"
     ]
    },
    {
     "data": {
      "application/vnd.jupyter.widget-view+json": {
       "model_id": "2cdad72a4c7a42dab3481ba05289abee",
       "version_major": 2,
       "version_minor": 0
      },
      "text/plain": [
       "VBox(children=(HTML(value=''), IntProgress(value=0, max=2)))"
      ]
     },
     "metadata": {},
     "output_type": "display_data"
    },
    {
     "name": "stdout",
     "output_type": "stream",
     "text": [
      "...Reset index...\n",
      "\n",
      "..Total Time: 0.218\n"
     ]
    },
    {
     "data": {
      "text/html": [
       "<div>\n",
       "<style scoped>\n",
       "    .dataframe tbody tr th:only-of-type {\n",
       "        vertical-align: middle;\n",
       "    }\n",
       "\n",
       "    .dataframe tbody tr th {\n",
       "        vertical-align: top;\n",
       "    }\n",
       "\n",
       "    .dataframe thead th {\n",
       "        text-align: right;\n",
       "    }\n",
       "</style>\n",
       "<table border=\"1\" class=\"dataframe\">\n",
       "  <thead>\n",
       "    <tr style=\"text-align: right;\">\n",
       "      <th></th>\n",
       "      <th>id</th>\n",
       "      <th>lat</th>\n",
       "      <th>lon</th>\n",
       "      <th>datetime</th>\n",
       "      <th>time_to_prev</th>\n",
       "      <th>time_to_next</th>\n",
       "      <th>time_prev_to_next</th>\n",
       "    </tr>\n",
       "  </thead>\n",
       "  <tbody>\n",
       "    <tr>\n",
       "      <th>0</th>\n",
       "      <td>1</td>\n",
       "      <td>39.984093</td>\n",
       "      <td>116.319237</td>\n",
       "      <td>2008-10-23 05:53:05</td>\n",
       "      <td>NaN</td>\n",
       "      <td>1.0</td>\n",
       "      <td>NaN</td>\n",
       "    </tr>\n",
       "    <tr>\n",
       "      <th>1</th>\n",
       "      <td>1</td>\n",
       "      <td>39.984200</td>\n",
       "      <td>116.319321</td>\n",
       "      <td>2008-10-23 05:53:06</td>\n",
       "      <td>1.0</td>\n",
       "      <td>5.0</td>\n",
       "      <td>6.0</td>\n",
       "    </tr>\n",
       "    <tr>\n",
       "      <th>2</th>\n",
       "      <td>1</td>\n",
       "      <td>39.984222</td>\n",
       "      <td>116.319405</td>\n",
       "      <td>2008-10-23 05:53:11</td>\n",
       "      <td>5.0</td>\n",
       "      <td>5.0</td>\n",
       "      <td>10.0</td>\n",
       "    </tr>\n",
       "    <tr>\n",
       "      <th>3</th>\n",
       "      <td>1</td>\n",
       "      <td>39.984211</td>\n",
       "      <td>116.319389</td>\n",
       "      <td>2008-10-23 05:53:16</td>\n",
       "      <td>5.0</td>\n",
       "      <td>5.0</td>\n",
       "      <td>10.0</td>\n",
       "    </tr>\n",
       "    <tr>\n",
       "      <th>4</th>\n",
       "      <td>1</td>\n",
       "      <td>39.984219</td>\n",
       "      <td>116.319420</td>\n",
       "      <td>2008-10-23 05:53:21</td>\n",
       "      <td>5.0</td>\n",
       "      <td>2.0</td>\n",
       "      <td>7.0</td>\n",
       "    </tr>\n",
       "  </tbody>\n",
       "</table>\n",
       "</div>"
      ],
      "text/plain": [
       "   id        lat         lon            datetime  time_to_prev  time_to_next  \\\n",
       "0   1  39.984093  116.319237 2008-10-23 05:53:05           NaN           1.0   \n",
       "1   1  39.984200  116.319321 2008-10-23 05:53:06           1.0           5.0   \n",
       "2   1  39.984222  116.319405 2008-10-23 05:53:11           5.0           5.0   \n",
       "3   1  39.984211  116.319389 2008-10-23 05:53:16           5.0           5.0   \n",
       "4   1  39.984219  116.319420 2008-10-23 05:53:21           5.0           2.0   \n",
       "\n",
       "   time_prev_to_next  \n",
       "0                NaN  \n",
       "1                6.0  \n",
       "2               10.0  \n",
       "3               10.0  \n",
       "4                7.0  "
      ]
     },
     "execution_count": 32,
     "metadata": {},
     "output_type": "execute_result"
    }
   ],
   "source": [
    "move_df = orig_df[:]\n",
    "move_df.generate_time_features()\n",
    "move_df.head()"
   ]
  },
  {
   "cell_type": "markdown",
   "metadata": {},
   "source": [
    "#### i. `speed_to_prev`, `speed_to_next`, `speed_prev_to_next` : three speed in meters by seconds to an GPS point P (lat, lon)."
   ]
  },
  {
   "cell_type": "code",
   "execution_count": 33,
   "metadata": {},
   "outputs": [
    {
     "name": "stdout",
     "output_type": "stream",
     "text": [
      "\n",
      "Creating or updating speed features meters by seconds\n",
      "\n",
      "\n",
      "Creating or updating distance features in meters...\n",
      "\n",
      "...Sorting by id and datetime to increase performance\n",
      "\n",
      "...Set id as index to a higher peformance\n",
      "\n"
     ]
    },
    {
     "data": {
      "application/vnd.jupyter.widget-view+json": {
       "model_id": "c9410b3a26f74e2dab4bc28692e0f5ec",
       "version_major": 2,
       "version_minor": 0
      },
      "text/plain": [
       "VBox(children=(HTML(value=''), IntProgress(value=0, max=2)))"
      ]
     },
     "metadata": {},
     "output_type": "display_data"
    },
    {
     "name": "stdout",
     "output_type": "stream",
     "text": [
      "...Reset index...\n",
      "\n",
      "..Total Time: 0.291\n",
      "\n",
      "Creating or updating time features seconds\n",
      "\n",
      "...Sorting by id and datetime to increase performance\n",
      "\n",
      "...Set id as index to a higher peformance\n",
      "\n"
     ]
    },
    {
     "data": {
      "application/vnd.jupyter.widget-view+json": {
       "model_id": "ca66c581659344f994011aab6ddbb872",
       "version_major": 2,
       "version_minor": 0
      },
      "text/plain": [
       "VBox(children=(HTML(value=''), IntProgress(value=0, max=2)))"
      ]
     },
     "metadata": {},
     "output_type": "display_data"
    },
    {
     "name": "stdout",
     "output_type": "stream",
     "text": [
      "...Reset index...\n",
      "\n",
      "..Total Time: 0.152\n",
      "...Reset index...\n",
      "\n",
      "..Total Time: 0.497\n"
     ]
    },
    {
     "data": {
      "text/html": [
       "<div>\n",
       "<style scoped>\n",
       "    .dataframe tbody tr th:only-of-type {\n",
       "        vertical-align: middle;\n",
       "    }\n",
       "\n",
       "    .dataframe tbody tr th {\n",
       "        vertical-align: top;\n",
       "    }\n",
       "\n",
       "    .dataframe thead th {\n",
       "        text-align: right;\n",
       "    }\n",
       "</style>\n",
       "<table border=\"1\" class=\"dataframe\">\n",
       "  <thead>\n",
       "    <tr style=\"text-align: right;\">\n",
       "      <th></th>\n",
       "      <th>index</th>\n",
       "      <th>lat</th>\n",
       "      <th>lon</th>\n",
       "      <th>datetime</th>\n",
       "      <th>id</th>\n",
       "      <th>speed_to_prev</th>\n",
       "      <th>speed_to_next</th>\n",
       "      <th>speed_prev_to_next</th>\n",
       "    </tr>\n",
       "  </thead>\n",
       "  <tbody>\n",
       "    <tr>\n",
       "      <th>0</th>\n",
       "      <td>0</td>\n",
       "      <td>39.984093</td>\n",
       "      <td>116.319237</td>\n",
       "      <td>2008-10-23 05:53:05</td>\n",
       "      <td>1</td>\n",
       "      <td>NaN</td>\n",
       "      <td>14.015319</td>\n",
       "      <td>NaN</td>\n",
       "    </tr>\n",
       "    <tr>\n",
       "      <th>1</th>\n",
       "      <td>1</td>\n",
       "      <td>39.984200</td>\n",
       "      <td>116.319321</td>\n",
       "      <td>2008-10-23 05:53:06</td>\n",
       "      <td>1</td>\n",
       "      <td>14.015319</td>\n",
       "      <td>1.469097</td>\n",
       "      <td>3.560134</td>\n",
       "    </tr>\n",
       "    <tr>\n",
       "      <th>2</th>\n",
       "      <td>2</td>\n",
       "      <td>39.984222</td>\n",
       "      <td>116.319405</td>\n",
       "      <td>2008-10-23 05:53:11</td>\n",
       "      <td>1</td>\n",
       "      <td>1.469097</td>\n",
       "      <td>0.325724</td>\n",
       "      <td>0.897411</td>\n",
       "    </tr>\n",
       "    <tr>\n",
       "      <th>3</th>\n",
       "      <td>3</td>\n",
       "      <td>39.984211</td>\n",
       "      <td>116.319389</td>\n",
       "      <td>2008-10-23 05:53:16</td>\n",
       "      <td>1</td>\n",
       "      <td>0.325724</td>\n",
       "      <td>0.489699</td>\n",
       "      <td>0.407712</td>\n",
       "    </tr>\n",
       "    <tr>\n",
       "      <th>4</th>\n",
       "      <td>4</td>\n",
       "      <td>39.984219</td>\n",
       "      <td>116.319420</td>\n",
       "      <td>2008-10-23 05:53:21</td>\n",
       "      <td>1</td>\n",
       "      <td>0.489699</td>\n",
       "      <td>33.080502</td>\n",
       "      <td>9.801357</td>\n",
       "    </tr>\n",
       "  </tbody>\n",
       "</table>\n",
       "</div>"
      ],
      "text/plain": [
       "   index        lat         lon            datetime  id  speed_to_prev  \\\n",
       "0      0  39.984093  116.319237 2008-10-23 05:53:05   1            NaN   \n",
       "1      1  39.984200  116.319321 2008-10-23 05:53:06   1      14.015319   \n",
       "2      2  39.984222  116.319405 2008-10-23 05:53:11   1       1.469097   \n",
       "3      3  39.984211  116.319389 2008-10-23 05:53:16   1       0.325724   \n",
       "4      4  39.984219  116.319420 2008-10-23 05:53:21   1       0.489699   \n",
       "\n",
       "   speed_to_next  speed_prev_to_next  \n",
       "0      14.015319                 NaN  \n",
       "1       1.469097            3.560134  \n",
       "2       0.325724            0.897411  \n",
       "3       0.489699            0.407712  \n",
       "4      33.080502            9.801357  "
      ]
     },
     "execution_count": 33,
     "metadata": {},
     "output_type": "execute_result"
    }
   ],
   "source": [
    "move_df = orig_df[:]\n",
    "move_df.generate_speed_features()\n",
    "move_df.head()"
   ]
  },
  {
   "cell_type": "markdown",
   "metadata": {},
   "source": [
    "#### j. `situation`:   column with move and stop points by radius."
   ]
  },
  {
   "cell_type": "code",
   "execution_count": 34,
   "metadata": {},
   "outputs": [
    {
     "name": "stdout",
     "output_type": "stream",
     "text": [
      "\n",
      "Creating or updating distance features in meters...\n",
      "\n",
      "...Sorting by id and datetime to increase performance\n",
      "\n",
      "...Set id as index to a higher peformance\n",
      "\n"
     ]
    },
    {
     "data": {
      "application/vnd.jupyter.widget-view+json": {
       "model_id": "9b62abbc775f441a83ce0852c480f38c",
       "version_major": 2,
       "version_minor": 0
      },
      "text/plain": [
       "VBox(children=(HTML(value=''), IntProgress(value=0, max=2)))"
      ]
     },
     "metadata": {},
     "output_type": "display_data"
    },
    {
     "name": "stdout",
     "output_type": "stream",
     "text": [
      "...Reset index...\n",
      "\n",
      "..Total Time: 0.323\n",
      "\n",
      "Creating or updating features MOVE and STOPS...\n",
      "\n",
      "\n",
      "....There are 26229 stops to this parameters\n",
      "\n"
     ]
    },
    {
     "data": {
      "text/html": [
       "<div>\n",
       "<style scoped>\n",
       "    .dataframe tbody tr th:only-of-type {\n",
       "        vertical-align: middle;\n",
       "    }\n",
       "\n",
       "    .dataframe tbody tr th {\n",
       "        vertical-align: top;\n",
       "    }\n",
       "\n",
       "    .dataframe thead th {\n",
       "        text-align: right;\n",
       "    }\n",
       "</style>\n",
       "<table border=\"1\" class=\"dataframe\">\n",
       "  <thead>\n",
       "    <tr style=\"text-align: right;\">\n",
       "      <th></th>\n",
       "      <th>id</th>\n",
       "      <th>lat</th>\n",
       "      <th>lon</th>\n",
       "      <th>datetime</th>\n",
       "      <th>dist_to_prev</th>\n",
       "      <th>dist_to_next</th>\n",
       "      <th>dist_prev_to_next</th>\n",
       "      <th>situation</th>\n",
       "    </tr>\n",
       "  </thead>\n",
       "  <tbody>\n",
       "    <tr>\n",
       "      <th>0</th>\n",
       "      <td>1</td>\n",
       "      <td>39.984093</td>\n",
       "      <td>116.319237</td>\n",
       "      <td>2008-10-23 05:53:05</td>\n",
       "      <td>NaN</td>\n",
       "      <td>14.015319</td>\n",
       "      <td>NaN</td>\n",
       "      <td>nan</td>\n",
       "    </tr>\n",
       "    <tr>\n",
       "      <th>1</th>\n",
       "      <td>1</td>\n",
       "      <td>39.984200</td>\n",
       "      <td>116.319321</td>\n",
       "      <td>2008-10-23 05:53:06</td>\n",
       "      <td>14.015319</td>\n",
       "      <td>7.345484</td>\n",
       "      <td>20.082062</td>\n",
       "      <td>move</td>\n",
       "    </tr>\n",
       "    <tr>\n",
       "      <th>2</th>\n",
       "      <td>1</td>\n",
       "      <td>39.984222</td>\n",
       "      <td>116.319405</td>\n",
       "      <td>2008-10-23 05:53:11</td>\n",
       "      <td>7.345484</td>\n",
       "      <td>1.628622</td>\n",
       "      <td>5.929780</td>\n",
       "      <td>move</td>\n",
       "    </tr>\n",
       "    <tr>\n",
       "      <th>3</th>\n",
       "      <td>1</td>\n",
       "      <td>39.984211</td>\n",
       "      <td>116.319389</td>\n",
       "      <td>2008-10-23 05:53:16</td>\n",
       "      <td>1.628622</td>\n",
       "      <td>2.448494</td>\n",
       "      <td>1.224247</td>\n",
       "      <td>move</td>\n",
       "    </tr>\n",
       "    <tr>\n",
       "      <th>4</th>\n",
       "      <td>1</td>\n",
       "      <td>39.984219</td>\n",
       "      <td>116.319420</td>\n",
       "      <td>2008-10-23 05:53:21</td>\n",
       "      <td>2.448494</td>\n",
       "      <td>66.161003</td>\n",
       "      <td>68.115486</td>\n",
       "      <td>move</td>\n",
       "    </tr>\n",
       "  </tbody>\n",
       "</table>\n",
       "</div>"
      ],
      "text/plain": [
       "   id        lat         lon            datetime  dist_to_prev  dist_to_next  \\\n",
       "0   1  39.984093  116.319237 2008-10-23 05:53:05           NaN     14.015319   \n",
       "1   1  39.984200  116.319321 2008-10-23 05:53:06     14.015319      7.345484   \n",
       "2   1  39.984222  116.319405 2008-10-23 05:53:11      7.345484      1.628622   \n",
       "3   1  39.984211  116.319389 2008-10-23 05:53:16      1.628622      2.448494   \n",
       "4   1  39.984219  116.319420 2008-10-23 05:53:21      2.448494     66.161003   \n",
       "\n",
       "   dist_prev_to_next situation  \n",
       "0                NaN       nan  \n",
       "1          20.082062      move  \n",
       "2           5.929780      move  \n",
       "3           1.224247      move  \n",
       "4          68.115486      move  "
      ]
     },
     "execution_count": 34,
     "metadata": {},
     "output_type": "execute_result"
    }
   ],
   "source": [
    "move_df = orig_df[:]\n",
    "move_df.generate_move_and_stop_by_radius()\n",
    "move_df.head()"
   ]
  },
  {
   "cell_type": "markdown",
   "metadata": {},
   "source": [
    "#### 9. Get time difference between max and min datetime in trajectory data."
   ]
  },
  {
   "cell_type": "code",
   "execution_count": 35,
   "metadata": {},
   "outputs": [
    {
     "data": {
      "text/plain": [
       "Timedelta('146 days 23:53:32')"
      ]
     },
     "execution_count": 35,
     "metadata": {},
     "output_type": "execute_result"
    }
   ],
   "source": [
    "move_df.time_interval()"
   ]
  },
  {
   "cell_type": "markdown",
   "metadata": {},
   "source": [
    "#### 10. Create views\n",
    "\n",
    "#### a. Plot all features data"
   ]
  },
  {
   "cell_type": "code",
   "execution_count": 36,
   "metadata": {},
   "outputs": [
    {
     "data": {
      "image/png": "[encoded data removed]",
      "text/plain": [
       "<Figure size 1512x1080 with 2 Axes>"
      ]
     },
     "metadata": {
      "needs_background": "light"
     },
     "output_type": "display_data"
    }
   ],
   "source": [
    "move_df.plot_all_features(return_fig=False)"
   ]
  },
  {
   "cell_type": "markdown",
   "metadata": {},
   "source": [
    "#### b. Plot all trajs with scatter plot"
   ]
  },
  {
   "cell_type": "code",
   "execution_count": 37,
   "metadata": {},
   "outputs": [
    {
     "data": {
      "image/png": "[encoded data removed]",
      "text/plain": [
       "<Figure size 720x720 with 1 Axes>"
      ]
     },
     "metadata": {
      "needs_background": "light"
     },
     "output_type": "display_data"
    }
   ],
   "source": [
    "move_df.plot_trajs(return_fig=False)"
   ]
  },
  {
   "cell_type": "markdown",
   "metadata": {},
   "source": [
    "#### c. And plot traj by TID feature"
   ]
  },
  {
   "cell_type": "code",
   "execution_count": 38,
   "metadata": {},
   "outputs": [
    {
     "name": "stdout",
     "output_type": "stream",
     "text": [
      "\n",
      "Creating or updating tid feature...\n",
      "\n",
      "...Sorting by id and datetime to increase performance\n",
      "\n",
      "\n",
      "...tid feature was created...\n",
      "\n",
      "\n",
      "Creating or updating features MOVE and STOPS...\n",
      "\n",
      "\n",
      "....There are 26229 stops to this parameters\n",
      "\n"
     ]
    }
   ],
   "source": [
    "move_df.generate_tid_based_on_id_datetime()\n",
    "move_df.generate_move_and_stop_by_radius()"
   ]
  },
  {
   "cell_type": "code",
   "execution_count": 39,
   "metadata": {
    "scrolled": false
   },
   "outputs": [
    {
     "data": {
      "text/plain": [
       "(     id        lat         lon            datetime  dist_to_prev  \\\n",
       " 0     1  39.984093  116.319237 2008-10-23 05:53:05           NaN   \n",
       " 1     1  39.984200  116.319321 2008-10-23 05:53:06     14.015319   \n",
       " 2     1  39.984222  116.319405 2008-10-23 05:53:11      7.345484   \n",
       " 3     1  39.984211  116.319389 2008-10-23 05:53:16      1.628622   \n",
       " 4     1  39.984219  116.319420 2008-10-23 05:53:21      2.448494   \n",
       " ..   ..        ...         ...                 ...           ...   \n",
       " 109   1  39.979759  116.324516 2008-10-23 05:59:47     10.502950   \n",
       " 110   1  39.979744  116.324669 2008-10-23 05:59:50     12.893124   \n",
       " 111   1  39.979725  116.324791 2008-10-23 05:59:52     10.720380   \n",
       " 112   1  39.979691  116.324936 2008-10-23 05:59:54     13.354622   \n",
       " 113   1  39.979671  116.325035 2008-10-23 05:59:59      8.365896   \n",
       " \n",
       "      dist_to_next  dist_prev_to_next situation          tid  \n",
       " 0       14.015319                NaN       nan  12008102305  \n",
       " 1        7.345484          20.082062      move  12008102305  \n",
       " 2        1.628622           5.929780      move  12008102305  \n",
       " 3        2.448494           1.224247      move  12008102305  \n",
       " 4       66.161003          68.115486      move  12008102305  \n",
       " ..            ...                ...       ...          ...  \n",
       " 109     12.893124          23.390026      move  12008102305  \n",
       " 110     10.720380          23.586491      move  12008102305  \n",
       " 111     13.354622          24.058651      move  12008102305  \n",
       " 112      8.365896          21.711452      move  12008102305  \n",
       " 113     10.722334          18.891218      move  12008102305  \n",
       " \n",
       " [114 rows x 9 columns],\n",
       " <Figure size 720x720 with 1 Axes>)"
      ]
     },
     "execution_count": 39,
     "metadata": {},
     "output_type": "execute_result"
    },
    {
     "data": {
      "image/png": "[encoded data removed]",
      "text/plain": [
       "<Figure size 720x720 with 1 Axes>"
      ]
     },
     "metadata": {
      "needs_background": "light"
     },
     "output_type": "display_data"
    }
   ],
   "source": [
    "move_df.plot_traj_id(\"12008102305\", feature=\"situation\", value=\"stop\")"
   ]
  },
  {
   "cell_type": "markdown",
   "metadata": {},
   "source": [
    "### And that's it! See upcoming notebooks to learn more about what PyMove can do!"
   ]
  }
 ],
 "metadata": {
  "kernelspec": {
   "display_name": "Python 3",
   "language": "python",
   "name": "python3"
  },
  "language_info": {
   "codemirror_mode": {
    "name": "ipython",
    "version": 3
   },
   "file_extension": ".py",
   "mimetype": "text/x-python",
   "name": "python",
   "nbconvert_exporter": "python",
   "pygments_lexer": "ipython3",
   "version": "3.7.1"
  }
 },
 "nbformat": 4,
 "nbformat_minor": 4
}
