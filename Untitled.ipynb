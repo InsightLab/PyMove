{
 "cells": [
  {
   "cell_type": "code",
   "execution_count": 2,
   "metadata": {},
   "outputs": [
    {
     "data": {
      "text/plain": [
       "'# Use PyMove and go much further...\\n\\n---\\n\\n# Informations\\n\\n<table>\\n<tr>\\n  <td>Package Status</td>\\n  <td>\\n\\t\\t<a href=\"https://pypi.org/project/pandas/\">\\n\\t\\t<img src=\"https://img.shields.io/pypi/status/pandas.svg\" alt=\"status\" />\\n\\t\\t</a>\\n  </td>\\n</tr>\\n<tr>\\n  <td>License</td>\\n  <td>\\n    <a href=\"https://github.com/InsightLab/PyMove/blob/developer/LICENSE\">\\n    <img src=\"https://img.shields.io/badge/License-MIT-yellow.svg\" alt=\"license\" />\\n    </a>\\n</td>\\n</tr>\\n</table>\\n\\n---\\n\\n# What is PyMove?\\n\\nPyMove is a Python library to processing and visualization of trajectories and other spatial-temporal data.\\n\\nWe will also release wrappers to some useful Java libraries frequently used in the mobility domain.\\n\\n---\\n\\n# Main Features\\n\\nPyMove **proposes**:\\n-  A familiar and similar syntax to Pandas;\\n-  Clear documentation;\\n-  Extensibility, since you can implement your main data structure by manipulating other data structures such as Dask DataFrame, numpy arrays, etc., in addition to adding new modules;\\n-  Flexibility, as the user can switch between different data structures;\\n-  Operations for data preprocessing, pattern mining and data visualization.\\n\\n---\\n\\n# Github installation\\n\\n1. Clone this repository\\n\\n`git clone https://github.com/InsightLab/PyMove`\\n\\n2. Make a branch developer\\n\\n`git branch developer`\\n\\n3. Switch to a new branch \\n\\n`git checkout developer`\\n\\n4. Make a pull of branch\\n\\n`git pull origin developer`\\n\\n5. Switch to folder PyMove\\n\\n`cd PyMove`\\n\\n6. Now, use this command to use PyMove! \\n\\n`import pymove`\\n\\n---\\n\\n# Pip installation\\n\\n1. pip install pymove\\n\\n---\\n\\n# Examples\\n\\nYou can access examples of how to use PyMove [here](https://github.com/InsightLab/PyMove/tree/developer/examples)\\n\\n---\\n\\n# Papers\\n\\n(list of publications using/with Pymove)\\n\\n---\\n\\n# Useful list of related libraries and links\\n\\n- [Handling GPS Data with Python](https://github.com/FlorianWilhelm/gps_data_with_python/tree/master/notebooks)\\n- [mplleaflet - Easily convert matplotlib plots from Python into interactive Leaflet web maps](https://github.com/jwass/mplleaflet)\\n- [Pykalman](https://github.com/pykalman/pykalman)\\n- [Ramer-Douglas-Peucker algorithm](https://github.com/fhirschmann/rdp)\\n- [Knee point detection in Python](https://github.com/arvkevi/kneed)\\n- [TrajSuite Java Library](https://github.com/lukehb/TrajSuite)\\n- [GraphHopper Map-Matching Java Library](https://github.com/graphhopper/map-matching)\\n'"
      ]
     },
     "execution_count": 2,
     "metadata": {},
     "output_type": "execute_result"
    }
   ],
   "source": [
    "open(\"README.md\", \"r\").read()"
   ]
  },
  {
   "cell_type": "code",
   "execution_count": null,
   "metadata": {},
   "outputs": [],
   "source": []
  }
 ],
 "metadata": {
  "kernelspec": {
   "display_name": "Python 3",
   "language": "python",
   "name": "python3"
  }
 },
 "nbformat": 4,
 "nbformat_minor": 4
}
