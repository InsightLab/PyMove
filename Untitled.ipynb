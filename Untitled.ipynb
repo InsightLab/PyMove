{
 "cells": [
  {
   "cell_type": "code",
   "execution_count": 176,
   "metadata": {},
   "outputs": [],
   "source": [
    "import pandas as pd\n",
    "from pandas import DataFrame,Timestamp\n",
    "from pymove import MoveDataFrame\n",
    "from pymove.core.grid import Grid\n",
    "from numpy.testing import assert_equal\n",
    "from pandas.testing import assert_frame_equal, assert_series_equal\n",
    "from numpy.testing import assert_allclose, assert_array_equal\n",
    "from shapely.geometry import Polygon"
   ]
  },
  {
   "cell_type": "code",
   "execution_count": 16,
   "metadata": {},
   "outputs": [],
   "source": [
    "from pymove.utils.constants import (\n",
    "    DATE,\n",
    "    DATETIME,\n",
    "    DAY,\n",
    "    DIST_PREV_TO_NEXT,\n",
    "    DIST_TO_PREV,\n",
    "    HOUR,\n",
    "    HOUR_SIN,\n",
    "    LATITUDE,\n",
    "    LONGITUDE,\n",
    "    PERIOD,\n",
    "    SITUATION,\n",
    "    SPEED_PREV_TO_NEXT,\n",
    "    TID,\n",
    "    TIME_PREV_TO_NEXT,\n",
    "    TRAJ_ID,\n",
    "    TYPE_DASK,\n",
    "    TYPE_PANDAS,\n",
    "    UID,\n",
    "    WEEK_END,\n",
    ")\n"
   ]
  },
  {
   "cell_type": "code",
   "execution_count": 7,
   "metadata": {},
   "outputs": [
    {
     "data": {
      "text/html": [
       "<div>\n",
       "<style scoped>\n",
       "    .dataframe tbody tr th:only-of-type {\n",
       "        vertical-align: middle;\n",
       "    }\n",
       "\n",
       "    .dataframe tbody tr th {\n",
       "        vertical-align: top;\n",
       "    }\n",
       "\n",
       "    .dataframe thead th {\n",
       "        text-align: right;\n",
       "    }\n",
       "</style>\n",
       "<table border=\"1\" class=\"dataframe\">\n",
       "  <thead>\n",
       "    <tr style=\"text-align: right;\">\n",
       "      <th></th>\n",
       "      <th>lat</th>\n",
       "      <th>lon</th>\n",
       "      <th>datetime</th>\n",
       "      <th>id</th>\n",
       "    </tr>\n",
       "  </thead>\n",
       "  <tbody>\n",
       "    <tr>\n",
       "      <th>0</th>\n",
       "      <td>39.984094</td>\n",
       "      <td>116.319236</td>\n",
       "      <td>2008-10-23 05:53:05</td>\n",
       "      <td>1</td>\n",
       "    </tr>\n",
       "    <tr>\n",
       "      <th>1</th>\n",
       "      <td>39.984198</td>\n",
       "      <td>116.319322</td>\n",
       "      <td>2008-10-23 05:53:06</td>\n",
       "      <td>1</td>\n",
       "    </tr>\n",
       "    <tr>\n",
       "      <th>2</th>\n",
       "      <td>39.984224</td>\n",
       "      <td>116.319402</td>\n",
       "      <td>2008-10-23 05:53:11</td>\n",
       "      <td>1</td>\n",
       "    </tr>\n",
       "    <tr>\n",
       "      <th>3</th>\n",
       "      <td>39.984211</td>\n",
       "      <td>116.319389</td>\n",
       "      <td>2008-10-23 05:53:16</td>\n",
       "      <td>1</td>\n",
       "    </tr>\n",
       "    <tr>\n",
       "      <th>4</th>\n",
       "      <td>39.984217</td>\n",
       "      <td>116.319422</td>\n",
       "      <td>2008-10-23 05:53:21</td>\n",
       "      <td>1</td>\n",
       "    </tr>\n",
       "    <tr>\n",
       "      <th>5</th>\n",
       "      <td>39.984710</td>\n",
       "      <td>116.319865</td>\n",
       "      <td>2008-10-23 05:53:23</td>\n",
       "      <td>1</td>\n",
       "    </tr>\n",
       "    <tr>\n",
       "      <th>6</th>\n",
       "      <td>39.984674</td>\n",
       "      <td>116.319810</td>\n",
       "      <td>2008-10-23 05:53:28</td>\n",
       "      <td>1</td>\n",
       "    </tr>\n",
       "    <tr>\n",
       "      <th>7</th>\n",
       "      <td>39.984623</td>\n",
       "      <td>116.319773</td>\n",
       "      <td>2008-10-23 05:53:33</td>\n",
       "      <td>1</td>\n",
       "    </tr>\n",
       "    <tr>\n",
       "      <th>8</th>\n",
       "      <td>39.984606</td>\n",
       "      <td>116.319732</td>\n",
       "      <td>2008-10-23 05:53:38</td>\n",
       "      <td>1</td>\n",
       "    </tr>\n",
       "    <tr>\n",
       "      <th>9</th>\n",
       "      <td>39.984555</td>\n",
       "      <td>116.319728</td>\n",
       "      <td>2008-10-23 05:53:43</td>\n",
       "      <td>1</td>\n",
       "    </tr>\n",
       "    <tr>\n",
       "      <th>10</th>\n",
       "      <td>39.984579</td>\n",
       "      <td>116.319769</td>\n",
       "      <td>2008-10-23 05:53:48</td>\n",
       "      <td>1</td>\n",
       "    </tr>\n",
       "    <tr>\n",
       "      <th>11</th>\n",
       "      <td>39.984579</td>\n",
       "      <td>116.319769</td>\n",
       "      <td>2008-10-23 05:53:51</td>\n",
       "      <td>1</td>\n",
       "    </tr>\n",
       "    <tr>\n",
       "      <th>12</th>\n",
       "      <td>39.984577</td>\n",
       "      <td>116.319766</td>\n",
       "      <td>2008-10-23 05:53:53</td>\n",
       "      <td>1</td>\n",
       "    </tr>\n",
       "    <tr>\n",
       "      <th>13</th>\n",
       "      <td>39.984611</td>\n",
       "      <td>116.319822</td>\n",
       "      <td>2008-10-23 05:53:58</td>\n",
       "      <td>1</td>\n",
       "    </tr>\n",
       "    <tr>\n",
       "      <th>14</th>\n",
       "      <td>39.984959</td>\n",
       "      <td>116.319969</td>\n",
       "      <td>2008-10-23 05:54:03</td>\n",
       "      <td>1</td>\n",
       "    </tr>\n",
       "    <tr>\n",
       "      <th>15</th>\n",
       "      <td>39.985036</td>\n",
       "      <td>116.320056</td>\n",
       "      <td>2008-10-23 05:54:04</td>\n",
       "      <td>1</td>\n",
       "    </tr>\n",
       "    <tr>\n",
       "      <th>16</th>\n",
       "      <td>39.984741</td>\n",
       "      <td>116.320037</td>\n",
       "      <td>2008-10-23 05:54:05</td>\n",
       "      <td>1</td>\n",
       "    </tr>\n",
       "    <tr>\n",
       "      <th>17</th>\n",
       "      <td>39.984620</td>\n",
       "      <td>116.320120</td>\n",
       "      <td>2008-10-23 05:54:07</td>\n",
       "      <td>1</td>\n",
       "    </tr>\n",
       "    <tr>\n",
       "      <th>18</th>\n",
       "      <td>39.984530</td>\n",
       "      <td>116.320242</td>\n",
       "      <td>2008-10-23 05:54:11</td>\n",
       "      <td>1</td>\n",
       "    </tr>\n",
       "    <tr>\n",
       "      <th>19</th>\n",
       "      <td>39.984508</td>\n",
       "      <td>116.320331</td>\n",
       "      <td>2008-10-23 05:54:16</td>\n",
       "      <td>1</td>\n",
       "    </tr>\n",
       "  </tbody>\n",
       "</table>\n",
       "</div>"
      ],
      "text/plain": [
       "          lat         lon            datetime  id\n",
       "0   39.984094  116.319236 2008-10-23 05:53:05   1\n",
       "1   39.984198  116.319322 2008-10-23 05:53:06   1\n",
       "2   39.984224  116.319402 2008-10-23 05:53:11   1\n",
       "3   39.984211  116.319389 2008-10-23 05:53:16   1\n",
       "4   39.984217  116.319422 2008-10-23 05:53:21   1\n",
       "5   39.984710  116.319865 2008-10-23 05:53:23   1\n",
       "6   39.984674  116.319810 2008-10-23 05:53:28   1\n",
       "7   39.984623  116.319773 2008-10-23 05:53:33   1\n",
       "8   39.984606  116.319732 2008-10-23 05:53:38   1\n",
       "9   39.984555  116.319728 2008-10-23 05:53:43   1\n",
       "10  39.984579  116.319769 2008-10-23 05:53:48   1\n",
       "11  39.984579  116.319769 2008-10-23 05:53:51   1\n",
       "12  39.984577  116.319766 2008-10-23 05:53:53   1\n",
       "13  39.984611  116.319822 2008-10-23 05:53:58   1\n",
       "14  39.984959  116.319969 2008-10-23 05:54:03   1\n",
       "15  39.985036  116.320056 2008-10-23 05:54:04   1\n",
       "16  39.984741  116.320037 2008-10-23 05:54:05   1\n",
       "17  39.984620  116.320120 2008-10-23 05:54:07   1\n",
       "18  39.984530  116.320242 2008-10-23 05:54:11   1\n",
       "19  39.984508  116.320331 2008-10-23 05:54:16   1"
      ]
     },
     "execution_count": 7,
     "metadata": {},
     "output_type": "execute_result"
    }
   ],
   "source": [
    "df = pd.read_csv('examples/geolife_sample.csv', parse_dates=['datetime'])\n",
    "df = df[:20]\n",
    "df"
   ]
  },
  {
   "cell_type": "code",
   "execution_count": 11,
   "metadata": {},
   "outputs": [],
   "source": [
    "list_data = [\n",
    "    [39.984094, 116.319236, '2008-10-23 05:53:05', 1],\n",
    "    [39.984198, 116.319322, '2008-10-23 05:53:06', 1],\n",
    "    [39.984224, 116.319402, '2008-10-23 05:53:11', 1],\n",
    "    [39.984211, 116.319389, '2008-10-23 05:53:16', 1],\n",
    "    [39.984217, 116.319422, '2008-10-23 05:53:21', 1],\n",
    "    [39.984710, 116.319865, '2008-10-23 05:53:23', 1],\n",
    "    [39.984674, 116.319810, '2008-10-23 05:53:28', 1],\n",
    "    [39.984623, 116.319773, '2008-10-23 05:53:33', 1],\n",
    "    [39.984606, 116.319732, '2008-10-23 05:53:38', 1],\n",
    "    [39.984555, 116.319728, '2008-10-23 05:53:43', 1],\n",
    "    [39.984579, 116.319769, '2008-10-23 05:53:48', 1],\n",
    "    [39.984579, 116.319769, '2008-10-23 05:53:51', 1],\n",
    "    [39.984577, 116.319766, '2008-10-23 05:53:53', 1],\n",
    "    [39.984611, 116.319822, '2008-10-23 05:53:58', 1],\n",
    "    [39.984959, 116.319969, '2008-10-23 05:54:03', 1],\n",
    "    [39.985036, 116.320056, '2008-10-23 05:54:04', 1],\n",
    "    [39.984741, 116.320037, '2008-10-23 05:54:05', 1],\n",
    "    [39.984620, 116.320120, '2008-10-23 05:54:07', 1],\n",
    "    [39.984530, 116.320242, '2008-10-23 05:54:11', 1],\n",
    "    [39.984508, 116.320331, '2008-10-23 05:54:16', 1]\n",
    "]"
   ]
  },
  {
   "cell_type": "code",
   "execution_count": 50,
   "metadata": {},
   "outputs": [],
   "source": [
    "list_data = [\n",
    "    [39.984094, 116.319236, '2008-10-23 05:53:05', 1],\n",
    "    [39.984198, 116.319322, '2008-10-23 05:53:06', 1],\n",
    "    [39.984224, 116.319402, '2008-10-23 05:53:11', 1],\n",
    "    [39.984211, 116.319389, '2008-10-23 05:53:16', 1],\n",
    "    [39.984217, 116.319422, '2008-10-23 05:53:21', 1],\n",
    "    [39.984710, 116.319865, '2008-10-23 05:53:23', 1],\n",
    "    [39.984674, 116.319810, '2008-10-23 05:53:28', 1],\n",
    "    [39.984623, 116.319773, '2008-10-23 05:53:33', 1],\n",
    "    [39.984606, 116.319732, '2008-10-23 05:53:38', 1],\n",
    "    [39.984555, 116.319728, '2008-10-23 05:53:43', 1]\n",
    "]"
   ]
  },
  {
   "cell_type": "code",
   "execution_count": 78,
   "metadata": {},
   "outputs": [],
   "source": [
    "unsorted_list_data = [\n",
    "    [39.984198, 116.319322, '2008-10-23 05:53:06', 1],\n",
    "    [39.984094, 116.319236, '2008-10-23 05:53:05', 1],\n",
    "    [39.984224, 116.319402, '2008-10-23 05:53:11', 1],\n",
    "    [39.984710, 116.319865, '2008-10-23 05:53:23', 1],\n",
    "    [39.984674, 116.319810, '2008-10-23 05:53:28', 1],\n",
    "    [39.984623, 116.319773, '2008-10-23 05:53:33', 1],\n",
    "    [39.984606, 116.319732, '2008-10-23 05:53:38', 1],\n",
    "    [39.984555, 116.319728, '2008-10-23 05:53:43', 1],\n",
    "    [39.984217, 116.319422, '2008-10-23 05:53:21', 1],\n",
    "    [39.984211, 116.319389, '2008-10-23 05:53:16', 1]\n",
    "\n",
    "]"
   ]
  },
  {
   "cell_type": "code",
   "execution_count": 79,
   "metadata": {},
   "outputs": [],
   "source": [
    "def _default_move_df():\n",
    "    return MoveDataFrame(\n",
    "        data=list_data,\n",
    "        latitude=LATITUDE,\n",
    "        longitude=LONGITUDE,\n",
    "        datetime=DATETIME,\n",
    "        traj_id=TRAJ_ID,\n",
    "    )"
   ]
  },
  {
   "cell_type": "code",
   "execution_count": 75,
   "metadata": {},
   "outputs": [],
   "source": [
    "def _default_move_df_2():\n",
    "    return MoveDataFrame(\n",
    "        data=unsorted_list_data,\n",
    "        latitude=LATITUDE,\n",
    "        longitude=LONGITUDE,\n",
    "        datetime=DATETIME,\n",
    "        traj_id=TRAJ_ID,\n",
    "    )"
   ]
  },
  {
   "cell_type": "code",
   "execution_count": 55,
   "metadata": {},
   "outputs": [],
   "source": [
    "def test_get_grid():\n",
    "    move_df = _default_move_df()\n",
    "    \n",
    "    grid = Grid(move_df, 15).get_grid() \n",
    "    \n",
    "    expected = {'lon_min_x': 116.319236,\n",
    "                 'lat_min_y': 39.984094,\n",
    "                 'grid_size_lat_y': 5,\n",
    "                 'grid_size_lon_x': 5,\n",
    "                 'cell_size_by_degree': 0.0001353464801860623       \n",
    "    }\n",
    "    \n",
    "    assert_equal(grid, expected)     "
   ]
  },
  {
   "cell_type": "code",
   "execution_count": 56,
   "metadata": {},
   "outputs": [
    {
     "name": "stdout",
     "output_type": "stream",
     "text": [
      "\n",
      "Creating a virtual grid without polygons\n",
      "...cell size by degree: 0.0001353464801860623\n",
      "...grid_size_lat_y:5\n",
      "grid_size_lon_x:5\n",
      "\n",
      "..A virtual grid was created\n"
     ]
    }
   ],
   "source": [
    "test_get_grid()"
   ]
  },
  {
   "cell_type": "code",
   "execution_count": 85,
   "metadata": {},
   "outputs": [],
   "source": [
    "def test_create_update_index_grid_feature():\n",
    "    move_df = _default_move_df()\n",
    "    \n",
    "    grid = Grid(move_df, 15)    \n",
    "    grid.create_update_index_grid_feature(data=move_df)\n",
    "   \n",
    "    #Testing function with sorted data\n",
    "    expected = DataFrame(\n",
    "        data=[\n",
    "            [39.984094, 116.319236, Timestamp('2008-10-23 05:53:05'), 1, 0, 0],\n",
    "            [39.984198, 116.319322, Timestamp('2008-10-23 05:53:06'), 1, 0, 0],\n",
    "            [39.984224, 116.319402, Timestamp('2008-10-23 05:53:11'), 1, 0, 1],\n",
    "            [39.984211, 116.319389, Timestamp('2008-10-23 05:53:16'), 1, 0, 1],\n",
    "            [39.984217, 116.319422, Timestamp('2008-10-23 05:53:21'), 1, 0, 1],\n",
    "            [39.984710, 116.319865, Timestamp('2008-10-23 05:53:23'), 1, 4, 4],\n",
    "            [39.984674, 116.319810, Timestamp('2008-10-23 05:53:28'), 1, 4, 4],\n",
    "            [39.984623, 116.319773, Timestamp('2008-10-23 05:53:33'), 1, 3, 3],\n",
    "            [39.984606, 116.319732, Timestamp('2008-10-23 05:53:38'), 1, 3, 3],\n",
    "            [39.984555, 116.319728, Timestamp('2008-10-23 05:53:43'), 1, 3, 3]\n",
    "        ],\n",
    "        columns=['lat', 'lon', 'datetime', 'id', 'index_grid_lat', 'index_grid_lon'],\n",
    "        index=[0, 1, 2, 3, 4, 5, 6, 7, 8, 9],\n",
    "    )\n",
    "    \n",
    "    assert_frame_equal(move_df, expected) \n",
    "    \n",
    "    #Testing function with unsorted data\n",
    "    unsorted_move_df = _default_move_df_2()\n",
    "    \n",
    "    grid = Grid(move_df, 15)    \n",
    "    grid.create_update_index_grid_feature(data=unsorted_move_df)\n",
    "   \n",
    "    expected = DataFrame(\n",
    "        data=[\n",
    "            [39.984094, 116.319236, Timestamp('2008-10-23 05:53:05'), 1, 0, 0],\n",
    "            [39.984198, 116.319322, Timestamp('2008-10-23 05:53:06'), 1, 0, 0],\n",
    "            [39.984224, 116.319402, Timestamp('2008-10-23 05:53:11'), 1, 0, 1],\n",
    "            [39.984211, 116.319389, Timestamp('2008-10-23 05:53:16'), 1, 0, 1],\n",
    "            [39.984217, 116.319422, Timestamp('2008-10-23 05:53:21'), 1, 0, 1],\n",
    "            [39.984710, 116.319865, Timestamp('2008-10-23 05:53:23'), 1, 4, 4],\n",
    "            [39.984674, 116.319810, Timestamp('2008-10-23 05:53:28'), 1, 4, 4],\n",
    "            [39.984623, 116.319773, Timestamp('2008-10-23 05:53:33'), 1, 3, 3],\n",
    "            [39.984606, 116.319732, Timestamp('2008-10-23 05:53:38'), 1, 3, 3],\n",
    "            [39.984555, 116.319728, Timestamp('2008-10-23 05:53:43'), 1, 3, 3]\n",
    "        ],\n",
    "        columns=['lat', 'lon', 'datetime', 'id', 'index_grid_lat', 'index_grid_lon'],\n",
    "        index=[1, 0, 2, 9, 8, 3, 4, 5, 6, 7],\n",
    "    )\n",
    "    \n",
    "    assert_frame_equal(unsorted_move_df, expected) "
   ]
  },
  {
   "cell_type": "code",
   "execution_count": 86,
   "metadata": {},
   "outputs": [
    {
     "name": "stdout",
     "output_type": "stream",
     "text": [
      "\n",
      "Creating a virtual grid without polygons\n",
      "...cell size by degree: 0.0001353464801860623\n",
      "...grid_size_lat_y:5\n",
      "grid_size_lon_x:5\n",
      "\n",
      "..A virtual grid was created\n",
      "\n",
      "Creating or updating index of the grid feature..\n",
      "\n",
      "...[10,10] indexes were created to lat and lon\n",
      "\n",
      "Creating a virtual grid without polygons\n",
      "...cell size by degree: 0.0001353464801860623\n",
      "...grid_size_lat_y:5\n",
      "grid_size_lon_x:5\n",
      "\n",
      "..A virtual grid was created\n",
      "\n",
      "Creating or updating index of the grid feature..\n",
      "\n",
      "...[10,10] indexes were created to lat and lon\n"
     ]
    }
   ],
   "source": [
    "test_create_update_index_grid_feature()"
   ]
  },
  {
   "cell_type": "code",
   "execution_count": 160,
   "metadata": {},
   "outputs": [],
   "source": [
    "def test_create_one_polygon_to_point_on_grid():\n",
    "    expected = [[ 39.984094,  116.3193713464802],\n",
    "                 [ 39.984229346480184 ,116.3193713464802],\n",
    "                 [ 39.984229346480184, 116.31950669296039],\n",
    "                 [ 39.984094,  116.31950669296039],\n",
    "                 [ 39.984094,  116.3193713464802]]\n",
    "    \n",
    "    move_df = _default_move_df()\n",
    "    grid = Grid(move_df, 15)\n",
    "    \n",
    "    polygon = grid.create_one_polygon_to_point_on_grid(index_grid_lat=0, index_grid_lon=1)\n",
    "    \n",
    "    polygon_coordinates = array(polygon.exterior.coords)\n",
    "    \n",
    "    assert_array_equal(polygon_coordinates, expected)"
   ]
  },
  {
   "cell_type": "code",
   "execution_count": 161,
   "metadata": {},
   "outputs": [
    {
     "name": "stdout",
     "output_type": "stream",
     "text": [
      "\n",
      "Creating a virtual grid without polygons\n",
      "...cell size by degree: 0.0001353464801860623\n",
      "...grid_size_lat_y:5\n",
      "grid_size_lon_x:5\n",
      "\n",
      "..A virtual grid was created\n"
     ]
    }
   ],
   "source": [
    "test_create_one_polygon_to_point_on_grid()"
   ]
  },
  {
   "cell_type": "code",
   "execution_count": 202,
   "metadata": {},
   "outputs": [],
   "source": [
    "def test_create_all_polygons_to_all_point_on_grid():\n",
    "    expected = DataFrame(\n",
    "        data=[\n",
    "            [1, 0, 0, Polygon(((39.984094, 116.319236), (39.984229346480184, 116.319236), (39.984229346480184, 116.3193713464802), (39.984094, 116.3193713464802), (39.984094, 116.319236)))],\n",
    "            [1, 0, 1, Polygon(((39.984094, 116.319236), (39.984229346480184, 116.319236), (39.984229346480184, 116.3193713464802), (39.984094, 116.3193713464802), (39.984094, 116.319236)))],\n",
    "            [1, 4, 4, Polygon(((39.984094, 116.3193713464802), (39.984229346480184, 116.3193713464802), (39.984229346480184, 116.31950669296039), (39.984094, 116.31950669296039), (39.984094, 116.3193713464802)))],\n",
    "            [1, 3, 3, Polygon(((39.984094, 116.3193713464802), (39.984229346480184, 116.3193713464802), (39.984229346480184, 116.31950669296039), (39.984094, 116.31950669296039), (39.984094, 116.3193713464802)))],\n",
    "        ],\n",
    "        columns=['id', 'index_grid_lat', 'index_grid_lon', 'polygon'],\n",
    "        index=[0, 2, 5, 7],\n",
    "    )\n",
    "    \n",
    "    all_polygon = grid.create_all_polygons_to_all_point_on_grid(move_df)\n",
    "    \n",
    "    assert_frame_equal(all_polygon, expected)\n",
    "    "
   ]
  },
  {
   "cell_type": "code",
   "execution_count": 201,
   "metadata": {},
   "outputs": [
    {
     "name": "stdout",
     "output_type": "stream",
     "text": [
      "\n",
      "Creating or updating index of the grid feature..\n",
      "\n",
      "...[10,10] indexes were created to lat and lon\n"
     ]
    },
    {
     "data": {
      "application/vnd.jupyter.widget-view+json": {
       "model_id": "8d5632502b3747458e9478f7116ce36c",
       "version_major": 2,
       "version_minor": 0
      },
      "text/plain": [
       "VBox(children=(HTML(value=''), IntProgress(value=0, max=4)))"
      ]
     },
     "metadata": {},
     "output_type": "display_data"
    },
    {
     "name": "stdout",
     "output_type": "stream",
     "text": [
      "...polygons were created\n"
     ]
    }
   ],
   "source": [
    "test_create_all_polygons_to_all_point_on_grid()"
   ]
  },
  {
   "cell_type": "code",
   "execution_count": 211,
   "metadata": {},
   "outputs": [],
   "source": [
    "def test_point_to_index_grid():\n",
    "    move_df = _default_move_df()\n",
    "    grid = Grid(move_df, 15)\n",
    "    \n",
    "    index_lat, index_lon = grid.point_to_index_grid(event_lat = 39.984217, event_lon = 116.319422)\n",
    "    \n",
    "    assert(index_lat == 0.0)\n",
    "    \n",
    "    assert(index_lon == 1.0)"
   ]
  },
  {
   "cell_type": "code",
   "execution_count": 212,
   "metadata": {},
   "outputs": [
    {
     "name": "stdout",
     "output_type": "stream",
     "text": [
      "\n",
      "Creating a virtual grid without polygons\n",
      "...cell size by degree: 0.0001353464801860623\n",
      "...grid_size_lat_y:5\n",
      "grid_size_lon_x:5\n",
      "\n",
      "..A virtual grid was created\n",
      "...[1,1] indexes were created to lat and lon\n"
     ]
    }
   ],
   "source": [
    "test_point_to_index_grid()"
   ]
  },
  {
   "cell_type": "code",
   "execution_count": 203,
   "metadata": {},
   "outputs": [
    {
     "name": "stdout",
     "output_type": "stream",
     "text": [
      "\n",
      "Creating a virtual grid without polygons\n",
      "...cell size by degree: 0.0001353464801860623\n",
      "...grid_size_lat_y:5\n",
      "grid_size_lon_x:5\n",
      "\n",
      "..A virtual grid was created\n"
     ]
    }
   ],
   "source": [
    "move_df = _default_move_df()\n",
    "grid = Grid(move_df, 15)"
   ]
  },
  {
   "cell_type": "code",
   "execution_count": null,
   "metadata": {},
   "outputs": [],
   "source": []
  },
  {
   "cell_type": "code",
   "execution_count": null,
   "metadata": {},
   "outputs": [],
   "source": []
  },
  {
   "cell_type": "code",
   "execution_count": null,
   "metadata": {},
   "outputs": [],
   "source": []
  },
  {
   "cell_type": "code",
   "execution_count": null,
   "metadata": {},
   "outputs": [],
   "source": []
  },
  {
   "cell_type": "code",
   "execution_count": null,
   "metadata": {},
   "outputs": [],
   "source": []
  },
  {
   "cell_type": "code",
   "execution_count": null,
   "metadata": {},
   "outputs": [],
   "source": []
  },
  {
   "cell_type": "code",
   "execution_count": null,
   "metadata": {},
   "outputs": [],
   "source": []
  },
  {
   "cell_type": "code",
   "execution_count": null,
   "metadata": {},
   "outputs": [],
   "source": []
  },
  {
   "cell_type": "code",
   "execution_count": null,
   "metadata": {},
   "outputs": [],
   "source": []
  },
  {
   "cell_type": "code",
   "execution_count": null,
   "metadata": {},
   "outputs": [],
   "source": []
  },
  {
   "cell_type": "code",
   "execution_count": null,
   "metadata": {},
   "outputs": [],
   "source": []
  },
  {
   "cell_type": "code",
   "execution_count": null,
   "metadata": {},
   "outputs": [],
   "source": []
  },
  {
   "cell_type": "code",
   "execution_count": null,
   "metadata": {},
   "outputs": [],
   "source": []
  },
  {
   "cell_type": "code",
   "execution_count": null,
   "metadata": {},
   "outputs": [],
   "source": []
  },
  {
   "cell_type": "code",
   "execution_count": null,
   "metadata": {},
   "outputs": [],
   "source": []
  },
  {
   "cell_type": "code",
   "execution_count": null,
   "metadata": {},
   "outputs": [],
   "source": []
  },
  {
   "cell_type": "code",
   "execution_count": null,
   "metadata": {},
   "outputs": [],
   "source": []
  },
  {
   "cell_type": "code",
   "execution_count": null,
   "metadata": {},
   "outputs": [],
   "source": []
  },
  {
   "cell_type": "code",
   "execution_count": null,
   "metadata": {},
   "outputs": [],
   "source": []
  },
  {
   "cell_type": "code",
   "execution_count": null,
   "metadata": {},
   "outputs": [],
   "source": []
  },
  {
   "cell_type": "code",
   "execution_count": null,
   "metadata": {},
   "outputs": [],
   "source": []
  },
  {
   "cell_type": "code",
   "execution_count": null,
   "metadata": {},
   "outputs": [],
   "source": []
  },
  {
   "cell_type": "code",
   "execution_count": null,
   "metadata": {},
   "outputs": [],
   "source": []
  },
  {
   "cell_type": "code",
   "execution_count": null,
   "metadata": {},
   "outputs": [],
   "source": []
  },
  {
   "cell_type": "code",
   "execution_count": null,
   "metadata": {},
   "outputs": [],
   "source": []
  },
  {
   "cell_type": "code",
   "execution_count": null,
   "metadata": {},
   "outputs": [],
   "source": []
  },
  {
   "cell_type": "code",
   "execution_count": null,
   "metadata": {},
   "outputs": [],
   "source": []
  },
  {
   "cell_type": "code",
   "execution_count": null,
   "metadata": {},
   "outputs": [],
   "source": []
  },
  {
   "cell_type": "code",
   "execution_count": null,
   "metadata": {},
   "outputs": [],
   "source": []
  }
 ],
 "metadata": {
  "kernelspec": {
   "display_name": "Python 3",
   "language": "python",
   "name": "python3"
  },
  "language_info": {
   "codemirror_mode": {
    "name": "ipython",
    "version": 3
   },
   "file_extension": ".py",
   "mimetype": "text/x-python",
   "name": "python",
   "nbconvert_exporter": "python",
   "pygments_lexer": "ipython3",
   "version": "3.7.1"
  }
 },
 "nbformat": 4,
 "nbformat_minor": 2
}
