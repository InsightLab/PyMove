{
 "cells": [
  {
   "cell_type": "code",
   "execution_count": 138,
   "metadata": {},
   "outputs": [],
   "source": [
    "from pymove import trajectories\n",
    "from pandas import DataFrame\n",
    "from numpy.testing import assert_equal\n",
    "import os\n",
    "\n",
    "from numpy import array, nan\n",
    "from numpy.testing import assert_array_equal\n"
   ]
  },
  {
   "cell_type": "code",
   "execution_count": 96,
   "metadata": {},
   "outputs": [],
   "source": [
    "from pymove import PandasMoveDataFrame, DaskMoveDataFrame, MoveDataFrame\n",
    "\n",
    "from pymove.utils.constants import (\n",
    "    DATE,\n",
    "    DATETIME,\n",
    "    DAY,\n",
    "    DIST_PREV_TO_NEXT,\n",
    "    DIST_TO_PREV,\n",
    "    HOUR,\n",
    "    HOUR_SIN,\n",
    "    LATITUDE,\n",
    "    LONGITUDE,\n",
    "    PERIOD,\n",
    "    SITUATION,\n",
    "    SPEED_PREV_TO_NEXT,\n",
    "    TID,\n",
    "    TIME_PREV_TO_NEXT,\n",
    "    TRAJ_ID,\n",
    "    TYPE_DASK,\n",
    "    TYPE_PANDAS,\n",
    "    UID,\n",
    "    WEEK_END,\n",
    ")"
   ]
  },
  {
   "cell_type": "code",
   "execution_count": 97,
   "metadata": {},
   "outputs": [],
   "source": [
    "list_data = [\n",
    "    [39.984094, 116.319236, '2008-10-23 05:53:05', 1],\n",
    "    [39.984198, 116.319322, '2008-10-23 05:53:06', 1],\n",
    "    [39.984224, 116.319402, '2008-10-23 05:53:11', 1],\n",
    "    [39.984211, 116.319389, '2008-10-23 05:53:16', 1],\n",
    "    [39.984217, 116.319422, '2008-10-23 05:53:21', 1],\n",
    "]"
   ]
  },
  {
   "cell_type": "code",
   "execution_count": 98,
   "metadata": {},
   "outputs": [],
   "source": [
    "def _default_move_df():\n",
    "    return MoveDataFrame(\n",
    "        data=list_data,\n",
    "        latitude=LATITUDE,\n",
    "        longitude=LONGITUDE,\n",
    "        datetime=DATETIME,\n",
    "        traj_id=TRAJ_ID,\n",
    "    )"
   ]
  },
  {
   "cell_type": "code",
   "execution_count": 99,
   "metadata": {},
   "outputs": [],
   "source": [
    "def test_read_csv(tmpdir):\n",
    "    \n",
    "    expected = _default_pandas_df()\n",
    "    \n",
    "    d = tmpdir.mkdir('prepossessing')\n",
    "\n",
    "    file_default_columns = d.join('test_read_default.csv')\n",
    "    file_default_columns.write(list_data)\n",
    "    filename_default = os.path.join(\n",
    "        file_default_columns.dirname, file_default_columns.basename\n",
    "    )\n",
    "    \n",
    "    pandas_move_df = trajectories.read_csv(filename_default, type_='pandas')\n",
    "    \n",
    "    assert isinstance(pandas_move_df, PandasMoveDataFrame)\n",
    "    \n",
    "    assert_frame_equal(pandas_move_df, expected)\n",
    "    \n",
    "    dask_move_df = trajectories.read_csv('examples/geolife_sample.csv', type_='dask')"
   ]
  },
  {
   "cell_type": "code",
   "execution_count": 103,
   "metadata": {},
   "outputs": [],
   "source": [
    "def test_format_labels():\n",
    "    \n",
    "    expected = {'col1': 'id', \n",
    "                'col3': 'lon', \n",
    "                'col2': 'lat', \n",
    "                'col4': 'datetime'}\n",
    "    labels = trajectories.format_labels('col1', 'col2', 'col3', 'col4')\n",
    "    \n",
    "    assert_equal(labels, expected)"
   ]
  },
  {
   "cell_type": "code",
   "execution_count": 104,
   "metadata": {},
   "outputs": [],
   "source": [
    "test_format_labels()"
   ]
  },
  {
   "cell_type": "code",
   "execution_count": 165,
   "metadata": {},
   "outputs": [],
   "source": [
    "def test_shift():\n",
    "    \n",
    "    expected = [-2147483648, -2147483648, -2147483648, 1, 2]\n",
    "    \n",
    "    array_ = [1, 2, 3, 4, 5]\n",
    "    \n",
    "    shifted_array = trajectories.shift(arr=array_, num=3)\n",
    "    \n",
    "    assert_array_equal(shifted_array, expected)\n",
    "    \n",
    "    expected = [4, 5, 0, 0, 0]\n",
    "    \n",
    "    shifted_array = trajectories.shift(arr=array_, num=-3, fill_value=0)\n",
    "    \n",
    "    assert_array_equal(shifted_array, expected)  "
   ]
  },
  {
   "cell_type": "code",
   "execution_count": 245,
   "metadata": {},
   "outputs": [],
   "source": [
    "def test_fill_list_with_new_values():\n",
    "    \n",
    "    exected = [2, 3, 4]\n",
    "    \n",
    "    original_list = [2, 3, 4]\n",
    "    \n",
    "    new_list = []    \n",
    "    \n",
    "    trajectories.fill_list_with_new_values(original_list=original_list, new_list_values=new_list)\n",
    "    \n",
    "    assert_array_equal(original_list, exected)\n",
    "    \n",
    "    exected = [2, 6]\n",
    "    \n",
    "    original_list = []\n",
    "    \n",
    "    new_list = [2, 6]   \n",
    "    \n",
    "    trajectories.fill_list_with_new_values(original_list=original_list, new_list_values=new_list)\n",
    "    \n",
    "    assert_array_equal(original_list, exected)\n",
    "    \n",
    "    exected = [5, 6, 7] \n",
    "    \n",
    "    original_list = [2, 3]\n",
    "    \n",
    "    new_list = [5, 6, 7]  \n",
    "    \n",
    "    trajectories.fill_list_with_new_values(original_list=original_list, new_list_values=new_list)\n",
    "    \n",
    "    assert_array_equal(original_list, exected)    \n",
    "    "
   ]
  },
  {
   "cell_type": "code",
   "execution_count": 246,
   "metadata": {},
   "outputs": [],
   "source": [
    "test_fill_list_with_new_values()"
   ]
  },
  {
   "cell_type": "code",
   "execution_count": null,
   "metadata": {},
   "outputs": [],
   "source": []
  },
  {
   "cell_type": "code",
   "execution_count": null,
   "metadata": {},
   "outputs": [],
   "source": []
  },
  {
   "cell_type": "code",
   "execution_count": null,
   "metadata": {},
   "outputs": [],
   "source": []
  },
  {
   "cell_type": "code",
   "execution_count": null,
   "metadata": {},
   "outputs": [],
   "source": []
  },
  {
   "cell_type": "code",
   "execution_count": null,
   "metadata": {},
   "outputs": [],
   "source": []
  },
  {
   "cell_type": "code",
   "execution_count": null,
   "metadata": {},
   "outputs": [],
   "source": []
  },
  {
   "cell_type": "code",
   "execution_count": null,
   "metadata": {},
   "outputs": [],
   "source": []
  }
 ],
 "metadata": {
  "kernelspec": {
   "display_name": "Python 3",
   "language": "python",
   "name": "python3"
  },
  "language_info": {
   "codemirror_mode": {
    "name": "ipython",
    "version": 3
   },
   "file_extension": ".py",
   "mimetype": "text/x-python",
   "name": "python",
   "nbconvert_exporter": "python",
   "pygments_lexer": "ipython3",
   "version": "3.7.1"
  }
 },
 "nbformat": 4,
 "nbformat_minor": 2
}
