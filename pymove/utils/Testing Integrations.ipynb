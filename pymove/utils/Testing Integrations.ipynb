{
 "cells": [
  {
   "cell_type": "markdown",
   "metadata": {},
   "source": [
    "# Testando Integrations"
   ]
  },
  {
   "cell_type": "markdown",
   "metadata": {},
   "source": [
    "## Importações"
   ]
  },
  {
   "cell_type": "code",
   "execution_count": 6,
   "metadata": {},
   "outputs": [
    {
     "ename": "ModuleNotFoundError",
     "evalue": "No module named '_winmock'",
     "output_type": "error",
     "traceback": [
      "\u001b[1;31m---------------------------------------------------------------------------\u001b[0m",
      "\u001b[1;31mModuleNotFoundError\u001b[0m                       Traceback (most recent call last)",
      "\u001b[1;32m~\\.conda\\envs\\geo1\\lib\\site-packages\\pymove\\utils\\mem.py\u001b[0m in \u001b[0;36m<module>\u001b[1;34m\u001b[0m\n\u001b[0;32m      5\u001b[0m \u001b[1;32mtry\u001b[0m\u001b[1;33m:\u001b[0m\u001b[1;33m\u001b[0m\u001b[1;33m\u001b[0m\u001b[0m\n\u001b[1;32m----> 6\u001b[1;33m     \u001b[1;32mimport\u001b[0m \u001b[0mpwd\u001b[0m\u001b[1;33m\u001b[0m\u001b[1;33m\u001b[0m\u001b[0m\n\u001b[0m\u001b[0;32m      7\u001b[0m     \u001b[1;32mimport\u001b[0m \u001b[0mresource\u001b[0m\u001b[1;33m\u001b[0m\u001b[1;33m\u001b[0m\u001b[0m\n",
      "\u001b[1;31mModuleNotFoundError\u001b[0m: No module named 'pwd'",
      "\nDuring handling of the above exception, another exception occurred:\n",
      "\u001b[1;31mModuleNotFoundError\u001b[0m                       Traceback (most recent call last)",
      "\u001b[1;32m<ipython-input-6-4f1206e9adcd>\u001b[0m in \u001b[0;36m<module>\u001b[1;34m\u001b[0m\n\u001b[1;32m----> 1\u001b[1;33m \u001b[1;32mimport\u001b[0m \u001b[0mpymove\u001b[0m\u001b[1;33m\u001b[0m\u001b[1;33m\u001b[0m\u001b[0m\n\u001b[0m\u001b[0;32m      2\u001b[0m \u001b[1;32mimport\u001b[0m \u001b[0mintegration\u001b[0m \u001b[1;32mas\u001b[0m \u001b[0mit\u001b[0m\u001b[1;33m\u001b[0m\u001b[1;33m\u001b[0m\u001b[0m\n\u001b[0;32m      3\u001b[0m \u001b[1;32mfrom\u001b[0m \u001b[0mpymove\u001b[0m\u001b[1;33m.\u001b[0m\u001b[0mvisualization\u001b[0m \u001b[1;32mimport\u001b[0m \u001b[0mvisualization\u001b[0m\u001b[1;33m\u001b[0m\u001b[1;33m\u001b[0m\u001b[0m\n\u001b[0;32m      4\u001b[0m \u001b[1;32mfrom\u001b[0m \u001b[0mpymove\u001b[0m \u001b[1;32mimport\u001b[0m \u001b[0mMoveDataFrame\u001b[0m\u001b[1;33m\u001b[0m\u001b[1;33m\u001b[0m\u001b[0m\n\u001b[0;32m      5\u001b[0m \u001b[1;32mimport\u001b[0m \u001b[0mnumpy\u001b[0m \u001b[1;32mas\u001b[0m \u001b[0mnp\u001b[0m\u001b[1;33m\u001b[0m\u001b[1;33m\u001b[0m\u001b[0m\n",
      "\u001b[1;32m~\\.conda\\envs\\geo1\\lib\\site-packages\\pymove\\__init__.py\u001b[0m in \u001b[0;36m<module>\u001b[1;34m\u001b[0m\n\u001b[0;32m      1\u001b[0m \u001b[1;32mfrom\u001b[0m \u001b[1;33m.\u001b[0m\u001b[0mutils\u001b[0m \u001b[1;32mimport\u001b[0m \u001b[0mtrajectories\u001b[0m\u001b[1;33m\u001b[0m\u001b[1;33m\u001b[0m\u001b[0m\n\u001b[0;32m      2\u001b[0m \u001b[1;32mfrom\u001b[0m \u001b[1;33m.\u001b[0m\u001b[0mutils\u001b[0m \u001b[1;32mimport\u001b[0m \u001b[0mconstants\u001b[0m\u001b[1;33m\u001b[0m\u001b[1;33m\u001b[0m\u001b[0m\n\u001b[1;32m----> 3\u001b[1;33m \u001b[1;32mfrom\u001b[0m \u001b[1;33m.\u001b[0m\u001b[0mutils\u001b[0m \u001b[1;32mimport\u001b[0m \u001b[0mtransformations\u001b[0m\u001b[1;33m\u001b[0m\u001b[1;33m\u001b[0m\u001b[0m\n\u001b[0m\u001b[0;32m      4\u001b[0m \u001b[1;32mfrom\u001b[0m \u001b[1;33m.\u001b[0m\u001b[0mutils\u001b[0m \u001b[1;32mimport\u001b[0m \u001b[0mconversions\u001b[0m\u001b[1;33m\u001b[0m\u001b[1;33m\u001b[0m\u001b[0m\n\u001b[0;32m      5\u001b[0m \u001b[1;32mfrom\u001b[0m \u001b[1;33m.\u001b[0m\u001b[0mutils\u001b[0m \u001b[1;32mimport\u001b[0m \u001b[0mdatetime\u001b[0m\u001b[1;33m\u001b[0m\u001b[1;33m\u001b[0m\u001b[0m\n",
      "\u001b[1;32m~\\.conda\\envs\\geo1\\lib\\site-packages\\pymove\\utils\\transformations.py\u001b[0m in \u001b[0;36m<module>\u001b[1;34m\u001b[0m\n\u001b[1;32m----> 1\u001b[1;33m \u001b[1;32mfrom\u001b[0m \u001b[0mpymove\u001b[0m\u001b[1;33m.\u001b[0m\u001b[0mcore\u001b[0m\u001b[1;33m.\u001b[0m\u001b[0mdataframe\u001b[0m \u001b[1;32mimport\u001b[0m \u001b[0mPandasMoveDataFrame\u001b[0m\u001b[1;33m\u001b[0m\u001b[1;33m\u001b[0m\u001b[0m\n\u001b[0m\u001b[0;32m      2\u001b[0m \u001b[1;33m\u001b[0m\u001b[0m\n\u001b[0;32m      3\u001b[0m \u001b[1;33m\u001b[0m\u001b[0m\n\u001b[0;32m      4\u001b[0m def feature_values_using_filter(\n\u001b[0;32m      5\u001b[0m     \u001b[0mmove_data\u001b[0m\u001b[1;33m,\u001b[0m \u001b[0mid_\u001b[0m\u001b[1;33m,\u001b[0m \u001b[0mfeature_name\u001b[0m\u001b[1;33m,\u001b[0m \u001b[0mfilter_\u001b[0m\u001b[1;33m,\u001b[0m \u001b[0mvalues\u001b[0m\u001b[1;33m,\u001b[0m \u001b[0minplace\u001b[0m\u001b[1;33m=\u001b[0m\u001b[1;32mTrue\u001b[0m\u001b[1;33m\u001b[0m\u001b[1;33m\u001b[0m\u001b[0m\n",
      "\u001b[1;32mc:\\users\\mauri\\onedrive\\documentos\\projetos\\python\\pymove - tcc\\pymove\\pymove\\core\\dataframe.py\u001b[0m in \u001b[0;36m<module>\u001b[1;34m\u001b[0m\n\u001b[0;32m      9\u001b[0m \u001b[1;33m\u001b[0m\u001b[0m\n\u001b[0;32m     10\u001b[0m \u001b[1;32mfrom\u001b[0m \u001b[0mpymove\u001b[0m\u001b[1;33m.\u001b[0m\u001b[0mcore\u001b[0m \u001b[1;32mimport\u001b[0m \u001b[0mMoveDataFrameAbstractModel\u001b[0m\u001b[1;33m\u001b[0m\u001b[1;33m\u001b[0m\u001b[0m\n\u001b[1;32m---> 11\u001b[1;33m \u001b[1;32mfrom\u001b[0m \u001b[0mpymove\u001b[0m\u001b[1;33m.\u001b[0m\u001b[0mcore\u001b[0m\u001b[1;33m.\u001b[0m\u001b[0mgrid\u001b[0m \u001b[1;32mimport\u001b[0m \u001b[0mGrid\u001b[0m\u001b[1;33m\u001b[0m\u001b[1;33m\u001b[0m\u001b[0m\n\u001b[0m\u001b[0;32m     12\u001b[0m from pymove.utils.constants import (\n\u001b[0;32m     13\u001b[0m     \u001b[0mDATETIME\u001b[0m\u001b[1;33m,\u001b[0m\u001b[1;33m\u001b[0m\u001b[1;33m\u001b[0m\u001b[0m\n",
      "\u001b[1;32mc:\\users\\mauri\\onedrive\\documentos\\projetos\\python\\pymove - tcc\\pymove\\pymove\\core\\grid.py\u001b[0m in \u001b[0;36m<module>\u001b[1;34m\u001b[0m\n\u001b[0;32m     18\u001b[0m )\n\u001b[0;32m     19\u001b[0m \u001b[1;32mfrom\u001b[0m \u001b[0mpymove\u001b[0m\u001b[1;33m.\u001b[0m\u001b[0mutils\u001b[0m\u001b[1;33m.\u001b[0m\u001b[0mconversions\u001b[0m \u001b[1;32mimport\u001b[0m \u001b[0mlat_meters\u001b[0m\u001b[1;33m\u001b[0m\u001b[1;33m\u001b[0m\u001b[0m\n\u001b[1;32m---> 20\u001b[1;33m \u001b[1;32mfrom\u001b[0m \u001b[0mpymove\u001b[0m\u001b[1;33m.\u001b[0m\u001b[0mutils\u001b[0m\u001b[1;33m.\u001b[0m\u001b[0mmem\u001b[0m \u001b[1;32mimport\u001b[0m \u001b[0mbegin_operation\u001b[0m\u001b[1;33m,\u001b[0m \u001b[0mend_operation\u001b[0m\u001b[1;33m\u001b[0m\u001b[1;33m\u001b[0m\u001b[0m\n\u001b[0m\u001b[0;32m     21\u001b[0m \u001b[1;33m\u001b[0m\u001b[0m\n\u001b[0;32m     22\u001b[0m \u001b[1;33m\u001b[0m\u001b[0m\n",
      "\u001b[1;32m~\\.conda\\envs\\geo1\\lib\\site-packages\\pymove\\utils\\mem.py\u001b[0m in \u001b[0;36m<module>\u001b[1;34m\u001b[0m\n\u001b[0;32m      7\u001b[0m     \u001b[1;32mimport\u001b[0m \u001b[0mresource\u001b[0m\u001b[1;33m\u001b[0m\u001b[1;33m\u001b[0m\u001b[0m\n\u001b[0;32m      8\u001b[0m \u001b[1;32mexcept\u001b[0m \u001b[1;33m(\u001b[0m\u001b[0mModuleNotFoundError\u001b[0m\u001b[1;33m,\u001b[0m \u001b[0mImportError\u001b[0m\u001b[1;33m)\u001b[0m\u001b[1;33m:\u001b[0m\u001b[1;33m\u001b[0m\u001b[1;33m\u001b[0m\u001b[0m\n\u001b[1;32m----> 9\u001b[1;33m     \u001b[1;32mimport\u001b[0m \u001b[0m_winmock\u001b[0m \u001b[1;32mas\u001b[0m \u001b[0mpwd\u001b[0m\u001b[1;33m\u001b[0m\u001b[1;33m\u001b[0m\u001b[0m\n\u001b[0m\u001b[0;32m     10\u001b[0m     \u001b[1;32mimport\u001b[0m \u001b[0m_winmock\u001b[0m \u001b[1;32mas\u001b[0m \u001b[0mresource\u001b[0m\u001b[1;33m\u001b[0m\u001b[1;33m\u001b[0m\u001b[0m\n\u001b[0;32m     11\u001b[0m \u001b[1;32mimport\u001b[0m \u001b[0mre\u001b[0m\u001b[1;33m\u001b[0m\u001b[1;33m\u001b[0m\u001b[0m\n",
      "\u001b[1;31mModuleNotFoundError\u001b[0m: No module named '_winmock'"
     ]
    }
   ],
   "source": [
    "import pymove\n",
    "import integration as it\n",
    "from pymove.visualization import visualization\n",
    "from pymove import MoveDataFrame\n",
    "import numpy as np\n",
    "import pandas as pd"
   ]
  },
  {
   "cell_type": "markdown",
   "metadata": {},
   "source": [
    "## Para pegar Pontos de Interesse reais"
   ]
  },
  {
   "cell_type": "code",
   "execution_count": null,
   "metadata": {},
   "outputs": [],
   "source": [
    "conda config --prepend channels conda-forge"
   ]
  },
  {
   "cell_type": "code",
   "execution_count": 3,
   "metadata": {},
   "outputs": [
    {
     "name": "stdout",
     "output_type": "stream",
     "text": [
      "Collecting package metadata (current_repodata.json): ...working... done\n",
      "Solving environment: ...working... done\n",
      "\n",
      "## Package Plan ##\n",
      "\n",
      "  environment location: C:\\Users\\mauri\\.conda\\envs\\geo1\n",
      "\n",
      "  added / updated specs:\n",
      "    - osmnx\n",
      "\n",
      "\n",
      "The following packages will be downloaded:\n",
      "\n",
      "    package                    |            build\n",
      "    ---------------------------|-----------------\n",
      "    branca-0.4.1               |             py_0          26 KB  conda-forge\n",
      "    brotlipy-0.7.0             |py36h779f372_1000         368 KB  conda-forge\n",
      "    ca-certificates-2020.4.5.1 |       hecc5488_0         184 KB  conda-forge\n",
      "    certifi-2020.4.5.1         |   py36h9f0ad1d_0         151 KB  conda-forge\n",
      "    cffi-1.14.0                |   py36ha419a9e_0         221 KB  conda-forge\n",
      "    chardet-3.0.4              |py36h9f0ad1d_1006         220 KB  conda-forge\n",
      "    cryptography-2.9.2         |   py36hef61171_0         580 KB  conda-forge\n",
      "    cycler-0.10.0              |             py_2           9 KB  conda-forge\n",
      "    descartes-1.1.0            |             py_4           7 KB  conda-forge\n",
      "    folium-0.11.0              |             py_0          61 KB  conda-forge\n",
      "    freetype-2.10.1            |       ha9979f8_0         481 KB  conda-forge\n",
      "    geographiclib-1.50         |             py_0          34 KB  conda-forge\n",
      "    geopy-1.21.0               |             py_0          58 KB  conda-forge\n",
      "    idna-2.9                   |             py_1          52 KB  conda-forge\n",
      "    joblib-0.14.1              |             py_0         198 KB  conda-forge\n",
      "    kiwisolver-1.2.0           |   py36h246c5b5_0          61 KB  conda-forge\n",
      "    libblas-3.8.0              |           15_mkl         3.5 MB  conda-forge\n",
      "    libcblas-3.8.0             |           15_mkl         3.5 MB  conda-forge\n",
      "    matplotlib-base-3.2.1      |   py36hf0cddfc_0         7.1 MB  conda-forge\n",
      "    networkx-2.4               |             py_1         1.2 MB  conda-forge\n",
      "    openssl-1.1.1g             |       he774522_0         5.7 MB  conda-forge\n",
      "    osmnx-0.12.1               |     pyh9f0ad1d_0          63 KB  conda-forge\n",
      "    pycparser-2.20             |             py_0          89 KB  conda-forge\n",
      "    pyopenssl-19.1.0           |             py_1          47 KB  conda-forge\n",
      "    pyparsing-2.4.7            |     pyh9f0ad1d_0          60 KB  conda-forge\n",
      "    pysocks-1.7.1              |   py36h9f0ad1d_1          27 KB  conda-forge\n",
      "    python_abi-3.6             |          1_cp36m           4 KB  conda-forge\n",
      "    requests-2.23.0            |     pyh8c360ce_2          47 KB  conda-forge\n",
      "    scikit-learn-0.22.2.post1  |   py36h7208079_0         6.1 MB  conda-forge\n",
      "    scipy-1.4.1                |   py36h9439919_0        11.9 MB\n",
      "    urllib3-1.25.9             |             py_0          92 KB  conda-forge\n",
      "    win_inet_pton-1.1.0        |           py36_0           7 KB  conda-forge\n",
      "    ------------------------------------------------------------\n",
      "                                           Total:        42.1 MB\n",
      "\n",
      "The following NEW packages will be INSTALLED:\n",
      "\n",
      "  branca             conda-forge/noarch::branca-0.4.1-py_0\n",
      "  brotlipy           conda-forge/win-64::brotlipy-0.7.0-py36h779f372_1000\n",
      "  cffi               conda-forge/win-64::cffi-1.14.0-py36ha419a9e_0\n",
      "  chardet            conda-forge/win-64::chardet-3.0.4-py36h9f0ad1d_1006\n",
      "  cryptography       conda-forge/win-64::cryptography-2.9.2-py36hef61171_0\n",
      "  cycler             conda-forge/noarch::cycler-0.10.0-py_2\n",
      "  descartes          conda-forge/noarch::descartes-1.1.0-py_4\n",
      "  folium             conda-forge/noarch::folium-0.11.0-py_0\n",
      "  freetype           conda-forge/win-64::freetype-2.10.1-ha9979f8_0\n",
      "  geographiclib      conda-forge/noarch::geographiclib-1.50-py_0\n",
      "  geopy              conda-forge/noarch::geopy-1.21.0-py_0\n",
      "  idna               conda-forge/noarch::idna-2.9-py_1\n",
      "  joblib             conda-forge/noarch::joblib-0.14.1-py_0\n",
      "  kiwisolver         conda-forge/win-64::kiwisolver-1.2.0-py36h246c5b5_0\n",
      "  libblas            conda-forge/win-64::libblas-3.8.0-15_mkl\n",
      "  libcblas           conda-forge/win-64::libcblas-3.8.0-15_mkl\n",
      "  matplotlib-base    conda-forge/win-64::matplotlib-base-3.2.1-py36hf0cddfc_0\n",
      "  networkx           conda-forge/noarch::networkx-2.4-py_1\n",
      "  osmnx              conda-forge/noarch::osmnx-0.12.1-pyh9f0ad1d_0\n",
      "  pycparser          conda-forge/noarch::pycparser-2.20-py_0\n",
      "  pyopenssl          conda-forge/noarch::pyopenssl-19.1.0-py_1\n",
      "  pyparsing          conda-forge/noarch::pyparsing-2.4.7-pyh9f0ad1d_0\n",
      "  pysocks            conda-forge/win-64::pysocks-1.7.1-py36h9f0ad1d_1\n",
      "  python_abi         conda-forge/win-64::python_abi-3.6-1_cp36m\n",
      "  requests           conda-forge/noarch::requests-2.23.0-pyh8c360ce_2\n",
      "  scikit-learn       conda-forge/win-64::scikit-learn-0.22.2.post1-py36h7208079_0\n",
      "  scipy              pkgs/main/win-64::scipy-1.4.1-py36h9439919_0\n",
      "  urllib3            conda-forge/noarch::urllib3-1.25.9-py_0\n",
      "  win_inet_pton      conda-forge/win-64::win_inet_pton-1.1.0-py36_0\n",
      "\n",
      "The following packages will be UPDATED:\n",
      "\n",
      "  ca-certificates     pkgs/main::ca-certificates-2020.1.1-0 --> conda-forge::ca-certificates-2020.4.5.1-hecc5488_0\n",
      "\n",
      "The following packages will be SUPERSEDED by a higher-priority channel:\n",
      "\n",
      "  certifi              pkgs/main::certifi-2020.4.5.1-py36_0 --> conda-forge::certifi-2020.4.5.1-py36h9f0ad1d_0\n",
      "  openssl                                         pkgs/main --> conda-forge\n",
      "\n",
      "\n",
      "\n",
      "Downloading and Extracting Packages\n",
      "\n",
      "openssl-1.1.1g       | 5.7 MB    |            |   0% \n",
      "openssl-1.1.1g       | 5.7 MB    |            |   0% \n",
      "openssl-1.1.1g       | 5.7 MB    | #9         |  20% \n",
      "openssl-1.1.1g       | 5.7 MB    | #####      |  50% \n",
      "openssl-1.1.1g       | 5.7 MB    | ########   |  80% \n",
      "openssl-1.1.1g       | 5.7 MB    | ########## | 100% \n",
      "\n",
      "joblib-0.14.1        | 198 KB    |            |   0% \n",
      "joblib-0.14.1        | 198 KB    | 8          |   8% \n",
      "joblib-0.14.1        | 198 KB    | ########## | 100% \n",
      "\n",
      "idna-2.9             | 52 KB     |            |   0% \n",
      "idna-2.9             | 52 KB     | ########## | 100% \n",
      "\n",
      "pyparsing-2.4.7      | 60 KB     |            |   0% \n",
      "pyparsing-2.4.7      | 60 KB     | ########## | 100% \n",
      "\n",
      "pyopenssl-19.1.0     | 47 KB     |            |   0% \n",
      "pyopenssl-19.1.0     | 47 KB     | ########## | 100% \n",
      "\n",
      "folium-0.11.0        | 61 KB     |            |   0% \n",
      "folium-0.11.0        | 61 KB     | ##6        |  26% \n",
      "folium-0.11.0        | 61 KB     | ########## | 100% \n",
      "\n",
      "requests-2.23.0      | 47 KB     |            |   0% \n",
      "requests-2.23.0      | 47 KB     | ########## | 100% \n",
      "\n",
      "ca-certificates-2020 | 184 KB    |            |   0% \n",
      "ca-certificates-2020 | 184 KB    | ########## | 100% \n",
      "\n",
      "scipy-1.4.1          | 11.9 MB   |            |   0% \n",
      "scipy-1.4.1          | 11.9 MB   |            |   0% \n",
      "scipy-1.4.1          | 11.9 MB   | #1         |  11% \n",
      "scipy-1.4.1          | 11.9 MB   | ##7        |  27% \n",
      "scipy-1.4.1          | 11.9 MB   | ####1      |  42% \n",
      "scipy-1.4.1          | 11.9 MB   | #####3     |  53% \n",
      "scipy-1.4.1          | 11.9 MB   | ######5    |  66% \n",
      "scipy-1.4.1          | 11.9 MB   | #######8   |  78% \n",
      "scipy-1.4.1          | 11.9 MB   | #########  |  90% \n",
      "scipy-1.4.1          | 11.9 MB   | ########## | 100% \n",
      "\n",
      "cycler-0.10.0        | 9 KB      |            |   0% \n",
      "cycler-0.10.0        | 9 KB      | ########## | 100% \n",
      "\n",
      "brotlipy-0.7.0       | 368 KB    |            |   0% \n",
      "brotlipy-0.7.0       | 368 KB    | 4          |   4% \n",
      "brotlipy-0.7.0       | 368 KB    | ########2  |  83% \n",
      "brotlipy-0.7.0       | 368 KB    | ########## | 100% \n",
      "\n",
      "python_abi-3.6       | 4 KB      |            |   0% \n",
      "python_abi-3.6       | 4 KB      | ########## | 100% \n",
      "\n",
      "urllib3-1.25.9       | 92 KB     |            |   0% \n",
      "urllib3-1.25.9       | 92 KB     | ########## | 100% \n",
      "\n",
      "win_inet_pton-1.1.0  | 7 KB      |            |   0% \n",
      "win_inet_pton-1.1.0  | 7 KB      | ########## | 100% \n",
      "\n",
      "libblas-3.8.0        | 3.5 MB    |            |   0% \n",
      "libblas-3.8.0        | 3.5 MB    | ##6        |  26% \n",
      "libblas-3.8.0        | 3.5 MB    | #######3   |  74% \n",
      "libblas-3.8.0        | 3.5 MB    | ########## | 100% \n",
      "\n",
      "networkx-2.4         | 1.2 MB    |            |   0% \n",
      "networkx-2.4         | 1.2 MB    | #######5   |  75% \n",
      "networkx-2.4         | 1.2 MB    | ########## | 100% \n",
      "\n",
      "kiwisolver-1.2.0     | 61 KB     |            |   0% \n",
      "kiwisolver-1.2.0     | 61 KB     | ##6        |  26% \n",
      "kiwisolver-1.2.0     | 61 KB     | ########## | 100% \n",
      "\n",
      "libcblas-3.8.0       | 3.5 MB    |            |   0% \n",
      "libcblas-3.8.0       | 3.5 MB    | ##5        |  26% \n",
      "libcblas-3.8.0       | 3.5 MB    | #######5   |  76% \n",
      "libcblas-3.8.0       | 3.5 MB    | ########## | 100% \n",
      "\n",
      "cryptography-2.9.2   | 580 KB    |            |   0% \n",
      "cryptography-2.9.2   | 580 KB    | 2          |   3% \n",
      "cryptography-2.9.2   | 580 KB    | ########## | 100% \n",
      "\n",
      "cffi-1.14.0          | 221 KB    |            |   0% \n",
      "cffi-1.14.0          | 221 KB    | 7          |   7% \n",
      "cffi-1.14.0          | 221 KB    | ########## | 100% \n",
      "\n",
      "osmnx-0.12.1         | 63 KB     |            |   0% \n",
      "osmnx-0.12.1         | 63 KB     | ########## | 100% \n",
      "\n",
      "pycparser-2.20       | 89 KB     |            |   0% \n",
      "pycparser-2.20       | 89 KB     | ########## | 100% \n",
      "\n",
      "descartes-1.1.0      | 7 KB      |            |   0% \n",
      "descartes-1.1.0      | 7 KB      | ########## | 100% \n",
      "\n",
      "geographiclib-1.50   | 34 KB     |            |   0% \n",
      "geographiclib-1.50   | 34 KB     | ####7      |  47% \n",
      "geographiclib-1.50   | 34 KB     | ########## | 100% \n",
      "\n",
      "Note: you may need to restart the kernel to use updated packages.\n",
      "geopy-1.21.0         | 58 KB     |            |   0% \n",
      "geopy-1.21.0         | 58 KB     | ##7        |  27% \n",
      "geopy-1.21.0         | 58 KB     | ########## | 100% \n",
      "\n",
      "freetype-2.10.1      | 481 KB    |            |   0% \n",
      "freetype-2.10.1      | 481 KB    | ########## | 100% \n",
      "\n",
      "chardet-3.0.4        | 220 KB    |            |   0% \n",
      "chardet-3.0.4        | 220 KB    | 7          |   7% \n",
      "chardet-3.0.4        | 220 KB    | ########## | 100% \n",
      "\n",
      "certifi-2020.4.5.1   | 151 KB    |            |   0% \n",
      "certifi-2020.4.5.1   | 151 KB    | ########## | 100% \n",
      "\n",
      "matplotlib-base-3.2. | 7.1 MB    |            |   0% \n",
      "matplotlib-base-3.2. | 7.1 MB    | #1         |  12% \n",
      "matplotlib-base-3.2. | 7.1 MB    | ###4       |  35% \n",
      "matplotlib-base-3.2. | 7.1 MB    | #####9     |  59% \n",
      "matplotlib-base-3.2. | 7.1 MB    | ########3  |  84% \n",
      "matplotlib-base-3.2. | 7.1 MB    | ########## | 100% \n",
      "\n",
      "pysocks-1.7.1        | 27 KB     |            |   0% \n",
      "pysocks-1.7.1        | 27 KB     | ######     |  60% \n",
      "pysocks-1.7.1        | 27 KB     | ########## | 100% \n",
      "\n",
      "branca-0.4.1         | 26 KB     |            |   0% \n",
      "branca-0.4.1         | 26 KB     | ######1    |  62% \n",
      "branca-0.4.1         | 26 KB     | ########## | 100% \n",
      "\n",
      "scikit-learn-0.22.2. | 6.1 MB    |            |   0% \n",
      "scikit-learn-0.22.2. | 6.1 MB    |            |   0% \n"
     ]
    },
    {
     "name": "stdout",
     "output_type": "stream",
     "text": [
      "\n",
      "scikit-learn-0.22.2. | 6.1 MB    | #          |  10% \n",
      "scikit-learn-0.22.2. | 6.1 MB    | ###2       |  33% \n",
      "scikit-learn-0.22.2. | 6.1 MB    | #####3     |  54% \n",
      "scikit-learn-0.22.2. | 6.1 MB    | #######7   |  77% \n",
      "scikit-learn-0.22.2. | 6.1 MB    | ########## | 100% \n",
      "Preparing transaction: ...working... done\n",
      "Verifying transaction: ...working... done\n",
      "Executing transaction: ...working... done\n"
     ]
    }
   ],
   "source": [
    "conda install -c conda-forge osmnx"
   ]
  },
  {
   "cell_type": "markdown",
   "metadata": {},
   "source": [
    "## Obtendo o Data Set "
   ]
  },
  {
   "cell_type": "markdown",
   "metadata": {},
   "source": [
    "O dataset utilizado se refere a crimes ocorridos em Boston. Os registros começam em 14 de junho de 2015 e continuam até 3 de setembro de 2018. Os dados são fornecidos pela Analyze Boston."
   ]
  },
  {
   "cell_type": "code",
   "execution_count": 14,
   "metadata": {
    "scrolled": false
   },
   "outputs": [
    {
     "data": {
      "text/html": [
       "<div>\n",
       "<style scoped>\n",
       "    .dataframe tbody tr th:only-of-type {\n",
       "        vertical-align: middle;\n",
       "    }\n",
       "\n",
       "    .dataframe tbody tr th {\n",
       "        vertical-align: top;\n",
       "    }\n",
       "\n",
       "    .dataframe thead th {\n",
       "        text-align: right;\n",
       "    }\n",
       "</style>\n",
       "<table border=\"1\" class=\"dataframe\">\n",
       "  <thead>\n",
       "    <tr style=\"text-align: right;\">\n",
       "      <th></th>\n",
       "      <th>INCIDENT_NUMBER</th>\n",
       "      <th>OFFENSE_CODE</th>\n",
       "      <th>OFFENSE_CODE_GROUP</th>\n",
       "      <th>OFFENSE_DESCRIPTION</th>\n",
       "      <th>DISTRICT</th>\n",
       "      <th>REPORTING_AREA</th>\n",
       "      <th>SHOOTING</th>\n",
       "      <th>OCCURRED_ON_DATE</th>\n",
       "      <th>YEAR</th>\n",
       "      <th>MONTH</th>\n",
       "      <th>DAY_OF_WEEK</th>\n",
       "      <th>HOUR</th>\n",
       "      <th>UCR_PART</th>\n",
       "      <th>STREET</th>\n",
       "      <th>Lat</th>\n",
       "      <th>Long</th>\n",
       "      <th>Location</th>\n",
       "    </tr>\n",
       "  </thead>\n",
       "  <tbody>\n",
       "    <tr>\n",
       "      <th>0</th>\n",
       "      <td>I182070945</td>\n",
       "      <td>619</td>\n",
       "      <td>Larceny</td>\n",
       "      <td>LARCENY ALL OTHERS</td>\n",
       "      <td>D14</td>\n",
       "      <td>808</td>\n",
       "      <td>NaN</td>\n",
       "      <td>2018-09-02 13:00:00</td>\n",
       "      <td>2018</td>\n",
       "      <td>9</td>\n",
       "      <td>Sunday</td>\n",
       "      <td>13</td>\n",
       "      <td>Part One</td>\n",
       "      <td>LINCOLN ST</td>\n",
       "      <td>42.357791</td>\n",
       "      <td>-71.139371</td>\n",
       "      <td>(42.35779134, -71.13937053)</td>\n",
       "    </tr>\n",
       "    <tr>\n",
       "      <th>1</th>\n",
       "      <td>I182070943</td>\n",
       "      <td>1402</td>\n",
       "      <td>Vandalism</td>\n",
       "      <td>VANDALISM</td>\n",
       "      <td>C11</td>\n",
       "      <td>347</td>\n",
       "      <td>NaN</td>\n",
       "      <td>2018-08-21 00:00:00</td>\n",
       "      <td>2018</td>\n",
       "      <td>8</td>\n",
       "      <td>Tuesday</td>\n",
       "      <td>0</td>\n",
       "      <td>Part Two</td>\n",
       "      <td>HECLA ST</td>\n",
       "      <td>42.306821</td>\n",
       "      <td>-71.060300</td>\n",
       "      <td>(42.30682138, -71.06030035)</td>\n",
       "    </tr>\n",
       "    <tr>\n",
       "      <th>2</th>\n",
       "      <td>I182070941</td>\n",
       "      <td>3410</td>\n",
       "      <td>Towed</td>\n",
       "      <td>TOWED MOTOR VEHICLE</td>\n",
       "      <td>D4</td>\n",
       "      <td>151</td>\n",
       "      <td>NaN</td>\n",
       "      <td>2018-09-03 19:27:00</td>\n",
       "      <td>2018</td>\n",
       "      <td>9</td>\n",
       "      <td>Monday</td>\n",
       "      <td>19</td>\n",
       "      <td>Part Three</td>\n",
       "      <td>CAZENOVE ST</td>\n",
       "      <td>42.346589</td>\n",
       "      <td>-71.072429</td>\n",
       "      <td>(42.34658879, -71.07242943)</td>\n",
       "    </tr>\n",
       "    <tr>\n",
       "      <th>3</th>\n",
       "      <td>I182070940</td>\n",
       "      <td>3114</td>\n",
       "      <td>Investigate Property</td>\n",
       "      <td>INVESTIGATE PROPERTY</td>\n",
       "      <td>D4</td>\n",
       "      <td>272</td>\n",
       "      <td>NaN</td>\n",
       "      <td>2018-09-03 21:16:00</td>\n",
       "      <td>2018</td>\n",
       "      <td>9</td>\n",
       "      <td>Monday</td>\n",
       "      <td>21</td>\n",
       "      <td>Part Three</td>\n",
       "      <td>NEWCOMB ST</td>\n",
       "      <td>42.334182</td>\n",
       "      <td>-71.078664</td>\n",
       "      <td>(42.33418175, -71.07866441)</td>\n",
       "    </tr>\n",
       "    <tr>\n",
       "      <th>4</th>\n",
       "      <td>I182070938</td>\n",
       "      <td>3114</td>\n",
       "      <td>Investigate Property</td>\n",
       "      <td>INVESTIGATE PROPERTY</td>\n",
       "      <td>B3</td>\n",
       "      <td>421</td>\n",
       "      <td>NaN</td>\n",
       "      <td>2018-09-03 21:05:00</td>\n",
       "      <td>2018</td>\n",
       "      <td>9</td>\n",
       "      <td>Monday</td>\n",
       "      <td>21</td>\n",
       "      <td>Part Three</td>\n",
       "      <td>DELHI ST</td>\n",
       "      <td>42.275365</td>\n",
       "      <td>-71.090361</td>\n",
       "      <td>(42.27536542, -71.09036101)</td>\n",
       "    </tr>\n",
       "  </tbody>\n",
       "</table>\n",
       "</div>"
      ],
      "text/plain": [
       "  INCIDENT_NUMBER  OFFENSE_CODE    OFFENSE_CODE_GROUP   OFFENSE_DESCRIPTION  \\\n",
       "0      I182070945           619               Larceny    LARCENY ALL OTHERS   \n",
       "1      I182070943          1402             Vandalism             VANDALISM   \n",
       "2      I182070941          3410                 Towed   TOWED MOTOR VEHICLE   \n",
       "3      I182070940          3114  Investigate Property  INVESTIGATE PROPERTY   \n",
       "4      I182070938          3114  Investigate Property  INVESTIGATE PROPERTY   \n",
       "\n",
       "  DISTRICT REPORTING_AREA SHOOTING     OCCURRED_ON_DATE  YEAR  MONTH  \\\n",
       "0      D14            808      NaN  2018-09-02 13:00:00  2018      9   \n",
       "1      C11            347      NaN  2018-08-21 00:00:00  2018      8   \n",
       "2       D4            151      NaN  2018-09-03 19:27:00  2018      9   \n",
       "3       D4            272      NaN  2018-09-03 21:16:00  2018      9   \n",
       "4       B3            421      NaN  2018-09-03 21:05:00  2018      9   \n",
       "\n",
       "  DAY_OF_WEEK  HOUR    UCR_PART       STREET        Lat       Long  \\\n",
       "0      Sunday    13    Part One   LINCOLN ST  42.357791 -71.139371   \n",
       "1     Tuesday     0    Part Two     HECLA ST  42.306821 -71.060300   \n",
       "2      Monday    19  Part Three  CAZENOVE ST  42.346589 -71.072429   \n",
       "3      Monday    21  Part Three   NEWCOMB ST  42.334182 -71.078664   \n",
       "4      Monday    21  Part Three     DELHI ST  42.275365 -71.090361   \n",
       "\n",
       "                      Location  \n",
       "0  (42.35779134, -71.13937053)  \n",
       "1  (42.30682138, -71.06030035)  \n",
       "2  (42.34658879, -71.07242943)  \n",
       "3  (42.33418175, -71.07866441)  \n",
       "4  (42.27536542, -71.09036101)  "
      ]
     },
     "execution_count": 14,
     "metadata": {},
     "output_type": "execute_result"
    }
   ],
   "source": [
    "#Obtendo dataset\n",
    "pdf = pd.read_csv('crime.csv', encoding = \"ISO-8859-1\")\n",
    "pdf.head()"
   ]
  },
  {
   "cell_type": "markdown",
   "metadata": {},
   "source": [
    "#### Convertendo para MoveDataFrame"
   ]
  },
  {
   "cell_type": "code",
   "execution_count": 15,
   "metadata": {
    "scrolled": true
   },
   "outputs": [
    {
     "data": {
      "text/html": [
       "<div>\n",
       "<style scoped>\n",
       "    .dataframe tbody tr th:only-of-type {\n",
       "        vertical-align: middle;\n",
       "    }\n",
       "\n",
       "    .dataframe tbody tr th {\n",
       "        vertical-align: top;\n",
       "    }\n",
       "\n",
       "    .dataframe thead th {\n",
       "        text-align: right;\n",
       "    }\n",
       "</style>\n",
       "<table border=\"1\" class=\"dataframe\">\n",
       "  <thead>\n",
       "    <tr style=\"text-align: right;\">\n",
       "      <th></th>\n",
       "      <th>id</th>\n",
       "      <th>OFFENSE_CODE</th>\n",
       "      <th>OFFENSE_CODE_GROUP</th>\n",
       "      <th>OFFENSE_DESCRIPTION</th>\n",
       "      <th>DISTRICT</th>\n",
       "      <th>REPORTING_AREA</th>\n",
       "      <th>SHOOTING</th>\n",
       "      <th>datetime</th>\n",
       "      <th>YEAR</th>\n",
       "      <th>MONTH</th>\n",
       "      <th>DAY_OF_WEEK</th>\n",
       "      <th>HOUR</th>\n",
       "      <th>UCR_PART</th>\n",
       "      <th>STREET</th>\n",
       "      <th>lat</th>\n",
       "      <th>lon</th>\n",
       "      <th>Location</th>\n",
       "    </tr>\n",
       "  </thead>\n",
       "  <tbody>\n",
       "    <tr>\n",
       "      <th>0</th>\n",
       "      <td>I182070945</td>\n",
       "      <td>619</td>\n",
       "      <td>Larceny</td>\n",
       "      <td>LARCENY ALL OTHERS</td>\n",
       "      <td>D14</td>\n",
       "      <td>808</td>\n",
       "      <td>NaN</td>\n",
       "      <td>2018-09-02 13:00:00</td>\n",
       "      <td>2018</td>\n",
       "      <td>9</td>\n",
       "      <td>Sunday</td>\n",
       "      <td>13</td>\n",
       "      <td>Part One</td>\n",
       "      <td>LINCOLN ST</td>\n",
       "      <td>42.357792</td>\n",
       "      <td>-71.139374</td>\n",
       "      <td>(42.35779134, -71.13937053)</td>\n",
       "    </tr>\n",
       "    <tr>\n",
       "      <th>1</th>\n",
       "      <td>I182070943</td>\n",
       "      <td>1402</td>\n",
       "      <td>Vandalism</td>\n",
       "      <td>VANDALISM</td>\n",
       "      <td>C11</td>\n",
       "      <td>347</td>\n",
       "      <td>NaN</td>\n",
       "      <td>2018-08-21 00:00:00</td>\n",
       "      <td>2018</td>\n",
       "      <td>8</td>\n",
       "      <td>Tuesday</td>\n",
       "      <td>0</td>\n",
       "      <td>Part Two</td>\n",
       "      <td>HECLA ST</td>\n",
       "      <td>42.306820</td>\n",
       "      <td>-71.060303</td>\n",
       "      <td>(42.30682138, -71.06030035)</td>\n",
       "    </tr>\n",
       "    <tr>\n",
       "      <th>2</th>\n",
       "      <td>I182070941</td>\n",
       "      <td>3410</td>\n",
       "      <td>Towed</td>\n",
       "      <td>TOWED MOTOR VEHICLE</td>\n",
       "      <td>D4</td>\n",
       "      <td>151</td>\n",
       "      <td>NaN</td>\n",
       "      <td>2018-09-03 19:27:00</td>\n",
       "      <td>2018</td>\n",
       "      <td>9</td>\n",
       "      <td>Monday</td>\n",
       "      <td>19</td>\n",
       "      <td>Part Three</td>\n",
       "      <td>CAZENOVE ST</td>\n",
       "      <td>42.346588</td>\n",
       "      <td>-71.072426</td>\n",
       "      <td>(42.34658879, -71.07242943)</td>\n",
       "    </tr>\n",
       "    <tr>\n",
       "      <th>3</th>\n",
       "      <td>I182070940</td>\n",
       "      <td>3114</td>\n",
       "      <td>Investigate Property</td>\n",
       "      <td>INVESTIGATE PROPERTY</td>\n",
       "      <td>D4</td>\n",
       "      <td>272</td>\n",
       "      <td>NaN</td>\n",
       "      <td>2018-09-03 21:16:00</td>\n",
       "      <td>2018</td>\n",
       "      <td>9</td>\n",
       "      <td>Monday</td>\n",
       "      <td>21</td>\n",
       "      <td>Part Three</td>\n",
       "      <td>NEWCOMB ST</td>\n",
       "      <td>42.334183</td>\n",
       "      <td>-71.078667</td>\n",
       "      <td>(42.33418175, -71.07866441)</td>\n",
       "    </tr>\n",
       "    <tr>\n",
       "      <th>4</th>\n",
       "      <td>I182070938</td>\n",
       "      <td>3114</td>\n",
       "      <td>Investigate Property</td>\n",
       "      <td>INVESTIGATE PROPERTY</td>\n",
       "      <td>B3</td>\n",
       "      <td>421</td>\n",
       "      <td>NaN</td>\n",
       "      <td>2018-09-03 21:05:00</td>\n",
       "      <td>2018</td>\n",
       "      <td>9</td>\n",
       "      <td>Monday</td>\n",
       "      <td>21</td>\n",
       "      <td>Part Three</td>\n",
       "      <td>DELHI ST</td>\n",
       "      <td>42.275364</td>\n",
       "      <td>-71.090363</td>\n",
       "      <td>(42.27536542, -71.09036101)</td>\n",
       "    </tr>\n",
       "    <tr>\n",
       "      <th>5</th>\n",
       "      <td>I182070936</td>\n",
       "      <td>3820</td>\n",
       "      <td>Motor Vehicle Accident Response</td>\n",
       "      <td>M/V ACCIDENT INVOLVING PEDESTRIAN - INJURY</td>\n",
       "      <td>C11</td>\n",
       "      <td>398</td>\n",
       "      <td>NaN</td>\n",
       "      <td>2018-09-03 21:09:00</td>\n",
       "      <td>2018</td>\n",
       "      <td>9</td>\n",
       "      <td>Monday</td>\n",
       "      <td>21</td>\n",
       "      <td>Part Three</td>\n",
       "      <td>TALBOT AVE</td>\n",
       "      <td>42.290195</td>\n",
       "      <td>-71.071587</td>\n",
       "      <td>(42.29019621, -71.07159012)</td>\n",
       "    </tr>\n",
       "    <tr>\n",
       "      <th>6</th>\n",
       "      <td>I182070933</td>\n",
       "      <td>724</td>\n",
       "      <td>Auto Theft</td>\n",
       "      <td>AUTO THEFT</td>\n",
       "      <td>B2</td>\n",
       "      <td>330</td>\n",
       "      <td>NaN</td>\n",
       "      <td>2018-09-03 21:25:00</td>\n",
       "      <td>2018</td>\n",
       "      <td>9</td>\n",
       "      <td>Monday</td>\n",
       "      <td>21</td>\n",
       "      <td>Part One</td>\n",
       "      <td>NORMANDY ST</td>\n",
       "      <td>42.306072</td>\n",
       "      <td>-71.082733</td>\n",
       "      <td>(42.30607218, -71.08273260)</td>\n",
       "    </tr>\n",
       "  </tbody>\n",
       "</table>\n",
       "</div>"
      ],
      "text/plain": [
       "           id  OFFENSE_CODE               OFFENSE_CODE_GROUP  \\\n",
       "0  I182070945           619                          Larceny   \n",
       "1  I182070943          1402                        Vandalism   \n",
       "2  I182070941          3410                            Towed   \n",
       "3  I182070940          3114             Investigate Property   \n",
       "4  I182070938          3114             Investigate Property   \n",
       "5  I182070936          3820  Motor Vehicle Accident Response   \n",
       "6  I182070933           724                       Auto Theft   \n",
       "\n",
       "                          OFFENSE_DESCRIPTION DISTRICT REPORTING_AREA  \\\n",
       "0                          LARCENY ALL OTHERS      D14            808   \n",
       "1                                   VANDALISM      C11            347   \n",
       "2                         TOWED MOTOR VEHICLE       D4            151   \n",
       "3                        INVESTIGATE PROPERTY       D4            272   \n",
       "4                        INVESTIGATE PROPERTY       B3            421   \n",
       "5  M/V ACCIDENT INVOLVING PEDESTRIAN - INJURY      C11            398   \n",
       "6                                  AUTO THEFT       B2            330   \n",
       "\n",
       "  SHOOTING            datetime  YEAR  MONTH DAY_OF_WEEK  HOUR    UCR_PART  \\\n",
       "0      NaN 2018-09-02 13:00:00  2018      9      Sunday    13    Part One   \n",
       "1      NaN 2018-08-21 00:00:00  2018      8     Tuesday     0    Part Two   \n",
       "2      NaN 2018-09-03 19:27:00  2018      9      Monday    19  Part Three   \n",
       "3      NaN 2018-09-03 21:16:00  2018      9      Monday    21  Part Three   \n",
       "4      NaN 2018-09-03 21:05:00  2018      9      Monday    21  Part Three   \n",
       "5      NaN 2018-09-03 21:09:00  2018      9      Monday    21  Part Three   \n",
       "6      NaN 2018-09-03 21:25:00  2018      9      Monday    21    Part One   \n",
       "\n",
       "        STREET        lat        lon                     Location  \n",
       "0   LINCOLN ST  42.357792 -71.139374  (42.35779134, -71.13937053)  \n",
       "1     HECLA ST  42.306820 -71.060303  (42.30682138, -71.06030035)  \n",
       "2  CAZENOVE ST  42.346588 -71.072426  (42.34658879, -71.07242943)  \n",
       "3   NEWCOMB ST  42.334183 -71.078667  (42.33418175, -71.07866441)  \n",
       "4     DELHI ST  42.275364 -71.090363  (42.27536542, -71.09036101)  \n",
       "5   TALBOT AVE  42.290195 -71.071587  (42.29019621, -71.07159012)  \n",
       "6  NORMANDY ST  42.306072 -71.082733  (42.30607218, -71.08273260)  "
      ]
     },
     "execution_count": 15,
     "metadata": {},
     "output_type": "execute_result"
    }
   ],
   "source": [
    "move_df = MoveDataFrame(data=pdf, latitude='Lat', longitude='Long', datetime='OCCURRED_ON_DATE', traj_id='INCIDENT_NUMBER')\n",
    "move_df.head(7)"
   ]
  },
  {
   "cell_type": "markdown",
   "metadata": {},
   "source": [
    "#### Tamanho"
   ]
  },
  {
   "cell_type": "code",
   "execution_count": 16,
   "metadata": {},
   "outputs": [
    {
     "data": {
      "text/plain": [
       "319073"
      ]
     },
     "execution_count": 16,
     "metadata": {},
     "output_type": "execute_result"
    }
   ],
   "source": [
    "#Tamanho\n",
    "move_df.shape[0]"
   ]
  },
  {
   "cell_type": "markdown",
   "metadata": {},
   "source": [
    "#### Remove Rows com latitude e longitude vazia"
   ]
  },
  {
   "cell_type": "code",
   "execution_count": 17,
   "metadata": {},
   "outputs": [
    {
     "data": {
      "text/plain": [
       "299074"
      ]
     },
     "execution_count": 17,
     "metadata": {},
     "output_type": "execute_result"
    }
   ],
   "source": [
    "move_df = move_df.dropna(subset = [\"lat\"], inplace=False)\n",
    "move_df = move_df.dropna(subset = [\"lon\"], inplace=False)\n",
    "\n",
    "#Novo Tamanho\n",
    "move_df.shape[0]"
   ]
  },
  {
   "cell_type": "markdown",
   "metadata": {},
   "source": [
    "#### Visualização"
   ]
  },
  {
   "cell_type": "code",
   "execution_count": null,
   "metadata": {},
   "outputs": [],
   "source": [
    "visualization.plot_markers(move_df, n_rows=500)"
   ]
  },
  {
   "cell_type": "markdown",
   "metadata": {},
   "source": [
    "## Obtendo Data Set dos Pontos de Interesse da Cidade"
   ]
  },
  {
   "cell_type": "code",
   "execution_count": 19,
   "metadata": {},
   "outputs": [],
   "source": [
    "import osmnx as ox\n",
    "\n",
    "place = 'Boston, Massachusetts, United States of America'\n",
    "POIs = ox.pois_from_place(place)"
   ]
  },
  {
   "cell_type": "code",
   "execution_count": 20,
   "metadata": {
    "scrolled": false
   },
   "outputs": [
    {
     "data": {
      "text/html": [
       "<div>\n",
       "<style scoped>\n",
       "    .dataframe tbody tr th:only-of-type {\n",
       "        vertical-align: middle;\n",
       "    }\n",
       "\n",
       "    .dataframe tbody tr th {\n",
       "        vertical-align: top;\n",
       "    }\n",
       "\n",
       "    .dataframe thead th {\n",
       "        text-align: right;\n",
       "    }\n",
       "</style>\n",
       "<table border=\"1\" class=\"dataframe\">\n",
       "  <thead>\n",
       "    <tr style=\"text-align: right;\">\n",
       "      <th></th>\n",
       "      <th>osmid</th>\n",
       "      <th>geometry</th>\n",
       "      <th>attribution</th>\n",
       "      <th>source</th>\n",
       "      <th>element_type</th>\n",
       "      <th>highway</th>\n",
       "      <th>traffic_signals</th>\n",
       "      <th>traffic_signals:direction</th>\n",
       "      <th>created_by</th>\n",
       "      <th>direction</th>\n",
       "      <th>...</th>\n",
       "      <th>name:sw</th>\n",
       "      <th>name:ta</th>\n",
       "      <th>name:te</th>\n",
       "      <th>name:th</th>\n",
       "      <th>name:tt</th>\n",
       "      <th>name:ug</th>\n",
       "      <th>name:ur</th>\n",
       "      <th>name:vi</th>\n",
       "      <th>name:yi</th>\n",
       "      <th>name:yo</th>\n",
       "    </tr>\n",
       "  </thead>\n",
       "  <tbody>\n",
       "    <tr>\n",
       "      <th>61341374</th>\n",
       "      <td>61341374</td>\n",
       "      <td>POINT (-71.07481 42.35481)</td>\n",
       "      <td>NaN</td>\n",
       "      <td>NaN</td>\n",
       "      <td>node</td>\n",
       "      <td>traffic_signals</td>\n",
       "      <td>signal</td>\n",
       "      <td>forward</td>\n",
       "      <td>NaN</td>\n",
       "      <td>NaN</td>\n",
       "      <td>...</td>\n",
       "      <td>NaN</td>\n",
       "      <td>NaN</td>\n",
       "      <td>NaN</td>\n",
       "      <td>NaN</td>\n",
       "      <td>NaN</td>\n",
       "      <td>NaN</td>\n",
       "      <td>NaN</td>\n",
       "      <td>NaN</td>\n",
       "      <td>NaN</td>\n",
       "      <td>NaN</td>\n",
       "    </tr>\n",
       "    <tr>\n",
       "      <th>61342618</th>\n",
       "      <td>61342618</td>\n",
       "      <td>POINT (-71.08733 42.34203)</td>\n",
       "      <td>Office of Geographic and Environmental Informa...</td>\n",
       "      <td>massgis_import_v0.1_20071008193615</td>\n",
       "      <td>node</td>\n",
       "      <td>traffic_signals</td>\n",
       "      <td>NaN</td>\n",
       "      <td>NaN</td>\n",
       "      <td>NaN</td>\n",
       "      <td>NaN</td>\n",
       "      <td>...</td>\n",
       "      <td>NaN</td>\n",
       "      <td>NaN</td>\n",
       "      <td>NaN</td>\n",
       "      <td>NaN</td>\n",
       "      <td>NaN</td>\n",
       "      <td>NaN</td>\n",
       "      <td>NaN</td>\n",
       "      <td>NaN</td>\n",
       "      <td>NaN</td>\n",
       "      <td>NaN</td>\n",
       "    </tr>\n",
       "    <tr>\n",
       "      <th>61343373</th>\n",
       "      <td>61343373</td>\n",
       "      <td>POINT (-71.10752 42.34141)</td>\n",
       "      <td>Office of Geographic and Environmental Informa...</td>\n",
       "      <td>massgis_import_v0.1_20071008193615</td>\n",
       "      <td>node</td>\n",
       "      <td>traffic_signals</td>\n",
       "      <td>NaN</td>\n",
       "      <td>NaN</td>\n",
       "      <td>NaN</td>\n",
       "      <td>NaN</td>\n",
       "      <td>...</td>\n",
       "      <td>NaN</td>\n",
       "      <td>NaN</td>\n",
       "      <td>NaN</td>\n",
       "      <td>NaN</td>\n",
       "      <td>NaN</td>\n",
       "      <td>NaN</td>\n",
       "      <td>NaN</td>\n",
       "      <td>NaN</td>\n",
       "      <td>NaN</td>\n",
       "      <td>NaN</td>\n",
       "    </tr>\n",
       "    <tr>\n",
       "      <th>61343390</th>\n",
       "      <td>61343390</td>\n",
       "      <td>POINT (-71.08646 42.34143)</td>\n",
       "      <td>Office of Geographic and Environmental Informa...</td>\n",
       "      <td>massgis_import_v0.1_20071008193615</td>\n",
       "      <td>node</td>\n",
       "      <td>traffic_signals</td>\n",
       "      <td>NaN</td>\n",
       "      <td>NaN</td>\n",
       "      <td>NaN</td>\n",
       "      <td>NaN</td>\n",
       "      <td>...</td>\n",
       "      <td>NaN</td>\n",
       "      <td>NaN</td>\n",
       "      <td>NaN</td>\n",
       "      <td>NaN</td>\n",
       "      <td>NaN</td>\n",
       "      <td>NaN</td>\n",
       "      <td>NaN</td>\n",
       "      <td>NaN</td>\n",
       "      <td>NaN</td>\n",
       "      <td>NaN</td>\n",
       "    </tr>\n",
       "    <tr>\n",
       "      <th>61343394</th>\n",
       "      <td>61343394</td>\n",
       "      <td>POINT (-71.08566 42.34090)</td>\n",
       "      <td>Office of Geographic and Environmental Informa...</td>\n",
       "      <td>massgis_import_v0.1_20071008193615</td>\n",
       "      <td>node</td>\n",
       "      <td>NaN</td>\n",
       "      <td>NaN</td>\n",
       "      <td>NaN</td>\n",
       "      <td>NaN</td>\n",
       "      <td>NaN</td>\n",
       "      <td>...</td>\n",
       "      <td>NaN</td>\n",
       "      <td>NaN</td>\n",
       "      <td>NaN</td>\n",
       "      <td>NaN</td>\n",
       "      <td>NaN</td>\n",
       "      <td>NaN</td>\n",
       "      <td>NaN</td>\n",
       "      <td>NaN</td>\n",
       "      <td>NaN</td>\n",
       "      <td>NaN</td>\n",
       "    </tr>\n",
       "  </tbody>\n",
       "</table>\n",
       "<p>5 rows × 468 columns</p>\n",
       "</div>"
      ],
      "text/plain": [
       "             osmid                    geometry  \\\n",
       "61341374  61341374  POINT (-71.07481 42.35481)   \n",
       "61342618  61342618  POINT (-71.08733 42.34203)   \n",
       "61343373  61343373  POINT (-71.10752 42.34141)   \n",
       "61343390  61343390  POINT (-71.08646 42.34143)   \n",
       "61343394  61343394  POINT (-71.08566 42.34090)   \n",
       "\n",
       "                                                attribution  \\\n",
       "61341374                                                NaN   \n",
       "61342618  Office of Geographic and Environmental Informa...   \n",
       "61343373  Office of Geographic and Environmental Informa...   \n",
       "61343390  Office of Geographic and Environmental Informa...   \n",
       "61343394  Office of Geographic and Environmental Informa...   \n",
       "\n",
       "                                      source element_type          highway  \\\n",
       "61341374                                 NaN         node  traffic_signals   \n",
       "61342618  massgis_import_v0.1_20071008193615         node  traffic_signals   \n",
       "61343373  massgis_import_v0.1_20071008193615         node  traffic_signals   \n",
       "61343390  massgis_import_v0.1_20071008193615         node  traffic_signals   \n",
       "61343394  massgis_import_v0.1_20071008193615         node              NaN   \n",
       "\n",
       "         traffic_signals traffic_signals:direction created_by direction  ...  \\\n",
       "61341374          signal                   forward        NaN       NaN  ...   \n",
       "61342618             NaN                       NaN        NaN       NaN  ...   \n",
       "61343373             NaN                       NaN        NaN       NaN  ...   \n",
       "61343390             NaN                       NaN        NaN       NaN  ...   \n",
       "61343394             NaN                       NaN        NaN       NaN  ...   \n",
       "\n",
       "         name:sw name:ta name:te name:th name:tt name:ug name:ur name:vi  \\\n",
       "61341374     NaN     NaN     NaN     NaN     NaN     NaN     NaN     NaN   \n",
       "61342618     NaN     NaN     NaN     NaN     NaN     NaN     NaN     NaN   \n",
       "61343373     NaN     NaN     NaN     NaN     NaN     NaN     NaN     NaN   \n",
       "61343390     NaN     NaN     NaN     NaN     NaN     NaN     NaN     NaN   \n",
       "61343394     NaN     NaN     NaN     NaN     NaN     NaN     NaN     NaN   \n",
       "\n",
       "         name:yi name:yo  \n",
       "61341374     NaN     NaN  \n",
       "61342618     NaN     NaN  \n",
       "61343373     NaN     NaN  \n",
       "61343390     NaN     NaN  \n",
       "61343394     NaN     NaN  \n",
       "\n",
       "[5 rows x 468 columns]"
      ]
     },
     "execution_count": 20,
     "metadata": {},
     "output_type": "execute_result"
    }
   ],
   "source": [
    "POIs.head()"
   ]
  },
  {
   "cell_type": "markdown",
   "metadata": {},
   "source": [
    "#### Quantidade de Pontos de Interesse em Boston"
   ]
  },
  {
   "cell_type": "code",
   "execution_count": 72,
   "metadata": {},
   "outputs": [
    {
     "data": {
      "text/plain": [
       "4015"
      ]
     },
     "execution_count": 72,
     "metadata": {},
     "output_type": "execute_result"
    }
   ],
   "source": [
    "POIs.shape[0]"
   ]
  },
  {
   "cell_type": "markdown",
   "metadata": {},
   "source": [
    "#### Adaptando ao formato necessário para integração (Com labels 'lat' e 'lon' referentes a latitude e longitude, respectivamente)"
   ]
  },
  {
   "cell_type": "code",
   "execution_count": 26,
   "metadata": {
    "scrolled": true
   },
   "outputs": [
    {
     "name": "stdout",
     "output_type": "stream",
     "text": [
      "Número de Pontos:  4015\n"
     ]
    }
   ],
   "source": [
    "points = POIs['geometry']\n",
    "latitude = []\n",
    "longitude = []\n",
    "count = 0\n",
    "for point in points:\n",
    "    if point.type == 'Point': \n",
    "      count = count + 1\n",
    "      latitude.append(point.x)\n",
    "      longitude.append(point.y)\n",
    "print(\"Número de Pontos: \", count)"
   ]
  },
  {
   "cell_type": "code",
   "execution_count": 54,
   "metadata": {
    "scrolled": false
   },
   "outputs": [
    {
     "data": {
      "text/plain": [
       "4015"
      ]
     },
     "execution_count": 54,
     "metadata": {},
     "output_type": "execute_result"
    }
   ],
   "source": [
    "POIs = POIs[0:count].copy()\n",
    "POIs['lat'] = latitude\n",
    "POIs['lon'] = longitude\n",
    "POIs\n",
    "\n",
    "POIs.shape[0]"
   ]
  },
  {
   "cell_type": "markdown",
   "metadata": {},
   "source": [
    "## Integrando Pontos de Interesse ao DataSet (Usando join_with_POIs)"
   ]
  },
  {
   "cell_type": "code",
   "execution_count": 73,
   "metadata": {
    "scrolled": true
   },
   "outputs": [
    {
     "name": "stderr",
     "output_type": "stream",
     "text": [
      "  0%|          | 195/299074 [00:00<02:33, 1949.87it/s]"
     ]
    },
    {
     "name": "stdout",
     "output_type": "stream",
     "text": [
      "Integration with POIs...\n",
      "... Reseting index to operation...\n"
     ]
    },
    {
     "name": "stderr",
     "output_type": "stream",
     "text": [
      "100%|██████████| 299074/299074 [02:16<00:00, 2193.32it/s]\n"
     ]
    },
    {
     "name": "stdout",
     "output_type": "stream",
     "text": [
      "Integration with POI was finalized\n",
      "\n",
      "Total Time: 136.40 seconds\n"
     ]
    }
   ],
   "source": [
    "it.join_with_POIs(move_df, POIs, label_id='osmid', label_POI='name')"
   ]
  },
  {
   "cell_type": "markdown",
   "metadata": {},
   "source": [
    "### Resultado"
   ]
  },
  {
   "cell_type": "code",
   "execution_count": 74,
   "metadata": {
    "scrolled": false
   },
   "outputs": [
    {
     "data": {
      "text/html": [
       "<div>\n",
       "<style scoped>\n",
       "    .dataframe tbody tr th:only-of-type {\n",
       "        vertical-align: middle;\n",
       "    }\n",
       "\n",
       "    .dataframe tbody tr th {\n",
       "        vertical-align: top;\n",
       "    }\n",
       "\n",
       "    .dataframe thead th {\n",
       "        text-align: right;\n",
       "    }\n",
       "</style>\n",
       "<table border=\"1\" class=\"dataframe\">\n",
       "  <thead>\n",
       "    <tr style=\"text-align: right;\">\n",
       "      <th></th>\n",
       "      <th>id</th>\n",
       "      <th>OFFENSE_CODE</th>\n",
       "      <th>OFFENSE_CODE_GROUP</th>\n",
       "      <th>OFFENSE_DESCRIPTION</th>\n",
       "      <th>DISTRICT</th>\n",
       "      <th>REPORTING_AREA</th>\n",
       "      <th>SHOOTING</th>\n",
       "      <th>datetime</th>\n",
       "      <th>YEAR</th>\n",
       "      <th>MONTH</th>\n",
       "      <th>DAY_OF_WEEK</th>\n",
       "      <th>HOUR</th>\n",
       "      <th>UCR_PART</th>\n",
       "      <th>STREET</th>\n",
       "      <th>lat</th>\n",
       "      <th>lon</th>\n",
       "      <th>Location</th>\n",
       "      <th>id_poi</th>\n",
       "      <th>dist_poi</th>\n",
       "      <th>type_poi</th>\n",
       "    </tr>\n",
       "  </thead>\n",
       "  <tbody>\n",
       "    <tr>\n",
       "      <th>0</th>\n",
       "      <td>I182070945</td>\n",
       "      <td>619</td>\n",
       "      <td>Larceny</td>\n",
       "      <td>LARCENY ALL OTHERS</td>\n",
       "      <td>D14</td>\n",
       "      <td>808</td>\n",
       "      <td>NaN</td>\n",
       "      <td>2018-09-02 13:00:00</td>\n",
       "      <td>2018</td>\n",
       "      <td>9</td>\n",
       "      <td>Sunday</td>\n",
       "      <td>13</td>\n",
       "      <td>Part One</td>\n",
       "      <td>LINCOLN ST</td>\n",
       "      <td>42.357792</td>\n",
       "      <td>-71.139374</td>\n",
       "      <td>(42.35779134, -71.13937053)</td>\n",
       "      <td>257536166</td>\n",
       "      <td>15243083.0</td>\n",
       "      <td>Archives &amp; Records</td>\n",
       "    </tr>\n",
       "    <tr>\n",
       "      <th>1</th>\n",
       "      <td>I182070943</td>\n",
       "      <td>1402</td>\n",
       "      <td>Vandalism</td>\n",
       "      <td>VANDALISM</td>\n",
       "      <td>C11</td>\n",
       "      <td>347</td>\n",
       "      <td>NaN</td>\n",
       "      <td>2018-08-21 00:00:00</td>\n",
       "      <td>2018</td>\n",
       "      <td>8</td>\n",
       "      <td>Tuesday</td>\n",
       "      <td>0</td>\n",
       "      <td>Part Two</td>\n",
       "      <td>HECLA ST</td>\n",
       "      <td>42.306820</td>\n",
       "      <td>-71.060303</td>\n",
       "      <td>(42.30682138, -71.06030035)</td>\n",
       "      <td>257536166</td>\n",
       "      <td>15235151.0</td>\n",
       "      <td>Archives &amp; Records</td>\n",
       "    </tr>\n",
       "    <tr>\n",
       "      <th>2</th>\n",
       "      <td>I182070941</td>\n",
       "      <td>3410</td>\n",
       "      <td>Towed</td>\n",
       "      <td>TOWED MOTOR VEHICLE</td>\n",
       "      <td>D4</td>\n",
       "      <td>151</td>\n",
       "      <td>NaN</td>\n",
       "      <td>2018-09-03 19:27:00</td>\n",
       "      <td>2018</td>\n",
       "      <td>9</td>\n",
       "      <td>Monday</td>\n",
       "      <td>19</td>\n",
       "      <td>Part Three</td>\n",
       "      <td>CAZENOVE ST</td>\n",
       "      <td>42.346588</td>\n",
       "      <td>-71.072426</td>\n",
       "      <td>(42.34658879, -71.07242943)</td>\n",
       "      <td>257536166</td>\n",
       "      <td>15239565.0</td>\n",
       "      <td>Archives &amp; Records</td>\n",
       "    </tr>\n",
       "    <tr>\n",
       "      <th>3</th>\n",
       "      <td>I182070940</td>\n",
       "      <td>3114</td>\n",
       "      <td>Investigate Property</td>\n",
       "      <td>INVESTIGATE PROPERTY</td>\n",
       "      <td>D4</td>\n",
       "      <td>272</td>\n",
       "      <td>NaN</td>\n",
       "      <td>2018-09-03 21:16:00</td>\n",
       "      <td>2018</td>\n",
       "      <td>9</td>\n",
       "      <td>Monday</td>\n",
       "      <td>21</td>\n",
       "      <td>Part Three</td>\n",
       "      <td>NEWCOMB ST</td>\n",
       "      <td>42.334183</td>\n",
       "      <td>-71.078667</td>\n",
       "      <td>(42.33418175, -71.07866441)</td>\n",
       "      <td>257536166</td>\n",
       "      <td>15238546.0</td>\n",
       "      <td>Archives &amp; Records</td>\n",
       "    </tr>\n",
       "    <tr>\n",
       "      <th>4</th>\n",
       "      <td>I182070938</td>\n",
       "      <td>3114</td>\n",
       "      <td>Investigate Property</td>\n",
       "      <td>INVESTIGATE PROPERTY</td>\n",
       "      <td>B3</td>\n",
       "      <td>421</td>\n",
       "      <td>NaN</td>\n",
       "      <td>2018-09-03 21:05:00</td>\n",
       "      <td>2018</td>\n",
       "      <td>9</td>\n",
       "      <td>Monday</td>\n",
       "      <td>21</td>\n",
       "      <td>Part Three</td>\n",
       "      <td>DELHI ST</td>\n",
       "      <td>42.275364</td>\n",
       "      <td>-71.090363</td>\n",
       "      <td>(42.27536542, -71.09036101)</td>\n",
       "      <td>257536166</td>\n",
       "      <td>15233078.0</td>\n",
       "      <td>Archives &amp; Records</td>\n",
       "    </tr>\n",
       "  </tbody>\n",
       "</table>\n",
       "</div>"
      ],
      "text/plain": [
       "           id  OFFENSE_CODE    OFFENSE_CODE_GROUP   OFFENSE_DESCRIPTION  \\\n",
       "0  I182070945           619               Larceny    LARCENY ALL OTHERS   \n",
       "1  I182070943          1402             Vandalism             VANDALISM   \n",
       "2  I182070941          3410                 Towed   TOWED MOTOR VEHICLE   \n",
       "3  I182070940          3114  Investigate Property  INVESTIGATE PROPERTY   \n",
       "4  I182070938          3114  Investigate Property  INVESTIGATE PROPERTY   \n",
       "\n",
       "  DISTRICT REPORTING_AREA SHOOTING            datetime  YEAR  MONTH  \\\n",
       "0      D14            808      NaN 2018-09-02 13:00:00  2018      9   \n",
       "1      C11            347      NaN 2018-08-21 00:00:00  2018      8   \n",
       "2       D4            151      NaN 2018-09-03 19:27:00  2018      9   \n",
       "3       D4            272      NaN 2018-09-03 21:16:00  2018      9   \n",
       "4       B3            421      NaN 2018-09-03 21:05:00  2018      9   \n",
       "\n",
       "  DAY_OF_WEEK  HOUR    UCR_PART       STREET        lat        lon  \\\n",
       "0      Sunday    13    Part One   LINCOLN ST  42.357792 -71.139374   \n",
       "1     Tuesday     0    Part Two     HECLA ST  42.306820 -71.060303   \n",
       "2      Monday    19  Part Three  CAZENOVE ST  42.346588 -71.072426   \n",
       "3      Monday    21  Part Three   NEWCOMB ST  42.334183 -71.078667   \n",
       "4      Monday    21  Part Three     DELHI ST  42.275364 -71.090363   \n",
       "\n",
       "                      Location     id_poi    dist_poi            type_poi  \n",
       "0  (42.35779134, -71.13937053)  257536166  15243083.0  Archives & Records  \n",
       "1  (42.30682138, -71.06030035)  257536166  15235151.0  Archives & Records  \n",
       "2  (42.34658879, -71.07242943)  257536166  15239565.0  Archives & Records  \n",
       "3  (42.33418175, -71.07866441)  257536166  15238546.0  Archives & Records  \n",
       "4  (42.27536542, -71.09036101)  257536166  15233078.0  Archives & Records  "
      ]
     },
     "execution_count": 74,
     "metadata": {},
     "output_type": "execute_result"
    }
   ],
   "source": [
    "move_df.head()"
   ]
  },
  {
   "cell_type": "markdown",
   "metadata": {},
   "source": [
    "### Pontos próximos a Archives & Records\n"
   ]
  },
  {
   "cell_type": "markdown",
   "metadata": {},
   "source": [
    "##### Dados"
   ]
  },
  {
   "cell_type": "code",
   "execution_count": 76,
   "metadata": {
    "scrolled": true
   },
   "outputs": [
    {
     "data": {
      "text/html": [
       "<div>\n",
       "<style scoped>\n",
       "    .dataframe tbody tr th:only-of-type {\n",
       "        vertical-align: middle;\n",
       "    }\n",
       "\n",
       "    .dataframe tbody tr th {\n",
       "        vertical-align: top;\n",
       "    }\n",
       "\n",
       "    .dataframe thead th {\n",
       "        text-align: right;\n",
       "    }\n",
       "</style>\n",
       "<table border=\"1\" class=\"dataframe\">\n",
       "  <thead>\n",
       "    <tr style=\"text-align: right;\">\n",
       "      <th></th>\n",
       "      <th>id</th>\n",
       "      <th>OFFENSE_CODE</th>\n",
       "      <th>OFFENSE_CODE_GROUP</th>\n",
       "      <th>OFFENSE_DESCRIPTION</th>\n",
       "      <th>DISTRICT</th>\n",
       "      <th>REPORTING_AREA</th>\n",
       "      <th>SHOOTING</th>\n",
       "      <th>datetime</th>\n",
       "      <th>YEAR</th>\n",
       "      <th>MONTH</th>\n",
       "      <th>DAY_OF_WEEK</th>\n",
       "      <th>HOUR</th>\n",
       "      <th>UCR_PART</th>\n",
       "      <th>STREET</th>\n",
       "      <th>lat</th>\n",
       "      <th>lon</th>\n",
       "      <th>Location</th>\n",
       "      <th>id_poi</th>\n",
       "      <th>dist_poi</th>\n",
       "      <th>type_poi</th>\n",
       "    </tr>\n",
       "  </thead>\n",
       "  <tbody>\n",
       "    <tr>\n",
       "      <th>0</th>\n",
       "      <td>I182070945</td>\n",
       "      <td>619</td>\n",
       "      <td>Larceny</td>\n",
       "      <td>LARCENY ALL OTHERS</td>\n",
       "      <td>D14</td>\n",
       "      <td>808</td>\n",
       "      <td>NaN</td>\n",
       "      <td>2018-09-02 13:00:00</td>\n",
       "      <td>2018</td>\n",
       "      <td>9</td>\n",
       "      <td>Sunday</td>\n",
       "      <td>13</td>\n",
       "      <td>Part One</td>\n",
       "      <td>LINCOLN ST</td>\n",
       "      <td>42.357792</td>\n",
       "      <td>-71.139374</td>\n",
       "      <td>(42.35779134, -71.13937053)</td>\n",
       "      <td>257536166</td>\n",
       "      <td>15243083.0</td>\n",
       "      <td>Archives &amp; Records</td>\n",
       "    </tr>\n",
       "    <tr>\n",
       "      <th>1</th>\n",
       "      <td>I182070943</td>\n",
       "      <td>1402</td>\n",
       "      <td>Vandalism</td>\n",
       "      <td>VANDALISM</td>\n",
       "      <td>C11</td>\n",
       "      <td>347</td>\n",
       "      <td>NaN</td>\n",
       "      <td>2018-08-21 00:00:00</td>\n",
       "      <td>2018</td>\n",
       "      <td>8</td>\n",
       "      <td>Tuesday</td>\n",
       "      <td>0</td>\n",
       "      <td>Part Two</td>\n",
       "      <td>HECLA ST</td>\n",
       "      <td>42.306820</td>\n",
       "      <td>-71.060303</td>\n",
       "      <td>(42.30682138, -71.06030035)</td>\n",
       "      <td>257536166</td>\n",
       "      <td>15235151.0</td>\n",
       "      <td>Archives &amp; Records</td>\n",
       "    </tr>\n",
       "    <tr>\n",
       "      <th>2</th>\n",
       "      <td>I182070941</td>\n",
       "      <td>3410</td>\n",
       "      <td>Towed</td>\n",
       "      <td>TOWED MOTOR VEHICLE</td>\n",
       "      <td>D4</td>\n",
       "      <td>151</td>\n",
       "      <td>NaN</td>\n",
       "      <td>2018-09-03 19:27:00</td>\n",
       "      <td>2018</td>\n",
       "      <td>9</td>\n",
       "      <td>Monday</td>\n",
       "      <td>19</td>\n",
       "      <td>Part Three</td>\n",
       "      <td>CAZENOVE ST</td>\n",
       "      <td>42.346588</td>\n",
       "      <td>-71.072426</td>\n",
       "      <td>(42.34658879, -71.07242943)</td>\n",
       "      <td>257536166</td>\n",
       "      <td>15239565.0</td>\n",
       "      <td>Archives &amp; Records</td>\n",
       "    </tr>\n",
       "    <tr>\n",
       "      <th>3</th>\n",
       "      <td>I182070940</td>\n",
       "      <td>3114</td>\n",
       "      <td>Investigate Property</td>\n",
       "      <td>INVESTIGATE PROPERTY</td>\n",
       "      <td>D4</td>\n",
       "      <td>272</td>\n",
       "      <td>NaN</td>\n",
       "      <td>2018-09-03 21:16:00</td>\n",
       "      <td>2018</td>\n",
       "      <td>9</td>\n",
       "      <td>Monday</td>\n",
       "      <td>21</td>\n",
       "      <td>Part Three</td>\n",
       "      <td>NEWCOMB ST</td>\n",
       "      <td>42.334183</td>\n",
       "      <td>-71.078667</td>\n",
       "      <td>(42.33418175, -71.07866441)</td>\n",
       "      <td>257536166</td>\n",
       "      <td>15238546.0</td>\n",
       "      <td>Archives &amp; Records</td>\n",
       "    </tr>\n",
       "    <tr>\n",
       "      <th>4</th>\n",
       "      <td>I182070938</td>\n",
       "      <td>3114</td>\n",
       "      <td>Investigate Property</td>\n",
       "      <td>INVESTIGATE PROPERTY</td>\n",
       "      <td>B3</td>\n",
       "      <td>421</td>\n",
       "      <td>NaN</td>\n",
       "      <td>2018-09-03 21:05:00</td>\n",
       "      <td>2018</td>\n",
       "      <td>9</td>\n",
       "      <td>Monday</td>\n",
       "      <td>21</td>\n",
       "      <td>Part Three</td>\n",
       "      <td>DELHI ST</td>\n",
       "      <td>42.275364</td>\n",
       "      <td>-71.090363</td>\n",
       "      <td>(42.27536542, -71.09036101)</td>\n",
       "      <td>257536166</td>\n",
       "      <td>15233078.0</td>\n",
       "      <td>Archives &amp; Records</td>\n",
       "    </tr>\n",
       "  </tbody>\n",
       "</table>\n",
       "</div>"
      ],
      "text/plain": [
       "           id  OFFENSE_CODE    OFFENSE_CODE_GROUP   OFFENSE_DESCRIPTION  \\\n",
       "0  I182070945           619               Larceny    LARCENY ALL OTHERS   \n",
       "1  I182070943          1402             Vandalism             VANDALISM   \n",
       "2  I182070941          3410                 Towed   TOWED MOTOR VEHICLE   \n",
       "3  I182070940          3114  Investigate Property  INVESTIGATE PROPERTY   \n",
       "4  I182070938          3114  Investigate Property  INVESTIGATE PROPERTY   \n",
       "\n",
       "  DISTRICT REPORTING_AREA SHOOTING            datetime  YEAR  MONTH  \\\n",
       "0      D14            808      NaN 2018-09-02 13:00:00  2018      9   \n",
       "1      C11            347      NaN 2018-08-21 00:00:00  2018      8   \n",
       "2       D4            151      NaN 2018-09-03 19:27:00  2018      9   \n",
       "3       D4            272      NaN 2018-09-03 21:16:00  2018      9   \n",
       "4       B3            421      NaN 2018-09-03 21:05:00  2018      9   \n",
       "\n",
       "  DAY_OF_WEEK  HOUR    UCR_PART       STREET        lat        lon  \\\n",
       "0      Sunday    13    Part One   LINCOLN ST  42.357792 -71.139374   \n",
       "1     Tuesday     0    Part Two     HECLA ST  42.306820 -71.060303   \n",
       "2      Monday    19  Part Three  CAZENOVE ST  42.346588 -71.072426   \n",
       "3      Monday    21  Part Three   NEWCOMB ST  42.334183 -71.078667   \n",
       "4      Monday    21  Part Three     DELHI ST  42.275364 -71.090363   \n",
       "\n",
       "                      Location     id_poi    dist_poi            type_poi  \n",
       "0  (42.35779134, -71.13937053)  257536166  15243083.0  Archives & Records  \n",
       "1  (42.30682138, -71.06030035)  257536166  15235151.0  Archives & Records  \n",
       "2  (42.34658879, -71.07242943)  257536166  15239565.0  Archives & Records  \n",
       "3  (42.33418175, -71.07866441)  257536166  15238546.0  Archives & Records  \n",
       "4  (42.27536542, -71.09036101)  257536166  15233078.0  Archives & Records  "
      ]
     },
     "execution_count": 76,
     "metadata": {},
     "output_type": "execute_result"
    }
   ],
   "source": [
    "prox_df = move_df.loc[move_df['type_poi'] == 'Archives & Records']\n",
    "prox_df.head()"
   ]
  },
  {
   "cell_type": "markdown",
   "metadata": {},
   "source": [
    "##### Tamanho"
   ]
  },
  {
   "cell_type": "code",
   "execution_count": 77,
   "metadata": {},
   "outputs": [
    {
     "name": "stdout",
     "output_type": "stream",
     "text": [
      "Número de pontos mais próximos de Archives & Records:  298329\n"
     ]
    }
   ],
   "source": [
    "print(\"Número de pontos mais próximos de Archives & Records: \", prox_df.shape[0])"
   ]
  },
  {
   "cell_type": "markdown",
   "metadata": {},
   "source": [
    "## Integrando Pontos de Interesse ao DataSet (Usando join_with_POIs_optimizer)"
   ]
  },
  {
   "cell_type": "code",
   "execution_count": 80,
   "metadata": {},
   "outputs": [
    {
     "name": "stdout",
     "output_type": "stream",
     "text": [
      "Integration with POIs...\n"
     ]
    },
    {
     "ename": "UnboundLocalError",
     "evalue": "local variable 'idx' referenced before assignment",
     "output_type": "error",
     "traceback": [
      "\u001b[1;31m---------------------------------------------------------------------------\u001b[0m",
      "\u001b[1;31mValueError\u001b[0m                                Traceback (most recent call last)",
      "\u001b[1;32m~\\OneDrive\\Documentos\\Projetos\\Python\\PyMove - TCC\\pymove\\pymove\\utils\\integration.py\u001b[0m in \u001b[0;36mjoin_with_POIs_optimizer\u001b[1;34m(df_, df_POIs, label_id, label_POI, dist_poi, reset_index)\u001b[0m\n\u001b[0;32m     98\u001b[0m \u001b[1;33m\u001b[0m\u001b[0m\n\u001b[1;32m---> 99\u001b[1;33m         \u001b[1;32mif\u001b[0m \u001b[0mdf_POIs\u001b[0m\u001b[1;33m[\u001b[0m\u001b[0mlabel_POI\u001b[0m\u001b[1;33m]\u001b[0m\u001b[1;33m.\u001b[0m\u001b[0munique\u001b[0m\u001b[1;33m(\u001b[0m\u001b[1;33m)\u001b[0m \u001b[1;33m==\u001b[0m \u001b[0mlen\u001b[0m\u001b[1;33m(\u001b[0m\u001b[0mdist_poi\u001b[0m\u001b[1;33m)\u001b[0m\u001b[1;33m:\u001b[0m\u001b[1;33m\u001b[0m\u001b[1;33m\u001b[0m\u001b[0m\n\u001b[0m\u001b[0;32m    100\u001b[0m             \u001b[1;31m## get a vector with windows time to each point\u001b[0m\u001b[1;33m\u001b[0m\u001b[1;33m\u001b[0m\u001b[1;33m\u001b[0m\u001b[0m\n",
      "\u001b[1;31mValueError\u001b[0m: The truth value of an array with more than one element is ambiguous. Use a.any() or a.all()",
      "\nDuring handling of the above exception, another exception occurred:\n",
      "\u001b[1;31mUnboundLocalError\u001b[0m                         Traceback (most recent call last)",
      "\u001b[1;32m<ipython-input-80-0d23b2ecfb87>\u001b[0m in \u001b[0;36m<module>\u001b[1;34m\u001b[0m\n\u001b[0;32m      4\u001b[0m \u001b[0mmove_df\u001b[0m \u001b[1;33m=\u001b[0m \u001b[0mmove_df\u001b[0m\u001b[1;33m.\u001b[0m\u001b[0mdropna\u001b[0m\u001b[1;33m(\u001b[0m\u001b[0msubset\u001b[0m \u001b[1;33m=\u001b[0m \u001b[1;33m[\u001b[0m\u001b[1;34m\"lon\"\u001b[0m\u001b[1;33m]\u001b[0m\u001b[1;33m,\u001b[0m \u001b[0minplace\u001b[0m\u001b[1;33m=\u001b[0m\u001b[1;32mFalse\u001b[0m\u001b[1;33m)\u001b[0m\u001b[1;33m\u001b[0m\u001b[1;33m\u001b[0m\u001b[0m\n\u001b[0;32m      5\u001b[0m \u001b[1;33m\u001b[0m\u001b[0m\n\u001b[1;32m----> 6\u001b[1;33m \u001b[0mit\u001b[0m\u001b[1;33m.\u001b[0m\u001b[0mjoin_with_POIs_optimizer\u001b[0m\u001b[1;33m(\u001b[0m\u001b[0mmove_df\u001b[0m\u001b[1;33m,\u001b[0m \u001b[0mPOIs\u001b[0m\u001b[1;33m,\u001b[0m \u001b[0mlabel_id\u001b[0m\u001b[1;33m=\u001b[0m\u001b[1;34m'osmid'\u001b[0m\u001b[1;33m,\u001b[0m \u001b[0mlabel_POI\u001b[0m\u001b[1;33m=\u001b[0m\u001b[1;34m'name'\u001b[0m\u001b[1;33m)\u001b[0m\u001b[1;33m\u001b[0m\u001b[1;33m\u001b[0m\u001b[0m\n\u001b[0m",
      "\u001b[1;32m~\\OneDrive\\Documentos\\Projetos\\Python\\PyMove - TCC\\pymove\\pymove\\utils\\integration.py\u001b[0m in \u001b[0;36mjoin_with_POIs_optimizer\u001b[1;34m(df_, df_POIs, label_id, label_POI, dist_poi, reset_index)\u001b[0m\n\u001b[0;32m    146\u001b[0m             \u001b[0mprint\u001b[0m\u001b[1;33m(\u001b[0m\u001b[1;34m'the size of the  dist_poi is different from '\u001b[0m\u001b[1;33m)\u001b[0m\u001b[1;33m\u001b[0m\u001b[1;33m\u001b[0m\u001b[0m\n\u001b[0;32m    147\u001b[0m     \u001b[1;32mexcept\u001b[0m \u001b[0mException\u001b[0m \u001b[1;32mas\u001b[0m \u001b[0me\u001b[0m\u001b[1;33m:\u001b[0m\u001b[1;33m\u001b[0m\u001b[1;33m\u001b[0m\u001b[0m\n\u001b[1;32m--> 148\u001b[1;33m         \u001b[0mprint\u001b[0m\u001b[1;33m(\u001b[0m\u001b[1;34m'id: {}\\n'\u001b[0m\u001b[1;33m.\u001b[0m\u001b[0mformat\u001b[0m\u001b[1;33m(\u001b[0m\u001b[0midx\u001b[0m\u001b[1;33m)\u001b[0m\u001b[1;33m)\u001b[0m\u001b[1;33m\u001b[0m\u001b[1;33m\u001b[0m\u001b[0m\n\u001b[0m\u001b[0;32m    149\u001b[0m         \u001b[1;32mraise\u001b[0m \u001b[0me\u001b[0m\u001b[1;33m\u001b[0m\u001b[1;33m\u001b[0m\u001b[0m\n\u001b[0;32m    150\u001b[0m \u001b[1;33m\u001b[0m\u001b[0m\n",
      "\u001b[1;31mUnboundLocalError\u001b[0m: local variable 'idx' referenced before assignment"
     ]
    }
   ],
   "source": [
    "#Deixando o move_df como no inicio\n",
    "move_df = move_df = MoveDataFrame(data=pdf, latitude='Lat', longitude='Long', datetime='OCCURRED_ON_DATE', traj_id='INCIDENT_NUMBER')\n",
    "move_df = move_df.dropna(subset = [\"lat\"], inplace=False)\n",
    "move_df = move_df.dropna(subset = [\"lon\"], inplace=False)\n",
    "\n",
    "it.join_with_POIs_optimizer(move_df, POIs, label_id='osmid', label_POI='name')"
   ]
  },
  {
   "cell_type": "markdown",
   "metadata": {},
   "source": [
    "## Integrando Pontos de Interesse ao DataSet baseado em categorias"
   ]
  },
  {
   "cell_type": "markdown",
   "metadata": {},
   "source": [
    "### Executando"
   ]
  },
  {
   "cell_type": "markdown",
   "metadata": {},
   "source": [
    "#### Removendo POIs sem categorias"
   ]
  },
  {
   "cell_type": "code",
   "execution_count": 90,
   "metadata": {},
   "outputs": [
    {
     "data": {
      "text/plain": [
       "120    parking_entrance\n",
       "126    parking_entrance\n",
       "178              prison\n",
       "179              prison\n",
       "180              prison\n",
       "Name: amenity, dtype: object"
      ]
     },
     "execution_count": 90,
     "metadata": {},
     "output_type": "execute_result"
    }
   ],
   "source": [
    "POIs = POIs.dropna(subset = [\"amenity\"], inplace = False)\n",
    "POIs['amenity'].head()"
   ]
  },
  {
   "cell_type": "code",
   "execution_count": 91,
   "metadata": {
    "scrolled": true
   },
   "outputs": [
    {
     "name": "stderr",
     "output_type": "stream",
     "text": [
      "  0%|          | 428/299074 [00:00<01:09, 4279.82it/s]"
     ]
    },
    {
     "name": "stdout",
     "output_type": "stream",
     "text": [
      "Integration with POIs...\n",
      "There are 79 categories =============== \n",
      "Calculing dist to category: parking_entrance =============== \n"
     ]
    },
    {
     "name": "stderr",
     "output_type": "stream",
     "text": [
      "100%|██████████| 299074/299074 [00:45<00:00, 6557.33it/s]\n",
      "  0%|          | 0/299074 [00:00<?, ?it/s]"
     ]
    },
    {
     "name": "stdout",
     "output_type": "stream",
     "text": [
      "Calculing dist to category: prison =============== \n"
     ]
    },
    {
     "name": "stderr",
     "output_type": "stream",
     "text": [
      "100%|██████████| 299074/299074 [00:43<00:00, 6910.62it/s]\n",
      "  0%|          | 0/299074 [00:00<?, ?it/s]"
     ]
    },
    {
     "name": "stdout",
     "output_type": "stream",
     "text": [
      "Calculing dist to category: hospital =============== \n"
     ]
    },
    {
     "name": "stderr",
     "output_type": "stream",
     "text": [
      "100%|██████████| 299074/299074 [00:42<00:00, 6996.96it/s]\n",
      "  0%|          | 0/299074 [00:00<?, ?it/s]"
     ]
    },
    {
     "name": "stdout",
     "output_type": "stream",
     "text": [
      "Calculing dist to category: police =============== \n"
     ]
    },
    {
     "name": "stderr",
     "output_type": "stream",
     "text": [
      "100%|██████████| 299074/299074 [00:43<00:00, 6797.51it/s]\n",
      "  0%|          | 0/299074 [00:00<?, ?it/s]"
     ]
    },
    {
     "name": "stdout",
     "output_type": "stream",
     "text": [
      "Calculing dist to category: fire_station =============== \n"
     ]
    },
    {
     "name": "stderr",
     "output_type": "stream",
     "text": [
      "100%|██████████| 299074/299074 [00:46<00:00, 6486.73it/s]\n",
      "  0%|          | 0/299074 [00:00<?, ?it/s]"
     ]
    },
    {
     "name": "stdout",
     "output_type": "stream",
     "text": [
      "Calculing dist to category: library =============== \n"
     ]
    },
    {
     "name": "stderr",
     "output_type": "stream",
     "text": [
      "100%|██████████| 299074/299074 [00:50<00:00, 5911.69it/s]\n",
      "  0%|          | 0/299074 [00:00<?, ?it/s]"
     ]
    },
    {
     "name": "stdout",
     "output_type": "stream",
     "text": [
      "Calculing dist to category: school =============== \n"
     ]
    },
    {
     "name": "stderr",
     "output_type": "stream",
     "text": [
      "100%|██████████| 299074/299074 [01:02<00:00, 4763.88it/s]\n",
      "  0%|          | 0/299074 [00:00<?, ?it/s]"
     ]
    },
    {
     "name": "stdout",
     "output_type": "stream",
     "text": [
      "Calculing dist to category: restaurant =============== \n"
     ]
    },
    {
     "name": "stderr",
     "output_type": "stream",
     "text": [
      "100%|██████████| 299074/299074 [01:02<00:00, 4816.14it/s]\n",
      "  0%|          | 0/299074 [00:00<?, ?it/s]"
     ]
    },
    {
     "name": "stdout",
     "output_type": "stream",
     "text": [
      "Calculing dist to category: bank =============== \n"
     ]
    },
    {
     "name": "stderr",
     "output_type": "stream",
     "text": [
      "100%|██████████| 299074/299074 [00:43<00:00, 6896.40it/s]\n"
     ]
    },
    {
     "name": "stdout",
     "output_type": "stream",
     "text": [
      "Calculing dist to category: fast_food =============== \n"
     ]
    },
    {
     "name": "stderr",
     "output_type": "stream",
     "text": [
      "100%|██████████| 299074/299074 [00:50<00:00, 5957.93it/s]\n"
     ]
    },
    {
     "name": "stdout",
     "output_type": "stream",
     "text": [
      "Calculing dist to category: grave_yard =============== \n"
     ]
    },
    {
     "name": "stderr",
     "output_type": "stream",
     "text": [
      "100%|██████████| 299074/299074 [00:41<00:00, 7155.10it/s]\n",
      "  0%|          | 0/299074 [00:00<?, ?it/s]"
     ]
    },
    {
     "name": "stdout",
     "output_type": "stream",
     "text": [
      "Calculing dist to category: place_of_worship =============== \n"
     ]
    },
    {
     "name": "stderr",
     "output_type": "stream",
     "text": [
      "100%|██████████| 299074/299074 [00:45<00:00, 6575.28it/s]\n",
      "  0%|          | 0/299074 [00:00<?, ?it/s]"
     ]
    },
    {
     "name": "stdout",
     "output_type": "stream",
     "text": [
      "Calculing dist to category: fountain =============== \n"
     ]
    },
    {
     "name": "stderr",
     "output_type": "stream",
     "text": [
      "100%|██████████| 299074/299074 [00:45<00:00, 6541.05it/s]\n"
     ]
    },
    {
     "name": "stdout",
     "output_type": "stream",
     "text": [
      "Calculing dist to category: doctors =============== \n"
     ]
    },
    {
     "name": "stderr",
     "output_type": "stream",
     "text": [
      "100%|██████████| 299074/299074 [00:45<00:00, 6575.37it/s]\n"
     ]
    },
    {
     "name": "stdout",
     "output_type": "stream",
     "text": [
      "Calculing dist to category: university =============== \n"
     ]
    },
    {
     "name": "stderr",
     "output_type": "stream",
     "text": [
      "100%|██████████| 299074/299074 [00:35<00:00, 8352.08it/s]\n"
     ]
    },
    {
     "name": "stdout",
     "output_type": "stream",
     "text": [
      "Calculing dist to category: post_office =============== \n"
     ]
    },
    {
     "name": "stderr",
     "output_type": "stream",
     "text": [
      "100%|██████████| 299074/299074 [00:32<00:00, 9068.45it/s] \n"
     ]
    },
    {
     "name": "stdout",
     "output_type": "stream",
     "text": [
      "Calculing dist to category: clinic =============== \n"
     ]
    },
    {
     "name": "stderr",
     "output_type": "stream",
     "text": [
      "100%|██████████| 299074/299074 [00:32<00:00, 9309.83it/s] \n"
     ]
    },
    {
     "name": "stdout",
     "output_type": "stream",
     "text": [
      "Calculing dist to category: bicycle_parking =============== \n"
     ]
    },
    {
     "name": "stderr",
     "output_type": "stream",
     "text": [
      "100%|██████████| 299074/299074 [00:35<00:00, 8356.63it/s]\n"
     ]
    },
    {
     "name": "stdout",
     "output_type": "stream",
     "text": [
      "Calculing dist to category: parking =============== \n"
     ]
    },
    {
     "name": "stderr",
     "output_type": "stream",
     "text": [
      "100%|██████████| 299074/299074 [00:34<00:00, 8726.94it/s] \n"
     ]
    },
    {
     "name": "stdout",
     "output_type": "stream",
     "text": [
      "Calculing dist to category: theatre =============== \n"
     ]
    },
    {
     "name": "stderr",
     "output_type": "stream",
     "text": [
      "100%|██████████| 299074/299074 [00:33<00:00, 8917.52it/s] \n"
     ]
    },
    {
     "name": "stdout",
     "output_type": "stream",
     "text": [
      "Calculing dist to category: arts_centre =============== \n"
     ]
    },
    {
     "name": "stderr",
     "output_type": "stream",
     "text": [
      "100%|██████████| 299074/299074 [00:38<00:00, 7724.28it/s]\n"
     ]
    },
    {
     "name": "stdout",
     "output_type": "stream",
     "text": [
      "Calculing dist to category: courthouse =============== \n"
     ]
    },
    {
     "name": "stderr",
     "output_type": "stream",
     "text": [
      "100%|██████████| 299074/299074 [00:44<00:00, 6744.37it/s]\n"
     ]
    },
    {
     "name": "stdout",
     "output_type": "stream",
     "text": [
      "Calculing dist to category: public_building =============== \n"
     ]
    },
    {
     "name": "stderr",
     "output_type": "stream",
     "text": [
      "100%|██████████| 299074/299074 [00:39<00:00, 7648.59it/s]\n"
     ]
    },
    {
     "name": "stdout",
     "output_type": "stream",
     "text": [
      "Calculing dist to category: cafe =============== \n"
     ]
    },
    {
     "name": "stderr",
     "output_type": "stream",
     "text": [
      "100%|██████████| 299074/299074 [00:43<00:00, 6919.70it/s]\n"
     ]
    },
    {
     "name": "stdout",
     "output_type": "stream",
     "text": [
      "Calculing dist to category: pharmacy =============== \n"
     ]
    },
    {
     "name": "stderr",
     "output_type": "stream",
     "text": [
      "100%|██████████| 299074/299074 [00:37<00:00, 8027.73it/s]\n"
     ]
    },
    {
     "name": "stdout",
     "output_type": "stream",
     "text": [
      "Calculing dist to category: bar =============== \n"
     ]
    },
    {
     "name": "stderr",
     "output_type": "stream",
     "text": [
      "100%|██████████| 299074/299074 [00:37<00:00, 7882.58it/s]\n"
     ]
    },
    {
     "name": "stdout",
     "output_type": "stream",
     "text": [
      "Calculing dist to category: post_box =============== \n"
     ]
    },
    {
     "name": "stderr",
     "output_type": "stream",
     "text": [
      "100%|██████████| 299074/299074 [00:37<00:00, 8023.76it/s]\n"
     ]
    },
    {
     "name": "stdout",
     "output_type": "stream",
     "text": [
      "Calculing dist to category: pub =============== \n"
     ]
    },
    {
     "name": "stderr",
     "output_type": "stream",
     "text": [
      "100%|██████████| 299074/299074 [00:36<00:00, 8144.72it/s]\n"
     ]
    },
    {
     "name": "stdout",
     "output_type": "stream",
     "text": [
      "Calculing dist to category: taxi =============== \n"
     ]
    },
    {
     "name": "stderr",
     "output_type": "stream",
     "text": [
      "100%|██████████| 299074/299074 [00:39<00:00, 7649.30it/s]\n"
     ]
    },
    {
     "name": "stdout",
     "output_type": "stream",
     "text": [
      "Calculing dist to category: atm =============== \n"
     ]
    },
    {
     "name": "stderr",
     "output_type": "stream",
     "text": [
      "100%|██████████| 299074/299074 [00:39<00:00, 7600.73it/s]\n"
     ]
    },
    {
     "name": "stdout",
     "output_type": "stream",
     "text": [
      "Calculing dist to category: college;school =============== \n"
     ]
    },
    {
     "name": "stderr",
     "output_type": "stream",
     "text": [
      "100%|██████████| 299074/299074 [00:34<00:00, 8667.88it/s]\n"
     ]
    },
    {
     "name": "stdout",
     "output_type": "stream",
     "text": [
      "Calculing dist to category: bench =============== \n"
     ]
    },
    {
     "name": "stderr",
     "output_type": "stream",
     "text": [
      "100%|██████████| 299074/299074 [01:06<00:00, 4516.51it/s]\n"
     ]
    },
    {
     "name": "stdout",
     "output_type": "stream",
     "text": [
      "Calculing dist to category: toilets =============== \n"
     ]
    },
    {
     "name": "stderr",
     "output_type": "stream",
     "text": [
      "100%|██████████| 299074/299074 [00:40<00:00, 7350.00it/s]\n"
     ]
    },
    {
     "name": "stdout",
     "output_type": "stream",
     "text": [
      "Calculing dist to category: waste_basket =============== \n"
     ]
    },
    {
     "name": "stderr",
     "output_type": "stream",
     "text": [
      "100%|██████████| 299074/299074 [00:52<00:00, 5711.64it/s]\n"
     ]
    },
    {
     "name": "stdout",
     "output_type": "stream",
     "text": [
      "Calculing dist to category: drinking_water =============== \n"
     ]
    },
    {
     "name": "stderr",
     "output_type": "stream",
     "text": [
      "100%|██████████| 299074/299074 [00:43<00:00, 6903.57it/s]\n"
     ]
    },
    {
     "name": "stdout",
     "output_type": "stream",
     "text": [
      "Calculing dist to category: social_facility =============== \n"
     ]
    },
    {
     "name": "stderr",
     "output_type": "stream",
     "text": [
      "100%|██████████| 299074/299074 [00:41<00:00, 7146.61it/s]\n"
     ]
    },
    {
     "name": "stdout",
     "output_type": "stream",
     "text": [
      "Calculing dist to category: ferry_terminal =============== \n"
     ]
    },
    {
     "name": "stderr",
     "output_type": "stream",
     "text": [
      "100%|██████████| 299074/299074 [00:42<00:00, 7044.56it/s]\n"
     ]
    },
    {
     "name": "stdout",
     "output_type": "stream",
     "text": [
      "Calculing dist to category: bus_station =============== \n"
     ]
    },
    {
     "name": "stderr",
     "output_type": "stream",
     "text": [
      "100%|██████████| 299074/299074 [00:41<00:00, 7240.25it/s]\n"
     ]
    },
    {
     "name": "stdout",
     "output_type": "stream",
     "text": [
      "Calculing dist to category: college =============== \n"
     ]
    },
    {
     "name": "stderr",
     "output_type": "stream",
     "text": [
      "100%|██████████| 299074/299074 [00:43<00:00, 6856.68it/s]\n"
     ]
    },
    {
     "name": "stdout",
     "output_type": "stream",
     "text": [
      "Calculing dist to category: cinema =============== \n"
     ]
    },
    {
     "name": "stderr",
     "output_type": "stream",
     "text": [
      "100%|██████████| 299074/299074 [00:43<00:00, 6838.55it/s]\n"
     ]
    },
    {
     "name": "stdout",
     "output_type": "stream",
     "text": [
      "Calculing dist to category: shower =============== \n"
     ]
    },
    {
     "name": "stderr",
     "output_type": "stream",
     "text": [
      "100%|██████████| 299074/299074 [00:41<00:00, 7177.12it/s]\n"
     ]
    },
    {
     "name": "stdout",
     "output_type": "stream",
     "text": [
      "Calculing dist to category: car_sharing =============== \n"
     ]
    },
    {
     "name": "stderr",
     "output_type": "stream",
     "text": [
      "100%|██████████| 299074/299074 [00:42<00:00, 7035.94it/s]\n"
     ]
    },
    {
     "name": "stdout",
     "output_type": "stream",
     "text": [
      "Calculing dist to category: marketplace =============== \n"
     ]
    },
    {
     "name": "stderr",
     "output_type": "stream",
     "text": [
      "100%|██████████| 299074/299074 [00:44<00:00, 6770.54it/s]\n"
     ]
    },
    {
     "name": "stdout",
     "output_type": "stream",
     "text": [
      "Calculing dist to category: fuel =============== \n"
     ]
    },
    {
     "name": "stderr",
     "output_type": "stream",
     "text": [
      "100%|██████████| 299074/299074 [00:42<00:00, 7039.96it/s]\n"
     ]
    },
    {
     "name": "stdout",
     "output_type": "stream",
     "text": [
      "Calculing dist to category: community_centre =============== \n"
     ]
    },
    {
     "name": "stderr",
     "output_type": "stream",
     "text": [
      "100%|██████████| 299074/299074 [00:39<00:00, 7568.39it/s] \n"
     ]
    },
    {
     "name": "stdout",
     "output_type": "stream",
     "text": [
      "Calculing dist to category: music_club =============== \n"
     ]
    },
    {
     "name": "stderr",
     "output_type": "stream",
     "text": [
      "100%|██████████| 299074/299074 [1:09:29<00:00, 71.72it/s]  \n"
     ]
    },
    {
     "name": "stdout",
     "output_type": "stream",
     "text": [
      "Calculing dist to category: dentist =============== \n"
     ]
    },
    {
     "name": "stderr",
     "output_type": "stream",
     "text": [
      "100%|██████████| 299074/299074 [00:34<00:00, 8644.49it/s]\n"
     ]
    },
    {
     "name": "stdout",
     "output_type": "stream",
     "text": [
      "Calculing dist to category: bbq =============== \n"
     ]
    },
    {
     "name": "stderr",
     "output_type": "stream",
     "text": [
      "100%|██████████| 299074/299074 [00:32<00:00, 9256.66it/s] \n"
     ]
    },
    {
     "name": "stdout",
     "output_type": "stream",
     "text": [
      "Calculing dist to category: childcare =============== \n"
     ]
    },
    {
     "name": "stderr",
     "output_type": "stream",
     "text": [
      "100%|██████████| 299074/299074 [00:31<00:00, 9432.02it/s] \n"
     ]
    },
    {
     "name": "stdout",
     "output_type": "stream",
     "text": [
      "Calculing dist to category: telephone =============== \n"
     ]
    },
    {
     "name": "stderr",
     "output_type": "stream",
     "text": [
      "100%|██████████| 299074/299074 [00:32<00:00, 9264.17it/s] \n"
     ]
    },
    {
     "name": "stdout",
     "output_type": "stream",
     "text": [
      "Calculing dist to category: social_centre =============== \n"
     ]
    },
    {
     "name": "stderr",
     "output_type": "stream",
     "text": [
      "100%|██████████| 299074/299074 [00:31<00:00, 9645.34it/s] \n"
     ]
    },
    {
     "name": "stdout",
     "output_type": "stream",
     "text": [
      "Calculing dist to category: food_court =============== \n"
     ]
    },
    {
     "name": "stderr",
     "output_type": "stream",
     "text": [
      "100%|██████████| 299074/299074 [00:34<00:00, 8778.71it/s]\n"
     ]
    },
    {
     "name": "stdout",
     "output_type": "stream",
     "text": [
      "Calculing dist to category: ice_cream =============== \n"
     ]
    },
    {
     "name": "stderr",
     "output_type": "stream",
     "text": [
      "100%|██████████| 299074/299074 [00:36<00:00, 8229.78it/s]\n"
     ]
    },
    {
     "name": "stdout",
     "output_type": "stream",
     "text": [
      "Calculing dist to category: vending_machine =============== \n"
     ]
    },
    {
     "name": "stderr",
     "output_type": "stream",
     "text": [
      "100%|██████████| 299074/299074 [00:35<00:00, 8385.32it/s]\n"
     ]
    },
    {
     "name": "stdout",
     "output_type": "stream",
     "text": [
      "Calculing dist to category: clock =============== \n"
     ]
    },
    {
     "name": "stderr",
     "output_type": "stream",
     "text": [
      "100%|██████████| 299074/299074 [00:33<00:00, 9002.93it/s]\n"
     ]
    },
    {
     "name": "stdout",
     "output_type": "stream",
     "text": [
      "Calculing dist to category: nursing_home =============== \n"
     ]
    },
    {
     "name": "stderr",
     "output_type": "stream",
     "text": [
      "100%|██████████| 299074/299074 [00:32<00:00, 9249.15it/s] \n"
     ]
    },
    {
     "name": "stdout",
     "output_type": "stream",
     "text": [
      "Calculing dist to category: car_rental =============== \n"
     ]
    },
    {
     "name": "stderr",
     "output_type": "stream",
     "text": [
      "100%|██████████| 299074/299074 [00:35<00:00, 8492.78it/s]\n"
     ]
    },
    {
     "name": "stdout",
     "output_type": "stream",
     "text": [
      "Calculing dist to category: nightclub =============== \n"
     ]
    },
    {
     "name": "stderr",
     "output_type": "stream",
     "text": [
      "100%|██████████| 299074/299074 [00:34<00:00, 8754.88it/s]\n"
     ]
    },
    {
     "name": "stdout",
     "output_type": "stream",
     "text": [
      "Calculing dist to category: bicycle_rental =============== \n"
     ]
    },
    {
     "name": "stderr",
     "output_type": "stream",
     "text": [
      "100%|██████████| 299074/299074 [00:36<00:00, 8258.59it/s]\n"
     ]
    },
    {
     "name": "stdout",
     "output_type": "stream",
     "text": [
      "Calculing dist to category: car_wash =============== \n"
     ]
    },
    {
     "name": "stderr",
     "output_type": "stream",
     "text": [
      "100%|██████████| 299074/299074 [00:32<00:00, 9178.28it/s] \n"
     ]
    },
    {
     "name": "stdout",
     "output_type": "stream",
     "text": [
      "Calculing dist to category: recycling =============== \n"
     ]
    },
    {
     "name": "stderr",
     "output_type": "stream",
     "text": [
      "100%|██████████| 299074/299074 [00:33<00:00, 8857.33it/s]\n"
     ]
    },
    {
     "name": "stdout",
     "output_type": "stream",
     "text": [
      "Calculing dist to category: bicycle_repair_station =============== \n"
     ]
    },
    {
     "name": "stderr",
     "output_type": "stream",
     "text": [
      "100%|██████████| 299074/299074 [00:34<00:00, 8759.02it/s] \n"
     ]
    },
    {
     "name": "stdout",
     "output_type": "stream",
     "text": [
      "Calculing dist to category: waste_disposal =============== \n"
     ]
    },
    {
     "name": "stderr",
     "output_type": "stream",
     "text": [
      "100%|██████████| 299074/299074 [00:32<00:00, 9325.46it/s] \n"
     ]
    },
    {
     "name": "stdout",
     "output_type": "stream",
     "text": [
      "Calculing dist to category: parking_space =============== \n"
     ]
    },
    {
     "name": "stderr",
     "output_type": "stream",
     "text": [
      "100%|██████████| 299074/299074 [00:33<00:00, 8888.63it/s]\n"
     ]
    },
    {
     "name": "stdout",
     "output_type": "stream",
     "text": [
      "Calculing dist to category: money_transfer =============== \n"
     ]
    },
    {
     "name": "stderr",
     "output_type": "stream",
     "text": [
      "100%|██████████| 299074/299074 [00:31<00:00, 9450.28it/s] \n"
     ]
    },
    {
     "name": "stdout",
     "output_type": "stream",
     "text": [
      "Calculing dist to category: veterinary =============== \n"
     ]
    },
    {
     "name": "stderr",
     "output_type": "stream",
     "text": [
      "100%|██████████| 299074/299074 [00:32<00:00, 9171.05it/s] \n"
     ]
    },
    {
     "name": "stdout",
     "output_type": "stream",
     "text": [
      "Calculing dist to category: boat_rental =============== \n"
     ]
    },
    {
     "name": "stderr",
     "output_type": "stream",
     "text": [
      "100%|██████████| 299074/299074 [00:35<00:00, 8492.17it/s]\n"
     ]
    },
    {
     "name": "stdout",
     "output_type": "stream",
     "text": [
      "Calculing dist to category: bureau_de_change =============== \n"
     ]
    },
    {
     "name": "stderr",
     "output_type": "stream",
     "text": [
      "100%|██████████| 299074/299074 [00:33<00:00, 9009.58it/s]\n"
     ]
    },
    {
     "name": "stdout",
     "output_type": "stream",
     "text": [
      "Calculing dist to category: driving_school =============== \n"
     ]
    },
    {
     "name": "stderr",
     "output_type": "stream",
     "text": [
      "100%|██████████| 299074/299074 [00:31<00:00, 9512.93it/s] \n"
     ]
    },
    {
     "name": "stdout",
     "output_type": "stream",
     "text": [
      "Calculing dist to category: shelter =============== \n"
     ]
    },
    {
     "name": "stderr",
     "output_type": "stream",
     "text": [
      "100%|██████████| 299074/299074 [00:32<00:00, 9246.00it/s]\n"
     ]
    },
    {
     "name": "stdout",
     "output_type": "stream",
     "text": [
      "Calculing dist to category: luggage_locker =============== \n"
     ]
    },
    {
     "name": "stderr",
     "output_type": "stream",
     "text": [
      "100%|██████████| 299074/299074 [00:31<00:00, 9566.33it/s] \n"
     ]
    },
    {
     "name": "stdout",
     "output_type": "stream",
     "text": [
      "Calculing dist to category: coworking_space =============== \n"
     ]
    },
    {
     "name": "stderr",
     "output_type": "stream",
     "text": [
      "100%|██████████| 299074/299074 [00:34<00:00, 8698.30it/s] \n"
     ]
    },
    {
     "name": "stdout",
     "output_type": "stream",
     "text": [
      "Calculing dist to category: studio =============== \n"
     ]
    },
    {
     "name": "stderr",
     "output_type": "stream",
     "text": [
      "100%|██████████| 299074/299074 [00:32<00:00, 9328.09it/s] \n"
     ]
    },
    {
     "name": "stdout",
     "output_type": "stream",
     "text": [
      "Calculing dist to category: internet_cafe =============== \n"
     ]
    },
    {
     "name": "stderr",
     "output_type": "stream",
     "text": [
      "100%|██████████| 299074/299074 [00:31<00:00, 9507.43it/s] \n"
     ]
    },
    {
     "name": "stdout",
     "output_type": "stream",
     "text": [
      "Calculing dist to category: letter_box =============== \n"
     ]
    },
    {
     "name": "stderr",
     "output_type": "stream",
     "text": [
      "100%|██████████| 299074/299074 [00:32<00:00, 9149.50it/s]\n"
     ]
    },
    {
     "name": "stdout",
     "output_type": "stream",
     "text": [
      "Calculing dist to category: charging_station =============== \n"
     ]
    },
    {
     "name": "stderr",
     "output_type": "stream",
     "text": [
      "100%|██████████| 299074/299074 [00:32<00:00, 9078.85it/s] \n"
     ]
    },
    {
     "name": "stdout",
     "output_type": "stream",
     "text": [
      "Calculing dist to category: public_bookcase =============== \n"
     ]
    },
    {
     "name": "stderr",
     "output_type": "stream",
     "text": [
      "100%|██████████| 299074/299074 [00:32<00:00, 9119.48it/s]\n"
     ]
    },
    {
     "name": "stdout",
     "output_type": "stream",
     "text": [
      "Calculing dist to category: bar;restaurant =============== \n"
     ]
    },
    {
     "name": "stderr",
     "output_type": "stream",
     "text": [
      "100%|██████████| 299074/299074 [00:31<00:00, 9426.53it/s] \n"
     ]
    },
    {
     "name": "stdout",
     "output_type": "stream",
     "text": [
      "Calculing dist to category: kindergarten =============== \n"
     ]
    },
    {
     "name": "stderr",
     "output_type": "stream",
     "text": [
      "100%|██████████| 299074/299074 [00:31<00:00, 9542.98it/s] \n"
     ]
    },
    {
     "name": "stdout",
     "output_type": "stream",
     "text": [
      "Integration with POI was finalized\n",
      "\n",
      "Total Time: 7231.17 seconds\n"
     ]
    }
   ],
   "source": [
    "it.join_with_POIs_by_category(move_df, POIs, label_category='amenity', label_id='osmid', label_POI='name')"
   ]
  },
  {
   "cell_type": "markdown",
   "metadata": {},
   "source": [
    "### Testando"
   ]
  },
  {
   "cell_type": "code",
   "execution_count": null,
   "metadata": {},
   "outputs": [],
   "source": [
    "move_df.head(10)"
   ]
  },
  {
   "cell_type": "markdown",
   "metadata": {},
   "source": [
    "## Integrando Pontos de Interesse ao DataSet baseado no datetime"
   ]
  },
  {
   "cell_type": "markdown",
   "metadata": {},
   "source": [
    "Integra um dataframe normal com um CVP com as informações dos Pontos de Interesse, possuindo 'lat', 'lon', 'datetime', 'event_id' e 'event_type' como labels."
   ]
  },
  {
   "cell_type": "code",
   "execution_count": 197,
   "metadata": {},
   "outputs": [
    {
     "data": {
      "text/html": [
       "<div>\n",
       "<style scoped>\n",
       "    .dataframe tbody tr th:only-of-type {\n",
       "        vertical-align: middle;\n",
       "    }\n",
       "\n",
       "    .dataframe tbody tr th {\n",
       "        vertical-align: top;\n",
       "    }\n",
       "\n",
       "    .dataframe thead th {\n",
       "        text-align: right;\n",
       "    }\n",
       "</style>\n",
       "<table border=\"1\" class=\"dataframe\">\n",
       "  <thead>\n",
       "    <tr style=\"text-align: right;\">\n",
       "      <th></th>\n",
       "      <th>lat</th>\n",
       "      <th>lon</th>\n",
       "      <th>datetime</th>\n",
       "      <th>event_id</th>\n",
       "      <th>event_type</th>\n",
       "    </tr>\n",
       "  </thead>\n",
       "  <tbody>\n",
       "    <tr>\n",
       "      <th>0</th>\n",
       "      <td>39.984094</td>\n",
       "      <td>116.319236</td>\n",
       "      <td>2008-10-23 05:53:05</td>\n",
       "      <td>0</td>\n",
       "      <td>bank</td>\n",
       "    </tr>\n",
       "    <tr>\n",
       "      <th>1</th>\n",
       "      <td>40.016238</td>\n",
       "      <td>116.307691</td>\n",
       "      <td>2008-10-23 11:03:06</td>\n",
       "      <td>1</td>\n",
       "      <td>bank</td>\n",
       "    </tr>\n",
       "    <tr>\n",
       "      <th>2</th>\n",
       "      <td>39.993625</td>\n",
       "      <td>116.326474</td>\n",
       "      <td>2008-10-24 00:02:11</td>\n",
       "      <td>2</td>\n",
       "      <td>park</td>\n",
       "    </tr>\n",
       "    <tr>\n",
       "      <th>3</th>\n",
       "      <td>39.979564</td>\n",
       "      <td>116.312329</td>\n",
       "      <td>2008-10-24 03:22:35</td>\n",
       "      <td>3</td>\n",
       "      <td>restaurant</td>\n",
       "    </tr>\n",
       "  </tbody>\n",
       "</table>\n",
       "</div>"
      ],
      "text/plain": [
       "         lat         lon            datetime event_id  event_type\n",
       "0  39.984094  116.319236 2008-10-23 05:53:05        0        bank\n",
       "1  40.016238  116.307691 2008-10-23 11:03:06        1        bank\n",
       "2  39.993625  116.326474 2008-10-24 00:02:11        2        park\n",
       "3  39.979564  116.312329 2008-10-24 03:22:35        3  restaurant"
      ]
     },
     "execution_count": 197,
     "metadata": {},
     "output_type": "execute_result"
    }
   ],
   "source": [
    "cvp = POIs.copy()\n",
    "cvp['event_id'] = cvp['id']\n",
    "cvp['event_type'] = cvp['Type']\n",
    "cvp = cvp.drop(['id', 'Type', 'categories'], axis=1)\n",
    "cvp.head()"
   ]
  },
  {
   "cell_type": "code",
   "execution_count": 198,
   "metadata": {},
   "outputs": [
    {
     "name": "stderr",
     "output_type": "stream",
     "text": [
      "  2%|▏         | 46/2000 [00:00<00:04, 450.94it/s]"
     ]
    },
    {
     "name": "stdout",
     "output_type": "stream",
     "text": [
      "Integration with CVP...\n"
     ]
    },
    {
     "name": "stderr",
     "output_type": "stream",
     "text": [
      "100%|██████████| 2000/2000 [00:03<00:00, 632.06it/s]"
     ]
    },
    {
     "name": "stdout",
     "output_type": "stream",
     "text": [
      "Integration with CVP was completed\n",
      "\n",
      "Total Time: 3.22 seconds\n",
      "-----------------------------------------------------\n",
      "\n"
     ]
    },
    {
     "name": "stderr",
     "output_type": "stream",
     "text": [
      "\n"
     ]
    }
   ],
   "source": [
    "it.join_with_POI_datetime(move_df, POIs, label_date='datetime', time_window=900, dist_to_poi=50)"
   ]
  },
  {
   "cell_type": "code",
   "execution_count": 199,
   "metadata": {},
   "outputs": [
    {
     "data": {
      "text/html": [
       "<div>\n",
       "<style scoped>\n",
       "    .dataframe tbody tr th:only-of-type {\n",
       "        vertical-align: middle;\n",
       "    }\n",
       "\n",
       "    .dataframe tbody tr th {\n",
       "        vertical-align: top;\n",
       "    }\n",
       "\n",
       "    .dataframe thead th {\n",
       "        text-align: right;\n",
       "    }\n",
       "</style>\n",
       "<table border=\"1\" class=\"dataframe\">\n",
       "  <thead>\n",
       "    <tr style=\"text-align: right;\">\n",
       "      <th></th>\n",
       "      <th>lat</th>\n",
       "      <th>lon</th>\n",
       "      <th>datetime</th>\n",
       "      <th>id</th>\n",
       "      <th>id_private</th>\n",
       "      <th>dist_private</th>\n",
       "      <th>id_public</th>\n",
       "      <th>dist_public</th>\n",
       "      <th>event_id_2</th>\n",
       "      <th>dist_cvp_2</th>\n",
       "      <th>event_type_2</th>\n",
       "    </tr>\n",
       "  </thead>\n",
       "  <tbody>\n",
       "    <tr>\n",
       "      <th>0</th>\n",
       "      <td>39.984094</td>\n",
       "      <td>116.319236</td>\n",
       "      <td>2008-10-23 05:53:05</td>\n",
       "      <td>1</td>\n",
       "      <td>0</td>\n",
       "      <td>0.000000</td>\n",
       "      <td>2</td>\n",
       "      <td>1226.602051</td>\n",
       "      <td>0</td>\n",
       "      <td>0.000000</td>\n",
       "      <td>bank</td>\n",
       "    </tr>\n",
       "    <tr>\n",
       "      <th>1</th>\n",
       "      <td>39.984198</td>\n",
       "      <td>116.319322</td>\n",
       "      <td>2008-10-23 05:53:06</td>\n",
       "      <td>1</td>\n",
       "      <td>0</td>\n",
       "      <td>14.015319</td>\n",
       "      <td>2</td>\n",
       "      <td>1212.586914</td>\n",
       "      <td>0</td>\n",
       "      <td>14.015319</td>\n",
       "      <td>bank</td>\n",
       "    </tr>\n",
       "    <tr>\n",
       "      <th>2</th>\n",
       "      <td>39.984224</td>\n",
       "      <td>116.319402</td>\n",
       "      <td>2008-10-23 05:53:11</td>\n",
       "      <td>1</td>\n",
       "      <td>0</td>\n",
       "      <td>20.082062</td>\n",
       "      <td>2</td>\n",
       "      <td>1207.115723</td>\n",
       "      <td>0</td>\n",
       "      <td>20.082062</td>\n",
       "      <td>bank</td>\n",
       "    </tr>\n",
       "    <tr>\n",
       "      <th>3</th>\n",
       "      <td>39.984211</td>\n",
       "      <td>116.319389</td>\n",
       "      <td>2008-10-23 05:53:16</td>\n",
       "      <td>1</td>\n",
       "      <td>0</td>\n",
       "      <td>18.454088</td>\n",
       "      <td>2</td>\n",
       "      <td>1208.684082</td>\n",
       "      <td>0</td>\n",
       "      <td>18.454088</td>\n",
       "      <td>bank</td>\n",
       "    </tr>\n",
       "    <tr>\n",
       "      <th>4</th>\n",
       "      <td>39.984217</td>\n",
       "      <td>116.319422</td>\n",
       "      <td>2008-10-23 05:53:21</td>\n",
       "      <td>1</td>\n",
       "      <td>0</td>\n",
       "      <td>20.647966</td>\n",
       "      <td>2</td>\n",
       "      <td>1206.864136</td>\n",
       "      <td>0</td>\n",
       "      <td>20.647966</td>\n",
       "      <td>bank</td>\n",
       "    </tr>\n",
       "  </tbody>\n",
       "</table>\n",
       "</div>"
      ],
      "text/plain": [
       "         lat         lon            datetime  id id_private  dist_private  \\\n",
       "0  39.984094  116.319236 2008-10-23 05:53:05   1          0      0.000000   \n",
       "1  39.984198  116.319322 2008-10-23 05:53:06   1          0     14.015319   \n",
       "2  39.984224  116.319402 2008-10-23 05:53:11   1          0     20.082062   \n",
       "3  39.984211  116.319389 2008-10-23 05:53:16   1          0     18.454088   \n",
       "4  39.984217  116.319422 2008-10-23 05:53:21   1          0     20.647966   \n",
       "\n",
       "  id_public  dist_public  event_id_2  dist_cvp_2 event_type_2  \n",
       "0         2  1226.602051           0    0.000000         bank  \n",
       "1         2  1212.586914           0   14.015319         bank  \n",
       "2         2  1207.115723           0   20.082062         bank  \n",
       "3         2  1208.684082           0   18.454088         bank  \n",
       "4         2  1206.864136           0   20.647966         bank  "
      ]
     },
     "execution_count": 199,
     "metadata": {},
     "output_type": "execute_result"
    }
   ],
   "source": [
    "move_df.head()"
   ]
  },
  {
   "cell_type": "markdown",
   "metadata": {},
   "source": [
    "## Otimizador de integração de Pontos de Interesse ao DataSet baseado no datetime "
   ]
  },
  {
   "cell_type": "code",
   "execution_count": 200,
   "metadata": {},
   "outputs": [
    {
     "name": "stderr",
     "output_type": "stream",
     "text": [
      "100%|██████████| 4/4 [00:00<00:00, 33.90it/s]"
     ]
    },
    {
     "name": "stdout",
     "output_type": "stream",
     "text": [
      "Integration with CVP...\n",
      "Integration with CVP was completed\n",
      "\n",
      "Total Time: 0.13 seconds\n",
      "-----------------------------------------------------\n",
      "\n"
     ]
    },
    {
     "name": "stderr",
     "output_type": "stream",
     "text": [
      "\n"
     ]
    }
   ],
   "source": [
    "move_df = df[0:2000].copy()\n",
    "it.join_with_POI_datetime_optimizer(move_df, POIs, label_date='datetime', time_window=900)"
   ]
  },
  {
   "cell_type": "code",
   "execution_count": 201,
   "metadata": {},
   "outputs": [
    {
     "data": {
      "text/html": [
       "<div>\n",
       "<style scoped>\n",
       "    .dataframe tbody tr th:only-of-type {\n",
       "        vertical-align: middle;\n",
       "    }\n",
       "\n",
       "    .dataframe tbody tr th {\n",
       "        vertical-align: top;\n",
       "    }\n",
       "\n",
       "    .dataframe thead th {\n",
       "        text-align: right;\n",
       "    }\n",
       "</style>\n",
       "<table border=\"1\" class=\"dataframe\">\n",
       "  <thead>\n",
       "    <tr style=\"text-align: right;\">\n",
       "      <th></th>\n",
       "      <th>lat</th>\n",
       "      <th>lon</th>\n",
       "      <th>datetime</th>\n",
       "      <th>id</th>\n",
       "      <th>event_id</th>\n",
       "      <th>dist_cvp</th>\n",
       "      <th>event_type</th>\n",
       "    </tr>\n",
       "  </thead>\n",
       "  <tbody>\n",
       "    <tr>\n",
       "      <th>0</th>\n",
       "      <td>39.984094</td>\n",
       "      <td>116.319236</td>\n",
       "      <td>2008-10-23 05:53:05</td>\n",
       "      <td>1</td>\n",
       "      <td>0</td>\n",
       "      <td>0.000000</td>\n",
       "      <td>bank</td>\n",
       "    </tr>\n",
       "    <tr>\n",
       "      <th>1</th>\n",
       "      <td>39.984198</td>\n",
       "      <td>116.319322</td>\n",
       "      <td>2008-10-23 05:53:06</td>\n",
       "      <td>1</td>\n",
       "      <td>0</td>\n",
       "      <td>14.015319</td>\n",
       "      <td>bank</td>\n",
       "    </tr>\n",
       "    <tr>\n",
       "      <th>2</th>\n",
       "      <td>39.984224</td>\n",
       "      <td>116.319402</td>\n",
       "      <td>2008-10-23 05:53:11</td>\n",
       "      <td>1</td>\n",
       "      <td>0</td>\n",
       "      <td>20.082062</td>\n",
       "      <td>bank</td>\n",
       "    </tr>\n",
       "    <tr>\n",
       "      <th>3</th>\n",
       "      <td>39.984211</td>\n",
       "      <td>116.319389</td>\n",
       "      <td>2008-10-23 05:53:16</td>\n",
       "      <td>1</td>\n",
       "      <td>0</td>\n",
       "      <td>18.454088</td>\n",
       "      <td>bank</td>\n",
       "    </tr>\n",
       "    <tr>\n",
       "      <th>4</th>\n",
       "      <td>39.984217</td>\n",
       "      <td>116.319422</td>\n",
       "      <td>2008-10-23 05:53:21</td>\n",
       "      <td>1</td>\n",
       "      <td>0</td>\n",
       "      <td>20.647966</td>\n",
       "      <td>bank</td>\n",
       "    </tr>\n",
       "  </tbody>\n",
       "</table>\n",
       "</div>"
      ],
      "text/plain": [
       "         lat         lon            datetime  id  event_id   dist_cvp  \\\n",
       "0  39.984094  116.319236 2008-10-23 05:53:05   1         0   0.000000   \n",
       "1  39.984198  116.319322 2008-10-23 05:53:06   1         0  14.015319   \n",
       "2  39.984224  116.319402 2008-10-23 05:53:11   1         0  20.082062   \n",
       "3  39.984211  116.319389 2008-10-23 05:53:16   1         0  18.454088   \n",
       "4  39.984217  116.319422 2008-10-23 05:53:21   1         0  20.647966   \n",
       "\n",
       "  event_type  \n",
       "0       bank  \n",
       "1       bank  \n",
       "2       bank  \n",
       "3       bank  \n",
       "4       bank  "
      ]
     },
     "execution_count": 201,
     "metadata": {},
     "output_type": "execute_result"
    }
   ],
   "source": [
    "move_df.head()"
   ]
  },
  {
   "cell_type": "markdown",
   "metadata": {},
   "source": [
    "## Integração com Ponto de Interesse HOME"
   ]
  },
  {
   "cell_type": "markdown",
   "metadata": {},
   "source": [
    "Precisa de mais de um ponto de interesse do tipo home. E o tipo Home precisa informar, além da latitude, longitude e id, o endereço('formatted_address') e a cidade('city')"
   ]
  },
  {
   "cell_type": "markdown",
   "metadata": {},
   "source": [
    "### Criando ponto Home"
   ]
  },
  {
   "cell_type": "code",
   "execution_count": 202,
   "metadata": {},
   "outputs": [],
   "source": [
    "home_df = df.iloc[300:302].copy()\n",
    "home_df['formatted_address'] = ['Rua1, n02', 'Rua2, n03']\n",
    "home_df['city'] = ['ChinaTown', 'ChinaTown']\n"
   ]
  },
  {
   "cell_type": "markdown",
   "metadata": {},
   "source": [
    "### Usando Função"
   ]
  },
  {
   "cell_type": "code",
   "execution_count": 203,
   "metadata": {},
   "outputs": [
    {
     "name": "stdout",
     "output_type": "stream",
     "text": [
      "Integration with Home...\n",
      "...setting id as index\n",
      "... Reseting index\n"
     ]
    }
   ],
   "source": [
    "move_df = df.iloc[0:2000].copy()\n",
    "it.join_with_HOME_by_id(move_df, home_df, label_id='id')"
   ]
  },
  {
   "cell_type": "code",
   "execution_count": 204,
   "metadata": {},
   "outputs": [
    {
     "data": {
      "text/html": [
       "<div>\n",
       "<style scoped>\n",
       "    .dataframe tbody tr th:only-of-type {\n",
       "        vertical-align: middle;\n",
       "    }\n",
       "\n",
       "    .dataframe tbody tr th {\n",
       "        vertical-align: top;\n",
       "    }\n",
       "\n",
       "    .dataframe thead th {\n",
       "        text-align: right;\n",
       "    }\n",
       "</style>\n",
       "<table border=\"1\" class=\"dataframe\">\n",
       "  <thead>\n",
       "    <tr style=\"text-align: right;\">\n",
       "      <th></th>\n",
       "      <th>id</th>\n",
       "      <th>lat</th>\n",
       "      <th>lon</th>\n",
       "      <th>datetime</th>\n",
       "      <th>dist_home</th>\n",
       "      <th>Home</th>\n",
       "      <th>city</th>\n",
       "    </tr>\n",
       "  </thead>\n",
       "  <tbody>\n",
       "    <tr>\n",
       "      <th>0</th>\n",
       "      <td>1</td>\n",
       "      <td>39.984094</td>\n",
       "      <td>116.319236</td>\n",
       "      <td>2008-10-23 05:53:05</td>\n",
       "      <td>1031.244670</td>\n",
       "      <td>Rua1, n02</td>\n",
       "      <td>ChinaTown</td>\n",
       "    </tr>\n",
       "    <tr>\n",
       "      <th>1</th>\n",
       "      <td>1</td>\n",
       "      <td>39.984198</td>\n",
       "      <td>116.319322</td>\n",
       "      <td>2008-10-23 05:53:06</td>\n",
       "      <td>1017.586432</td>\n",
       "      <td>Rua1, n02</td>\n",
       "      <td>ChinaTown</td>\n",
       "    </tr>\n",
       "    <tr>\n",
       "      <th>2</th>\n",
       "      <td>1</td>\n",
       "      <td>39.984224</td>\n",
       "      <td>116.319402</td>\n",
       "      <td>2008-10-23 05:53:11</td>\n",
       "      <td>1011.228487</td>\n",
       "      <td>Rua1, n02</td>\n",
       "      <td>ChinaTown</td>\n",
       "    </tr>\n",
       "    <tr>\n",
       "      <th>3</th>\n",
       "      <td>1</td>\n",
       "      <td>39.984211</td>\n",
       "      <td>116.319389</td>\n",
       "      <td>2008-10-23 05:53:16</td>\n",
       "      <td>1013.049046</td>\n",
       "      <td>Rua1, n02</td>\n",
       "      <td>ChinaTown</td>\n",
       "    </tr>\n",
       "    <tr>\n",
       "      <th>4</th>\n",
       "      <td>1</td>\n",
       "      <td>39.984217</td>\n",
       "      <td>116.319422</td>\n",
       "      <td>2008-10-23 05:53:21</td>\n",
       "      <td>1010.855597</td>\n",
       "      <td>Rua1, n02</td>\n",
       "      <td>ChinaTown</td>\n",
       "    </tr>\n",
       "  </tbody>\n",
       "</table>\n",
       "</div>"
      ],
      "text/plain": [
       "   id        lat         lon            datetime    dist_home       Home  \\\n",
       "0   1  39.984094  116.319236 2008-10-23 05:53:05  1031.244670  Rua1, n02   \n",
       "1   1  39.984198  116.319322 2008-10-23 05:53:06  1017.586432  Rua1, n02   \n",
       "2   1  39.984224  116.319402 2008-10-23 05:53:11  1011.228487  Rua1, n02   \n",
       "3   1  39.984211  116.319389 2008-10-23 05:53:16  1013.049046  Rua1, n02   \n",
       "4   1  39.984217  116.319422 2008-10-23 05:53:21  1010.855597  Rua1, n02   \n",
       "\n",
       "        city  \n",
       "0  ChinaTown  \n",
       "1  ChinaTown  \n",
       "2  ChinaTown  \n",
       "3  ChinaTown  \n",
       "4  ChinaTown  "
      ]
     },
     "execution_count": 204,
     "metadata": {},
     "output_type": "execute_result"
    }
   ],
   "source": [
    "move_df.head()"
   ]
  },
  {
   "cell_type": "markdown",
   "metadata": {},
   "source": [
    "## Merge de HOME com DataSet já integrado com POIs"
   ]
  },
  {
   "cell_type": "markdown",
   "metadata": {},
   "source": [
    "### Integração do DataSet com POIs"
   ]
  },
  {
   "cell_type": "code",
   "execution_count": 205,
   "metadata": {},
   "outputs": [
    {
     "name": "stderr",
     "output_type": "stream",
     "text": [
      " 40%|███▉      | 793/2000 [00:00<00:00, 7929.14it/s]"
     ]
    },
    {
     "name": "stdout",
     "output_type": "stream",
     "text": [
      "Integration with POIs...\n",
      "... Reseting index to operation...\n"
     ]
    },
    {
     "name": "stderr",
     "output_type": "stream",
     "text": [
      "100%|██████████| 2000/2000 [00:00<00:00, 7904.56it/s]"
     ]
    },
    {
     "name": "stdout",
     "output_type": "stream",
     "text": [
      "Integration with POI was finalized\n",
      "\n",
      "Total Time: 0.26 seconds\n"
     ]
    },
    {
     "name": "stderr",
     "output_type": "stream",
     "text": [
      "\n"
     ]
    }
   ],
   "source": [
    "it.join_with_POIs(move_df, POIs, label_id='id', label_POI='Type')"
   ]
  },
  {
   "cell_type": "code",
   "execution_count": 206,
   "metadata": {},
   "outputs": [
    {
     "name": "stdout",
     "output_type": "stream",
     "text": [
      "merge home with POI using shortest distance\n"
     ]
    }
   ],
   "source": [
    "it.merge_HOME_with_POI(move_df)"
   ]
  },
  {
   "cell_type": "code",
   "execution_count": 207,
   "metadata": {},
   "outputs": [
    {
     "data": {
      "text/html": [
       "<div>\n",
       "<style scoped>\n",
       "    .dataframe tbody tr th:only-of-type {\n",
       "        vertical-align: middle;\n",
       "    }\n",
       "\n",
       "    .dataframe tbody tr th {\n",
       "        vertical-align: top;\n",
       "    }\n",
       "\n",
       "    .dataframe thead th {\n",
       "        text-align: right;\n",
       "    }\n",
       "</style>\n",
       "<table border=\"1\" class=\"dataframe\">\n",
       "  <thead>\n",
       "    <tr style=\"text-align: right;\">\n",
       "      <th></th>\n",
       "      <th>id</th>\n",
       "      <th>lat</th>\n",
       "      <th>lon</th>\n",
       "      <th>datetime</th>\n",
       "      <th>city</th>\n",
       "      <th>id_poi</th>\n",
       "      <th>dist_poi</th>\n",
       "      <th>type_poi</th>\n",
       "    </tr>\n",
       "  </thead>\n",
       "  <tbody>\n",
       "    <tr>\n",
       "      <th>0</th>\n",
       "      <td>1</td>\n",
       "      <td>39.984094</td>\n",
       "      <td>116.319236</td>\n",
       "      <td>2008-10-23 05:53:05</td>\n",
       "      <td>ChinaTown</td>\n",
       "      <td>0</td>\n",
       "      <td>0.000000</td>\n",
       "      <td>bank</td>\n",
       "    </tr>\n",
       "    <tr>\n",
       "      <th>1</th>\n",
       "      <td>1</td>\n",
       "      <td>39.984198</td>\n",
       "      <td>116.319322</td>\n",
       "      <td>2008-10-23 05:53:06</td>\n",
       "      <td>ChinaTown</td>\n",
       "      <td>0</td>\n",
       "      <td>14.015319</td>\n",
       "      <td>bank</td>\n",
       "    </tr>\n",
       "    <tr>\n",
       "      <th>2</th>\n",
       "      <td>1</td>\n",
       "      <td>39.984224</td>\n",
       "      <td>116.319402</td>\n",
       "      <td>2008-10-23 05:53:11</td>\n",
       "      <td>ChinaTown</td>\n",
       "      <td>0</td>\n",
       "      <td>20.082062</td>\n",
       "      <td>bank</td>\n",
       "    </tr>\n",
       "    <tr>\n",
       "      <th>3</th>\n",
       "      <td>1</td>\n",
       "      <td>39.984211</td>\n",
       "      <td>116.319389</td>\n",
       "      <td>2008-10-23 05:53:16</td>\n",
       "      <td>ChinaTown</td>\n",
       "      <td>0</td>\n",
       "      <td>18.454088</td>\n",
       "      <td>bank</td>\n",
       "    </tr>\n",
       "    <tr>\n",
       "      <th>4</th>\n",
       "      <td>1</td>\n",
       "      <td>39.984217</td>\n",
       "      <td>116.319422</td>\n",
       "      <td>2008-10-23 05:53:21</td>\n",
       "      <td>ChinaTown</td>\n",
       "      <td>0</td>\n",
       "      <td>20.647966</td>\n",
       "      <td>bank</td>\n",
       "    </tr>\n",
       "  </tbody>\n",
       "</table>\n",
       "</div>"
      ],
      "text/plain": [
       "   id        lat         lon            datetime       city id_poi   dist_poi  \\\n",
       "0   1  39.984094  116.319236 2008-10-23 05:53:05  ChinaTown      0   0.000000   \n",
       "1   1  39.984198  116.319322 2008-10-23 05:53:06  ChinaTown      0  14.015319   \n",
       "2   1  39.984224  116.319402 2008-10-23 05:53:11  ChinaTown      0  20.082062   \n",
       "3   1  39.984211  116.319389 2008-10-23 05:53:16  ChinaTown      0  18.454088   \n",
       "4   1  39.984217  116.319422 2008-10-23 05:53:21  ChinaTown      0  20.647966   \n",
       "\n",
       "  type_poi  \n",
       "0     bank  \n",
       "1     bank  \n",
       "2     bank  \n",
       "3     bank  \n",
       "4     bank  "
      ]
     },
     "execution_count": 207,
     "metadata": {},
     "output_type": "execute_result"
    }
   ],
   "source": [
    "move_df.head()"
   ]
  },
  {
   "cell_type": "markdown",
   "metadata": {},
   "source": [
    " \n",
    " \n",
    " "
   ]
  },
  {
   "cell_type": "markdown",
   "metadata": {},
   "source": [
    "## A seguir temos diversas funções Union"
   ]
  },
  {
   "cell_type": "markdown",
   "metadata": {},
   "source": [
    "Elas possuem a finalidade de unir divesos tipos de POI que significam a mesma coisa, ou coisas semelhantes, em um unico tipo de POI"
   ]
  },
  {
   "cell_type": "markdown",
   "metadata": {},
   "source": [
    "#### Union de Bancos"
   ]
  },
  {
   "cell_type": "markdown",
   "metadata": {},
   "source": [
    "Converte os POIs dos tipos \"bancos_filiais\", \"bancos_agencias\", \"bancos_postos\", \"bancos_PAE\" e \"bank\" para um único tipo: \"banks\""
   ]
  },
  {
   "cell_type": "code",
   "execution_count": 208,
   "metadata": {},
   "outputs": [
    {
     "data": {
      "text/html": [
       "<div>\n",
       "<style scoped>\n",
       "    .dataframe tbody tr th:only-of-type {\n",
       "        vertical-align: middle;\n",
       "    }\n",
       "\n",
       "    .dataframe tbody tr th {\n",
       "        vertical-align: top;\n",
       "    }\n",
       "\n",
       "    .dataframe thead th {\n",
       "        text-align: right;\n",
       "    }\n",
       "</style>\n",
       "<table border=\"1\" class=\"dataframe\">\n",
       "  <thead>\n",
       "    <tr style=\"text-align: right;\">\n",
       "      <th></th>\n",
       "      <th>lat</th>\n",
       "      <th>lon</th>\n",
       "      <th>datetime</th>\n",
       "      <th>id</th>\n",
       "      <th>type_poi</th>\n",
       "    </tr>\n",
       "  </thead>\n",
       "  <tbody>\n",
       "    <tr>\n",
       "      <th>0</th>\n",
       "      <td>39.984094</td>\n",
       "      <td>116.319236</td>\n",
       "      <td>2008-10-23 05:53:05</td>\n",
       "      <td>0</td>\n",
       "      <td>bancos_filiais</td>\n",
       "    </tr>\n",
       "    <tr>\n",
       "      <th>400</th>\n",
       "      <td>39.999815</td>\n",
       "      <td>116.324254</td>\n",
       "      <td>2008-10-23 10:47:45</td>\n",
       "      <td>1</td>\n",
       "      <td>bancos_agencias</td>\n",
       "    </tr>\n",
       "    <tr>\n",
       "      <th>800</th>\n",
       "      <td>40.013857</td>\n",
       "      <td>116.306533</td>\n",
       "      <td>2008-10-23 11:51:23</td>\n",
       "      <td>2</td>\n",
       "      <td>bancos_postos</td>\n",
       "    </tr>\n",
       "    <tr>\n",
       "      <th>1200</th>\n",
       "      <td>40.004635</td>\n",
       "      <td>116.321358</td>\n",
       "      <td>2008-10-23 23:55:15</td>\n",
       "      <td>3</td>\n",
       "      <td>bancos_PAE</td>\n",
       "    </tr>\n",
       "    <tr>\n",
       "      <th>1600</th>\n",
       "      <td>39.979649</td>\n",
       "      <td>116.327110</td>\n",
       "      <td>2008-10-24 01:47:22</td>\n",
       "      <td>4</td>\n",
       "      <td>bank</td>\n",
       "    </tr>\n",
       "  </tbody>\n",
       "</table>\n",
       "</div>"
      ],
      "text/plain": [
       "            lat         lon            datetime  id         type_poi\n",
       "0     39.984094  116.319236 2008-10-23 05:53:05   0   bancos_filiais\n",
       "400   39.999815  116.324254 2008-10-23 10:47:45   1  bancos_agencias\n",
       "800   40.013857  116.306533 2008-10-23 11:51:23   2    bancos_postos\n",
       "1200  40.004635  116.321358 2008-10-23 23:55:15   3       bancos_PAE\n",
       "1600  39.979649  116.327110 2008-10-24 01:47:22   4             bank"
      ]
     },
     "execution_count": 208,
     "metadata": {},
     "output_type": "execute_result"
    }
   ],
   "source": [
    "move_df = df[0:2000].copy()\n",
    "\n",
    "#Criamos POIs com diversos type_poi que descrevem diversos tipos de bancos para testar\n",
    "indexes_bp = np.linspace(0, move_df.shape[0], 6)\n",
    "banks_pois = move_df[move_df.index.isin(indexes_bp)].copy()\n",
    "banks_pois['id'] = [0,1,2,3,4]\n",
    "banks_pois['type_poi'] = ['bancos_filiais', 'bancos_agencias', 'bancos_postos', 'bancos_PAE', 'bank']\n",
    "\n",
    "#Visualização\n",
    "banks_pois.head()"
   ]
  },
  {
   "cell_type": "code",
   "execution_count": 209,
   "metadata": {},
   "outputs": [
    {
     "name": "stderr",
     "output_type": "stream",
     "text": [
      " 38%|███▊      | 764/2000 [00:00<00:00, 7563.82it/s]"
     ]
    },
    {
     "name": "stdout",
     "output_type": "stream",
     "text": [
      "Integration with POIs...\n",
      "... Reseting index to operation...\n"
     ]
    },
    {
     "name": "stderr",
     "output_type": "stream",
     "text": [
      "100%|██████████| 2000/2000 [00:00<00:00, 7245.80it/s]"
     ]
    },
    {
     "name": "stdout",
     "output_type": "stream",
     "text": [
      "Integration with POI was finalized\n",
      "\n",
      "Total Time: 0.29 seconds\n"
     ]
    },
    {
     "name": "stderr",
     "output_type": "stream",
     "text": [
      "\n"
     ]
    }
   ],
   "source": [
    "#Join com POIs\n",
    "it.join_with_POIs(move_df, banks_pois, label_id='id', label_POI='type_poi')"
   ]
  },
  {
   "cell_type": "code",
   "execution_count": 210,
   "metadata": {},
   "outputs": [
    {
     "data": {
      "text/html": [
       "<div>\n",
       "<style scoped>\n",
       "    .dataframe tbody tr th:only-of-type {\n",
       "        vertical-align: middle;\n",
       "    }\n",
       "\n",
       "    .dataframe tbody tr th {\n",
       "        vertical-align: top;\n",
       "    }\n",
       "\n",
       "    .dataframe thead th {\n",
       "        text-align: right;\n",
       "    }\n",
       "</style>\n",
       "<table border=\"1\" class=\"dataframe\">\n",
       "  <thead>\n",
       "    <tr style=\"text-align: right;\">\n",
       "      <th></th>\n",
       "      <th>lat</th>\n",
       "      <th>lon</th>\n",
       "      <th>datetime</th>\n",
       "      <th>id</th>\n",
       "      <th>id_poi</th>\n",
       "      <th>dist_poi</th>\n",
       "      <th>type_poi</th>\n",
       "    </tr>\n",
       "  </thead>\n",
       "  <tbody>\n",
       "    <tr>\n",
       "      <th>0</th>\n",
       "      <td>39.984094</td>\n",
       "      <td>116.319236</td>\n",
       "      <td>2008-10-23 05:53:05</td>\n",
       "      <td>1</td>\n",
       "      <td>0</td>\n",
       "      <td>0.000000</td>\n",
       "      <td>bancos_filiais</td>\n",
       "    </tr>\n",
       "    <tr>\n",
       "      <th>1</th>\n",
       "      <td>39.984198</td>\n",
       "      <td>116.319322</td>\n",
       "      <td>2008-10-23 05:53:06</td>\n",
       "      <td>1</td>\n",
       "      <td>0</td>\n",
       "      <td>14.015319</td>\n",
       "      <td>bancos_filiais</td>\n",
       "    </tr>\n",
       "    <tr>\n",
       "      <th>2</th>\n",
       "      <td>39.984224</td>\n",
       "      <td>116.319402</td>\n",
       "      <td>2008-10-23 05:53:11</td>\n",
       "      <td>1</td>\n",
       "      <td>0</td>\n",
       "      <td>20.082062</td>\n",
       "      <td>bancos_filiais</td>\n",
       "    </tr>\n",
       "    <tr>\n",
       "      <th>3</th>\n",
       "      <td>39.984211</td>\n",
       "      <td>116.319389</td>\n",
       "      <td>2008-10-23 05:53:16</td>\n",
       "      <td>1</td>\n",
       "      <td>0</td>\n",
       "      <td>18.454088</td>\n",
       "      <td>bancos_filiais</td>\n",
       "    </tr>\n",
       "    <tr>\n",
       "      <th>4</th>\n",
       "      <td>39.984217</td>\n",
       "      <td>116.319422</td>\n",
       "      <td>2008-10-23 05:53:21</td>\n",
       "      <td>1</td>\n",
       "      <td>0</td>\n",
       "      <td>20.647966</td>\n",
       "      <td>bancos_filiais</td>\n",
       "    </tr>\n",
       "    <tr>\n",
       "      <th>5</th>\n",
       "      <td>39.984710</td>\n",
       "      <td>116.319865</td>\n",
       "      <td>2008-10-23 05:53:23</td>\n",
       "      <td>1</td>\n",
       "      <td>0</td>\n",
       "      <td>86.413269</td>\n",
       "      <td>bancos_filiais</td>\n",
       "    </tr>\n",
       "    <tr>\n",
       "      <th>6</th>\n",
       "      <td>39.984674</td>\n",
       "      <td>116.319810</td>\n",
       "      <td>2008-10-23 05:53:28</td>\n",
       "      <td>1</td>\n",
       "      <td>0</td>\n",
       "      <td>80.277718</td>\n",
       "      <td>bancos_filiais</td>\n",
       "    </tr>\n",
       "    <tr>\n",
       "      <th>7</th>\n",
       "      <td>39.984623</td>\n",
       "      <td>116.319773</td>\n",
       "      <td>2008-10-23 05:53:33</td>\n",
       "      <td>1</td>\n",
       "      <td>0</td>\n",
       "      <td>74.630005</td>\n",
       "      <td>bancos_filiais</td>\n",
       "    </tr>\n",
       "    <tr>\n",
       "      <th>8</th>\n",
       "      <td>39.984606</td>\n",
       "      <td>116.319732</td>\n",
       "      <td>2008-10-23 05:53:38</td>\n",
       "      <td>1</td>\n",
       "      <td>0</td>\n",
       "      <td>71.017654</td>\n",
       "      <td>bancos_filiais</td>\n",
       "    </tr>\n",
       "    <tr>\n",
       "      <th>9</th>\n",
       "      <td>39.984555</td>\n",
       "      <td>116.319728</td>\n",
       "      <td>2008-10-23 05:53:43</td>\n",
       "      <td>1</td>\n",
       "      <td>0</td>\n",
       "      <td>65.478699</td>\n",
       "      <td>bancos_filiais</td>\n",
       "    </tr>\n",
       "  </tbody>\n",
       "</table>\n",
       "</div>"
      ],
      "text/plain": [
       "         lat         lon            datetime  id id_poi   dist_poi  \\\n",
       "0  39.984094  116.319236 2008-10-23 05:53:05   1      0   0.000000   \n",
       "1  39.984198  116.319322 2008-10-23 05:53:06   1      0  14.015319   \n",
       "2  39.984224  116.319402 2008-10-23 05:53:11   1      0  20.082062   \n",
       "3  39.984211  116.319389 2008-10-23 05:53:16   1      0  18.454088   \n",
       "4  39.984217  116.319422 2008-10-23 05:53:21   1      0  20.647966   \n",
       "5  39.984710  116.319865 2008-10-23 05:53:23   1      0  86.413269   \n",
       "6  39.984674  116.319810 2008-10-23 05:53:28   1      0  80.277718   \n",
       "7  39.984623  116.319773 2008-10-23 05:53:33   1      0  74.630005   \n",
       "8  39.984606  116.319732 2008-10-23 05:53:38   1      0  71.017654   \n",
       "9  39.984555  116.319728 2008-10-23 05:53:43   1      0  65.478699   \n",
       "\n",
       "         type_poi  \n",
       "0  bancos_filiais  \n",
       "1  bancos_filiais  \n",
       "2  bancos_filiais  \n",
       "3  bancos_filiais  \n",
       "4  bancos_filiais  \n",
       "5  bancos_filiais  \n",
       "6  bancos_filiais  \n",
       "7  bancos_filiais  \n",
       "8  bancos_filiais  \n",
       "9  bancos_filiais  "
      ]
     },
     "execution_count": 210,
     "metadata": {},
     "output_type": "execute_result"
    }
   ],
   "source": [
    "#Resultado do Join\n",
    "move_df.head(10)"
   ]
  },
  {
   "cell_type": "code",
   "execution_count": 211,
   "metadata": {
    "scrolled": true
   },
   "outputs": [
    {
     "name": "stdout",
     "output_type": "stream",
     "text": [
      "Quantidades de pontos próximos de cada definição de banco\n",
      "bancos_filiais:  536\n",
      "bancos_agencias:  287\n",
      "bancos_postos:  555\n",
      "bancos_PAE:  0\n",
      "bank:  384\n"
     ]
    }
   ],
   "source": [
    "#Verificando a quantidade de cada ponto atribuido a cada tipo de poi\n",
    "bancos_filiais = move_df.loc[move_df['type_poi'] == 'bancos_filiais']\n",
    "bancos_agencias = move_df.loc[move_df['type_poi'] == 'bancos_agencias']\n",
    "bancos_postos = move_df.loc[move_df['type_poi'] == 'bancos_postos']\n",
    "bancos_PAE = move_df.loc[move_df['type_poi'] == 'bancos_PA']\n",
    "bank = move_df.loc[move_df['type_poi'] == 'bank']\n",
    "\n",
    "print(\"Quantidades de pontos próximos de cada definição de banco\")\n",
    "print(\"bancos_filiais: \", bancos_filiais.shape[0])\n",
    "print(\"bancos_agencias: \", bancos_agencias.shape[0])\n",
    "print(\"bancos_postos: \", bancos_postos.shape[0])\n",
    "print(\"bancos_PAE: \", bancos_PAE.shape[0])\n",
    "print(\"bank: \", bank.shape[0])"
   ]
  },
  {
   "cell_type": "code",
   "execution_count": 212,
   "metadata": {},
   "outputs": [
    {
     "name": "stdout",
     "output_type": "stream",
     "text": [
      "union bank categories to one category\n",
      "... There are 5 -- type_poi\n"
     ]
    },
    {
     "data": {
      "text/html": [
       "<div>\n",
       "<style scoped>\n",
       "    .dataframe tbody tr th:only-of-type {\n",
       "        vertical-align: middle;\n",
       "    }\n",
       "\n",
       "    .dataframe tbody tr th {\n",
       "        vertical-align: top;\n",
       "    }\n",
       "\n",
       "    .dataframe thead th {\n",
       "        text-align: right;\n",
       "    }\n",
       "</style>\n",
       "<table border=\"1\" class=\"dataframe\">\n",
       "  <thead>\n",
       "    <tr style=\"text-align: right;\">\n",
       "      <th></th>\n",
       "      <th>lat</th>\n",
       "      <th>lon</th>\n",
       "      <th>datetime</th>\n",
       "      <th>id</th>\n",
       "      <th>id_poi</th>\n",
       "      <th>dist_poi</th>\n",
       "      <th>type_poi</th>\n",
       "    </tr>\n",
       "  </thead>\n",
       "  <tbody>\n",
       "    <tr>\n",
       "      <th>0</th>\n",
       "      <td>39.984094</td>\n",
       "      <td>116.319236</td>\n",
       "      <td>2008-10-23 05:53:05</td>\n",
       "      <td>1</td>\n",
       "      <td>0</td>\n",
       "      <td>0.000000</td>\n",
       "      <td>banks</td>\n",
       "    </tr>\n",
       "    <tr>\n",
       "      <th>1</th>\n",
       "      <td>39.984198</td>\n",
       "      <td>116.319322</td>\n",
       "      <td>2008-10-23 05:53:06</td>\n",
       "      <td>1</td>\n",
       "      <td>0</td>\n",
       "      <td>14.015319</td>\n",
       "      <td>banks</td>\n",
       "    </tr>\n",
       "    <tr>\n",
       "      <th>2</th>\n",
       "      <td>39.984224</td>\n",
       "      <td>116.319402</td>\n",
       "      <td>2008-10-23 05:53:11</td>\n",
       "      <td>1</td>\n",
       "      <td>0</td>\n",
       "      <td>20.082062</td>\n",
       "      <td>banks</td>\n",
       "    </tr>\n",
       "    <tr>\n",
       "      <th>3</th>\n",
       "      <td>39.984211</td>\n",
       "      <td>116.319389</td>\n",
       "      <td>2008-10-23 05:53:16</td>\n",
       "      <td>1</td>\n",
       "      <td>0</td>\n",
       "      <td>18.454088</td>\n",
       "      <td>banks</td>\n",
       "    </tr>\n",
       "    <tr>\n",
       "      <th>4</th>\n",
       "      <td>39.984217</td>\n",
       "      <td>116.319422</td>\n",
       "      <td>2008-10-23 05:53:21</td>\n",
       "      <td>1</td>\n",
       "      <td>0</td>\n",
       "      <td>20.647966</td>\n",
       "      <td>banks</td>\n",
       "    </tr>\n",
       "  </tbody>\n",
       "</table>\n",
       "</div>"
      ],
      "text/plain": [
       "         lat         lon            datetime  id id_poi   dist_poi type_poi\n",
       "0  39.984094  116.319236 2008-10-23 05:53:05   1      0   0.000000    banks\n",
       "1  39.984198  116.319322 2008-10-23 05:53:06   1      0  14.015319    banks\n",
       "2  39.984224  116.319402 2008-10-23 05:53:11   1      0  20.082062    banks\n",
       "3  39.984211  116.319389 2008-10-23 05:53:16   1      0  18.454088    banks\n",
       "4  39.984217  116.319422 2008-10-23 05:53:21   1      0  20.647966    banks"
      ]
     },
     "execution_count": 212,
     "metadata": {},
     "output_type": "execute_result"
    }
   ],
   "source": [
    "#Finalmente, o Union\n",
    "it.union_poi_bank(move_df)\n",
    "\n",
    "#Visualização\n",
    "move_df.head()"
   ]
  },
  {
   "cell_type": "code",
   "execution_count": 213,
   "metadata": {},
   "outputs": [
    {
     "data": {
      "text/plain": [
       "2000"
      ]
     },
     "execution_count": 213,
     "metadata": {},
     "output_type": "execute_result"
    }
   ],
   "source": [
    "#Verificando\n",
    "move_df.loc[move_df['type_poi'] == 'banks'].shape[0]"
   ]
  },
  {
   "cell_type": "markdown",
   "metadata": {},
   "source": [
    "#### TODO Union das Estações de Ônibus"
   ]
  },
  {
   "cell_type": "markdown",
   "metadata": {},
   "source": [
    "Converte os POIs do tipo \"transit_station\" e \"pontos_de_onibus\" para um único tipo: \"bus_station\""
   ]
  },
  {
   "cell_type": "code",
   "execution_count": 214,
   "metadata": {},
   "outputs": [
    {
     "data": {
      "text/html": [
       "<div>\n",
       "<style scoped>\n",
       "    .dataframe tbody tr th:only-of-type {\n",
       "        vertical-align: middle;\n",
       "    }\n",
       "\n",
       "    .dataframe tbody tr th {\n",
       "        vertical-align: top;\n",
       "    }\n",
       "\n",
       "    .dataframe thead th {\n",
       "        text-align: right;\n",
       "    }\n",
       "</style>\n",
       "<table border=\"1\" class=\"dataframe\">\n",
       "  <thead>\n",
       "    <tr style=\"text-align: right;\">\n",
       "      <th></th>\n",
       "      <th>lat</th>\n",
       "      <th>lon</th>\n",
       "      <th>datetime</th>\n",
       "      <th>id</th>\n",
       "      <th>type_poi</th>\n",
       "    </tr>\n",
       "  </thead>\n",
       "  <tbody>\n",
       "    <tr>\n",
       "      <th>0</th>\n",
       "      <td>39.984094</td>\n",
       "      <td>116.319236</td>\n",
       "      <td>2008-10-23 05:53:05</td>\n",
       "      <td>0</td>\n",
       "      <td>transit_station</td>\n",
       "    </tr>\n",
       "    <tr>\n",
       "      <th>400</th>\n",
       "      <td>39.999815</td>\n",
       "      <td>116.324254</td>\n",
       "      <td>2008-10-23 10:47:45</td>\n",
       "      <td>1</td>\n",
       "      <td>transit_station</td>\n",
       "    </tr>\n",
       "    <tr>\n",
       "      <th>800</th>\n",
       "      <td>40.013857</td>\n",
       "      <td>116.306533</td>\n",
       "      <td>2008-10-23 11:51:23</td>\n",
       "      <td>2</td>\n",
       "      <td>pontos_de_onibus</td>\n",
       "    </tr>\n",
       "    <tr>\n",
       "      <th>1200</th>\n",
       "      <td>40.004635</td>\n",
       "      <td>116.321358</td>\n",
       "      <td>2008-10-23 23:55:15</td>\n",
       "      <td>3</td>\n",
       "      <td>transit_station</td>\n",
       "    </tr>\n",
       "    <tr>\n",
       "      <th>1600</th>\n",
       "      <td>39.979649</td>\n",
       "      <td>116.327110</td>\n",
       "      <td>2008-10-24 01:47:22</td>\n",
       "      <td>4</td>\n",
       "      <td>pontos_de_onibus</td>\n",
       "    </tr>\n",
       "  </tbody>\n",
       "</table>\n",
       "</div>"
      ],
      "text/plain": [
       "            lat         lon            datetime  id          type_poi\n",
       "0     39.984094  116.319236 2008-10-23 05:53:05   0   transit_station\n",
       "400   39.999815  116.324254 2008-10-23 10:47:45   1   transit_station\n",
       "800   40.013857  116.306533 2008-10-23 11:51:23   2  pontos_de_onibus\n",
       "1200  40.004635  116.321358 2008-10-23 23:55:15   3   transit_station\n",
       "1600  39.979649  116.327110 2008-10-24 01:47:22   4  pontos_de_onibus"
      ]
     },
     "execution_count": 214,
     "metadata": {},
     "output_type": "execute_result"
    }
   ],
   "source": [
    "move_df = df[0:2000].copy()\n",
    "\n",
    "#Criamos POIs com diversos type_poi que descrevem diversos tipos de pontos de onibus para testar\n",
    "indexes_bp = np.linspace(0, move_df.shape[0], 6)\n",
    "bus_pois = move_df[move_df.index.isin(indexes_bp)].copy()\n",
    "bus_pois['id'] = [0,1,2,3,4]\n",
    "bus_pois['type_poi'] = ['transit_station', 'transit_station', 'pontos_de_onibus', 'transit_station', 'pontos_de_onibus']\n",
    "\n",
    "#Visualização\n",
    "bus_pois.head()"
   ]
  },
  {
   "cell_type": "code",
   "execution_count": 215,
   "metadata": {},
   "outputs": [
    {
     "name": "stderr",
     "output_type": "stream",
     "text": [
      " 33%|███▎      | 668/2000 [00:00<00:00, 6679.59it/s]"
     ]
    },
    {
     "name": "stdout",
     "output_type": "stream",
     "text": [
      "Integration with POIs...\n",
      "... Reseting index to operation...\n"
     ]
    },
    {
     "name": "stderr",
     "output_type": "stream",
     "text": [
      "100%|██████████| 2000/2000 [00:00<00:00, 7751.35it/s]"
     ]
    },
    {
     "name": "stdout",
     "output_type": "stream",
     "text": [
      "Integration with POI was finalized\n",
      "\n",
      "Total Time: 0.27 seconds\n"
     ]
    },
    {
     "name": "stderr",
     "output_type": "stream",
     "text": [
      "\n"
     ]
    }
   ],
   "source": [
    "#Integração dos POIs com o dataset\n",
    "it.join_with_POIs(move_df, bus_pois, label_id='id', label_POI='type_poi')"
   ]
  },
  {
   "cell_type": "code",
   "execution_count": 216,
   "metadata": {},
   "outputs": [
    {
     "data": {
      "text/html": [
       "<div>\n",
       "<style scoped>\n",
       "    .dataframe tbody tr th:only-of-type {\n",
       "        vertical-align: middle;\n",
       "    }\n",
       "\n",
       "    .dataframe tbody tr th {\n",
       "        vertical-align: top;\n",
       "    }\n",
       "\n",
       "    .dataframe thead th {\n",
       "        text-align: right;\n",
       "    }\n",
       "</style>\n",
       "<table border=\"1\" class=\"dataframe\">\n",
       "  <thead>\n",
       "    <tr style=\"text-align: right;\">\n",
       "      <th></th>\n",
       "      <th>lat</th>\n",
       "      <th>lon</th>\n",
       "      <th>datetime</th>\n",
       "      <th>id</th>\n",
       "      <th>id_poi</th>\n",
       "      <th>dist_poi</th>\n",
       "      <th>type_poi</th>\n",
       "    </tr>\n",
       "  </thead>\n",
       "  <tbody>\n",
       "    <tr>\n",
       "      <th>0</th>\n",
       "      <td>39.984094</td>\n",
       "      <td>116.319236</td>\n",
       "      <td>2008-10-23 05:53:05</td>\n",
       "      <td>1</td>\n",
       "      <td>0</td>\n",
       "      <td>0.000000</td>\n",
       "      <td>transit_station</td>\n",
       "    </tr>\n",
       "    <tr>\n",
       "      <th>1</th>\n",
       "      <td>39.984198</td>\n",
       "      <td>116.319322</td>\n",
       "      <td>2008-10-23 05:53:06</td>\n",
       "      <td>1</td>\n",
       "      <td>0</td>\n",
       "      <td>14.015319</td>\n",
       "      <td>transit_station</td>\n",
       "    </tr>\n",
       "    <tr>\n",
       "      <th>2</th>\n",
       "      <td>39.984224</td>\n",
       "      <td>116.319402</td>\n",
       "      <td>2008-10-23 05:53:11</td>\n",
       "      <td>1</td>\n",
       "      <td>0</td>\n",
       "      <td>20.082062</td>\n",
       "      <td>transit_station</td>\n",
       "    </tr>\n",
       "    <tr>\n",
       "      <th>3</th>\n",
       "      <td>39.984211</td>\n",
       "      <td>116.319389</td>\n",
       "      <td>2008-10-23 05:53:16</td>\n",
       "      <td>1</td>\n",
       "      <td>0</td>\n",
       "      <td>18.454088</td>\n",
       "      <td>transit_station</td>\n",
       "    </tr>\n",
       "    <tr>\n",
       "      <th>4</th>\n",
       "      <td>39.984217</td>\n",
       "      <td>116.319422</td>\n",
       "      <td>2008-10-23 05:53:21</td>\n",
       "      <td>1</td>\n",
       "      <td>0</td>\n",
       "      <td>20.647966</td>\n",
       "      <td>transit_station</td>\n",
       "    </tr>\n",
       "  </tbody>\n",
       "</table>\n",
       "</div>"
      ],
      "text/plain": [
       "         lat         lon            datetime  id id_poi   dist_poi  \\\n",
       "0  39.984094  116.319236 2008-10-23 05:53:05   1      0   0.000000   \n",
       "1  39.984198  116.319322 2008-10-23 05:53:06   1      0  14.015319   \n",
       "2  39.984224  116.319402 2008-10-23 05:53:11   1      0  20.082062   \n",
       "3  39.984211  116.319389 2008-10-23 05:53:16   1      0  18.454088   \n",
       "4  39.984217  116.319422 2008-10-23 05:53:21   1      0  20.647966   \n",
       "\n",
       "          type_poi  \n",
       "0  transit_station  \n",
       "1  transit_station  \n",
       "2  transit_station  \n",
       "3  transit_station  \n",
       "4  transit_station  "
      ]
     },
     "execution_count": 216,
     "metadata": {},
     "output_type": "execute_result"
    }
   ],
   "source": [
    "#Visualização\n",
    "move_df.head()"
   ]
  },
  {
   "cell_type": "code",
   "execution_count": 217,
   "metadata": {},
   "outputs": [
    {
     "name": "stdout",
     "output_type": "stream",
     "text": [
      "Quantidade de pontos proximos a transit_station's:  1061\n",
      "Quantidade de pontos proximos a pontos_de_onibus's:  939\n"
     ]
    }
   ],
   "source": [
    "transit_station = move_df.loc[move_df['type_poi'] == 'transit_station']\n",
    "pontos_de_onibus = move_df.loc[move_df['type_poi'] == 'pontos_de_onibus']\n",
    "\n",
    "print(\"Quantidade de pontos proximos a transit_station's: \", transit_station.shape[0])\n",
    "print(\"Quantidade de pontos proximos a pontos_de_onibus's: \", pontos_de_onibus.shape[0])"
   ]
  },
  {
   "cell_type": "code",
   "execution_count": 218,
   "metadata": {},
   "outputs": [
    {
     "name": "stdout",
     "output_type": "stream",
     "text": [
      "union bus station categories to one category\n"
     ]
    },
    {
     "data": {
      "text/html": [
       "<div>\n",
       "<style scoped>\n",
       "    .dataframe tbody tr th:only-of-type {\n",
       "        vertical-align: middle;\n",
       "    }\n",
       "\n",
       "    .dataframe tbody tr th {\n",
       "        vertical-align: top;\n",
       "    }\n",
       "\n",
       "    .dataframe thead th {\n",
       "        text-align: right;\n",
       "    }\n",
       "</style>\n",
       "<table border=\"1\" class=\"dataframe\">\n",
       "  <thead>\n",
       "    <tr style=\"text-align: right;\">\n",
       "      <th></th>\n",
       "      <th>lat</th>\n",
       "      <th>lon</th>\n",
       "      <th>datetime</th>\n",
       "      <th>id</th>\n",
       "      <th>id_poi</th>\n",
       "      <th>dist_poi</th>\n",
       "      <th>type_poi</th>\n",
       "    </tr>\n",
       "  </thead>\n",
       "  <tbody>\n",
       "    <tr>\n",
       "      <th>0</th>\n",
       "      <td>39.984094</td>\n",
       "      <td>116.319236</td>\n",
       "      <td>2008-10-23 05:53:05</td>\n",
       "      <td>1</td>\n",
       "      <td>0</td>\n",
       "      <td>0.000000</td>\n",
       "      <td>bus_station</td>\n",
       "    </tr>\n",
       "    <tr>\n",
       "      <th>1</th>\n",
       "      <td>39.984198</td>\n",
       "      <td>116.319322</td>\n",
       "      <td>2008-10-23 05:53:06</td>\n",
       "      <td>1</td>\n",
       "      <td>0</td>\n",
       "      <td>14.015319</td>\n",
       "      <td>bus_station</td>\n",
       "    </tr>\n",
       "    <tr>\n",
       "      <th>2</th>\n",
       "      <td>39.984224</td>\n",
       "      <td>116.319402</td>\n",
       "      <td>2008-10-23 05:53:11</td>\n",
       "      <td>1</td>\n",
       "      <td>0</td>\n",
       "      <td>20.082062</td>\n",
       "      <td>bus_station</td>\n",
       "    </tr>\n",
       "    <tr>\n",
       "      <th>3</th>\n",
       "      <td>39.984211</td>\n",
       "      <td>116.319389</td>\n",
       "      <td>2008-10-23 05:53:16</td>\n",
       "      <td>1</td>\n",
       "      <td>0</td>\n",
       "      <td>18.454088</td>\n",
       "      <td>bus_station</td>\n",
       "    </tr>\n",
       "    <tr>\n",
       "      <th>4</th>\n",
       "      <td>39.984217</td>\n",
       "      <td>116.319422</td>\n",
       "      <td>2008-10-23 05:53:21</td>\n",
       "      <td>1</td>\n",
       "      <td>0</td>\n",
       "      <td>20.647966</td>\n",
       "      <td>bus_station</td>\n",
       "    </tr>\n",
       "  </tbody>\n",
       "</table>\n",
       "</div>"
      ],
      "text/plain": [
       "         lat         lon            datetime  id id_poi   dist_poi  \\\n",
       "0  39.984094  116.319236 2008-10-23 05:53:05   1      0   0.000000   \n",
       "1  39.984198  116.319322 2008-10-23 05:53:06   1      0  14.015319   \n",
       "2  39.984224  116.319402 2008-10-23 05:53:11   1      0  20.082062   \n",
       "3  39.984211  116.319389 2008-10-23 05:53:16   1      0  18.454088   \n",
       "4  39.984217  116.319422 2008-10-23 05:53:21   1      0  20.647966   \n",
       "\n",
       "      type_poi  \n",
       "0  bus_station  \n",
       "1  bus_station  \n",
       "2  bus_station  \n",
       "3  bus_station  \n",
       "4  bus_station  "
      ]
     },
     "execution_count": 218,
     "metadata": {},
     "output_type": "execute_result"
    }
   ],
   "source": [
    "#Finalmente, o Union\n",
    "it.union_poi_bus_station(move_df)\n",
    "\n",
    "move_df.head()"
   ]
  },
  {
   "cell_type": "code",
   "execution_count": 219,
   "metadata": {},
   "outputs": [
    {
     "data": {
      "text/plain": [
       "2000"
      ]
     },
     "execution_count": 219,
     "metadata": {},
     "output_type": "execute_result"
    }
   ],
   "source": [
    "#Verificando\n",
    "\n",
    "move_df.loc[move_df['type_poi'] == 'bus_station'].shape[0]"
   ]
  },
  {
   "cell_type": "markdown",
   "metadata": {},
   "source": [
    "#### Union de Bares e Restaurantes"
   ]
  },
  {
   "cell_type": "markdown",
   "metadata": {},
   "source": [
    "Converte os POIs do tipo \"bar\" e \"restaurant\" para um único tipo: \"bar-restaurant\""
   ]
  },
  {
   "cell_type": "code",
   "execution_count": 220,
   "metadata": {},
   "outputs": [
    {
     "data": {
      "text/html": [
       "<div>\n",
       "<style scoped>\n",
       "    .dataframe tbody tr th:only-of-type {\n",
       "        vertical-align: middle;\n",
       "    }\n",
       "\n",
       "    .dataframe tbody tr th {\n",
       "        vertical-align: top;\n",
       "    }\n",
       "\n",
       "    .dataframe thead th {\n",
       "        text-align: right;\n",
       "    }\n",
       "</style>\n",
       "<table border=\"1\" class=\"dataframe\">\n",
       "  <thead>\n",
       "    <tr style=\"text-align: right;\">\n",
       "      <th></th>\n",
       "      <th>lat</th>\n",
       "      <th>lon</th>\n",
       "      <th>datetime</th>\n",
       "      <th>id</th>\n",
       "      <th>type_poi</th>\n",
       "    </tr>\n",
       "  </thead>\n",
       "  <tbody>\n",
       "    <tr>\n",
       "      <th>0</th>\n",
       "      <td>39.984094</td>\n",
       "      <td>116.319236</td>\n",
       "      <td>2008-10-23 05:53:05</td>\n",
       "      <td>1</td>\n",
       "      <td>bar</td>\n",
       "    </tr>\n",
       "    <tr>\n",
       "      <th>500</th>\n",
       "      <td>40.006436</td>\n",
       "      <td>116.317701</td>\n",
       "      <td>2008-10-23 10:53:31</td>\n",
       "      <td>1</td>\n",
       "      <td>restaurant</td>\n",
       "    </tr>\n",
       "    <tr>\n",
       "      <th>1000</th>\n",
       "      <td>40.014125</td>\n",
       "      <td>116.306159</td>\n",
       "      <td>2008-10-23 23:43:56</td>\n",
       "      <td>1</td>\n",
       "      <td>restaurant</td>\n",
       "    </tr>\n",
       "    <tr>\n",
       "      <th>1500</th>\n",
       "      <td>39.979009</td>\n",
       "      <td>116.326873</td>\n",
       "      <td>2008-10-24 00:11:29</td>\n",
       "      <td>1</td>\n",
       "      <td>bar</td>\n",
       "    </tr>\n",
       "  </tbody>\n",
       "</table>\n",
       "</div>"
      ],
      "text/plain": [
       "            lat         lon            datetime  id    type_poi\n",
       "0     39.984094  116.319236 2008-10-23 05:53:05   1         bar\n",
       "500   40.006436  116.317701 2008-10-23 10:53:31   1  restaurant\n",
       "1000  40.014125  116.306159 2008-10-23 23:43:56   1  restaurant\n",
       "1500  39.979009  116.326873 2008-10-24 00:11:29   1         bar"
      ]
     },
     "execution_count": 220,
     "metadata": {},
     "output_type": "execute_result"
    }
   ],
   "source": [
    "move_df = df[0:2000].copy()\n",
    "\n",
    "#Criamos POIs com os dois tipos\n",
    "indexes_br = np.linspace(0, move_df.shape[0], 5)\n",
    "br_POIs = move_df[move_df.index.isin(indexes_br)].copy()\n",
    "br_POIs['type_poi'] = ['bar','restaurant','restaurant', 'bar']\n",
    "\n",
    "#Visualização\n",
    "br_POIs.head()"
   ]
  },
  {
   "cell_type": "code",
   "execution_count": 221,
   "metadata": {},
   "outputs": [
    {
     "name": "stderr",
     "output_type": "stream",
     "text": [
      " 36%|███▌      | 721/2000 [00:00<00:00, 7209.73it/s]"
     ]
    },
    {
     "name": "stdout",
     "output_type": "stream",
     "text": [
      "Integration with POIs...\n",
      "... Reseting index to operation...\n"
     ]
    },
    {
     "name": "stderr",
     "output_type": "stream",
     "text": [
      "100%|██████████| 2000/2000 [00:00<00:00, 8031.63it/s]"
     ]
    },
    {
     "name": "stdout",
     "output_type": "stream",
     "text": [
      "Integration with POI was finalized\n",
      "\n",
      "Total Time: 0.26 seconds\n"
     ]
    },
    {
     "name": "stderr",
     "output_type": "stream",
     "text": [
      "\n"
     ]
    }
   ],
   "source": [
    "#Integração dos POIs com o dataframe\n",
    "it.join_with_POIs(move_df, br_POIs, label_id='id', label_POI='type_poi')"
   ]
  },
  {
   "cell_type": "code",
   "execution_count": 222,
   "metadata": {},
   "outputs": [
    {
     "data": {
      "text/html": [
       "<div>\n",
       "<style scoped>\n",
       "    .dataframe tbody tr th:only-of-type {\n",
       "        vertical-align: middle;\n",
       "    }\n",
       "\n",
       "    .dataframe tbody tr th {\n",
       "        vertical-align: top;\n",
       "    }\n",
       "\n",
       "    .dataframe thead th {\n",
       "        text-align: right;\n",
       "    }\n",
       "</style>\n",
       "<table border=\"1\" class=\"dataframe\">\n",
       "  <thead>\n",
       "    <tr style=\"text-align: right;\">\n",
       "      <th></th>\n",
       "      <th>lat</th>\n",
       "      <th>lon</th>\n",
       "      <th>datetime</th>\n",
       "      <th>id</th>\n",
       "      <th>id_poi</th>\n",
       "      <th>dist_poi</th>\n",
       "      <th>type_poi</th>\n",
       "    </tr>\n",
       "  </thead>\n",
       "  <tbody>\n",
       "    <tr>\n",
       "      <th>0</th>\n",
       "      <td>39.984094</td>\n",
       "      <td>116.319236</td>\n",
       "      <td>2008-10-23 05:53:05</td>\n",
       "      <td>1</td>\n",
       "      <td>1</td>\n",
       "      <td>0.000000</td>\n",
       "      <td>bar</td>\n",
       "    </tr>\n",
       "    <tr>\n",
       "      <th>1</th>\n",
       "      <td>39.984198</td>\n",
       "      <td>116.319322</td>\n",
       "      <td>2008-10-23 05:53:06</td>\n",
       "      <td>1</td>\n",
       "      <td>1</td>\n",
       "      <td>14.015319</td>\n",
       "      <td>bar</td>\n",
       "    </tr>\n",
       "    <tr>\n",
       "      <th>2</th>\n",
       "      <td>39.984224</td>\n",
       "      <td>116.319402</td>\n",
       "      <td>2008-10-23 05:53:11</td>\n",
       "      <td>1</td>\n",
       "      <td>1</td>\n",
       "      <td>20.082062</td>\n",
       "      <td>bar</td>\n",
       "    </tr>\n",
       "    <tr>\n",
       "      <th>3</th>\n",
       "      <td>39.984211</td>\n",
       "      <td>116.319389</td>\n",
       "      <td>2008-10-23 05:53:16</td>\n",
       "      <td>1</td>\n",
       "      <td>1</td>\n",
       "      <td>18.454088</td>\n",
       "      <td>bar</td>\n",
       "    </tr>\n",
       "    <tr>\n",
       "      <th>4</th>\n",
       "      <td>39.984217</td>\n",
       "      <td>116.319422</td>\n",
       "      <td>2008-10-23 05:53:21</td>\n",
       "      <td>1</td>\n",
       "      <td>1</td>\n",
       "      <td>20.647966</td>\n",
       "      <td>bar</td>\n",
       "    </tr>\n",
       "  </tbody>\n",
       "</table>\n",
       "</div>"
      ],
      "text/plain": [
       "         lat         lon            datetime  id id_poi   dist_poi type_poi\n",
       "0  39.984094  116.319236 2008-10-23 05:53:05   1      1   0.000000      bar\n",
       "1  39.984198  116.319322 2008-10-23 05:53:06   1      1  14.015319      bar\n",
       "2  39.984224  116.319402 2008-10-23 05:53:11   1      1  20.082062      bar\n",
       "3  39.984211  116.319389 2008-10-23 05:53:16   1      1  18.454088      bar\n",
       "4  39.984217  116.319422 2008-10-23 05:53:21   1      1  20.647966      bar"
      ]
     },
     "execution_count": 222,
     "metadata": {},
     "output_type": "execute_result"
    }
   ],
   "source": [
    "#Visualização\n",
    "move_df.head()"
   ]
  },
  {
   "cell_type": "code",
   "execution_count": 223,
   "metadata": {},
   "outputs": [
    {
     "name": "stdout",
     "output_type": "stream",
     "text": [
      "Pontos mais próximos do tipo 'bar':  1033\n",
      "Pontos mais próximos do tipo 'restaurant':  967\n"
     ]
    }
   ],
   "source": [
    "#Quantidade de pontos próximos de cada tipo\n",
    "bar = move_df.loc[move_df['type_poi'] == 'bar']\n",
    "restaurant = move_df.loc[move_df['type_poi'] == 'restaurant']\n",
    "\n",
    "print(\"Pontos mais próximos do tipo 'bar': \", bar.shape[0])\n",
    "print(\"Pontos mais próximos do tipo 'restaurant': \", restaurant.shape[0])"
   ]
  },
  {
   "cell_type": "code",
   "execution_count": 224,
   "metadata": {},
   "outputs": [
    {
     "name": "stdout",
     "output_type": "stream",
     "text": [
      "union restaurant and bar categories to one category\n"
     ]
    },
    {
     "data": {
      "text/html": [
       "<div>\n",
       "<style scoped>\n",
       "    .dataframe tbody tr th:only-of-type {\n",
       "        vertical-align: middle;\n",
       "    }\n",
       "\n",
       "    .dataframe tbody tr th {\n",
       "        vertical-align: top;\n",
       "    }\n",
       "\n",
       "    .dataframe thead th {\n",
       "        text-align: right;\n",
       "    }\n",
       "</style>\n",
       "<table border=\"1\" class=\"dataframe\">\n",
       "  <thead>\n",
       "    <tr style=\"text-align: right;\">\n",
       "      <th></th>\n",
       "      <th>lat</th>\n",
       "      <th>lon</th>\n",
       "      <th>datetime</th>\n",
       "      <th>id</th>\n",
       "      <th>id_poi</th>\n",
       "      <th>dist_poi</th>\n",
       "      <th>type_poi</th>\n",
       "    </tr>\n",
       "  </thead>\n",
       "  <tbody>\n",
       "    <tr>\n",
       "      <th>0</th>\n",
       "      <td>39.984094</td>\n",
       "      <td>116.319236</td>\n",
       "      <td>2008-10-23 05:53:05</td>\n",
       "      <td>1</td>\n",
       "      <td>1</td>\n",
       "      <td>0.000000</td>\n",
       "      <td>bar-restaurant</td>\n",
       "    </tr>\n",
       "    <tr>\n",
       "      <th>1</th>\n",
       "      <td>39.984198</td>\n",
       "      <td>116.319322</td>\n",
       "      <td>2008-10-23 05:53:06</td>\n",
       "      <td>1</td>\n",
       "      <td>1</td>\n",
       "      <td>14.015319</td>\n",
       "      <td>bar-restaurant</td>\n",
       "    </tr>\n",
       "    <tr>\n",
       "      <th>2</th>\n",
       "      <td>39.984224</td>\n",
       "      <td>116.319402</td>\n",
       "      <td>2008-10-23 05:53:11</td>\n",
       "      <td>1</td>\n",
       "      <td>1</td>\n",
       "      <td>20.082062</td>\n",
       "      <td>bar-restaurant</td>\n",
       "    </tr>\n",
       "    <tr>\n",
       "      <th>3</th>\n",
       "      <td>39.984211</td>\n",
       "      <td>116.319389</td>\n",
       "      <td>2008-10-23 05:53:16</td>\n",
       "      <td>1</td>\n",
       "      <td>1</td>\n",
       "      <td>18.454088</td>\n",
       "      <td>bar-restaurant</td>\n",
       "    </tr>\n",
       "    <tr>\n",
       "      <th>4</th>\n",
       "      <td>39.984217</td>\n",
       "      <td>116.319422</td>\n",
       "      <td>2008-10-23 05:53:21</td>\n",
       "      <td>1</td>\n",
       "      <td>1</td>\n",
       "      <td>20.647966</td>\n",
       "      <td>bar-restaurant</td>\n",
       "    </tr>\n",
       "  </tbody>\n",
       "</table>\n",
       "</div>"
      ],
      "text/plain": [
       "         lat         lon            datetime  id id_poi   dist_poi  \\\n",
       "0  39.984094  116.319236 2008-10-23 05:53:05   1      1   0.000000   \n",
       "1  39.984198  116.319322 2008-10-23 05:53:06   1      1  14.015319   \n",
       "2  39.984224  116.319402 2008-10-23 05:53:11   1      1  20.082062   \n",
       "3  39.984211  116.319389 2008-10-23 05:53:16   1      1  18.454088   \n",
       "4  39.984217  116.319422 2008-10-23 05:53:21   1      1  20.647966   \n",
       "\n",
       "         type_poi  \n",
       "0  bar-restaurant  \n",
       "1  bar-restaurant  \n",
       "2  bar-restaurant  \n",
       "3  bar-restaurant  \n",
       "4  bar-restaurant  "
      ]
     },
     "execution_count": 224,
     "metadata": {},
     "output_type": "execute_result"
    }
   ],
   "source": [
    "#Union dos dois tipos de POIs em um único\n",
    "it.union_poi_bar_restaurant(move_df)\n",
    "\n",
    "#Visualização\n",
    "move_df.head()"
   ]
  },
  {
   "cell_type": "code",
   "execution_count": 225,
   "metadata": {},
   "outputs": [
    {
     "data": {
      "text/plain": [
       "2000"
      ]
     },
     "execution_count": 225,
     "metadata": {},
     "output_type": "execute_result"
    }
   ],
   "source": [
    "#Verificando\n",
    "move_df.loc[move_df['type_poi'] == 'bar-restaurant'].shape[0]"
   ]
  },
  {
   "cell_type": "markdown",
   "metadata": {},
   "source": [
    "#### Union de Parques"
   ]
  },
  {
   "cell_type": "markdown",
   "metadata": {},
   "source": [
    "Converte os POIs do tipo \"pracas_e_parques\" e \"park\" para um único tipo: \"parks\""
   ]
  },
  {
   "cell_type": "code",
   "execution_count": 226,
   "metadata": {},
   "outputs": [
    {
     "data": {
      "text/html": [
       "<div>\n",
       "<style scoped>\n",
       "    .dataframe tbody tr th:only-of-type {\n",
       "        vertical-align: middle;\n",
       "    }\n",
       "\n",
       "    .dataframe tbody tr th {\n",
       "        vertical-align: top;\n",
       "    }\n",
       "\n",
       "    .dataframe thead th {\n",
       "        text-align: right;\n",
       "    }\n",
       "</style>\n",
       "<table border=\"1\" class=\"dataframe\">\n",
       "  <thead>\n",
       "    <tr style=\"text-align: right;\">\n",
       "      <th></th>\n",
       "      <th>lat</th>\n",
       "      <th>lon</th>\n",
       "      <th>datetime</th>\n",
       "      <th>id</th>\n",
       "      <th>type_poi</th>\n",
       "    </tr>\n",
       "  </thead>\n",
       "  <tbody>\n",
       "    <tr>\n",
       "      <th>0</th>\n",
       "      <td>39.984094</td>\n",
       "      <td>116.319236</td>\n",
       "      <td>2008-10-23 05:53:05</td>\n",
       "      <td>1</td>\n",
       "      <td>pracas_e_parques</td>\n",
       "    </tr>\n",
       "    <tr>\n",
       "      <th>500</th>\n",
       "      <td>40.006436</td>\n",
       "      <td>116.317701</td>\n",
       "      <td>2008-10-23 10:53:31</td>\n",
       "      <td>1</td>\n",
       "      <td>pracas_e_parques</td>\n",
       "    </tr>\n",
       "    <tr>\n",
       "      <th>1000</th>\n",
       "      <td>40.014125</td>\n",
       "      <td>116.306159</td>\n",
       "      <td>2008-10-23 23:43:56</td>\n",
       "      <td>1</td>\n",
       "      <td>park</td>\n",
       "    </tr>\n",
       "    <tr>\n",
       "      <th>1500</th>\n",
       "      <td>39.979009</td>\n",
       "      <td>116.326873</td>\n",
       "      <td>2008-10-24 00:11:29</td>\n",
       "      <td>1</td>\n",
       "      <td>park</td>\n",
       "    </tr>\n",
       "  </tbody>\n",
       "</table>\n",
       "</div>"
      ],
      "text/plain": [
       "            lat         lon            datetime  id          type_poi\n",
       "0     39.984094  116.319236 2008-10-23 05:53:05   1  pracas_e_parques\n",
       "500   40.006436  116.317701 2008-10-23 10:53:31   1  pracas_e_parques\n",
       "1000  40.014125  116.306159 2008-10-23 23:43:56   1              park\n",
       "1500  39.979009  116.326873 2008-10-24 00:11:29   1              park"
      ]
     },
     "execution_count": 226,
     "metadata": {},
     "output_type": "execute_result"
    }
   ],
   "source": [
    "move_df = df[0:2000].copy()\n",
    "\n",
    "#Criamos POIs com os dois tipos\n",
    "indexes_p = np.linspace(0, move_df.shape[0], 5)\n",
    "p_POIs = move_df[move_df.index.isin(indexes_p)].copy()\n",
    "p_POIs['type_poi'] = ['pracas_e_parques','pracas_e_parques','park', 'park']\n",
    "\n",
    "#Visualização\n",
    "p_POIs.head()"
   ]
  },
  {
   "cell_type": "code",
   "execution_count": 227,
   "metadata": {},
   "outputs": [
    {
     "name": "stderr",
     "output_type": "stream",
     "text": [
      " 33%|███▎      | 662/2000 [00:00<00:00, 6619.91it/s]"
     ]
    },
    {
     "name": "stdout",
     "output_type": "stream",
     "text": [
      "Integration with POIs...\n",
      "... Reseting index to operation...\n"
     ]
    },
    {
     "name": "stderr",
     "output_type": "stream",
     "text": [
      "100%|██████████| 2000/2000 [00:00<00:00, 7751.54it/s]"
     ]
    },
    {
     "name": "stdout",
     "output_type": "stream",
     "text": [
      "Integration with POI was finalized\n",
      "\n",
      "Total Time: 0.27 seconds\n"
     ]
    },
    {
     "name": "stderr",
     "output_type": "stream",
     "text": [
      "\n"
     ]
    },
    {
     "data": {
      "text/html": [
       "<div>\n",
       "<style scoped>\n",
       "    .dataframe tbody tr th:only-of-type {\n",
       "        vertical-align: middle;\n",
       "    }\n",
       "\n",
       "    .dataframe tbody tr th {\n",
       "        vertical-align: top;\n",
       "    }\n",
       "\n",
       "    .dataframe thead th {\n",
       "        text-align: right;\n",
       "    }\n",
       "</style>\n",
       "<table border=\"1\" class=\"dataframe\">\n",
       "  <thead>\n",
       "    <tr style=\"text-align: right;\">\n",
       "      <th></th>\n",
       "      <th>lat</th>\n",
       "      <th>lon</th>\n",
       "      <th>datetime</th>\n",
       "      <th>id</th>\n",
       "      <th>id_poi</th>\n",
       "      <th>dist_poi</th>\n",
       "      <th>type_poi</th>\n",
       "    </tr>\n",
       "  </thead>\n",
       "  <tbody>\n",
       "    <tr>\n",
       "      <th>0</th>\n",
       "      <td>39.984094</td>\n",
       "      <td>116.319236</td>\n",
       "      <td>2008-10-23 05:53:05</td>\n",
       "      <td>1</td>\n",
       "      <td>1</td>\n",
       "      <td>0.000000</td>\n",
       "      <td>pracas_e_parques</td>\n",
       "    </tr>\n",
       "    <tr>\n",
       "      <th>1</th>\n",
       "      <td>39.984198</td>\n",
       "      <td>116.319322</td>\n",
       "      <td>2008-10-23 05:53:06</td>\n",
       "      <td>1</td>\n",
       "      <td>1</td>\n",
       "      <td>14.015319</td>\n",
       "      <td>pracas_e_parques</td>\n",
       "    </tr>\n",
       "    <tr>\n",
       "      <th>2</th>\n",
       "      <td>39.984224</td>\n",
       "      <td>116.319402</td>\n",
       "      <td>2008-10-23 05:53:11</td>\n",
       "      <td>1</td>\n",
       "      <td>1</td>\n",
       "      <td>20.082062</td>\n",
       "      <td>pracas_e_parques</td>\n",
       "    </tr>\n",
       "    <tr>\n",
       "      <th>3</th>\n",
       "      <td>39.984211</td>\n",
       "      <td>116.319389</td>\n",
       "      <td>2008-10-23 05:53:16</td>\n",
       "      <td>1</td>\n",
       "      <td>1</td>\n",
       "      <td>18.454088</td>\n",
       "      <td>pracas_e_parques</td>\n",
       "    </tr>\n",
       "    <tr>\n",
       "      <th>4</th>\n",
       "      <td>39.984217</td>\n",
       "      <td>116.319422</td>\n",
       "      <td>2008-10-23 05:53:21</td>\n",
       "      <td>1</td>\n",
       "      <td>1</td>\n",
       "      <td>20.647966</td>\n",
       "      <td>pracas_e_parques</td>\n",
       "    </tr>\n",
       "  </tbody>\n",
       "</table>\n",
       "</div>"
      ],
      "text/plain": [
       "         lat         lon            datetime  id id_poi   dist_poi  \\\n",
       "0  39.984094  116.319236 2008-10-23 05:53:05   1      1   0.000000   \n",
       "1  39.984198  116.319322 2008-10-23 05:53:06   1      1  14.015319   \n",
       "2  39.984224  116.319402 2008-10-23 05:53:11   1      1  20.082062   \n",
       "3  39.984211  116.319389 2008-10-23 05:53:16   1      1  18.454088   \n",
       "4  39.984217  116.319422 2008-10-23 05:53:21   1      1  20.647966   \n",
       "\n",
       "           type_poi  \n",
       "0  pracas_e_parques  \n",
       "1  pracas_e_parques  \n",
       "2  pracas_e_parques  \n",
       "3  pracas_e_parques  \n",
       "4  pracas_e_parques  "
      ]
     },
     "execution_count": 227,
     "metadata": {},
     "output_type": "execute_result"
    }
   ],
   "source": [
    "#Integração dos POIs com o DataFrame\n",
    "it.join_with_POIs(move_df, p_POIs, label_id='id', label_POI='type_poi')\n",
    "\n",
    "#Visualização\n",
    "move_df.head()"
   ]
  },
  {
   "cell_type": "code",
   "execution_count": 228,
   "metadata": {},
   "outputs": [
    {
     "name": "stdout",
     "output_type": "stream",
     "text": [
      "Quantidade de pontos mais próximos de pracas_e_parques:  1149\n",
      "Quantidade de pontos mais próximos de park:  851\n"
     ]
    }
   ],
   "source": [
    "#Quantidade de pontos próximos de cada tipo de POI\n",
    "pracas_e_parques = move_df.loc[move_df['type_poi'] == 'pracas_e_parques']\n",
    "park = move_df.loc[move_df['type_poi'] == 'park']\n",
    "\n",
    "print(\"Quantidade de pontos mais próximos de pracas_e_parques: \", pracas_e_parques.shape[0])\n",
    "print(\"Quantidade de pontos mais próximos de park: \", park.shape[0])"
   ]
  },
  {
   "cell_type": "code",
   "execution_count": 229,
   "metadata": {},
   "outputs": [
    {
     "name": "stdout",
     "output_type": "stream",
     "text": [
      "union parks categories to one category\n"
     ]
    },
    {
     "data": {
      "text/html": [
       "<div>\n",
       "<style scoped>\n",
       "    .dataframe tbody tr th:only-of-type {\n",
       "        vertical-align: middle;\n",
       "    }\n",
       "\n",
       "    .dataframe tbody tr th {\n",
       "        vertical-align: top;\n",
       "    }\n",
       "\n",
       "    .dataframe thead th {\n",
       "        text-align: right;\n",
       "    }\n",
       "</style>\n",
       "<table border=\"1\" class=\"dataframe\">\n",
       "  <thead>\n",
       "    <tr style=\"text-align: right;\">\n",
       "      <th></th>\n",
       "      <th>lat</th>\n",
       "      <th>lon</th>\n",
       "      <th>datetime</th>\n",
       "      <th>id</th>\n",
       "      <th>id_poi</th>\n",
       "      <th>dist_poi</th>\n",
       "      <th>type_poi</th>\n",
       "    </tr>\n",
       "  </thead>\n",
       "  <tbody>\n",
       "    <tr>\n",
       "      <th>0</th>\n",
       "      <td>39.984094</td>\n",
       "      <td>116.319236</td>\n",
       "      <td>2008-10-23 05:53:05</td>\n",
       "      <td>1</td>\n",
       "      <td>1</td>\n",
       "      <td>0.000000</td>\n",
       "      <td>parks</td>\n",
       "    </tr>\n",
       "    <tr>\n",
       "      <th>1</th>\n",
       "      <td>39.984198</td>\n",
       "      <td>116.319322</td>\n",
       "      <td>2008-10-23 05:53:06</td>\n",
       "      <td>1</td>\n",
       "      <td>1</td>\n",
       "      <td>14.015319</td>\n",
       "      <td>parks</td>\n",
       "    </tr>\n",
       "    <tr>\n",
       "      <th>2</th>\n",
       "      <td>39.984224</td>\n",
       "      <td>116.319402</td>\n",
       "      <td>2008-10-23 05:53:11</td>\n",
       "      <td>1</td>\n",
       "      <td>1</td>\n",
       "      <td>20.082062</td>\n",
       "      <td>parks</td>\n",
       "    </tr>\n",
       "    <tr>\n",
       "      <th>3</th>\n",
       "      <td>39.984211</td>\n",
       "      <td>116.319389</td>\n",
       "      <td>2008-10-23 05:53:16</td>\n",
       "      <td>1</td>\n",
       "      <td>1</td>\n",
       "      <td>18.454088</td>\n",
       "      <td>parks</td>\n",
       "    </tr>\n",
       "    <tr>\n",
       "      <th>4</th>\n",
       "      <td>39.984217</td>\n",
       "      <td>116.319422</td>\n",
       "      <td>2008-10-23 05:53:21</td>\n",
       "      <td>1</td>\n",
       "      <td>1</td>\n",
       "      <td>20.647966</td>\n",
       "      <td>parks</td>\n",
       "    </tr>\n",
       "  </tbody>\n",
       "</table>\n",
       "</div>"
      ],
      "text/plain": [
       "         lat         lon            datetime  id id_poi   dist_poi type_poi\n",
       "0  39.984094  116.319236 2008-10-23 05:53:05   1      1   0.000000    parks\n",
       "1  39.984198  116.319322 2008-10-23 05:53:06   1      1  14.015319    parks\n",
       "2  39.984224  116.319402 2008-10-23 05:53:11   1      1  20.082062    parks\n",
       "3  39.984211  116.319389 2008-10-23 05:53:16   1      1  18.454088    parks\n",
       "4  39.984217  116.319422 2008-10-23 05:53:21   1      1  20.647966    parks"
      ]
     },
     "execution_count": 229,
     "metadata": {},
     "output_type": "execute_result"
    }
   ],
   "source": [
    "#Union dos dois tipos\n",
    "it.union_poi_parks(move_df)\n",
    "\n",
    "move_df.head()"
   ]
  },
  {
   "cell_type": "code",
   "execution_count": 230,
   "metadata": {},
   "outputs": [
    {
     "data": {
      "text/plain": [
       "2000"
      ]
     },
     "execution_count": 230,
     "metadata": {},
     "output_type": "execute_result"
    }
   ],
   "source": [
    "#Verificando a nova quantidade\n",
    "move_df.loc[move_df['type_poi'] == 'parks'].shape[0]"
   ]
  },
  {
   "cell_type": "markdown",
   "metadata": {},
   "source": [
    "#### Union de pontos policiais"
   ]
  },
  {
   "cell_type": "code",
   "execution_count": 231,
   "metadata": {},
   "outputs": [
    {
     "data": {
      "text/html": [
       "<div>\n",
       "<style scoped>\n",
       "    .dataframe tbody tr th:only-of-type {\n",
       "        vertical-align: middle;\n",
       "    }\n",
       "\n",
       "    .dataframe tbody tr th {\n",
       "        vertical-align: top;\n",
       "    }\n",
       "\n",
       "    .dataframe thead th {\n",
       "        text-align: right;\n",
       "    }\n",
       "</style>\n",
       "<table border=\"1\" class=\"dataframe\">\n",
       "  <thead>\n",
       "    <tr style=\"text-align: right;\">\n",
       "      <th></th>\n",
       "      <th>lat</th>\n",
       "      <th>lon</th>\n",
       "      <th>datetime</th>\n",
       "      <th>id</th>\n",
       "      <th>type_poi</th>\n",
       "    </tr>\n",
       "  </thead>\n",
       "  <tbody>\n",
       "    <tr>\n",
       "      <th>0</th>\n",
       "      <td>39.984094</td>\n",
       "      <td>116.319236</td>\n",
       "      <td>2008-10-23 05:53:05</td>\n",
       "      <td>1</td>\n",
       "      <td>distritos_policiais</td>\n",
       "    </tr>\n",
       "    <tr>\n",
       "      <th>500</th>\n",
       "      <td>40.006436</td>\n",
       "      <td>116.317701</td>\n",
       "      <td>2008-10-23 10:53:31</td>\n",
       "      <td>1</td>\n",
       "      <td>police</td>\n",
       "    </tr>\n",
       "    <tr>\n",
       "      <th>1000</th>\n",
       "      <td>40.014125</td>\n",
       "      <td>116.306159</td>\n",
       "      <td>2008-10-23 23:43:56</td>\n",
       "      <td>1</td>\n",
       "      <td>distritos_policiais</td>\n",
       "    </tr>\n",
       "    <tr>\n",
       "      <th>1500</th>\n",
       "      <td>39.979009</td>\n",
       "      <td>116.326873</td>\n",
       "      <td>2008-10-24 00:11:29</td>\n",
       "      <td>1</td>\n",
       "      <td>distritos_policiais</td>\n",
       "    </tr>\n",
       "  </tbody>\n",
       "</table>\n",
       "</div>"
      ],
      "text/plain": [
       "            lat         lon            datetime  id             type_poi\n",
       "0     39.984094  116.319236 2008-10-23 05:53:05   1  distritos_policiais\n",
       "500   40.006436  116.317701 2008-10-23 10:53:31   1               police\n",
       "1000  40.014125  116.306159 2008-10-23 23:43:56   1  distritos_policiais\n",
       "1500  39.979009  116.326873 2008-10-24 00:11:29   1  distritos_policiais"
      ]
     },
     "execution_count": 231,
     "metadata": {},
     "output_type": "execute_result"
    }
   ],
   "source": [
    "move_df = df[0:2000].copy()\n",
    "\n",
    "#Criamos POIs com os dois tipos\n",
    "indexes_pol = np.linspace(0, move_df.shape[0], 5)\n",
    "pol_POIs = move_df[move_df.index.isin(indexes_pol)].copy()\n",
    "pol_POIs['type_poi'] = ['distritos_policiais','police','distritos_policiais', 'distritos_policiais']\n",
    "\n",
    "#Visualização\n",
    "pol_POIs.head()"
   ]
  },
  {
   "cell_type": "code",
   "execution_count": 232,
   "metadata": {},
   "outputs": [
    {
     "name": "stderr",
     "output_type": "stream",
     "text": [
      " 39%|███▊      | 772/2000 [00:00<00:00, 7719.60it/s]"
     ]
    },
    {
     "name": "stdout",
     "output_type": "stream",
     "text": [
      "Integration with POIs...\n",
      "... Reseting index to operation...\n"
     ]
    },
    {
     "name": "stderr",
     "output_type": "stream",
     "text": [
      "100%|██████████| 2000/2000 [00:00<00:00, 8031.61it/s]"
     ]
    },
    {
     "name": "stdout",
     "output_type": "stream",
     "text": [
      "Integration with POI was finalized\n",
      "\n",
      "Total Time: 0.26 seconds\n"
     ]
    },
    {
     "name": "stderr",
     "output_type": "stream",
     "text": [
      "\n"
     ]
    },
    {
     "data": {
      "text/html": [
       "<div>\n",
       "<style scoped>\n",
       "    .dataframe tbody tr th:only-of-type {\n",
       "        vertical-align: middle;\n",
       "    }\n",
       "\n",
       "    .dataframe tbody tr th {\n",
       "        vertical-align: top;\n",
       "    }\n",
       "\n",
       "    .dataframe thead th {\n",
       "        text-align: right;\n",
       "    }\n",
       "</style>\n",
       "<table border=\"1\" class=\"dataframe\">\n",
       "  <thead>\n",
       "    <tr style=\"text-align: right;\">\n",
       "      <th></th>\n",
       "      <th>lat</th>\n",
       "      <th>lon</th>\n",
       "      <th>datetime</th>\n",
       "      <th>id</th>\n",
       "      <th>id_poi</th>\n",
       "      <th>dist_poi</th>\n",
       "      <th>type_poi</th>\n",
       "    </tr>\n",
       "  </thead>\n",
       "  <tbody>\n",
       "    <tr>\n",
       "      <th>0</th>\n",
       "      <td>39.984094</td>\n",
       "      <td>116.319236</td>\n",
       "      <td>2008-10-23 05:53:05</td>\n",
       "      <td>1</td>\n",
       "      <td>1</td>\n",
       "      <td>0.000000</td>\n",
       "      <td>distritos_policiais</td>\n",
       "    </tr>\n",
       "    <tr>\n",
       "      <th>1</th>\n",
       "      <td>39.984198</td>\n",
       "      <td>116.319322</td>\n",
       "      <td>2008-10-23 05:53:06</td>\n",
       "      <td>1</td>\n",
       "      <td>1</td>\n",
       "      <td>14.015319</td>\n",
       "      <td>distritos_policiais</td>\n",
       "    </tr>\n",
       "    <tr>\n",
       "      <th>2</th>\n",
       "      <td>39.984224</td>\n",
       "      <td>116.319402</td>\n",
       "      <td>2008-10-23 05:53:11</td>\n",
       "      <td>1</td>\n",
       "      <td>1</td>\n",
       "      <td>20.082062</td>\n",
       "      <td>distritos_policiais</td>\n",
       "    </tr>\n",
       "    <tr>\n",
       "      <th>3</th>\n",
       "      <td>39.984211</td>\n",
       "      <td>116.319389</td>\n",
       "      <td>2008-10-23 05:53:16</td>\n",
       "      <td>1</td>\n",
       "      <td>1</td>\n",
       "      <td>18.454088</td>\n",
       "      <td>distritos_policiais</td>\n",
       "    </tr>\n",
       "    <tr>\n",
       "      <th>4</th>\n",
       "      <td>39.984217</td>\n",
       "      <td>116.319422</td>\n",
       "      <td>2008-10-23 05:53:21</td>\n",
       "      <td>1</td>\n",
       "      <td>1</td>\n",
       "      <td>20.647966</td>\n",
       "      <td>distritos_policiais</td>\n",
       "    </tr>\n",
       "  </tbody>\n",
       "</table>\n",
       "</div>"
      ],
      "text/plain": [
       "         lat         lon            datetime  id id_poi   dist_poi  \\\n",
       "0  39.984094  116.319236 2008-10-23 05:53:05   1      1   0.000000   \n",
       "1  39.984198  116.319322 2008-10-23 05:53:06   1      1  14.015319   \n",
       "2  39.984224  116.319402 2008-10-23 05:53:11   1      1  20.082062   \n",
       "3  39.984211  116.319389 2008-10-23 05:53:16   1      1  18.454088   \n",
       "4  39.984217  116.319422 2008-10-23 05:53:21   1      1  20.647966   \n",
       "\n",
       "              type_poi  \n",
       "0  distritos_policiais  \n",
       "1  distritos_policiais  \n",
       "2  distritos_policiais  \n",
       "3  distritos_policiais  \n",
       "4  distritos_policiais  "
      ]
     },
     "execution_count": 232,
     "metadata": {},
     "output_type": "execute_result"
    }
   ],
   "source": [
    "#Integração de POIs com os DataFrames\n",
    "it.join_with_POIs(move_df, pol_POIs, label_id='id', label_POI='type_poi')\n",
    "\n",
    "move_df.head()"
   ]
  },
  {
   "cell_type": "code",
   "execution_count": 233,
   "metadata": {},
   "outputs": [
    {
     "name": "stdout",
     "output_type": "stream",
     "text": [
      "Quantidade de pontos mais próximos de distritos_policiais:  1534\n"
     ]
    }
   ],
   "source": [
    "#Quantidade de pontos mais próximos de cada tipo de ponto\n",
    "distritos_policiais = move_df.loc[move_df['type_poi'] == 'distritos_policiais']\n",
    "\n",
    "print(\"Quantidade de pontos mais próximos de distritos_policiais: \", distritos_policiais.shape[0])"
   ]
  },
  {
   "cell_type": "code",
   "execution_count": 234,
   "metadata": {},
   "outputs": [
    {
     "name": "stdout",
     "output_type": "stream",
     "text": [
      "union distritos policies and police categories\n"
     ]
    }
   ],
   "source": [
    "#Union dos pontos\n",
    "it.union_poi_police(move_df)"
   ]
  },
  {
   "cell_type": "code",
   "execution_count": 235,
   "metadata": {},
   "outputs": [
    {
     "data": {
      "text/html": [
       "<div>\n",
       "<style scoped>\n",
       "    .dataframe tbody tr th:only-of-type {\n",
       "        vertical-align: middle;\n",
       "    }\n",
       "\n",
       "    .dataframe tbody tr th {\n",
       "        vertical-align: top;\n",
       "    }\n",
       "\n",
       "    .dataframe thead th {\n",
       "        text-align: right;\n",
       "    }\n",
       "</style>\n",
       "<table border=\"1\" class=\"dataframe\">\n",
       "  <thead>\n",
       "    <tr style=\"text-align: right;\">\n",
       "      <th></th>\n",
       "      <th>lat</th>\n",
       "      <th>lon</th>\n",
       "      <th>datetime</th>\n",
       "      <th>id</th>\n",
       "      <th>id_poi</th>\n",
       "      <th>dist_poi</th>\n",
       "      <th>type_poi</th>\n",
       "    </tr>\n",
       "  </thead>\n",
       "  <tbody>\n",
       "    <tr>\n",
       "      <th>0</th>\n",
       "      <td>39.984094</td>\n",
       "      <td>116.319236</td>\n",
       "      <td>2008-10-23 05:53:05</td>\n",
       "      <td>1</td>\n",
       "      <td>1</td>\n",
       "      <td>0.000000</td>\n",
       "      <td>police</td>\n",
       "    </tr>\n",
       "    <tr>\n",
       "      <th>1</th>\n",
       "      <td>39.984198</td>\n",
       "      <td>116.319322</td>\n",
       "      <td>2008-10-23 05:53:06</td>\n",
       "      <td>1</td>\n",
       "      <td>1</td>\n",
       "      <td>14.015319</td>\n",
       "      <td>police</td>\n",
       "    </tr>\n",
       "    <tr>\n",
       "      <th>2</th>\n",
       "      <td>39.984224</td>\n",
       "      <td>116.319402</td>\n",
       "      <td>2008-10-23 05:53:11</td>\n",
       "      <td>1</td>\n",
       "      <td>1</td>\n",
       "      <td>20.082062</td>\n",
       "      <td>police</td>\n",
       "    </tr>\n",
       "    <tr>\n",
       "      <th>3</th>\n",
       "      <td>39.984211</td>\n",
       "      <td>116.319389</td>\n",
       "      <td>2008-10-23 05:53:16</td>\n",
       "      <td>1</td>\n",
       "      <td>1</td>\n",
       "      <td>18.454088</td>\n",
       "      <td>police</td>\n",
       "    </tr>\n",
       "    <tr>\n",
       "      <th>4</th>\n",
       "      <td>39.984217</td>\n",
       "      <td>116.319422</td>\n",
       "      <td>2008-10-23 05:53:21</td>\n",
       "      <td>1</td>\n",
       "      <td>1</td>\n",
       "      <td>20.647966</td>\n",
       "      <td>police</td>\n",
       "    </tr>\n",
       "  </tbody>\n",
       "</table>\n",
       "</div>"
      ],
      "text/plain": [
       "         lat         lon            datetime  id id_poi   dist_poi type_poi\n",
       "0  39.984094  116.319236 2008-10-23 05:53:05   1      1   0.000000   police\n",
       "1  39.984198  116.319322 2008-10-23 05:53:06   1      1  14.015319   police\n",
       "2  39.984224  116.319402 2008-10-23 05:53:11   1      1  20.082062   police\n",
       "3  39.984211  116.319389 2008-10-23 05:53:16   1      1  18.454088   police\n",
       "4  39.984217  116.319422 2008-10-23 05:53:21   1      1  20.647966   police"
      ]
     },
     "execution_count": 235,
     "metadata": {},
     "output_type": "execute_result"
    }
   ],
   "source": [
    "#Visualização\n",
    "move_df.head()"
   ]
  },
  {
   "cell_type": "code",
   "execution_count": 236,
   "metadata": {},
   "outputs": [
    {
     "data": {
      "text/plain": [
       "2000"
      ]
     },
     "execution_count": 236,
     "metadata": {},
     "output_type": "execute_result"
    }
   ],
   "source": [
    "#Verificação\n",
    "move_df.loc[move_df['type_poi'] == 'police'].shape[0]"
   ]
  },
  {
   "cell_type": "markdown",
   "metadata": {},
   "source": [
    "## Integração entre trajetórias e áreas coletivas"
   ]
  },
  {
   "cell_type": "markdown",
   "metadata": {},
   "source": [
    "Tanto as trajetórias como as áreas coletivas precisam ser DataFrames GeoPandas"
   ]
  },
  {
   "cell_type": "code",
   "execution_count": 123,
   "metadata": {},
   "outputs": [
    {
     "name": "stdout",
     "output_type": "stream",
     "text": [
      "\n",
      "Note: you may need to restart the kernel to use updated packages.Collecting package metadata (current_repodata.json): ...working... done\n",
      "\n",
      "Solving environment: ...working... failed with initial frozen solve. Retrying with flexible solve.\n",
      "Solving environment: ...working... failed with repodata from current_repodata.json, will retry with next repodata source.\n",
      "Collecting package metadata (repodata.json): ...working... done\n",
      "Solving environment: ...working... done\n",
      "\n",
      "## Package Plan ##\n",
      "\n",
      "  environment location: C:\\Users\\mauri\\.conda\\envs\\geo1\n",
      "\n",
      "  added / updated specs:\n",
      "    - geopandas\n",
      "\n",
      "\n",
      "The following packages will be downloaded:\n",
      "\n",
      "    package                    |            build\n",
      "    ---------------------------|-----------------\n",
      "    certifi-2020.4.5.1         |           py36_0         156 KB\n",
      "    cfitsio-3.470              |       he774522_2         516 KB\n",
      "    click-plugins-1.1.1        |             py_0          11 KB\n",
      "    cligj-0.5.0                |           py36_0          12 KB\n",
      "    curl-7.67.0                |       h2a8f88b_0         123 KB\n",
      "    expat-2.2.5                |       he025d50_0          83 KB\n",
      "    fiona-1.8.11               |   py36h737a305_0         605 KB\n",
      "    freexl-1.0.5               |       hfa6e2cd_0          50 KB\n",
      "    gdal-3.0.2                 |   py36hdf43c64_0         1.0 MB\n",
      "    geopandas-0.6.1            |             py_0         871 KB\n",
      "    geotiff-1.5.1              |       h5770a2b_0         128 KB\n",
      "    hdf4-4.2.13                |       h712560f_2         1.3 MB\n",
      "    icu-58.2                   |       ha925a31_3         9.4 MB\n",
      "    kealib-1.4.7               |       h07cbb95_6         133 KB\n",
      "    krb5-1.16.4                |       hc04afaa_0         693 KB\n",
      "    libboost-1.67.0            |       hd9e427e_4        18.6 MB\n",
      "    libcurl-7.67.0             |       h2a8f88b_0         269 KB\n",
      "    libgdal-3.0.2              |       h1155b67_0         7.0 MB\n",
      "    libkml-1.3.0               |       he5f2a48_4        19.7 MB\n",
      "    libnetcdf-4.6.1            |       h411e497_2         494 KB\n",
      "    libpq-11.2                 |       h3235a2c_0         2.6 MB\n",
      "    libspatialite-4.3.0a       |       h7ffb84d_0         2.3 MB\n",
      "    m2w64-expat-2.1.1          |                2         160 KB\n",
      "    m2w64-gettext-0.19.7       |                2         4.2 MB\n",
      "    m2w64-libiconv-1.14        |                6         1.5 MB\n",
      "    m2w64-xz-5.2.2             |                2         395 KB\n",
      "    munch-2.5.0                |             py_0          16 KB\n",
      "    openjpeg-2.3.0             |       h5ec785f_1         205 KB\n",
      "    openssl-1.1.1g             |       he774522_0         4.8 MB\n",
      "    pandas-1.0.3               |   py36h47e9c7a_0         7.4 MB\n",
      "    pcre-8.43                  |       ha925a31_0         379 KB\n",
      "    postgresql-11.2            |       h3235a2c_0        13.0 MB\n",
      "    proj-6.2.1                 |       h9f7ef89_0         7.9 MB\n",
      "    pyproj-2.6.0               |   py36hcfa1391_1         296 KB\n",
      "    pytz-2020.1                |             py_0         184 KB\n",
      "    rtree-0.9.4                |   py36h21ff451_1          49 KB\n",
      "    tbb-2018.0.5               |       he980bc4_0         150 KB\n",
      "    tiledb-1.6.3               |       h7b000aa_0         1.3 MB\n",
      "    xerces-c-3.2.2             |       ha925a31_0         2.8 MB\n",
      "    xz-5.2.5                   |       h62dcd97_0         333 KB\n",
      "    zlib-1.2.11                |       h62dcd97_4         132 KB\n",
      "    ------------------------------------------------------------\n",
      "                                           Total:       111.2 MB\n",
      "\n",
      "The following NEW packages will be INSTALLED:\n",
      "\n",
      "  bzip2              pkgs/main/win-64::bzip2-1.0.8-he774522_0\n",
      "  ca-certificates    pkgs/main/win-64::ca-certificates-2020.1.1-0\n",
      "  cfitsio            pkgs/main/win-64::cfitsio-3.470-he774522_2\n",
      "  click              pkgs/main/noarch::click-7.1.1-py_0\n",
      "  click-plugins      pkgs/main/noarch::click-plugins-1.1.1-py_0\n",
      "  cligj              pkgs/main/win-64::cligj-0.5.0-py36_0\n",
      "  curl               pkgs/main/win-64::curl-7.67.0-h2a8f88b_0\n",
      "  expat              pkgs/main/win-64::expat-2.2.5-he025d50_0\n",
      "  fiona              pkgs/main/win-64::fiona-1.8.11-py36h737a305_0\n",
      "  freexl             pkgs/main/win-64::freexl-1.0.5-hfa6e2cd_0\n",
      "  gdal               pkgs/main/win-64::gdal-3.0.2-py36hdf43c64_0\n",
      "  geopandas          pkgs/main/noarch::geopandas-0.6.1-py_0\n",
      "  geotiff            pkgs/main/win-64::geotiff-1.5.1-h5770a2b_0\n",
      "  hdf4               pkgs/main/win-64::hdf4-4.2.13-h712560f_2\n",
      "  hdf5               pkgs/main/win-64::hdf5-1.10.4-h7ebc959_0\n",
      "  icu                pkgs/main/win-64::icu-58.2-ha925a31_3\n",
      "  jpeg               pkgs/main/win-64::jpeg-9b-hb83a4c4_2\n",
      "  kealib             pkgs/main/win-64::kealib-1.4.7-h07cbb95_6\n",
      "  krb5               pkgs/main/win-64::krb5-1.16.4-hc04afaa_0\n",
      "  libboost           pkgs/main/win-64::libboost-1.67.0-hd9e427e_4\n",
      "  libcurl            pkgs/main/win-64::libcurl-7.67.0-h2a8f88b_0\n",
      "  libgdal            pkgs/main/win-64::libgdal-3.0.2-h1155b67_0\n",
      "  libiconv           pkgs/main/win-64::libiconv-1.15-h1df5818_7\n",
      "  libkml             pkgs/main/win-64::libkml-1.3.0-he5f2a48_4\n",
      "  libnetcdf          pkgs/main/win-64::libnetcdf-4.6.1-h411e497_2\n",
      "  libpng             pkgs/main/win-64::libpng-1.6.37-h2a8f88b_0\n",
      "  libpq              pkgs/main/win-64::libpq-11.2-h3235a2c_0\n",
      "  libspatialindex    pkgs/main/win-64::libspatialindex-1.9.3-h33f27b4_0\n",
      "  libspatialite      pkgs/main/win-64::libspatialite-4.3.0a-h7ffb84d_0\n",
      "  libssh2            pkgs/main/win-64::libssh2-1.9.0-h7a1dbc1_1\n",
      "  libtiff            pkgs/main/win-64::libtiff-4.1.0-h56a325e_0\n",
      "  libxml2            pkgs/main/win-64::libxml2-2.9.9-h464c3ec_0\n",
      "  lz4-c              pkgs/main/win-64::lz4-c-1.8.1.2-h2fa13f4_0\n",
      "  m2w64-expat        pkgs/msys2/win-64::m2w64-expat-2.1.1-2\n",
      "  m2w64-gettext      pkgs/msys2/win-64::m2w64-gettext-0.19.7-2\n",
      "  m2w64-libiconv     pkgs/msys2/win-64::m2w64-libiconv-1.14-6\n",
      "  m2w64-xz           pkgs/msys2/win-64::m2w64-xz-5.2.2-2\n",
      "  munch              pkgs/main/noarch::munch-2.5.0-py_0\n",
      "  openjpeg           pkgs/main/win-64::openjpeg-2.3.0-h5ec785f_1\n",
      "  openssl            pkgs/main/win-64::openssl-1.1.1g-he774522_0\n",
      "  pandas             pkgs/main/win-64::pandas-1.0.3-py36h47e9c7a_0\n",
      "  pcre               pkgs/main/win-64::pcre-8.43-ha925a31_0\n",
      "  postgresql         pkgs/main/win-64::postgresql-11.2-h3235a2c_0\n",
      "  proj               pkgs/main/win-64::proj-6.2.1-h9f7ef89_0\n",
      "  pyproj             pkgs/main/win-64::pyproj-2.6.0-py36hcfa1391_1\n",
      "  pytz               pkgs/main/noarch::pytz-2020.1-py_0\n",
      "  rtree              pkgs/main/win-64::rtree-0.9.4-py36h21ff451_1\n",
      "  tbb                pkgs/main/win-64::tbb-2018.0.5-he980bc4_0\n",
      "  tiledb             pkgs/main/win-64::tiledb-1.6.3-h7b000aa_0\n",
      "  tk                 pkgs/main/win-64::tk-8.6.8-hfa6e2cd_0\n",
      "  xerces-c           pkgs/main/win-64::xerces-c-3.2.2-ha925a31_0\n",
      "  xz                 pkgs/main/win-64::xz-5.2.5-h62dcd97_0\n",
      "  zlib               pkgs/main/win-64::zlib-1.2.11-h62dcd97_4\n",
      "  zstd               pkgs/main/win-64::zstd-1.3.7-h508b16e_0\n",
      "\n",
      "The following packages will be UPDATED:\n",
      "\n",
      "  certifi                                 2019.11.28-py36_1 --> 2020.4.5.1-py36_0\n",
      "\n",
      "\n",
      "\n",
      "Downloading and Extracting Packages\n",
      "\n",
      "libgdal-3.0.2        | 7.0 MB    |            |   0% \n",
      "libgdal-3.0.2        | 7.0 MB    |            |   0% \n",
      "libgdal-3.0.2        | 7.0 MB    | 7          |   8% \n",
      "libgdal-3.0.2        | 7.0 MB    | #          |  10% \n",
      "libgdal-3.0.2        | 7.0 MB    | ##6        |  26% \n",
      "libgdal-3.0.2        | 7.0 MB    | ###2       |  32% \n",
      "libgdal-3.0.2        | 7.0 MB    | #####      |  51% \n",
      "libgdal-3.0.2        | 7.0 MB    | ######1    |  61% \n",
      "libgdal-3.0.2        | 7.0 MB    | #######9   |  79% \n",
      "libgdal-3.0.2        | 7.0 MB    | #########1 |  92% \n",
      "libgdal-3.0.2        | 7.0 MB    | ########## | 100% \n",
      "\n",
      "munch-2.5.0          | 16 KB     |            |   0% \n",
      "munch-2.5.0          | 16 KB     | ########## | 100% \n",
      "\n",
      "xerces-c-3.2.2       | 2.8 MB    |            |   0% \n",
      "xerces-c-3.2.2       | 2.8 MB    |            |   1% \n",
      "xerces-c-3.2.2       | 2.8 MB    | #####2     |  52% \n",
      "xerces-c-3.2.2       | 2.8 MB    | ######7    |  68% \n",
      "xerces-c-3.2.2       | 2.8 MB    | ########## | 100% \n",
      "\n",
      "libcurl-7.67.0       | 269 KB    |            |   0% \n",
      "libcurl-7.67.0       | 269 KB    | ########## | 100% \n",
      "\n",
      "kealib-1.4.7         | 133 KB    |            |   0% \n",
      "kealib-1.4.7         | 133 KB    | ########## | 100% \n",
      "\n",
      "libkml-1.3.0         | 19.7 MB   |            |   0% \n",
      "libkml-1.3.0         | 19.7 MB   | 4          |   4% \n",
      "libkml-1.3.0         | 19.7 MB   | #          |  10% \n",
      "libkml-1.3.0         | 19.7 MB   | #7         |  17% \n",
      "libkml-1.3.0         | 19.7 MB   | ##4        |  24% \n",
      "libkml-1.3.0         | 19.7 MB   | ###1       |  31% \n",
      "libkml-1.3.0         | 19.7 MB   | ###8       |  38% \n",
      "libkml-1.3.0         | 19.7 MB   | ####4      |  45% \n",
      "libkml-1.3.0         | 19.7 MB   | #####1     |  52% \n",
      "libkml-1.3.0         | 19.7 MB   | #####8     |  58% \n",
      "libkml-1.3.0         | 19.7 MB   | ######4    |  65% \n",
      "libkml-1.3.0         | 19.7 MB   | #######1   |  71% \n",
      "libkml-1.3.0         | 19.7 MB   | #######8   |  78% \n",
      "libkml-1.3.0         | 19.7 MB   | ########4  |  85% \n",
      "libkml-1.3.0         | 19.7 MB   | #########1 |  91% \n",
      "libkml-1.3.0         | 19.7 MB   | #########8 |  98% \n",
      "libkml-1.3.0         | 19.7 MB   | ########## | 100% \n",
      "\n",
      "cligj-0.5.0          | 12 KB     |            |   0% \n",
      "cligj-0.5.0          | 12 KB     | ########## | 100% \n",
      "\n",
      "openjpeg-2.3.0       | 205 KB    |            |   0% \n",
      "openjpeg-2.3.0       | 205 KB    | 7          |   8% \n",
      "openjpeg-2.3.0       | 205 KB    | ########## | 100% \n",
      "\n",
      "pyproj-2.6.0         | 296 KB    |            |   0% \n",
      "pyproj-2.6.0         | 296 KB    | 5          |   5% \n",
      "pyproj-2.6.0         | 296 KB    | ########## | 100% \n",
      "\n",
      "geopandas-0.6.1      | 871 KB    |            |   0% \n",
      "geopandas-0.6.1      | 871 KB    | #########1 |  92% \n",
      "geopandas-0.6.1      | 871 KB    | ########## | 100% \n",
      "\n",
      "xz-5.2.5             | 333 KB    |            |   0% \n",
      "xz-5.2.5             | 333 KB    | ########## | 100% \n",
      "\n",
      "cfitsio-3.470        | 516 KB    |            |   0% \n",
      "cfitsio-3.470        | 516 KB    | 3          |   3% \n",
      "cfitsio-3.470        | 516 KB    | ########## | 100% \n",
      "\n",
      "tbb-2018.0.5         | 150 KB    |            |   0% \n",
      "tbb-2018.0.5         | 150 KB    | ########## | 100% \n",
      "\n",
      "pandas-1.0.3         | 7.4 MB    |            |   0% \n",
      "pandas-1.0.3         | 7.4 MB    |            |   0% \n",
      "pandas-1.0.3         | 7.4 MB    | #          |  11% \n",
      "pandas-1.0.3         | 7.4 MB    | ##1        |  22% \n",
      "pandas-1.0.3         | 7.4 MB    | ###8       |  39% \n",
      "pandas-1.0.3         | 7.4 MB    | #####8     |  59% \n",
      "pandas-1.0.3         | 7.4 MB    | #######8   |  79% \n",
      "pandas-1.0.3         | 7.4 MB    | ########## | 100% \n",
      "\n",
      "pcre-8.43            | 379 KB    |            |   0% \n",
      "pcre-8.43            | 379 KB    | ########## | 100% \n",
      "\n",
      "certifi-2020.4.5.1   | 156 KB    |            |   0% \n",
      "certifi-2020.4.5.1   | 156 KB    | #######1   |  72% \n",
      "certifi-2020.4.5.1   | 156 KB    | ########## | 100% \n",
      "\n",
      "icu-58.2             | 9.4 MB    |            |   0% \n",
      "icu-58.2             | 9.4 MB    | 2          |   2% \n",
      "icu-58.2             | 9.4 MB    | 7          |   7% \n",
      "icu-58.2             | 9.4 MB    | #9         |  19% \n",
      "icu-58.2             | 9.4 MB    | ###3       |  33% \n",
      "icu-58.2             | 9.4 MB    | ####7      |  48% \n",
      "icu-58.2             | 9.4 MB    | ######2    |  62% \n",
      "icu-58.2             | 9.4 MB    | #######7   |  77% \n",
      "icu-58.2             | 9.4 MB    | #########1 |  91% \n",
      "icu-58.2             | 9.4 MB    | ########## | 100% \n",
      "\n",
      "freexl-1.0.5         | 50 KB     |            |   0% \n",
      "freexl-1.0.5         | 50 KB     | ########## | 100% \n",
      "\n",
      "m2w64-gettext-0.19.7 | 4.2 MB    |            |   0% \n",
      "m2w64-gettext-0.19.7 | 4.2 MB    | ##3        |  23% \n",
      "m2w64-gettext-0.19.7 | 4.2 MB    | ######     |  60% \n",
      "m2w64-gettext-0.19.7 | 4.2 MB    | ########## | 100% \n",
      "\n",
      "m2w64-libiconv-1.14  | 1.5 MB    |            |   0% \n",
      "m2w64-libiconv-1.14  | 1.5 MB    | ######6    |  66% \n",
      "m2w64-libiconv-1.14  | 1.5 MB    | ########## | 100% \n",
      "\n",
      "libpq-11.2           | 2.6 MB    |            |   0% \n",
      "libpq-11.2           | 2.6 MB    | ###3       |  33% \n",
      "libpq-11.2           | 2.6 MB    | #########7 |  97% \n",
      "libpq-11.2           | 2.6 MB    | ########## | 100% \n",
      "\n",
      "openssl-1.1.1g       | 4.8 MB    |            |   0% \n",
      "openssl-1.1.1g       | 4.8 MB    | #9         |  19% \n",
      "openssl-1.1.1g       | 4.8 MB    | #####1     |  51% \n",
      "openssl-1.1.1g       | 4.8 MB    | ########4  |  84% \n",
      "openssl-1.1.1g       | 4.8 MB    | ########## | 100% \n",
      "\n",
      "rtree-0.9.4          | 49 KB     |            |   0% \n",
      "rtree-0.9.4          | 49 KB     | ########## | 100% \n",
      "\n",
      "curl-7.67.0          | 123 KB    |            |   0% \n",
      "curl-7.67.0          | 123 KB    | ########## | 100% \n",
      "\n",
      "expat-2.2.5          | 83 KB     |            |   0% \n",
      "expat-2.2.5          | 83 KB     | ########## | 100% \n",
      "\n",
      "m2w64-expat-2.1.1    | 160 KB    |            |   0% \n",
      "m2w64-expat-2.1.1    | 160 KB    | ########## | 100% \n",
      "\n",
      "click-plugins-1.1.1  | 11 KB     |            |   0% \n",
      "click-plugins-1.1.1  | 11 KB     | ########## | 100% \n",
      "\n",
      "postgresql-11.2      | 13.0 MB   |            |   0% \n",
      "postgresql-11.2      | 13.0 MB   |            |   0% \n",
      "postgresql-11.2      | 13.0 MB   | #1         |  11% \n",
      "postgresql-11.2      | 13.0 MB   | ##3        |  23% \n",
      "postgresql-11.2      | 13.0 MB   | ###4       |  34% \n",
      "postgresql-11.2      | 13.0 MB   | ####6      |  46% \n",
      "postgresql-11.2      | 13.0 MB   | #####7     |  58% \n",
      "postgresql-11.2      | 13.0 MB   | ######9    |  70% \n",
      "postgresql-11.2      | 13.0 MB   | ########   |  80% \n",
      "postgresql-11.2      | 13.0 MB   | ########## | 100% \n",
      "\n",
      "m2w64-xz-5.2.2       | 395 KB    |            |   0% \n",
      "m2w64-xz-5.2.2       | 395 KB    | ########## | 100% \n",
      "\n",
      "libnetcdf-4.6.1      | 494 KB    |            |   0% \n",
      "libnetcdf-4.6.1      | 494 KB    | ########## | 100% \n",
      "\n",
      "fiona-1.8.11         | 605 KB    |            |   0% \n",
      "fiona-1.8.11         | 605 KB    | 2          |   3% \n",
      "fiona-1.8.11         | 605 KB    | ######8    |  69% \n",
      "fiona-1.8.11         | 605 KB    | ########## | 100% \n",
      "\n",
      "zlib-1.2.11          | 132 KB    |            |   0% \n",
      "zlib-1.2.11          | 132 KB    | ########## | 100% \n",
      "\n",
      "tiledb-1.6.3         | 1.3 MB    |            |   0% \n",
      "tiledb-1.6.3         | 1.3 MB    | 1          |   1% \n",
      "tiledb-1.6.3         | 1.3 MB    | ###4       |  34% \n",
      "tiledb-1.6.3         | 1.3 MB    | #######    |  71% \n",
      "tiledb-1.6.3         | 1.3 MB    | ########## | 100% \n",
      "\n",
      "pytz-2020.1          | 184 KB    |            |   0% \n",
      "pytz-2020.1          | 184 KB    | ########## | 100% \n",
      "\n",
      "geotiff-1.5.1        | 128 KB    |            |   0% \n",
      "geotiff-1.5.1        | 128 KB    | #2         |  13% \n",
      "geotiff-1.5.1        | 128 KB    | ########## | 100% \n",
      "\n",
      "proj-6.2.1           | 7.9 MB    |            |   0% \n",
      "proj-6.2.1           | 7.9 MB    |            |   0% \n",
      "proj-6.2.1           | 7.9 MB    | 3          |   3% \n",
      "proj-6.2.1           | 7.9 MB    | 6          |   7% \n",
      "proj-6.2.1           | 7.9 MB    | #4         |  15% \n",
      "proj-6.2.1           | 7.9 MB    | ##6        |  27% \n",
      "proj-6.2.1           | 7.9 MB    | ####4      |  44% \n",
      "proj-6.2.1           | 7.9 MB    | ######4    |  64% \n",
      "proj-6.2.1           | 7.9 MB    | ########4  |  84% \n",
      "proj-6.2.1           | 7.9 MB    | ########## | 100% \n",
      "\n",
      "libspatialite-4.3.0a | 2.3 MB    |            |   0% \n",
      "libspatialite-4.3.0a | 2.3 MB    |            |   1% \n",
      "libspatialite-4.3.0a | 2.3 MB    | ######5    |  65% \n",
      "libspatialite-4.3.0a | 2.3 MB    | ########## | 100% \n",
      "\n",
      "krb5-1.16.4          | 693 KB    |            |   0% \n",
      "krb5-1.16.4          | 693 KB    | ########## | 100% \n",
      "\n",
      "gdal-3.0.2           | 1.0 MB    |            |   0% \n",
      "gdal-3.0.2           | 1.0 MB    | 1          |   2% \n",
      "gdal-3.0.2           | 1.0 MB    | ########## | 100% \n",
      "\n",
      "hdf4-4.2.13          | 1.3 MB    |            |   0% \n",
      "hdf4-4.2.13          | 1.3 MB    | ####8      |  49% \n",
      "hdf4-4.2.13          | 1.3 MB    | ########## | 100% \n",
      "\n",
      "libboost-1.67.0      | 18.6 MB   |            |   0% \n",
      "libboost-1.67.0      | 18.6 MB   | 5          |   5% \n",
      "libboost-1.67.0      | 18.6 MB   | #3         |  14% \n",
      "libboost-1.67.0      | 18.6 MB   | ##1        |  22% \n"
     ]
    },
    {
     "name": "stdout",
     "output_type": "stream",
     "text": [
      "libboost-1.67.0      | 18.6 MB   | ###        |  30% \n",
      "libboost-1.67.0      | 18.6 MB   | ###8       |  39% \n",
      "libboost-1.67.0      | 18.6 MB   | ####7      |  47% \n",
      "libboost-1.67.0      | 18.6 MB   | #####5     |  56% \n",
      "libboost-1.67.0      | 18.6 MB   | ######3    |  64% \n",
      "libboost-1.67.0      | 18.6 MB   | #######2   |  72% \n",
      "libboost-1.67.0      | 18.6 MB   | ########1  |  81% \n",
      "libboost-1.67.0      | 18.6 MB   | ########9  |  90% \n",
      "libboost-1.67.0      | 18.6 MB   | #########8 |  98% \n",
      "libboost-1.67.0      | 18.6 MB   | ########## | 100% \n",
      "Preparing transaction: ...working... done\n",
      "Verifying transaction: ...working... done\n",
      "Executing transaction: ...working... done\n"
     ]
    }
   ],
   "source": [
    "conda install geopandas"
   ]
  },
  {
   "cell_type": "code",
   "execution_count": 237,
   "metadata": {},
   "outputs": [
    {
     "data": {
      "text/html": [
       "<div>\n",
       "<style scoped>\n",
       "    .dataframe tbody tr th:only-of-type {\n",
       "        vertical-align: middle;\n",
       "    }\n",
       "\n",
       "    .dataframe tbody tr th {\n",
       "        vertical-align: top;\n",
       "    }\n",
       "\n",
       "    .dataframe thead th {\n",
       "        text-align: right;\n",
       "    }\n",
       "</style>\n",
       "<table border=\"1\" class=\"dataframe\">\n",
       "  <thead>\n",
       "    <tr style=\"text-align: right;\">\n",
       "      <th></th>\n",
       "      <th>lat</th>\n",
       "      <th>lon</th>\n",
       "      <th>datetime</th>\n",
       "      <th>id</th>\n",
       "      <th>geometry</th>\n",
       "    </tr>\n",
       "  </thead>\n",
       "  <tbody>\n",
       "    <tr>\n",
       "      <th>0</th>\n",
       "      <td>39.984094</td>\n",
       "      <td>116.319236</td>\n",
       "      <td>2008-10-23 05:53:05</td>\n",
       "      <td>1</td>\n",
       "      <td>POINT (116.31924 39.98409)</td>\n",
       "    </tr>\n",
       "    <tr>\n",
       "      <th>1</th>\n",
       "      <td>39.984198</td>\n",
       "      <td>116.319322</td>\n",
       "      <td>2008-10-23 05:53:06</td>\n",
       "      <td>1</td>\n",
       "      <td>POINT (116.31932 39.98420)</td>\n",
       "    </tr>\n",
       "    <tr>\n",
       "      <th>2</th>\n",
       "      <td>39.984224</td>\n",
       "      <td>116.319402</td>\n",
       "      <td>2008-10-23 05:53:11</td>\n",
       "      <td>1</td>\n",
       "      <td>POINT (116.31940 39.98422)</td>\n",
       "    </tr>\n",
       "    <tr>\n",
       "      <th>3</th>\n",
       "      <td>39.984211</td>\n",
       "      <td>116.319389</td>\n",
       "      <td>2008-10-23 05:53:16</td>\n",
       "      <td>1</td>\n",
       "      <td>POINT (116.31939 39.98421)</td>\n",
       "    </tr>\n",
       "    <tr>\n",
       "      <th>4</th>\n",
       "      <td>39.984217</td>\n",
       "      <td>116.319422</td>\n",
       "      <td>2008-10-23 05:53:21</td>\n",
       "      <td>1</td>\n",
       "      <td>POINT (116.31942 39.98422)</td>\n",
       "    </tr>\n",
       "  </tbody>\n",
       "</table>\n",
       "</div>"
      ],
      "text/plain": [
       "         lat         lon            datetime  id                    geometry\n",
       "0  39.984094  116.319236 2008-10-23 05:53:05   1  POINT (116.31924 39.98409)\n",
       "1  39.984198  116.319322 2008-10-23 05:53:06   1  POINT (116.31932 39.98420)\n",
       "2  39.984224  116.319402 2008-10-23 05:53:11   1  POINT (116.31940 39.98422)\n",
       "3  39.984211  116.319389 2008-10-23 05:53:16   1  POINT (116.31939 39.98421)\n",
       "4  39.984217  116.319422 2008-10-23 05:53:21   1  POINT (116.31942 39.98422)"
      ]
     },
     "execution_count": 237,
     "metadata": {},
     "output_type": "execute_result"
    }
   ],
   "source": [
    "import geopandas\n",
    "\n",
    "move_df = df[0:2000].copy()\n",
    "\n",
    "gdf = geopandas.GeoDataFrame(move_df, geometry=geopandas.points_from_xy(move_df.lon, move_df.lat))\n",
    "gdf.head()"
   ]
  },
  {
   "cell_type": "code",
   "execution_count": 238,
   "metadata": {},
   "outputs": [
    {
     "data": {
      "text/html": [
       "<div>\n",
       "<style scoped>\n",
       "    .dataframe tbody tr th:only-of-type {\n",
       "        vertical-align: middle;\n",
       "    }\n",
       "\n",
       "    .dataframe tbody tr th {\n",
       "        vertical-align: top;\n",
       "    }\n",
       "\n",
       "    .dataframe thead th {\n",
       "        text-align: right;\n",
       "    }\n",
       "</style>\n",
       "<table border=\"1\" class=\"dataframe\">\n",
       "  <thead>\n",
       "    <tr style=\"text-align: right;\">\n",
       "      <th></th>\n",
       "      <th>lat</th>\n",
       "      <th>lon</th>\n",
       "      <th>datetime</th>\n",
       "      <th>id</th>\n",
       "      <th>geometry</th>\n",
       "    </tr>\n",
       "  </thead>\n",
       "  <tbody>\n",
       "    <tr>\n",
       "      <th>0</th>\n",
       "      <td>39.984094</td>\n",
       "      <td>116.319236</td>\n",
       "      <td>2008-10-23 05:53:05</td>\n",
       "      <td>1</td>\n",
       "      <td>POINT (116.31924 39.98409)</td>\n",
       "    </tr>\n",
       "    <tr>\n",
       "      <th>500</th>\n",
       "      <td>40.006436</td>\n",
       "      <td>116.317701</td>\n",
       "      <td>2008-10-23 10:53:31</td>\n",
       "      <td>1</td>\n",
       "      <td>POINT (116.31770 40.00644)</td>\n",
       "    </tr>\n",
       "    <tr>\n",
       "      <th>1000</th>\n",
       "      <td>40.014125</td>\n",
       "      <td>116.306159</td>\n",
       "      <td>2008-10-23 23:43:56</td>\n",
       "      <td>1</td>\n",
       "      <td>POINT (116.30616 40.01412)</td>\n",
       "    </tr>\n",
       "    <tr>\n",
       "      <th>1500</th>\n",
       "      <td>39.979009</td>\n",
       "      <td>116.326873</td>\n",
       "      <td>2008-10-24 00:11:29</td>\n",
       "      <td>1</td>\n",
       "      <td>POINT (116.32687 39.97901)</td>\n",
       "    </tr>\n",
       "  </tbody>\n",
       "</table>\n",
       "</div>"
      ],
      "text/plain": [
       "            lat         lon            datetime  id  \\\n",
       "0     39.984094  116.319236 2008-10-23 05:53:05   1   \n",
       "500   40.006436  116.317701 2008-10-23 10:53:31   1   \n",
       "1000  40.014125  116.306159 2008-10-23 23:43:56   1   \n",
       "1500  39.979009  116.326873 2008-10-24 00:11:29   1   \n",
       "\n",
       "                        geometry  \n",
       "0     POINT (116.31924 39.98409)  \n",
       "500   POINT (116.31770 40.00644)  \n",
       "1000  POINT (116.30616 40.01412)  \n",
       "1500  POINT (116.32687 39.97901)  "
      ]
     },
     "execution_count": 238,
     "metadata": {},
     "output_type": "execute_result"
    }
   ],
   "source": [
    "#Criando áreas coletivas\n",
    "indexes_ac = np.linspace(0, gdf.shape[0], 5)\n",
    "area_c = move_df[move_df.index.isin(indexes_ac)].copy()\n",
    "area_c"
   ]
  },
  {
   "cell_type": "code",
   "execution_count": 239,
   "metadata": {},
   "outputs": [
    {
     "name": "stderr",
     "output_type": "stream",
     "text": [
      "100%|██████████| 4/4 [00:00<00:00, 54.05it/s]"
     ]
    },
    {
     "name": "stdout",
     "output_type": "stream",
     "text": [
      "Integration between trajectories and coletives areas\n"
     ]
    },
    {
     "name": "stderr",
     "output_type": "stream",
     "text": [
      "\n"
     ]
    }
   ],
   "source": [
    "#Integração\n",
    "it.join_coletives_areas(gdf, area_c)"
   ]
  },
  {
   "cell_type": "code",
   "execution_count": 240,
   "metadata": {},
   "outputs": [
    {
     "data": {
      "text/html": [
       "<div>\n",
       "<style scoped>\n",
       "    .dataframe tbody tr th:only-of-type {\n",
       "        vertical-align: middle;\n",
       "    }\n",
       "\n",
       "    .dataframe tbody tr th {\n",
       "        vertical-align: top;\n",
       "    }\n",
       "\n",
       "    .dataframe thead th {\n",
       "        text-align: right;\n",
       "    }\n",
       "</style>\n",
       "<table border=\"1\" class=\"dataframe\">\n",
       "  <thead>\n",
       "    <tr style=\"text-align: right;\">\n",
       "      <th></th>\n",
       "      <th>lat</th>\n",
       "      <th>lon</th>\n",
       "      <th>datetime</th>\n",
       "      <th>id</th>\n",
       "      <th>geometry</th>\n",
       "      <th>violation</th>\n",
       "    </tr>\n",
       "  </thead>\n",
       "  <tbody>\n",
       "    <tr>\n",
       "      <th>0</th>\n",
       "      <td>39.984094</td>\n",
       "      <td>116.319236</td>\n",
       "      <td>2008-10-23 05:53:05</td>\n",
       "      <td>1</td>\n",
       "      <td>POINT (116.31924 39.98409)</td>\n",
       "      <td>True</td>\n",
       "    </tr>\n",
       "    <tr>\n",
       "      <th>1</th>\n",
       "      <td>39.984198</td>\n",
       "      <td>116.319322</td>\n",
       "      <td>2008-10-23 05:53:06</td>\n",
       "      <td>1</td>\n",
       "      <td>POINT (116.31932 39.98420)</td>\n",
       "      <td>False</td>\n",
       "    </tr>\n",
       "    <tr>\n",
       "      <th>2</th>\n",
       "      <td>39.984224</td>\n",
       "      <td>116.319402</td>\n",
       "      <td>2008-10-23 05:53:11</td>\n",
       "      <td>1</td>\n",
       "      <td>POINT (116.31940 39.98422)</td>\n",
       "      <td>False</td>\n",
       "    </tr>\n",
       "    <tr>\n",
       "      <th>3</th>\n",
       "      <td>39.984211</td>\n",
       "      <td>116.319389</td>\n",
       "      <td>2008-10-23 05:53:16</td>\n",
       "      <td>1</td>\n",
       "      <td>POINT (116.31939 39.98421)</td>\n",
       "      <td>False</td>\n",
       "    </tr>\n",
       "    <tr>\n",
       "      <th>4</th>\n",
       "      <td>39.984217</td>\n",
       "      <td>116.319422</td>\n",
       "      <td>2008-10-23 05:53:21</td>\n",
       "      <td>1</td>\n",
       "      <td>POINT (116.31942 39.98422)</td>\n",
       "      <td>False</td>\n",
       "    </tr>\n",
       "  </tbody>\n",
       "</table>\n",
       "</div>"
      ],
      "text/plain": [
       "         lat         lon            datetime  id                    geometry  \\\n",
       "0  39.984094  116.319236 2008-10-23 05:53:05   1  POINT (116.31924 39.98409)   \n",
       "1  39.984198  116.319322 2008-10-23 05:53:06   1  POINT (116.31932 39.98420)   \n",
       "2  39.984224  116.319402 2008-10-23 05:53:11   1  POINT (116.31940 39.98422)   \n",
       "3  39.984211  116.319389 2008-10-23 05:53:16   1  POINT (116.31939 39.98421)   \n",
       "4  39.984217  116.319422 2008-10-23 05:53:21   1  POINT (116.31942 39.98422)   \n",
       "\n",
       "   violation  \n",
       "0       True  \n",
       "1      False  \n",
       "2      False  \n",
       "3      False  \n",
       "4      False  "
      ]
     },
     "execution_count": 240,
     "metadata": {},
     "output_type": "execute_result"
    }
   ],
   "source": [
    "gdf.head()"
   ]
  },
  {
   "cell_type": "markdown",
   "metadata": {},
   "source": [
    "### Visualização dos pontos no mapa"
   ]
  },
  {
   "cell_type": "markdown",
   "metadata": {},
   "source": [
    "#### Area Coletiva"
   ]
  },
  {
   "cell_type": "code",
   "execution_count": 241,
   "metadata": {},
   "outputs": [
    {
     "data": {
      "text/html": [
       "<div style=\"width:100%;\"><div style=\"position:relative;width:100%;height:0;padding-bottom:60%;\"><iframe src=\"about:blank\" style=\"position:absolute;width:100%;height:100%;left:0;top:0;border:none !important;\" data-html=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 onload=\"this.contentDocument.open();this.contentDocument.write(atob(this.getAttribute('data-html')));this.contentDocument.close();\" allowfullscreen webkitallowfullscreen mozallowfullscreen></iframe></div></div>"
      ],
      "text/plain": [
       "<folium.folium.Map at 0x20d62eeaac8>"
      ]
     },
     "execution_count": 241,
     "metadata": {},
     "output_type": "execute_result"
    }
   ],
   "source": [
    "visualization.plot_markers(area_c)"
   ]
  },
  {
   "cell_type": "markdown",
   "metadata": {},
   "source": [
    "#### Pontos correspondentes "
   ]
  },
  {
   "cell_type": "code",
   "execution_count": 242,
   "metadata": {},
   "outputs": [
    {
     "data": {
      "text/html": [
       "<div style=\"width:100%;\"><div style=\"position:relative;width:100%;height:0;padding-bottom:60%;\"><iframe src=\"about:blank\" style=\"position:absolute;width:100%;height:100%;left:0;top:0;border:none !important;\" data-html=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 onload=\"this.contentDocument.open();this.contentDocument.write(atob(this.getAttribute('data-html')));this.contentDocument.close();\" allowfullscreen webkitallowfullscreen mozallowfullscreen></iframe></div></div>"
      ],
      "text/plain": [
       "<folium.folium.Map at 0x20d61078f60>"
      ]
     },
     "execution_count": 242,
     "metadata": {},
     "output_type": "execute_result"
    }
   ],
   "source": [
    "visualization.plot_markers(gdf.loc[gdf['violation'] == True])"
   ]
  },
  {
   "cell_type": "code",
   "execution_count": null,
   "metadata": {},
   "outputs": [],
   "source": []
  }
 ],
 "metadata": {
  "kernelspec": {
   "display_name": "Python 3",
   "language": "python",
   "name": "python3"
  },
  "language_info": {
   "codemirror_mode": {
    "name": "ipython",
    "version": 3
   },
   "file_extension": ".py",
   "mimetype": "text/x-python",
   "name": "python",
   "nbconvert_exporter": "python",
   "pygments_lexer": "ipython3",
   "version": "3.6.10"
  }
 },
 "nbformat": 4,
 "nbformat_minor": 4
}
