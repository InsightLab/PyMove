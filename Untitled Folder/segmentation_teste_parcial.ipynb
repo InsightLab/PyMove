{
 "cells": [
  {
   "cell_type": "code",
   "execution_count": 1,
   "metadata": {},
   "outputs": [],
   "source": [
    "from pymove import segmentation\n",
    "from pymove import MoveDataFrame\n",
    "import numpy as np\n",
    "from numpy.testing import assert_array_equal\n",
    "import pandas as pd"
   ]
  },
  {
   "cell_type": "code",
   "execution_count": 2,
   "metadata": {},
   "outputs": [],
   "source": [
    "from pymove.utils.constants import (\n",
    "    DATETIME,\n",
    "    DAY,\n",
    "    DIST_PREV_TO_NEXT,\n",
    "    DIST_TO_NEXT,\n",
    "    DIST_TO_PREV,\n",
    "    HOUR_COS,\n",
    "    HOUR_SIN,\n",
    "    LATITUDE,\n",
    "    LONGITUDE,\n",
    "    PERIOD,\n",
    "    SPEED_TO_PREV,\n",
    "    TID,\n",
    "    TIME_TO_PREV,\n",
    "    TRAJ_ID,\n",
    "    TYPE_DASK,\n",
    "    TYPE_PANDAS,\n",
    "    UID,\n",
    ")"
   ]
  },
  {
   "cell_type": "code",
   "execution_count": 3,
   "metadata": {},
   "outputs": [
    {
     "data": {
      "text/html": [
       "<div>\n",
       "<style scoped>\n",
       "    .dataframe tbody tr th:only-of-type {\n",
       "        vertical-align: middle;\n",
       "    }\n",
       "\n",
       "    .dataframe tbody tr th {\n",
       "        vertical-align: top;\n",
       "    }\n",
       "\n",
       "    .dataframe thead th {\n",
       "        text-align: right;\n",
       "    }\n",
       "</style>\n",
       "<table border=\"1\" class=\"dataframe\">\n",
       "  <thead>\n",
       "    <tr style=\"text-align: right;\">\n",
       "      <th></th>\n",
       "      <th>lat</th>\n",
       "      <th>lon</th>\n",
       "      <th>datetime</th>\n",
       "      <th>id</th>\n",
       "    </tr>\n",
       "  </thead>\n",
       "  <tbody>\n",
       "    <tr>\n",
       "      <th>0</th>\n",
       "      <td>39.984093</td>\n",
       "      <td>116.319237</td>\n",
       "      <td>2008-10-23 05:53:05</td>\n",
       "      <td>1</td>\n",
       "    </tr>\n",
       "    <tr>\n",
       "      <th>1</th>\n",
       "      <td>39.984200</td>\n",
       "      <td>116.319321</td>\n",
       "      <td>2008-10-23 05:53:06</td>\n",
       "      <td>1</td>\n",
       "    </tr>\n",
       "    <tr>\n",
       "      <th>2</th>\n",
       "      <td>39.984222</td>\n",
       "      <td>116.319405</td>\n",
       "      <td>2008-10-23 05:53:11</td>\n",
       "      <td>2</td>\n",
       "    </tr>\n",
       "    <tr>\n",
       "      <th>3</th>\n",
       "      <td>39.984222</td>\n",
       "      <td>116.319405</td>\n",
       "      <td>2008-10-23 05:53:11</td>\n",
       "      <td>2</td>\n",
       "    </tr>\n",
       "  </tbody>\n",
       "</table>\n",
       "</div>"
      ],
      "text/plain": [
       "         lat         lon            datetime  id\n",
       "0  39.984093  116.319237 2008-10-23 05:53:05   1\n",
       "1  39.984200  116.319321 2008-10-23 05:53:06   1\n",
       "2  39.984222  116.319405 2008-10-23 05:53:11   2\n",
       "3  39.984222  116.319405 2008-10-23 05:53:11   2"
      ]
     },
     "execution_count": 3,
     "metadata": {},
     "output_type": "execute_result"
    }
   ],
   "source": [
    "list_data = [[39.984094, 116.319236, '2008-10-23 05:53:05', 1],\n",
    "             [39.984198, 116.319322, '2008-10-23 05:53:06', 1],\n",
    "             [39.984224, 116.319402, '2008-10-23 05:53:11', 2], \n",
    "             [39.984224, 116.319402, '2008-10-23 05:53:11', 2]]\n",
    "move_df = MoveDataFrame(data=list_data, latitude=\"lat\", longitude=\"lon\", datetime=\"datetime\", traj_id=\"id\")\n",
    "move_df"
   ]
  },
  {
   "cell_type": "code",
   "execution_count": 4,
   "metadata": {},
   "outputs": [
    {
     "name": "stdout",
     "output_type": "stream",
     "text": [
      "         lat         lon            datetime  id\n",
      "0  39.984093  116.319237 2008-10-23 05:53:05   1\n",
      "1  39.984200  116.319321 2008-10-23 05:53:06   1\n",
      "2  39.984222  116.319405 2008-10-23 05:53:11   1\n",
      "3  39.984211  116.319389 2008-10-23 05:53:16   1\n",
      "4  39.984219  116.319420 2008-10-23 05:53:21   1\n"
     ]
    }
   ],
   "source": [
    "list_data_test =[[39.984093, 116.319237, '2008-10-23 05:53:05', 1],\n",
    "                 [39.984200, 116.319321, '2008-10-23 05:53:06', 1],\n",
    "                 [39.984222, 116.319405, '2008-10-23 05:53:11', 1],\n",
    "                 [39.984211, 116.319389,'2008-10-23 05:53:16', 1],\n",
    "                 [39.984219, 116.319420, '2008-10-23 05:53:21', 1]]\n",
    "df_move = MoveDataFrame(data=list_data_test, latitude=\"lat\", longitude=\"lon\", datetime=\"datetime\", traj_id=\"id\")\n",
    "print(df_move)"
   ]
  },
  {
   "cell_type": "code",
   "execution_count": 8,
   "metadata": {},
   "outputs": [],
   "source": [
    "data = [[39.984094, 116.319236, '2008-10-23 05:53:05', 1],\n",
    "     [39.984198, 116.319322, '2008-10-23 05:53:06', 1],\n",
    "     [39.984224, 116.319402, '2008-10-23 05:53:11', 1], \n",
    "     [39.984224, 116.319402, '2008-10-23 05:53:11', 2]]"
   ]
  },
  {
   "cell_type": "code",
   "execution_count": 6,
   "metadata": {},
   "outputs": [],
   "source": [
    "def test_bbox_split():\n",
    "    bbox = (39.984093, 116.31924, 39.984222, 116.319405)\n",
    "    segmented_bbox = segmentation.bbox_split(bbox, 3)\n",
    "    assert_array_equal(segmented_bbox, [[ 39.984093, 116.31924 ,  39.984222, 116.319295],\n",
    "                                       [ 39.984093, 116.319295,  39.984222, 116.31935 ],\n",
    "                                       [ 39.984093, 116.31935 ,  39.984222, 116.319405]])"
   ]
  },
  {
   "cell_type": "code",
   "execution_count": 7,
   "metadata": {},
   "outputs": [
    {
     "name": "stdout",
     "output_type": "stream",
     "text": [
      "const_lat: 4.300000000038532e-05\n",
      "const_lon: 5.5000000003246896e-05\n"
     ]
    }
   ],
   "source": [
    "test_bbox_split()"
   ]
  },
  {
   "cell_type": "code",
   "execution_count": 8,
   "metadata": {},
   "outputs": [],
   "source": [
    "def test_by_speed():\n",
    "    move = MoveDataFrame(data=data, latitude=\"lat\", longitude=\"lon\", datetime=\"datetime\", traj_id=\"id\")\n",
    "    segmented_move = segmentation.by_speed(move, inplace=False)\n",
    "    assert_array_equal(segmented_move['tid_speed'], [1,1,1])  \n",
    "    assert(segmented_move.len() == 3)\n",
    "    assert(segmented_move.index.name is None)\n",
    "\n",
    "    df_move = MoveDataFrame(data=list_data_test, latitude=\"lat\", longitude=\"lon\", datetime=\"datetime\", traj_id=\"id\")\n",
    "    segmentation.by_speed(df_move, max_speed_between_adj_points=14.0)\n",
    "    assert_array_equal(df_move['tid_speed'], [1,2,2,2,2])\n",
    "    assert(df_move.index.name is None)\n",
    "\n",
    "    "
   ]
  },
  {
   "cell_type": "code",
   "execution_count": 9,
   "metadata": {},
   "outputs": [
    {
     "name": "stdout",
     "output_type": "stream",
     "text": [
      "\n",
      "Split trajectories by max_speed_between_adj_points: 50.0\n",
      "\n",
      "Creating or updating distance, time and speed features in meters by seconds\n",
      "\n",
      "...Sorting by id and datetime to increase performance\n",
      "\n",
      "...Set id as index to a higher peformance\n",
      "\n",
      "...Reset index...\n",
      "\n",
      "..Total Time: 0.014\n",
      "...setting id as index\n"
     ]
    },
    {
     "name": "stderr",
     "output_type": "stream",
     "text": [
      "C:\\Users\\Arina\\Desktop\\PyMove\\pymove\\preprocessing\\segmentation.py:261: RuntimeWarning: invalid value encountered in greater\n",
      "  move_data.at[idx, SPEED_TO_PREV] > max_speed_between_adj_points\n"
     ]
    },
    {
     "name": "stdout",
     "output_type": "stream",
     "text": [
      "(4/4) 100% in 00:00:00.004 - estimated end in 00:00:00.000\n",
      "... Reseting index\n",
      "\n",
      "...Drop Trajectory with a unique GPS point\n",
      "\n",
      "...Object - before drop: 2 - after drop: 1\n",
      "...Shape - before drop: (4, 8) - after drop: (3, 8)\n",
      "\n",
      "Creating or updating distance, time and speed features in meters by seconds\n",
      "\n",
      "...Sorting by id and datetime to increase performance\n",
      "\n",
      "...Set id as index to a higher peformance\n",
      "\n",
      "(3/3) 100% in 00:00:00.007 - estimated end in 00:00:00.000\n",
      "...Reset index...\n",
      "\n",
      "..Total Time: 0.011\n",
      "\n",
      "Split trajectories by max_speed_between_adj_points: 14.0\n",
      "\n",
      "Creating or updating distance, time and speed features in meters by seconds\n",
      "\n",
      "...Sorting by id and datetime to increase performance\n",
      "\n",
      "...Set id as index to a higher peformance\n",
      "\n",
      "(5/5) 100% in 00:00:00.015 - estimated end in 00:00:00.000\n",
      "...Reset index...\n",
      "\n",
      "..Total Time: 0.020\n",
      "...setting id as index\n",
      "(5/5) 100% in 00:00:00.000 - estimated end in 00:00:00.000\n",
      "... Reseting index\n",
      "\n",
      "...No trajs with only one point. (5, 8)\n"
     ]
    }
   ],
   "source": [
    "test_by_speed()"
   ]
  },
  {
   "cell_type": "code",
   "execution_count": 10,
   "metadata": {},
   "outputs": [],
   "source": [
    "def test_by_time():\n",
    "    move = MoveDataFrame(data=data, latitude=\"lat\", longitude=\"lon\", datetime=\"datetime\", traj_id=\"id\")\n",
    "    segmented_move = segmentation.by_time(move, inplace=False)\n",
    "    assert_array_equal(segmented_move['tid_time'], [1,1,1])  \n",
    "    assert(segmented_move.len() == 3)\n",
    "    assert(segmented_move.index.name is None)\n",
    "\n",
    "    df_move = MoveDataFrame(data=list_data_test, latitude=\"lat\", longitude=\"lon\", datetime=\"datetime\", traj_id=\"id\")\n",
    "    segmentation.by_time(df_move, max_time_between_adj_points=4.0)\n",
    "    assert_array_equal(df_move['tid_time'], [1,1,2,3,4])\n",
    "    assert(df_move.index.name is None)\n",
    "    "
   ]
  },
  {
   "cell_type": "code",
   "execution_count": 11,
   "metadata": {},
   "outputs": [
    {
     "name": "stdout",
     "output_type": "stream",
     "text": [
      "\n",
      "Split trajectories by max_time_between_adj_points: 900.0\n",
      "\n",
      "Creating or updating distance, time and speed features in meters by seconds\n",
      "\n",
      "...Sorting by id and datetime to increase performance\n",
      "\n",
      "...Set id as index to a higher peformance\n",
      "\n",
      "...Reset index...\n",
      "\n",
      "..Total Time: 0.017\n",
      "...setting id as index\n"
     ]
    },
    {
     "name": "stderr",
     "output_type": "stream",
     "text": [
      "C:\\Users\\Arina\\Desktop\\PyMove\\pymove\\preprocessing\\segmentation.py:379: RuntimeWarning: invalid value encountered in greater\n",
      "  move_data.at[idx, TIME_TO_PREV] > max_time_between_adj_points\n"
     ]
    },
    {
     "name": "stdout",
     "output_type": "stream",
     "text": [
      "(4/4) 100% in 00:00:00.001 - estimated end in 00:00:00.000\n",
      "... Reseting index\n",
      "\n",
      "...Drop Trajectory with a unique GPS point\n",
      "\n",
      "...Object - before drop: 2 - after drop: 1\n",
      "...Shape - before drop: (4, 8) - after drop: (3, 8)\n",
      "\n",
      "Creating or updating distance, time and speed features in meters by seconds\n",
      "\n",
      "...Sorting by id and datetime to increase performance\n",
      "\n",
      "...Set id as index to a higher peformance\n",
      "\n",
      "(3/3) 100% in 00:00:00.008 - estimated end in 00:00:00.000\n",
      "...Reset index...\n",
      "\n",
      "..Total Time: 0.013\n",
      "\n",
      "Split trajectories by max_time_between_adj_points: 4.0\n",
      "\n",
      "Creating or updating distance, time and speed features in meters by seconds\n",
      "\n",
      "...Sorting by id and datetime to increase performance\n",
      "\n",
      "...Set id as index to a higher peformance\n",
      "\n",
      "(5/5) 100% in 00:00:00.009 - estimated end in 00:00:00.000\n",
      "...Reset index...\n",
      "\n",
      "..Total Time: 0.015\n",
      "...setting id as index\n",
      "(5/5) 100% in 00:00:00.000 - estimated end in 00:00:00.000\n",
      "... Reseting index\n",
      "\n",
      "...No trajs with only one point. (5, 8)\n"
     ]
    }
   ],
   "source": [
    "test_by_time()"
   ]
  },
  {
   "cell_type": "code",
   "execution_count": 21,
   "metadata": {},
   "outputs": [],
   "source": [
    "def test_by_dist_time_speed():\n",
    "    move = MoveDataFrame(data=data, latitude=\"lat\", longitude=\"lon\", datetime=\"datetime\", traj_id=\"id\")\n",
    "    segmented_move = segmentation.by_dist_time_speed(move, inplace=False)\n",
    "    assert_array_equal(segmented_move['tid_part'], [1,1,1])  \n",
    "    assert(segmented_move.len() == 3)\n",
    "    assert(segmented_move.index.name is None)\n",
    "\n",
    "    df_move = MoveDataFrame(data=list_data, latitude=\"lat\", longitude=\"lon\", datetime=\"datetime\", traj_id=\"id\")\n",
    "    segmentation.by_dist_time_speed(df_move)\n",
    "    assert_array_equal(df_move['tid_part'], [1,1,2,2])\n",
    "    assert(df_move.index.name is None)\n",
    "    "
   ]
  },
  {
   "cell_type": "code",
   "execution_count": 12,
   "metadata": {},
   "outputs": [],
   "source": [
    "def test_by_max_dist():\n",
    "    move = MoveDataFrame(data=list_data_test, latitude=\"lat\", longitude=\"lon\", datetime=\"datetime\", traj_id=\"id\")\n",
    "    segmentation.by_max_dist(move, max_dist_between_adj_points=5.0)\n",
    "    assert_array_equal(move['tid_dist'], [1,2,3,3,3]) \n",
    "    assert(move.index.name is None)"
   ]
  },
  {
   "cell_type": "code",
   "execution_count": 13,
   "metadata": {},
   "outputs": [
    {
     "name": "stdout",
     "output_type": "stream",
     "text": [
      "Split trajectories by max distance between adjacent points: 5.0\n",
      "\n",
      "Creating or updating distance features in meters...\n",
      "\n",
      "...Sorting by id and datetime to increase performance\n",
      "\n",
      "...Set id as index to increase attribution performance\n",
      "\n",
      "(5/5) 100% in 00:00:00.001 - estimated end in 00:00:00.000\n",
      "...Reset index\n",
      "\n",
      "..Total Time: 0.004984617233276367\n",
      "...setting id as index\n"
     ]
    },
    {
     "name": "stderr",
     "output_type": "stream",
     "text": [
      "C:\\Users\\Arina\\Desktop\\PyMove\\pymove\\preprocessing\\segmentation.py:492: RuntimeWarning: invalid value encountered in greater\n",
      "  move_data.at[idx, DIST_TO_PREV] > max_dist_between_adj_points\n"
     ]
    },
    {
     "name": "stdout",
     "output_type": "stream",
     "text": [
      "(5/5) 100% in 00:00:00.002 - estimated end in 00:00:00.000\n",
      "... Reseting index\n",
      "\n",
      "Total Time: 0.01 seconds\n",
      "------------------------------------------\n",
      "\n"
     ]
    }
   ],
   "source": [
    "test_by_max_dist()"
   ]
  },
  {
   "cell_type": "code",
   "execution_count": 14,
   "metadata": {},
   "outputs": [],
   "source": [
    "def test_by_max_time():\n",
    "    move = MoveDataFrame(data=list_data_test, latitude=\"lat\", longitude=\"lon\", datetime=\"datetime\", traj_id=\"id\")\n",
    "    segmentation.by_max_time(move, max_time_between_adj_points=1.0)\n",
    "    assert_array_equal(move['tid_time'], [1,1,2,3,4]) \n",
    "    assert(move.index.name is None)"
   ]
  },
  {
   "cell_type": "code",
   "execution_count": 15,
   "metadata": {},
   "outputs": [
    {
     "name": "stdout",
     "output_type": "stream",
     "text": [
      "Split trajectories by max_time_between_adj_points: 1.0\n",
      "\n",
      "Creating or updating distance, time and speed features in meters by seconds\n",
      "\n",
      "...Sorting by id and datetime to increase performance\n",
      "\n",
      "...Set id as index to a higher peformance\n",
      "\n",
      "(5/5) 100% in 00:00:00.012 - estimated end in 00:00:00.000\n",
      "...Reset index...\n",
      "\n",
      "..Total Time: 0.018\n",
      "...setting id as index\n"
     ]
    },
    {
     "name": "stderr",
     "output_type": "stream",
     "text": [
      "C:\\Users\\Arina\\Desktop\\PyMove\\pymove\\preprocessing\\segmentation.py:584: RuntimeWarning: invalid value encountered in greater\n",
      "  move_data.at[idx, TIME_TO_PREV] > max_time_between_adj_points\n"
     ]
    },
    {
     "name": "stdout",
     "output_type": "stream",
     "text": [
      "(5/5) 100% in 00:00:00.001 - estimated end in 00:00:00.000\n",
      "... Reseting index\n",
      "\n",
      "Total Time: 0.01 seconds\n",
      "------------------------------------------\n",
      "\n"
     ]
    }
   ],
   "source": [
    "test_by_max_time()"
   ]
  },
  {
   "cell_type": "code",
   "execution_count": 16,
   "metadata": {},
   "outputs": [],
   "source": [
    "def test_by_max_speed():\n",
    "    move = MoveDataFrame(data=list_data_test, latitude=\"lat\", longitude=\"lon\", datetime=\"datetime\", traj_id=\"id\")\n",
    "    segmentation.by_max_speed(move, max_speed_between_adj_points=1.0)\n",
    "    assert_array_equal(move['tid_speed'], [1,2,3,3,3]) \n",
    "    assert(move.index.name is None)"
   ]
  },
  {
   "cell_type": "code",
   "execution_count": 17,
   "metadata": {},
   "outputs": [
    {
     "name": "stdout",
     "output_type": "stream",
     "text": [
      "Split trajectories by max_speed_between_adj_points: 1.0\n",
      "\n",
      "Creating or updating distance, time and speed features in meters by seconds\n",
      "\n",
      "...Sorting by id and datetime to increase performance\n",
      "\n",
      "...Set id as index to a higher peformance\n",
      "\n",
      "(5/5) 100% in 00:00:00.012 - estimated end in 00:00:00.000\n",
      "...Reset index...\n",
      "\n",
      "..Total Time: 0.015\n",
      "...setting id as index\n"
     ]
    },
    {
     "name": "stderr",
     "output_type": "stream",
     "text": [
      "C:\\Users\\Arina\\Desktop\\PyMove\\pymove\\preprocessing\\segmentation.py:688: RuntimeWarning: invalid value encountered in greater\n",
      "  move_data.at[idx, SPEED_TO_PREV] > max_speed_between_adj_points\n"
     ]
    },
    {
     "name": "stdout",
     "output_type": "stream",
     "text": [
      "(5/5) 100% in 00:00:00.001 - estimated end in 00:00:00.000\n",
      "... Reseting index\n",
      "\n",
      "Total Time: 0.01 seconds\n",
      "------------------------------------------\n",
      "\n"
     ]
    }
   ],
   "source": [
    "test_by_max_speed()"
   ]
  },
  {
   "cell_type": "code",
   "execution_count": 22,
   "metadata": {},
   "outputs": [
    {
     "name": "stdout",
     "output_type": "stream",
     "text": [
      "\n",
      "Split trajectories\n",
      "...max_time_between_adj_points: 7200\n",
      "...max_dist_between_adj_points: 3000\n",
      "...max_speed: 50.0\n",
      "\n",
      "Creating or updating distance, time and speed features in meters by seconds\n",
      "\n",
      "...Sorting by id and datetime to increase performance\n",
      "\n",
      "...Set id as index to a higher peformance\n",
      "\n",
      "...Reset index...\n",
      "\n",
      "..Total Time: 0.010\n",
      "...setting id as index\n",
      "(4/4) 100% in 00:00:00.000 - estimated end in 00:00:00.000\n",
      "... Reseting index\n",
      "\n",
      "...Drop Trajectory with a unique GPS point\n",
      "\n",
      "...Object - before drop: 2 - after drop: 1\n",
      "...Shape - before drop: (4, 8) - after drop: (3, 8)\n",
      "\n",
      "Creating or updating distance, time and speed features in meters by seconds\n",
      "\n",
      "...Sorting by id and datetime to increase performance\n",
      "\n",
      "...Set id as index to a higher peformance\n",
      "\n",
      "(3/3) 100% in 00:00:00.007 - estimated end in 00:00:00.000\n",
      "...Reset index...\n",
      "\n",
      "..Total Time: 0.012\n",
      "\n",
      "Split trajectories\n",
      "...max_time_between_adj_points: 7200\n",
      "...max_dist_between_adj_points: 3000\n",
      "...max_speed: 50.0\n",
      "\n",
      "Creating or updating distance, time and speed features in meters by seconds\n",
      "\n",
      "...Sorting by id and datetime to increase performance\n",
      "\n",
      "...Set id as index to a higher peformance\n",
      "\n",
      "(4/4) 100% in 00:00:00.005 - estimated end in 00:00:00.000\n",
      "...Reset index...\n",
      "\n",
      "..Total Time: 0.011\n",
      "...setting id as index\n",
      "(4/4) 100% in 00:00:00.000 - estimated end in 00:00:00.000\n",
      "... Reseting index\n",
      "\n",
      "...No trajs with only one point. (4, 8)\n"
     ]
    }
   ],
   "source": [
    "test_by_dist_time_speed()"
   ]
  },
  {
   "cell_type": "code",
   "execution_count": null,
   "metadata": {},
   "outputs": [],
   "source": []
  },
  {
   "cell_type": "code",
   "execution_count": null,
   "metadata": {},
   "outputs": [],
   "source": []
  },
  {
   "cell_type": "code",
   "execution_count": null,
   "metadata": {},
   "outputs": [],
   "source": []
  },
  {
   "cell_type": "code",
   "execution_count": null,
   "metadata": {},
   "outputs": [],
   "source": []
  },
  {
   "cell_type": "code",
   "execution_count": null,
   "metadata": {},
   "outputs": [],
   "source": []
  },
  {
   "cell_type": "code",
   "execution_count": null,
   "metadata": {},
   "outputs": [],
   "source": []
  },
  {
   "cell_type": "code",
   "execution_count": null,
   "metadata": {},
   "outputs": [],
   "source": []
  },
  {
   "cell_type": "code",
   "execution_count": null,
   "metadata": {},
   "outputs": [],
   "source": []
  }
 ],
 "metadata": {
  "kernelspec": {
   "display_name": "Python 3",
   "language": "python",
   "name": "python3"
  },
  "language_info": {
   "codemirror_mode": {
    "name": "ipython",
    "version": 3
   },
   "file_extension": ".py",
   "mimetype": "text/x-python",
   "name": "python",
   "nbconvert_exporter": "python",
   "pygments_lexer": "ipython3",
   "version": "3.7.1"
  }
 },
 "nbformat": 4,
 "nbformat_minor": 2
}
