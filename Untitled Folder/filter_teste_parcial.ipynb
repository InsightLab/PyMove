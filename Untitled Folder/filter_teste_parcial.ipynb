{
 "cells": [
  {
   "cell_type": "code",
   "execution_count": 1,
   "metadata": {},
   "outputs": [],
   "source": [
    "from pymove import filters\n",
    "from pymove import MoveDataFrame\n",
    "import numpy as np\n",
    "from numpy.testing import assert_array_equal\n",
    "import pandas as pd"
   ]
  },
  {
   "cell_type": "code",
   "execution_count": 2,
   "metadata": {},
   "outputs": [],
   "source": [
    "from pymove.utils.constants import (\n",
    "    DATETIME,\n",
    "    DAY,\n",
    "    DIST_PREV_TO_NEXT,\n",
    "    DIST_TO_NEXT,\n",
    "    DIST_TO_PREV,\n",
    "    HOUR_COS,\n",
    "    HOUR_SIN,\n",
    "    LATITUDE,\n",
    "    LONGITUDE,\n",
    "    PERIOD,\n",
    "    SPEED_TO_PREV,\n",
    "    TID,\n",
    "    TIME_TO_PREV,\n",
    "    TRAJ_ID,\n",
    "    TYPE_DASK,\n",
    "    TYPE_PANDAS,\n",
    "    UID,\n",
    ")"
   ]
  },
  {
   "cell_type": "code",
   "execution_count": 3,
   "metadata": {},
   "outputs": [
    {
     "data": {
      "text/html": [
       "<div>\n",
       "<style scoped>\n",
       "    .dataframe tbody tr th:only-of-type {\n",
       "        vertical-align: middle;\n",
       "    }\n",
       "\n",
       "    .dataframe tbody tr th {\n",
       "        vertical-align: top;\n",
       "    }\n",
       "\n",
       "    .dataframe thead th {\n",
       "        text-align: right;\n",
       "    }\n",
       "</style>\n",
       "<table border=\"1\" class=\"dataframe\">\n",
       "  <thead>\n",
       "    <tr style=\"text-align: right;\">\n",
       "      <th></th>\n",
       "      <th>lat</th>\n",
       "      <th>lon</th>\n",
       "      <th>datetime</th>\n",
       "      <th>id</th>\n",
       "    </tr>\n",
       "  </thead>\n",
       "  <tbody>\n",
       "    <tr>\n",
       "      <th>0</th>\n",
       "      <td>39.984093</td>\n",
       "      <td>116.319237</td>\n",
       "      <td>2008-10-23 05:53:05</td>\n",
       "      <td>1</td>\n",
       "    </tr>\n",
       "    <tr>\n",
       "      <th>1</th>\n",
       "      <td>39.984200</td>\n",
       "      <td>116.319321</td>\n",
       "      <td>2008-10-23 05:53:06</td>\n",
       "      <td>1</td>\n",
       "    </tr>\n",
       "    <tr>\n",
       "      <th>2</th>\n",
       "      <td>39.984222</td>\n",
       "      <td>116.319405</td>\n",
       "      <td>2008-10-23 05:53:11</td>\n",
       "      <td>2</td>\n",
       "    </tr>\n",
       "    <tr>\n",
       "      <th>3</th>\n",
       "      <td>39.984222</td>\n",
       "      <td>116.319405</td>\n",
       "      <td>2008-10-23 05:53:11</td>\n",
       "      <td>2</td>\n",
       "    </tr>\n",
       "  </tbody>\n",
       "</table>\n",
       "</div>"
      ],
      "text/plain": [
       "         lat         lon            datetime  id\n",
       "0  39.984093  116.319237 2008-10-23 05:53:05   1\n",
       "1  39.984200  116.319321 2008-10-23 05:53:06   1\n",
       "2  39.984222  116.319405 2008-10-23 05:53:11   2\n",
       "3  39.984222  116.319405 2008-10-23 05:53:11   2"
      ]
     },
     "execution_count": 3,
     "metadata": {},
     "output_type": "execute_result"
    }
   ],
   "source": [
    "list_data = [[39.984094, 116.319236, '2008-10-23 05:53:05', 1],\n",
    "             [39.984198, 116.319322, '2008-10-23 05:53:06', 1],\n",
    "             [39.984224, 116.319402, '2008-10-23 05:53:11', 2], \n",
    "             [39.984224, 116.319402, '2008-10-23 05:53:11', 2]]\n",
    "move_df = MoveDataFrame(data=list_data, latitude=\"lat\", longitude=\"lon\", datetime=\"datetime\", traj_id=\"id\")\n",
    "move_df"
   ]
  },
  {
   "cell_type": "code",
   "execution_count": 4,
   "metadata": {},
   "outputs": [],
   "source": [
    "list_data_test =[[39.984093, 116.319237, '2008-10-23 05:53:05', 1],\n",
    "                 [39.984200, 116.319321, '2008-10-23 05:53:06', 1],\n",
    "                 [39.984222, 116.319405, '2008-10-23 05:53:11', 1],\n",
    "                 [39.984211, 116.319389,'2008-10-23 05:53:16', 1],\n",
    "                 [39.984219, 116.319420, '2008-10-23 05:53:21', 1]]"
   ]
  },
  {
   "cell_type": "code",
   "execution_count": 5,
   "metadata": {},
   "outputs": [],
   "source": [
    "def test_by_bbox():\n",
    "    move_df_bbox = MoveDataFrame(data=list_data, latitude=\"lat\", longitude=\"lon\", datetime=\"datetime\", traj_id=\"id\")\n",
    "    bbox = (39.984193, 116.31924, 39.984222, 116.319405)\n",
    "    \n",
    "    filter_values = filters.by_bbox(move_df_bbox, bbox)\n",
    "    assert_array_equal(filter_values, [[39.98419952392578, 116.31932067871094,\n",
    "                                        pd.Timestamp('2008-10-23 05:53:06'), 1],\n",
    "                                       [39.984222412109375, 116.31940460205078,\n",
    "                                        pd.Timestamp('2008-10-23 05:53:11'), 2],\n",
    "                                       [39.984222412109375, 116.31940460205078,\n",
    "                                        pd.Timestamp('2008-10-23 05:53:11'), 2]])\n",
    "    assert move_df_bbox.len() == 4\n",
    "    filter_values = filters.by_bbox(move_df_bbox, bbox, filter_out=True)\n",
    "    assert_array_equal(filter_values, [[39.984092712402344, 116.3192367553711,\n",
    "                                        pd.Timestamp('2008-10-23 05:53:05'), 1]])\n",
    "    assert move_df_bbox.len() == 4\n",
    "    filters.by_bbox(move_df_bbox, bbox, inplace=True)\n",
    "    assert_array_equal(move_df_bbox, [[39.98419952392578, 116.31932067871094,\n",
    "                                        pd.Timestamp('2008-10-23 05:53:06'), 1],\n",
    "                                       [39.984222412109375, 116.31940460205078,\n",
    "                                        pd.Timestamp('2008-10-23 05:53:11'), 2],\n",
    "                                       [39.984222412109375, 116.31940460205078,\n",
    "                                        pd.Timestamp('2008-10-23 05:53:11'), 2]])\n",
    "    assert move_df_bbox.len() == 3"
   ]
  },
  {
   "cell_type": "code",
   "execution_count": 6,
   "metadata": {},
   "outputs": [],
   "source": [
    "test_by_bbox()"
   ]
  },
  {
   "cell_type": "code",
   "execution_count": 52,
   "metadata": {},
   "outputs": [],
   "source": [
    "def test_by_datetime():\n",
    "    filter_values_start = filters.by_datetime(move_df, start_datetime ='2008-10-23 05:53:06')\n",
    "    assert_array_equal(filter_values_start, [[39.98419952392578, 116.31932067871094,\n",
    "                                              pd.Timestamp('2008-10-23 05:53:06'), 1],\n",
    "                                             [39.984222412109375, 116.31940460205078,\n",
    "                                              pd.Timestamp('2008-10-23 05:53:11'), 2],\n",
    "                                             [39.984222412109375, 116.31940460205078,\n",
    "                                              pd.Timestamp('2008-10-23 05:53:11'), 2]])\n",
    "    \n",
    "    filter_values_end = filters.by_datetime(move_df, end_datetime ='2008-10-23 05:53:05')\n",
    "    assert_array_equal(filter_values_end, [[39.984092712402344, 116.3192367553711,\n",
    "                                            pd.Timestamp('2008-10-23 05:53:05'), 1]])\n",
    "    \n",
    "    filter_values = filters.by_datetime(move_df, start_datetime = '2008-10-23 05:53:04', end_datetime ='2008-10-23 05:53:06')\n",
    "    assert_array_equal(filter_values, [[39.984092712402344, 116.3192367553711,\n",
    "                                        pd.Timestamp('2008-10-23 05:53:05'), 1],\n",
    "                                       [39.98419952392578, 116.31932067871094,\n",
    "                                        pd.Timestamp('2008-10-23 05:53:06'), 1]])\n",
    "    \n",
    "    filter_out_values =filters.by_datetime(move_df, start_datetime = '2008-10-23 05:53:06', end_datetime ='2008-10-23 05:53:11', filter_out=True)\n",
    "    print(move_df)\n",
    "\n",
    "    assert_array_equal(filter_out_values, [[39.984092712402344, 116.3192367553711,\n",
    "                                            pd.Timestamp('2008-10-23 05:53:05'), 1]])"
   ]
  },
  {
   "cell_type": "code",
   "execution_count": 53,
   "metadata": {},
   "outputs": [
    {
     "name": "stdout",
     "output_type": "stream",
     "text": [
      "         lat         lon            datetime  id\n",
      "0  39.984093  116.319237 2008-10-23 05:53:05   1\n",
      "1  39.984200  116.319321 2008-10-23 05:53:06   1\n",
      "2  39.984222  116.319405 2008-10-23 05:53:11   2\n",
      "3  39.984222  116.319405 2008-10-23 05:53:11   2\n"
     ]
    }
   ],
   "source": [
    "test_by_datetime()"
   ]
  },
  {
   "cell_type": "code",
   "execution_count": 9,
   "metadata": {},
   "outputs": [],
   "source": [
    "def test_by_label():\n",
    "    filter_values = filters.by_label(move_df, value = 1, label_name = 'id')\n",
    "    assert_array_equal(filter_values, [[39.984092712402344, 116.3192367553711,\n",
    "                                        pd.Timestamp('2008-10-23 05:53:05'), 1],\n",
    "                                       [39.98419952392578, 116.31932067871094,\n",
    "                                        pd.Timestamp('2008-10-23 05:53:06'), 1]])\n",
    "    \n",
    "    filter_out_values = filters.by_label(move_df, value = 1, label_name = 'id', filter_out=True)\n",
    "    assert_array_equal(filter_out_values,[[39.984222412109375, 116.31940460205078,\n",
    "                                            pd.Timestamp('2008-10-23 05:53:11'), 2],\n",
    "                                           [39.984222412109375, 116.31940460205078,\n",
    "                                            pd.Timestamp('2008-10-23 05:53:11'), 2]] )\n",
    "    "
   ]
  },
  {
   "cell_type": "code",
   "execution_count": 10,
   "metadata": {},
   "outputs": [],
   "source": [
    "test_by_label()"
   ]
  },
  {
   "cell_type": "code",
   "execution_count": 11,
   "metadata": {},
   "outputs": [],
   "source": [
    "def test_by_id():\n",
    "    filter_values = filters.by_id(move_df, 1)\n",
    "    assert_array_equal(filter_values, [[39.984092712402344, 116.3192367553711,\n",
    "                                        pd.Timestamp('2008-10-23 05:53:05'), 1],\n",
    "                                       [39.98419952392578, 116.31932067871094,\n",
    "                                        pd.Timestamp('2008-10-23 05:53:06'), 1]])\n"
   ]
  },
  {
   "cell_type": "code",
   "execution_count": 12,
   "metadata": {},
   "outputs": [],
   "source": [
    "test_by_id()"
   ]
  },
  {
   "cell_type": "code",
   "execution_count": 13,
   "metadata": {},
   "outputs": [],
   "source": [
    "def test_by_tid():\n",
    "    filter_values = filters.by_tid(move_df, '12008102305')\n",
    "    assert_array_equal(filter_values, [[39.984092712402344, 116.3192367553711,\n",
    "                                        pd.Timestamp('2008-10-23 05:53:05'), 1, '12008102305'],\n",
    "                                       [39.98419952392578, 116.31932067871094,\n",
    "                                        pd.Timestamp('2008-10-23 05:53:06'), 1, '12008102305']])\n",
    "    move_df.drop('tid', axis=1, inplace=True)"
   ]
  },
  {
   "cell_type": "code",
   "execution_count": 14,
   "metadata": {},
   "outputs": [
    {
     "name": "stdout",
     "output_type": "stream",
     "text": [
      "\n",
      "Creating or updating tid feature...\n",
      "\n",
      "...Sorting by id and datetime to increase performance\n",
      "\n",
      "\n",
      "...tid feature was created...\n",
      "\n"
     ]
    }
   ],
   "source": [
    "test_by_tid()"
   ]
  },
  {
   "cell_type": "code",
   "execution_count": 15,
   "metadata": {},
   "outputs": [
    {
     "data": {
      "text/html": [
       "<div>\n",
       "<style scoped>\n",
       "    .dataframe tbody tr th:only-of-type {\n",
       "        vertical-align: middle;\n",
       "    }\n",
       "\n",
       "    .dataframe tbody tr th {\n",
       "        vertical-align: top;\n",
       "    }\n",
       "\n",
       "    .dataframe thead th {\n",
       "        text-align: right;\n",
       "    }\n",
       "</style>\n",
       "<table border=\"1\" class=\"dataframe\">\n",
       "  <thead>\n",
       "    <tr style=\"text-align: right;\">\n",
       "      <th></th>\n",
       "      <th>lat</th>\n",
       "      <th>lon</th>\n",
       "      <th>datetime</th>\n",
       "      <th>id</th>\n",
       "    </tr>\n",
       "  </thead>\n",
       "  <tbody>\n",
       "    <tr>\n",
       "      <th>0</th>\n",
       "      <td>39.984093</td>\n",
       "      <td>116.319237</td>\n",
       "      <td>2008-10-23 05:53:05</td>\n",
       "      <td>1</td>\n",
       "    </tr>\n",
       "    <tr>\n",
       "      <th>1</th>\n",
       "      <td>39.984200</td>\n",
       "      <td>116.319321</td>\n",
       "      <td>2008-10-23 05:53:06</td>\n",
       "      <td>1</td>\n",
       "    </tr>\n",
       "    <tr>\n",
       "      <th>2</th>\n",
       "      <td>39.984222</td>\n",
       "      <td>116.319405</td>\n",
       "      <td>2008-10-23 05:53:11</td>\n",
       "      <td>1</td>\n",
       "    </tr>\n",
       "    <tr>\n",
       "      <th>3</th>\n",
       "      <td>39.984211</td>\n",
       "      <td>116.319389</td>\n",
       "      <td>2008-10-23 05:53:16</td>\n",
       "      <td>1</td>\n",
       "    </tr>\n",
       "    <tr>\n",
       "      <th>4</th>\n",
       "      <td>39.984219</td>\n",
       "      <td>116.319420</td>\n",
       "      <td>2008-10-23 05:53:21</td>\n",
       "      <td>1</td>\n",
       "    </tr>\n",
       "  </tbody>\n",
       "</table>\n",
       "</div>"
      ],
      "text/plain": [
       "         lat         lon            datetime  id\n",
       "0  39.984093  116.319237 2008-10-23 05:53:05   1\n",
       "1  39.984200  116.319321 2008-10-23 05:53:06   1\n",
       "2  39.984222  116.319405 2008-10-23 05:53:11   1\n",
       "3  39.984211  116.319389 2008-10-23 05:53:16   1\n",
       "4  39.984219  116.319420 2008-10-23 05:53:21   1"
      ]
     },
     "execution_count": 15,
     "metadata": {},
     "output_type": "execute_result"
    }
   ],
   "source": [
    "df = pd.read_csv('examples/geolife_sample.csv', parse_dates=['datetime'], nrows=5)\n",
    "df_move = MoveDataFrame(data=df, latitude=\"latp\", longitude=\"lon\", datetime=\"datetime\")\n",
    "df_move"
   ]
  },
  {
   "cell_type": "code",
   "execution_count": 16,
   "metadata": {},
   "outputs": [],
   "source": [
    "def test_outliers():\n",
    "    df_move = MoveDataFrame(data=list_data_test, latitude=\"latp\", longitude=\"lon\", datetime=\"datetime\")\n",
    "    outliers = filters.outliers(move_data=df_move, jump_coefficient=1)\n",
    "    assert_array_equal(outliers, [[1, 39.98421096801758, 116.31938934326172,\n",
    "                                   pd.Timestamp('2008-10-23 05:53:16'), 1.6286216204832726,\n",
    "                                   2.4484945931533275, 1.2242472060393084]]) \n",
    "    not_outliers = filters.outliers(move_data=df_move, jump_coefficient=1, filter_out=True)\n",
    "    assert_array_equal(not_outliers.values.astype(str), [['1', '39.984092712402344', '116.3192367553711',\n",
    "                                        '2008-10-23 05:53:05', 'nan', '14.015318782639952', 'nan'],\n",
    "                                       ['1', '39.98419952392578', '116.31932067871094',\n",
    "                                        '2008-10-23 05:53:06', '14.015318782639952',\n",
    "                                        '7.345483960534693', '20.082061827224607'],\n",
    "                                       ['1', '39.984222412109375', '116.31940460205078',\n",
    "                                        '2008-10-23 05:53:11', '7.345483960534693',\n",
    "                                        '1.6286216204832726', '5.929779944096936'],\n",
    "                                       ['1', '39.98421859741211', '116.31941986083984',\n",
    "                                        '2008-10-23 05:53:21', '2.4484945931533275', 'nan', 'nan']])\n",
    "    df_move.set_index('id', inplace=True)\n",
    "    outliers = filters.outliers(move_data=df_move, jump_coefficient=1)\n",
    "    assert(move_df.index.name is None )"
   ]
  },
  {
   "cell_type": "code",
   "execution_count": 17,
   "metadata": {},
   "outputs": [
    {
     "name": "stdout",
     "output_type": "stream",
     "text": [
      "\n",
      "Creating or updating distance features in meters...\n",
      "\n",
      "...Sorting by id and datetime to increase performance\n",
      "\n",
      "...Set id as index to increase attribution performance\n",
      "\n",
      "(5/5) 100% in 00:00:00.001 - estimated end in 00:00:00.000\n",
      "...Reset index\n",
      "\n",
      "..Total Time: 0.004987001419067383\n",
      "...Filtring jumps \n",
      "\n",
      "...Filtring jumps \n",
      "\n",
      "...Reset index for filtering\n",
      "\n",
      "...Filtring jumps \n",
      "\n"
     ]
    }
   ],
   "source": [
    "test_outliers()"
   ]
  },
  {
   "cell_type": "code",
   "execution_count": 65,
   "metadata": {},
   "outputs": [],
   "source": [
    "def test_clean_duplicates():\n",
    "    df_move = MoveDataFrame(data=list_data, latitude=\"lat\", longitude=\"lon\", datetime=\"datetime\", traj_id=\"id\")\n",
    "    duplicates = filters.clean_duplicates(df_move)\n",
    "    assert_array_equal(duplicates, [[39.984092712402344, 116.3192367553711,\n",
    "                                 pd.Timestamp('2008-10-23 05:53:05'), 1],\n",
    "                                [39.98419952392578, 116.31932067871094,\n",
    "                                 pd.Timestamp('2008-10-23 05:53:06'), 1],\n",
    "                                [39.984222412109375, 116.31940460205078,\n",
    "                                 pd.Timestamp('2008-10-23 05:53:11'), 2]])    \n",
    "    duplicates = filters.clean_duplicates(duplicates, subset='id')\n",
    "    assert_array_equal(duplicates, [[39.984092712402344, 116.3192367553711,\n",
    "                                 pd.Timestamp('2008-10-23 05:53:05'), 1],\n",
    "                                [39.984222412109375, 116.31940460205078,\n",
    "                                 pd.Timestamp('2008-10-23 05:53:11'), 2]]) \n",
    "    indexes = filters.clean_duplicates(df_move, subset='id', inplace = True)\n",
    "    assert_array_equal(df_move, [[39.984092712402344, 116.3192367553711,\n",
    "                                pd.Timestamp('2008-10-23 05:53:05'), 1],\n",
    "                               [39.984222412109375, 116.31940460205078,\n",
    "                                pd.Timestamp('2008-10-23 05:53:11'), 2]])\n",
    "    assert(indexes is None)     "
   ]
  },
  {
   "cell_type": "code",
   "execution_count": 66,
   "metadata": {},
   "outputs": [
    {
     "name": "stdout",
     "output_type": "stream",
     "text": [
      "\n",
      "Remove rows duplicates by subset\n",
      "...Sorting by id and datetime to increase performance\n",
      "\n",
      "...There are 1 GPS points duplicated\n",
      "\n",
      "Remove rows duplicates by subset\n",
      "...Sorting by id and datetime to increase performance\n",
      "\n",
      "...There are 1 GPS points duplicated\n",
      "\n",
      "Remove rows duplicates by subset\n",
      "...Sorting by id and datetime to increase performance\n",
      "\n",
      "...There are 2 GPS points duplicated\n"
     ]
    }
   ],
   "source": [
    "test_clean_duplicates()"
   ]
  },
  {
   "cell_type": "code",
   "execution_count": 20,
   "metadata": {},
   "outputs": [],
   "source": [
    "#def test_"
   ]
  },
  {
   "cell_type": "code",
   "execution_count": 21,
   "metadata": {},
   "outputs": [],
   "source": [
    "#test_"
   ]
  },
  {
   "cell_type": "code",
   "execution_count": 22,
   "metadata": {},
   "outputs": [],
   "source": [
    "#filters.clean_consecutive_duplicates(move_data=move_df, subset='id')"
   ]
  },
  {
   "cell_type": "code",
   "execution_count": 69,
   "metadata": {},
   "outputs": [],
   "source": [
    "def test_clean_nan_value():\n",
    "    move = MoveDataFrame(data=list_data, latitude=\"lat\", longitude=\"lon\", datetime=\"datetime\", traj_id=\"id\")\n",
    "    move.loc[3, 'id'] = np.nan\n",
    "    assert(move.len() == 4)\n",
    "    filters.clean_nan_values(move, inplace=True)\n",
    "    print(move)\n",
    "    assert(move.len() == 3)"
   ]
  },
  {
   "cell_type": "code",
   "execution_count": 70,
   "metadata": {},
   "outputs": [
    {
     "name": "stdout",
     "output_type": "stream",
     "text": [
      "         lat         lon            datetime   id\n",
      "0  39.984093  116.319237 2008-10-23 05:53:05  1.0\n",
      "1  39.984200  116.319321 2008-10-23 05:53:06  1.0\n",
      "2  39.984222  116.319405 2008-10-23 05:53:11  2.0\n"
     ]
    }
   ],
   "source": [
    "test_clean_nan_value()"
   ]
  },
  {
   "cell_type": "code",
   "execution_count": 73,
   "metadata": {},
   "outputs": [],
   "source": [
    "def test_clean_gps_jumps_by_distance():\n",
    "    df_move = MoveDataFrame(data=list_data_test, latitude=\"latp\", longitude=\"lon\", datetime=\"datetime\")\n",
    "    filters.clean_gps_jumps_by_distance(df_move, jump_coefficient=1, threshold=0.5)\n",
    "    print(df_move)\n",
    "    assert_array_equal(df_move.values.astype(str), [['1', '39.984092712402344', '116.3192367553711',\n",
    "                                                    '2008-10-23 05:53:05', 'nan', '14.015318782639952', 'nan'],\n",
    "                                                   ['1', '39.98419952392578', '116.31932067871094',\n",
    "                                                    '2008-10-23 05:53:06', '14.015318782639952',\n",
    "                                                    '7.345483960534693', '20.082061827224607'],\n",
    "                                                   ['1', '39.984222412109375', '116.31940460205078',\n",
    "                                                    '2008-10-23 05:53:11', '7.345483960534693',\n",
    "                                                    '1.6286216204832726', '5.929779944096936'],\n",
    "                                                   ['1', '39.98421859741211', '116.31941986083984',\n",
    "                                                    '2008-10-23 05:53:21', '2.4484945931533275', 'nan', 'nan']])"
   ]
  },
  {
   "cell_type": "code",
   "execution_count": 74,
   "metadata": {},
   "outputs": [
    {
     "name": "stdout",
     "output_type": "stream",
     "text": [
      "\n",
      "Creating or updating distance features in meters...\n",
      "\n",
      "...Sorting by id and datetime to increase performance\n",
      "\n",
      "...Set id as index to increase attribution performance\n",
      "\n"
     ]
    },
    {
     "name": "stderr",
     "output_type": "stream",
     "text": [
      "Generating distance, time and speed features: 100%|████████████████████████████████████| 1/1 [00:00<00:00, 1000.55it/s]\n"
     ]
    },
    {
     "name": "stdout",
     "output_type": "stream",
     "text": [
      "...Reset index\n",
      "\n",
      "..Total Time: 0.023308992385864258\n",
      "\n",
      "Cleaning gps jumps by distance to jump_coefficient 1...\n",
      "\n",
      "...Filtering jumps \n",
      "\n",
      "...Dropping 1 rows of gps points\n",
      "\n",
      "...Rows before: 5, Rows after:4, Sum drop:1\n",
      "\n",
      "...Filtering jumps \n",
      "\n",
      "1 GPS points were dropped\n",
      "         lat         lon            datetime  id\n",
      "0  39.984093  116.319237 2008-10-23 05:53:05   1\n",
      "1  39.984200  116.319321 2008-10-23 05:53:06   1\n",
      "2  39.984222  116.319405 2008-10-23 05:53:11   1\n",
      "3  39.984211  116.319389 2008-10-23 05:53:16   1\n",
      "4  39.984219  116.319420 2008-10-23 05:53:21   1\n"
     ]
    },
    {
     "ename": "AssertionError",
     "evalue": "\nArrays are not equal\n\n(shapes (5, 4), (4, 7) mismatch)\n x: array([['39.984092712402344', '116.3192367553711', '2008-10-23 05:53:05',\n        '1'],\n       ['39.98419952392578', '116.31932067871094', '2008-10-23 05:53:06',...\n y: array([['1', '39.984092712402344', '116.3192367553711',\n        '2008-10-23 05:53:05', 'nan', '14.015318782639952', 'nan'],\n       ['1', '39.98419952392578', '116.31932067871094',...",
     "output_type": "error",
     "traceback": [
      "\u001b[1;31m---------------------------------------------------------------------------\u001b[0m",
      "\u001b[1;31mAssertionError\u001b[0m                            Traceback (most recent call last)",
      "\u001b[1;32m<ipython-input-74-9e4c3d53714c>\u001b[0m in \u001b[0;36m<module>\u001b[1;34m\u001b[0m\n\u001b[1;32m----> 1\u001b[1;33m \u001b[0mtest_clean_gps_jumps_by_distance\u001b[0m\u001b[1;33m(\u001b[0m\u001b[1;33m)\u001b[0m\u001b[1;33m\u001b[0m\u001b[1;33m\u001b[0m\u001b[0m\n\u001b[0m",
      "\u001b[1;32m<ipython-input-73-95e7e28291a0>\u001b[0m in \u001b[0;36mtest_clean_gps_jumps_by_distance\u001b[1;34m()\u001b[0m\n\u001b[0;32m     12\u001b[0m                                                     '1.6286216204832726', '5.929779944096936'],\n\u001b[0;32m     13\u001b[0m                                                    ['1', '39.98421859741211', '116.31941986083984',\n\u001b[1;32m---> 14\u001b[1;33m                                                     '2008-10-23 05:53:21', '2.4484945931533275', 'nan', 'nan']])\n\u001b[0m",
      "\u001b[1;32m~\\Miniconda3\\envs\\jupyter\\lib\\site-packages\\numpy\\testing\\_private\\utils.py\u001b[0m in \u001b[0;36massert_array_equal\u001b[1;34m(x, y, err_msg, verbose)\u001b[0m\n\u001b[0;32m    894\u001b[0m     \u001b[0m__tracebackhide__\u001b[0m \u001b[1;33m=\u001b[0m \u001b[1;32mTrue\u001b[0m  \u001b[1;31m# Hide traceback for py.test\u001b[0m\u001b[1;33m\u001b[0m\u001b[1;33m\u001b[0m\u001b[0m\n\u001b[0;32m    895\u001b[0m     assert_array_compare(operator.__eq__, x, y, err_msg=err_msg,\n\u001b[1;32m--> 896\u001b[1;33m                          verbose=verbose, header='Arrays are not equal')\n\u001b[0m\u001b[0;32m    897\u001b[0m \u001b[1;33m\u001b[0m\u001b[0m\n\u001b[0;32m    898\u001b[0m \u001b[1;33m\u001b[0m\u001b[0m\n",
      "\u001b[1;32m~\\Miniconda3\\envs\\jupyter\\lib\\site-packages\\numpy\\testing\\_private\\utils.py\u001b[0m in \u001b[0;36massert_array_compare\u001b[1;34m(comparison, x, y, err_msg, verbose, header, precision, equal_nan, equal_inf)\u001b[0m\n\u001b[0;32m    750\u001b[0m                                 \u001b[0mverbose\u001b[0m\u001b[1;33m=\u001b[0m\u001b[0mverbose\u001b[0m\u001b[1;33m,\u001b[0m \u001b[0mheader\u001b[0m\u001b[1;33m=\u001b[0m\u001b[0mheader\u001b[0m\u001b[1;33m,\u001b[0m\u001b[1;33m\u001b[0m\u001b[1;33m\u001b[0m\u001b[0m\n\u001b[0;32m    751\u001b[0m                                 names=('x', 'y'), precision=precision)\n\u001b[1;32m--> 752\u001b[1;33m             \u001b[1;32mraise\u001b[0m \u001b[0mAssertionError\u001b[0m\u001b[1;33m(\u001b[0m\u001b[0mmsg\u001b[0m\u001b[1;33m)\u001b[0m\u001b[1;33m\u001b[0m\u001b[1;33m\u001b[0m\u001b[0m\n\u001b[0m\u001b[0;32m    753\u001b[0m \u001b[1;33m\u001b[0m\u001b[0m\n\u001b[0;32m    754\u001b[0m         \u001b[0mflagged\u001b[0m \u001b[1;33m=\u001b[0m \u001b[0mbool_\u001b[0m\u001b[1;33m(\u001b[0m\u001b[1;32mFalse\u001b[0m\u001b[1;33m)\u001b[0m\u001b[1;33m\u001b[0m\u001b[1;33m\u001b[0m\u001b[0m\n",
      "\u001b[1;31mAssertionError\u001b[0m: \nArrays are not equal\n\n(shapes (5, 4), (4, 7) mismatch)\n x: array([['39.984092712402344', '116.3192367553711', '2008-10-23 05:53:05',\n        '1'],\n       ['39.98419952392578', '116.31932067871094', '2008-10-23 05:53:06',...\n y: array([['1', '39.984092712402344', '116.3192367553711',\n        '2008-10-23 05:53:05', 'nan', '14.015318782639952', 'nan'],\n       ['1', '39.98419952392578', '116.31932067871094',..."
     ]
    }
   ],
   "source": [
    "test_clean_gps_jumps_by_distance()"
   ]
  },
  {
   "cell_type": "code",
   "execution_count": 86,
   "metadata": {},
   "outputs": [],
   "source": [
    "def test_clean_gps_nearby_points_by_distances():\n",
    "    df_move = MoveDataFrame(data=list_data_test, latitude=\"lat\", longitude=\"lon\", datetime=\"datetime\", traj_id=\"id\")\n",
    "    df_move.set_index('id', inplace=True)\n",
    "    filter_df = filters.clean_gps_nearby_points_by_distances(df_move, radius_area=10.0)\n",
    "    print(filter_df)\n",
    "    assert_array_equal(filter_df.values.astype(str), [['1', '39.984092712402344', '116.3192367553711',\n",
    "                                 '2008-10-23 05:53:05', 'nan', '14.015318782639952', 'nan'],\n",
    "                                 ['1', '39.98419952392578', '116.31932067871094',\n",
    "                                 '2008-10-23 05:53:06', '14.015318782639952',\n",
    "                                 '7.345483960534693', '20.082061827224607']])\n",
    "\n",
    "    filters.clean_gps_nearby_points_by_distances(df_move, radius_area=10.0, inplace = True)\n",
    "    assert_array_equal(df_move.values.astype(str), [['1', '39.984092712402344', '116.3192367553711',\n",
    "                                 '2008-10-23 05:53:05', 'nan', '14.015318782639952', 'nan'],\n",
    "                                 ['1', '39.98419952392578', '116.31932067871094',\n",
    "                                 '2008-10-23 05:53:06', '14.015318782639952',\n",
    "                                 '7.345483960534693', '20.082061827224607']])\n"
   ]
  },
  {
   "cell_type": "code",
   "execution_count": 87,
   "metadata": {},
   "outputs": [
    {
     "name": "stdout",
     "output_type": "stream",
     "text": [
      "\n",
      "Creating or updating distance features in meters...\n",
      "\n",
      "...Sorting by id and datetime to increase performance\n",
      "\n"
     ]
    },
    {
     "name": "stderr",
     "output_type": "stream",
     "text": [
      "Generating distance, time and speed features: 100%|████████████████████████████████████| 1/1 [00:00<00:00, 1003.66it/s]\n"
     ]
    },
    {
     "name": "stdout",
     "output_type": "stream",
     "text": [
      "...Reset index\n",
      "\n",
      "..Total Time: 0.01793670654296875\n",
      "\n",
      "Cleaning gps points from radius of 10.0 meters\n",
      "\n",
      "...Dropping 3 gps points\n",
      "\n",
      "...Rows before: 5, Rows after:2\n",
      "\n",
      "3 GPS points were dropped\n",
      "   id        lat         lon            datetime  dist_to_prev  dist_to_next  \\\n",
      "0   1  39.984093  116.319237 2008-10-23 05:53:05           NaN     14.015319   \n",
      "1   1  39.984200  116.319321 2008-10-23 05:53:06     14.015319      7.345484   \n",
      "\n",
      "   dist_prev_to_next  \n",
      "0                NaN  \n",
      "1          20.082062  \n",
      "\n",
      "Creating or updating distance features in meters...\n",
      "\n",
      "...Sorting by id and datetime to increase performance\n",
      "\n"
     ]
    },
    {
     "name": "stderr",
     "output_type": "stream",
     "text": [
      "Generating distance, time and speed features: 100%|█████████████████████████████████████| 1/1 [00:00<00:00, 992.73it/s]\n"
     ]
    },
    {
     "name": "stdout",
     "output_type": "stream",
     "text": [
      "...Reset index\n",
      "\n",
      "..Total Time: 0.020562410354614258\n",
      "\n",
      "Cleaning gps points from radius of 10.0 meters\n",
      "\n",
      "...Dropping 3 gps points\n",
      "\n",
      "...Rows before: 5, Rows after:2\n",
      "\n",
      "3 GPS points were dropped\n"
     ]
    }
   ],
   "source": [
    "test_clean_gps_nearby_points_by_distances()"
   ]
  },
  {
   "cell_type": "code",
   "execution_count": 29,
   "metadata": {},
   "outputs": [],
   "source": [
    "def test_clean_gps_nearby_points_by_speed():\n",
    "    df_move = MoveDataFrame(data=list_data_test, latitude=\"lat\", longitude=\"lon\", datetime=\"datetime\", traj_id=\"id\")\n",
    "    filters.clean_gps_nearby_points_by_speed(df_move, speed_radius=20.0)\n",
    "    assert_array_equal(df_move.values.astype(str), [['1', '39.984092712402344', '116.3192367553711',\n",
    "                                                     '2008-10-23 05:53:05', 'nan', 'nan', 'nan']])"
   ]
  },
  {
   "cell_type": "code",
   "execution_count": 30,
   "metadata": {},
   "outputs": [
    {
     "name": "stdout",
     "output_type": "stream",
     "text": [
      "\n",
      "Creating or updating distance, time and speed features in meters by seconds\n",
      "\n",
      "...Sorting by id and datetime to increase performance\n",
      "\n",
      "...Set id as index to a higher peformance\n",
      "\n",
      "(5/5) 100% in 00:00:00.008 - estimated end in 00:00:00.000\n",
      "...Reset index...\n",
      "\n",
      "..Total Time: 0.013\n",
      "\n",
      "Cleaning gps points using 20.0 speed radius\n",
      "\n",
      "...There are 4 gps points to drop\n",
      "\n",
      "...Dropping 4 gps points\n",
      "\n",
      "...Rows before: 5, Rows after:1\n",
      "\n",
      "\n",
      "Cleaning gps points using 0.0 speed radius\n",
      "\n",
      "...There are 0 gps points to drop\n",
      "\n"
     ]
    }
   ],
   "source": [
    "test_clean_gps_nearby_points_by_speed()"
   ]
  },
  {
   "cell_type": "code",
   "execution_count": 31,
   "metadata": {},
   "outputs": [],
   "source": [
    "def test_clean_gps_speed_max_radius():\n",
    "    df_move = MoveDataFrame(data=list_data_test, latitude=\"lat\", longitude=\"lon\", datetime=\"datetime\", traj_id=\"id\")\n",
    "    filters.clean_gps_speed_max_radius(df_move, speed_max=0.33)\n",
    "    assert_array_equal(df_move.values.astype(str), [['1', '39.984092712402344', '116.3192367553711',\n",
    "                                                    '2008-10-23 05:53:05', 'nan', 'nan', 'nan'],\n",
    "                                                   ['1', '39.98421096801758', '116.31938934326172',\n",
    "                                                    '2008-10-23 05:53:16', '1.6286216204832726', '5.0',\n",
    "                                                    '0.3257243240966545']]) "
   ]
  },
  {
   "cell_type": "code",
   "execution_count": 32,
   "metadata": {},
   "outputs": [
    {
     "name": "stdout",
     "output_type": "stream",
     "text": [
      "\n",
      "Creating or updating distance, time and speed features in meters by seconds\n",
      "\n",
      "...Sorting by id and datetime to increase performance\n",
      "\n",
      "...Set id as index to a higher peformance\n",
      "\n",
      "(5/5) 100% in 00:00:00.010 - estimated end in 00:00:00.000\n",
      "...Reset index...\n",
      "\n",
      "..Total Time: 0.016\n",
      "\n",
      "Clean gps points with speed max > 0.33 meters by seconds\n",
      "...There 3 gps points with speed_max > 0.33\n",
      "\n",
      "...Dropping 3 rows of jumps by speed max\n",
      "\n",
      "...Rows before: 5, Rows after:2\n",
      "\n",
      "\n",
      "Clean gps points with speed max > 0.33 meters by seconds\n",
      "...There 0 gps points with speed_max > 0.33\n",
      "\n"
     ]
    }
   ],
   "source": [
    "test_clean_gps_speed_max_radius()"
   ]
  },
  {
   "cell_type": "code",
   "execution_count": 18,
   "metadata": {},
   "outputs": [],
   "source": [
    "def test_clean_trajectories_with_few_points():\n",
    "    df_move = MoveDataFrame(data=list_data_test, latitude=\"lat\", longitude=\"lon\", datetime=\"datetime\", traj_id=\"id\")\n",
    "    filters.clean_trajectories_with_few_points(df_move, min_points_per_trajectory=6)\n",
    "    assert(df_move.len() == 0)"
   ]
  },
  {
   "cell_type": "code",
   "execution_count": 19,
   "metadata": {},
   "outputs": [
    {
     "name": "stdout",
     "output_type": "stream",
     "text": [
      "\n",
      "Creating or updating tid feature...\n",
      "\n",
      "...Sorting by id and datetime to increase performance\n",
      "\n",
      "\n",
      "...tid feature was created...\n",
      "\n",
      "\n",
      "...There are 1 ids with few points\n",
      "\n",
      "...Tids before drop: 1\n",
      "\n",
      "...Tids after drop: 0\n",
      "\n",
      "...Shape - before drop: (5, 5) - after drop: (0, 5)\n",
      "\n",
      "Creating or updating distance, time and speed features in meters by seconds\n",
      "\n",
      "...Sorting by tid and datetime to increase performance\n",
      "\n",
      "...Set tid as index to a higher peformance\n",
      "\n",
      "...Reset index...\n",
      "\n",
      "..Total Time: 0.012\n"
     ]
    }
   ],
   "source": [
    "test_clean_trajectories_with_few_points()"
   ]
  },
  {
   "cell_type": "code",
   "execution_count": 108,
   "metadata": {},
   "outputs": [],
   "source": [
    "def test_clean_id_by_time_max():\n",
    "    df_move = MoveDataFrame(data=list_data, latitude=\"lat\", longitude=\"lon\", datetime=\"datetime\", traj_id=\"id\")\n",
    "    df_move.generate_dist_time_speed_features()\n",
    "    print(df_move)\n",
    "    indexes = filters.clean_id_by_time_max(df_move, time_max =1.0)\n",
    "    print(indexes['datetime'].values)\n",
    "    assert_array_equal(indexes['datetime'].astype(str), ['2008-10-23 05:53:05', '2008-10-23 05:53:06'])    \n"
   ]
  },
  {
   "cell_type": "code",
   "execution_count": 109,
   "metadata": {},
   "outputs": [
    {
     "name": "stdout",
     "output_type": "stream",
     "text": [
      "\n",
      "Creating or updating distance, time and speed features in meters by seconds\n",
      "\n",
      "...Sorting by id and datetime to increase performance\n",
      "\n",
      "...Set id as index to a higher peformance\n",
      "\n"
     ]
    },
    {
     "name": "stderr",
     "output_type": "stream",
     "text": [
      "Generating distance features: 100%|████████████████████████████████████████████████████| 2/2 [00:00<00:00, 1015.45it/s]\n"
     ]
    },
    {
     "name": "stdout",
     "output_type": "stream",
     "text": [
      "...Reset index...\n",
      "\n",
      "..Total Time: 0.020\n",
      "   id        lat         lon            datetime  dist_to_prev  time_to_prev  \\\n",
      "0   1  39.984093  116.319237 2008-10-23 05:53:05           NaN           NaN   \n",
      "1   1  39.984200  116.319321 2008-10-23 05:53:06     14.015319           1.0   \n",
      "2   2  39.984222  116.319405 2008-10-23 05:53:11           NaN           NaN   \n",
      "3   2  39.984222  116.319405 2008-10-23 05:53:11      0.000000           0.0   \n",
      "\n",
      "   speed_to_prev  \n",
      "0            NaN  \n",
      "1      14.015319  \n",
      "2            NaN  \n",
      "3            NaN  \n",
      "\n",
      "Clean gps points with time max by id < 1.0 seconds\n",
      "...Ids total: 2\n",
      "Ids to drop:1\n",
      "...Rows before drop: 4\n",
      " Rows after drop: 2\n",
      "['2008-10-23T05:53:05.000000000' '2008-10-23T05:53:06.000000000']\n"
     ]
    }
   ],
   "source": [
    "test_clean_id_by_time_max()"
   ]
  },
  {
   "cell_type": "code",
   "execution_count": 110,
   "metadata": {},
   "outputs": [
    {
     "data": {
      "text/html": [
       "<div>\n",
       "<style scoped>\n",
       "    .dataframe tbody tr th:only-of-type {\n",
       "        vertical-align: middle;\n",
       "    }\n",
       "\n",
       "    .dataframe tbody tr th {\n",
       "        vertical-align: top;\n",
       "    }\n",
       "\n",
       "    .dataframe thead th {\n",
       "        text-align: right;\n",
       "    }\n",
       "</style>\n",
       "<table border=\"1\" class=\"dataframe\">\n",
       "  <thead>\n",
       "    <tr style=\"text-align: right;\">\n",
       "      <th></th>\n",
       "      <th>lat</th>\n",
       "      <th>lon</th>\n",
       "      <th>datetime</th>\n",
       "      <th>id</th>\n",
       "    </tr>\n",
       "  </thead>\n",
       "  <tbody>\n",
       "    <tr>\n",
       "      <th>0</th>\n",
       "      <td>39.984093</td>\n",
       "      <td>116.319237</td>\n",
       "      <td>2008-10-23 05:53:05</td>\n",
       "      <td>1</td>\n",
       "    </tr>\n",
       "    <tr>\n",
       "      <th>1</th>\n",
       "      <td>39.984200</td>\n",
       "      <td>116.319321</td>\n",
       "      <td>2008-10-23 05:53:06</td>\n",
       "      <td>1</td>\n",
       "    </tr>\n",
       "    <tr>\n",
       "      <th>2</th>\n",
       "      <td>39.984222</td>\n",
       "      <td>116.319405</td>\n",
       "      <td>2008-10-23 05:53:11</td>\n",
       "      <td>2</td>\n",
       "    </tr>\n",
       "    <tr>\n",
       "      <th>3</th>\n",
       "      <td>39.984222</td>\n",
       "      <td>116.319405</td>\n",
       "      <td>2008-10-23 05:53:11</td>\n",
       "      <td>2</td>\n",
       "    </tr>\n",
       "  </tbody>\n",
       "</table>\n",
       "</div>"
      ],
      "text/plain": [
       "         lat         lon            datetime  id\n",
       "0  39.984093  116.319237 2008-10-23 05:53:05   1\n",
       "1  39.984200  116.319321 2008-10-23 05:53:06   1\n",
       "2  39.984222  116.319405 2008-10-23 05:53:11   2\n",
       "3  39.984222  116.319405 2008-10-23 05:53:11   2"
      ]
     },
     "execution_count": 110,
     "metadata": {},
     "output_type": "execute_result"
    }
   ],
   "source": [
    "move_df"
   ]
  },
  {
   "cell_type": "code",
   "execution_count": 4,
   "metadata": {},
   "outputs": [
    {
     "name": "stdout",
     "output_type": "stream",
     "text": [
      "\n",
      "Remove short trajectories...\n"
     ]
    },
    {
     "ename": "TypeError",
     "evalue": "clean_trajectories_with_few_points() takes from 1 to 4 positional arguments but 5 were given",
     "output_type": "error",
     "traceback": [
      "\u001b[1;31m---------------------------------------------------------------------------\u001b[0m",
      "\u001b[1;31mTypeError\u001b[0m                                 Traceback (most recent call last)",
      "\u001b[1;32m<ipython-input-4-20d2e79f7c15>\u001b[0m in \u001b[0;36m<module>\u001b[1;34m\u001b[0m\n\u001b[1;32m----> 1\u001b[1;33m \u001b[0mfilters\u001b[0m\u001b[1;33m.\u001b[0m\u001b[0mclean_trajectories_short_and_few_points\u001b[0m\u001b[1;33m(\u001b[0m\u001b[0mmove_df\u001b[0m\u001b[1;33m)\u001b[0m\u001b[1;33m\u001b[0m\u001b[1;33m\u001b[0m\u001b[0m\n\u001b[0m",
      "\u001b[1;32m~\\Desktop\\PyMove\\pymove\\preprocessing\\filters.py\u001b[0m in \u001b[0;36mclean_trajectories_short_and_few_points\u001b[1;34m(move_data, label_id, min_trajectory_distance, min_points_per_trajectory, label_dtype, inplace)\u001b[0m\n\u001b[0;32m    838\u001b[0m     \u001b[0mprint\u001b[0m\u001b[1;33m(\u001b[0m\u001b[1;34m\"\\nRemove short trajectories...\"\u001b[0m\u001b[1;33m)\u001b[0m\u001b[1;33m\u001b[0m\u001b[1;33m\u001b[0m\u001b[0m\n\u001b[0;32m    839\u001b[0m     clean_trajectories_with_few_points(\n\u001b[1;32m--> 840\u001b[1;33m         \u001b[0mmove_df\u001b[0m\u001b[1;33m,\u001b[0m \u001b[0mlabel_id\u001b[0m\u001b[1;33m,\u001b[0m \u001b[0mmin_points_per_trajectory\u001b[0m\u001b[1;33m,\u001b[0m \u001b[0mlabel_dtype\u001b[0m\u001b[1;33m,\u001b[0m \u001b[0minplace\u001b[0m\u001b[1;33m\u001b[0m\u001b[1;33m\u001b[0m\u001b[0m\n\u001b[0m\u001b[0;32m    841\u001b[0m     )\n\u001b[0;32m    842\u001b[0m \u001b[1;33m\u001b[0m\u001b[0m\n",
      "\u001b[1;31mTypeError\u001b[0m: clean_trajectories_with_few_points() takes from 1 to 4 positional arguments but 5 were given"
     ]
    }
   ],
   "source": [
    "filters.clean_trajectories_short_and_few_points(move_df)"
   ]
  },
  {
   "cell_type": "code",
   "execution_count": null,
   "metadata": {},
   "outputs": [],
   "source": []
  },
  {
   "cell_type": "code",
   "execution_count": null,
   "metadata": {},
   "outputs": [],
   "source": []
  },
  {
   "cell_type": "code",
   "execution_count": null,
   "metadata": {},
   "outputs": [],
   "source": []
  }
 ],
 "metadata": {
  "kernelspec": {
   "display_name": "Python 3",
   "language": "python",
   "name": "python3"
  },
  "language_info": {
   "codemirror_mode": {
    "name": "ipython",
    "version": 3
   },
   "file_extension": ".py",
   "mimetype": "text/x-python",
   "name": "python",
   "nbconvert_exporter": "python",
   "pygments_lexer": "ipython3",
   "version": "3.7.1"
  }
 },
 "nbformat": 4,
 "nbformat_minor": 2
}
