{
 "cells": [
  {
   "cell_type": "code",
   "execution_count": 62,
   "metadata": {},
   "outputs": [],
   "source": [
    "from pymove import compression\n",
    "from pymove import MoveDataFrame\n",
    "import numpy as np\n",
    "from numpy.testing import assert_array_equal\n",
    "import pandas as pd"
   ]
  },
  {
   "cell_type": "code",
   "execution_count": 63,
   "metadata": {},
   "outputs": [],
   "source": [
    "list_data_test =[[39.984093, 116.319237, '2008-10-23 05:53:05', 1],\n",
    "                 [39.984200, 116.319321, '2008-10-23 05:53:06', 1],\n",
    "                 [39.984222, 116.319405, '2008-10-23 05:53:11', 1],\n",
    "                 [39.984211, 116.319389,'2008-10-23 05:53:16', 1],\n",
    "                 [39.984219, 116.319420, '2008-10-23 05:53:21', 1]]"
   ]
  },
  {
   "cell_type": "code",
   "execution_count": 64,
   "metadata": {},
   "outputs": [],
   "source": [
    "def test_compress_segment_stop_to_point():\n",
    "    #Testing inplace = False and lat_mean and lon_mean defined based on point that repeats most within the segment\n",
    "    move_df = MoveDataFrame(data=list_data_test, latitude=\"lat\", longitude=\"lon\", datetime=\"datetime\", traj_id=\"id\")\n",
    "    compressed_trajs = compression.compress_segment_stop_to_point(move_df, dist_radius=3.5, time_radius=0.5)\n",
    "    assert_array_equal(compressed_trajs[['lat_mean', 'lon_mean']].astype(str).values, [['nan', 'nan'],\n",
    "                                                   ['nan', 'nan'],\n",
    "                                                   ['39.984222412109375', '116.31940460205078'],\n",
    "                                                   ['39.984222412109375', '116.31940460205078']])\n",
    "    \n",
    "    #Testing inplace = False and lat_mean and lon_mean defined using centroids\n",
    "    compressed_trajs = compression.compress_segment_stop_to_point(move_df, dist_radius=3.5, time_radius=0.5, point_mean='centroid')\n",
    "    assert_array_equal(compressed_trajs[['lat_mean', 'lon_mean']].astype(str).values, [['nan', 'nan'],\n",
    "                                                   ['nan', 'nan'],\n",
    "                                                   ['39.98421859741211', '116.31940460205078'],\n",
    "                                                   ['39.98421859741211', '116.31940460205078']])  \n",
    "    \n",
    "    #Testing droping move\n",
    "    compressed_trajs = compression.compress_segment_stop_to_point(move_df, dist_radius=3.5, time_radius=0.5, point_mean='centroid', drop_moves=True)\n",
    "    assert_array_equal(compressed_trajs[['lat_mean', 'lon_mean']].astype(str).values, [['39.98421859741211', '116.31940460205078'],\n",
    "                                                   ['39.98421859741211', '116.31940460205078']]) \n",
    "     \n",
    "    #testing inplace =True\n",
    "    compression.compress_segment_stop_to_point(move_df, dist_radius=3.5, time_radius=0.5, point_mean='centroid', drop_moves=True, inplace=True)\n",
    "    assert_array_equal(move_df[['lat_mean', 'lon_mean']].astype(str).values, [['39.98421859741211', '116.31940460205078'],\n",
    "                                                   ['39.98421859741211', '116.31940460205078']]) \n",
    "    \n",
    "        "
   ]
  },
  {
   "cell_type": "code",
   "execution_count": 65,
   "metadata": {},
   "outputs": [
    {
     "name": "stdout",
     "output_type": "stream",
     "text": [
      "Split trajectories by max distance between adjacent points: 3.5\n",
      "\n",
      "Creating or updating distance features in meters...\n",
      "\n",
      "...Sorting by id and datetime to increase performance\n",
      "\n",
      "...Set id as index to increase attribution performance\n",
      "\n"
     ]
    },
    {
     "name": "stderr",
     "output_type": "stream",
     "text": [
      "Generating distance, time and speed features: 100%|█████████████████████████████████████| 1/1 [00:00<00:00, 991.33it/s]\n"
     ]
    },
    {
     "name": "stdout",
     "output_type": "stream",
     "text": [
      "...Reset index\n",
      "\n",
      "..Total Time: 0.01595759391784668\n",
      "...setting id as index\n"
     ]
    },
    {
     "name": "stderr",
     "output_type": "stream",
     "text": [
      "Generating segment_stop: 100%|█████████████████████████████████████████████████████████| 1/1 [00:00<00:00, 1003.66it/s]\n"
     ]
    },
    {
     "name": "stdout",
     "output_type": "stream",
     "text": [
      "... Reseting index\n",
      "...No trajs with only one point. (5, 8)\n",
      "\n",
      "Creating or updating distance features in meters...\n",
      "\n",
      "...Sorting by id and datetime to increase performance\n",
      "\n",
      "...Set id as index to increase attribution performance\n",
      "\n"
     ]
    },
    {
     "name": "stderr",
     "output_type": "stream",
     "text": [
      "Generating distance, time and speed features: 100%|████████████████████████████████████| 1/1 [00:00<00:00, 1003.42it/s]\n"
     ]
    },
    {
     "name": "stdout",
     "output_type": "stream",
     "text": [
      "...Reset index\n",
      "\n",
      "..Total Time: 0.02693033218383789\n",
      "------------------------------------------\n",
      "\n",
      "\n",
      "Creating or updating distance, time and speed features in meters by seconds\n",
      "\n",
      "...Sorting by segment_stop and datetime to increase performance\n",
      "\n",
      "...Set segment_stop as index to a higher peformance\n",
      "\n"
     ]
    },
    {
     "name": "stderr",
     "output_type": "stream",
     "text": [
      "Generating distance features: 100%|████████████████████████████████████████████████████| 3/3 [00:00<00:00, 1003.18it/s]\n"
     ]
    },
    {
     "name": "stdout",
     "output_type": "stream",
     "text": [
      "...Reset index...\n",
      "\n",
      "..Total Time: 0.020\n",
      "Create or update stop as True or False\n",
      "...Creating stop features as True or False using 0.5 to time in seconds\n",
      "True     3\n",
      "False    2\n",
      "Name: stop, dtype: int64\n",
      "\n",
      "Total Time: 0.11 seconds\n",
      "-----------------------------------------------------\n",
      "\n",
      "...setting mean to lat and lon...\n",
      "...get only segments stop...\n"
     ]
    },
    {
     "name": "stderr",
     "output_type": "stream",
     "text": [
      "Generating segment_stop and stop: 100%|██████████████████████████████████████████████████| 1/1 [00:00<00:00, 52.77it/s]\n"
     ]
    },
    {
     "name": "stdout",
     "output_type": "stream",
     "text": [
      "...Dropping 1 points...\n",
      "...Shape_before: 5\n",
      "...Current shape: 4\n",
      "-----------------------------------------------------\n",
      "\n",
      "Split trajectories by max distance between adjacent points: 3.5\n",
      "\n",
      "Creating or updating distance features in meters...\n",
      "\n",
      "...Sorting by id and datetime to increase performance\n",
      "\n",
      "...Set id as index to increase attribution performance\n",
      "\n"
     ]
    },
    {
     "name": "stderr",
     "output_type": "stream",
     "text": [
      "Generating distance, time and speed features: 100%|████████████████████████████████████| 1/1 [00:00<00:00, 1003.42it/s]\n"
     ]
    },
    {
     "name": "stdout",
     "output_type": "stream",
     "text": [
      "...Reset index\n",
      "\n",
      "..Total Time: 0.01595759391784668\n",
      "...setting id as index\n"
     ]
    },
    {
     "name": "stderr",
     "output_type": "stream",
     "text": [
      "Generating segment_stop: 100%|██████████████████████████████████████████████████████████| 1/1 [00:00<00:00, 993.44it/s]\n"
     ]
    },
    {
     "name": "stdout",
     "output_type": "stream",
     "text": [
      "... Reseting index\n",
      "...No trajs with only one point. (5, 8)\n",
      "\n",
      "Creating or updating distance features in meters...\n",
      "\n",
      "...Sorting by id and datetime to increase performance\n",
      "\n",
      "...Set id as index to increase attribution performance\n",
      "\n"
     ]
    },
    {
     "name": "stderr",
     "output_type": "stream",
     "text": [
      "Generating distance, time and speed features: 100%|█████████████████████████████████████| 1/1 [00:00<00:00, 994.85it/s]\n"
     ]
    },
    {
     "name": "stdout",
     "output_type": "stream",
     "text": [
      "...Reset index\n",
      "\n",
      "..Total Time: 0.014964580535888672\n",
      "------------------------------------------\n",
      "\n",
      "\n",
      "Creating or updating distance, time and speed features in meters by seconds\n",
      "\n",
      "...Sorting by segment_stop and datetime to increase performance\n",
      "\n",
      "...Set segment_stop as index to a higher peformance\n",
      "\n"
     ]
    },
    {
     "name": "stderr",
     "output_type": "stream",
     "text": [
      "Generating distance features: 100%|████████████████████████████████████████████████████| 3/3 [00:00<00:00, 1504.59it/s]\n"
     ]
    },
    {
     "name": "stdout",
     "output_type": "stream",
     "text": [
      "...Reset index...\n",
      "\n",
      "..Total Time: 0.018\n",
      "Create or update stop as True or False\n",
      "...Creating stop features as True or False using 0.5 to time in seconds\n",
      "True     3\n",
      "False    2\n",
      "Name: stop, dtype: int64\n",
      "\n",
      "Total Time: 0.09 seconds\n",
      "-----------------------------------------------------\n",
      "\n",
      "...setting mean to lat and lon...\n",
      "...get only segments stop...\n"
     ]
    },
    {
     "name": "stderr",
     "output_type": "stream",
     "text": [
      "Generating segment_stop and stop: 100%|██████████████████████████████████████████████████| 1/1 [00:00<00:00, 50.12it/s]\n"
     ]
    },
    {
     "name": "stdout",
     "output_type": "stream",
     "text": [
      "...Dropping 1 points...\n",
      "...Shape_before: 5\n",
      "...Current shape: 4\n",
      "-----------------------------------------------------\n",
      "\n",
      "Split trajectories by max distance between adjacent points: 3.5\n",
      "\n",
      "Creating or updating distance features in meters...\n",
      "\n",
      "...Sorting by id and datetime to increase performance\n",
      "\n",
      "...Set id as index to increase attribution performance\n",
      "\n"
     ]
    },
    {
     "name": "stderr",
     "output_type": "stream",
     "text": [
      "Generating distance, time and speed features: 100%|█████████████████████████████████████| 1/1 [00:00<00:00, 501.53it/s]\n"
     ]
    },
    {
     "name": "stdout",
     "output_type": "stream",
     "text": [
      "...Reset index\n",
      "\n",
      "..Total Time: 0.01595759391784668\n",
      "...setting id as index\n"
     ]
    },
    {
     "name": "stderr",
     "output_type": "stream",
     "text": [
      "Generating segment_stop: 100%|█████████████████████████████████████████████████████████| 1/1 [00:00<00:00, 1001.98it/s]\n"
     ]
    },
    {
     "name": "stdout",
     "output_type": "stream",
     "text": [
      "... Reseting index\n",
      "...No trajs with only one point. (5, 8)\n",
      "\n",
      "Creating or updating distance features in meters...\n",
      "\n",
      "...Sorting by id and datetime to increase performance\n",
      "\n",
      "...Set id as index to increase attribution performance\n",
      "\n"
     ]
    },
    {
     "name": "stderr",
     "output_type": "stream",
     "text": [
      "Generating distance, time and speed features: 100%|████████████████████████████████████| 1/1 [00:00<00:00, 1002.70it/s]\n"
     ]
    },
    {
     "name": "stdout",
     "output_type": "stream",
     "text": [
      "...Reset index\n",
      "\n",
      "..Total Time: 0.014957904815673828\n",
      "------------------------------------------\n",
      "\n",
      "\n",
      "Creating or updating distance, time and speed features in meters by seconds\n",
      "\n",
      "...Sorting by segment_stop and datetime to increase performance\n",
      "\n",
      "...Set segment_stop as index to a higher peformance\n",
      "\n"
     ]
    },
    {
     "name": "stderr",
     "output_type": "stream",
     "text": [
      "Generating distance features: 100%|████████████████████████████████████████████████████| 3/3 [00:00<00:00, 1505.31it/s]\n"
     ]
    },
    {
     "name": "stdout",
     "output_type": "stream",
     "text": [
      "...Reset index...\n",
      "\n",
      "..Total Time: 0.016\n",
      "Create or update stop as True or False\n",
      "...Creating stop features as True or False using 0.5 to time in seconds\n",
      "True     3\n",
      "False    2\n",
      "Name: stop, dtype: int64\n",
      "\n",
      "Total Time: 0.09 seconds\n",
      "-----------------------------------------------------\n",
      "\n",
      "...setting mean to lat and lon...\n",
      "...move segments will be dropped...\n",
      "...get only segments stop...\n"
     ]
    },
    {
     "name": "stderr",
     "output_type": "stream",
     "text": [
      "Generating segment_stop and stop: 100%|██████████████████████████████████████████████████| 1/1 [00:00<00:00, 58.98it/s]\n"
     ]
    },
    {
     "name": "stdout",
     "output_type": "stream",
     "text": [
      "...Dropping 3 points...\n",
      "...Shape_before: 5\n",
      "...Current shape: 2\n",
      "-----------------------------------------------------\n",
      "\n",
      "Split trajectories by max distance between adjacent points: 3.5\n",
      "\n",
      "Creating or updating distance features in meters...\n",
      "\n",
      "...Sorting by id and datetime to increase performance\n",
      "\n",
      "...Set id as index to increase attribution performance\n",
      "\n"
     ]
    },
    {
     "name": "stderr",
     "output_type": "stream",
     "text": [
      "Generating distance, time and speed features: 100%|████████████████████████████████████| 1/1 [00:00<00:00, 1002.70it/s]\n"
     ]
    },
    {
     "name": "stdout",
     "output_type": "stream",
     "text": [
      "...Reset index\n",
      "\n",
      "..Total Time: 0.014944076538085938\n",
      "...setting id as index\n"
     ]
    },
    {
     "name": "stderr",
     "output_type": "stream",
     "text": [
      "Generating segment_stop: 100%|█████████████████████████████████████████████████████████| 1/1 [00:00<00:00, 1001.74it/s]\n"
     ]
    },
    {
     "name": "stdout",
     "output_type": "stream",
     "text": [
      "... Reseting index\n",
      "...No trajs with only one point. (5, 8)\n",
      "\n",
      "Creating or updating distance features in meters...\n",
      "\n",
      "...Sorting by id and datetime to increase performance\n",
      "\n",
      "...Set id as index to increase attribution performance\n",
      "\n"
     ]
    },
    {
     "name": "stderr",
     "output_type": "stream",
     "text": [
      "Generating distance, time and speed features: 100%|████████████████████████████████████| 1/1 [00:00<00:00, 1002.94it/s]\n"
     ]
    },
    {
     "name": "stdout",
     "output_type": "stream",
     "text": [
      "...Reset index\n",
      "\n",
      "..Total Time: 0.016959190368652344\n",
      "------------------------------------------\n",
      "\n",
      "\n",
      "Creating or updating distance, time and speed features in meters by seconds\n",
      "\n",
      "...Sorting by segment_stop and datetime to increase performance\n",
      "\n",
      "...Set segment_stop as index to a higher peformance\n",
      "\n"
     ]
    },
    {
     "name": "stderr",
     "output_type": "stream",
     "text": [
      "Generating distance features: 100%|████████████████████████████████████████████████████| 3/3 [00:00<00:00, 1504.05it/s]\n"
     ]
    },
    {
     "name": "stdout",
     "output_type": "stream",
     "text": [
      "...Reset index...\n",
      "\n",
      "..Total Time: 0.019\n",
      "Create or update stop as True or False\n",
      "...Creating stop features as True or False using 0.5 to time in seconds\n",
      "True     3\n",
      "False    2\n",
      "Name: stop, dtype: int64\n",
      "\n",
      "Total Time: 0.10 seconds\n",
      "-----------------------------------------------------\n",
      "\n",
      "...setting mean to lat and lon...\n",
      "...move segments will be dropped...\n",
      "...get only segments stop...\n"
     ]
    },
    {
     "name": "stderr",
     "output_type": "stream",
     "text": [
      "Generating segment_stop and stop: 100%|██████████████████████████████████████████████████| 1/1 [00:00<00:00, 71.62it/s]\n"
     ]
    },
    {
     "name": "stdout",
     "output_type": "stream",
     "text": [
      "...Dropping 3 points...\n",
      "...Shape_before: 5\n",
      "...Current shape: 2\n",
      "-----------------------------------------------------\n",
      "\n"
     ]
    }
   ],
   "source": [
    "test_compress_segment_stop_to_point()"
   ]
  },
  {
   "cell_type": "code",
   "execution_count": 95,
   "metadata": {},
   "outputs": [],
   "source": [
    "def test_compress_segment_stop_to_point_optimizer():\n",
    "    #Testing inplace = False and lat_mean and lon_mean defined based on point that repeats most within the segment\n",
    "    move_df = MoveDataFrame(data=list_data_test, latitude=\"lat\", longitude=\"lon\", datetime=\"datetime\", traj_id=\"id\")\n",
    "    compressed_trajs = compression.compress_segment_stop_to_point_optimizer(move_df, dist_radius=3.5, time_radius=0.5)\n",
    "    assert_array_equal(compressed_trajs[['lat_mean', 'lon_mean']].astype(str).values, [['nan', 'nan'],\n",
    "       ['nan', 'nan'],\n",
    "       ['39.984222', '116.319405'],\n",
    "       ['39.984222', '116.319405']])\n",
    "    \n",
    "    #Testing inplace = False and lat_mean and lon_mean defined using centroids\n",
    "    compressed_trajs = compression.compress_segment_stop_to_point_optimizer(move_df, dist_radius=3.5, time_radius=0.5, point_mean='centroid')\n",
    "    assert_array_equal(compressed_trajs[['lat_mean', 'lon_mean']].astype(str).values, [['nan', 'nan'],\n",
    "                                                                                       ['nan', 'nan'],\n",
    "                                                                                       ['39.98422', '116.319405'],\n",
    "                                                                                       ['39.98422', '116.319405']])\n",
    "    #Testing droping move\n",
    "    compressed_trajs =compression.compress_segment_stop_to_point_optimizer(move_df, dist_radius=3.5, time_radius=0.5, point_mean='centroid', drop_moves=True)\n",
    "    assert_array_equal(compressed_trajs[['lat_mean', 'lon_mean']].astype(str).values, [['39.98422', '116.319405'],\n",
    "                                                                                       ['39.98422', '116.319405']]) \n",
    "     \n",
    "    #testing inplace =True\n",
    "    compression.compress_segment_stop_to_point_optimizer(move_df, dist_radius=3.5, time_radius=0.5, point_mean='centroid', drop_moves=True, inplace=True)\n",
    "    assert_array_equal(move_df[['lat_mean', 'lon_mean']].astype(str).values, [['39.98422', '116.319405'],\n",
    "                                                                              ['39.98422', '116.319405']]) "
   ]
  },
  {
   "cell_type": "code",
   "execution_count": 96,
   "metadata": {},
   "outputs": [
    {
     "name": "stdout",
     "output_type": "stream",
     "text": [
      "Split trajectories by max distance between adjacent points: 3.5\n",
      "\n",
      "Creating or updating distance features in meters...\n",
      "\n",
      "...Sorting by id and datetime to increase performance\n",
      "\n",
      "...Set id as index to increase attribution performance\n",
      "\n"
     ]
    },
    {
     "name": "stderr",
     "output_type": "stream",
     "text": [
      "Generating distance, time and speed features: 100%|████████████████████████████████████| 1/1 [00:00<00:00, 1002.22it/s]\n"
     ]
    },
    {
     "name": "stdout",
     "output_type": "stream",
     "text": [
      "...Reset index\n",
      "\n",
      "..Total Time: 0.018953561782836914\n",
      "...setting id as index\n"
     ]
    },
    {
     "name": "stderr",
     "output_type": "stream",
     "text": [
      "Generating segment_stop: 100%|█████████████████████████████████████████████████████████| 1/1 [00:00<00:00, 1002.94it/s]\n"
     ]
    },
    {
     "name": "stdout",
     "output_type": "stream",
     "text": [
      "... Reseting index\n",
      "...No trajs with only one point. (5, 8)\n",
      "\n",
      "Creating or updating distance features in meters...\n",
      "\n",
      "...Sorting by id and datetime to increase performance\n",
      "\n",
      "...Set id as index to increase attribution performance\n",
      "\n"
     ]
    },
    {
     "name": "stderr",
     "output_type": "stream",
     "text": [
      "Generating distance, time and speed features: 100%|████████████████████████████████████| 1/1 [00:00<00:00, 1002.70it/s]\n"
     ]
    },
    {
     "name": "stdout",
     "output_type": "stream",
     "text": [
      "...Reset index\n",
      "\n",
      "..Total Time: 0.01596832275390625\n",
      "------------------------------------------\n",
      "\n",
      "\n",
      "Creating or updating distance, time and speed features in meters by seconds\n",
      "\n",
      "...Sorting by segment_stop and datetime to increase performance\n",
      "\n",
      "...Set segment_stop as index to a higher peformance\n",
      "\n"
     ]
    },
    {
     "name": "stderr",
     "output_type": "stream",
     "text": [
      "Generating distance features: 100%|████████████████████████████████████████████████████| 3/3 [00:00<00:00, 2990.95it/s]\n"
     ]
    },
    {
     "name": "stdout",
     "output_type": "stream",
     "text": [
      "...Reset index...\n",
      "\n",
      "..Total Time: 0.022\n",
      "Create or update stop as True or False\n",
      "...Creating stop features as True or False using 0.5 to time in seconds\n",
      "True     3\n",
      "False    2\n",
      "Name: stop, dtype: int64\n",
      "\n",
      "Total Time: 0.11 seconds\n",
      "-----------------------------------------------------\n",
      "\n",
      "...setting mean to lat and lon...\n",
      "...get only segments stop...\n"
     ]
    },
    {
     "name": "stderr",
     "output_type": "stream",
     "text": [
      "Generating segment_stop and stop: 100%|██████████████████████████████████████████████████| 1/1 [00:00<00:00, 55.71it/s]\n"
     ]
    },
    {
     "name": "stdout",
     "output_type": "stream",
     "text": [
      "...Dropping 1 points...\n",
      "...Shape_before: 5\n",
      "...Current shape: 4\n",
      "-----------------------------------------------------\n",
      "\n",
      "Split trajectories by max distance between adjacent points: 3.5\n",
      "\n",
      "Creating or updating distance features in meters...\n",
      "\n",
      "...Sorting by id and datetime to increase performance\n",
      "\n",
      "...Set id as index to increase attribution performance\n",
      "\n"
     ]
    },
    {
     "name": "stderr",
     "output_type": "stream",
     "text": [
      "Generating distance, time and speed features: 100%|█████████████████████████████████████| 1/1 [00:00<00:00, 501.41it/s]\n"
     ]
    },
    {
     "name": "stdout",
     "output_type": "stream",
     "text": [
      "...Reset index\n",
      "\n",
      "..Total Time: 0.01495814323425293\n",
      "...setting id as index\n"
     ]
    },
    {
     "name": "stderr",
     "output_type": "stream",
     "text": [
      "Generating segment_stop: 100%|█████████████████████████████████████████████████████████| 1/1 [00:00<00:00, 1001.98it/s]\n"
     ]
    },
    {
     "name": "stdout",
     "output_type": "stream",
     "text": [
      "... Reseting index\n",
      "...No trajs with only one point. (5, 8)\n",
      "\n",
      "Creating or updating distance features in meters...\n",
      "\n",
      "...Sorting by id and datetime to increase performance\n",
      "\n",
      "...Set id as index to increase attribution performance\n",
      "\n"
     ]
    },
    {
     "name": "stderr",
     "output_type": "stream",
     "text": [
      "Generating distance, time and speed features: 100%|████████████████████████████████████| 1/1 [00:00<00:00, 1002.94it/s]\n"
     ]
    },
    {
     "name": "stdout",
     "output_type": "stream",
     "text": [
      "...Reset index\n",
      "\n",
      "..Total Time: 0.015972137451171875\n",
      "------------------------------------------\n",
      "\n",
      "\n",
      "Creating or updating distance, time and speed features in meters by seconds\n",
      "\n",
      "...Sorting by segment_stop and datetime to increase performance\n",
      "\n",
      "...Set segment_stop as index to a higher peformance\n",
      "\n"
     ]
    },
    {
     "name": "stderr",
     "output_type": "stream",
     "text": [
      "Generating distance features: 100%|████████████████████████████████████████████████████| 3/3 [00:00<00:00, 3013.15it/s]\n"
     ]
    },
    {
     "name": "stdout",
     "output_type": "stream",
     "text": [
      "...Reset index...\n",
      "\n",
      "..Total Time: 0.020\n",
      "Create or update stop as True or False\n",
      "...Creating stop features as True or False using 0.5 to time in seconds\n",
      "True     3\n",
      "False    2\n",
      "Name: stop, dtype: int64\n",
      "\n",
      "Total Time: 0.10 seconds\n",
      "-----------------------------------------------------\n",
      "\n",
      "...setting mean to lat and lon...\n",
      "...get only segments stop...\n"
     ]
    },
    {
     "name": "stderr",
     "output_type": "stream",
     "text": [
      "Generating segment_stop and stop: 100%|██████████████████████████████████████████████████| 1/1 [00:00<00:00, 83.56it/s]\n"
     ]
    },
    {
     "name": "stdout",
     "output_type": "stream",
     "text": [
      "...Dropping 1 points...\n",
      "...Shape_before: 5\n",
      "...Current shape: 4\n",
      "-----------------------------------------------------\n",
      "\n",
      "Split trajectories by max distance between adjacent points: 3.5\n",
      "\n",
      "Creating or updating distance features in meters...\n",
      "\n",
      "...Sorting by id and datetime to increase performance\n",
      "\n",
      "...Set id as index to increase attribution performance\n",
      "\n"
     ]
    },
    {
     "name": "stderr",
     "output_type": "stream",
     "text": [
      "Generating distance, time and speed features: 100%|████████████████████████████████████| 1/1 [00:00<00:00, 1001.74it/s]\n"
     ]
    },
    {
     "name": "stdout",
     "output_type": "stream",
     "text": [
      "...Reset index\n",
      "\n",
      "..Total Time: 0.01494598388671875\n",
      "...setting id as index\n"
     ]
    },
    {
     "name": "stderr",
     "output_type": "stream",
     "text": [
      "Generating segment_stop: 100%|██████████████████████████████████████████████████████████| 1/1 [00:00<00:00, 335.46it/s]\n"
     ]
    },
    {
     "name": "stdout",
     "output_type": "stream",
     "text": [
      "... Reseting index\n",
      "...No trajs with only one point. (5, 8)\n",
      "\n",
      "Creating or updating distance features in meters...\n",
      "\n",
      "...Sorting by id and datetime to increase performance\n",
      "\n",
      "...Set id as index to increase attribution performance\n",
      "\n"
     ]
    },
    {
     "name": "stderr",
     "output_type": "stream",
     "text": [
      "Generating distance, time and speed features: 100%|████████████████████████████████████| 1/1 [00:00<00:00, 1002.46it/s]\n"
     ]
    },
    {
     "name": "stdout",
     "output_type": "stream",
     "text": [
      "...Reset index\n",
      "\n",
      "..Total Time: 0.016954421997070312\n",
      "------------------------------------------\n",
      "\n",
      "\n",
      "Creating or updating distance, time and speed features in meters by seconds\n",
      "\n",
      "...Sorting by segment_stop and datetime to increase performance\n",
      "\n",
      "...Set segment_stop as index to a higher peformance\n",
      "\n"
     ]
    },
    {
     "name": "stderr",
     "output_type": "stream",
     "text": [
      "Generating distance features: 100%|████████████████████████████████████████████████████| 3/3 [00:00<00:00, 3017.48it/s]\n"
     ]
    },
    {
     "name": "stdout",
     "output_type": "stream",
     "text": [
      "...Reset index...\n",
      "\n",
      "..Total Time: 0.016\n",
      "Create or update stop as True or False\n",
      "...Creating stop features as True or False using 0.5 to time in seconds\n",
      "True     3\n",
      "False    2\n",
      "Name: stop, dtype: int64\n",
      "\n",
      "Total Time: 0.09 seconds\n",
      "-----------------------------------------------------\n",
      "\n",
      "...setting mean to lat and lon...\n",
      "...move segments will be dropped...\n",
      "...get only segments stop...\n"
     ]
    },
    {
     "name": "stderr",
     "output_type": "stream",
     "text": [
      "Generating segment_stop and stop: 100%|██████████████████████████████████████████████████| 1/1 [00:00<00:00, 77.13it/s]\n"
     ]
    },
    {
     "name": "stdout",
     "output_type": "stream",
     "text": [
      "...Dropping 3 points...\n",
      "...Shape_before: 5\n",
      "...Current shape: 2\n",
      "-----------------------------------------------------\n",
      "\n",
      "Split trajectories by max distance between adjacent points: 3.5\n",
      "\n",
      "Creating or updating distance features in meters...\n",
      "\n",
      "...Sorting by id and datetime to increase performance\n",
      "\n",
      "...Set id as index to increase attribution performance\n",
      "\n"
     ]
    },
    {
     "name": "stderr",
     "output_type": "stream",
     "text": [
      "Generating distance, time and speed features: 100%|██████████████████████████████████████████████| 1/1 [00:00<?, ?it/s]\n"
     ]
    },
    {
     "name": "stdout",
     "output_type": "stream",
     "text": [
      "...Reset index\n",
      "\n",
      "..Total Time: 0.015956640243530273\n",
      "...setting id as index\n"
     ]
    },
    {
     "name": "stderr",
     "output_type": "stream",
     "text": [
      "Generating segment_stop: 100%|█████████████████████████████████████████████████████████| 1/1 [00:00<00:00, 1003.90it/s]\n"
     ]
    },
    {
     "name": "stdout",
     "output_type": "stream",
     "text": [
      "... Reseting index\n",
      "...No trajs with only one point. (5, 8)\n",
      "\n",
      "Creating or updating distance features in meters...\n",
      "\n",
      "...Sorting by id and datetime to increase performance\n",
      "\n",
      "...Set id as index to increase attribution performance\n",
      "\n"
     ]
    },
    {
     "name": "stderr",
     "output_type": "stream",
     "text": [
      "Generating distance, time and speed features: 100%|████████████████████████████████████| 1/1 [00:00<00:00, 1009.95it/s]\n"
     ]
    },
    {
     "name": "stdout",
     "output_type": "stream",
     "text": [
      "...Reset index\n",
      "\n",
      "..Total Time: 0.019962072372436523\n",
      "------------------------------------------\n",
      "\n",
      "\n",
      "Creating or updating distance, time and speed features in meters by seconds\n",
      "\n",
      "...Sorting by segment_stop and datetime to increase performance\n",
      "\n",
      "...Set segment_stop as index to a higher peformance\n",
      "\n"
     ]
    },
    {
     "name": "stderr",
     "output_type": "stream",
     "text": [
      "Generating distance features: 100%|████████████████████████████████████████████████████| 3/3 [00:00<00:00, 1492.63it/s]\n"
     ]
    },
    {
     "name": "stdout",
     "output_type": "stream",
     "text": [
      "...Reset index...\n",
      "\n",
      "..Total Time: 0.018\n",
      "Create or update stop as True or False\n",
      "...Creating stop features as True or False using 0.5 to time in seconds\n",
      "True     3\n",
      "False    2\n",
      "Name: stop, dtype: int64\n",
      "\n",
      "Total Time: 0.09 seconds\n",
      "-----------------------------------------------------\n",
      "\n",
      "...setting mean to lat and lon...\n",
      "...move segments will be dropped...\n",
      "...get only segments stop...\n"
     ]
    },
    {
     "name": "stderr",
     "output_type": "stream",
     "text": [
      "Generating segment_stop and stop: 100%|██████████████████████████████████████████████████| 1/1 [00:00<00:00, 77.13it/s]\n"
     ]
    },
    {
     "name": "stdout",
     "output_type": "stream",
     "text": [
      "...Dropping 3 points...\n",
      "...Shape_before: 5\n",
      "...Current shape: 2\n",
      "-----------------------------------------------------\n",
      "\n"
     ]
    }
   ],
   "source": [
    "test_compress_segment_stop_to_point_optimizer()"
   ]
  },
  {
   "cell_type": "code",
   "execution_count": null,
   "metadata": {},
   "outputs": [],
   "source": []
  },
  {
   "cell_type": "code",
   "execution_count": null,
   "metadata": {},
   "outputs": [],
   "source": []
  }
 ],
 "metadata": {
  "kernelspec": {
   "display_name": "Python 3",
   "language": "python",
   "name": "python3"
  },
  "language_info": {
   "codemirror_mode": {
    "name": "ipython",
    "version": 3
   },
   "file_extension": ".py",
   "mimetype": "text/x-python",
   "name": "python",
   "nbconvert_exporter": "python",
   "pygments_lexer": "ipython3",
   "version": "3.7.1"
  }
 },
 "nbformat": 4,
 "nbformat_minor": 2
}
