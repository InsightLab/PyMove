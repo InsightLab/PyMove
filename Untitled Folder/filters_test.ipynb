{
 "cells": [
  {
   "cell_type": "code",
   "execution_count": 1,
   "metadata": {},
   "outputs": [],
   "source": [
    "from pymove import test_filters"
   ]
  },
  {
   "cell_type": "code",
   "execution_count": 2,
   "metadata": {},
   "outputs": [],
   "source": [
    "test_filters.test_by_bbox()"
   ]
  },
  {
   "cell_type": "code",
   "execution_count": 3,
   "metadata": {},
   "outputs": [],
   "source": [
    "test_filters.test_by_datetime()"
   ]
  },
  {
   "cell_type": "code",
   "execution_count": 4,
   "metadata": {},
   "outputs": [],
   "source": [
    "test_filters.test_by_label()"
   ]
  },
  {
   "cell_type": "code",
   "execution_count": 5,
   "metadata": {},
   "outputs": [],
   "source": [
    "test_filters.test_by_id()"
   ]
  },
  {
   "cell_type": "code",
   "execution_count": 6,
   "metadata": {},
   "outputs": [
    {
     "name": "stdout",
     "output_type": "stream",
     "text": [
      "\n",
      "Creating or updating distance features in meters...\n",
      "\n",
      "...Sorting by id and datetime to increase performance\n",
      "\n",
      "...Set id as index to increase attribution performance\n",
      "\n"
     ]
    },
    {
     "name": "stderr",
     "output_type": "stream",
     "text": [
      "Generating distance, time and speed features: 100%|█████████████████████████████████████| 1/1 [00:00<00:00, 502.43it/s]\n"
     ]
    },
    {
     "name": "stdout",
     "output_type": "stream",
     "text": [
      "...Reset index\n",
      "\n",
      "..Total Time: 0.03518533706665039\n",
      "...Filtering jumps \n",
      "\n",
      "...Filtering jumps \n",
      "\n",
      "...Reset index for filtering\n",
      "\n",
      "...Filtering jumps \n",
      "\n"
     ]
    }
   ],
   "source": [
    "test_filters.test_outliers()"
   ]
  },
  {
   "cell_type": "code",
   "execution_count": 7,
   "metadata": {},
   "outputs": [
    {
     "name": "stdout",
     "output_type": "stream",
     "text": [
      "\n",
      "Remove rows duplicates by subset\n",
      "...Sorting by id and datetime to increase performance\n",
      "\n",
      "...There are 1 GPS points duplicated\n",
      "\n",
      "Remove rows duplicates by subset\n",
      "...Sorting by id and datetime to increase performance\n",
      "\n",
      "...There are 1 GPS points duplicated\n",
      "\n",
      "Remove rows duplicates by subset\n",
      "...Sorting by id and datetime to increase performance\n",
      "\n",
      "...There are 2 GPS points duplicated\n"
     ]
    }
   ],
   "source": [
    "test_filters.test_clean_duplicates()"
   ]
  },
  {
   "cell_type": "code",
   "execution_count": 8,
   "metadata": {},
   "outputs": [],
   "source": [
    "test_filters.test_clean_nan_values()"
   ]
  },
  {
   "cell_type": "code",
   "execution_count": 9,
   "metadata": {},
   "outputs": [
    {
     "name": "stdout",
     "output_type": "stream",
     "text": [
      "\n",
      "Creating or updating distance features in meters...\n",
      "\n",
      "...Sorting by id and datetime to increase performance\n",
      "\n",
      "...Set id as index to increase attribution performance\n",
      "\n"
     ]
    },
    {
     "name": "stderr",
     "output_type": "stream",
     "text": [
      "Generating distance, time and speed features: 100%|█████████████████████████████████████| 1/1 [00:00<00:00, 501.59it/s]\n"
     ]
    },
    {
     "name": "stdout",
     "output_type": "stream",
     "text": [
      "...Reset index\n",
      "\n",
      "..Total Time: 0.027889013290405273\n",
      "\n",
      "Cleaning gps jumps by distance to jump_coefficient 1...\n",
      "\n",
      "...Filtering jumps \n",
      "\n",
      "...Dropping 1 rows of gps points\n",
      "\n",
      "...Rows before: 5, Rows after:4, Sum drop:1\n",
      "\n",
      "...Filtering jumps \n",
      "\n",
      "1 GPS points were dropped\n",
      "\n",
      "Creating or updating distance features in meters...\n",
      "\n",
      "...Sorting by id and datetime to increase performance\n",
      "\n",
      "...Set id as index to increase attribution performance\n",
      "\n"
     ]
    },
    {
     "name": "stderr",
     "output_type": "stream",
     "text": [
      "Generating distance, time and speed features: 100%|█████████████████████████████████████| 1/1 [00:00<00:00, 477.00it/s]\n"
     ]
    },
    {
     "name": "stdout",
     "output_type": "stream",
     "text": [
      "...Reset index\n",
      "\n",
      "..Total Time: 0.02777099609375\n",
      "\n",
      "Cleaning gps jumps by distance to jump_coefficient 1...\n",
      "\n",
      "...Filtering jumps \n",
      "\n",
      "...Dropping 1 rows of gps points\n",
      "\n",
      "...Rows before: 5, Rows after:4, Sum drop:1\n",
      "\n",
      "...Filtering jumps \n",
      "\n",
      "1 GPS points were dropped\n"
     ]
    }
   ],
   "source": [
    "test_filters.test_clean_gps_jumps_by_distance()"
   ]
  },
  {
   "cell_type": "code",
   "execution_count": 10,
   "metadata": {},
   "outputs": [
    {
     "name": "stdout",
     "output_type": "stream",
     "text": [
      "\n",
      "Creating or updating distance features in meters...\n",
      "\n",
      "...Sorting by id and datetime to increase performance\n",
      "\n",
      "...Set id as index to increase attribution performance\n",
      "\n"
     ]
    },
    {
     "name": "stderr",
     "output_type": "stream",
     "text": [
      "Generating distance, time and speed features: 100%|████████████████████████████████████| 1/1 [00:00<00:00, 1003.66it/s]\n"
     ]
    },
    {
     "name": "stdout",
     "output_type": "stream",
     "text": [
      "...Reset index\n",
      "\n",
      "..Total Time: 0.017952442169189453\n",
      "\n",
      "Cleaning gps points from radius of 10.0 meters\n",
      "\n",
      "...Dropping 3 gps points\n",
      "\n",
      "...Rows before: 5, Rows after:2\n",
      "\n",
      "3 GPS points were dropped\n",
      "\n",
      "Creating or updating distance features in meters...\n",
      "\n",
      "...Sorting by id and datetime to increase performance\n",
      "\n",
      "...Set id as index to increase attribution performance\n",
      "\n"
     ]
    },
    {
     "name": "stderr",
     "output_type": "stream",
     "text": [
      "Generating distance, time and speed features: 100%|█████████████████████████████████████| 1/1 [00:00<00:00, 738.04it/s]\n"
     ]
    },
    {
     "name": "stdout",
     "output_type": "stream",
     "text": [
      "...Reset index\n",
      "\n",
      "..Total Time: 0.019644498825073242\n",
      "\n",
      "Cleaning gps points from radius of 10.0 meters\n",
      "\n",
      "...Dropping 3 gps points\n",
      "\n",
      "...Rows before: 5, Rows after:2\n",
      "\n",
      "3 GPS points were dropped\n"
     ]
    }
   ],
   "source": [
    "test_filters.test_clean_gps_nearby_points_by_distances()"
   ]
  },
  {
   "cell_type": "code",
   "execution_count": 11,
   "metadata": {},
   "outputs": [
    {
     "name": "stdout",
     "output_type": "stream",
     "text": [
      "\n",
      "Creating or updating distance, time and speed features in meters by seconds\n",
      "\n",
      "...Sorting by id and datetime to increase performance\n",
      "\n",
      "...Set id as index to a higher peformance\n",
      "\n"
     ]
    },
    {
     "name": "stderr",
     "output_type": "stream",
     "text": [
      "Generating distance features: 100%|█████████████████████████████████████████████████████| 1/1 [00:00<00:00, 501.35it/s]\n"
     ]
    },
    {
     "name": "stdout",
     "output_type": "stream",
     "text": [
      "...Reset index...\n",
      "\n",
      "..Total Time: 0.020\n",
      "\n",
      "Cleaning gps points using 20.0 speed radius\n",
      "\n",
      "...Dropping 4 gps points\n",
      "\n",
      "...Rows before: 5, Rows after:1\n",
      "\n",
      "4 GPS points were dropped\n",
      "\n",
      "Creating or updating distance, time and speed features in meters by seconds\n",
      "\n",
      "...Sorting by id and datetime to increase performance\n",
      "\n",
      "...Set id as index to a higher peformance\n",
      "\n"
     ]
    },
    {
     "name": "stderr",
     "output_type": "stream",
     "text": [
      "Generating distance features: 100%|█████████████████████████████████████████████████████| 1/1 [00:00<00:00, 446.54it/s]\n"
     ]
    },
    {
     "name": "stdout",
     "output_type": "stream",
     "text": [
      "...Reset index...\n",
      "\n",
      "..Total Time: 0.027\n",
      "\n",
      "Cleaning gps points using 20.0 speed radius\n",
      "\n",
      "...Dropping 4 gps points\n",
      "\n",
      "...Rows before: 5, Rows after:1\n",
      "\n",
      "4 GPS points were dropped\n"
     ]
    }
   ],
   "source": [
    "test_filters.test_clean_gps_nearby_points_by_speed()"
   ]
  },
  {
   "cell_type": "code",
   "execution_count": 12,
   "metadata": {},
   "outputs": [
    {
     "name": "stdout",
     "output_type": "stream",
     "text": [
      "\n",
      "Creating or updating distance, time and speed features in meters by seconds\n",
      "\n",
      "...Sorting by id and datetime to increase performance\n",
      "\n",
      "...Set id as index to a higher peformance\n",
      "\n"
     ]
    },
    {
     "name": "stderr",
     "output_type": "stream",
     "text": [
      "Generating distance features: 100%|█████████████████████████████████████████████████████| 1/1 [00:00<00:00, 302.38it/s]\n"
     ]
    },
    {
     "name": "stdout",
     "output_type": "stream",
     "text": [
      "...Reset index...\n",
      "\n",
      "..Total Time: 0.047\n",
      "\n",
      "Clean gps points with speed max > 0.33 meters by seconds\n",
      "...Dropping 3 rows of jumps by speed max\n",
      "\n",
      "...Rows before: 5, Rows after:2\n",
      "\n",
      "3 GPS points were dropped\n",
      "\n",
      "Creating or updating distance, time and speed features in meters by seconds\n",
      "\n",
      "...Sorting by id and datetime to increase performance\n",
      "\n",
      "...Set id as index to a higher peformance\n",
      "\n"
     ]
    },
    {
     "name": "stderr",
     "output_type": "stream",
     "text": [
      "Generating distance features: 100%|█████████████████████████████████████████████████████| 1/1 [00:00<00:00, 205.75it/s]\n"
     ]
    },
    {
     "name": "stdout",
     "output_type": "stream",
     "text": [
      "...Reset index...\n",
      "\n",
      "..Total Time: 0.052\n",
      "\n",
      "Clean gps points with speed max > 0.33 meters by seconds\n",
      "...Dropping 3 rows of jumps by speed max\n",
      "\n",
      "...Rows before: 5, Rows after:2\n",
      "\n",
      "3 GPS points were dropped\n"
     ]
    }
   ],
   "source": [
    "test_filters.test_clean_gps_speed_max_radius()"
   ]
  },
  {
   "cell_type": "code",
   "execution_count": 13,
   "metadata": {},
   "outputs": [
    {
     "name": "stdout",
     "output_type": "stream",
     "text": [
      "\n",
      "Creating or updating tid feature...\n",
      "\n",
      "...Sorting by id and datetime to increase performance\n",
      "\n",
      "\n",
      "...tid feature was created...\n",
      "\n",
      "\n",
      "Cleaning gps points from trajectories of fewer than 6 points\n",
      "\n",
      "\n",
      "...There are 1 ids with few points\n",
      "\n",
      "...Tids before drop: 1\n",
      "\n",
      "...Tids after drop: 0\n",
      "\n",
      "...Shape - before drop: (5, 5) - after drop: (0, 5)\n",
      "\n",
      "Creating or updating tid feature...\n",
      "\n",
      "...Sorting by id and datetime to increase performance\n",
      "\n",
      "\n",
      "...tid feature was created...\n",
      "\n",
      "\n",
      "Cleaning gps points from trajectories of fewer than 6 points\n",
      "\n",
      "\n",
      "...There are 1 ids with few points\n",
      "\n",
      "...Tids before drop: 1\n",
      "\n",
      "...Tids after drop: 0\n",
      "\n",
      "...Shape - before drop: (5, 5) - after drop: (0, 5)\n"
     ]
    }
   ],
   "source": [
    "test_filters.test_clean_trajectories_with_few_points()"
   ]
  },
  {
   "cell_type": "code",
   "execution_count": 14,
   "metadata": {},
   "outputs": [
    {
     "name": "stdout",
     "output_type": "stream",
     "text": [
      "\n",
      "Creating or updating distance, time and speed features in meters by seconds\n",
      "\n",
      "...Sorting by id and datetime to increase performance\n",
      "\n",
      "...Set id as index to a higher peformance\n",
      "\n"
     ]
    },
    {
     "name": "stderr",
     "output_type": "stream",
     "text": [
      "Generating distance features:   0%|                                                              | 0/2 [00:00<?, ?it/s]C:\\Users\\Arina\\Desktop\\PyMove\\pymove\\core\\dataframe.py:1097: RuntimeWarning: invalid value encountered in true_divide\n",
      "  data_.at[idx, DIST_TO_PREV] / time_prev\n",
      "Generating distance features: 100%|█████████████████████████████████████████████████████| 2/2 [00:00<00:00, 287.15it/s]\n"
     ]
    },
    {
     "name": "stdout",
     "output_type": "stream",
     "text": [
      "...Reset index...\n",
      "\n",
      "..Total Time: 0.033\n",
      "\n",
      "Clean gps points with time max by id < 1.0 seconds\n",
      "...Ids total: 2\n",
      "Ids to drop:1\n",
      "...Rows before drop: 4\n",
      " Rows after drop: 2\n"
     ]
    }
   ],
   "source": [
    "test_filters.test_clean_id_by_time_max()"
   ]
  },
  {
   "cell_type": "code",
   "execution_count": 15,
   "metadata": {},
   "outputs": [
    {
     "ename": "SyntaxError",
     "evalue": "invalid syntax (<ipython-input-15-a3cff80ddb49>, line 1)",
     "output_type": "error",
     "traceback": [
      "\u001b[1;36m  File \u001b[1;32m\"<ipython-input-15-a3cff80ddb49>\"\u001b[1;36m, line \u001b[1;32m1\u001b[0m\n\u001b[1;33m    test_filters.\u001b[0m\n\u001b[1;37m                 ^\u001b[0m\n\u001b[1;31mSyntaxError\u001b[0m\u001b[1;31m:\u001b[0m invalid syntax\n"
     ]
    }
   ],
   "source": [
    "test_filters."
   ]
  },
  {
   "cell_type": "code",
   "execution_count": null,
   "metadata": {},
   "outputs": [],
   "source": [
    "test_filters."
   ]
  },
  {
   "cell_type": "code",
   "execution_count": null,
   "metadata": {},
   "outputs": [],
   "source": [
    "test_filters."
   ]
  },
  {
   "cell_type": "code",
   "execution_count": null,
   "metadata": {},
   "outputs": [],
   "source": []
  },
  {
   "cell_type": "code",
   "execution_count": null,
   "metadata": {},
   "outputs": [],
   "source": []
  },
  {
   "cell_type": "code",
   "execution_count": null,
   "metadata": {},
   "outputs": [],
   "source": []
  },
  {
   "cell_type": "code",
   "execution_count": null,
   "metadata": {},
   "outputs": [],
   "source": []
  }
 ],
 "metadata": {
  "kernelspec": {
   "display_name": "Python 3",
   "language": "python",
   "name": "python3"
  },
  "language_info": {
   "codemirror_mode": {
    "name": "ipython",
    "version": 3
   },
   "file_extension": ".py",
   "mimetype": "text/x-python",
   "name": "python",
   "nbconvert_exporter": "python",
   "pygments_lexer": "ipython3",
   "version": "3.7.1"
  }
 },
 "nbformat": 4,
 "nbformat_minor": 2
}
