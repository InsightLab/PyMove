{
 "cells": [
  {
   "cell_type": "code",
   "execution_count": 1,
   "metadata": {},
   "outputs": [],
   "source": [
    "from pymove import MoveDataFrame\n",
    "import pymove\n",
    "import pandas as pd\n",
    "from numpy.testing import assert_array_equal\n",
    "import numpy as np"
   ]
  },
  {
   "cell_type": "code",
   "execution_count": 2,
   "metadata": {},
   "outputs": [],
   "source": [
    "list_data = [[39.984094, 116.319236, '2008-10-23 05:53:05', 1],\n",
    "             [39.984198, 116.319322, '2008-10-23 05:53:06', 1],\n",
    "             [39.984224, 116.319402, '2008-10-23 05:53:11', 2], \n",
    "             [39.984224, 116.319402, '2008-10-23 05:53:11', 2]]\n",
    "move_df = MoveDataFrame(data=list_data, latitude=\"lat\", longitude=\"lon\", datetime=\"datetime\", traj_id=\"id\")"
   ]
  },
  {
   "cell_type": "code",
   "execution_count": null,
   "metadata": {},
   "outputs": [],
   "source": [
    "def test_loc():\n",
    "    assert move_df.loc[0,'id'] == 1\n",
    "    assert_array_equal(move_df.loc[move_df['lon'] > 116.319321].astype(str), [['39.984222', '116.319405', '2008-10-23 05:53:11', '2'],\n",
    "                                                                              ['39.984222', '116.319405', '2008-10-23 05:53:11', '2']])"
   ]
  },
  {
   "cell_type": "code",
   "execution_count": null,
   "metadata": {},
   "outputs": [],
   "source": [
    "test_loc()"
   ]
  },
  {
   "cell_type": "code",
   "execution_count": null,
   "metadata": {},
   "outputs": [],
   "source": [
    "def test_iloc():\n",
    "    assert move_df.iloc[0].all() == move_df.loc[0].all()\n",
    "    assert_array_equal(move_df.iloc[:3], move_df.loc[:2])"
   ]
  },
  {
   "cell_type": "code",
   "execution_count": null,
   "metadata": {},
   "outputs": [],
   "source": [
    "test_iloc()"
   ]
  },
  {
   "cell_type": "code",
   "execution_count": null,
   "metadata": {},
   "outputs": [],
   "source": [
    "def test_at():\n",
    "    assert move_df.at[0, 'id'] == 1"
   ]
  },
  {
   "cell_type": "code",
   "execution_count": null,
   "metadata": {},
   "outputs": [],
   "source": [
    "test_at()"
   ]
  },
  {
   "cell_type": "code",
   "execution_count": null,
   "metadata": {},
   "outputs": [],
   "source": [
    "def test_values():\n",
    "    assert_array_equal(move_df.values, [[39.984092712402344, 116.3192367553711,\n",
    "                                        pd.Timestamp('2008-10-23 05:53:05'), 1],\n",
    "                                       [39.98419952392578, 116.31932067871094,\n",
    "                                        pd.Timestamp('2008-10-23 05:53:06'), 1],\n",
    "                                       [39.984222412109375, 116.31940460205078,\n",
    "                                        pd.Timestamp('2008-10-23 05:53:11'), 2],\n",
    "                                       [39.984222412109375, 116.31940460205078,\n",
    "                                        pd.Timestamp('2008-10-23 05:53:11'), 2]])"
   ]
  },
  {
   "cell_type": "code",
   "execution_count": null,
   "metadata": {},
   "outputs": [],
   "source": [
    "test_values()"
   ]
  },
  {
   "cell_type": "code",
   "execution_count": null,
   "metadata": {},
   "outputs": [],
   "source": [
    "def test_columns():\n",
    "    assert_array_equal(move_df.columns, ['lat', 'lon', 'datetime', 'id'])"
   ]
  },
  {
   "cell_type": "code",
   "execution_count": null,
   "metadata": {},
   "outputs": [],
   "source": [
    "test_columns()"
   ]
  },
  {
   "cell_type": "code",
   "execution_count": null,
   "metadata": {},
   "outputs": [],
   "source": [
    "def test_index():\n",
    "    assert_array_equal(move_df.index, [0, 1, 2, 3])"
   ]
  },
  {
   "cell_type": "code",
   "execution_count": null,
   "metadata": {},
   "outputs": [],
   "source": [
    "test_index()"
   ]
  },
  {
   "cell_type": "code",
   "execution_count": null,
   "metadata": {},
   "outputs": [],
   "source": [
    "def test_dtypes():\n",
    "    assert move_df.dtypes.astype(str).tolist() == ['float32', 'float32', 'datetime64[ns]', 'int64']"
   ]
  },
  {
   "cell_type": "code",
   "execution_count": null,
   "metadata": {},
   "outputs": [],
   "source": [
    "test_dtypes()"
   ]
  },
  {
   "cell_type": "code",
   "execution_count": null,
   "metadata": {},
   "outputs": [],
   "source": [
    "def test_shape():\n",
    "    assert move_df.shape == (4,4)    "
   ]
  },
  {
   "cell_type": "code",
   "execution_count": null,
   "metadata": {},
   "outputs": [],
   "source": [
    "test_shape()"
   ]
  },
  {
   "cell_type": "code",
   "execution_count": null,
   "metadata": {},
   "outputs": [],
   "source": [
    "def test_len():\n",
    "    assert move_df.len() == 4"
   ]
  },
  {
   "cell_type": "code",
   "execution_count": null,
   "metadata": {},
   "outputs": [],
   "source": [
    "test_len()"
   ]
  },
  {
   "cell_type": "code",
   "execution_count": null,
   "metadata": {},
   "outputs": [],
   "source": [
    "def test_head():\n",
    "    assert_array_equal(move_df.head(2), [[39.984092712402344, 116.3192367553711,\n",
    "                                          pd.Timestamp('2008-10-23 05:53:05'), 1],\n",
    "                                          [39.98419952392578, 116.31932067871094,\n",
    "                                          pd.Timestamp('2008-10-23 05:53:06'), 1]])\n",
    "    assert_array_equal(move_df.head(-1).values, [[39.984092712402344, 116.3192367553711,\n",
    "                                                 pd.Timestamp('2008-10-23 05:53:05'), 1],\n",
    "                                                 [39.98419952392578, 116.31932067871094,\n",
    "                                                 pd.Timestamp('2008-10-23 05:53:06'), 1],\n",
    "                                                 [39.984222412109375, 116.31940460205078,\n",
    "                                                 pd.Timestamp('2008-10-23 05:53:11'), 2]])    "
   ]
  },
  {
   "cell_type": "code",
   "execution_count": null,
   "metadata": {},
   "outputs": [],
   "source": [
    "test_head()"
   ]
  },
  {
   "cell_type": "code",
   "execution_count": null,
   "metadata": {},
   "outputs": [],
   "source": [
    "def test_time_interval():\n",
    "    assert move_df.time_interval() == pd.Timedelta('0 days 00:00:06')"
   ]
  },
  {
   "cell_type": "code",
   "execution_count": null,
   "metadata": {},
   "outputs": [],
   "source": [
    "test_time_interval()"
   ]
  },
  {
   "cell_type": "code",
   "execution_count": null,
   "metadata": {},
   "outputs": [],
   "source": [
    "def test_get_bbox():\n",
    "    assert_array_equal(str(move_df.get_bbox()), str((39.984093, 116.31924, 39.984222, 116.319405)))"
   ]
  },
  {
   "cell_type": "code",
   "execution_count": null,
   "metadata": {},
   "outputs": [],
   "source": [
    "test_get_bbox()"
   ]
  },
  {
   "cell_type": "code",
   "execution_count": null,
   "metadata": {},
   "outputs": [],
   "source": [
    "def test_min():\n",
    "    assert_array_equal(move_df.min(),[39.984092712402344, 116.3192367553711, pd.Timestamp('2008-10-23 05:53:05'), 1])"
   ]
  },
  {
   "cell_type": "code",
   "execution_count": null,
   "metadata": {},
   "outputs": [],
   "source": [
    "test_min()"
   ]
  },
  {
   "cell_type": "code",
   "execution_count": null,
   "metadata": {},
   "outputs": [],
   "source": [
    "def test_max():\n",
    "    assert_array_equal(move_df.max(), [39.984222412109375, 116.31940460205078, pd.Timestamp('2008-10-23 05:53:11'), 2])"
   ]
  },
  {
   "cell_type": "code",
   "execution_count": null,
   "metadata": {},
   "outputs": [],
   "source": [
    "test_max()"
   ]
  },
  {
   "cell_type": "code",
   "execution_count": null,
   "metadata": {},
   "outputs": [],
   "source": [
    "def test_count():\n",
    "    assert_array_equal(move_df.count(), [4,4,4,4])"
   ]
  },
  {
   "cell_type": "code",
   "execution_count": null,
   "metadata": {},
   "outputs": [],
   "source": [
    "test_count()"
   ]
  },
  {
   "cell_type": "code",
   "execution_count": null,
   "metadata": {},
   "outputs": [],
   "source": [
    "def test_group_by():\n",
    "    assert_array_equal(move_df.groupby('id').mean().astype(str), [[ '39.984146', '116.319275'],\n",
    "                                                              [ '39.984222', '116.319405']])"
   ]
  },
  {
   "cell_type": "code",
   "execution_count": null,
   "metadata": {},
   "outputs": [],
   "source": [
    "test_group_by()"
   ]
  },
  {
   "cell_type": "code",
   "execution_count": null,
   "metadata": {},
   "outputs": [],
   "source": [
    "def test_select_dtypes():\n",
    "    assert_array_equal(move_df.select_dtypes(include='int64'), [[1],[1],[2],[2]])"
   ]
  },
  {
   "cell_type": "code",
   "execution_count": null,
   "metadata": {},
   "outputs": [],
   "source": [
    "test_select_dtypes()"
   ]
  },
  {
   "cell_type": "code",
   "execution_count": null,
   "metadata": {},
   "outputs": [],
   "source": [
    "def test_astype():"
   ]
  },
  {
   "cell_type": "code",
   "execution_count": null,
   "metadata": {},
   "outputs": [],
   "source": [
    "def test_sort_values():\n",
    "    move_df.loc[0,'id'] = 4\n",
    "    sorted_move_df = move_df.sort_values(by=['id'])\n",
    "    assert_array_equal(sorted_move_df, [[39.98419952392578, 116.31932067871094,\n",
    "                                        pd.Timestamp('2008-10-23 05:53:06'), 1],\n",
    "                                       [39.984222412109375, 116.31940460205078,\n",
    "                                        pd.Timestamp('2008-10-23 05:53:11'), 2],\n",
    "                                       [39.984222412109375, 116.31940460205078,\n",
    "                                        pd.Timestamp('2008-10-23 05:53:11'), 2],\n",
    "                                       [39.984092712402344, 116.3192367553711,\n",
    "                                        pd.Timestamp('2008-10-23 05:53:05'), 4]])\n",
    "    move_df.loc[0, 'id']=1\n"
   ]
  },
  {
   "cell_type": "code",
   "execution_count": null,
   "metadata": {},
   "outputs": [],
   "source": [
    "test_sort_values()"
   ]
  },
  {
   "cell_type": "code",
   "execution_count": null,
   "metadata": {},
   "outputs": [],
   "source": [
    "def test_drop():\n",
    "    move_df['user_id'] = [1, 1, 2, 3]\n",
    "    move_test = move_df.drop('user_id', axis=1)\n",
    "    assert 'user_id' not in move_test\n",
    "    assert 'user_id' in move_df\n",
    "    \n",
    "    move_test = move_df.drop([0, 1])\n",
    "    assert move_test.len() == 2\n",
    "    \n",
    "    move_df.drop(columns=['user_id'], axis=1, inplace=True)\n",
    "    assert 'user_id' not in move_df\n",
    "    \n",
    "    error_msg = \"Could not drop columns lat, lon, and datetime.\"\n",
    "\n",
    "    try:\n",
    "        move_df.drop(columns=['lat'], axis=1, inplace=True)\n",
    "        raise AssertionError(\"AttributeError error not raised by MoveDataFrame\")            \n",
    "    except AttributeError as e:\n",
    "        pass\n",
    "\n",
    "    try:\n",
    "        move_df.drop(columns=['lon'], axis=1, inplace=True)\n",
    "        raise AssertionError(\"AttributeError error not raised by MoveDataFrame\")            \n",
    "    except AttributeError as e:\n",
    "        pass\n",
    "    \n",
    "    try:\n",
    "        move_df.drop(columns=['datetime'], axis=1, inplace=True)\n",
    "        raise AssertionError(\"AttributeError error not raised by MoveDataFrame\")            \n",
    "    except AttributeError as e:\n",
    "        pass\n",
    "    \n",
    "    assert type(move_df) is pymove.core.dataframe.PandasMoveDataFrame\n",
    "    "
   ]
  },
  {
   "cell_type": "code",
   "execution_count": null,
   "metadata": {},
   "outputs": [],
   "source": [
    "def test_duplicated():\n",
    "    assert_array_equal(move_df.duplicated('id'), [False,  True, False,  True])\n",
    "    assert_array_equal(move_df.duplicated(subset=['datetime'], keep='last'), [False, False,  True, False])\n",
    "    "
   ]
  },
  {
   "cell_type": "code",
   "execution_count": null,
   "metadata": {},
   "outputs": [],
   "source": [
    "test_duplicated()"
   ]
  },
  {
   "cell_type": "code",
   "execution_count": null,
   "metadata": {},
   "outputs": [],
   "source": [
    "def test_drop_duplicated():\n",
    "    list_data = [[39.984094, 116.319236, '2008-10-23 05:53:05', 1],\n",
    "             [39.984198, 116.319322, '2008-10-23 05:53:06', 1],\n",
    "             [39.984224, 116.319402, '2008-10-23 05:53:11', 2], \n",
    "             [39.984224, 116.319402, '2008-10-23 05:53:11', 2]]\n",
    "    move_df_test = MoveDataFrame(data=list_data, latitude=\"lat\", longitude=\"lon\", datetime=\"datetime\", traj_id=\"id\")\n",
    "    \n",
    "    move_test = move_df.drop_duplicates()\n",
    "    assert_array_equal(move_test, [[39.984092712402344, 116.3192367553711,\n",
    "                                    pd.Timestamp('2008-10-23 05:53:05'), 1],\n",
    "                                   [39.98419952392578, 116.31932067871094,\n",
    "                                    pd.Timestamp('2008-10-23 05:53:06'), 1],\n",
    "                                   [39.984222412109375, 116.31940460205078,\n",
    "                                    pd.Timestamp('2008-10-23 05:53:11'), 2]])\n",
    "    assert type(move_df_test) is pymove.core.dataframe.PandasMoveDataFrame\n",
    "\n",
    "    move_df_test.drop_duplicates(inplace=True)\n",
    "    print(move_df_test)\n",
    "    assert_array_equal(move_df_test, [[39.984092712402344, 116.3192367553711,\n",
    "                                    pd.Timestamp('2008-10-23 05:53:05'), 1],\n",
    "                                   [39.98419952392578, 116.31932067871094,\n",
    "                                    pd.Timestamp('2008-10-23 05:53:06'), 1],\n",
    "                                   [39.984222412109375, 116.31940460205078,\n",
    "                                    pd.Timestamp('2008-10-23 05:53:11'), 2]])    "
   ]
  },
  {
   "cell_type": "code",
   "execution_count": null,
   "metadata": {},
   "outputs": [],
   "source": [
    "test_drop_duplicated()"
   ]
  },
  {
   "cell_type": "code",
   "execution_count": null,
   "metadata": {},
   "outputs": [],
   "source": [
    "def test_convert_to():\n",
    "    assert move_df.get_type() == 'pandas'\n",
    "    move_df_dask = move_df.convert_to('dask')\n",
    "    assert move_df_dask.get_type() == 'dask'\n",
    "    move_df_pandas = move_df_dask.convert_to('pandas')\n",
    "    assert move_df_pandas.get_type() == 'pandas'\n",
    "    move_df_pandas = move_df_dask.convert_to('pandas')\n",
    "    assert move_df_pandas.get_type() == 'pandas'    "
   ]
  },
  {
   "cell_type": "code",
   "execution_count": null,
   "metadata": {},
   "outputs": [],
   "source": [
    "test_convert_to()"
   ]
  },
  {
   "cell_type": "code",
   "execution_count": null,
   "metadata": {},
   "outputs": [],
   "source": [
    "def test_get_type():\n",
    "    assert move_df.get_type() == 'pandas'\n",
    "    move_df_dask = move_df.convert_to('dask')\n",
    "    assert move_df_dask.get_type() == 'dask'"
   ]
  },
  {
   "cell_type": "code",
   "execution_count": null,
   "metadata": {},
   "outputs": [],
   "source": [
    "test_get_type()"
   ]
  },
  {
   "cell_type": "code",
   "execution_count": null,
   "metadata": {},
   "outputs": [],
   "source": [
    "def test_all():\n",
    "    assert_array_equal(move_df.all(), [True, True, True, True])"
   ]
  },
  {
   "cell_type": "code",
   "execution_count": null,
   "metadata": {},
   "outputs": [],
   "source": [
    "test_all()"
   ]
  },
  {
   "cell_type": "code",
   "execution_count": null,
   "metadata": {},
   "outputs": [],
   "source": [
    "def test_any():\n",
    "    assert_array_equal(move_df.all(), [True, True, True, True])\n",
    "    move_df['teste'] = [False, True, True, True]\n",
    "    assert_array_equal(move_df.all(), [True, True, True, True, False])\n",
    "    move_df.drop('teste',axis=1)"
   ]
  },
  {
   "cell_type": "code",
   "execution_count": null,
   "metadata": {},
   "outputs": [],
   "source": [
    "test_any()"
   ]
  },
  {
   "cell_type": "code",
   "execution_count": null,
   "metadata": {},
   "outputs": [],
   "source": [
    "list_data = [[39.984094, 116.319236, '2008-10-23 05:53:05', 1],\n",
    "             [39.984198, 116.319322, '2008-10-23 05:53:06', 1],\n",
    "             [39.984224, 116.319402, '2008-10-23 05:53:11', 2], \n",
    "             [39.984224, 116.319402, '2008-10-23 05:53:11', 2]]\n",
    "move_df_nan = MoveDataFrame(data=list_data, latitude=\"lat\", longitude=\"lon\", datetime=\"datetime\", traj_id=\"id\")"
   ]
  },
  {
   "cell_type": "code",
   "execution_count": null,
   "metadata": {},
   "outputs": [],
   "source": [
    "move_df_nan"
   ]
  },
  {
   "cell_type": "code",
   "execution_count": null,
   "metadata": {},
   "outputs": [],
   "source": [
    "move_df_nan.len()"
   ]
  },
  {
   "cell_type": "code",
   "execution_count": null,
   "metadata": {},
   "outputs": [],
   "source": [
    "def test_isna():\n",
    "    test = move_df_nan.isna()\n",
    "    assert test.any(axis=None) == False\n",
    "    move_df_nan.loc[0,'lat'] = np.nan\n",
    "    test = move_df_nan.isna()  \n",
    "    assert test.any(axis=None) == True"
   ]
  },
  {
   "cell_type": "code",
   "execution_count": null,
   "metadata": {},
   "outputs": [],
   "source": [
    "test_isna()"
   ]
  },
  {
   "cell_type": "code",
   "execution_count": null,
   "metadata": {},
   "outputs": [],
   "source": [
    "move_df_nan"
   ]
  },
  {
   "cell_type": "code",
   "execution_count": null,
   "metadata": {},
   "outputs": [],
   "source": [
    "def test_fillna():\n",
    "    test =move_df_nan.fillna(0)\n",
    "    assert test.isna().any(axis=None) == False\n",
    "    assert test.get_type() == 'pandas'\n",
    "    assert move_df_nan.isna().any(axis=None) == True"
   ]
  },
  {
   "cell_type": "code",
   "execution_count": null,
   "metadata": {},
   "outputs": [],
   "source": [
    "test_fillna()"
   ]
  },
  {
   "cell_type": "code",
   "execution_count": null,
   "metadata": {},
   "outputs": [],
   "source": [
    "move_df_nan"
   ]
  },
  {
   "cell_type": "code",
   "execution_count": null,
   "metadata": {},
   "outputs": [],
   "source": [
    "def test_dropna():\n",
    "    test =  move_df_nan.dropna()\n",
    "    assert test.len() == 3\n",
    "    assert test.get_type() == 'pandas'\n",
    "\n",
    "    move_df_nan.dropna(inplace=True)\n",
    "    assert move_df_nan.len() == 3"
   ]
  },
  {
   "cell_type": "code",
   "execution_count": null,
   "metadata": {},
   "outputs": [],
   "source": [
    "test_dropna()"
   ]
  },
  {
   "cell_type": "code",
   "execution_count": null,
   "metadata": {},
   "outputs": [],
   "source": [
    "move_df_nan"
   ]
  },
  {
   "cell_type": "code",
   "execution_count": null,
   "metadata": {},
   "outputs": [],
   "source": [
    "def test_sample():\n",
    "    sample_test = move_df['lat'].sample(n=3, random_state=1)\n",
    "    assert_array_equal(sample_test.astype(str), ['39.984222', '39.984222', '39.984093'])\n",
    "    "
   ]
  },
  {
   "cell_type": "code",
   "execution_count": null,
   "metadata": {},
   "outputs": [],
   "source": [
    "test_sample()"
   ]
  },
  {
   "cell_type": "code",
   "execution_count": null,
   "metadata": {},
   "outputs": [],
   "source": [
    "def test_isin():\n",
    "    move_df_copy = move_df.copy()\n",
    "    assert move_df.isin(move_df_copy).all(axis=None) == True\n",
    "    move_df_copy.loc[0,'lat'] = 0\n",
    "    assert move_df.isin(move_df_copy).all(axis=None) == False\n"
   ]
  },
  {
   "cell_type": "code",
   "execution_count": null,
   "metadata": {},
   "outputs": [],
   "source": [
    "test_isin()"
   ]
  },
  {
   "cell_type": "code",
   "execution_count": null,
   "metadata": {},
   "outputs": [],
   "source": [
    "def test_append():\n",
    "    assert_array_equal(move_df.append(move_df).values, [[39.984092712402344, 116.3192367553711,\n",
    "                                                        pd.Timestamp('2008-10-23 05:53:05'), 1],\n",
    "                                                       [39.98419952392578, 116.31932067871094,\n",
    "                                                        pd.Timestamp('2008-10-23 05:53:06'), 1],\n",
    "                                                       [39.984222412109375, 116.31940460205078,\n",
    "                                                        pd.Timestamp('2008-10-23 05:53:11'), 2],\n",
    "                                                       [39.984222412109375, 116.31940460205078,\n",
    "                                                        pd.Timestamp('2008-10-23 05:53:11'), 2],\n",
    "                                                       [39.984092712402344, 116.3192367553711,\n",
    "                                                        pd.Timestamp('2008-10-23 05:53:05'), 1],\n",
    "                                                       [39.98419952392578, 116.31932067871094,\n",
    "                                                        pd.Timestamp('2008-10-23 05:53:06'), 1],\n",
    "                                                       [39.984222412109375, 116.31940460205078,\n",
    "                                                        pd.Timestamp('2008-10-23 05:53:11'), 2],\n",
    "                                                       [39.984222412109375, 116.31940460205078,\n",
    "                                                        pd.Timestamp('2008-10-23 05:53:11'), 2]])    \n",
    "    "
   ]
  },
  {
   "cell_type": "code",
   "execution_count": null,
   "metadata": {},
   "outputs": [],
   "source": [
    "test_append()"
   ]
  },
  {
   "cell_type": "code",
   "execution_count": null,
   "metadata": {},
   "outputs": [],
   "source": [
    "move_df"
   ]
  },
  {
   "cell_type": "code",
   "execution_count": null,
   "metadata": {},
   "outputs": [],
   "source": [
    "def test_nunique():\n",
    "    assert_array_equal(move_df.nunique().values, [3, 3, 3, 2])"
   ]
  },
  {
   "cell_type": "code",
   "execution_count": null,
   "metadata": {},
   "outputs": [],
   "source": [
    "test_nunique()"
   ]
  },
  {
   "cell_type": "code",
   "execution_count": null,
   "metadata": {},
   "outputs": [],
   "source": [
    "def test_join():\n",
    "    move_df_test = MoveDataFrame(data=list_data, latitude=\"lat\", longitude=\"lon\", datetime=\"datetime\", traj_id=\"id\")\n",
    "    other = pd.DataFrame({'key': ['K0', 'K1', 'K2']})\n",
    "    result = move_df_test.join(other)\n",
    "    assert_array_equal(result['key'].astype(str), ['K0', 'K1', 'K2', 'nan'])    "
   ]
  },
  {
   "cell_type": "code",
   "execution_count": null,
   "metadata": {},
   "outputs": [],
   "source": [
    "test_join()"
   ]
  },
  {
   "cell_type": "code",
   "execution_count": null,
   "metadata": {},
   "outputs": [],
   "source": [
    "def test_shift():\n",
    "    "
   ]
  },
  {
   "cell_type": "code",
   "execution_count": null,
   "metadata": {},
   "outputs": [],
   "source": [
    "def test_astype():\n",
    "    move_df.lat = move_df.lat.astype('float64')\n",
    "    assert move_df.dtypes.lat == 'float64'\n",
    "    move_df.lat = move_df.lat.astype('float32')\n",
    "    assert move_df.dtypes.lat == 'float32'"
   ]
  },
  {
   "cell_type": "code",
   "execution_count": null,
   "metadata": {},
   "outputs": [],
   "source": [
    "test_astype()"
   ]
  },
  {
   "cell_type": "code",
   "execution_count": null,
   "metadata": {},
   "outputs": [],
   "source": [
    "def test_set_index():\n",
    "    move_test = move_df.set_index('id')\n",
    "    assert move_test.index.name == 'id'\n",
    "    assert move_test.get_type() == 'pandas'\n",
    "    assert move_df.index.name != 'id'  \n",
    "    \n",
    "    move_df.set_index(keys = 'id', inplace=True)\n",
    "    assert move_df.index.name == 'id'\n",
    "        \n",
    "    error_msg = \"Could not change lat, lon, and datetime type.\"\n",
    "\n",
    "    try:\n",
    "        move_df.set_index(keys='lat', drop=True, inplace= True)\n",
    "        raise AssertionError(\"AttributeError error not raised by MoveDataFrame\")            \n",
    "    except AttributeError as e:\n",
    "        pass\n",
    "    "
   ]
  },
  {
   "cell_type": "code",
   "execution_count": null,
   "metadata": {},
   "outputs": [],
   "source": [
    "test_set_index()"
   ]
  },
  {
   "cell_type": "code",
   "execution_count": null,
   "metadata": {},
   "outputs": [],
   "source": [
    "move_df"
   ]
  },
  {
   "cell_type": "code",
   "execution_count": null,
   "metadata": {},
   "outputs": [],
   "source": [
    "def test_reset_index():\n",
    "    move_test = move_df.reset_index()\n",
    "    assert move_test.index.name != 'id'\n",
    "    assert move_test.get_type() == 'pandas'\n",
    "    assert move_df.index.name == 'id'  \n",
    "    \n",
    "    move_df.reset_index(inplace=True)\n",
    "    assert move_df.index.name != 'id'"
   ]
  },
  {
   "cell_type": "code",
   "execution_count": null,
   "metadata": {},
   "outputs": [],
   "source": [
    "test_reset_index()"
   ]
  },
  {
   "cell_type": "code",
   "execution_count": null,
   "metadata": {},
   "outputs": [],
   "source": [
    "def test_unique():\n",
    "    assert_array_equal(move_df.id.unique(), [1,2])"
   ]
  },
  {
   "cell_type": "code",
   "execution_count": null,
   "metadata": {},
   "outputs": [],
   "source": [
    "test_unique()"
   ]
  },
  {
   "cell_type": "code",
   "execution_count": 7,
   "metadata": {},
   "outputs": [],
   "source": [
    "def test_write_file():\n",
    "    import pymove\n",
    "    move_df.write_file('pymove/tests/test_file.csv')\n",
    "    move_df_test = pymove.read_csv('pymove/tests/test_file.csv')\n",
    "    assert_array_equal(move_df.values, move_df_test.values)"
   ]
  },
  {
   "cell_type": "code",
   "execution_count": 8,
   "metadata": {},
   "outputs": [],
   "source": [
    "test_write_file()"
   ]
  },
  {
   "cell_type": "code",
   "execution_count": 23,
   "metadata": {},
   "outputs": [],
   "source": [
    "def test_to_csv():\n",
    "    import pymove\n",
    "    move_df.to_csv(file_name='pymove/tests/test_csv_file.csv', index = False)\n",
    "    move_df_test = pymove.read_csv('pymove/tests/test_csv_file.csv')\n",
    "    assert_array_equal(move_df.values, move_df_test.values)"
   ]
  },
  {
   "cell_type": "code",
   "execution_count": 24,
   "metadata": {},
   "outputs": [],
   "source": [
    "test_to_csv()"
   ]
  },
  {
   "cell_type": "code",
   "execution_count": null,
   "metadata": {},
   "outputs": [],
   "source": []
  },
  {
   "cell_type": "code",
   "execution_count": null,
   "metadata": {},
   "outputs": [],
   "source": []
  }
 ],
 "metadata": {
  "kernelspec": {
   "display_name": "Python 3",
   "language": "python",
   "name": "python3"
  },
  "language_info": {
   "codemirror_mode": {
    "name": "ipython",
    "version": 3
   },
   "file_extension": ".py",
   "mimetype": "text/x-python",
   "name": "python",
   "nbconvert_exporter": "python",
   "pygments_lexer": "ipython3",
   "version": "3.7.1"
  }
 },
 "nbformat": 4,
 "nbformat_minor": 2
}
