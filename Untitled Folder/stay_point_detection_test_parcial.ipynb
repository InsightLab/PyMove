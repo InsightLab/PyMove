{
 "cells": [
  {
   "cell_type": "code",
   "execution_count": 134,
   "metadata": {},
   "outputs": [],
   "source": [
    "from pymove import stay_point_detection\n",
    "from pymove import MoveDataFrame\n",
    "import numpy as np\n",
    "from numpy.testing import assert_array_equal\n",
    "import pandas as pd"
   ]
  },
  {
   "cell_type": "code",
   "execution_count": 135,
   "metadata": {},
   "outputs": [],
   "source": [
    "list_data = [[39.984094, 116.319236, '2008-10-23 05:53:05', 1],\n",
    "             [39.984198, 116.319322, '2008-10-23 05:53:06', 1],\n",
    "             [39.984224, 116.319402, '2008-10-23 05:53:11', 2], \n",
    "             [39.984224, 116.319402, '2008-10-23 05:53:11', 2]]"
   ]
  },
  {
   "cell_type": "code",
   "execution_count": 136,
   "metadata": {},
   "outputs": [],
   "source": [
    "list_data_test =[[39.984093, 116.319237, '2008-10-23 05:53:05', 1],\n",
    "                 [39.984200, 116.319321, '2008-10-23 05:53:06', 1],\n",
    "                 [39.984222, 116.319405, '2008-10-23 05:53:11', 1],\n",
    "                 [39.984211, 116.319389,'2008-10-23 05:53:16', 1],\n",
    "                 [39.984219, 116.319420, '2008-10-23 05:53:21', 1]]\n",
    "move_df = MoveDataFrame(data=list_data_test, latitude=\"lat\", longitude=\"lon\", datetime=\"datetime\", traj_id=\"id\")"
   ]
  },
  {
   "cell_type": "code",
   "execution_count": 69,
   "metadata": {},
   "outputs": [],
   "source": [
    "def test_create_update_datetime_in_format_cyclical():\n",
    "    stay_point_detection.create_update_datetime_in_format_cyclical(move_df)\n",
    "    assert_array_equal(move_df['hour_sin'], [0.9790840876823229, 0.9790840876823229, 0.9790840876823229,\n",
    "                                            0.9790840876823229,0.9790840876823229])\n",
    "    assert_array_equal(move_df['hour_cos'], [0.20345601305263375,0.20345601305263375,0.20345601305263375,\n",
    "                                             0.20345601305263375,0.20345601305263375])\n",
    "    move_df.drop(['hour_sin', 'hour_cos'], axis=1, inplace=True)"
   ]
  },
  {
   "cell_type": "code",
   "execution_count": 70,
   "metadata": {},
   "outputs": [
    {
     "name": "stdout",
     "output_type": "stream",
     "text": [
      "Encoding cyclical continuous features - 24-hour time\n",
      "...hour_sin and  hour_cos features were created...\n",
      "\n"
     ]
    }
   ],
   "source": [
    "test_create_update_datetime_in_format_cyclical()"
   ]
  },
  {
   "cell_type": "code",
   "execution_count": 132,
   "metadata": {},
   "outputs": [],
   "source": [
    "def test_create_or_update_move_stop_by_dist_time():\n",
    "    df_move = MoveDataFrame(data=list_data_test, latitude=\"lat\", longitude=\"lon\", datetime=\"datetime\", traj_id=\"id\")\n",
    "    stay_point_detection.create_or_update_move_stop_by_dist_time(df_move, dist_radius=3.5, time_radius=0.5)  \n",
    "    assert_array_equal(df_move['stop'], [False, False, True, True, True])"
   ]
  },
  {
   "cell_type": "code",
   "execution_count": 133,
   "metadata": {},
   "outputs": [
    {
     "name": "stdout",
     "output_type": "stream",
     "text": [
      "Split trajectories by max distance between adjacent points: 3.5\n",
      "\n",
      "Creating or updating distance features in meters...\n",
      "\n",
      "...Sorting by id and datetime to increase performance\n",
      "\n",
      "...Set id as index to increase attribution performance\n",
      "\n",
      "(5/5) 100% in 00:00:00.000 - estimated end in 00:00:00.000\n",
      "...Reset index\n",
      "\n",
      "..Total Time: 0.0049936771392822266\n",
      "...setting id as index\n",
      "(5/5) 100% in 00:00:00.000 - estimated end in 00:00:00.000\n",
      "... Reseting index\n",
      "\n",
      "Total Time: 0.01 seconds\n",
      "------------------------------------------\n",
      "\n",
      "\n",
      "Creating or updating distance, time and speed features in meters by seconds\n",
      "\n",
      "...Sorting by segment_stop and datetime to increase performance\n",
      "\n",
      "...Set segment_stop as index to a higher peformance\n",
      "\n",
      "(3/5) 60% in 00:00:00.017 - estimated end in 00:00:00.011\n",
      "...Reset index...\n",
      "\n",
      "..Total Time: 0.025\n",
      "Create or update stop as True or False\n",
      "...Creating stop features as True or False using 0.5 to time in seconds\n",
      "True     3\n",
      "False    2\n",
      "Name: stop, dtype: int64\n",
      "\n",
      "Total Time: 0.09 seconds\n",
      "-----------------------------------------------------\n",
      "\n"
     ]
    }
   ],
   "source": [
    "test_create_or_update_move_stop_by_dist_time()"
   ]
  },
  {
   "cell_type": "code",
   "execution_count": 149,
   "metadata": {},
   "outputs": [],
   "source": [
    "def test_create_update_move_and_stop_by_radius():\n",
    "    stay_point_detection.create_update_move_and_stop_by_radius(move_df, radius=4.0)  \n",
    "    assert_array_equal(move_df['situation'].astype(str), ['nan', 'move', 'move', 'stop', 'stop'])"
   ]
  },
  {
   "cell_type": "code",
   "execution_count": 150,
   "metadata": {},
   "outputs": [
    {
     "name": "stdout",
     "output_type": "stream",
     "text": [
      "\n",
      "Creating or updating features MOVE and STOPS...\n",
      "\n",
      "\n",
      "....There are 2 stops to this parameters\n",
      "\n"
     ]
    }
   ],
   "source": [
    "test_create_update_move_and_stop_by_radius()"
   ]
  },
  {
   "cell_type": "code",
   "execution_count": null,
   "metadata": {},
   "outputs": [],
   "source": []
  },
  {
   "cell_type": "code",
   "execution_count": null,
   "metadata": {},
   "outputs": [],
   "source": []
  }
 ],
 "metadata": {
  "kernelspec": {
   "display_name": "Python 3",
   "language": "python",
   "name": "python3"
  },
  "language_info": {
   "codemirror_mode": {
    "name": "ipython",
    "version": 3
   },
   "file_extension": ".py",
   "mimetype": "text/x-python",
   "name": "python",
   "nbconvert_exporter": "python",
   "pygments_lexer": "ipython3",
   "version": "3.7.1"
  }
 },
 "nbformat": 4,
 "nbformat_minor": 2
}
